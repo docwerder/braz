{
 "cells": [
  {
   "cell_type": "code",
   "execution_count": 1,
   "metadata": {},
   "outputs": [
    {
     "name": "stdout",
     "output_type": "stream",
     "text": [
      "{\"message\":\"You are not subscribed to this API.\"}\n"
     ]
    }
   ],
   "source": [
    "import requests\n",
    "\n",
    "url = \"https://papi-pornstarsapi.p.rapidapi.com/pornstars/\"\n",
    "\n",
    "querystring = {\"max_cup_size\":\"A\",\"min_age\":\"34\",\"max_age\":\"34\",\"hair\":\"red\"}\n",
    "\n",
    "headers = {\n",
    "    'x-rapidapi-host': \"papi-pornstarsapi.p.rapidapi.com\",\n",
    "    'x-rapidapi-key': \"<<<INSERT YOUR API KEY HERE>>>\"\n",
    "    }\n",
    "\n",
    "response = requests.request(\"GET\", url, headers=headers, params=querystring)\n",
    "\n",
    "print(response.text)"
   ]
  },
  {
   "cell_type": "code",
   "execution_count": 32,
   "metadata": {},
   "outputs": [
    {
     "ename": "AttributeError",
     "evalue": "'int' object has no attribute 'lower'",
     "output_type": "error",
     "traceback": [
      "\u001b[0;31m---------------------------------------------------------------------------\u001b[0m",
      "\u001b[0;31mAttributeError\u001b[0m                            Traceback (most recent call last)",
      "Cell \u001b[0;32mIn [32], line 3\u001b[0m\n\u001b[1;32m      1\u001b[0m \u001b[38;5;28;01mfrom\u001b[39;00m \u001b[38;5;21;01mphlib\u001b[39;00m \u001b[38;5;28;01mimport\u001b[39;00m PornHub\n\u001b[1;32m      2\u001b[0m ph \u001b[38;5;241m=\u001b[39m PornHub()\n\u001b[0;32m----> 3\u001b[0m \u001b[38;5;28mprint\u001b[39m(\u001b[43mph\u001b[49m\u001b[43m[\u001b[49m\u001b[38;5;241;43m0\u001b[39;49m\u001b[43m]\u001b[49m)\n",
      "File \u001b[0;32m~/opt/anaconda3/envs/pyside2_dev/lib/python3.10/site-packages/phlib.py:108\u001b[0m, in \u001b[0;36mPornHub.__getitem__\u001b[0;34m(self, key)\u001b[0m\n\u001b[1;32m    106\u001b[0m \u001b[39mdef\u001b[39;00m \u001b[39m__getitem__\u001b[39m(\u001b[39mself\u001b[39m, key):\n\u001b[1;32m    107\u001b[0m     \u001b[39mfor\u001b[39;00m cat \u001b[39min\u001b[39;00m \u001b[39mself\u001b[39m\u001b[39m.\u001b[39mcategories:\n\u001b[0;32m--> 108\u001b[0m         \u001b[39mif\u001b[39;00m cat\u001b[39m.\u001b[39mtitle\u001b[39m.\u001b[39mlower() \u001b[39m==\u001b[39m key\u001b[39m.\u001b[39;49mlower():\n\u001b[1;32m    109\u001b[0m             \u001b[39mreturn\u001b[39;00m cat\n",
      "\u001b[0;31mAttributeError\u001b[0m: 'int' object has no attribute 'lower'"
     ]
    }
   ],
   "source": [
    "from phlib import PornHub\n",
    "ph = PornHub()\n",
    "print(ph[0])\n",
    "# cat = _\n",
    "# cat.videos(max=25)"
   ]
  },
  {
   "cell_type": "code",
   "execution_count": 37,
   "metadata": {},
   "outputs": [
    {
     "name": "stdout",
     "output_type": "stream",
     "text": [
      "<Category title='Interracial'>\n"
     ]
    }
   ],
   "source": [
    "# for lf in ph.categories:\n",
    "#     print(lf)\n",
    "#     # if lf == 'Category title='British''\n",
    "print(type(ph.categories[4]))"
   ]
  },
  {
   "cell_type": "code",
   "execution_count": null,
   "metadata": {},
   "outputs": [],
   "source": [
    "gorgo = 1\n",
    "\n",
    "def myfunc(param1, param2):\n",
    "    pass\n",
    "import pandas as pd\n"
   ]
  },
  {
   "cell_type": "code",
   "execution_count": 4,
   "metadata": {},
   "outputs": [
    {
     "name": "stdout",
     "output_type": "stream",
     "text": [
      "+----+-------+-------+\n",
      "|    |   dgh |   ghg |\n",
      "|----+-------+-------|\n",
      "|  0 |     2 |    56 |\n",
      "|  1 |     4 |    32 |\n",
      "|  2 |     6 |    88 |\n",
      "+----+-------+-------+\n"
     ]
    }
   ],
   "source": [
    "# print('func: var = {}'.format(var))\n",
    "from tabulate import tabulate\n",
    "import pandas as pd\n",
    "\n",
    "di = {'dgh': [2, 4, 6],\n",
    "          'ghg': [56, 32, 88]}\n",
    "di_ = pd.DataFrame(di)\n",
    "print(tabulate(di_, headers='keys', tablefmt='psql'))\n",
    "\n"
   ]
  },
  {
   "cell_type": "code",
   "execution_count": null,
   "metadata": {},
   "outputs": [],
   "source": []
  }
 ],
 "metadata": {
  "kernelspec": {
   "display_name": "Python 3.10.6 ('pyside2_dev')",
   "language": "python",
   "name": "python3"
  },
  "language_info": {
   "codemirror_mode": {
    "name": "ipython",
    "version": 3
   },
   "file_extension": ".py",
   "mimetype": "text/x-python",
   "name": "python",
   "nbconvert_exporter": "python",
   "pygments_lexer": "ipython3",
   "version": "3.10.6"
  },
  "orig_nbformat": 4,
  "vscode": {
   "interpreter": {
    "hash": "52867ee1f7e3b1f93523cdfe2d5d91084b6fa11775e78fca1f22649f7620b014"
   }
  }
 },
 "nbformat": 4,
 "nbformat_minor": 2
}
