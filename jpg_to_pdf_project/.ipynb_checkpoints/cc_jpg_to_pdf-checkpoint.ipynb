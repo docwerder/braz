{
 "cells": [
  {
   "cell_type": "code",
   "execution_count": 11,
   "id": "68d8b47c",
   "metadata": {},
   "outputs": [],
   "source": [
    "import os\n",
    "from natsort import natsorted\n",
    "import img2pdf"
   ]
  },
  {
   "cell_type": "code",
   "execution_count": 522,
   "id": "28a15f66",
   "metadata": {},
   "outputs": [],
   "source": [
    "ccc_folder = '/Users/joerg/Downloads/ccc_test'\n",
    "# for root, dirs, files in sorted(os.walk(ccc_folder, topdown=False)):\n",
    "#     print('root: ',  root)\n",
    "#     print('dirs: ',  dirs)\n",
    "#     print('files: ',  files)\n",
    "# for above_dir in sorted(os.listdir(ccc_folder)):\n",
    "#     print(sorted(os.listdir(os.path.join(ccc_folder, above_dir))))\n"
   ]
  },
  {
   "cell_type": "code",
   "execution_count": null,
   "id": "5debb649",
   "metadata": {},
   "outputs": [],
   "source": [
    "with open(\"cc110.pdf\", \"wb\") as f:\n",
    "    f.write(img2pdf.convert([i for i in sorted(os.listdir()) if i.endswith(\".jpg\")]))"
   ]
  },
  {
   "cell_type": "code",
   "execution_count": 35,
   "id": "825fb78e",
   "metadata": {},
   "outputs": [
    {
     "name": "stdout",
     "output_type": "stream",
     "text": [
      "/Volumes/WERDERNAS2X/VIDEOS2X/festplatten_content/COLORCLIMAX/temp_for_python\n"
     ]
    }
   ],
   "source": [
    "#cd '/Volumes/WERDERNAS2X/VIDEOS2X/festplatten_content/COLORCLIMAX/temp_for_python'\n",
    "cc_folder = '/Volumes/WERDERNAS2X/VIDEOS2X/festplatten_content/COLORCLIMAX/temp_for_python'  \n",
    "print(cc_folder)"
   ]
  },
  {
   "cell_type": "code",
   "execution_count": 98,
   "id": "90e12f22",
   "metadata": {},
   "outputs": [
    {
     "name": "stdout",
     "output_type": "stream",
     "text": [
      "[['Story001', 'Story002', 'Story003'], [], [], []]\n",
      "story001\n",
      "story002\n",
      "story003\n"
     ]
    }
   ],
   "source": [
    "\n",
    "ccc = [dir for rot, dir, files in os.walk(cc_folder)]\n",
    "print(ccc)\n",
    "jpg_list = [x.lower() for x in ccc[0]]\n",
    "\n",
    "for single_file in list(jpg_list):\n",
    "    print(single_file)"
   ]
  },
  {
   "cell_type": "code",
   "execution_count": 116,
   "id": "89529d21",
   "metadata": {},
   "outputs": [
    {
     "data": {
      "text/plain": [
       "'/Volumes/WERDERNAS2X/VIDEOS2X/festplatten_content/COLORCLIMAX/temp_for_python/Story001'"
      ]
     },
     "execution_count": 116,
     "metadata": {},
     "output_type": "execute_result"
    }
   ],
   "source": [
    "pwd"
   ]
  },
  {
   "cell_type": "code",
   "execution_count": 118,
   "id": "57abf499",
   "metadata": {},
   "outputs": [
    {
     "ename": "ImageOpenError",
     "evalue": "cannot read input image (not jpeg2000). PIL: error reading image: cannot identify image file <_io.BytesIO object at 0x7f8640ad2ea0>",
     "output_type": "error",
     "traceback": [
      "\u001b[0;31m---------------------------------------------------------------------------\u001b[0m",
      "\u001b[0;31mUnidentifiedImageError\u001b[0m                    Traceback (most recent call last)",
      "\u001b[0;32m~/opt/anaconda3/envs/python38/lib/python3.8/site-packages/img2pdf.py\u001b[0m in \u001b[0;36mread_images\u001b[0;34m(rawdata, colorspace, first_frame_only)\u001b[0m\n\u001b[1;32m   1351\u001b[0m     \u001b[0;32mtry\u001b[0m\u001b[0;34m:\u001b[0m\u001b[0;34m\u001b[0m\u001b[0;34m\u001b[0m\u001b[0m\n\u001b[0;32m-> 1352\u001b[0;31m         \u001b[0mimgdata\u001b[0m \u001b[0;34m=\u001b[0m \u001b[0mImage\u001b[0m\u001b[0;34m.\u001b[0m\u001b[0mopen\u001b[0m\u001b[0;34m(\u001b[0m\u001b[0mim\u001b[0m\u001b[0;34m)\u001b[0m\u001b[0;34m\u001b[0m\u001b[0;34m\u001b[0m\u001b[0m\n\u001b[0m\u001b[1;32m   1353\u001b[0m     \u001b[0;32mexcept\u001b[0m \u001b[0mIOError\u001b[0m \u001b[0;32mas\u001b[0m \u001b[0me\u001b[0m\u001b[0;34m:\u001b[0m\u001b[0;34m\u001b[0m\u001b[0;34m\u001b[0m\u001b[0m\n",
      "\u001b[0;32m~/opt/anaconda3/envs/python38/lib/python3.8/site-packages/PIL/Image.py\u001b[0m in \u001b[0;36mopen\u001b[0;34m(fp, mode, formats)\u001b[0m\n\u001b[1;32m   2966\u001b[0m         \u001b[0mwarnings\u001b[0m\u001b[0;34m.\u001b[0m\u001b[0mwarn\u001b[0m\u001b[0;34m(\u001b[0m\u001b[0mmessage\u001b[0m\u001b[0;34m)\u001b[0m\u001b[0;34m\u001b[0m\u001b[0;34m\u001b[0m\u001b[0m\n\u001b[0;32m-> 2967\u001b[0;31m     raise UnidentifiedImageError(\n\u001b[0m\u001b[1;32m   2968\u001b[0m         \u001b[0;34m\"cannot identify image file %r\"\u001b[0m \u001b[0;34m%\u001b[0m \u001b[0;34m(\u001b[0m\u001b[0mfilename\u001b[0m \u001b[0;32mif\u001b[0m \u001b[0mfilename\u001b[0m \u001b[0;32melse\u001b[0m \u001b[0mfp\u001b[0m\u001b[0;34m)\u001b[0m\u001b[0;34m\u001b[0m\u001b[0;34m\u001b[0m\u001b[0m\n",
      "\u001b[0;31mUnidentifiedImageError\u001b[0m: cannot identify image file <_io.BytesIO object at 0x7f8640ad2ea0>",
      "\nDuring handling of the above exception, another exception occurred:\n",
      "\u001b[0;31mImageOpenError\u001b[0m                            Traceback (most recent call last)",
      "\u001b[0;32m<ipython-input-118-791959199a3e>\u001b[0m in \u001b[0;36m<module>\u001b[0;34m\u001b[0m\n\u001b[1;32m      2\u001b[0m \u001b[0moutput_file\u001b[0m \u001b[0;34m=\u001b[0m \u001b[0;34m'/Volumes/WERDERNAS2X/VIDEOS2X/festplatten_content/COLORCLIMAX/temp_for_python/Story001/cc110.pdf'\u001b[0m\u001b[0;34m\u001b[0m\u001b[0;34m\u001b[0m\u001b[0m\n\u001b[1;32m      3\u001b[0m \u001b[0;32mwith\u001b[0m \u001b[0mopen\u001b[0m\u001b[0;34m(\u001b[0m\u001b[0moutput_file\u001b[0m\u001b[0;34m,\u001b[0m \u001b[0;34m\"wb\"\u001b[0m\u001b[0;34m)\u001b[0m \u001b[0;32mas\u001b[0m \u001b[0mf\u001b[0m\u001b[0;34m:\u001b[0m\u001b[0;34m\u001b[0m\u001b[0;34m\u001b[0m\u001b[0m\n\u001b[0;32m----> 4\u001b[0;31m     \u001b[0mf\u001b[0m\u001b[0;34m.\u001b[0m\u001b[0mwrite\u001b[0m\u001b[0;34m(\u001b[0m\u001b[0mimg2pdf\u001b[0m\u001b[0;34m.\u001b[0m\u001b[0mconvert\u001b[0m\u001b[0;34m(\u001b[0m\u001b[0;34m[\u001b[0m\u001b[0mi\u001b[0m \u001b[0;32mfor\u001b[0m \u001b[0mi\u001b[0m \u001b[0;32min\u001b[0m \u001b[0msorted\u001b[0m\u001b[0;34m(\u001b[0m\u001b[0mos\u001b[0m\u001b[0;34m.\u001b[0m\u001b[0mlistdir\u001b[0m\u001b[0;34m(\u001b[0m\u001b[0mf1\u001b[0m\u001b[0;34m)\u001b[0m\u001b[0;34m)\u001b[0m \u001b[0;32mif\u001b[0m \u001b[0mi\u001b[0m\u001b[0;34m.\u001b[0m\u001b[0mendswith\u001b[0m\u001b[0;34m(\u001b[0m\u001b[0;34m\".jpg\"\u001b[0m\u001b[0;34m)\u001b[0m\u001b[0;34m]\u001b[0m\u001b[0;34m)\u001b[0m\u001b[0;34m)\u001b[0m\u001b[0;34m\u001b[0m\u001b[0;34m\u001b[0m\u001b[0m\n\u001b[0m\u001b[1;32m      5\u001b[0m \u001b[0;31m#[i for i in sorted(os.listdir(f1)) if i.endswith(\".jpg\")]\u001b[0m\u001b[0;34m\u001b[0m\u001b[0;34m\u001b[0m\u001b[0;34m\u001b[0m\u001b[0m\n",
      "\u001b[0;32m~/opt/anaconda3/envs/python38/lib/python3.8/site-packages/img2pdf.py\u001b[0m in \u001b[0;36mconvert\u001b[0;34m(*images, **kwargs)\u001b[0m\n\u001b[1;32m   2100\u001b[0m             \u001b[0mrotation\u001b[0m\u001b[0;34m,\u001b[0m\u001b[0;34m\u001b[0m\u001b[0;34m\u001b[0m\u001b[0m\n\u001b[1;32m   2101\u001b[0m             \u001b[0miccp\u001b[0m\u001b[0;34m,\u001b[0m\u001b[0;34m\u001b[0m\u001b[0;34m\u001b[0m\u001b[0m\n\u001b[0;32m-> 2102\u001b[0;31m         ) in read_images(rawdata, kwargs[\"colorspace\"], kwargs[\"first_frame_only\"]):\n\u001b[0m\u001b[1;32m   2103\u001b[0m             pagewidth, pageheight, imgwidthpdf, imgheightpdf = kwargs[\"layout_fun\"](\n\u001b[1;32m   2104\u001b[0m                 \u001b[0mimgwidthpx\u001b[0m\u001b[0;34m,\u001b[0m \u001b[0mimgheightpx\u001b[0m\u001b[0;34m,\u001b[0m \u001b[0mndpi\u001b[0m\u001b[0;34m\u001b[0m\u001b[0;34m\u001b[0m\u001b[0m\n",
      "\u001b[0;32m~/opt/anaconda3/envs/python38/lib/python3.8/site-packages/img2pdf.py\u001b[0m in \u001b[0;36mread_images\u001b[0;34m(rawdata, colorspace, first_frame_only)\u001b[0m\n\u001b[1;32m   1354\u001b[0m         \u001b[0;31m# test if it is a jpeg2000 image\u001b[0m\u001b[0;34m\u001b[0m\u001b[0;34m\u001b[0m\u001b[0;34m\u001b[0m\u001b[0m\n\u001b[1;32m   1355\u001b[0m         \u001b[0;32mif\u001b[0m \u001b[0mrawdata\u001b[0m\u001b[0;34m[\u001b[0m\u001b[0;34m:\u001b[0m\u001b[0;36m12\u001b[0m\u001b[0;34m]\u001b[0m \u001b[0;34m!=\u001b[0m \u001b[0;34mb\"\\x00\\x00\\x00\\x0C\\x6A\\x50\\x20\\x20\\x0D\\x0A\\x87\\x0A\"\u001b[0m\u001b[0;34m:\u001b[0m\u001b[0;34m\u001b[0m\u001b[0;34m\u001b[0m\u001b[0m\n\u001b[0;32m-> 1356\u001b[0;31m             raise ImageOpenError(\n\u001b[0m\u001b[1;32m   1357\u001b[0m                 \u001b[0;34m\"cannot read input image (not jpeg2000). \"\u001b[0m\u001b[0;34m\u001b[0m\u001b[0;34m\u001b[0m\u001b[0m\n\u001b[1;32m   1358\u001b[0m                 \u001b[0;34m\"PIL: error reading image: %s\"\u001b[0m \u001b[0;34m%\u001b[0m \u001b[0me\u001b[0m\u001b[0;34m\u001b[0m\u001b[0;34m\u001b[0m\u001b[0m\n",
      "\u001b[0;31mImageOpenError\u001b[0m: cannot read input image (not jpeg2000). PIL: error reading image: cannot identify image file <_io.BytesIO object at 0x7f8640ad2ea0>"
     ]
    }
   ],
   "source": [
    "f1 = '/Volumes/WERDERNAS2X/VIDEOS2X/festplatten_content/COLORCLIMAX/temp_for_python/Story001'\n",
    "output_file = '/Volumes/WERDERNAS2X/VIDEOS2X/festplatten_content/COLORCLIMAX/temp_for_python/Story001/cc110.pdf'\n",
    "with open(output_file, \"wb\") as f:\n",
    "    f.write(img2pdf.convert([i for i in sorted(os.listdir(f1)) if i.endswith(\".jpg\")]))\n",
    "#[i for i in sorted(os.listdir(f1)) if i.endswith(\".jpg\")]"
   ]
  },
  {
   "cell_type": "code",
   "execution_count": 105,
   "id": "c2e95114",
   "metadata": {},
   "outputs": [],
   "source": [
    "\n",
    "# for root, dirs, files in os.walk(cc_folder, topdown=False):\n",
    "#     files = natsorted(files)\n",
    "#     for dir in dirs:\n",
    "#         files_complete = [x for x in os.listdir(dir)]\n",
    "#         #print(files_complete)\n",
    "#         for single_file in files_complete:\n",
    "#             path_single_file = os.path.join(root, dir, single_file)\n",
    "#             print(path_single_file)\n",
    "\n"
   ]
  },
  {
   "cell_type": "code",
   "execution_count": 112,
   "id": "ee1cc0cc",
   "metadata": {},
   "outputs": [
    {
     "name": "stdout",
     "output_type": "stream",
     "text": [
      "\u001b[31mHorny Game.html\u001b[m\u001b[m* \u001b[31mcc110a05.jpg\u001b[m\u001b[m*    \u001b[31mcc110a11.jpg\u001b[m\u001b[m*    \u001b[31mcc110a17.jpg\u001b[m\u001b[m*\r\n",
      "\u001b[31mcc110.pdf\u001b[m\u001b[m*       \u001b[31mcc110a06.jpg\u001b[m\u001b[m*    \u001b[31mcc110a12.jpg\u001b[m\u001b[m*    \u001b[31mcc110a18.jpg\u001b[m\u001b[m*\r\n",
      "\u001b[31mcc110a01.jpg\u001b[m\u001b[m*    \u001b[31mcc110a07.jpg\u001b[m\u001b[m*    \u001b[31mcc110a13.jpg\u001b[m\u001b[m*    \u001b[31mcc110a19.jpg\u001b[m\u001b[m*\r\n",
      "\u001b[31mcc110a02.jpg\u001b[m\u001b[m*    \u001b[31mcc110a08.jpg\u001b[m\u001b[m*    \u001b[31mcc110a14.jpg\u001b[m\u001b[m*    \u001b[31mcc110a20.jpg\u001b[m\u001b[m*\r\n",
      "\u001b[31mcc110a03.jpg\u001b[m\u001b[m*    \u001b[31mcc110a09.jpg\u001b[m\u001b[m*    \u001b[31mcc110a15.jpg\u001b[m\u001b[m*    \u001b[31mcc110a21.jpg\u001b[m\u001b[m*\r\n",
      "\u001b[31mcc110a04.jpg\u001b[m\u001b[m*    \u001b[31mcc110a10.jpg\u001b[m\u001b[m*    \u001b[31mcc110a16.jpg\u001b[m\u001b[m*    \u001b[31mcc110a22.jpg\u001b[m\u001b[m*\r\n"
     ]
    }
   ],
   "source": [
    "ls"
   ]
  },
  {
   "cell_type": "code",
   "execution_count": 111,
   "id": "af5cdc16",
   "metadata": {},
   "outputs": [
    {
     "name": "stdout",
     "output_type": "stream",
     "text": [
      "/Volumes/WERDERNAS2X/VIDEOS2X/festplatten_content/COLORCLIMAX/temp_for_python/Story001\n"
     ]
    }
   ],
   "source": [
    "cd '/Volumes/WERDERNAS2X/VIDEOS2X/festplatten_content/COLORCLIMAX/temp_for_python/Story001'"
   ]
  },
  {
   "cell_type": "code",
   "execution_count": 113,
   "id": "24b0b83f",
   "metadata": {},
   "outputs": [],
   "source": [
    "import os\n",
    "import img2pdf\n",
    "\n",
    "with open(\"cc110.pdf\", \"wb\") as f:\n",
    "    f.write(img2pdf.convert([i for i in sorted(os.listdir()) if i.endswith(\".jpg\")]))\n",
    "    #f.write(img2pdf.convert([i for i in sorted(os.listdir(\"/Users/joerg/OneDrive/jupyter_notebooks/jpg_to_pdf_project/Color Climax Exciting 60/Color Climax Exciting 60\")) if i.endswith(\".jpg\")]))"
   ]
  },
  {
   "cell_type": "code",
   "execution_count": 114,
   "id": "89926fa0",
   "metadata": {},
   "outputs": [
    {
     "data": {
      "text/plain": [
       "['._cc110a01.jpg',\n",
       " '._cc110a02.jpg',\n",
       " '._cc110a08.jpg',\n",
       " 'cc110a01.jpg',\n",
       " 'cc110a02.jpg',\n",
       " 'cc110a03.jpg',\n",
       " 'cc110a04.jpg',\n",
       " 'cc110a05.jpg',\n",
       " 'cc110a06.jpg',\n",
       " 'cc110a07.jpg',\n",
       " 'cc110a08.jpg',\n",
       " 'cc110a09.jpg',\n",
       " 'cc110a10.jpg',\n",
       " 'cc110a11.jpg',\n",
       " 'cc110a12.jpg',\n",
       " 'cc110a13.jpg',\n",
       " 'cc110a14.jpg',\n",
       " 'cc110a15.jpg',\n",
       " 'cc110a16.jpg',\n",
       " 'cc110a17.jpg',\n",
       " 'cc110a18.jpg',\n",
       " 'cc110a19.jpg',\n",
       " 'cc110a20.jpg',\n",
       " 'cc110a21.jpg',\n",
       " 'cc110a22.jpg']"
      ]
     },
     "execution_count": 114,
     "metadata": {},
     "output_type": "execute_result"
    }
   ],
   "source": [
    "[i for i in sorted(os.listdir()) if i.endswith(\".jpg\")]"
   ]
  },
  {
   "cell_type": "code",
   "execution_count": null,
   "id": "359aa3ca",
   "metadata": {},
   "outputs": [],
   "source": []
  },
  {
   "cell_type": "code",
   "execution_count": null,
   "id": "fc44669e",
   "metadata": {},
   "outputs": [],
   "source": [
    "sorted(os.listdir())"
   ]
  },
  {
   "cell_type": "code",
   "execution_count": null,
   "id": "6ba85d44",
   "metadata": {},
   "outputs": [],
   "source": [
    "#My dictionary\n",
    "dict = {}\n",
    "dict['Capital']=\"London\"\n",
    "dict['Food']=\"Fish&Chips\"\n",
    "dict['2012']=\"Olympics\"\n",
    "\n",
    "#lists\n",
    "temp = []\n",
    "dictList = []\n",
    "\n",
    "#My attempt:\n",
    "for schlüssel, wert in dict.items():\n",
    "    temp = [schlüssel,wert]\n",
    "    dictList.append(temp)"
   ]
  },
  {
   "cell_type": "code",
   "execution_count": null,
   "id": "88442d0a",
   "metadata": {},
   "outputs": [],
   "source": [
    "dictList"
   ]
  },
  {
   "cell_type": "code",
   "execution_count": null,
   "id": "b663cf7e",
   "metadata": {},
   "outputs": [],
   "source": [
    "[c for sublist in dictList for c in sublist]"
   ]
  },
  {
   "cell_type": "code",
   "execution_count": null,
   "id": "b18b972f",
   "metadata": {},
   "outputs": [],
   "source": [
    "user_directory = \"/Users/joerg/Downloads\"\n",
    "os.listdir(user_directory)"
   ]
  },
  {
   "cell_type": "code",
   "execution_count": null,
   "id": "cd21e8f7",
   "metadata": {},
   "outputs": [],
   "source": []
  }
 ],
 "metadata": {
  "kernelspec": {
   "display_name": "python38",
   "language": "python",
   "name": "python38"
  },
  "language_info": {
   "codemirror_mode": {
    "name": "ipython",
    "version": 3
   },
   "file_extension": ".py",
   "mimetype": "text/x-python",
   "name": "python",
   "nbconvert_exporter": "python",
   "pygments_lexer": "ipython3",
   "version": "3.8.8"
  }
 },
 "nbformat": 4,
 "nbformat_minor": 5
}
