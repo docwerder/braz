{
 "cells": [
  {
   "cell_type": "code",
   "execution_count": 1,
   "metadata": {},
   "outputs": [
    {
     "data": {
      "text/html": [
       "<style>.container {width:90% !important; } </style>"
      ],
      "text/plain": [
       "<IPython.core.display.HTML object>"
      ]
     },
     "metadata": {},
     "output_type": "display_data"
    }
   ],
   "source": [
    "# Adjusting the code cells\n",
    "# Note: This is only valid for the current notebook!\n",
    "\n",
    "from IPython.core.display import display, HTML\n",
    "display(HTML(\"<style>.container {width:90% !important; } </style>\"))"
   ]
  },
  {
   "cell_type": "code",
   "execution_count": null,
   "metadata": {
    "code_folding": [
     0
    ]
   },
   "outputs": [],
   "source": [
    "#!jt -t grade3 -f source -ofs 12 -T -N\n",
    "#!jt -t grade3 -f firacode -ofs 12 -T -N\n",
    "# Bruttogehalt\n",
    "#!jt -t monokai -f firacode -fs 13 -cellw 85% # -nf ptsans -nfs 11 -N -kl -cursw 2 -cursc r -cellw 85% -T\n",
    "#!jt -t onedork #!jt -t solarizedd -f source -fs 14 -cellw 85% # -nf ptsans -nfs 11 -N -kl -cursw 2 -cursc r #-cellw 85% -T\n",
    "#!jt -r\n",
    "#!jt -- "
   ]
  },
  {
   "cell_type": "code",
   "execution_count": 2,
   "metadata": {},
   "outputs": [],
   "source": [
    "import pandas as pd\n",
    "import os\n",
    "import glob\n",
    "import numpy as np\n",
    "#import qgrid\n",
    "import ipywidgets as wg\n",
    "bra_dir = '/Volumes/WERDERNASX/VIDEOSX/BRAZZERS'\n",
    "bra_dir_2 = '/Volumes/WERDERNAS2X/VIDEOS2X/BRAZZERS2'\n",
    "\n",
    "working_dir = os.path.join(bra_dir,'zzz_working_documents')\n",
    "ps_file_csv = '__bra_ps_overview.csv'\n",
    "ps_file_xlsx = 'bra_ps_overview.xlsx'\n",
    "\n",
    "#ROOT folder: WERDERNASX -----------------\n",
    "\n",
    "bgb_dir = os.path.join(bra_dir,'baby_got_boobs')\n",
    "bblib_dir = os.path.join(bra_dir,'big_butts_like_it_big')\n",
    "btas_dir = os.path.join(bra_dir,'big_tits_at_school')\n",
    "btaw_dir = os.path.join(bra_dir,'big_tits_at_work')\n",
    "btis_dir = os.path.join(bra_dir,'big_tits_in_sports')\n",
    "btiu_dir = os.path.join(bra_dir,'big_tits_in_uniform')\n",
    "bwb_dir = os.path.join(bra_dir,'big_wet_butts')\n",
    "bbex_dir = os.path.join(bra_dir,'brazzers_extra')\n",
    "bzv_dir = os.path.join(bra_dir,'brazzers_vault')\n",
    "cfnm_dir = os.path.join(bra_dir, 'clothed_female_naked_men')\n",
    "dwap_dir = os.path.join(bra_dir, 'day_with_a_pornstar')\n",
    "ddm_dir = os.path.join(bra_dir, 'dirty_masseur')\n",
    "dda_dir = os.path.join(bra_dir, 'doctor_adventures')\n",
    "mlib_dir = os.path.join(bra_dir,'milf_like_it_big')\n",
    "mgb_dir = os.path.join(bra_dir,'mommy_got_boobs')\n",
    "mic_dir = os.path.join(bra_dir,'moms_in_control')\n",
    "plib_dir = os.path.join(bra_dir,'pornstars_like_it_big')\n",
    "rws_dir = os.path.join(bra_dir,'real_wife_stories')\n",
    "sgs_dir = os.path.join(bra_dir,'shes_gonna_squirt')\n",
    "tlib_dir = os.path.join(bra_dir,'teens_like_it_big')\n",
    "\n",
    "\n",
    "#ROOT folder: WERDERNAS2X -----------------\n",
    "\n",
    "bgb_dir_2 = os.path.join(bra_dir_2,'baby_got_boobs')\n",
    "bblib_dir_2 = os.path.join(bra_dir_2,'big_butts_like_it_big')\n",
    "btas_dir_2 = os.path.join(bra_dir_2,'big_tits_at_school')\n",
    "btaw_dir_2 = os.path.join(bra_dir_2,'big_tits_at_work')\n",
    "btis_dir_2 = os.path.join(bra_dir_2,'big_tits_in_sports')\n",
    "btiu_dir_2 = os.path.join(bra_dir_2,'big_tits_in_uniform')\n",
    "bwb_dir_2 = os.path.join(bra_dir_2,'big_wet_butts')\n",
    "bbex_dir_2 = os.path.join(bra_dir_2,'brazzers_extra')\n",
    "bzv_dir_2 = os.path.join(bra_dir_2,'brazzers_vault')\n",
    "cfnm_dir_2 = os.path.join(bra_dir_2, 'clothed_female_naked_men')\n",
    "dwap_dir_2 = os.path.join(bra_dir_2, 'day_with_a_pornstar')\n",
    "ddm_dir_2 = os.path.join(bra_dir_2, 'dirty_masseur')\n",
    "dda_dir_2 = os.path.join(bra_dir_2, 'doctor_adventures')\n",
    "mlib_dir_2 = os.path.join(bra_dir_2,'milf_like_it_big')\n",
    "mgb_dir_2 = os.path.join(bra_dir_2,'mommy_got_boobs')\n",
    "mic_dir_2 = os.path.join(bra_dir_2,'moms_in_control')\n",
    "plib_dir_2 = os.path.join(bra_dir_2,'pornstars_like_it_big')\n",
    "rws_dir_2 = os.path.join(bra_dir_2,'real_wife_stories')\n",
    "sgs_dir_2 = os.path.join(bra_dir_2,'shes_gonna_squirt')\n",
    "tlib_dir_2 = os.path.join(bra_dir_2,'teens_like_it_big')\n",
    "\n",
    "ps_file = os.path.join(working_dir, ps_file_xlsx)\n",
    "#bra_ps = pd.read_excel(ps_file)\n",
    "# bgb_db = sorted(glob.glob(r\"{}/*.mp4\".format(bgb_dir)))\n",
    "\n",
    "# Better Way:\n",
    "\n",
    "# Change the directory \n",
    "#os.chdir(bgb_dir)\n",
    "bgb_files = sorted(glob.glob(r'{}/*.mp4'.format(bgb_dir)))\n",
    "bblib_files = sorted(glob.glob(r'{}/*.mp4'.format(bblib_dir)))\n",
    "btas_files = sorted(glob.glob(r'{}/*.mp4'.format(btas_dir)))\n",
    "btaw_files = sorted(glob.glob(r'{}/*.mp4'.format(btaw_dir)))\n",
    "btis_files = sorted(glob.glob(r'{}/*.mp4'.format(btis_dir)))\n",
    "btiu_files = sorted(glob.glob(r'{}/*.mp4'.format(btiu_dir)))\n",
    "bwb_files = sorted(glob.glob(r'{}/*.mp4'.format(bwb_dir)))\n",
    "bbex_files = sorted(glob.glob(r'{}/*.mp4'.format(bbex_dir)))\n",
    "bzv_files = sorted(glob.glob(r'{}/*mp4'.format(bzv_dir)))\n",
    "cfnm_files = sorted(glob.glob(r'{}/*mp4'.format(cfnm_dir)))\n",
    "dwap_files = sorted(glob.glob(r'{}/*.mp4'.format(dwap_dir)))\n",
    "ddm_files = sorted(glob.glob(r'{}/*mp4'.format(ddm_dir)))\n",
    "dda_files = sorted(glob.glob(r'{}/*mp4'.format(dda_dir)))\n",
    "mlib_files = sorted(glob.glob(r'{}/*mp4'.format(mlib_dir)))\n",
    "mgb_files = sorted(glob.glob(r'{}/*mp4'.format(mgb_dir)))\n",
    "mic_files = sorted(glob.glob(r'{}/*mp4'.format(mic_dir)))\n",
    "plib_files = sorted(glob.glob(r'{}/*mp4'.format(plib_dir)))\n",
    "rws_files = sorted(glob.glob(r'{}/*mp4'.format(rws_dir)))\n",
    "sgs_files = sorted(glob.glob(r'{}/*mp4'.format(sgs_dir)))\n",
    "tlib_files = sorted(glob.glob(r'{}/*mp4'.format(tlib_dir)))\n",
    "\n",
    "\n",
    "\n",
    "## -----------------\n",
    "\n",
    "bgb_files_2 = sorted(glob.glob(r'{}/*.mp4'.format(bgb_dir_2)))\n",
    "bblib_files_2 = sorted(glob.glob(r'{}/*.mp4'.format(bblib_dir_2)))\n",
    "btas_files_2 = sorted(glob.glob(r'{}/*.mp4'.format(btas_dir_2)))\n",
    "btaw_files_2 = sorted(glob.glob(r'{}/*.mp4'.format(btaw_dir_2)))\n",
    "btis_files_2 = sorted(glob.glob(r'{}/*.mp4'.format(btis_dir_2)))\n",
    "btiu_files_2 = sorted(glob.glob(r'{}/*.mp4'.format(btiu_dir_2)))\n",
    "bwb_files_2 = sorted(glob.glob(r'{}/*.mp4'.format(bwb_dir_2)))\n",
    "bbex_files_2 = sorted(glob.glob(r'{}/*.mp4'.format(bbex_dir_2)))\n",
    "bzv_files_2 = sorted(glob.glob(r'{}/*.mp4'.format(bzv_dir_2)))\n",
    "cfnm_files_2 = sorted(glob.glob(r'{}/*mp4'.format(cfnm_dir_2)))\n",
    "dwap_files_2 = sorted(glob.glob(r'{}/*.mp4'.format(dwap_dir_2)))\n",
    "ddm_files_2 = sorted(glob.glob(r'{}/*mp4'.format(ddm_dir_2)))\n",
    "dda_files_2 = sorted(glob.glob(r'{}/*mp4'.format(dda_dir_2)))\n",
    "mlib_files_2 = sorted(glob.glob(r'{}/*mp4'.format(mlib_dir_2)))\n",
    "mgb_files_2 = sorted(glob.glob(r'{}/*mp4'.format(mgb_dir_2)))\n",
    "mic_files_2 = sorted(glob.glob(r'{}/*mp4'.format(mic_dir_2)))\n",
    "plib_files_2 = sorted(glob.glob(r'{}/*mp4'.format(plib_dir_2)))\n",
    "rws_files_2 = sorted(glob.glob(r'{}/*mp4'.format(rws_dir_2)))\n",
    "sgs_files_2 = sorted(glob.glob(r'{}/*mp4'.format(sgs_dir_2)))\n",
    "tlib_files_2 = sorted(glob.glob(r'{}/*mp4'.format(tlib_dir_2)))"
   ]
  },
  {
   "cell_type": "code",
   "execution_count": 4,
   "metadata": {},
   "outputs": [],
   "source": [
    "import itertools\n",
    "\n",
    "\n",
    "bgb_db = {}\n",
    "bgb_db_2 = {}\n",
    "bgb_db_tmp = []\n",
    "bgb_location_db = {}\n",
    "bgb_location_db_tmp = []\n",
    "bgb_site_tmp = []\n",
    "bgb_site_db = {}\n",
    "\n",
    "bblib_db = {}\n",
    "bblib_db_2 = {}\n",
    "bblib_db_tmp = []\n",
    "bblib_location_db = {}\n",
    "bblib_location_db_tmp = []\n",
    "bblib_site_tmp = []\n",
    "bblib_site_db = {}\n",
    "\n",
    "btas_db = {}\n",
    "btas_db_2 = {}\n",
    "btas_db_tmp = []\n",
    "btas_location_db = {}\n",
    "btas_location_db_tmp = []\n",
    "btas_site_tmp = []\n",
    "btas_site_db = {}\n",
    "\n",
    "btaw_db = {}\n",
    "btaw_db_2 = {}\n",
    "btaw_db_tmp = []\n",
    "btaw_location_db = {}\n",
    "btaw_location_db_tmp = []\n",
    "btaw_site_tmp = []\n",
    "btaw_site_db = {}\n",
    "\n",
    "btis_db = {}\n",
    "btis_db_2 = {}\n",
    "btis_db_tmp = []\n",
    "btis_location_db = {}\n",
    "btis_location_db_tmp = []\n",
    "btis_site_tmp = []\n",
    "btis_site_db = {}\n",
    "\n",
    "btiu_db = {}\n",
    "btiu_db_2 = {}\n",
    "btiu_db_tmp = []\n",
    "btiu_location_db = {}\n",
    "btiu_location_db_tmp = []\n",
    "btiu_site_tmp = []\n",
    "btiu_site_db = {}\n",
    "\n",
    "bwb_db = {}\n",
    "bwb_db_2 = {}\n",
    "bwb_db_tmp = []\n",
    "bwb_location_db = {}\n",
    "bwb_location_db_tmp = []\n",
    "bwb_site_tmp = []\n",
    "bwb_site_db = {}\n",
    "\n",
    "\n",
    "bbex_db = {}\n",
    "bbex_db_2 = {}\n",
    "bbex_db_tmp = []\n",
    "bbex_location_db = {}\n",
    "bbex_location_db_tmp = []\n",
    "bbex_site_tmp = []\n",
    "bbex_site_db = {}\n",
    "\n",
    "bzv_db = {}\n",
    "bzv_db_2 = {}\n",
    "bzv_db_tmp = []\n",
    "bzv_location_db = {}\n",
    "bzv_location_db_tmp = []\n",
    "bzv_site_tmp = []\n",
    "bzv_site_db = {}\n",
    "\n",
    "\n",
    "cfnm_db = {}\n",
    "cfnm_db_2 = {}\n",
    "cfnm_db_tmp = []\n",
    "cfnm_location_db = {}\n",
    "cfnm_location_db_tmp = []\n",
    "cfnm_site_tmp = []\n",
    "cfnm_site_db = {}\n",
    "\n",
    "\n",
    "dwap_db = {}\n",
    "dwap_db_2 = {}\n",
    "dwap_db_tmp = []\n",
    "dwap_location_db = {}\n",
    "dwap_location_db_tmp = []\n",
    "dwap_site_tmp = []\n",
    "dwap_site_db = {}\n",
    "\n",
    "\n",
    "dda_db = {}\n",
    "dda_db_2 = {}\n",
    "dda_db_tmp = []\n",
    "dda_location_db = {}\n",
    "dda_location_db_tmp = []\n",
    "dda_site_tmp = []\n",
    "dda_site_db = {}\n",
    "\n",
    "\n",
    "ddm_db = {}\n",
    "ddm_db_2 = {}\n",
    "ddm_db_tmp = []\n",
    "ddm_location_db = {}\n",
    "ddm_location_db_tmp = []\n",
    "ddm_site_tmp = []\n",
    "ddm_site_db = {}\n",
    "\n",
    "\n",
    "mlib_db = {}\n",
    "mlib_db_2 = {}\n",
    "mlib_db_tmp = []\n",
    "mlib_location_db = {}\n",
    "mlib_location_db_tmp = []\n",
    "mlib_site_tmp = []\n",
    "mlib_site_db = {}\n",
    "\n",
    "\n",
    "mgb_db = {}\n",
    "mgb_db_2 = {}\n",
    "mgb_db_tmp = []\n",
    "mgb_location_db = {}\n",
    "mgb_location_db_tmp = []\n",
    "mgb_site_tmp = []\n",
    "mgb_site_db = {}\n",
    "\n",
    "\n",
    "mic_db = {}\n",
    "mic_db_2 = {}\n",
    "mic_db_tmp = []\n",
    "mic_location_db = {}\n",
    "mic_location_db_tmp = []\n",
    "mic_site_tmp = []\n",
    "mic_site_db = {}\n",
    "\n",
    "\n",
    "plib_db = {}\n",
    "plib_db_2 = {}\n",
    "plib_db_tmp = []\n",
    "plib_location_db = {}\n",
    "plib_location_db_tmp = []\n",
    "plib_site_tmp = []\n",
    "plib_site_db = {}\n",
    "\n",
    "rws_db = {}\n",
    "rws_db_2 = {}\n",
    "rws_db_tmp = []\n",
    "rws_location_db = {}\n",
    "rws_location_db_tmp = []\n",
    "rws_site_tmp = []\n",
    "rws_site_db = {}\n",
    "\n",
    "\n",
    "sgs_db = {}\n",
    "sgs_db_2 = {}\n",
    "sgs_db_tmp = []\n",
    "sgs_location_db = {}\n",
    "sgs_location_db_tmp = []\n",
    "sgs_site_tmp = []\n",
    "sgs_site_db = {}\n",
    "\n",
    "\n",
    "tlib_db = {}\n",
    "tlib_db_2 = {}\n",
    "tlib_db_tmp = []\n",
    "tlib_location_db = {}\n",
    "tlib_location_db_tmp = []\n",
    "tlib_site_tmp = []\n",
    "tlib_site_db = {}\n",
    "\n",
    "\n",
    "#for lf in itertools.chain(bgb_files, bgb_files_2, bblib_files, bblib_files_2, btas_files, btaw_files,\n",
    "#                          btis_files, btiu_files, bwb_files, bbex_files, bbex_files_2,\n",
    "#                          bzv_files, cfnm_files, dwap_files, dwap_files_2, ddm_files,\n",
    "#                          dda_files, mlib_files, mgb_files, mic_files, \n",
    "#                          plib_files, rws_files, sgs_files, tlib_files):\n",
    "for lf in itertools.chain(bgb_files, bgb_files_2, bblib_files, bblib_files_2, btas_files, btas_files_2,\n",
    "                          btaw_files, btaw_files_2, btis_files, btis_files_2, btiu_files, btiu_files_2,\n",
    "                          bwb_files, bwb_files_2, bbex_files, bbex_files_2, bzv_files, bzv_files_2,\n",
    "                          cfnm_files, cfnm_files_2, dwap_files, dwap_files_2, ddm_files, ddm_files_2,\n",
    "                          dda_files, dda_files_2, mlib_files, mlib_files_2, mgb_files, mgb_files_2,\n",
    "                          mic_files, mic_files_2, plib_files, plib_files_2, rws_files, rws_files_2,\n",
    "                          sgs_files, sgs_files_2, tlib_files, tlib_files_2):  \n",
    "    \n",
    "    site_string = lf.split('/')[-2]\n",
    "    if site_string == \"baby_got_boobs\":\n",
    "        location = lf.split(\"/\")[2]\n",
    "        site_with_ps = lf.split('/')[-1].split('-')[0]\n",
    "        ps_all = lf.split(\"-\")[0].split(\"baby_got_boobs_\")[1]\n",
    "        ps_single = ps_all.split(\"__\")#.replace('_',\" \").title()\n",
    "        #print(site_string)\n",
    "        bgb_location_db_tmp.append(location)\n",
    "        bgb_location_db = pd.DataFrame(bgb_location_db_tmp)\n",
    "        bgb_db_tmp.append(ps_single)\n",
    "        bgb_db = pd.DataFrame(bgb_db_tmp)\n",
    "        bgb_site_tmp.append(site_string)\n",
    "        bgb_site_db = pd.DataFrame(bgb_site_tmp)\n",
    "        \n",
    "    elif site_string == \"big_butts_like_it_big\":\n",
    "        location = lf.split(\"/\")[2]\n",
    "        site_with_ps = lf.split('/')[-1].split('-')[0]\n",
    "        ps_all = lf.split(\"-\")[0].split(\"big_butts_like_it_big_\")[1]\n",
    "        ps_single = ps_all.split(\"__\")\n",
    "        #print(ps_single)\n",
    "        bblib_location_db_tmp.append(location)\n",
    "        bblib_location_db = pd.DataFrame(bblib_location_db_tmp)\n",
    "        bblib_db_tmp.append(ps_single)\n",
    "        bblib_db = pd.DataFrame(bblib_db_tmp)\n",
    "        bblib_site_tmp.append(site_string)\n",
    "        bblib_site_db = pd.DataFrame(bblib_site_tmp)\n",
    "        \n",
    "    elif site_string == \"big_tits_at_school\":\n",
    "        location = lf.split(\"/\")[2]\n",
    "        site_with_ps = lf.split('/')[-1].split('-')[0]\n",
    "        ps_all = lf.split(\"-\")[0].split(\"big_tits_at_school_\")[1]\n",
    "        ps_single = ps_all.split(\"__\")\n",
    "        #print(ps_single)\n",
    "        btas_location_db_tmp.append(location)\n",
    "        btas_location_db = pd.DataFrame(btas_location_db_tmp)\n",
    "        btas_db_tmp.append(ps_single)\n",
    "        btas_db = pd.DataFrame(btas_db_tmp)\n",
    "        btas_site_tmp.append(site_string)\n",
    "        btas_site_db = pd.DataFrame(btas_site_tmp)\n",
    "        \n",
    "    elif site_string == \"big_tits_at_work\":\n",
    "        location = lf.split(\"/\")[2]\n",
    "        site_with_ps = lf.split('/')[-1].split('-')[0]\n",
    "        ps_all = lf.split(\"-\")[0].split(\"big_tits_at_work_\")[1]\n",
    "        ps_single = ps_all.split(\"__\")\n",
    "        #print(ps_single)\n",
    "        btaw_location_db_tmp.append(location)\n",
    "        btaw_location_db = pd.DataFrame(btaw_location_db_tmp)\n",
    "        btaw_db_tmp.append(ps_single)\n",
    "        btaw_db = pd.DataFrame(btaw_db_tmp)\n",
    "        btaw_site_tmp.append(site_string)\n",
    "        btaw_site_db = pd.DataFrame(btaw_site_tmp)\n",
    "        \n",
    "    elif site_string == \"big_tits_in_sports\":\n",
    "        location = lf.split(\"/\")[2]\n",
    "        site_with_ps = lf.split('/')[-1].split('-')[0]\n",
    "        ps_all = lf.split(\"-\")[0].split(\"big_tits_in_sports_\")[1]\n",
    "        ps_single = ps_all.split(\"__\")\n",
    "        #print(ps_single)\n",
    "        btis_location_db_tmp.append(location)\n",
    "        btis_location_db = pd.DataFrame(btis_location_db_tmp)\n",
    "        btis_db_tmp.append(ps_single)\n",
    "        btis_db = pd.DataFrame(btis_db_tmp)       \n",
    "        btis_site_tmp.append(site_string)\n",
    "        btis_site_db = pd.DataFrame(btis_site_tmp)\n",
    "        \n",
    "    elif site_string == \"big_tits_in_uniform\":\n",
    "        location = lf.split(\"/\")[2]\n",
    "        site_with_ps = lf.split('/')[-1].split('-')[0]\n",
    "        ps_all = lf.split(\"-\")[0].split(\"big_tits_in_uniform_\")[1]\n",
    "        ps_single = ps_all.split(\"__\")\n",
    "        btiu_location_db_tmp.append(location)\n",
    "        btiu_location_db = pd.DataFrame(btiu_location_db_tmp)\n",
    "        btiu_db_tmp.append(ps_single)\n",
    "        btiu_db = pd.DataFrame(btiu_db_tmp)\n",
    "        btiu_site_tmp.append(site_string)\n",
    "        btiu_site_db = pd.DataFrame(btiu_site_tmp)\n",
    "        \n",
    "    elif site_string == \"big_wet_butts\":\n",
    "        location = lf.split(\"/\")[2]\n",
    "        site_with_ps = lf.split('/')[-1].split('-')[0]\n",
    "        ps_all = lf.split(\"-\")[0].split(\"big_wet_butts_\")[1]\n",
    "        ps_single = ps_all.split(\"__\")\n",
    "        bwb_location_db_tmp.append(location)\n",
    "        bwb_location_db = pd.DataFrame(bwb_location_db_tmp)\n",
    "        bwb_db_tmp.append(ps_single)\n",
    "        bwb_db = pd.DataFrame(bwb_db_tmp)\n",
    "        bwb_site_tmp.append(site_string)\n",
    "        bwb_site_db = pd.DataFrame(bwb_site_tmp)\n",
    "\n",
    "    elif site_string == \"brazzers_extra\":\n",
    "        location = lf.split(\"/\")[2]\n",
    "        site_with_ps = lf.split('/')[-1].split('-')[0]\n",
    "        ps_all = lf.split(\"-\")[0].split(\"brazzers_extra_\")[1]\n",
    "        ps_single = ps_all.split(\"__\")\n",
    "        bbex_location_db_tmp.append(location)\n",
    "        bbex_location_db = pd.DataFrame(bbex_location_db_tmp)\n",
    "        bbex_db_tmp.append(ps_single)\n",
    "        bbex_db = pd.DataFrame(bbex_db_tmp)\n",
    "        bbex_site_tmp.append(site_string)\n",
    "        bbex_site_db = pd.DataFrame(bbex_site_tmp)\n",
    "        \n",
    "    elif site_string == \"brazzers_vault\":\n",
    "        location = lf.split(\"/\")[2]\n",
    "        site_with_ps = lf.split('/')[-1].split('-')[0]\n",
    "        ps_all = lf.split(\"-\")[0].split(\"brazzers_vault_\")[1]\n",
    "        ps_single = ps_all.split(\"__\")\n",
    "        bzv_location_db_tmp.append(location)\n",
    "        bzv_location_db = pd.DataFrame(bzv_location_db_tmp)\n",
    "        bzv_db_tmp.append(ps_single)\n",
    "        bzv_db = pd.DataFrame(bzv_db_tmp)\n",
    "        bzv_site_tmp.append(site_string)\n",
    "        bzv_site_db = pd.DataFrame(bzv_site_tmp)\n",
    "        \n",
    "    elif site_string == \"clothed_female_naked_men\":\n",
    "        location = lf.split(\"/\")[2]\n",
    "        site_with_ps = lf.split('/')[-1].split('-')[0]\n",
    "        ps_all = lf.split(\"-\")[0].split(\"clothed_female_naked_men_\")[1]\n",
    "        ps_single = ps_all.split(\"__\")\n",
    "        cfnm_location_db_tmp.append(location)\n",
    "        cfnm_location_db = pd.DataFrame(cfnm_location_db_tmp)\n",
    "        cfnm_db_tmp.append(ps_single)\n",
    "        cfnm_db = pd.DataFrame(cfnm_db_tmp)\n",
    "        cfnm_site_tmp.append(site_string)\n",
    "        cfnm_site_db = pd.DataFrame(cfnm_site_tmp)\n",
    "    \n",
    "    elif site_string == \"day_with_a_pornstar\":\n",
    "        location = lf.split(\"/\")[2]\n",
    "        site_with_ps = lf.split('/')[-1].split('-')[0]\n",
    "        ps_all = lf.split(\"-\")[0].split(\"day_with_a_pornstar_\")[1]\n",
    "        ps_single = ps_all.split(\"__\")\n",
    "        dwap_location_db_tmp.append(location)\n",
    "        dwap_location_db = pd.DataFrame(dwap_location_db_tmp)\n",
    "        dwap_db_tmp.append(ps_single)\n",
    "        dwap_db = pd.DataFrame(dwap_db_tmp)\n",
    "        dwap_site_tmp.append(site_string)\n",
    "        dwap_site_db = pd.DataFrame(dwap_site_tmp)\n",
    "    \n",
    "    elif site_string == \"dirty_masseur\":\n",
    "        location = lf.split(\"/\")[2]\n",
    "        site_with_ps = lf.split('/')[-1].split('-')[0]\n",
    "        ps_all = lf.split(\"-\")[0].split(\"dirty_masseur_\")[1]\n",
    "        ps_single = ps_all.split(\"__\")\n",
    "        ddm_location_db_tmp.append(location)\n",
    "        ddm_location_db = pd.DataFrame(ddm_location_db_tmp)\n",
    "        ddm_db_tmp.append(ps_single)\n",
    "        ddm_db = pd.DataFrame(ddm_db_tmp)\n",
    "        ddm_site_tmp.append(site_string)\n",
    "        ddm_site_db = pd.DataFrame(ddm_site_tmp)\n",
    "        \n",
    "    elif site_string == \"doctor_adventures\":\n",
    "        location = lf.split(\"/\")[2]\n",
    "        site_with_ps = lf.split('/')[-1].split('-')[0]\n",
    "        ps_all = lf.split(\"-\")[0].split(\"doctor_adventures_\")[1]\n",
    "        ps_single = ps_all.split(\"__\")\n",
    "        dda_location_db_tmp.append(location)\n",
    "        dda_location_db = pd.DataFrame(dda_location_db_tmp)\n",
    "        dda_db_tmp.append(ps_single)\n",
    "        dda_db = pd.DataFrame(dda_db_tmp)\n",
    "        dda_site_tmp.append(site_string)\n",
    "        dda_site_db = pd.DataFrame(dda_site_tmp)\n",
    "        \n",
    "    elif site_string == \"milf_like_it_big\":\n",
    "        location = lf.split(\"/\")[2]\n",
    "        site_with_ps = lf.split('/')[-1].split('-')[0]\n",
    "        ps_all = lf.split(\"-\")[0].split(\"milf_like_it_big_\")[1]\n",
    "        ps_single = ps_all.split(\"__\")\n",
    "        mlib_location_db_tmp.append(location)\n",
    "        mlib_location_db = pd.DataFrame(mlib_location_db_tmp)\n",
    "        mlib_db_tmp.append(ps_single)\n",
    "        mlib_db = pd.DataFrame(mlib_db_tmp)\n",
    "        mlib_site_tmp.append(site_string)\n",
    "        mlib_site_db = pd.DataFrame(mlib_site_tmp)\n",
    "\n",
    "    elif site_string == \"mommy_got_boobs\":\n",
    "        location = lf.split(\"/\")[2]\n",
    "        site_with_ps = lf.split('/')[-1].split('-')[0]\n",
    "        ps_all = lf.split(\"-\")[0].split(\"mommy_got_boobs_\")[1]\n",
    "        ps_single = ps_all.split(\"__\")\n",
    "        mgb_location_db_tmp.append(location)\n",
    "        mgb_location_db = pd.DataFrame(mgb_location_db_tmp)\n",
    "        mgb_db_tmp.append(ps_single)\n",
    "        mgb_db = pd.DataFrame(mgb_db_tmp)\n",
    "        mgb_site_tmp.append(site_string)\n",
    "        mgb_site_db = pd.DataFrame(mgb_site_tmp)\n",
    "\n",
    "    elif site_string == \"moms_in_control\":\n",
    "        location = lf.split(\"/\")[2]\n",
    "        site_with_ps = lf.split('/')[-1].split('-')[0]\n",
    "        ps_all = lf.split(\"-\")[0].split(\"moms_in_control_\")[1]\n",
    "        ps_single = ps_all.split(\"__\")\n",
    "        mic_location_db_tmp.append(location)\n",
    "        mic_location_db = pd.DataFrame(mic_location_db_tmp)\n",
    "        mic_db_tmp.append(ps_single)\n",
    "        mic_db = pd.DataFrame(mic_db_tmp)\n",
    "        mic_site_tmp.append(site_string)\n",
    "        mic_site_db = pd.DataFrame(mic_site_tmp)\n",
    "    \n",
    "    elif site_string == \"pornstars_like_it_big\":\n",
    "        location = lf.split(\"/\")[2]\n",
    "        site_with_ps = lf.split('/')[-1].split('-')[0]\n",
    "        ps_all = lf.split(\"-\")[0].split(\"pornstars_like_it_big_\")[1]\n",
    "        ps_single = ps_all.split(\"__\")\n",
    "        plib_location_db_tmp.append(location)\n",
    "        plib_location_db = pd.DataFrame(plib_location_db_tmp)\n",
    "        plib_db_tmp.append(ps_single)\n",
    "        plib_db = pd.DataFrame(plib_db_tmp)\n",
    "        plib_site_tmp.append(site_string)\n",
    "        plib_site_db = pd.DataFrame(plib_site_tmp)\n",
    "        \n",
    "    elif site_string == \"real_wife_stories\":\n",
    "        location = lf.split(\"/\")[2]\n",
    "        site_with_ps = lf.split('/')[-1].split('-')[0]\n",
    "        ps_all = lf.split(\"-\")[0].split(\"real_wife_stories_\")[1]\n",
    "        ps_single = ps_all.split(\"__\")\n",
    "        rws_location_db_tmp.append(location)\n",
    "        rws_location_db = pd.DataFrame(rws_location_db_tmp)\n",
    "        rws_db_tmp.append(ps_single)\n",
    "        rws_db = pd.DataFrame(rws_db_tmp)\n",
    "        rws_site_tmp.append(site_string)\n",
    "        rws_site_db = pd.DataFrame(rws_site_tmp)\n",
    "\n",
    "    elif site_string == \"shes_gonna_squirt\":\n",
    "        location = lf.split(\"/\")[2]\n",
    "        site_with_ps = lf.split('/')[-1].split('-')[0]\n",
    "        ps_all = lf.split(\"-\")[0].split(\"shes_gonna_squirt_\")[1]\n",
    "        ps_single = ps_all.split(\"__\")\n",
    "        sgs_location_db_tmp.append(location)\n",
    "        sgs_location_db = pd.DataFrame(sgs_location_db_tmp)\n",
    "        sgs_db_tmp.append(ps_single)\n",
    "        sgs_db = pd.DataFrame(sgs_db_tmp)\n",
    "        sgs_site_tmp.append(site_string)\n",
    "        sgs_site_db = pd.DataFrame(sgs_site_tmp)\n",
    "\n",
    "    elif site_string == \"teens_like_it_big\":\n",
    "        location = lf.split(\"/\")[2]\n",
    "        site_with_ps = lf.split('/')[-1].split('-')[0]\n",
    "        ps_all = lf.split(\"-\")[0].split(\"teens_like_it_big_\")[1]\n",
    "        ps_single = ps_all.split(\"__\")\n",
    "        tlib_location_db_tmp.append(location)\n",
    "        tlib_location_db = pd.DataFrame(tlib_location_db_tmp)\n",
    "        tlib_db_tmp.append(ps_single)\n",
    "        tlib_db = pd.DataFrame(tlib_db_tmp)\n",
    "        tlib_site_tmp.append(site_string)\n",
    "        tlib_site_db = pd.DataFrame(tlib_site_tmp)\n",
    "      \n",
    "        \n",
    "# baby_got_boobs        \n",
    "bgb_db_2 = pd.concat([bgb_site_db, bgb_db, bgb_location_db], axis = 1)\n",
    "bgb_db_2.columns = ['Site', 'PS1', 'PS2', 'PS3','Location']\n",
    "bgb_db_2.loc[(bgb_db_2[\"PS2\"].isnull()), \"PS2\"] = \"no_name\"\n",
    "bgb_db_2.loc[(bgb_db_2[\"PS3\"].isnull()), \"PS3\"] = \"no_name\"\n",
    "bgb_db_2['Site'] = bgb_db_2['Site'].map(lambda name:name.replace('_', ' ').title())\n",
    "bgb_db_2['PS1'] = bgb_db_2['PS1'].map(lambda name:name.replace('_', ' ').title())\n",
    "bgb_db_2['PS2'] = bgb_db_2['PS2'].map(lambda name:name.replace('_', ' ').title())\n",
    "bgb_db_2['PS3'] = bgb_db_2['PS3'].map(lambda name:name.replace('_', ' ').title())\n",
    "\n",
    "\n",
    "#big_butts_like_it_big_\n",
    "bblib_db_2 = pd.concat([bblib_site_db, bblib_db, bblib_location_db], axis = 1)\n",
    "bblib_db_2.columns = ['Site', 'PS1', 'PS2', 'Location']\n",
    "bblib_db_2.loc[(bblib_db_2[\"PS2\"].isnull()), \"PS2\"] = \"no_name\"\n",
    "bblib_db_2['Site'] = bblib_db_2['Site'].map(lambda name:name.replace('_', ' ').title())\n",
    "bblib_db_2['PS1'] = bblib_db_2['PS1'].map(lambda name:name.replace('_', ' ').title())\n",
    "bblib_db_2['PS2'] = bblib_db_2['PS2'].map(lambda name:name.replace('_', ' ').title())\n",
    "\n",
    "\n",
    "#big_tits_at_school_\n",
    "btas_db_2 = pd.concat([btas_site_db, btas_db, btas_location_db], axis = 1)\n",
    "btas_db_2.columns = ['Site', 'PS1', 'PS2', 'PS3', 'PS4', 'Location']\n",
    "btas_db_2.loc[(btas_db_2[\"PS2\"].isnull()), \"PS2\"] = \"no_name\"\n",
    "btas_db_2.loc[(btas_db_2[\"PS3\"].isnull()), \"PS3\"] = \"no_name\"\n",
    "btas_db_2.loc[(btas_db_2[\"PS4\"].isnull()), \"PS4\"] = \"no_name\"\n",
    "btas_db_2['Site'] = btas_db_2['Site'].map(lambda name:name.replace('_', ' ').title())\n",
    "btas_db_2['PS1'] = btas_db_2['PS1'].map(lambda name:name.replace('_', ' ').title())\n",
    "btas_db_2['PS2'] = btas_db_2['PS2'].map(lambda name:name.replace('_', ' ').title())\n",
    "btas_db_2['PS3'] = btas_db_2['PS3'].map(lambda name:name.replace('_', ' ').title())\n",
    "btas_db_2['PS4'] = btas_db_2['PS4'].map(lambda name:name.replace('_', ' ').title())\n",
    "\n",
    "\n",
    "#big_tits_at_work_\n",
    "btaw_db_2 = pd.concat([btaw_site_db, btaw_db, btaw_location_db], axis = 1)\n",
    "btaw_db_2.columns = ['Site', 'PS1', 'PS2', 'PS3', 'PS4', 'Location']\n",
    "btaw_db_2.loc[(btaw_db_2[\"PS2\"].isnull()), \"PS2\"] = \"no_name\"\n",
    "btaw_db_2.loc[(btaw_db_2[\"PS3\"].isnull()), \"PS3\"] = \"no_name\"\n",
    "btaw_db_2.loc[(btaw_db_2[\"PS4\"].isnull()), \"PS4\"] = \"no_name\"\n",
    "btaw_db_2['Site'] = btaw_db_2['Site'].map(lambda name:name.replace('_', ' ').title())\n",
    "btaw_db_2['PS1'] = btaw_db_2['PS1'].map(lambda name:name.replace('_', ' ').title())\n",
    "btaw_db_2['PS2'] = btaw_db_2['PS2'].map(lambda name:name.replace('_', ' ').title())\n",
    "btaw_db_2['PS3'] = btaw_db_2['PS3'].map(lambda name:name.replace('_', ' ').title())\n",
    "btaw_db_2['PS4'] = btaw_db_2['PS4'].map(lambda name:name.replace('_', ' ').title())\n",
    "\n",
    "\n",
    "#big_tits_in_sports_\n",
    "btis_db_2 = pd.concat([btis_site_db, btis_db, btis_location_db], axis = 1)\n",
    "btis_db_2.columns = ['Site', 'PS1', 'PS2', 'PS3', 'PS4', 'PS5', 'Location']\n",
    "btis_db_2.loc[(btis_db_2[\"PS2\"].isnull()), \"PS2\"] = \"no_name\"\n",
    "btis_db_2.loc[(btis_db_2[\"PS3\"].isnull()), \"PS3\"] = \"no_name\"\n",
    "btis_db_2.loc[(btis_db_2[\"PS4\"].isnull()), \"PS4\"] = \"no_name\"\n",
    "btis_db_2.loc[(btis_db_2[\"PS5\"].isnull()), \"PS5\"] = \"no_name\"\n",
    "btis_db_2['Site'] = btis_db_2['Site'].map(lambda name:name.replace('_', ' ').title())\n",
    "btis_db_2['PS1'] = btis_db_2['PS1'].map(lambda name:name.replace('_', ' ').title())\n",
    "btis_db_2['PS2'] = btis_db_2['PS2'].map(lambda name:name.replace('_', ' ').title())\n",
    "btis_db_2['PS3'] = btis_db_2['PS3'].map(lambda name:name.replace('_', ' ').title())\n",
    "btis_db_2['PS4'] = btis_db_2['PS4'].map(lambda name:name.replace('_', ' ').title())\n",
    "btis_db_2['PS5'] = btis_db_2['PS5'].map(lambda name:name.replace('_', ' ').title())\n",
    "\n",
    "\n",
    "#big_tits_in_uniform_\n",
    "btiu_db_2 = pd.concat([btiu_site_db, btiu_db, btiu_location_db], axis = 1)\n",
    "btiu_db_2.columns = ['Site', 'PS1', 'PS2', 'PS3', 'Location']\n",
    "btiu_db_2.loc[(btiu_db_2[\"PS2\"].isnull()), \"PS2\"] = \"no_name\"\n",
    "btiu_db_2.loc[(btiu_db_2[\"PS3\"].isnull()), \"PS3\"] = \"no_name\"\n",
    "btiu_db_2['Site'] = btiu_db_2['Site'].map(lambda name:name.replace('_', ' ').title())\n",
    "btiu_db_2['PS1'] = btiu_db_2['PS1'].map(lambda name:name.replace('_', ' ').title())\n",
    "btiu_db_2['PS2'] = btiu_db_2['PS2'].map(lambda name:name.replace('_', ' ').title())\n",
    "\n",
    "\n",
    "#big_wet_butts_\n",
    "bwb_db_2 = pd.concat([bwb_site_db, bwb_db, bwb_location_db], axis = 1)\n",
    "bwb_db_2.columns = ['Site', 'PS1', 'PS2', 'PS3', 'Location']\n",
    "bwb_db_2.loc[(bwb_db_2[\"PS2\"].isnull()), \"PS2\"] = \"no_name\"\n",
    "bwb_db_2.loc[(bwb_db_2[\"PS3\"].isnull()), \"PS3\"] = \"no_name\"\n",
    "bwb_db_2['Site'] = bwb_db_2['Site'].map(lambda name:name.replace('_', ' ').title())\n",
    "bwb_db_2['PS1'] = bwb_db_2['PS1'].map(lambda name:name.replace('_', ' ').title())\n",
    "bwb_db_2['PS2'] = bwb_db_2['PS2'].map(lambda name:name.replace('_', ' ').title())\n",
    "bwb_db_2['PS3'] = bwb_db_2['PS3'].map(lambda name:name.replace('_', ' ').title())\n",
    "\n",
    "\n",
    "#brazzers_extra\n",
    "bbex_db_2 = pd.concat([bbex_site_db, bbex_db, bbex_location_db], axis = 1)\n",
    "bbex_db_2.columns = ['Site', 'PS1', 'PS2', 'PS3', 'PS4', 'PS5', 'PS6', 'PS7', 'PS8', 'PS9', 'PS10', 'Location']\n",
    "bbex_db_2.loc[(bbex_db_2[\"PS2\"].isnull()), \"PS2\"] = \"no_name\"\n",
    "bbex_db_2.loc[(bbex_db_2[\"PS3\"].isnull()), \"PS3\"] = \"no_name\"\n",
    "bbex_db_2.loc[(bbex_db_2[\"PS4\"].isnull()), \"PS4\"] = \"no_name\"\n",
    "bbex_db_2.loc[(bbex_db_2[\"PS5\"].isnull()), \"PS5\"] = \"no_name\"\n",
    "bbex_db_2.loc[(bbex_db_2[\"PS6\"].isnull()), \"PS6\"] = \"no_name\"\n",
    "bbex_db_2.loc[(bbex_db_2[\"PS7\"].isnull()), \"PS7\"] = \"no_name\"\n",
    "bbex_db_2.loc[(bbex_db_2[\"PS8\"].isnull()), \"PS8\"] = \"no_name\"\n",
    "bbex_db_2.loc[(bbex_db_2[\"PS9\"].isnull()), \"PS9\"] = \"no_name\"\n",
    "bbex_db_2.loc[(bbex_db_2[\"PS10\"].isnull()), \"PS10\"] = \"no_name\"\n",
    "bbex_db_2['Site'] = bbex_db_2['Site'].map(lambda name:name.replace('_', ' ').title())\n",
    "bbex_db_2['PS1'] = bbex_db_2['PS1'].map(lambda name:name.replace('_', ' ').title())\n",
    "bbex_db_2['PS2'] = bbex_db_2['PS2'].map(lambda name:name.replace('_', ' ').title())\n",
    "bbex_db_2['PS3'] = bbex_db_2['PS3'].map(lambda name:name.replace('_', ' ').title())\n",
    "bbex_db_2['PS4'] = bbex_db_2['PS4'].map(lambda name:name.replace('_', ' ').title())\n",
    "bbex_db_2['PS5'] = bbex_db_2['PS5'].map(lambda name:name.replace('_', ' ').title())\n",
    "bbex_db_2['PS6'] = bbex_db_2['PS6'].map(lambda name:name.replace('_', ' ').title())\n",
    "bbex_db_2['PS7'] = bbex_db_2['PS7'].map(lambda name:name.replace('_', ' ').title())\n",
    "bbex_db_2['PS8'] = bbex_db_2['PS8'].map(lambda name:name.replace('_', ' ').title())\n",
    "bbex_db_2['PS9'] = bbex_db_2['PS9'].map(lambda name:name.replace('_', ' ').title())\n",
    "bbex_db_2['PS10'] = bbex_db_2['PS10'].map(lambda name:name.replace('_', ' ').title())\n",
    "\n",
    "\n",
    "#brazzers_vault\n",
    "bzv_db_2 = pd.concat([bzv_site_db, bzv_db, bzv_location_db], axis = 1)\n",
    "bzv_db_2.columns = ['Site', 'PS1', 'PS2', 'Location']\n",
    "bzv_db_2.loc[(bzv_db_2[\"PS2\"].isnull()), \"PS2\"] = \"no_name\"\n",
    "bzv_db_2['Site'] = bzv_db_2['Site'].map(lambda name:name.replace('_', ' ').title())\n",
    "bzv_db_2['PS1'] = bzv_db_2['PS1'].map(lambda name:name.replace('_', ' ').title())\n",
    "bzv_db_2['PS2'] = bzv_db_2['PS2'].map(lambda name:name.replace('_', ' ').title())\n",
    "\n",
    "\n",
    "#clothed_female_naked_men\n",
    "cfnm_db_2 = pd.concat([cfnm_site_db, cfnm_db, cfnm_location_db], axis = 1)\n",
    "cfnm_db_2.columns = ['Site', 'PS1', 'PS2', 'Location']\n",
    "cfnm_db_2.loc[(cfnm_db_2[\"PS2\"].isnull()), \"PS2\"] = \"no_name\"\n",
    "cfnm_db_2['Site'] = cfnm_db_2['Site'].map(lambda name:name.replace('_', ' ').title())\n",
    "cfnm_db_2['PS1'] = cfnm_db_2['PS1'].map(lambda name:name.replace('_', ' ').title())\n",
    "cfnm_db_2['PS2'] = cfnm_db_2['PS2'].map(lambda name:name.replace('_', ' ').title())\n",
    "\n",
    "\n",
    "#day_with_a_pornstar\n",
    "dwap_db_2 = pd.concat([dwap_site_db, dwap_db, dwap_location_db], axis = 1)\n",
    "dwap_db_2.columns = ['Site', 'PS1', 'PS2', 'Location']\n",
    "dwap_db_2.loc[(dwap_db_2[\"PS2\"].isnull()), \"PS2\"] = \"no_name\"\n",
    "dwap_db_2['Site'] = dwap_db_2['Site'].map(lambda name:name.replace('_', ' ').title())\n",
    "dwap_db_2['PS1'] = dwap_db_2['PS1'].map(lambda name:name.replace('_', ' ').title())\n",
    "dwap_db_2['PS2'] = dwap_db_2['PS2'].map(lambda name:name.replace('_', ' ').title())\n",
    "\n",
    "\n",
    "#dirty_masseur\n",
    "ddm_db_2 = pd.concat([ddm_site_db, ddm_db, ddm_location_db], axis = 1)\n",
    "ddm_db_2.columns = ['Site', 'PS1', 'PS2', 'Location']\n",
    "ddm_db_2.loc[(ddm_db_2[\"PS2\"].isnull()), \"PS2\"] = \"no_name\"\n",
    "ddm_db_2['Site'] = ddm_db_2['Site'].map(lambda name:name.replace('_', ' ').title())\n",
    "ddm_db_2['PS1'] = ddm_db_2['PS1'].map(lambda name:name.replace('_', ' ').title())\n",
    "ddm_db_2['PS2'] = ddm_db_2['PS2'].map(lambda name:name.replace('_', ' ').title())\n",
    "\n",
    "\n",
    "#doctor_adventures_\n",
    "dda_db_2 = pd.concat([dda_site_db, dda_db, dda_location_db], axis = 1)\n",
    "dda_db_2.columns = ['Site', 'PS1', 'PS2', 'PS3', 'PS4', 'Location']\n",
    "dda_db_2.loc[(dda_db_2[\"PS2\"].isnull()), \"PS2\"] = \"no_name\"\n",
    "dda_db_2.loc[(dda_db_2[\"PS3\"].isnull()), \"PS3\"] = \"no_name\"\n",
    "dda_db_2.loc[(dda_db_2[\"PS4\"].isnull()), \"PS4\"] = \"no_name\"\n",
    "dda_db_2['Site'] = dda_db_2['Site'].map(lambda name:name.replace('_', ' ').title())\n",
    "dda_db_2['PS1'] = dda_db_2['PS1'].map(lambda name:name.replace('_', ' ').title())\n",
    "dda_db_2['PS2'] = dda_db_2['PS2'].map(lambda name:name.replace('_', ' ').title())\n",
    "dda_db_2['PS3'] = dda_db_2['PS3'].map(lambda name:name.replace('_', ' ').title())\n",
    "dda_db_2['PS4'] = dda_db_2['PS4'].map(lambda name:name.replace('_', ' ').title())\n",
    "\n",
    "\n",
    "#milf_like_it_big_\n",
    "mlib_db_2 = pd.concat([mlib_site_db, mlib_db, mlib_location_db], axis = 1)\n",
    "mlib_db_2.columns = ['Site', 'PS1', 'PS2', 'PS3', 'Location']\n",
    "mlib_db_2.loc[(mlib_db_2[\"PS2\"].isnull()), \"PS2\"] = \"no_name\"\n",
    "mlib_db_2.loc[(mlib_db_2[\"PS3\"].isnull()), \"PS3\"] = \"no_name\"\n",
    "mlib_db_2['Site'] = mlib_db_2['Site'].map(lambda name:name.replace('_', ' ').title())\n",
    "mlib_db_2['PS1'] = mlib_db_2['PS1'].map(lambda name:name.replace('_', ' ').title())\n",
    "mlib_db_2['PS2'] = mlib_db_2['PS2'].map(lambda name:name.replace('_', ' ').title())\n",
    "mlib_db_2['PS3'] = mlib_db_2['PS3'].map(lambda name:name.replace('_', ' ').title())\n",
    "\n",
    "\n",
    "#mommy_got_boobs_\n",
    "mgb_db_2 = pd.concat([mgb_site_db, mgb_db, mgb_location_db], axis = 1)\n",
    "mgb_db_2.columns = ['Site', 'PS1', 'PS2', 'PS3', 'Location']\n",
    "mgb_db_2.loc[(mgb_db_2[\"PS2\"].isnull()), \"PS2\"] = \"no_name\"\n",
    "mgb_db_2.loc[(mgb_db_2[\"PS3\"].isnull()), \"PS3\"] = \"no_name\"\n",
    "mgb_db_2['Site'] = mgb_db_2['Site'].map(lambda name:name.replace('_', ' ').title())\n",
    "mgb_db_2['PS1'] = mgb_db_2['PS1'].map(lambda name:name.replace('_', ' ').title())\n",
    "mgb_db_2['PS2'] = mgb_db_2['PS2'].map(lambda name:name.replace('_', ' ').title())\n",
    "mgb_db_2['PS3'] = mgb_db_2['PS3'].map(lambda name:name.replace('_', ' ').title())\n",
    "\n",
    "\n",
    "#moms_in_control_\n",
    "mic_db_2 = pd.concat([mic_site_db, mic_db, mic_location_db], axis = 1)\n",
    "mic_db_2.columns = ['Site', 'PS1', 'PS2', 'PS3', 'Location']\n",
    "mic_db_2.loc[(mic_db_2[\"PS2\"].isnull()), \"PS2\"] = \"no_name\"\n",
    "mic_db_2.loc[(mic_db_2[\"PS3\"].isnull()), \"PS3\"] = \"no_name\"\n",
    "mic_db_2['Site'] = mic_db_2['Site'].map(lambda name:name.replace('_', ' ').title())\n",
    "mic_db_2['PS1'] = mic_db_2['PS1'].map(lambda name:name.replace('_', ' ').title())\n",
    "mic_db_2['PS2'] = mic_db_2['PS2'].map(lambda name:name.replace('_', ' ').title())\n",
    "mic_db_2['PS3'] = mic_db_2['PS3'].map(lambda name:name.replace('_', ' ').title())\n",
    "\n",
    "\n",
    "#pornstars_like_it_big_\n",
    "plib_db_2 = pd.concat([plib_site_db, plib_db, plib_location_db], axis = 1)\n",
    "plib_db_2.columns = ['Site', 'PS1', 'PS2', 'PS3', 'PS4', 'Location']\n",
    "plib_db_2.loc[(plib_db_2[\"PS2\"].isnull()), \"PS2\"] = \"no_name\"\n",
    "plib_db_2.loc[(plib_db_2[\"PS3\"].isnull()), \"PS3\"] = \"no_name\"\n",
    "plib_db_2.loc[(plib_db_2[\"PS4\"].isnull()), \"PS4\"] = \"no_name\"\n",
    "plib_db_2['Site'] = plib_db_2['Site'].map(lambda name:name.replace('_', ' ').title())\n",
    "plib_db_2['PS1'] = plib_db_2['PS1'].map(lambda name:name.replace('_', ' ').title())\n",
    "plib_db_2['PS2'] = plib_db_2['PS2'].map(lambda name:name.replace('_', ' ').title())\n",
    "plib_db_2['PS3'] = plib_db_2['PS3'].map(lambda name:name.replace('_', ' ').title())\n",
    "plib_db_2['PS4'] = plib_db_2['PS4'].map(lambda name:name.replace('_', ' ').title())\n",
    "\n",
    "\n",
    "#real_wife_stories_\n",
    "rws_db_2 = pd.concat([rws_site_db, rws_db, rws_location_db], axis = 1)\n",
    "rws_db_2.columns = ['Site', 'PS1', 'PS2', 'PS3', 'Location']\n",
    "rws_db_2.loc[(rws_db_2[\"PS2\"].isnull()), \"PS2\"] = \"no_name\"\n",
    "rws_db_2.loc[(rws_db_2[\"PS3\"].isnull()), \"PS3\"] = \"no_name\"\n",
    "rws_db_2['Site'] = rws_db_2['Site'].map(lambda name:name.replace('_', ' ').title())\n",
    "rws_db_2['PS1'] = rws_db_2['PS1'].map(lambda name:name.replace('_', ' ').title())\n",
    "rws_db_2['PS2'] = rws_db_2['PS2'].map(lambda name:name.replace('_', ' ').title())\n",
    "rws_db_2['PS3'] = rws_db_2['PS3'].map(lambda name:name.replace('_', ' ').title())\n",
    "\n",
    "\n",
    "#shes_gonna_squirt_\n",
    "sgs_db_2 = pd.concat([sgs_site_db, sgs_db, sgs_location_db], axis = 1)\n",
    "sgs_db_2.columns = ['Site', 'PS1', 'PS2', 'Location']\n",
    "sgs_db_2.loc[(sgs_db_2[\"PS2\"].isnull()), \"PS2\"] = \"no_name\"\n",
    "sgs_db_2['Site'] = sgs_db_2['Site'].map(lambda name:name.replace('_', ' ').title())\n",
    "sgs_db_2['PS1'] = sgs_db_2['PS1'].map(lambda name:name.replace('_', ' ').title())\n",
    "sgs_db_2['PS2'] = sgs_db_2['PS2'].map(lambda name:name.replace('_', ' ').title())\n",
    "\n",
    "\n",
    "#teens_like_it_big_\n",
    "tlib_db_2 = pd.concat([tlib_site_db, tlib_db, tlib_location_db], axis = 1)\n",
    "tlib_db_2.columns = ['Site', 'PS1', 'Location']\n",
    "tlib_db_2['Site'] = tlib_db_2['Site'].map(lambda name:name.replace('_', ' ').title())\n",
    "tlib_db_2['PS1'] = tlib_db_2['PS1'].map(lambda name:name.replace('_', ' ').title())"
   ]
  },
  {
   "cell_type": "markdown",
   "metadata": {},
   "source": [
    "### Building the final df for exporting"
   ]
  },
  {
   "cell_type": "code",
   "execution_count": 10,
   "metadata": {},
   "outputs": [],
   "source": [
    "df_final_tmp_1 = pd.concat([bgb_db_2, bblib_db_2, btas_db_2, btaw_db_2, btis_db_2,\n",
    "                            btiu_db_2, bwb_db_2, bbex_db_2, bzv_db_2, cfnm_db_2, \n",
    "                            dwap_db_2, ddm_db_2, dda_db_2, mlib_db_2, mgb_db_2, \n",
    "                            mic_db_2, plib_db_2, rws_db_2, sgs_db_2, tlib_db_2], ignore_index=True)\n",
    "\n",
    "df_final_tmp_1 = df_final_tmp_1.fillna('No Name')\n",
    "\n",
    "custom_cols = ['Site', 'PS1', 'PS2', 'PS3', 'PS4', 'PS5', 'PS6', 'PS7', 'PS8', 'PS9', 'PS10', 'Location']\n",
    "\n",
    "df_bra_final = df_final_tmp_1[custom_cols]"
   ]
  },
  {
   "cell_type": "code",
   "execution_count": 14,
   "metadata": {},
   "outputs": [
    {
     "data": {
      "text/plain": [
       "(1592, 12)"
      ]
     },
     "execution_count": 14,
     "metadata": {},
     "output_type": "execute_result"
    }
   ],
   "source": [
    "df_bra_final.shape"
   ]
  },
  {
   "cell_type": "code",
   "execution_count": null,
   "metadata": {},
   "outputs": [],
   "source": [
    "df_2 = df_bra.fillna('No Name').reset_index(drop=True) \n",
    "df_3 = df_bra.fillna('No Name').ignore_index(drop=True) \n"
   ]
  },
  {
   "cell_type": "code",
   "execution_count": null,
   "metadata": {},
   "outputs": [],
   "source": [
    "df_2[df_2['Location'] == 'WERDERNAS2X']\n"
   ]
  },
  {
   "cell_type": "code",
   "execution_count": null,
   "metadata": {
    "code_folding": [
     189,
     202,
     215,
     228,
     241,
     254,
     266,
     278,
     290,
     302,
     314,
     326,
     338,
     350,
     362,
     374,
     386,
     398,
     410,
     422
    ]
   },
   "outputs": [],
   "source": [
    "import itertools\n",
    "\n",
    "\n",
    "bgb_db = {}\n",
    "bgb_db_2 = {}\n",
    "bgb_db_tmp = []\n",
    "bgb_location_db = {}\n",
    "bgb_location_db_tmp = []\n",
    "bgb_site_tmp = []\n",
    "bgb_site_db = {}\n",
    "\n",
    "bblib_db = {}\n",
    "bblib_db_2 = {}\n",
    "bblib_db_tmp = []\n",
    "bblib_location_db = {}\n",
    "bblib_location_db_tmp = []\n",
    "bblib_site_tmp = []\n",
    "bblib_site_db = {}\n",
    "\n",
    "btas_db = {}\n",
    "btas_db_2 = {}\n",
    "btas_db_tmp = []\n",
    "btas_location_db = {}\n",
    "btas_location_db_tmp = []\n",
    "btas_site_tmp = []\n",
    "btas_site_db = {}\n",
    "\n",
    "btaw_db = {}\n",
    "btaw_db_2 = {}\n",
    "btaw_db_tmp = []\n",
    "btaw_location_db = {}\n",
    "btaw_location_db_tmp = []\n",
    "btaw_site_tmp = []\n",
    "btaw_site_db = {}\n",
    "\n",
    "btis_db = {}\n",
    "btis_db_2 = {}\n",
    "btis_db_tmp = []\n",
    "btis_location_db = {}\n",
    "btis_location_db_tmp = []\n",
    "btis_site_tmp = []\n",
    "btis_site_db = {}\n",
    "\n",
    "btiu_db = {}\n",
    "btiu_db_2 = {}\n",
    "btiu_db_tmp = []\n",
    "btiu_location_db = {}\n",
    "btiu_location_db_tmp = []\n",
    "btiu_site_tmp = []\n",
    "btiu_site_db = {}\n",
    "\n",
    "bwb_db = {}\n",
    "bwb_db_2 = {}\n",
    "bwb_db_tmp = []\n",
    "bwb_location_db = {}\n",
    "bwb_location_db_tmp = []\n",
    "bwb_site_tmp = []\n",
    "bwb_site_db = {}\n",
    "\n",
    "\n",
    "bbex_db = {}\n",
    "bbex_db_2 = {}\n",
    "bbex_db_tmp = []\n",
    "bbex_location_db = {}\n",
    "bbex_location_db_tmp = []\n",
    "bbex_site_tmp = []\n",
    "bbex_site_db = {}\n",
    "\n",
    "bzv_db = {}\n",
    "bzv_db_2 = {}\n",
    "bzv_db_tmp = []\n",
    "bzv_location_db = {}\n",
    "bzv_location_db_tmp = []\n",
    "bzv_site_tmp = []\n",
    "bzv_site_db = {}\n",
    "\n",
    "\n",
    "cfnm_db = {}\n",
    "cfnm_db_2 = {}\n",
    "cfnm_db_tmp = []\n",
    "cfnm_location_db = {}\n",
    "cfnm_location_db_tmp = []\n",
    "cfnm_site_tmp = []\n",
    "cfnm_site_db = {}\n",
    "\n",
    "\n",
    "dwap_db = {}\n",
    "dwap_db_2 = {}\n",
    "dwap_db_tmp = []\n",
    "dwap_location_db = {}\n",
    "dwap_location_db_tmp = []\n",
    "dwap_site_tmp = []\n",
    "dwap_site_db = {}\n",
    "\n",
    "\n",
    "dda_db = {}\n",
    "dda_db_2 = {}\n",
    "dda_db_tmp = []\n",
    "dda_location_db = {}\n",
    "dda_location_db_tmp = []\n",
    "dda_site_tmp = []\n",
    "dda_site_db = {}\n",
    "\n",
    "\n",
    "ddm_db = {}\n",
    "ddm_db_2 = {}\n",
    "ddm_db_tmp = []\n",
    "ddm_location_db = {}\n",
    "ddm_location_db_tmp = []\n",
    "ddm_site_tmp = []\n",
    "ddm_site_db = {}\n",
    "\n",
    "\n",
    "mlib_db = {}\n",
    "mlib_db_2 = {}\n",
    "mlib_db_tmp = []\n",
    "mlib_location_db = {}\n",
    "mlib_location_db_tmp = []\n",
    "mlib_site_tmp = []\n",
    "mlib_site_db = {}\n",
    "\n",
    "\n",
    "mgb_db = {}\n",
    "mgb_db_2 = {}\n",
    "mgb_db_tmp = []\n",
    "mgb_location_db = {}\n",
    "mgb_location_db_tmp = []\n",
    "mgb_site_tmp = []\n",
    "mgb_site_db = {}\n",
    "\n",
    "\n",
    "mic_db = {}\n",
    "mic_db_2 = {}\n",
    "mic_db_tmp = []\n",
    "mic_location_db = {}\n",
    "mic_location_db_tmp = []\n",
    "mic_site_tmp = []\n",
    "mic_site_db = {}\n",
    "\n",
    "\n",
    "plib_db = {}\n",
    "plib_db_2 = {}\n",
    "plib_db_tmp = []\n",
    "plib_location_db = {}\n",
    "plib_location_db_tmp = []\n",
    "plib_site_tmp = []\n",
    "plib_site_db = {}\n",
    "\n",
    "rws_db = {}\n",
    "rws_db_2 = {}\n",
    "rws_db_tmp = []\n",
    "rws_location_db = {}\n",
    "rws_location_db_tmp = []\n",
    "rws_site_tmp = []\n",
    "rws_site_db = {}\n",
    "\n",
    "\n",
    "sgs_db = {}\n",
    "sgs_db_2 = {}\n",
    "sgs_db_tmp = []\n",
    "sgs_location_db = {}\n",
    "sgs_location_db_tmp = []\n",
    "sgs_site_tmp = []\n",
    "sgs_site_db = {}\n",
    "\n",
    "\n",
    "tlib_db = {}\n",
    "tlib_db_2 = {}\n",
    "tlib_db_tmp = []\n",
    "tlib_location_db = {}\n",
    "tlib_location_db_tmp = []\n",
    "tlib_site_tmp = []\n",
    "tlib_site_db = {}\n",
    "\n",
    "\n",
    "#for lf in itertools.chain(bgb_files, bgb_files_2, bblib_files, bblib_files_2, btas_files, btaw_files,\n",
    "#                          btis_files, btiu_files, bwb_files, bbex_files, bbex_files_2,\n",
    "#                          bzv_files, cfnm_files, dwap_files, dwap_files_2, ddm_files,\n",
    "#                          dda_files, mlib_files, mgb_files, mic_files, \n",
    "#                          plib_files, rws_files, sgs_files, tlib_files):\n",
    "for lf in itertools.chain(bgb_files, bgb_files_2, bblib_files, bblib_files_2, btas_files, btas_files_2,\n",
    "                          btaw_files, btaw_files_2, btis_files, btis_files_2, btiu_files, btiu_files_2,\n",
    "                          bwb_files, bwb_files_2, bbex_files, bbex_files_2, bzv_files, bzv_files_2,\n",
    "                          cfnm_files, cfnm_files_2, dwap_files, dwap_files_2, ddm_files, ddm_files_2,\n",
    "                          dda_files, dda_files_2, mlib_files, mlib_files_2, mgb_files, mgb_files_2,\n",
    "                          mic_files, mic_files_2, plib_files, plib_files_2, rws_files, rws_files_2,\n",
    "                          sgs_files, sgs_files_2, tlib_files, tlib_files_2):  \n",
    "    \n",
    "    site_string = lf.split('/')[-2]\n",
    "    if site_string == \"baby_got_boobs\":\n",
    "        location = lf.split(\"/\")[2]\n",
    "        site_with_ps = lf.split('/')[-1].split('-')[0]\n",
    "        ps_all = lf.split(\"-\")[0].split(\"baby_got_boobs_\")[1]\n",
    "        ps_single = ps_all.split(\"__\")#.replace('_',\" \").title()\n",
    "        #print(site_string)\n",
    "        bgb_location_db_tmp.append(location)\n",
    "        bgb_location_db = pd.DataFrame(bgb_location_db_tmp)\n",
    "        bgb_db_tmp.append(ps_single)\n",
    "        bgb_db = pd.DataFrame(bgb_db_tmp)\n",
    "        bgb_site_tmp.append(site_string)\n",
    "        bgb_site_db = pd.DataFrame(bgb_site_tmp)\n",
    "        \n",
    "    elif site_string == \"big_butts_like_it_big\":\n",
    "        location = lf.split(\"/\")[2]\n",
    "        site_with_ps = lf.split('/')[-1].split('-')[0]\n",
    "        ps_all = lf.split(\"-\")[0].split(\"big_butts_like_it_big_\")[1]\n",
    "        ps_single = ps_all.split(\"__\")\n",
    "        #print(ps_single)\n",
    "        bblib_location_db_tmp.append(location)\n",
    "        bblib_location_db = pd.DataFrame(bblib_location_db_tmp)\n",
    "        bblib_db_tmp.append(ps_single)\n",
    "        bblib_db = pd.DataFrame(bblib_db_tmp)\n",
    "        bblib_site_tmp.append(site_string)\n",
    "        bblib_site_db = pd.DataFrame(bblib_site_tmp)\n",
    "        \n",
    "    elif site_string == \"big_tits_at_school\":\n",
    "        location = lf.split(\"/\")[2]\n",
    "        site_with_ps = lf.split('/')[-1].split('-')[0]\n",
    "        ps_all = lf.split(\"-\")[0].split(\"big_tits_at_school_\")[1]\n",
    "        ps_single = ps_all.split(\"__\")\n",
    "        #print(ps_single)\n",
    "        btas_location_db_tmp.append(location)\n",
    "        btas_location_db = pd.DataFrame(btas_location_db_tmp)\n",
    "        btas_db_tmp.append(ps_single)\n",
    "        btas_db = pd.DataFrame(btas_db_tmp)\n",
    "        btas_site_tmp.append(site_string)\n",
    "        btas_site_db = pd.DataFrame(btas_site_tmp)\n",
    "        \n",
    "    elif site_string == \"big_tits_at_work\":\n",
    "        location = lf.split(\"/\")[2]\n",
    "        site_with_ps = lf.split('/')[-1].split('-')[0]\n",
    "        ps_all = lf.split(\"-\")[0].split(\"big_tits_at_work_\")[1]\n",
    "        ps_single = ps_all.split(\"__\")\n",
    "        #print(ps_single)\n",
    "        btaw_location_db_tmp.append(location)\n",
    "        btaw_location_db = pd.DataFrame(btaw_location_db_tmp)\n",
    "        btaw_db_tmp.append(ps_single)\n",
    "        btaw_db = pd.DataFrame(btaw_db_tmp)\n",
    "        btaw_site_tmp.append(site_string)\n",
    "        btaw_site_db = pd.DataFrame(btaw_site_tmp)\n",
    "        \n",
    "    elif site_string == \"big_tits_in_sports\":\n",
    "        location = lf.split(\"/\")[2]\n",
    "        site_with_ps = lf.split('/')[-1].split('-')[0]\n",
    "        ps_all = lf.split(\"-\")[0].split(\"big_tits_in_sports_\")[1]\n",
    "        ps_single = ps_all.split(\"__\")\n",
    "        #print(ps_single)\n",
    "        btis_location_db_tmp.append(location)\n",
    "        btis_location_db = pd.DataFrame(btis_location_db_tmp)\n",
    "        btis_db_tmp.append(ps_single)\n",
    "        btis_db = pd.DataFrame(btis_db_tmp)       \n",
    "        btis_site_tmp.append(site_string)\n",
    "        btis_site_db = pd.DataFrame(btis_site_tmp)\n",
    "        \n",
    "    elif site_string == \"big_tits_in_uniform\":\n",
    "        location = lf.split(\"/\")[2]\n",
    "        site_with_ps = lf.split('/')[-1].split('-')[0]\n",
    "        ps_all = lf.split(\"-\")[0].split(\"big_tits_in_uniform_\")[1]\n",
    "        ps_single = ps_all.split(\"__\")\n",
    "        btiu_location_db_tmp.append(location)\n",
    "        btiu_location_db = pd.DataFrame(btiu_location_db_tmp)\n",
    "        btiu_db_tmp.append(ps_single)\n",
    "        btiu_db = pd.DataFrame(btiu_db_tmp)\n",
    "        btiu_site_tmp.append(site_string)\n",
    "        btiu_site_db = pd.DataFrame(btiu_site_tmp)\n",
    "        \n",
    "    elif site_string == \"big_wet_butts\":\n",
    "        location = lf.split(\"/\")[2]\n",
    "        site_with_ps = lf.split('/')[-1].split('-')[0]\n",
    "        ps_all = lf.split(\"-\")[0].split(\"big_wet_butts_\")[1]\n",
    "        ps_single = ps_all.split(\"__\")\n",
    "        bwb_location_db_tmp.append(location)\n",
    "        bwb_location_db = pd.DataFrame(bwb_location_db_tmp)\n",
    "        bwb_db_tmp.append(ps_single)\n",
    "        bwb_db = pd.DataFrame(bwb_db_tmp)\n",
    "        bwb_site_tmp.append(site_string)\n",
    "        bwb_site_db = pd.DataFrame(bwb_site_tmp)\n",
    "\n",
    "    elif site_string == \"brazzers_extra\":\n",
    "        location = lf.split(\"/\")[2]\n",
    "        site_with_ps = lf.split('/')[-1].split('-')[0]\n",
    "        ps_all = lf.split(\"-\")[0].split(\"brazzers_extra_\")[1]\n",
    "        ps_single = ps_all.split(\"__\")\n",
    "        bbex_location_db_tmp.append(location)\n",
    "        bbex_location_db = pd.DataFrame(bbex_location_db_tmp)\n",
    "        bbex_db_tmp.append(ps_single)\n",
    "        bbex_db = pd.DataFrame(bbex_db_tmp)\n",
    "        bbex_site_tmp.append(site_string)\n",
    "        bbex_site_db = pd.DataFrame(bbex_site_tmp)\n",
    "        \n",
    "    elif site_string == \"brazzers_vault\":\n",
    "        location = lf.split(\"/\")[2]\n",
    "        site_with_ps = lf.split('/')[-1].split('-')[0]\n",
    "        ps_all = lf.split(\"-\")[0].split(\"brazzers_vault_\")[1]\n",
    "        ps_single = ps_all.split(\"__\")\n",
    "        bzv_location_db_tmp.append(location)\n",
    "        bzv_location_db = pd.DataFrame(bzv_location_db_tmp)\n",
    "        bzv_db_tmp.append(ps_single)\n",
    "        bzv_db = pd.DataFrame(bzv_db_tmp)\n",
    "        bzv_site_tmp.append(site_string)\n",
    "        bzv_site_db = pd.DataFrame(bzv_site_tmp)\n",
    "        \n",
    "    elif site_string == \"clothed_female_naked_men\":\n",
    "        location = lf.split(\"/\")[2]\n",
    "        site_with_ps = lf.split('/')[-1].split('-')[0]\n",
    "        ps_all = lf.split(\"-\")[0].split(\"clothed_female_naked_men_\")[1]\n",
    "        ps_single = ps_all.split(\"__\")\n",
    "        cfnm_location_db_tmp.append(location)\n",
    "        cfnm_location_db = pd.DataFrame(cfnm_location_db_tmp)\n",
    "        cfnm_db_tmp.append(ps_single)\n",
    "        cfnm_db = pd.DataFrame(cfnm_db_tmp)\n",
    "        cfnm_site_tmp.append(site_string)\n",
    "        cfnm_site_db = pd.DataFrame(cfnm_site_tmp)\n",
    "    \n",
    "    elif site_string == \"day_with_a_pornstar\":\n",
    "        location = lf.split(\"/\")[2]\n",
    "        site_with_ps = lf.split('/')[-1].split('-')[0]\n",
    "        ps_all = lf.split(\"-\")[0].split(\"day_with_a_pornstar_\")[1]\n",
    "        ps_single = ps_all.split(\"__\")\n",
    "        dwap_location_db_tmp.append(location)\n",
    "        dwap_location_db = pd.DataFrame(dwap_location_db_tmp)\n",
    "        dwap_db_tmp.append(ps_single)\n",
    "        dwap_db = pd.DataFrame(dwap_db_tmp)\n",
    "        dwap_site_tmp.append(site_string)\n",
    "        dwap_site_db = pd.DataFrame(dwap_site_tmp)\n",
    "    \n",
    "    elif site_string == \"dirty_masseur\":\n",
    "        location = lf.split(\"/\")[2]\n",
    "        site_with_ps = lf.split('/')[-1].split('-')[0]\n",
    "        ps_all = lf.split(\"-\")[0].split(\"dirty_masseur_\")[1]\n",
    "        ps_single = ps_all.split(\"__\")\n",
    "        ddm_location_db_tmp.append(location)\n",
    "        ddm_location_db = pd.DataFrame(ddm_location_db_tmp)\n",
    "        ddm_db_tmp.append(ps_single)\n",
    "        ddm_db = pd.DataFrame(ddm_db_tmp)\n",
    "        ddm_site_tmp.append(site_string)\n",
    "        ddm_site_db = pd.DataFrame(ddm_site_tmp)\n",
    "        \n",
    "    elif site_string == \"doctor_adventures\":\n",
    "        location = lf.split(\"/\")[2]\n",
    "        site_with_ps = lf.split('/')[-1].split('-')[0]\n",
    "        ps_all = lf.split(\"-\")[0].split(\"doctor_adventures_\")[1]\n",
    "        ps_single = ps_all.split(\"__\")\n",
    "        dda_location_db_tmp.append(location)\n",
    "        dda_location_db = pd.DataFrame(dda_location_db_tmp)\n",
    "        dda_db_tmp.append(ps_single)\n",
    "        dda_db = pd.DataFrame(dda_db_tmp)\n",
    "        dda_site_tmp.append(site_string)\n",
    "        dda_site_db = pd.DataFrame(dda_site_tmp)\n",
    "        \n",
    "    elif site_string == \"milf_like_it_big\":\n",
    "        location = lf.split(\"/\")[2]\n",
    "        site_with_ps = lf.split('/')[-1].split('-')[0]\n",
    "        ps_all = lf.split(\"-\")[0].split(\"milf_like_it_big_\")[1]\n",
    "        ps_single = ps_all.split(\"__\")\n",
    "        mlib_location_db_tmp.append(location)\n",
    "        mlib_location_db = pd.DataFrame(mlib_location_db_tmp)\n",
    "        mlib_db_tmp.append(ps_single)\n",
    "        mlib_db = pd.DataFrame(mlib_db_tmp)\n",
    "        mlib_site_tmp.append(site_string)\n",
    "        mlib_site_db = pd.DataFrame(mlib_site_tmp)\n",
    "\n",
    "    elif site_string == \"mommy_got_boobs\":\n",
    "        location = lf.split(\"/\")[2]\n",
    "        site_with_ps = lf.split('/')[-1].split('-')[0]\n",
    "        ps_all = lf.split(\"-\")[0].split(\"mommy_got_boobs_\")[1]\n",
    "        ps_single = ps_all.split(\"__\")\n",
    "        mgb_location_db_tmp.append(location)\n",
    "        mgb_location_db = pd.DataFrame(mgb_location_db_tmp)\n",
    "        mgb_db_tmp.append(ps_single)\n",
    "        mgb_db = pd.DataFrame(mgb_db_tmp)\n",
    "        mgb_site_tmp.append(site_string)\n",
    "        mgb_site_db = pd.DataFrame(mgb_site_tmp)\n",
    "\n",
    "    elif site_string == \"moms_in_control\":\n",
    "        location = lf.split(\"/\")[2]\n",
    "        site_with_ps = lf.split('/')[-1].split('-')[0]\n",
    "        ps_all = lf.split(\"-\")[0].split(\"moms_in_control_\")[1]\n",
    "        ps_single = ps_all.split(\"__\")\n",
    "        mic_location_db_tmp.append(location)\n",
    "        mic_location_db = pd.DataFrame(mic_location_db_tmp)\n",
    "        mic_db_tmp.append(ps_single)\n",
    "        mic_db = pd.DataFrame(mic_db_tmp)\n",
    "        mic_site_tmp.append(site_string)\n",
    "        mic_site_db = pd.DataFrame(mic_site_tmp)\n",
    "    \n",
    "    elif site_string == \"pornstars_like_it_big\":\n",
    "        location = lf.split(\"/\")[2]\n",
    "        site_with_ps = lf.split('/')[-1].split('-')[0]\n",
    "        ps_all = lf.split(\"-\")[0].split(\"pornstars_like_it_big_\")[1]\n",
    "        ps_single = ps_all.split(\"__\")\n",
    "        plib_location_db_tmp.append(location)\n",
    "        plib_location_db = pd.DataFrame(plib_location_db_tmp)\n",
    "        plib_db_tmp.append(ps_single)\n",
    "        plib_db = pd.DataFrame(plib_db_tmp)\n",
    "        plib_site_tmp.append(site_string)\n",
    "        plib_site_db = pd.DataFrame(plib_site_tmp)\n",
    "        \n",
    "    elif site_string == \"real_wife_stories\":\n",
    "        location = lf.split(\"/\")[2]\n",
    "        site_with_ps = lf.split('/')[-1].split('-')[0]\n",
    "        ps_all = lf.split(\"-\")[0].split(\"real_wife_stories_\")[1]\n",
    "        ps_single = ps_all.split(\"__\")\n",
    "        rws_location_db_tmp.append(location)\n",
    "        rws_location_db = pd.DataFrame(rws_location_db_tmp)\n",
    "        rws_db_tmp.append(ps_single)\n",
    "        rws_db = pd.DataFrame(rws_db_tmp)\n",
    "        rws_site_tmp.append(site_string)\n",
    "        rws_site_db = pd.DataFrame(rws_site_tmp)\n",
    "\n",
    "    elif site_string == \"shes_gonna_squirt\":\n",
    "        location = lf.split(\"/\")[2]\n",
    "        site_with_ps = lf.split('/')[-1].split('-')[0]\n",
    "        ps_all = lf.split(\"-\")[0].split(\"shes_gonna_squirt_\")[1]\n",
    "        ps_single = ps_all.split(\"__\")\n",
    "        sgs_location_db_tmp.append(location)\n",
    "        sgs_location_db = pd.DataFrame(sgs_location_db_tmp)\n",
    "        sgs_db_tmp.append(ps_single)\n",
    "        sgs_db = pd.DataFrame(sgs_db_tmp)\n",
    "        sgs_site_tmp.append(site_string)\n",
    "        sgs_site_db = pd.DataFrame(sgs_site_tmp)\n",
    "\n",
    "    elif site_string == \"teens_like_it_big\":\n",
    "        location = lf.split(\"/\")[2]\n",
    "        site_with_ps = lf.split('/')[-1].split('-')[0]\n",
    "        ps_all = lf.split(\"-\")[0].split(\"teens_like_it_big_\")[1]\n",
    "        ps_single = ps_all.split(\"__\")\n",
    "        tlib_location_db_tmp.append(location)\n",
    "        tlib_location_db = pd.DataFrame(tlib_location_db_tmp)\n",
    "        tlib_db_tmp.append(ps_single)\n",
    "        tlib_db = pd.DataFrame(tlib_db_tmp)\n",
    "        tlib_site_tmp.append(site_string)\n",
    "        tlib_site_db = pd.DataFrame(tlib_site_tmp)\n",
    "      \n",
    "        \n",
    "# baby_got_boobs        \n",
    "bgb_db_2 = pd.concat([bgb_site_db, bgb_db, bgb_location_db], axis = 1)\n",
    "bgb_db_2.columns = ['Site', 'PS1', 'PS2', 'PS3','Location']\n",
    "bgb_db_2.loc[(bgb_db_2[\"PS2\"].isnull()), \"PS2\"] = \"no_name\"\n",
    "bgb_db_2.loc[(bgb_db_2[\"PS3\"].isnull()), \"PS3\"] = \"no_name\"\n",
    "bgb_db_2['Site'] = bgb_db_2['Site'].map(lambda name:name.replace('_', ' ').title())\n",
    "bgb_db_2['PS1'] = bgb_db_2['PS1'].map(lambda name:name.replace('_', ' ').title())\n",
    "bgb_db_2['PS2'] = bgb_db_2['PS2'].map(lambda name:name.replace('_', ' ').title())\n",
    "bgb_db_2['PS3'] = bgb_db_2['PS3'].map(lambda name:name.replace('_', ' ').title())\n",
    "\n",
    "\n",
    "#big_butts_like_it_big_\n",
    "bblib_db_2 = pd.concat([bblib_site_db, bblib_db, bblib_location_db], axis = 1)\n",
    "bblib_db_2.columns = ['Site', 'PS1', 'PS2', 'Location']\n",
    "bblib_db_2.loc[(bblib_db_2[\"PS2\"].isnull()), \"PS2\"] = \"no_name\"\n",
    "bblib_db_2['Site'] = bblib_db_2['Site'].map(lambda name:name.replace('_', ' ').title())\n",
    "bblib_db_2['PS1'] = bblib_db_2['PS1'].map(lambda name:name.replace('_', ' ').title())\n",
    "bblib_db_2['PS2'] = bblib_db_2['PS2'].map(lambda name:name.replace('_', ' ').title())\n",
    "\n",
    "\n",
    "#big_tits_at_school_\n",
    "btas_db_2 = pd.concat([btas_site_db, btas_db, btas_location_db], axis = 1)\n",
    "btas_db_2.columns = ['Site', 'PS1', 'PS2', 'PS3', 'PS4', 'Location']\n",
    "btas_db_2.loc[(btas_db_2[\"PS2\"].isnull()), \"PS2\"] = \"no_name\"\n",
    "btas_db_2.loc[(btas_db_2[\"PS3\"].isnull()), \"PS3\"] = \"no_name\"\n",
    "btas_db_2.loc[(btas_db_2[\"PS4\"].isnull()), \"PS4\"] = \"no_name\"\n",
    "btas_db_2['Site'] = btas_db_2['Site'].map(lambda name:name.replace('_', ' ').title())\n",
    "btas_db_2['PS1'] = btas_db_2['PS1'].map(lambda name:name.replace('_', ' ').title())\n",
    "btas_db_2['PS2'] = btas_db_2['PS2'].map(lambda name:name.replace('_', ' ').title())\n",
    "btas_db_2['PS3'] = btas_db_2['PS3'].map(lambda name:name.replace('_', ' ').title())\n",
    "btas_db_2['PS4'] = btas_db_2['PS4'].map(lambda name:name.replace('_', ' ').title())\n",
    "\n",
    "\n",
    "#big_tits_at_work_\n",
    "btaw_db_2 = pd.concat([btaw_site_db, btaw_db, btaw_location_db], axis = 1)\n",
    "btaw_db_2.columns = ['Site', 'PS1', 'PS2', 'PS3', 'PS4', 'Location']\n",
    "btaw_db_2.loc[(btaw_db_2[\"PS2\"].isnull()), \"PS2\"] = \"no_name\"\n",
    "btaw_db_2.loc[(btaw_db_2[\"PS3\"].isnull()), \"PS3\"] = \"no_name\"\n",
    "btaw_db_2.loc[(btaw_db_2[\"PS4\"].isnull()), \"PS4\"] = \"no_name\"\n",
    "btaw_db_2['Site'] = btaw_db_2['Site'].map(lambda name:name.replace('_', ' ').title())\n",
    "btaw_db_2['PS1'] = btaw_db_2['PS1'].map(lambda name:name.replace('_', ' ').title())\n",
    "btaw_db_2['PS2'] = btaw_db_2['PS2'].map(lambda name:name.replace('_', ' ').title())\n",
    "btaw_db_2['PS3'] = btaw_db_2['PS3'].map(lambda name:name.replace('_', ' ').title())\n",
    "btaw_db_2['PS4'] = btaw_db_2['PS4'].map(lambda name:name.replace('_', ' ').title())\n",
    "\n",
    "\n",
    "#big_tits_in_sports_\n",
    "btis_db_2 = pd.concat([btis_site_db, btis_db, btis_location_db], axis = 1)\n",
    "btis_db_2.columns = ['Site', 'PS1', 'PS2', 'PS3', 'PS4', 'PS5', 'Location']\n",
    "btis_db_2.loc[(btis_db_2[\"PS2\"].isnull()), \"PS2\"] = \"no_name\"\n",
    "btis_db_2.loc[(btis_db_2[\"PS3\"].isnull()), \"PS3\"] = \"no_name\"\n",
    "btis_db_2.loc[(btis_db_2[\"PS4\"].isnull()), \"PS4\"] = \"no_name\"\n",
    "btis_db_2.loc[(btis_db_2[\"PS5\"].isnull()), \"PS5\"] = \"no_name\"\n",
    "btis_db_2['Site'] = btis_db_2['Site'].map(lambda name:name.replace('_', ' ').title())\n",
    "btis_db_2['PS1'] = btis_db_2['PS1'].map(lambda name:name.replace('_', ' ').title())\n",
    "btis_db_2['PS2'] = btis_db_2['PS2'].map(lambda name:name.replace('_', ' ').title())\n",
    "btis_db_2['PS3'] = btis_db_2['PS3'].map(lambda name:name.replace('_', ' ').title())\n",
    "btis_db_2['PS4'] = btis_db_2['PS4'].map(lambda name:name.replace('_', ' ').title())\n",
    "btis_db_2['PS5'] = btis_db_2['PS5'].map(lambda name:name.replace('_', ' ').title())\n",
    "\n",
    "\n",
    "#big_tits_in_uniform_\n",
    "btiu_db_2 = pd.concat([btiu_site_db, btiu_db, btiu_location_db], axis = 1)\n",
    "btiu_db_2.columns = ['Site', 'PS1', 'PS2', 'PS3', 'Location']\n",
    "btiu_db_2.loc[(btiu_db_2[\"PS2\"].isnull()), \"PS2\"] = \"no_name\"\n",
    "btiu_db_2.loc[(btiu_db_2[\"PS3\"].isnull()), \"PS3\"] = \"no_name\"\n",
    "btiu_db_2['Site'] = btiu_db_2['Site'].map(lambda name:name.replace('_', ' ').title())\n",
    "btiu_db_2['PS1'] = btiu_db_2['PS1'].map(lambda name:name.replace('_', ' ').title())\n",
    "btiu_db_2['PS2'] = btiu_db_2['PS2'].map(lambda name:name.replace('_', ' ').title())\n",
    "\n",
    "\n",
    "#big_wet_butts_\n",
    "bwb_db_2 = pd.concat([bwb_site_db, bwb_db, bwb_location_db], axis = 1)\n",
    "bwb_db_2.columns = ['Site', 'PS1', 'PS2', 'PS3', 'Location']\n",
    "bwb_db_2.loc[(bwb_db_2[\"PS2\"].isnull()), \"PS2\"] = \"no_name\"\n",
    "bwb_db_2.loc[(bwb_db_2[\"PS3\"].isnull()), \"PS3\"] = \"no_name\"\n",
    "bwb_db_2['Site'] = bwb_db_2['Site'].map(lambda name:name.replace('_', ' ').title())\n",
    "bwb_db_2['PS1'] = bwb_db_2['PS1'].map(lambda name:name.replace('_', ' ').title())\n",
    "bwb_db_2['PS2'] = bwb_db_2['PS2'].map(lambda name:name.replace('_', ' ').title())\n",
    "bwb_db_2['PS3'] = bwb_db_2['PS3'].map(lambda name:name.replace('_', ' ').title())\n",
    "\n",
    "\n",
    "#brazzers_extra\n",
    "bbex_db_2 = pd.concat([bbex_site_db, bbex_db, bbex_location_db], axis = 1)\n",
    "bbex_db_2.columns = ['Site', 'PS1', 'PS2', 'PS3', 'PS4', 'PS5', 'PS6', 'PS7', 'PS8', 'PS9', 'PS10', 'Location']\n",
    "bbex_db_2.loc[(bbex_db_2[\"PS2\"].isnull()), \"PS2\"] = \"no_name\"\n",
    "bbex_db_2.loc[(bbex_db_2[\"PS3\"].isnull()), \"PS3\"] = \"no_name\"\n",
    "bbex_db_2.loc[(bbex_db_2[\"PS4\"].isnull()), \"PS4\"] = \"no_name\"\n",
    "bbex_db_2.loc[(bbex_db_2[\"PS5\"].isnull()), \"PS5\"] = \"no_name\"\n",
    "bbex_db_2.loc[(bbex_db_2[\"PS6\"].isnull()), \"PS6\"] = \"no_name\"\n",
    "bbex_db_2.loc[(bbex_db_2[\"PS7\"].isnull()), \"PS7\"] = \"no_name\"\n",
    "bbex_db_2.loc[(bbex_db_2[\"PS8\"].isnull()), \"PS8\"] = \"no_name\"\n",
    "bbex_db_2.loc[(bbex_db_2[\"PS9\"].isnull()), \"PS9\"] = \"no_name\"\n",
    "bbex_db_2.loc[(bbex_db_2[\"PS10\"].isnull()), \"PS10\"] = \"no_name\"\n",
    "bbex_db_2['Site'] = bbex_db_2['Site'].map(lambda name:name.replace('_', ' ').title())\n",
    "bbex_db_2['PS1'] = bbex_db_2['PS1'].map(lambda name:name.replace('_', ' ').title())\n",
    "bbex_db_2['PS2'] = bbex_db_2['PS2'].map(lambda name:name.replace('_', ' ').title())\n",
    "bbex_db_2['PS3'] = bbex_db_2['PS3'].map(lambda name:name.replace('_', ' ').title())\n",
    "bbex_db_2['PS4'] = bbex_db_2['PS4'].map(lambda name:name.replace('_', ' ').title())\n",
    "bbex_db_2['PS5'] = bbex_db_2['PS5'].map(lambda name:name.replace('_', ' ').title())\n",
    "bbex_db_2['PS6'] = bbex_db_2['PS6'].map(lambda name:name.replace('_', ' ').title())\n",
    "bbex_db_2['PS7'] = bbex_db_2['PS7'].map(lambda name:name.replace('_', ' ').title())\n",
    "bbex_db_2['PS8'] = bbex_db_2['PS8'].map(lambda name:name.replace('_', ' ').title())\n",
    "bbex_db_2['PS9'] = bbex_db_2['PS9'].map(lambda name:name.replace('_', ' ').title())\n",
    "bbex_db_2['PS10'] = bbex_db_2['PS10'].map(lambda name:name.replace('_', ' ').title())\n",
    "\n",
    "\n",
    "#brazzers_vault\n",
    "bzv_db_2 = pd.concat([bzv_site_db, bzv_db, bzv_location_db], axis = 1)\n",
    "bzv_db_2.columns = ['Site', 'PS1', 'PS2', 'Location']\n",
    "bzv_db_2.loc[(bzv_db_2[\"PS2\"].isnull()), \"PS2\"] = \"no_name\"\n",
    "bzv_db_2['Site'] = bzv_db_2['Site'].map(lambda name:name.replace('_', ' ').title())\n",
    "bzv_db_2['PS1'] = bzv_db_2['PS1'].map(lambda name:name.replace('_', ' ').title())\n",
    "bzv_db_2['PS2'] = bzv_db_2['PS2'].map(lambda name:name.replace('_', ' ').title())\n",
    "\n",
    "\n",
    "#clothed_female_naked_men\n",
    "cfnm_db_2 = pd.concat([cfnm_site_db, cfnm_db, cfnm_location_db], axis = 1)\n",
    "cfnm_db_2.columns = ['Site', 'PS1', 'PS2', 'Location']\n",
    "cfnm_db_2.loc[(cfnm_db_2[\"PS2\"].isnull()), \"PS2\"] = \"no_name\"\n",
    "cfnm_db_2['Site'] = cfnm_db_2['Site'].map(lambda name:name.replace('_', ' ').title())\n",
    "cfnm_db_2['PS1'] = cfnm_db_2['PS1'].map(lambda name:name.replace('_', ' ').title())\n",
    "cfnm_db_2['PS2'] = cfnm_db_2['PS2'].map(lambda name:name.replace('_', ' ').title())\n",
    "\n",
    "\n",
    "#day_with_a_pornstar\n",
    "dwap_db_2 = pd.concat([dwap_site_db, dwap_db, dwap_location_db], axis = 1)\n",
    "dwap_db_2.columns = ['Site', 'PS1', 'PS2', 'Location']\n",
    "dwap_db_2.loc[(dwap_db_2[\"PS2\"].isnull()), \"PS2\"] = \"no_name\"\n",
    "dwap_db_2['Site'] = dwap_db_2['Site'].map(lambda name:name.replace('_', ' ').title())\n",
    "dwap_db_2['PS1'] = dwap_db_2['PS1'].map(lambda name:name.replace('_', ' ').title())\n",
    "dwap_db_2['PS2'] = dwap_db_2['PS2'].map(lambda name:name.replace('_', ' ').title())\n",
    "\n",
    "\n",
    "#dirty_masseur\n",
    "ddm_db_2 = pd.concat([ddm_site_db, ddm_db, ddm_location_db], axis = 1)\n",
    "ddm_db_2.columns = ['Site', 'PS1', 'PS2', 'Location']\n",
    "ddm_db_2.loc[(ddm_db_2[\"PS2\"].isnull()), \"PS2\"] = \"no_name\"\n",
    "ddm_db_2['Site'] = ddm_db_2['Site'].map(lambda name:name.replace('_', ' ').title())\n",
    "ddm_db_2['PS1'] = ddm_db_2['PS1'].map(lambda name:name.replace('_', ' ').title())\n",
    "ddm_db_2['PS2'] = ddm_db_2['PS2'].map(lambda name:name.replace('_', ' ').title())\n",
    "\n",
    "\n",
    "#doctor_adventures_\n",
    "dda_db_2 = pd.concat([dda_site_db, dda_db, dda_location_db], axis = 1)\n",
    "dda_db_2.columns = ['Site', 'PS1', 'PS2', 'PS3', 'PS4', 'Location']\n",
    "dda_db_2.loc[(dda_db_2[\"PS2\"].isnull()), \"PS2\"] = \"no_name\"\n",
    "dda_db_2.loc[(dda_db_2[\"PS3\"].isnull()), \"PS3\"] = \"no_name\"\n",
    "dda_db_2.loc[(dda_db_2[\"PS4\"].isnull()), \"PS4\"] = \"no_name\"\n",
    "dda_db_2['Site'] = dda_db_2['Site'].map(lambda name:name.replace('_', ' ').title())\n",
    "dda_db_2['PS1'] = dda_db_2['PS1'].map(lambda name:name.replace('_', ' ').title())\n",
    "dda_db_2['PS2'] = dda_db_2['PS2'].map(lambda name:name.replace('_', ' ').title())\n",
    "dda_db_2['PS3'] = dda_db_2['PS3'].map(lambda name:name.replace('_', ' ').title())\n",
    "dda_db_2['PS4'] = dda_db_2['PS4'].map(lambda name:name.replace('_', ' ').title())\n",
    "\n",
    "\n",
    "#milf_like_it_big_\n",
    "mlib_db_2 = pd.concat([mlib_site_db, mlib_db, mlib_location_db], axis = 1)\n",
    "mlib_db_2.columns = ['Site', 'PS1', 'PS2', 'PS3', 'Location']\n",
    "mlib_db_2.loc[(mlib_db_2[\"PS2\"].isnull()), \"PS2\"] = \"no_name\"\n",
    "mlib_db_2.loc[(mlib_db_2[\"PS3\"].isnull()), \"PS3\"] = \"no_name\"\n",
    "mlib_db_2['Site'] = mlib_db_2['Site'].map(lambda name:name.replace('_', ' ').title())\n",
    "mlib_db_2['PS1'] = mlib_db_2['PS1'].map(lambda name:name.replace('_', ' ').title())\n",
    "mlib_db_2['PS2'] = mlib_db_2['PS2'].map(lambda name:name.replace('_', ' ').title())\n",
    "mlib_db_2['PS3'] = mlib_db_2['PS3'].map(lambda name:name.replace('_', ' ').title())\n",
    "\n",
    "\n",
    "#mommy_got_boobs_\n",
    "mgb_db_2 = pd.concat([mgb_site_db, mgb_db, mgb_location_db], axis = 1)\n",
    "mgb_db_2.columns = ['Site', 'PS1', 'PS2', 'PS3', 'Location']\n",
    "mgb_db_2.loc[(mgb_db_2[\"PS2\"].isnull()), \"PS2\"] = \"no_name\"\n",
    "mgb_db_2.loc[(mgb_db_2[\"PS3\"].isnull()), \"PS3\"] = \"no_name\"\n",
    "mgb_db_2['Site'] = mgb_db_2['Site'].map(lambda name:name.replace('_', ' ').title())\n",
    "mgb_db_2['PS1'] = mgb_db_2['PS1'].map(lambda name:name.replace('_', ' ').title())\n",
    "mgb_db_2['PS2'] = mgb_db_2['PS2'].map(lambda name:name.replace('_', ' ').title())\n",
    "mgb_db_2['PS3'] = mgb_db_2['PS3'].map(lambda name:name.replace('_', ' ').title())\n",
    "\n",
    "\n",
    "#moms_in_control_\n",
    "mic_db_2 = pd.concat([mic_site_db, mic_db, mic_location_db], axis = 1)\n",
    "mic_db_2.columns = ['Site', 'PS1', 'PS2', 'PS3', 'Location']\n",
    "mic_db_2.loc[(mic_db_2[\"PS2\"].isnull()), \"PS2\"] = \"no_name\"\n",
    "mic_db_2.loc[(mic_db_2[\"PS3\"].isnull()), \"PS3\"] = \"no_name\"\n",
    "mic_db_2['Site'] = mic_db_2['Site'].map(lambda name:name.replace('_', ' ').title())\n",
    "mic_db_2['PS1'] = mic_db_2['PS1'].map(lambda name:name.replace('_', ' ').title())\n",
    "mic_db_2['PS2'] = mic_db_2['PS2'].map(lambda name:name.replace('_', ' ').title())\n",
    "mic_db_2['PS3'] = mic_db_2['PS3'].map(lambda name:name.replace('_', ' ').title())\n",
    "\n",
    "\n",
    "#pornstars_like_it_big_\n",
    "plib_db_2 = pd.concat([plib_site_db, plib_db, plib_location_db], axis = 1)\n",
    "plib_db_2.columns = ['Site', 'PS1', 'PS2', 'PS3', 'PS4', 'Location']\n",
    "plib_db_2.loc[(plib_db_2[\"PS2\"].isnull()), \"PS2\"] = \"no_name\"\n",
    "plib_db_2.loc[(plib_db_2[\"PS3\"].isnull()), \"PS3\"] = \"no_name\"\n",
    "plib_db_2.loc[(plib_db_2[\"PS4\"].isnull()), \"PS4\"] = \"no_name\"\n",
    "plib_db_2['Site'] = plib_db_2['Site'].map(lambda name:name.replace('_', ' ').title())\n",
    "plib_db_2['PS1'] = plib_db_2['PS1'].map(lambda name:name.replace('_', ' ').title())\n",
    "plib_db_2['PS2'] = plib_db_2['PS2'].map(lambda name:name.replace('_', ' ').title())\n",
    "plib_db_2['PS3'] = plib_db_2['PS3'].map(lambda name:name.replace('_', ' ').title())\n",
    "plib_db_2['PS4'] = plib_db_2['PS4'].map(lambda name:name.replace('_', ' ').title())\n",
    "\n",
    "\n",
    "#real_wife_stories_\n",
    "rws_db_2 = pd.concat([rws_site_db, rws_db, rws_location_db], axis = 1)\n",
    "rws_db_2.columns = ['Site', 'PS1', 'PS2', 'PS3', 'Location']\n",
    "rws_db_2.loc[(rws_db_2[\"PS2\"].isnull()), \"PS2\"] = \"no_name\"\n",
    "rws_db_2.loc[(rws_db_2[\"PS3\"].isnull()), \"PS3\"] = \"no_name\"\n",
    "rws_db_2['Site'] = rws_db_2['Site'].map(lambda name:name.replace('_', ' ').title())\n",
    "rws_db_2['PS1'] = rws_db_2['PS1'].map(lambda name:name.replace('_', ' ').title())\n",
    "rws_db_2['PS2'] = rws_db_2['PS2'].map(lambda name:name.replace('_', ' ').title())\n",
    "rws_db_2['PS3'] = rws_db_2['PS3'].map(lambda name:name.replace('_', ' ').title())\n",
    "\n",
    "\n",
    "#shes_gonna_squirt_\n",
    "sgs_db_2 = pd.concat([sgs_site_db, sgs_db, sgs_location_db], axis = 1)\n",
    "sgs_db_2.columns = ['Site', 'PS1', 'PS2', 'Location']\n",
    "sgs_db_2.loc[(sgs_db_2[\"PS2\"].isnull()), \"PS2\"] = \"no_name\"\n",
    "sgs_db_2['Site'] = sgs_db_2['Site'].map(lambda name:name.replace('_', ' ').title())\n",
    "sgs_db_2['PS1'] = sgs_db_2['PS1'].map(lambda name:name.replace('_', ' ').title())\n",
    "sgs_db_2['PS2'] = sgs_db_2['PS2'].map(lambda name:name.replace('_', ' ').title())\n",
    "\n",
    "\n",
    "#teens_like_it_big_\n",
    "tlib_db_2 = pd.concat([tlib_site_db, tlib_db, tlib_location_db], axis = 1)\n",
    "tlib_db_2.columns = ['Site', 'PS1', 'Location']\n",
    "tlib_db_2['Site'] = tlib_db_2['Site'].map(lambda name:name.replace('_', ' ').title())\n",
    "tlib_db_2['PS1'] = tlib_db_2['PS1'].map(lambda name:name.replace('_', ' ').title())"
   ]
  },
  {
   "cell_type": "code",
   "execution_count": null,
   "metadata": {},
   "outputs": [],
   "source": []
  },
  {
   "cell_type": "code",
   "execution_count": null,
   "metadata": {},
   "outputs": [],
   "source": [
    "bgb_db_2.loc[(bgb_db_2[\"Pornstar 2\"].isnull()), \"Pornstar 2\"] = \"no_name\""
   ]
  },
  {
   "cell_type": "code",
   "execution_count": null,
   "metadata": {},
   "outputs": [],
   "source": [
    "tlib_db_2"
   ]
  },
  {
   "cell_type": "code",
   "execution_count": null,
   "metadata": {},
   "outputs": [],
   "source": [
    "bgb_db_2"
   ]
  },
  {
   "cell_type": "code",
   "execution_count": null,
   "metadata": {},
   "outputs": [],
   "source": [
    "def replace_title(name):\n",
    "    return name.replace(\"_\",\" \")"
   ]
  },
  {
   "cell_type": "code",
   "execution_count": null,
   "metadata": {},
   "outputs": [],
   "source": [
    "#bgb_db_2[[\"Site\", \"Pornstar 1\"]] = bgb_db_2[[\"Site\", \"Pornstar 1\"]].apply(replace_title)\n",
    "#bgb_db_2[[\"Site\"]] = bgb_db_2[[\"Site\"]].apply(replace_title)\n",
    "bgb_db_2['Site'] = bgb_db_2['Site'].map(lambda name:name.replace('_', ' ').title())\n",
    "bgb_db_2['Pornstar 1'] = bgb_db_2['Pornstar 1'].map(lambda name:name.replace('_', ' ').title())\n",
    "bgb_db_2['Pornstar 2'] = bgb_db_2['Pornstar 2'].map(lambda name:name.replace('_', ' ').title())\n"
   ]
  },
  {
   "cell_type": "code",
   "execution_count": null,
   "metadata": {},
   "outputs": [],
   "source": [
    "#DataFrame. loc [boolean_condition, column_name] = new_value\n",
    "\n",
    "#bgb_db_2.loc[(bgb_db_2[\"Pornstar 2\"] == \"None\"), \"Pornstar 2\"] = \"no_name\"\n",
    "\n",
    "print(bgb_db_2)"
   ]
  },
  {
   "cell_type": "code",
   "execution_count": null,
   "metadata": {},
   "outputs": [],
   "source": [
    "bgb_db_2"
   ]
  },
  {
   "cell_type": "code",
   "execution_count": null,
   "metadata": {},
   "outputs": [],
   "source": []
  },
  {
   "cell_type": "code",
   "execution_count": null,
   "metadata": {},
   "outputs": [],
   "source": [
    "for cols in bgb_db_2.columns:\n",
    "    print(cols)\n",
    "    if cols == \"Location\":\n",
    "        continue\n",
    "    else:\n",
    "        bgb_db_2[cols] = bgb_db_2[cols].map(lambda name:name.replace('_', ' ').title())\n",
    "          "
   ]
  },
  {
   "cell_type": "code",
   "execution_count": null,
   "metadata": {},
   "outputs": [],
   "source": [
    "df_n = pd.concat([btiu_db_2, btaw_db_2])"
   ]
  },
  {
   "cell_type": "code",
   "execution_count": null,
   "metadata": {},
   "outputs": [],
   "source": [
    "import numpy as np\n",
    "bgb_db.fillna(value=pd.np.nan, inplace=True)"
   ]
  },
  {
   "cell_type": "code",
   "execution_count": null,
   "metadata": {},
   "outputs": [],
   "source": [
    "bgb_db.columns = ['PS1', 'PS2', 'PS3']"
   ]
  },
  {
   "cell_type": "code",
   "execution_count": null,
   "metadata": {},
   "outputs": [],
   "source": [
    "bgb_db['PS1'] = bgb_db['PS1'].map(lambda name:name.replace('_', ' ').title())"
   ]
  },
  {
   "cell_type": "code",
   "execution_count": null,
   "metadata": {},
   "outputs": [],
   "source": [
    "bgb_db"
   ]
  },
  {
   "cell_type": "code",
   "execution_count": null,
   "metadata": {},
   "outputs": [],
   "source": [
    "ps_tmp = btas_db_2['Pornstar 1'].replace('_', \" \")"
   ]
  },
  {
   "cell_type": "code",
   "execution_count": null,
   "metadata": {},
   "outputs": [],
   "source": [
    "btas_db_2['Pornstar 1'] = btas_db_2['Pornstar 1'].map(lambda name:name.replace('_', ' ').title())"
   ]
  },
  {
   "cell_type": "code",
   "execution_count": null,
   "metadata": {},
   "outputs": [],
   "source": [
    "bgb_db"
   ]
  },
  {
   "cell_type": "code",
   "execution_count": null,
   "metadata": {},
   "outputs": [],
   "source": [
    "df['name'].map(lambda name: name.upper())"
   ]
  },
  {
   "cell_type": "code",
   "execution_count": null,
   "metadata": {},
   "outputs": [],
   "source": []
  },
  {
   "cell_type": "code",
   "execution_count": null,
   "metadata": {},
   "outputs": [],
   "source": [
    "df_n = df_n[['Pornstar 1', 'Pornstar 2', 'Pornstar 3', 'Pornstar 4', 'Location']]"
   ]
  },
  {
   "cell_type": "code",
   "execution_count": null,
   "metadata": {},
   "outputs": [],
   "source": [
    "df_n"
   ]
  },
  {
   "cell_type": "code",
   "execution_count": null,
   "metadata": {},
   "outputs": [],
   "source": [
    "ps = \"tarra_white\""
   ]
  },
  {
   "cell_type": "code",
   "execution_count": null,
   "metadata": {},
   "outputs": [],
   "source": [
    "print(ps.replace('_',\" \").title())"
   ]
  },
  {
   "cell_type": "code",
   "execution_count": null,
   "metadata": {},
   "outputs": [],
   "source": [
    "import getpass"
   ]
  },
  {
   "cell_type": "code",
   "execution_count": null,
   "metadata": {
    "code_folding": [],
    "scrolled": true
   },
   "outputs": [],
   "source": [
    "import itertools\n",
    "\n",
    "ps_list_1 = []\n",
    "ps_list_2 = []\n",
    "title_list = []\n",
    "site_name = []\n",
    "link_name = []\n",
    "\n",
    "\n",
    "for lf in itertools.chain(bgb_files, bgb_files_2, bblib_files, bblib_files_2, btas_files, btaw_files,\n",
    "                          btis_files, btiu_files, bwb_files, bbex_files, bbex_files_2,\n",
    "                          bzv_files, cfnm_files, dwap_files, dwap_files_2, ddm_files,\n",
    "                          dda_files, mlib_files, mgb_files, mic_files, \n",
    "                          plib_files, rws_files, sgs_files, tlib_files):\n",
    "                          \n",
    "#for lf in itertools.chain(bzv_files[:9]):\n",
    "    #print(lf)\n",
    "    site_string = lf.split('/')[-2]\n",
    "    #print(site_string)\n",
    "    site_with_ps = lf.split('/')[-1].split('-')[0]#.split('-')[0]\n",
    "    #print('ps1_tmp: ', site_with_ps)\n",
    "    if site_string in site_with_ps:\n",
    "        ps_only = site_with_ps.replace(site_string + '_', \"\")\n",
    "        #print('ps_only: ', ps_only)\n",
    "        if \"__\" in ps_only:\n",
    "            ps_first = ps_only.split('__')[0]\n",
    "            #print('ps_first: ', ps_first)\n",
    "            firstname_1 = ps_first.split('_')[0]\n",
    "            #print('firstname_1', firstname_1)\n",
    "            \n",
    "            surname_1 = ps_first.split('_',1)[1]\n",
    "            surname_2 = ps_first.split('_',2)[1]\n",
    "            #print('surname_2', surname_2)\n",
    "            \n",
    "            ps_first_new = firstname_1.capitalize() + ' ' + surname_1.capitalize()\n",
    "            #print('ps_first_new', ps_first_new)\n",
    "            \n",
    "            ps_second = ps_only.split('__')[1]\n",
    "            #print('ps_Second: ', ps_second)\n",
    "            firstname_2 = ps_second.split('_')[0]\n",
    "            surname_2 = ps_second.split('_')[1]\n",
    "            ps_second_new = firstname_2.capitalize() + ' ' + surname_2.capitalize()\n",
    "            #print('ps_second_new', ps_second_new####\n",
    "\n",
    "            \n",
    "            ps_list_1.append(ps_first_new)\n",
    "            ps_list_2.append(ps_second_new)\n",
    "            \n",
    "        else:\n",
    "            #ps_first = ps_only.split('_')[0]\n",
    "            #print('XX')\n",
    "            firstname_1 = ps_only.split('_')[0]\n",
    "            #print('fn1: ', firstname_1)\n",
    "            surname_1 = ps_only.split('_')[1]\n",
    "            #print('sn1: ', surname_1)\n",
    "            \n",
    "            ps1_new = firstname_1.capitalize() + ' ' + surname_1.capitalize() \n",
    "            #print('ps1_new: ', ps1_new)\n",
    "            ps_list_1.append(ps1_new)\n",
    "            ps_list_2.append('only ' + ps1_new)\n",
    "\n",
    " \n",
    "    title_string_small = lf.split('/')[-1].split('-')[1].split('.mp4')[0].split('_')[:-1] \n",
    "    title_string_big = ' '.join(title_string_small).title()\n",
    "    title_list.append(title_string_big)\n",
    "    \n",
    "    site_name.append(lf.split('/')[-2].replace('_', ' ').title())    \n",
    "    link_name.append(lf)\n",
    "    \n",
    "ps_1_db = pd.DataFrame(ps_list_1)\n",
    "ps_2_db = pd.DataFrame(ps_list_2)\n",
    "title_list_db = pd.DataFrame(title_list)\n",
    "site_name_db = pd.DataFrame(site_name)\n",
    "link_name_db = pd.DataFrame(link_name) \n",
    "\n",
    "df_all = pd.concat([site_name_db, ps_1_db, ps_2_db, title_list_db, link_name_db], axis = 1)\n",
    "df_all.columns =['Site Name', 'Pornstar 1', 'Pornstar 2', 'Title', 'Link']\n",
    "\n",
    "\n",
    "for lf in df_all['Site Name'].unique():\n",
    "    print(lf,':', len(df_all[df_all['Site Name'] == lf]['Site Name']))\n",
    "print('Length overall: ', len(df_all['Title']))\n",
    "df_bra_nice = df_all.set_index(['Site Name', 'Pornstar 1']).sort_index()\n",
    "#df_bra_nice\n",
    "#qgrid_widget = qgrid.show_grid(df_bra_nice)\n",
    "#qgrid_widget\n",
    "#qgrid_widget_2 = qgrid.show_grid(df_all, show_toolbar=True)\n",
    "#qgrid_widget_2\n"
   ]
  },
  {
   "cell_type": "code",
   "execution_count": null,
   "metadata": {},
   "outputs": [],
   "source": [
    "\n",
    "\n",
    "\n",
    "\n",
    "\n"
   ]
  },
  {
   "cell_type": "code",
   "execution_count": null,
   "metadata": {},
   "outputs": [],
   "source": [
    "bblib_db"
   ]
  },
  {
   "cell_type": "code",
   "execution_count": null,
   "metadata": {},
   "outputs": [],
   "source": []
  },
  {
   "cell_type": "code",
   "execution_count": null,
   "metadata": {},
   "outputs": [],
   "source": [
    "btiu_db"
   ]
  },
  {
   "cell_type": "code",
   "execution_count": null,
   "metadata": {},
   "outputs": [],
   "source": []
  },
  {
   "cell_type": "code",
   "execution_count": null,
   "metadata": {},
   "outputs": [],
   "source": [
    "del bgb_db"
   ]
  },
  {
   "cell_type": "code",
   "execution_count": null,
   "metadata": {},
   "outputs": [],
   "source": []
  },
  {
   "cell_type": "code",
   "execution_count": null,
   "metadata": {},
   "outputs": [],
   "source": []
  },
  {
   "cell_type": "code",
   "execution_count": null,
   "metadata": {},
   "outputs": [],
   "source": [
    "df_bra_nice"
   ]
  },
  {
   "cell_type": "code",
   "execution_count": null,
   "metadata": {},
   "outputs": [],
   "source": [
    "import mitosheet\n",
    "mitosheet.sheet(df_bra_nice, view_df=True)"
   ]
  },
  {
   "cell_type": "code",
   "execution_count": null,
   "metadata": {},
   "outputs": [],
   "source": [
    "# MITO CODE START (DO NOT EDIT)\n",
    "\n",
    "from mitosheet import * # Import necessary functions from Mito\n",
    "register_analysis('UUID-241cb26d-5007-4dfa-bb07-448143e15ade') # Let Mito know which analysis is being run\n",
    "\n",
    "# Reordered Pornstar 2 in df_bra_nice\n",
    "df_bra_nice_columns = [col for col in df_bra_nice.columns if col != 'Pornstar 2']\n",
    "df_bra_nice_columns.insert(0, 'Pornstar 2')\n",
    "df_bra_nice = df_bra_nice[df_bra_nice_columns]\n",
    "\n",
    "  \n",
    "# MITO CODE END (DO NOT EDIT)"
   ]
  },
  {
   "cell_type": "code",
   "execution_count": null,
   "metadata": {},
   "outputs": [],
   "source": []
  },
  {
   "cell_type": "code",
   "execution_count": null,
   "metadata": {},
   "outputs": [],
   "source": [
    "import tabloo\n",
    "tabloo.show(df_all)"
   ]
  },
  {
   "cell_type": "code",
   "execution_count": null,
   "metadata": {},
   "outputs": [],
   "source": []
  },
  {
   "cell_type": "code",
   "execution_count": null,
   "metadata": {},
   "outputs": [],
   "source": [
    "df_all.to_csv('df_csv', index=False)"
   ]
  },
  {
   "cell_type": "code",
   "execution_count": null,
   "metadata": {},
   "outputs": [],
   "source": [
    "## exceute this cell for open the choosen link in the qgrid!\n",
    "import os, subprocess, sys\n",
    "#path_to_bra_file = df_all[df_all['Pornstar 1'] == 'Abbie Cat']['Link'].iloc[0]\n",
    "\n",
    "\n",
    "selected_df = []\n",
    "selected_df = qgrid_widget_2.get_changed_df()#['Link'\n",
    "path_to_bra_file = selected_df['Link'].iloc[0]\n",
    "subprocess.call(['open', path_to_bra_file])"
   ]
  },
  {
   "cell_type": "code",
   "execution_count": null,
   "metadata": {},
   "outputs": [],
   "source": [
    "selected_df = qgrid_widget_2.get_changed_df()\n",
    "len(selected_df['Pornstar 1'])"
   ]
  },
  {
   "cell_type": "code",
   "execution_count": null,
   "metadata": {},
   "outputs": [],
   "source": [
    "df_sel_ps = selected_df[['Site Name', 'Pornstar 1', 'Title']]\n",
    "df_sel_ps"
   ]
  },
  {
   "cell_type": "code",
   "execution_count": null,
   "metadata": {},
   "outputs": [],
   "source": [
    "sub = 'pulling'\n",
    "df_sel_ps['Title'].str.find(sub)"
   ]
  },
  {
   "cell_type": "code",
   "execution_count": null,
   "metadata": {},
   "outputs": [],
   "source": []
  },
  {
   "cell_type": "code",
   "execution_count": null,
   "metadata": {},
   "outputs": [],
   "source": []
  },
  {
   "cell_type": "code",
   "execution_count": null,
   "metadata": {},
   "outputs": [],
   "source": [
    "global_hbox = wg.Box()\n",
    "global_hbox.children = [button_site, button_ps_1, button_ps_2, button_get_link, button_play_file]\n",
    "\n",
    "output_btn = wg.Output()\n",
    "#plot_output = wg.Output()\n",
    "\n",
    "display(global_hbox)\n",
    "display(output_btn)"
   ]
  },
  {
   "cell_type": "code",
   "execution_count": null,
   "metadata": {},
   "outputs": [],
   "source": [
    "## exceute this cell for open the choosen link in the qgrid!\n",
    "import os, subprocess, sys\n",
    "#path_to_bra_file = df_all[df_all['Pornstar 1'] == 'Abbie Cat']['Link'].iloc[0]\n",
    "\n",
    "\n",
    "selected_df = []\n",
    "selected_df = qgrid_widget_2.get_changed_df()#['Link'\n",
    "path_to_bra_file = selected_df['Link'].iloc[0]\n",
    "subprocess.call(['open', path_to_bra_file])"
   ]
  },
  {
   "cell_type": "code",
   "execution_count": null,
   "metadata": {},
   "outputs": [],
   "source": [
    "#df_all.groupby(['Site Name', 'Pornstar 1']).count()\n",
    "import numpy as np\n",
    "sorted_ps1 = df_all['Pornstar 1'].unique()"
   ]
  },
  {
   "cell_type": "code",
   "execution_count": null,
   "metadata": {},
   "outputs": [],
   "source": [
    "np.sort(sorted_ps1)"
   ]
  },
  {
   "cell_type": "code",
   "execution_count": null,
   "metadata": {},
   "outputs": [],
   "source": [
    "def make_clickable(link):\n",
    "    # target _blank to open new window\n",
    "    # extract clickable text to display for your link\n",
    "    #text = link.split('=')[1]\n",
    "    text = link\n",
    "    return f'<a target=\"_blank\" href=\"{link}\">{text}</a>'\n",
    "\n",
    "# link is the column with hyperlinks\n",
    "df_all['Link'] = df_all['Link'].apply(make_clickable)\n",
    "#df_all = df_all.to_html(escape=False)\n",
    "#st.write(df_all, unsafe_allow_html=True)"
   ]
  },
  {
   "cell_type": "code",
   "execution_count": null,
   "metadata": {},
   "outputs": [],
   "source": [
    "import os, subprocess, sys\n",
    "path_to_bra_file = df_all[df_all['Pornstar 1'] == 'Abbie Cat']['Link'].iloc[0]\n",
    "subprocess.call(['open', path_to_bra_file])\n",
    "#df_all['Link']"
   ]
  },
  {
   "cell_type": "code",
   "execution_count": null,
   "metadata": {},
   "outputs": [],
   "source": [
    "class Link_Button(widgets.Button):\n",
    "    \"\"\"A button that can holds a value as a attribute.\"\"\"\n",
    "\n",
    "    def __init__(self, start_wert=None, *args, **kwargs):\n",
    "        super(Link_Button, self).__init__(*args, **kwargs)\n",
    "        # Create the value attribute.\n",
    "        self.add_traits(wert=traitlets.Any(start_wert))\n",
    "\n",
    "def add_num(ex):\n",
    "    ex.wert = ex.wert+1\n",
    "    print(ex.wert)\n",
    "\n",
    "link_btn = Link_Button(description=\"Link\", start_wert=111)\n",
    "link_btn.on_click(add_num)\n",
    "display(link_btn)"
   ]
  },
  {
   "cell_type": "code",
   "execution_count": null,
   "metadata": {},
   "outputs": [],
   "source": []
  },
  {
   "cell_type": "code",
   "execution_count": null,
   "metadata": {},
   "outputs": [],
   "source": [
    "returned_value"
   ]
  },
  {
   "cell_type": "code",
   "execution_count": null,
   "metadata": {},
   "outputs": [],
   "source": []
  },
  {
   "cell_type": "code",
   "execution_count": null,
   "metadata": {},
   "outputs": [],
   "source": []
  },
  {
   "cell_type": "code",
   "execution_count": null,
   "metadata": {},
   "outputs": [],
   "source": [
    "path_to_bra_file = df_all[df_all['Pornstar 1'] == 'Abbie Cat']['Link'].iloc[0]"
   ]
  },
  {
   "cell_type": "code",
   "execution_count": null,
   "metadata": {},
   "outputs": [],
   "source": [
    "def on_button_clicked_get_link(self):\n",
    "    print('Button \\'Get Link\\' was clicked!')\n",
    "    output_btn.clear_output()\n",
    "    \n",
    "    with output_btn:\n",
    "        selected_df = []\n",
    "        selected_df = qgrid_widget_2.get_changed_df()#['Link'\n",
    "        returned_value = selected_df['Link'].iloc[0]\n",
    "        print(returned_value)\n",
    "\n",
    "def on_button_clicked_play_file(self):\n",
    "    #print('Button \\'Get Link\\' was clicked!')\n",
    "    output_btn.clear_output()\n",
    "    \n",
    "    with output_btn:\n",
    "        selected_df = []\n",
    "        selected_df = qgrid_widget_2.get_changed_df()#['Link'\n",
    "        path_to_bra_file = selected_df['Link'].iloc[0]\n",
    "        subprocess.call(['open', path_to_bra_file])"
   ]
  },
  {
   "cell_type": "code",
   "execution_count": null,
   "metadata": {},
   "outputs": [],
   "source": [
    "\n",
    "button_site = wg.Button(description='Get Site')\n",
    "button_ps_1 = wg.Button(description='Get Pornstar 1')\n",
    "button_ps_2 = wg.Button(description='Get Pornstar 2')\n",
    "button_get_link = wg.Button(description='Get Link')\n",
    "button_play_file = wg.Button(description='Play File')\n",
    "\n",
    "button_get_link.on_click(on_button_clicked_get_link)\n",
    "button_play_file.on_click(on_button_clicked_play_file)\n"
   ]
  },
  {
   "cell_type": "code",
   "execution_count": null,
   "metadata": {},
   "outputs": [],
   "source": [
    "global_hbox = wg.Box()\n",
    "global_hbox.children = [button_site, button_ps_1, button_ps_2, button_get_link, button_play_file]\n",
    "\n",
    "output_btn = wg.Output()\n",
    "#plot_output = wg.Output()\n",
    "\n",
    "display(global_hbox)\n",
    "display(output_btn)\n",
    "\n",
    "\n"
   ]
  },
  {
   "cell_type": "code",
   "execution_count": null,
   "metadata": {},
   "outputs": [],
   "source": []
  },
  {
   "cell_type": "code",
   "execution_count": null,
   "metadata": {},
   "outputs": [],
   "source": [
    "selected_df = qgrid_widget_2.get_changed_df()"
   ]
  },
  {
   "cell_type": "code",
   "execution_count": null,
   "metadata": {},
   "outputs": [],
   "source": [
    "selected_df['Link']"
   ]
  },
  {
   "cell_type": "code",
   "execution_count": null,
   "metadata": {},
   "outputs": [],
   "source": [
    "!python --version"
   ]
  },
  {
   "cell_type": "code",
   "execution_count": null,
   "metadata": {},
   "outputs": [],
   "source": [
    "df_all[(df_all['Site Name'] == 'Baby Got Boobs') | (df_all['Site Name'] == 'Big Tits In Uniform')]"
   ]
  },
  {
   "cell_type": "code",
   "execution_count": null,
   "metadata": {},
   "outputs": [],
   "source": [
    "df_bra_nice"
   ]
  },
  {
   "cell_type": "code",
   "execution_count": null,
   "metadata": {},
   "outputs": [],
   "source": [
    "%pwd\n",
    "%cd /Users/joerg/Downloads"
   ]
  },
  {
   "cell_type": "code",
   "execution_count": null,
   "metadata": {},
   "outputs": [],
   "source": [
    "import io\n",
    "\n",
    "import base64\n",
    "video = io.open('/Volumes/WERDERNAS_X/VIDEOS_X/BRAZZERS/big_tits_in_uniform/big_tits_in_uniform_riley_evans-firefighter_fucker_1080p.mp4', 'r+b').read()\n",
    "# encoded = base64.b64encode(video)\n",
    "# HTML(data='''\n",
    "# <video controls>\n",
    "#     <source src=\"data:video/mp4;base64,{0}\" type=\"video/mp4\" />\n",
    "# </video>'''.format(encoded.decode('ascii')))"
   ]
  },
  {
   "cell_type": "code",
   "execution_count": null,
   "metadata": {},
   "outputs": [],
   "source": [
    "%%HTML\n",
    "<video controls autoplay>\n",
    "    <source src=\"/Volumes/WERDERNAS_X/VIDEOS_X/BRAZZERS/big_tits_in_uniform/big_tits_in_uniform_riley_evans-firefighter_fucker_1080p.mp4\" type=\"video/mp4\"/>\n",
    "</video>"
   ]
  },
  {
   "cell_type": "code",
   "execution_count": null,
   "metadata": {},
   "outputs": [],
   "source": [
    "!python --version"
   ]
  },
  {
   "cell_type": "code",
   "execution_count": null,
   "metadata": {},
   "outputs": [],
   "source": [
    "from ipywebrtc import VideoStream"
   ]
  },
  {
   "cell_type": "code",
   "execution_count": null,
   "metadata": {},
   "outputs": [],
   "source": [
    "video2 = VideoStream.from_url('/Volumes/WERDERNAS_X/VIDEOS_X/BRAZZERS/big_tits_in_uniform/big_tits_in_uniform_riley_evans-firefighter_fucker_1080p.mp4')\n",
    "video2"
   ]
  },
  {
   "cell_type": "code",
   "execution_count": null,
   "metadata": {},
   "outputs": [],
   "source": [
    "from ipywidgets import Video, Image\n",
    "#video3 = Video.from_file('brazzers_extra_alena_croft__nina_elle__jayden_jaymes__summer_brielle__susy_gala__kayla_kayden-best_of_brazzers_hottest_bosses_720p.mp4')\n",
    "video4 = Video.from_file('/Volumes/WERDERNAS_X/VIDEOS_X/BRAZZERS/brazzers_extra/brazzers_extra_alena_croft__nina_elle__jayden_jaymes__summer_brielle__susy_gala__kayla_kayden-best_of_brazzers_hottest_bosses_720p.mp4')\n",
    "\n",
    "video4\n",
    "#from IPython.display import display\n",
    "#import numpy as np\n",
    "#import cv2\n",
    "#import base64"
   ]
  },
  {
   "cell_type": "code",
   "execution_count": null,
   "metadata": {},
   "outputs": [],
   "source": [
    "import cv2\n",
    "cap = cv2.VideoCapture(\"out1.avi\")\n",
    "cv2.namedWindow(\"input\")\n",
    "while(True):\n",
    "    f, img = cap.read()\n",
    "    cv2.imshow(\"input\", img)\n",
    "    cv2.waitKey(1)"
   ]
  },
  {
   "cell_type": "code",
   "execution_count": null,
   "metadata": {},
   "outputs": [],
   "source": [
    "from ipywebrtc import VideoStream\n",
    "video = VideoStream.from_file('/Volumes/WERDERNAS_X/VIDEOS_X/BRAZZERS/brazzers_extra/brazzers_extra_alena_croft__nina_elle__jayden_jaymes__summer_brielle__susy_gala__kayla_kayden-best_of_brazzers_hottest_bosses_720p.mp4', play=True)\n",
    "#recorder = MediaRecorder(source=video)\n",
    "video"
   ]
  },
  {
   "cell_type": "code",
   "execution_count": null,
   "metadata": {},
   "outputs": [],
   "source": [
    "#video = Video.from_file('/Volumes/WERDERNAS_X/VIDEOS_X/BRAZZERS/big_tits_in_uniform/big_tits_in_uniform_riley_evans-firefighter_fucker_1080p.mp4')\n",
    "#video2 = Video.from_file('5445_04_hd.mp4')\n"
   ]
  },
  {
   "cell_type": "code",
   "execution_count": null,
   "metadata": {},
   "outputs": [],
   "source": [
    "import cv2\n",
    "cap = cv2.VideoCapture(\"/Volumes/WERDERNAS_X/VIDEOS_X/BRAZZERS/brazzers_extra/brazzers_extra_alena_croft__nina_elle__jayden_jaymes__summer_brielle__susy_gala__kayla_kayden-best_of_brazzers_hottest_bosses_720p.mp4\")\n",
    "cv2.namedWindow(\"input\")\n",
    "while(True):\n",
    "    f, img = cap.read()\n",
    "    cv2.imshow(\"input\", img)\n",
    "    cv2.waitKey(1)"
   ]
  },
  {
   "cell_type": "code",
   "execution_count": null,
   "metadata": {},
   "outputs": [],
   "source": [
    "vlc open \"/Volumes/WERDERNAS_X/VIDEOS_X/BRAZZERS/brazzers_extra/brazzers_extra_alena_croft__nina_elle__jayden_jaymes__summer_brielle__susy_gala__kayla_kayden-best_of_brazzers_hottest_bosses_720p.mp4\""
   ]
  },
  {
   "cell_type": "code",
   "execution_count": null,
   "metadata": {},
   "outputs": [],
   "source": []
  },
  {
   "cell_type": "code",
   "execution_count": null,
   "metadata": {},
   "outputs": [],
   "source": [
    "#from IPython.display import HTML\n",
    "#video_path = '/Volumes/WERDERNAS_X/VIDEOS_X/BRAZZERS/big_tits_in_uniform/big_tits_in_uniform_riley_evans-firefighter_fucker_1080p.mp4'\n",
    "%cd /Volumes/WERDERNAS_X/VIDEOS_X/MISC_MOVIES/\n",
    "from IPython.display import HTML\n",
    "\n",
    "HTML(\"\"\"\n",
    "    <video alt=\"test\" controls>\n",
    "        <source src=\"sincity_sodom4_sc4_high.mp4\" type=\"video/mp4\">\n",
    "    </video>\n",
    "\"\"\")"
   ]
  },
  {
   "cell_type": "code",
   "execution_count": null,
   "metadata": {},
   "outputs": [],
   "source": [
    "%pwd"
   ]
  },
  {
   "cell_type": "code",
   "execution_count": null,
   "metadata": {},
   "outputs": [],
   "source": [
    "%cd /Volumes/WERDERNAS_X/VIDEOS_X/MISC_MOVIES/\n"
   ]
  },
  {
   "cell_type": "code",
   "execution_count": null,
   "metadata": {},
   "outputs": [],
   "source": [
    "%pwd"
   ]
  },
  {
   "cell_type": "code",
   "execution_count": null,
   "metadata": {},
   "outputs": [],
   "source": [
    "%%HTML\n",
    "<video  type=\"video/mp4\" width=840 height=460>\n",
    "    <source src= \"5445_04_hd.mp4\"\n",
    "</video>"
   ]
  },
  {
   "cell_type": "code",
   "execution_count": null,
   "metadata": {},
   "outputs": [],
   "source": [
    "from IPython.display import HTML\n",
    "from base64 import b64encode\n",
    "filename = \n",
    "def play(filename):\n",
    "    html = ''\n",
    "    video = open(filename,'rb').read()\n",
    "    src = 'data:video/mp4;base64,' + b64encode(video).decode()\n",
    "    html += '<video width=1000 controls autoplay loop><source src=\"%s\" type=\"video/mp4\"></video>' % src \n",
    "    return HTML(html)\n",
    "\n",
    "play('video.mp4')"
   ]
  },
  {
   "cell_type": "code",
   "execution_count": null,
   "metadata": {},
   "outputs": [],
   "source": [
    "fff = 'hallo_echo_echo1_echo2'"
   ]
  },
  {
   "cell_type": "code",
   "execution_count": null,
   "metadata": {},
   "outputs": [],
   "source": [
    "title_string_big = fff.split('_')[:-1]"
   ]
  },
  {
   "cell_type": "code",
   "execution_count": null,
   "metadata": {},
   "outputs": [],
   "source": [
    "title_string_big2 = ' '.join(title_string_big).title()"
   ]
  },
  {
   "cell_type": "code",
   "execution_count": null,
   "metadata": {},
   "outputs": [],
   "source": [
    "title_string_big2"
   ]
  },
  {
   "cell_type": "code",
   "execution_count": null,
   "metadata": {},
   "outputs": [],
   "source": [
    "df_bra_nice = df_all.set_index(['Pornstar 1', 'Pornstar 2', 'Title'])\n",
    "qgrid_widget = qgrid.show_grid(df_bra_nice)\n",
    "qgrid_widget"
   ]
  },
  {
   "cell_type": "code",
   "execution_count": null,
   "metadata": {},
   "outputs": [],
   "source": []
  },
  {
   "cell_type": "markdown",
   "metadata": {},
   "source": [
    "## Directory baby_got_boobs"
   ]
  },
  {
   "cell_type": "code",
   "execution_count": null,
   "metadata": {},
   "outputs": [],
   "source": [
    "ps_list_1_bgb = []\n",
    "ps_list_2_bgb = []\n",
    "title_list_bgb = []\n",
    "site_name = []\n",
    "\n",
    "\n",
    "\n",
    "\n",
    "\n",
    "\n",
    "\n",
    "for lf in bgb_files[:]:\n",
    "    #print(lf)\n",
    "    ps1_tmp = lf.split('/')[-1].split('-')[0].split('-')[0]\n",
    "    if \"baby_got_boobs_\" in ps1_tmp:\n",
    "        ps1_tmp = ps1_tmp.replace(\"baby_got_boobs_\", \"\")\n",
    "        if \"__\" in ps1_tmp:\n",
    "            ps_1 = ps1_tmp.split('__')[0]\n",
    "            firstname_1 = ps_1.split('_')[0]\n",
    "            surname_1 = ps_1.split('_')[1]\n",
    "            ps1_new = firstname_1.capitalize() + ' ' + surname_1.capitalize() \n",
    "            \n",
    "            ps_2 = ps1_tmp.split('__')[1]\n",
    "            firstname_2 = ps_2.split('_')[0]\n",
    "            surname_2 = ps_2.split('_')[1]\n",
    "            ps2_new = firstname_2.capitalize() + ' ' + surname_2.capitalize() \n",
    "            \n",
    "            ps_list_1_bgb.append(ps1_new)\n",
    "            ps_list_2_bgb.append(ps2_new)\n",
    "            #print(ps12)\n",
    "        else:\n",
    "            #print(ps1)\n",
    "            ps_1 = ps1_tmp.split('__')[0]\n",
    "            firstname_1 = ps_1.split('_')[0]\n",
    "            surname_1 = ps_1.split('_')[1]\n",
    "            ps1_new = firstname_1.capitalize() + ' ' + surname_1.capitalize() \n",
    "                                 \n",
    "            ps_list_1_bgb.append(ps1_new)\n",
    "            ps_list_2_bgb.append('')\n",
    "            \n",
    "    title_list_bgb.append(lf.split('-')[1])\n",
    "    site_name.append('Baby Got Boobs')\n",
    "    \n",
    "ps_bgb_1 = pd.DataFrame(ps_list_1_bgb)\n",
    "ps_bgb_2 = pd.DataFrame(ps_list_2_bgb)\n",
    "bgb_title_list = pd.DataFrame(title_list_bgb)\n",
    "site_name_list = pd.DataFrame(site_name)\n",
    "\n",
    "df_all_bgb = pd.concat([site_name_list, ps_bgb_1, ps_bgb_2, bgb_title_list], axis = 1)\n",
    "df_all_bgb.columns =['Site Name', 'Pornstar 1', 'Pornstar 2', 'Title']   \n"
   ]
  },
  {
   "cell_type": "code",
   "execution_count": null,
   "metadata": {},
   "outputs": [],
   "source": [
    "df_all_bgb"
   ]
  },
  {
   "cell_type": "markdown",
   "metadata": {},
   "source": [
    "## Directory big_butts_like_it_big"
   ]
  },
  {
   "cell_type": "code",
   "execution_count": null,
   "metadata": {},
   "outputs": [],
   "source": [
    "import glob\n",
    "import os\n",
    "import pandas as pd\n",
    "\n",
    "bblib_files = sorted(glob.glob(r'{}/*.mp4'.format(bblib_dir)))\n",
    "ps_list_1_bblib = []\n",
    "ps_list_2_bblib = []\n",
    "title_list_bblib = []\n",
    "site_name = []\n",
    "\n",
    "for lf in bblib_files[:]:\n",
    "\n",
    "    ps1_tmp = lf.split('/')[-1].split('-')[0]\n",
    "    #print(ps1_tmp)\n",
    "    \n",
    "    if \"big_butts_like_it_big_\" in ps1_tmp:\n",
    "        ps1_tmp = ps1_tmp.replace(\"big_butts_like_it_big_\", \"\")\n",
    "        #print(ps1_tmp)\n",
    "        if \"__\" in ps1_tmp:\n",
    "            ps_1 = ps1_tmp.split('__')[0]\n",
    "            ps_2 = ps1_tmp.split('__')[1]\n",
    "            ps_list_1_bblib.append(ps_1)\n",
    "            ps_list_2_bblib.append(ps_2)\n",
    "            #print(ps12)\n",
    "        else:\n",
    "            #print(ps1)\n",
    "            ps_list_1_bblib.append(ps1_tmp)\n",
    "            ps_list_2_bblib.append('')\n",
    "            \n",
    "    title_list_bblib.append(lf.split('-')[1])\n",
    "    site_name.append('Big Butts Like It Big')\n",
    "    \n",
    "ps_bblib_1 = pd.DataFrame(ps_list_1_bblib)\n",
    "ps_bblib_2 = pd.DataFrame(ps_list_2_bblib)\n",
    "bblib_title_list = pd.DataFrame(title_list_bblib)\n",
    "site_name_list = pd.DataFrame(site_name)\n",
    "\n",
    "df_all_bblib = pd.concat([site_name_list, ps_bblib_1, ps_bblib_2, bblib_title_list], axis = 1)\n",
    "df_all_bblib.columns =['Site Name', 'Pornstar 1', 'Pornstar 2', 'Title'] "
   ]
  },
  {
   "cell_type": "code",
   "execution_count": null,
   "metadata": {},
   "outputs": [],
   "source": [
    "df_all_bblib"
   ]
  },
  {
   "cell_type": "markdown",
   "metadata": {},
   "source": [
    "## Directory: big_tits_at_school"
   ]
  },
  {
   "cell_type": "code",
   "execution_count": null,
   "metadata": {},
   "outputs": [],
   "source": [
    "import glob\n",
    "import os\n",
    "import pandas as pd\n",
    "\n",
    "btas_files = sorted(glob.glob(r'{}/*.mp4'.format(btas_dir)))\n",
    "ps_list_1_btas = []\n",
    "ps_list_2_btas = []\n",
    "title_list_btas = []\n",
    "site_name = []\n",
    "\n",
    "for lf in btas_files[:]:\n",
    "\n",
    "    ps1_tmp = lf.split('/')[-1].split('-')[0]\n",
    "    #print(ps1_tmp)\n",
    "    \n",
    "    if \"big_tits_at_school_\" in ps1_tmp:\n",
    "        ps1_tmp = ps1_tmp.replace(\"big_tits_at_school_\", \"\")\n",
    "        #print(ps1_tmp)\n",
    "        if \"__\" in ps1_tmp:\n",
    "            ps_1 = ps1_tmp.split('__')[0]\n",
    "            ps_2 = ps1_tmp.split('__')[1]\n",
    "            ps_list_1_btas.append(ps_1)\n",
    "            ps_list_2_btas.append(ps_2)\n",
    "            #print(ps12)\n",
    "        else:\n",
    "            #print(ps1)\n",
    "            ps_list_1_btas.append(ps1_tmp)\n",
    "            ps_list_2_btas.append('')\n",
    "            \n",
    "    title_list_btas.append(lf.split('-')[1])\n",
    "    site_name.append('Big Tits At School')\n",
    "    \n",
    "ps_btas_1 = pd.DataFrame(ps_list_1_btas)\n",
    "ps_btas_2 = pd.DataFrame(ps_list_2_btas)\n",
    "btas_title_list = pd.DataFrame(title_list_btas)\n",
    "site_name_list = pd.DataFrame(site_name)\n",
    "\n",
    "df_all_btas = pd.concat([site_name_list, ps_btas_1, ps_btas_2, btas_title_list], axis = 1)\n",
    "df_all_btas.columns =['Site Name', 'Pornstar 1', 'Pornstar 2', 'Title'] "
   ]
  },
  {
   "cell_type": "code",
   "execution_count": null,
   "metadata": {},
   "outputs": [],
   "source": [
    "df_all_btas"
   ]
  },
  {
   "cell_type": "markdown",
   "metadata": {},
   "source": [
    "## Directory: big_tits_at_work"
   ]
  },
  {
   "cell_type": "code",
   "execution_count": null,
   "metadata": {},
   "outputs": [],
   "source": [
    "import glob\n",
    "import os\n",
    "import pandas as pd\n",
    "\n",
    "btaw_files = sorted(glob.glob(r'{}/*.mp4'.format(btaw_dir)))\n",
    "ps_list_1_btaw = []\n",
    "ps_list_2_btaw = []\n",
    "title_list_btaw = []\n",
    "site_name = []\n",
    "\n",
    "for lf in btaw_files[:]:\n",
    "\n",
    "    ps1_tmp = lf.split('/')[-1].split('-')[0]\n",
    "    #print(ps1_tmp)\n",
    "    \n",
    "    if \"big_tits_at_work_\" in ps1_tmp:\n",
    "        ps1_tmp = ps1_tmp.replace(\"big_tits_at_work_\", \"\")\n",
    "        #print(ps1_tmp)\n",
    "        if \"__\" in ps1_tmp:\n",
    "            ps_1 = ps1_tmp.split('__')[0]\n",
    "            ps_2 = ps1_tmp.split('__')[1]\n",
    "            ps_list_1_btaw.append(ps_1)\n",
    "            ps_list_2_btaw.append(ps_2)\n",
    "            #print(ps12)\n",
    "        else:\n",
    "            #print(ps1)\n",
    "            ps_list_1_btaw.append(ps1_tmp)\n",
    "            ps_list_2_btaw.append('')\n",
    "            \n",
    "    title_list_btaw.append(lf.split('-')[1])\n",
    "    site_name.append('Big Tits At Work')\n",
    "    \n",
    "ps_btaw_1 = pd.DataFrame(ps_list_1_btaw)\n",
    "ps_btaw_2 = pd.DataFrame(ps_list_2_btaw)\n",
    "btaw_title_list = pd.DataFrame(title_list_btaw)\n",
    "site_name_list = pd.DataFrame(site_name)\n",
    "\n",
    "df_all_btaw = pd.concat([site_name_list, ps_btaw_1, ps_btaw_2, btaw_title_list], axis = 1)\n",
    "df_all_btaw.columns =['Site Name', 'Pornstar 1', 'Pornstar 2', 'Title'] "
   ]
  },
  {
   "cell_type": "code",
   "execution_count": null,
   "metadata": {},
   "outputs": [],
   "source": [
    "df_all_btaw"
   ]
  },
  {
   "cell_type": "markdown",
   "metadata": {},
   "source": [
    "## Directory: big_tits_in_sports"
   ]
  },
  {
   "cell_type": "code",
   "execution_count": null,
   "metadata": {},
   "outputs": [],
   "source": [
    "import glob\n",
    "import os\n",
    "import pandas as pd\n",
    "btis_dir = os.path.join(bra_dir,'big_tits_in_sports')\n",
    "\n",
    "btis_files = sorted(glob.glob(r'{}/*.mp4'.format(btis_dir)))\n",
    "ps_list_1_btis = []\n",
    "ps_list_2_btis = []\n",
    "title_list_btis = []\n",
    "site_name = []\n",
    "\n",
    "for lf in btis_files[:]:\n",
    "\n",
    "    ps1_tmp = lf.split('/')[-1].split('-')[0]\n",
    "    #print(ps1_tmp)\n",
    "    \n",
    "    if \"big_tits_in_sports_\" in ps1_tmp:\n",
    "        ps1_tmp = ps1_tmp.replace(\"big_tits_in_sports_\", \"\")\n",
    "        #print(ps1_tmp)\n",
    "        if \"__\" in ps1_tmp:\n",
    "            ps_1 = ps1_tmp.split('__')[0]\n",
    "            ps_2 = ps1_tmp.split('__')[1]\n",
    "            ps_list_1_btis.append(ps_1)\n",
    "            ps_list_2_btis.append(ps_2)\n",
    "            #print(ps12)\n",
    "        else:\n",
    "            #print(ps1)\n",
    "            ps_list_1_btis.append(ps1_tmp)\n",
    "            ps_list_2_btis.append('')\n",
    "            \n",
    "    title_list_btis.append(lf.split('-')[1])\n",
    "    site_name.append('Big Tits In Sports')\n",
    "    \n",
    "ps_btis_1 = pd.DataFrame(ps_list_1_btis)\n",
    "ps_btis_2 = pd.DataFrame(ps_list_2_btis)\n",
    "btis_title_list = pd.DataFrame(title_list_btis)\n",
    "site_name_list = pd.DataFrame(site_name)\n",
    "\n",
    "df_all_btis = pd.concat([site_name_list, ps_btis_1, ps_btis_2, btis_title_list], axis = 1)\n",
    "df_all_btis.columns =['Site Name', 'Pornstar 1', 'Pornstar 2', 'Title'] "
   ]
  },
  {
   "cell_type": "code",
   "execution_count": null,
   "metadata": {},
   "outputs": [],
   "source": [
    "df_all_btis"
   ]
  },
  {
   "cell_type": "code",
   "execution_count": null,
   "metadata": {},
   "outputs": [],
   "source": []
  },
  {
   "cell_type": "code",
   "execution_count": null,
   "metadata": {},
   "outputs": [],
   "source": []
  },
  {
   "cell_type": "code",
   "execution_count": null,
   "metadata": {},
   "outputs": [],
   "source": []
  },
  {
   "cell_type": "markdown",
   "metadata": {},
   "source": [
    "## All together"
   ]
  },
  {
   "cell_type": "code",
   "execution_count": null,
   "metadata": {},
   "outputs": [],
   "source": [
    "df_all_bgb, df_all_bblib, df_all_btas, df_all_btaw"
   ]
  },
  {
   "cell_type": "code",
   "execution_count": null,
   "metadata": {},
   "outputs": [],
   "source": [
    "#df_bra = pd.concat([df_all_bgb, df_all_bblib, df_all_btas, df_all_btaw])\n",
    "df_bra = pd.concat([df_all_btis])"
   ]
  },
  {
   "cell_type": "code",
   "execution_count": null,
   "metadata": {},
   "outputs": [],
   "source": [
    "pd.set_option('display.max_rows', None)"
   ]
  },
  {
   "cell_type": "code",
   "execution_count": null,
   "metadata": {},
   "outputs": [],
   "source": [
    "df_bra"
   ]
  },
  {
   "cell_type": "code",
   "execution_count": null,
   "metadata": {},
   "outputs": [],
   "source": [
    "df_bra_nice = df_bra.set_index(['Site Name', 'Pornstar 1'])#.sort_index()"
   ]
  },
  {
   "cell_type": "code",
   "execution_count": null,
   "metadata": {},
   "outputs": [],
   "source": [
    "df_bra_nice"
   ]
  },
  {
   "cell_type": "code",
   "execution_count": null,
   "metadata": {},
   "outputs": [],
   "source": [
    "qgrid_widget = qgrid.show_grid(df_bra_nice)\n",
    "qgrid_widget"
   ]
  },
  {
   "cell_type": "code",
   "execution_count": null,
   "metadata": {},
   "outputs": [],
   "source": [
    "ps_1_all = df_bra['Pornstar 1']\n",
    "ps_1_new_db = []\n",
    "for ii, ps in zip(range(len(ps_1_all)), ps_1_all[:]):\n",
    "    #print(ii)\n",
    "    firstname = ps.split('_')[0]\n",
    "    #print(firstname)\n",
    "    surname = ps.split('_')[1]\n",
    "    ps1_new = firstname.capitalize() + ' ' + surname.capitalize() \n",
    "    ps_1_new_db.append(ps1_new)\n",
    "\n",
    "ps_1_new_db = pd.DataFrame(ps_1_new_db, columns=['Pornstar 1'])\n",
    "    #print(ps1_new)\n",
    "    #print(df_bra_nice.iloc[[ii]])"
   ]
  },
  {
   "cell_type": "code",
   "execution_count": null,
   "metadata": {},
   "outputs": [],
   "source": [
    "ps_1_new_db"
   ]
  },
  {
   "cell_type": "code",
   "execution_count": null,
   "metadata": {},
   "outputs": [],
   "source": [
    "df_bra['Pornstar 1']"
   ]
  },
  {
   "cell_type": "code",
   "execution_count": null,
   "metadata": {},
   "outputs": [],
   "source": [
    "df_bra['Pornstar 1'] = ps_1_new_db\n",
    "df_bra['Pornstar 2'] = ps_2_new_db\n",
    "df_bra_nice = df_bra.set_index(['Site Name', 'Pornstar 1'])\n",
    "qgrid_widget = qgrid.show_grid(df_bra_nice)\n",
    "qgrid_widget"
   ]
  },
  {
   "cell_type": "code",
   "execution_count": null,
   "metadata": {},
   "outputs": [],
   "source": [
    "df_bra"
   ]
  },
  {
   "cell_type": "code",
   "execution_count": null,
   "metadata": {},
   "outputs": [],
   "source": [
    "ps_2_all = df_bra['Pornstar 2']\n",
    "ps_2_new_db = []\n",
    "\n",
    "for ii, ps in zip(range(len(ps_2_all)), ps_2_all[:]):\n",
    "    #print(ii)\n",
    "    if ps == '':\n",
    "        ps2_new = ''\n",
    "        ps_2_new_db.append(ps2_new)\n",
    "        \n",
    "    else:\n",
    "        firstname = ps.split('_')[0]\n",
    "        surname = ps.split('_')[1]\n",
    "        ps2_new = firstname.capitalize() + ' ' + surname.capitalize()\n",
    "        ps_2_new_db.append(ps2_new)\n",
    "        \n",
    "ps_2_new_db = pd.DataFrame(ps_2_new_db, columns=['Pornstar 2'])\n",
    "        #print(df_bra_nice.iloc[[ii]])\n",
    "\n",
    "#    firstname = ps.split('_')[0]\n",
    "#    surname = ps.split('_')[1]\n",
    "#    ps1_new = firstname.capitalize() + ' ' + surname.capitalize() \n",
    "#    print(ps2_new)\n",
    "#    #print(df_bra_nice.iloc[[ii]])"
   ]
  },
  {
   "cell_type": "code",
   "execution_count": null,
   "metadata": {},
   "outputs": [],
   "source": [
    "ps_2_new_db"
   ]
  },
  {
   "cell_type": "code",
   "execution_count": null,
   "metadata": {},
   "outputs": [],
   "source": []
  },
  {
   "cell_type": "code",
   "execution_count": null,
   "metadata": {},
   "outputs": [],
   "source": [
    "mydict = [{'a': 1, 'b': 2, 'c': 3, 'd': 4},\n",
    "          {'a': 100, 'b': 200, 'c': 300, 'd': 400},\n",
    "          {'a': 1000, 'b': 2000, 'c': 3000, 'd': 4000 }]"
   ]
  },
  {
   "cell_type": "code",
   "execution_count": null,
   "metadata": {},
   "outputs": [],
   "source": [
    "df0 = pd.DataFrame(mydict)"
   ]
  },
  {
   "cell_type": "code",
   "execution_count": null,
   "metadata": {},
   "outputs": [],
   "source": [
    "df0"
   ]
  },
  {
   "cell_type": "code",
   "execution_count": null,
   "metadata": {},
   "outputs": [],
   "source": [
    "df0.iloc[1]"
   ]
  },
  {
   "cell_type": "code",
   "execution_count": null,
   "metadata": {},
   "outputs": [],
   "source": []
  },
  {
   "cell_type": "code",
   "execution_count": null,
   "metadata": {},
   "outputs": [],
   "source": [
    "import qgrid\n",
    "import pandas as pd\n",
    "from pandas_datareader import wb\n",
    "df_countries = wb.download(indicator='NY.GDP.PCAP.KD', country=['all'], start=2005, end=2008)\n",
    "df_countries.columns = ['GDP per capita (constant 2005 US$)']\n",
    "qgrid.show_grid(df_countries)"
   ]
  },
  {
   "cell_type": "code",
   "execution_count": null,
   "metadata": {},
   "outputs": [],
   "source": [
    "df_countries"
   ]
  },
  {
   "cell_type": "code",
   "execution_count": null,
   "metadata": {},
   "outputs": [],
   "source": []
  },
  {
   "cell_type": "code",
   "execution_count": null,
   "metadata": {},
   "outputs": [],
   "source": [
    "ps_a = pd.DataFrame(ps1_list)\n",
    "ps_b = pd.DataFrame(ps2_list)\n",
    "title_a = pd.DataFrame(title_list)"
   ]
  },
  {
   "cell_type": "code",
   "execution_count": null,
   "metadata": {},
   "outputs": [],
   "source": [
    "df_all = pd.concat([ps_a, ps_b, title_a], axis = 1)\n",
    "df_all.columns =['Pornstar 1', 'Pornstar 2', 'Title'] "
   ]
  },
  {
   "cell_type": "code",
   "execution_count": null,
   "metadata": {},
   "outputs": [],
   "source": [
    "df_all"
   ]
  },
  {
   "cell_type": "code",
   "execution_count": null,
   "metadata": {
    "scrolled": true
   },
   "outputs": [],
   "source": [
    "qgrid_widget = qgrid.show_grid(df_all)\n",
    "qgrid_widget"
   ]
  },
  {
   "cell_type": "code",
   "execution_count": null,
   "metadata": {},
   "outputs": [],
   "source": [
    "from matplotlib.figure import Figure\n",
    "from matplotlib.backends.backend_qt5agg import (\n",
    "    FigureCanvasQTAgg as FigureCanvas,\n",
    "    NavigationToolbar2QT as NavigationToolbar)"
   ]
  },
  {
   "cell_type": "code",
   "execution_count": null,
   "metadata": {},
   "outputs": [],
   "source": [
    "import numpy as np\n",
    "import pandas as pd\n",
    "import qgrid\n",
    "randn = np.random.randn\n",
    "df_types = pd.DataFrame({\n",
    "    'A' : pd.Series(['2013-01-01', '2013-01-02', '2013-01-03', '2013-01-04',\n",
    "               '2013-01-05', '2013-01-06', '2013-01-07', '2013-01-08', '2013-01-09'],index=list(range(9)),dtype='datetime64[ns]'),\n",
    "    'B' : pd.Series(randn(9),index=list(range(9)),dtype='float32'),\n",
    "    'C' : pd.Categorical([\"washington\", \"adams\", \"washington\", \"madison\", \"lincoln\",\"jefferson\", \"hamilton\", \"roosevelt\", \"kennedy\"]),\n",
    "    'D' : [\"foo\", \"bar\", \"buzz\", \"bippity\",\"boppity\", \"foo\", \"foo\", \"bar\", \"zoo\"] })\n",
    "df_types['E'] = df_types['D'] == 'foo'\n",
    "qgrid_widget = qgrid.show_grid(df_types, show_toolbar=True)\n",
    "qgrid_widget"
   ]
  },
  {
   "cell_type": "code",
   "execution_count": null,
   "metadata": {},
   "outputs": [],
   "source": [
    "qgrid_widget"
   ]
  },
  {
   "cell_type": "code",
   "execution_count": null,
   "metadata": {},
   "outputs": [],
   "source": [
    "df = pd.DataFrame([['one', 'A', 100], ['two', 'A', 101], ['three', 'A', 102], ['one', 'B', 103], ['two', 'B', 104], ['three', 'B', 105]],columns=['c1', 'c2', 'c3'])"
   ]
  },
  {
   "cell_type": "code",
   "execution_count": null,
   "metadata": {},
   "outputs": [],
   "source": [
    "df"
   ]
  },
  {
   "cell_type": "code",
   "execution_count": null,
   "metadata": {},
   "outputs": [],
   "source": [
    "df.set_index(['c1', 'c2'])"
   ]
  },
  {
   "cell_type": "code",
   "execution_count": null,
   "metadata": {},
   "outputs": [],
   "source": [
    "ddf"
   ]
  },
  {
   "cell_type": "code",
   "execution_count": null,
   "metadata": {},
   "outputs": [],
   "source": [
    "qgrid.show_grid(df)"
   ]
  },
  {
   "cell_type": "code",
   "execution_count": null,
   "metadata": {},
   "outputs": [],
   "source": [
    "9000-1600"
   ]
  },
  {
   "cell_type": "code",
   "execution_count": null,
   "metadata": {},
   "outputs": [],
   "source": [
    "7400*0.25"
   ]
  },
  {
   "cell_type": "code",
   "execution_count": null,
   "metadata": {},
   "outputs": [],
   "source": [
    "9000-1850"
   ]
  },
  {
   "cell_type": "code",
   "execution_count": null,
   "metadata": {},
   "outputs": [],
   "source": [
    "32800+7150"
   ]
  },
  {
   "cell_type": "code",
   "execution_count": null,
   "metadata": {},
   "outputs": [],
   "source": [
    "141295.70-101000"
   ]
  },
  {
   "cell_type": "code",
   "execution_count": null,
   "metadata": {},
   "outputs": [],
   "source": [
    "from warnings "
   ]
  },
  {
   "cell_type": "code",
   "execution_count": null,
   "metadata": {},
   "outputs": [],
   "source": [
    "import pandas as pd\n",
    "dict = {'ps_name': [\"Nikki Benz\", \"Shyla Stylez\", \"Velicity Von\", \"Rebecca Moore\"],\n",
    "        'site': [\"big_tits_at_school\", \"big_tits_at_work\", \"big_tits_in_uniform\", \"real_wife_stories\"],\n",
    "                'score': [90, 40, 80, 98]}\n",
    "df = pd.DataFrame(dict)"
   ]
  },
  {
   "cell_type": "code",
   "execution_count": null,
   "metadata": {},
   "outputs": [],
   "source": [
    "df"
   ]
  },
  {
   "cell_type": "code",
   "execution_count": null,
   "metadata": {},
   "outputs": [],
   "source": [
    "for rows, columns in df.iterrows():\n",
    "    #print(columns)\n",
    "    for num, data in enumerate(columns):\n",
    "        print(num)\n",
    "        print(data)"
   ]
  },
  {
   "cell_type": "code",
   "execution_count": null,
   "metadata": {},
   "outputs": [],
   "source": [
    "import os, subprocess, sys\n",
    "\n",
    "bra_dir = '/Volumes/WERDERNAS_X/VIDEOS_X/BRAZZERS'\n",
    "btaw_dir = os.path.join(bra_dir,'big_tits_at_work')\n",
    "bra_file_tmp = 'big_tits_at_work_nikki_benz-zz_courthouse_part_two_1080p.mp4'\n",
    "path_to_bra_file = os.path.join(bra_dir,btaw_dir,bra_file_tmp)\n",
    "print(path_to_bra_file)\n",
    "\n",
    "\n",
    "\n",
    "#opener = \"open\" if sys.platform == \"darwin\" else \"xdg-open\"\n",
    "subprocess.call(['open', path_to_bra_file])"
   ]
  },
  {
   "cell_type": "code",
   "execution_count": null,
   "metadata": {},
   "outputs": [],
   "source": [
    "# import IPython.display.HTML class, because this example will use html to embed a local video file to display, so need the HTML class.\n",
    "from IPython.display import HTML\n",
    "# import base64.b64encode, the video file need to be encoded with base64 encoding.\n",
    "from base64 import b64encode\n",
    "\n",
    "# open local mp4 video file with read permission, rb means read binary file. \n",
    "file = open(\"/Volumes/WERDERNAS_X/VIDEOS_X/BRAZZERS/big_tits_at_work/big_tits_at_work_nikki_benz-zz_courthouse_part_two_1080p.mp4\", \"rb\")\n",
    "\n",
    "# read the file content to video variable.\n",
    "video_data = file.read()\n",
    "\n",
    "# encode the video content with base64 encoding format.\n",
    "video_data_encoded = b64encode(video_data)\n",
    "\n",
    "# create embedded video html tag text. use base64 encoded video data to replace the {0} placeholder.\n",
    "video_html_tag_text = '<video controls alt=\"display local video in jupyter notebook\" src=\"data:video/x-m4v;base64,{0}\">'.format(video_data_encoded)\n",
    "\n",
    "# create a IPython.display.HTML object to display above embedded video html tag. \n",
    "html = HTML(data=video_html_tag_text)\n",
    "\n",
    "# display html object in jupyter notebook\n",
    "html"
   ]
  },
  {
   "cell_type": "code",
   "execution_count": null,
   "metadata": {},
   "outputs": [],
   "source": [
    "cd /Volumes"
   ]
  },
  {
   "cell_type": "code",
   "execution_count": null,
   "metadata": {},
   "outputs": [],
   "source": [
    "import os"
   ]
  },
  {
   "cell_type": "code",
   "execution_count": null,
   "metadata": {},
   "outputs": [],
   "source": [
    "os.chdir('/Volumes/')"
   ]
  },
  {
   "cell_type": "code",
   "execution_count": null,
   "metadata": {},
   "outputs": [],
   "source": [
    "pwd"
   ]
  },
  {
   "cell_type": "code",
   "execution_count": null,
   "metadata": {},
   "outputs": [],
   "source": [
    "from ipywidgets import widgets\n",
    "from IPython.display import display\n",
    "from traitlets import traitlets\n",
    "\n",
    "class LoadedButton(widgets.Button):\n",
    "    \"\"\"A button that can holds a value as a attribute.\"\"\"\n",
    "\n",
    "    def __init__(self, start_wert=None, *args, **kwargs):\n",
    "        super(LoadedButton, self).__init__(*args, **kwargs)\n",
    "        # Create the value attribute.\n",
    "        self.add_traits(wert=traitlets.Any(start_wert))\n",
    "\n",
    "def add_num(ex):\n",
    "    ex.wert = ex.wert+1\n",
    "    print(ex.wert)\n",
    "\n",
    "lb = LoadedButton(description=\"Loaded\", start_wert=111)\n",
    "lb.on_click(add_num)\n",
    "display(lb)"
   ]
  },
  {
   "cell_type": "code",
   "execution_count": null,
   "metadata": {},
   "outputs": [],
   "source": [
    "class Link_Button(widgets.Button):\n",
    "    \"\"\"A button that can holds a value as a attribute.\"\"\"\n",
    "\n",
    "    def __init__(self, start_wert=None, *args, **kwargs):\n",
    "        super(Link_Button, self).__init__(*args, **kwargs)\n",
    "        # Create the value attribute.\n",
    "        self.add_traits(wert=traitlets.Any(start_wert))\n",
    "\n",
    "def add_num(ex):\n",
    "    ex.wert = ex.wert+1\n",
    "    print(ex.wert)\n",
    "\n",
    "link_btn = Link_Button(description=\"Link\", start_wert=111)\n",
    "link_btn.on_click(add_num)\n",
    "display(link_btn)"
   ]
  },
  {
   "cell_type": "code",
   "execution_count": null,
   "metadata": {},
   "outputs": [],
   "source": [
    "lb.wert"
   ]
  },
  {
   "cell_type": "code",
   "execution_count": null,
   "metadata": {},
   "outputs": [],
   "source": [
    "13*60+22"
   ]
  },
  {
   "cell_type": "code",
   "execution_count": null,
   "metadata": {},
   "outputs": [],
   "source": [
    "13*60"
   ]
  },
  {
   "cell_type": "code",
   "execution_count": null,
   "metadata": {},
   "outputs": [],
   "source": [
    "802/234"
   ]
  },
  {
   "cell_type": "code",
   "execution_count": null,
   "metadata": {},
   "outputs": [],
   "source": [
    "3*60+5"
   ]
  },
  {
   "cell_type": "code",
   "execution_count": null,
   "metadata": {},
   "outputs": [],
   "source": [
    "185/68"
   ]
  },
  {
   "cell_type": "code",
   "execution_count": null,
   "metadata": {},
   "outputs": [],
   "source": [
    "15/3"
   ]
  },
  {
   "cell_type": "code",
   "execution_count": null,
   "metadata": {},
   "outputs": [],
   "source": [
    "5*2000"
   ]
  },
  {
   "cell_type": "code",
   "execution_count": null,
   "metadata": {},
   "outputs": [],
   "source": [
    "10000/60"
   ]
  },
  {
   "cell_type": "code",
   "execution_count": null,
   "metadata": {},
   "outputs": [],
   "source": [
    "104*60+21"
   ]
  },
  {
   "cell_type": "code",
   "execution_count": null,
   "metadata": {},
   "outputs": [],
   "source": [
    "6261/1979"
   ]
  },
  {
   "cell_type": "code",
   "execution_count": null,
   "metadata": {},
   "outputs": [],
   "source": [
    "4600*3.6"
   ]
  },
  {
   "cell_type": "code",
   "execution_count": null,
   "metadata": {},
   "outputs": [],
   "source": [
    "16560/60"
   ]
  },
  {
   "cell_type": "code",
   "execution_count": null,
   "metadata": {},
   "outputs": [],
   "source": [
    "276/60"
   ]
  },
  {
   "cell_type": "code",
   "execution_count": null,
   "metadata": {},
   "outputs": [],
   "source": [
    "180+57"
   ]
  },
  {
   "cell_type": "code",
   "execution_count": null,
   "metadata": {},
   "outputs": [],
   "source": [
    "237*60+46"
   ]
  },
  {
   "cell_type": "code",
   "execution_count": null,
   "metadata": {},
   "outputs": [],
   "source": [
    "import pandas as pd\n",
    "df1 = pd.DataFrame({'ID': [1, 2, 3, 4], 'Name': ['John', 'Tom', 'Simon', 'Jose']})\n",
    "df2 = pd.DataFrame({'ID': [1, 2, 3, 5], 'Class': ['Second', 'Third', 'Fifth', 'Fourth']})"
   ]
  },
  {
   "cell_type": "code",
   "execution_count": null,
   "metadata": {},
   "outputs": [],
   "source": [
    "df1"
   ]
  },
  {
   "cell_type": "code",
   "execution_count": null,
   "metadata": {},
   "outputs": [],
   "source": [
    "df2"
   ]
  },
  {
   "cell_type": "code",
   "execution_count": null,
   "metadata": {},
   "outputs": [],
   "source": [
    "df = pd.merge(df1, df2)\n",
    "print(df)"
   ]
  },
  {
   "cell_type": "code",
   "execution_count": null,
   "metadata": {},
   "outputs": [],
   "source": [
    "df3 = pd.DataFrame({'Name': ['John', 'Tom', 'Simon', 'Jose'],\n",
    "                    'Age': [5, 6, 4, 5]})\n",
    "df4 = pd.DataFrame({'Name': ['John', 'Tom', 'Jose'],\n",
    "                    'Class': ['Second', 'Third', 'Fifth']})"
   ]
  },
  {
   "cell_type": "code",
   "execution_count": null,
   "metadata": {},
   "outputs": [],
   "source": [
    "df5 = pd.merge(df3, df4, on='Name')\n",
    "print(df5)"
   ]
  },
  {
   "cell_type": "code",
   "execution_count": null,
   "metadata": {},
   "outputs": [],
   "source": [
    "df3"
   ]
  },
  {
   "cell_type": "code",
   "execution_count": null,
   "metadata": {},
   "outputs": [],
   "source": [
    "df4"
   ]
  },
  {
   "cell_type": "code",
   "execution_count": null,
   "metadata": {},
   "outputs": [],
   "source": []
  }
 ],
 "metadata": {
  "hide_input": false,
  "kernelspec": {
   "display_name": "python38_jl30",
   "language": "python",
   "name": "python38_jl30"
  },
  "language_info": {
   "codemirror_mode": {
    "name": "ipython",
    "version": 3
   },
   "file_extension": ".py",
   "mimetype": "text/x-python",
   "name": "python",
   "nbconvert_exporter": "python",
   "pygments_lexer": "ipython3",
   "version": "3.8.8"
  },
  "latex_envs": {
   "LaTeX_envs_menu_present": true,
   "autoclose": false,
   "autocomplete": true,
   "bibliofile": "biblio.bib",
   "cite_by": "apalike",
   "current_citInitial": 1,
   "eqLabelWithNumbers": true,
   "eqNumInitial": 1,
   "hotkeys": {
    "equation": "Ctrl-E",
    "itemize": "Ctrl-I"
   },
   "labels_anchors": false,
   "latex_user_defs": false,
   "report_style_numbering": false,
   "user_envs_cfg": false
  }
 },
 "nbformat": 4,
 "nbformat_minor": 4
}
