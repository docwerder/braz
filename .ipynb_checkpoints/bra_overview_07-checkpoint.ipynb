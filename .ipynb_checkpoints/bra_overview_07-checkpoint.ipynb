{
 "cells": [
  {
   "cell_type": "code",
   "execution_count": 1,
   "metadata": {},
   "outputs": [
    {
     "data": {
      "text/html": [
       "<style>.container {width:90% !important; } </style>"
      ],
      "text/plain": [
       "<IPython.core.display.HTML object>"
      ]
     },
     "metadata": {},
     "output_type": "display_data"
    }
   ],
   "source": [
    "# Adjusting the code cells\n",
    "# Note: This is only valid for the current notebook!\n",
    "\n",
    "from IPython.core.display import display, HTML\n",
    "display(HTML(\"<style>.container {width:90% !important; } </style>\"))"
   ]
  },
  {
   "cell_type": "code",
   "execution_count": null,
   "metadata": {
    "code_folding": [
     0
    ]
   },
   "outputs": [],
   "source": [
    "#!jt -t grade3 -f source -ofs 12 -T -N\n",
    "#!jt -t grade3 -f firacode -ofs 12 -T -N\n",
    "# Bruttogehalt\n",
    "#!jt -t monokai -f firacode -fs 13 -cellw 85% # -nf ptsans -nfs 11 -N -kl -cursw 2 -cursc r -cellw 85% -T\n",
    "#!jt -t onedork #!jt -t solarizedd -f source -fs 14 -cellw 85% # -nf ptsans -nfs 11 -N -kl -cursw 2 -cursc r #-cellw 85% -T\n",
    "#!jt -r\n",
    "#!jt -- "
   ]
  },
  {
   "cell_type": "code",
   "execution_count": 48,
   "metadata": {},
   "outputs": [],
   "source": [
    "import pandas as pd\n",
    "import os\n",
    "import glob\n",
    "import numpy as np\n",
    "#import qgrid\n",
    "import ipywidgets as wg\n",
    "bra_dir = '/Volumes/WERDERNASX/VIDEOSX/BRAZZERS'\n",
    "bra_dir_2 = '/Volumes/WERDERNAS2X/VIDEOS2X/BRAZZERS2'\n",
    "\n",
    "working_dir = os.path.join(bra_dir,'zzz_working_documents')\n",
    "\n",
    "bgb_dir = os.path.join(bra_dir,'baby_got_boobs')\n",
    "bblib_dir = os.path.join(bra_dir,'big_butts_like_it_big')\n",
    "btas_dir = os.path.join(bra_dir,'big_tits_at_school')\n",
    "btaw_dir = os.path.join(bra_dir,'big_tits_at_work')\n",
    "btis_dir = os.path.join(bra_dir,'big_tits_in_sports')\n",
    "btiu_dir = os.path.join(bra_dir,'big_tits_in_uniform')\n",
    "bwb_dir = os.path.join(bra_dir,'big_wet_butts')\n",
    "bbex_dir = os.path.join(bra_dir,'brazzers_extra')\n",
    "bzv_dir = os.path.join(bra_dir,'brazzers_vault')\n",
    "cfnm_dir = os.path.join(bra_dir,'clothed_female_naked_men')\n",
    "ddm_dir = os.path.join(bra_dir, 'dirty_masseur')\n",
    "dda_dir = os.path.join(bra_dir, 'doctor_adventures')\n",
    "dwap_dir = os.path.join(bra_dir, 'day_with_a_pornstar')\n",
    "mlib_dir = os.path.join(bra_dir,'milf_like_it_big')\n",
    "mgb_dir = os.path.join(bra_dir,'mommy_got_boobs')\n",
    "mic_dir = os.path.join(bra_dir,'moms_in_control')\n",
    "plib_dir = os.path.join(bra_dir,'pornstars_like_it_big')\n",
    "tlib_dir = os.path.join(bra_dir,'teens_like_it_big')\n",
    "rws_dir = os.path.join(bra_dir,'real_wife_stories')\n",
    "sgs_dir = os.path.join(bra_dir,'shes_gonna_squirt')\n",
    "\n",
    "\n",
    "ps_file_csv = '__bra_ps_overview.csv'\n",
    "ps_file_xlsx = 'bra_ps_overview.xlsx'\n",
    "\n",
    "\n",
    "#Ja -----------------\n",
    "\n",
    "bgb_dir_2 = os.path.join(bra_dir_2,'baby_got_boobs')\n",
    "bblib_dir_2 = os.path.join(bra_dir_2,'big_butts_like_it_big')\n",
    "btas_dir_2 = os.path.join(bra_dir_2,'big_tits_at_school')\n",
    "btaw_dir_2 = os.path.join(bra_dir_2,'big_tits_at_work')\n",
    "btis_dir_2 = os.path.join(bra_dir_2,'big_tits_in_sports')\n",
    "btiu_dir_2 = os.path.join(bra_dir_2,'big_tits_in_uniform')\n",
    "bwb_dir_2 = os.path.join(bra_dir_2,'big_wet_butts')\n",
    "dwap_dir_2 = os.path.join(bra_dir_2,'day_with_a_pornstar')\n",
    "bbex_dir_2 = os.path.join(bra_dir_2,'brazzers_extra')\n",
    "\n",
    "ps_file = os.path.join(working_dir, ps_file_xlsx)\n",
    "#bra_ps = pd.read_excel(ps_file)\n",
    "# bgb_db = sorted(glob.glob(r\"{}/*.mp4\".format(bgb_dir)))\n",
    "\n",
    "# Better Way:\n",
    "\n",
    "# Change the directory \n",
    "#os.chdir(bgb_dir)\n",
    "bgb_files = sorted(glob.glob(r'{}/*.mp4'.format(bgb_dir)))\n",
    "bblib_files = sorted(glob.glob(r'{}/*.mp4'.format(bblib_dir)))\n",
    "btas_files = sorted(glob.glob(r'{}/*.mp4'.format(btas_dir)))\n",
    "btaw_files = sorted(glob.glob(r'{}/*.mp4'.format(btaw_dir)))\n",
    "btis_files = sorted(glob.glob(r'{}/*.mp4'.format(btis_dir)))\n",
    "btiu_files = sorted(glob.glob(r'{}/*.mp4'.format(btiu_dir)))\n",
    "bwb_files = sorted(glob.glob(r'{}/*.mp4'.format(bwb_dir)))\n",
    "bbex_files = sorted(glob.glob(r'{}/*.mp4'.format(bbex_dir)))\n",
    "bzv_files = sorted(glob.glob(r'{}/*mp4'.format(bzv_dir)))\n",
    "dwap_files = sorted(glob.glob(r'{}/*.mp4'.format(dwap_dir)))\n",
    "ddm_files = sorted(glob.glob(r'{}/*mp4'.format(ddm_dir)))\n",
    "dda_files = sorted(glob.glob(r'{}/*mp4'.format(dda_dir)))\n",
    "mlib_files = sorted(glob.glob(r'{}/*mp4'.format(mlib_dir)))\n",
    "mgb_files = sorted(glob.glob(r'{}/*mp4'.format(mgb_dir)))\n",
    "mic_files = sorted(glob.glob(r'{}/*mp4'.format(mic_dir)))\n",
    "plib_files = sorted(glob.glob(r'{}/*mp4'.format(plib_dir)))\n",
    "tlib_files = sorted(glob.glob(r'{}/*mp4'.format(tlib_dir)))\n",
    "rws_files = sorted(glob.glob(r'{}/*mp4'.format(rws_dir)))\n",
    "sgs_files = sorted(glob.glob(r'{}/*mp4'.format(sgs_dir)))\n",
    "cfnm_files = sorted(glob.glob(r'{}/*mp4'.format(cfnm_dir)))\n",
    "\n",
    "## -----------------\n",
    "\n",
    "bgb_files_2 = sorted(glob.glob(r'{}/*.mp4'.format(bgb_dir_2)))\n",
    "bblib_files_2 = sorted(glob.glob(r'{}/*.mp4'.format(bblib_dir_2)))\n",
    "btas_files_2 = sorted(glob.glob(r'{}/*.mp4'.format(btas_dir_2)))\n",
    "btaw_files_2 = sorted(glob.glob(r'{}/*.mp4'.format(btaw_dir_2)))\n",
    "btis_files_2 = sorted(glob.glob(r'{}/*.mp4'.format(btis_dir_2)))\n",
    "btiu_files_2 = sorted(glob.glob(r'{}/*.mp4'.format(btiu_dir_2)))\n",
    "bwb_files_2 = sorted(glob.glob(r'{}/*.mp4'.format(bwb_dir_2)))\n",
    "\n",
    "dwap_files_2 = sorted(glob.glob(r'{}/*.mp4'.format(dwap_dir_2)))\n",
    "bbex_files_2 = sorted(glob.glob(r'{}/*.mp4'.format(bbex_dir_2)))\n",
    "\n",
    "#print(bgb_files) "
   ]
  },
  {
   "cell_type": "code",
   "execution_count": 49,
   "metadata": {},
   "outputs": [
    {
     "name": "stdout",
     "output_type": "stream",
     "text": [
      "/Volumes/WERDERNASX/VIDEOSX/BRAZZERS/baby_got_boobs/baby_got_boobs_alexis_ford-happy_boob_day_720p.mp4\n",
      "/Volumes/WERDERNASX/VIDEOSX/BRAZZERS/baby_got_boobs/baby_got_boobs_alexis_ford-make_it_up_to_my_dick_720p.mp4\n",
      "/Volumes/WERDERNASX/VIDEOSX/BRAZZERS/baby_got_boobs/baby_got_boobs_alexis_ford-xxx_men_the_hellfire_club_720p.mp4\n",
      "/Volumes/WERDERNASX/VIDEOSX/BRAZZERS/baby_got_boobs/baby_got_boobs_alexis_may-video_store_whore_720p.mp4\n",
      "/Volumes/WERDERNASX/VIDEOSX/BRAZZERS/baby_got_boobs/baby_got_boobs_allison_star-boobie_cunttestant_720p.mp4\n",
      "/Volumes/WERDERNASX/VIDEOSX/BRAZZERS/baby_got_boobs/baby_got_boobs_bailey_brooks__skyla_novea-slut_hotel_part_2_720p.mp4\n",
      "/Volumes/WERDERNASX/VIDEOSX/BRAZZERS/baby_got_boobs/baby_got_boobs_brooklyn_chase-brooklyns_big_icy_tits_720p.mp4\n",
      "/Volumes/WERDERNASX/VIDEOSX/BRAZZERS/baby_got_boobs/baby_got_boobs_brooklyn_chase__shawna_lenee-xmas_sweater_party_720p.mp4\n",
      "/Volumes/WERDERNASX/VIDEOSX/BRAZZERS/baby_got_boobs/baby_got_boobs_cassidy_banks__julia_ann-yoga_freaks_episode_two_720p.mp4\n",
      "/Volumes/WERDERNASX/VIDEOSX/BRAZZERS/baby_got_boobs/baby_got_boobs_chanel_preston-chanel_of_the_jungle_720p.mp4\n",
      "/Volumes/WERDERNASX/VIDEOSX/BRAZZERS/baby_got_boobs/baby_got_boobs_courtney_taylor-im_a_brazzers_girl_720p.mp4\n",
      "/Volumes/WERDERNASX/VIDEOSX/BRAZZERS/baby_got_boobs/baby_got_boobs_courtney_taylor-pounding_that_pussy_by_the_pool_720p.mp4\n",
      "/Volumes/WERDERNASX/VIDEOSX/BRAZZERS/baby_got_boobs/baby_got_boobs_courtney_taylor__summer_brielle-two_for_one_busty_blondes_720p.mp4\n",
      "/Volumes/WERDERNASX/VIDEOSX/BRAZZERS/baby_got_boobs/baby_got_boobs_emma_leigh-lock_cock_and_two_smokin_boobies_720p.mp4\n",
      "/Volumes/WERDERNASX/VIDEOSX/BRAZZERS/baby_got_boobs/baby_got_boobs_emma_leigh__sienna_day__tina_kay-bachelor_night_720p.mp4\n",
      "/Volumes/WERDERNASX/VIDEOSX/BRAZZERS/baby_got_boobs/baby_got_boobs_harmony_reign-little_british_cock_whore_720p.mp4\n",
      "/Volumes/WERDERNASX/VIDEOSX/BRAZZERS/baby_got_boobs/baby_got_boobs_jacky_joy-door_to_door_whore_720p.mp4\n",
      "/Volumes/WERDERNASX/VIDEOSX/BRAZZERS/baby_got_boobs/baby_got_boobs_jacky_joy-the_joy_toy_720p.mp4\n",
      "/Volumes/WERDERNASX/VIDEOSX/BRAZZERS/baby_got_boobs/baby_got_boobs_jasmine_james-jasmins_at_the_laundromat_720p.mp4\n",
      "/Volumes/WERDERNASX/VIDEOSX/BRAZZERS/baby_got_boobs/baby_got_boobs_jayden_jaymes__kagneylynn_karter-who_looks_hotter_720p.mp4\n",
      "/Volumes/WERDERNASX/VIDEOSX/BRAZZERS/baby_got_boobs/baby_got_boobs_jayden_jaymes__nikki_benz-the_big_payback_480p.mp4\n",
      "/Volumes/WERDERNASX/VIDEOSX/BRAZZERS/baby_got_boobs/baby_got_boobs_jenna_presley-the_bionic_boobies_720_720p.mp4\n",
      "/Volumes/WERDERNASX/VIDEOSX/BRAZZERS/baby_got_boobs/baby_got_boobs_jenna_presley__krissy_lynn-in_tit_dependence_day_720p.mp4\n",
      "/Volumes/WERDERNASX/VIDEOSX/BRAZZERS/baby_got_boobs/baby_got_boobs_kagneylinn_karter-my_bad_romance_720p.mp4\n",
      "/Volumes/WERDERNASX/VIDEOSX/BRAZZERS/baby_got_boobs/baby_got_boobs_katie_kox-im_gonna_make_him_an_offer_he_cant_refuse_720p.mp4\n",
      "/Volumes/WERDERNASX/VIDEOSX/BRAZZERS/baby_got_boobs/baby_got_boobs_katrina_jade__keisha_grey-onesie_party_720p.mp4\n",
      "/Volumes/WERDERNASX/VIDEOSX/BRAZZERS/baby_got_boobs/baby_got_boobs_kayla_kayden-kayla_kayden_is_dripping_wet_720p.mp4\n",
      "/Volumes/WERDERNASX/VIDEOSX/BRAZZERS/baby_got_boobs/baby_got_boobs_kayla_kayden-the_beverly_hills_boobfucker_720p.mp4\n",
      "/Volumes/WERDERNASX/VIDEOSX/BRAZZERS/baby_got_boobs/baby_got_boobs_kenzie_taylor__cassidy_banks-line_em_up_720p.mp4\n",
      "/Volumes/WERDERNASX/VIDEOSX/BRAZZERS/baby_got_boobs/baby_got_boobs_krissy_lynn__angelina_valentine-sweet_bone_alabama_720p.mp4\n",
      "/Volumes/WERDERNASX/VIDEOSX/BRAZZERS/baby_got_boobs/baby_got_boobs_kyra_hot-all_about_the_tits_720p.mp4\n",
      "/Volumes/WERDERNASX/VIDEOSX/BRAZZERS/baby_got_boobs/baby_got_boobs_layla_london-attack_of_the_rack_720p.mp4\n",
      "/Volumes/WERDERNASX/VIDEOSX/BRAZZERS/baby_got_boobs/baby_got_boobs_london_jolie-bouncing_buoy_boobies_720p.mp4\n",
      "/Volumes/WERDERNASX/VIDEOSX/BRAZZERS/baby_got_boobs/baby_got_boobs_marsha_may-big_oily_boobs_a_bouncing_720p.mp4\n",
      "/Volumes/WERDERNASX/VIDEOSX/BRAZZERS/baby_got_boobs/baby_got_boobs_memphis_monroe__audrey_bitoni-what_really_happens_when_girls_go_to_the_bathroom_together_720_720p.mp4\n",
      "/Volumes/WERDERNASX/VIDEOSX/BRAZZERS/baby_got_boobs/baby_got_boobs_noelle_easton-breasts_worship_fantasy_720p.mp4\n",
      "/Volumes/WERDERNASX/VIDEOSX/BRAZZERS/baby_got_boobs/baby_got_boobs_noelle_easton-wet_titty _t_shirt telethon_720p.mp4\n",
      "/Volumes/WERDERNASX/VIDEOSX/BRAZZERS/baby_got_boobs/baby_got_boobs_rachel_roxxx-drop_the_bass_on_her_face_720p.mp4\n",
      "/Volumes/WERDERNASX/VIDEOSX/BRAZZERS/baby_got_boobs/baby_got_boobs_rachel_roxxx-the_roxxx_box_720p.mp4\n",
      "/Volumes/WERDERNASX/VIDEOSX/BRAZZERS/baby_got_boobs/baby_got_boobs_rainia_bell-titty_tape_720p.mp4\n",
      "/Volumes/WERDERNASX/VIDEOSX/BRAZZERS/baby_got_boobs/baby_got_boobs_riley_evans-my_secret_internet_love_720p.mp4\n",
      "/Volumes/WERDERNASX/VIDEOSX/BRAZZERS/baby_got_boobs/baby_got_boobs_romi_rain__christy_mack-spring_broke_support_the_blowjob_relief_fund_720p.mp4\n",
      "/Volumes/WERDERNASX/VIDEOSX/BRAZZERS/baby_got_boobs/baby_got_boobs_sarah_jessie-i_ll_take_it_thick_creamy_720p.mp4\n",
      "/Volumes/WERDERNASX/VIDEOSX/BRAZZERS/baby_got_boobs/baby_got_boobs_sarah_jessie-peeping_tom_peeping_mom_720p.mp4\n",
      "/Volumes/WERDERNASX/VIDEOSX/BRAZZERS/baby_got_boobs/baby_got_boobs_sarah_jessie-the_mommy_maid_720p.mp4\n",
      "/Volumes/WERDERNASX/VIDEOSX/BRAZZERS/baby_got_boobs/baby_got_boobs_sienna_day__rainia_bell-little_finger_big_cock_720p.mp4\n",
      "/Volumes/WERDERNASX/VIDEOSX/BRAZZERS/baby_got_boobs/baby_got_boobs_sofi_ryan-asking_for_it_anon_720p.mp4\n",
      "/Volumes/WERDERNASX/VIDEOSX/BRAZZERS/baby_got_boobs/baby_got_boobs_sofi_ryan-cumming_by_candlelight_720p.mp4\n",
      "/Volumes/WERDERNASX/VIDEOSX/BRAZZERS/baby_got_boobs/baby_got_boobs_stella_cox-stella_cox_gets_taken_720p.mp4\n",
      "/Volumes/WERDERNASX/VIDEOSX/BRAZZERS/baby_got_boobs/baby_got_boobs_tessa_lane-author_erotic_720p.mp4\n",
      "/Volumes/WERDERNASX/VIDEOSX/BRAZZERS/baby_got_boobs/baby_got_boobs_tina_kay-replay_720p.mp4\n",
      "/Volumes/WERDERNAS2X/VIDEOS2X/BRAZZERS2/baby_got_boobs/baby_got_boobs_alexis_monroe-alexiss_anal_revenge_720p.mp4\n",
      "/Volumes/WERDERNAS2X/VIDEOS2X/BRAZZERS2/baby_got_boobs/baby_got_boobs_alexis_monroe__melina_mason-foster_fuck_720p.mp4\n",
      "/Volumes/WERDERNAS2X/VIDEOS2X/BRAZZERS2/baby_got_boobs/baby_got_boobs_savannah_bond-the_wetter_the_better_720p.mp4\n",
      "/Volumes/WERDERNASX/VIDEOSX/BRAZZERS/big_butts_like_it_big/big_butts_like_it_big_aletta_ocean-do_not_touch_720p.mp4\n",
      "/Volumes/WERDERNASX/VIDEOSX/BRAZZERS/big_butts_like_it_big/big_butts_like_it_big_alexis_ford-the_peoples_pussy_720p.mp4\n",
      "/Volumes/WERDERNASX/VIDEOSX/BRAZZERS/big_butts_like_it_big/big_butts_like_it_big_angel_wicky-capture_my_booty_720p.mp4\n",
      "/Volumes/WERDERNASX/VIDEOSX/BRAZZERS/big_butts_like_it_big/big_butts_like_it_big_angel_wicky__kiki_minaj-ladies_twerk_it_out_720p.mp4\n",
      "/Volumes/WERDERNASX/VIDEOSX/BRAZZERS/big_butts_like_it_big/big_butts_like_it_big_angela_white-busting_on_the_burglar_720p.mp4\n",
      "/Volumes/WERDERNASX/VIDEOSX/BRAZZERS/big_butts_like_it_big/big_butts_like_it_big_angela_white-up_to_code_and_up_to_her_ass_720p.mp4\n",
      "/Volumes/WERDERNASX/VIDEOSX/BRAZZERS/big_butts_like_it_big/big_butts_like_it_big_angela_white__luna_star-wild_thots_720p.mp4\n",
      "/Volumes/WERDERNASX/VIDEOSX/BRAZZERS/big_butts_like_it_big/big_butts_like_it_big_angelica_heart__liza_delsierra-taking_the_bitches_for_a_stroll_720p.mp4\n",
      "/Volumes/WERDERNASX/VIDEOSX/BRAZZERS/big_butts_like_it_big/big_butts_like_it_big_blanche_bradburry-7_years_anal_720p.mp4\n",
      "/Volumes/WERDERNASX/VIDEOSX/BRAZZERS/big_butts_like_it_big/big_butts_like_it_big_blanche_bradburry-crushing_his_dreams.mp4\n",
      "/Volumes/WERDERNASX/VIDEOSX/BRAZZERS/big_butts_like_it_big/big_butts_like_it_big_bridgette_b-breakfast_with_bridgette_720p.mp4\n",
      "/Volumes/WERDERNASX/VIDEOSX/BRAZZERS/big_butts_like_it_big/big_butts_like_it_big_bridgette_b-dont_touch_her_6.mp4\n",
      "/Volumes/WERDERNASX/VIDEOSX/BRAZZERS/big_butts_like_it_big/big_butts_like_it_big_cali_cater-going_down_in_a_blaze_of_glory_holes_720p.mp4\n",
      "/Volumes/WERDERNASX/VIDEOSX/BRAZZERS/big_butts_like_it_big/big_butts_like_it_big_claire_dames-resisting_anal_arrest_part_2_720p.mp4\n",
      "/Volumes/WERDERNASX/VIDEOSX/BRAZZERS/big_butts_like_it_big/big_butts_like_it_big_ella_hughes-shy_redheads_want_anal_720p.mp4\n",
      "/Volumes/WERDERNASX/VIDEOSX/BRAZZERS/big_butts_like_it_big/big_butts_like_it_big_isis_love-ass_in_heat_720p.mp4\n",
      "/Volumes/WERDERNASX/VIDEOSX/BRAZZERS/big_butts_like_it_big/big_butts_like_it_big_jasmine_jae-assmissible_evidence_720p.mp4\n",
      "/Volumes/WERDERNASX/VIDEOSX/BRAZZERS/big_butts_like_it_big/big_butts_like_it_big_jasmine_jae-sexscape_room_720p.mp4\n",
      "/Volumes/WERDERNASX/VIDEOSX/BRAZZERS/big_butts_like_it_big/big_butts_like_it_big_jasmine_jae-to_assfuck_a_neighbor_720p.mp4\n",
      "/Volumes/WERDERNASX/VIDEOSX/BRAZZERS/big_butts_like_it_big/big_butts_like_it_big_jenna_ivory-the_cheaters_choice_720p.mp4\n",
      "/Volumes/WERDERNASX/VIDEOSX/BRAZZERS/big_butts_like_it_big/big_butts_like_it_big_jessica_moore-revenge_fuck_on_the_office_tease_720p.mp4\n",
      "/Volumes/WERDERNASX/VIDEOSX/BRAZZERS/big_butts_like_it_big/big_butts_like_it_big_kagneylinn_karter-dont_touch_her_720p.mp4\n",
      "/Volumes/WERDERNASX/VIDEOSX/BRAZZERS/big_butts_like_it_big/big_butts_like_it_big_kagneylinn_karter-full_service_room_service_720p.mp4\n",
      "/Volumes/WERDERNASX/VIDEOSX/BRAZZERS/big_butts_like_it_big/big_butts_like_it_big_karmen_karma-the_cum_soaked_gardener_720p.mp4\n",
      "/Volumes/WERDERNASX/VIDEOSX/BRAZZERS/big_butts_like_it_big/big_butts_like_it_big_kelly_divine-foreign_tongues_720p.mp4\n",
      "/Volumes/WERDERNASX/VIDEOSX/BRAZZERS/big_butts_like_it_big/big_butts_like_it_big_kelly_divine-the_bumtastic_bumblebee_girl_720p.mp4\n",
      "/Volumes/WERDERNASX/VIDEOSX/BRAZZERS/big_butts_like_it_big/big_butts_like_it_big_kelly_divine-the_slutmother_720p.mp4\n",
      "/Volumes/WERDERNASX/VIDEOSX/BRAZZERS/big_butts_like_it_big/big_butts_like_it_big_kenzie_taylor-ass_in_heat_2_720p.mp4\n",
      "/Volumes/WERDERNASX/VIDEOSX/BRAZZERS/big_butts_like_it_big/big_butts_like_it_big_krissy_lynn-cathartic_coitus_720p.mp4\n",
      "/Volumes/WERDERNASX/VIDEOSX/BRAZZERS/big_butts_like_it_big/big_butts_like_it_big_krissy_lynn-dont_you_miss_me_720p.mp4\n",
      "/Volumes/WERDERNASX/VIDEOSX/BRAZZERS/big_butts_like_it_big/big_butts_like_it_big_krissy_lynn-last_stopp_buttfuck_nowhere_720p.mp4\n",
      "/Volumes/WERDERNASX/VIDEOSX/BRAZZERS/big_butts_like_it_big/big_butts_like_it_big_krissy_lynn-southern_hospitality_720p.mp4\n",
      "/Volumes/WERDERNASX/VIDEOSX/BRAZZERS/big_butts_like_it_big/big_butts_like_it_big_krissy_lynn-take_me_seriously_720p.mp4\n",
      "/Volumes/WERDERNASX/VIDEOSX/BRAZZERS/big_butts_like_it_big/big_butts_like_it_big_la_sirena69-party_like_a_fingers_up_your_ass_720p.mp4\n",
      "/Volumes/WERDERNASX/VIDEOSX/BRAZZERS/big_butts_like_it_big/big_butts_like_it_big_liza_del_sierra-asstronomy_720p.mp4\n",
      "/Volumes/WERDERNASX/VIDEOSX/BRAZZERS/big_butts_like_it_big/big_butts_like_it_big_nikki_benz-famous_anus_720p.mp4\n",
      "/Volumes/WERDERNASX/VIDEOSX/BRAZZERS/big_butts_like_it_big/big_butts_like_it_big_nina_elle-drilling_my_seagant_1080p.mp4\n",
      "/Volumes/WERDERNASX/VIDEOSX/BRAZZERS/big_butts_like_it_big/big_butts_like_it_big_nina_elle-zz_pizza_party_part_2_720p.mp4\n",
      "/Volumes/WERDERNASX/VIDEOSX/BRAZZERS/big_butts_like_it_big/big_butts_like_it_big_riley_evans-dicking_the_dominatrix_720p.mp4\n",
      "/Volumes/WERDERNASX/VIDEOSX/BRAZZERS/big_butts_like_it_big/big_butts_like_it_big_romi_rain-judge_jordi_anal_about_alimony_1080p.mp4\n",
      "/Volumes/WERDERNASX/VIDEOSX/BRAZZERS/big_butts_like_it_big/big_butts_like_it_big_sofia_cucci-sticking_it_into_sofias_big_juicy_cucci_720p.mp4\n",
      "/Volumes/WERDERNASX/VIDEOSX/BRAZZERS/big_butts_like_it_big/big_butts_like_it_big_sophie_dee-seize_that_ass_1080p.mp4\n",
      "/Volumes/WERDERNASX/VIDEOSX/BRAZZERS/big_butts_like_it_big/big_butts_like_it_big_sophie_dee-the_ass_that_trails_720p.mp4\n",
      "/Volumes/WERDERNASX/VIDEOSX/BRAZZERS/big_butts_like_it_big/big_butts_like_it_big_sophie_dee-the_ass_whisperer_720p.mp4\n",
      "/Volumes/WERDERNASX/VIDEOSX/BRAZZERS/big_butts_like_it_big/big_butts_like_it_big_syren_de_mer-big_ass_anal_for_a_heavy_load_720p.mp4\n",
      "/Volumes/WERDERNASX/VIDEOSX/BRAZZERS/big_butts_like_it_big/big_butts_like_it_big_syren_de_mer-fortune_telling_fuck_720p.mp4\n",
      "/Volumes/WERDERNASX/VIDEOSX/BRAZZERS/big_butts_like_it_big/big_butts_like_it_big_syren_de_mer-the_art_of_ass_720p.mp4\n",
      "/Volumes/WERDERNASX/VIDEOSX/BRAZZERS/big_butts_like_it_big/big_butts_like_it_big_tiffany_minx-slayed_by_the_maid_720p.mp4\n",
      "/Volumes/WERDERNASX/VIDEOSX/BRAZZERS/big_tits_at_school/big_tits_at_school_abbey_brooks-cultural_festishm_720p.mp4\n",
      "/Volumes/WERDERNASX/VIDEOSX/BRAZZERS/big_tits_at_school/big_tits_at_school_alena_croft-a_lesson_in_prison_trust_720p.mp4\n",
      "/Volumes/WERDERNASX/VIDEOSX/BRAZZERS/big_tits_at_school/big_tits_at_school_alena_croft-city_school_gang_bang_1080p.mp4\n",
      "/Volumes/WERDERNASX/VIDEOSX/BRAZZERS/big_tits_at_school/big_tits_at_school_aletta_ocean-fuck_your_test.mp4\n",
      "/Volumes/WERDERNASX/VIDEOSX/BRAZZERS/big_tits_at_school/big_tits_at_school_aletta_ocean-spy_hard_3_hit_girl_720p.mp4\n",
      "/Volumes/WERDERNASX/VIDEOSX/BRAZZERS/big_tits_at_school/big_tits_at_school_alexis_breeze-titty_tutorial_720p.mp4\n",
      "/Volumes/WERDERNASX/VIDEOSX/BRAZZERS/big_tits_at_school/big_tits_at_school_alexis_fawx-college_dreams_720p.mp4\n",
      "/Volumes/WERDERNASX/VIDEOSX/BRAZZERS/big_tits_at_school/big_tits_at_school_alexis_fawx__brooklyn_chase-nailing_ms_chase_part_three_720p.mp4\n",
      "/Volumes/WERDERNASX/VIDEOSX/BRAZZERS/big_tits_at_school/big_tits_at_school_alexis_ford-teaching_mr_sins_720p.mp4\n",
      "/Volumes/WERDERNASX/VIDEOSX/BRAZZERS/big_tits_at_school/big_tits_at_school_alexis_ford__rachel_starr-rachels_slutty_secrets_720p.mp4\n",
      "/Volumes/WERDERNASX/VIDEOSX/BRAZZERS/big_tits_at_school/big_tits_at_school_amber_jayne-pounded_by_the_plagiarist_720p.mp4\n",
      "/Volumes/WERDERNASX/VIDEOSX/BRAZZERS/big_tits_at_school/big_tits_at_school_amy_anderssen__nikki_benz-school_sucks_and_so_do_my_teachers_1080p.mp4\n",
      "/Volumes/WERDERNASX/VIDEOSX/BRAZZERS/big_tits_at_school/big_tits_at_school_anastasia_brill-dirty_tart_720p.mp4\n",
      "/Volumes/WERDERNASX/VIDEOSX/BRAZZERS/big_tits_at_school/big_tits_at_school_anastasia_hart-acting_101_720p.mp4\n",
      "/Volumes/WERDERNASX/VIDEOSX/BRAZZERS/big_tits_at_school/big_tits_at_school_angela_white-parent_fucking_teacher_meetings_720p.mp4\n",
      "/Volumes/WERDERNASX/VIDEOSX/BRAZZERS/big_tits_at_school/big_tits_at_school_anna_bell_peaks-lets_bake_a_titty_cake_720p.mp4\n",
      "/Volumes/WERDERNASX/VIDEOSX/BRAZZERS/big_tits_at_school/big_tits_at_school_anna_bell_peaks-sexy_pictures_worth_a_thousand_words_720p.mp4\n",
      "/Volumes/WERDERNASX/VIDEOSX/BRAZZERS/big_tits_at_school/big_tits_at_school_ariella_ferrera-in_the_darkroom_720p.mp4\n",
      "/Volumes/WERDERNASX/VIDEOSX/BRAZZERS/big_tits_at_school/big_tits_at_school_ariella_ferrera-lust_in_translation_720p.mp4\n",
      "/Volumes/WERDERNASX/VIDEOSX/BRAZZERS/big_tits_at_school/big_tits_at_school_ariella_ferrera-nikki_sixx_fuck_the_news_720p.mp4\n",
      "/Volumes/WERDERNASX/VIDEOSX/BRAZZERS/big_tits_at_school/big_tits_at_school_ariella_ferrera-the_female_orgasm_101_720p.mp4\n",
      "/Volumes/WERDERNASX/VIDEOSX/BRAZZERS/big_tits_at_school/big_tits_at_school_ariella_ferrera-the_sex_test_720p.mp4\n",
      "/Volumes/WERDERNASX/VIDEOSX/BRAZZERS/big_tits_at_school/big_tits_at_school_ariella_ferrera-the_whorin_warden_returns_720p.mp4\n",
      "/Volumes/WERDERNASX/VIDEOSX/BRAZZERS/big_tits_at_school/big_tits_at_school_ashley_downs__emma_leigh-big_tits_in_history__part_3_720p.mp4\n",
      "/Volumes/WERDERNASX/VIDEOSX/BRAZZERS/big_tits_at_school/big_tits_at_school_august_ames__isis_love-a_tip_to_the_school_nurse_720p.mp4\n",
      "/Volumes/WERDERNASX/VIDEOSX/BRAZZERS/big_tits_at_school/big_tits_at_school_ava_addams-porno_side_job_720p.mp4\n",
      "/Volumes/WERDERNASX/VIDEOSX/BRAZZERS/big_tits_at_school/big_tits_at_school_ava_addams-the_book_report_720p.mp4\n",
      "/Volumes/WERDERNASX/VIDEOSX/BRAZZERS/big_tits_at_school/big_tits_at_school_ayda_singer-big_tits_in_history_part_2_720p.mp4\n",
      "/Volumes/WERDERNASX/VIDEOSX/BRAZZERS/big_tits_at_school/big_tits_at_school_bibi_noel__anissa_kate-double_d_tention_720p.mp4\n",
      "/Volumes/WERDERNASX/VIDEOSX/BRAZZERS/big_tits_at_school/big_tits_at_school_blanche_bradburry-teacher_tease_720p.mp4\n",
      "/Volumes/WERDERNASX/VIDEOSX/BRAZZERS/big_tits_at_school/big_tits_at_school_bridgette_b-highbrow_pussy_720p.mp4\n",
      "/Volumes/WERDERNASX/VIDEOSX/BRAZZERS/big_tits_at_school/big_tits_at_school_britney_shannon-the_head_mistress_720p.mp4\n",
      "/Volumes/WERDERNASX/VIDEOSX/BRAZZERS/big_tits_at_school/big_tits_at_school_brooklyn_bailey-chess_ty_check_mate_720p.mp4\n",
      "/Volumes/WERDERNASX/VIDEOSX/BRAZZERS/big_tits_at_school/big_tits_at_school_brooklyn_chase-goody_two_tits_720p.mp4\n",
      "/Volumes/WERDERNASX/VIDEOSX/BRAZZERS/big_tits_at_school/big_tits_at_school_brooklyn_chase-nailing_ms_chase_part_one_720p.mp4\n",
      "/Volumes/WERDERNASX/VIDEOSX/BRAZZERS/big_tits_at_school/big_tits_at_school_brooklyn_chase-nailing_ms_chase_part_two_720p.mp4\n",
      "/Volumes/WERDERNASX/VIDEOSX/BRAZZERS/big_tits_at_school/big_tits_at_school_brooklyn_chase__kagney_linn_karter-wake_me_up_before_you_cum_cum_720p.mp4\n",
      "/Volumes/WERDERNASX/VIDEOSX/BRAZZERS/big_tits_at_school/big_tits_at_school_carla_pryce-blowjob_101_720p.mp4\n",
      "/Volumes/WERDERNASX/VIDEOSX/BRAZZERS/big_tits_at_school/big_tits_at_school_carly_rae-ethics_in_detention_720p.mp4\n",
      "/Volumes/WERDERNASX/VIDEOSX/BRAZZERS/big_tits_at_school/big_tits_at_school_cathy_heaven-pants_down_perv_720p.mp4\n",
      "/Volumes/WERDERNASX/VIDEOSX/BRAZZERS/big_tits_at_school/big_tits_at_school_cathy_heaven-physical_education_720p.mp4\n",
      "/Volumes/WERDERNASX/VIDEOSX/BRAZZERS/big_tits_at_school/big_tits_at_school_chanel_preston-free_for_all_fuck_lessons_720p.mp4\n",
      "/Volumes/WERDERNASX/VIDEOSX/BRAZZERS/big_tits_at_school/big_tits_at_school_chanel_preston-my_boobs_are_my_big_assets_720p.mp4\n",
      "/Volumes/WERDERNASX/VIDEOSX/BRAZZERS/big_tits_at_school/big_tits_at_school_corinna_blake-teaching_with_her_titties_1080p.mp4\n",
      "/Volumes/WERDERNASX/VIDEOSX/BRAZZERS/big_tits_at_school/big_tits_at_school_coutney_taylor-the_bookworm_720p.mp4\n",
      "/Volumes/WERDERNASX/VIDEOSX/BRAZZERS/big_tits_at_school/big_tits_at_school_dava_foxx-oral_presentation_720p.mp4\n",
      "/Volumes/WERDERNASX/VIDEOSX/BRAZZERS/big_tits_at_school/big_tits_at_school_devon_lee-aplus_for_jerking_off_1080p.mp4\n",
      "/Volumes/WERDERNASX/VIDEOSX/BRAZZERS/big_tits_at_school/big_tits_at_school_diamond_foxx-the_sex_stitute_720p.mp4\n",
      "/Volumes/WERDERNASX/VIDEOSX/BRAZZERS/big_tits_at_school/big_tits_at_school_dylan_phoenix__molly_jane-big_tits_on_the_bottom_bunk_720p.mp4\n",
      "/Volumes/WERDERNASX/VIDEOSX/BRAZZERS/big_tits_at_school/big_tits_at_school_dylan_riley__kagney_linn_karter__sienna_west-xxx_mas_break_720p.mp4\n",
      "/Volumes/WERDERNASX/VIDEOSX/BRAZZERS/big_tits_at_school/big_tits_at_school_emma_butt-driving_school_debauchery_720p.mp4\n",
      "/Volumes/WERDERNASX/VIDEOSX/BRAZZERS/big_tits_at_school/big_tits_at_school_emma_leigh-best_field_trip_ever_720p.mp4\n",
      "/Volumes/WERDERNASX/VIDEOSX/BRAZZERS/big_tits_at_school/big_tits_at_school_emma_leigh-the_mathletes_part_one_720p.mp4\n",
      "/Volumes/WERDERNASX/VIDEOSX/BRAZZERS/big_tits_at_school/big_tits_at_school_eva_karera-foreva_fantasy_720p.mp4\n",
      "/Volumes/WERDERNASX/VIDEOSX/BRAZZERS/big_tits_at_school/big_tits_at_school_gigi_allens-teachers_revenge_720p.mp4\n",
      "/Volumes/WERDERNASX/VIDEOSX/BRAZZERS/big_tits_at_school/big_tits_at_school_harmony_reigns-dress_your_cunt_720p.mp4\n",
      "/Volumes/WERDERNASX/VIDEOSX/BRAZZERS/big_tits_at_school/big_tits_at_school_heather_summers-hard_cock_study.mp4\n",
      "/Volumes/WERDERNASX/VIDEOSX/BRAZZERS/big_tits_at_school/big_tits_at_school_helly_mae_hellfire-fucking_booth_720p.mp4\n",
      "/Volumes/WERDERNASX/VIDEOSX/BRAZZERS/big_tits_at_school/big_tits_at_school_hellymae_hellfire-no_cock_left_behind_720p.mp4\n",
      "/Volumes/WERDERNASX/VIDEOSX/BRAZZERS/big_tits_at_school/big_tits_at_school_holly_halston-fucking_politicians_1080p.mp4\n",
      "/Volumes/WERDERNASX/VIDEOSX/BRAZZERS/big_tits_at_school/big_tits_at_school_jacky_joy-get_your_tits_off_the_year_book_1080p.mp4\n",
      "/Volumes/WERDERNASX/VIDEOSX/BRAZZERS/big_tits_at_school/big_tits_at_school_jasmine_jae-giving_teacher_the_d_1080p.mp4\n",
      "/Volumes/WERDERNASX/VIDEOSX/BRAZZERS/big_tits_at_school/big_tits_at_school_jasmine_james-testing_the_teacher_720p.mp4\n",
      "/Volumes/WERDERNASX/VIDEOSX/BRAZZERS/big_tits_at_school/big_tits_at_school_jenaveve_jolee__lisa_ann__sienna_west-long_live_brazzers_720p.mp4\n",
      "/Volumes/WERDERNASX/VIDEOSX/BRAZZERS/big_tits_at_school/big_tits_at_school_jessa_rhodes-my_professors_a_pornstar_720p.mp4\n",
      "/Volumes/WERDERNASX/VIDEOSX/BRAZZERS/big_tits_at_school/big_tits_at_school_jessica_jaymes-69_is_my_lucky_number_720p.mp4\n",
      "/Volumes/WERDERNASX/VIDEOSX/BRAZZERS/big_tits_at_school/big_tits_at_school_jordan_jolie-the_nude_scout_720p.mp4\n",
      "/Volumes/WERDERNASX/VIDEOSX/BRAZZERS/big_tits_at_school/big_tits_at_school_jordan_pryce-fucking_to_america_720p.mp4\n",
      "/Volumes/WERDERNASX/VIDEOSX/BRAZZERS/big_tits_at_school/big_tits_at_school_joslyn_james-my_name_is_professor_fucky_720p.mp4\n",
      "/Volumes/WERDERNASX/VIDEOSX/BRAZZERS/big_tits_at_school/big_tits_at_school_julez_ventura__romi_rain-after_school_titty_special_720p.mp4\n",
      "/Volumes/WERDERNASX/VIDEOSX/BRAZZERS/big_tits_at_school/big_tits_at_school_julia_ann-oral_exam_720p.mp4\n",
      "/Volumes/WERDERNASX/VIDEOSX/BRAZZERS/big_tits_at_school/big_tits_at_school_kagneylinn_karter-chest_pains_1080p.mp4\n",
      "/Volumes/WERDERNASX/VIDEOSX/BRAZZERS/big_tits_at_school/big_tits_at_school_kagneylinn_karter-smack_my_naughty_ass_pink_720p.mp4\n",
      "/Volumes/WERDERNASX/VIDEOSX/BRAZZERS/big_tits_at_school/big_tits_at_school_karmen_karma-a_schoolgirls_fantasy_720p.mp4\n",
      "/Volumes/WERDERNASX/VIDEOSX/BRAZZERS/big_tits_at_school/big_tits_at_school_kayla_kayden-back_of_the_classroom_720p.mp4\n",
      "/Volumes/WERDERNASX/VIDEOSX/BRAZZERS/big_tits_at_school/big_tits_at_school_kelly_divine-boning_my_secretary_720p.mp4\n",
      "/Volumes/WERDERNASX/VIDEOSX/BRAZZERS/big_tits_at_school/big_tits_at_school_kelly_divine-dp_on_the_substitute_t_1080p.mp4\n",
      "/Volumes/WERDERNASX/VIDEOSX/BRAZZERS/big_tits_at_school/big_tits_at_school_kendall_karson-prom_whore_wars_part_two_720p.mp4\n",
      "/Volumes/WERDERNASX/VIDEOSX/BRAZZERS/big_tits_at_school/big_tits_at_school_kendall_karson__raven_bay-prom_whore_wars_part_three_720p.mp4\n",
      "/Volumes/WERDERNASX/VIDEOSX/BRAZZERS/big_tits_at_school/big_tits_at_school_kendra_lust-librarian_needs_a_licking_1080p.mp4\n",
      "/Volumes/WERDERNASX/VIDEOSX/BRAZZERS/big_tits_at_school/big_tits_at_school_kenzie_taylor-detention_720p.mp4\n",
      "/Volumes/WERDERNASX/VIDEOSX/BRAZZERS/big_tits_at_school/big_tits_at_school_kenzie_taylor-fucking_clueless_720p.mp4\n",
      "/Volumes/WERDERNASX/VIDEOSX/BRAZZERS/big_tits_at_school/big_tits_at_school_kerry_louise-the_sub_1080p.mp4\n",
      "/Volumes/WERDERNASX/VIDEOSX/BRAZZERS/big_tits_at_school/big_tits_at_school_kiara_mia-youre_busted_now_pound_me_720p.mp4\n",
      "/Volumes/WERDERNASX/VIDEOSX/BRAZZERS/big_tits_at_school/big_tits_at_school_krissy_lynn-old_school_correction_720p.mp4\n",
      "/Volumes/WERDERNASX/VIDEOSX/BRAZZERS/big_tits_at_school/big_tits_at_school_krissy_lynn-quiet_my_boyfriend_is_cumming_720p.mp4\n",
      "/Volumes/WERDERNASX/VIDEOSX/BRAZZERS/big_tits_at_school/big_tits_at_school_krissy_lynn-simply_biology_720p.mp4\n",
      "/Volumes/WERDERNASX/VIDEOSX/BRAZZERS/big_tits_at_school/big_tits_at_school_krissy_lynn-vandalize_my_tits_720p.mp4\n",
      "/Volumes/WERDERNASX/VIDEOSX/BRAZZERS/big_tits_at_school/big_tits_at_school_kylie_page-math_can_be_stimulating_720p.mp4\n",
      "/Volumes/WERDERNASX/VIDEOSX/BRAZZERS/big_tits_at_school/big_tits_at_school_la_sirena69-an_exotic_and_erotic_student_720p.mp4\n",
      "/Volumes/WERDERNASX/VIDEOSX/BRAZZERS/big_tits_at_school/big_tits_at_school_leigh_darby-teaching_miss_darby_a_hard_lesson_1080p.mp4\n",
      "/Volumes/WERDERNASX/VIDEOSX/BRAZZERS/big_tits_at_school/big_tits_at_school_lena_paul-doggy_with_the_dean_720p.mp4\n",
      "/Volumes/WERDERNASX/VIDEOSX/BRAZZERS/big_tits_at_school/big_tits_at_school_lena_paul-final_exam_slam_session_720p.mp4\n",
      "/Volumes/WERDERNASX/VIDEOSX/BRAZZERS/big_tits_at_school/big_tits_at_school_lena_paul-late_night_at_the_library_720p.mp4\n",
      "/Volumes/WERDERNASX/VIDEOSX/BRAZZERS/big_tits_at_school/big_tits_at_school_lisa_ann-dangerous_minds_with_dangerous_dicks_1080p.mp4\n",
      "/Volumes/WERDERNASX/VIDEOSX/BRAZZERS/big_tits_at_school/big_tits_at_school_liza_del_sierra-professors_got_the_moves_720p.mp4\n",
      "/Volumes/WERDERNASX/VIDEOSX/BRAZZERS/big_tits_at_school/big_tits_at_school_london_jolie-horny_for_your_hall_pass_720p.mp4\n",
      "/Volumes/WERDERNASX/VIDEOSX/BRAZZERS/big_tits_at_school/big_tits_at_school_madison_ivy__rebeca_lineares-the_rack_of_the_clones_1080p.mp4\n",
      "/Volumes/WERDERNASX/VIDEOSX/BRAZZERS/big_tits_at_school/big_tits_at_school_madison_scott-papertrail_bitch.mp4\n",
      "/Volumes/WERDERNASX/VIDEOSX/BRAZZERS/big_tits_at_school/big_tits_at_school_marsha_may-push_ups_or_squats_720p.mp4\n",
      "/Volumes/WERDERNASX/VIDEOSX/BRAZZERS/big_tits_at_school/big_tits_at_school_mea_melone-the_mathletes_part_two_720p.mp4\n",
      "/Volumes/WERDERNASX/VIDEOSX/BRAZZERS/big_tits_at_school/big_tits_at_school_mea_melone__rebecca_more-the_mathletes_part_three_1080p.mp4\n",
      "/Volumes/WERDERNASX/VIDEOSX/BRAZZERS/big_tits_at_school/big_tits_at_school_memphis_monroe-failing_oral.mp4\n",
      "/Volumes/WERDERNASX/VIDEOSX/BRAZZERS/big_tits_at_school/big_tits_at_school_michelle_thorne-spanglish_lesson_1080p.mp4\n",
      "/Volumes/WERDERNASX/VIDEOSX/BRAZZERS/big_tits_at_school/big_tits_at_school_monique_alexander-eyes_down_tits_out_720p.mp4\n",
      "/Volumes/WERDERNASX/VIDEOSX/BRAZZERS/big_tits_at_school/big_tits_at_school_monique_alexander-the_hardest_exam_720p.mp4\n",
      "/Volumes/WERDERNASX/VIDEOSX/BRAZZERS/big_tits_at_school/big_tits_at_school_nekane_sweet-take_note_1080p.mp4\n",
      "/Volumes/WERDERNASX/VIDEOSX/BRAZZERS/big_tits_at_school/big_tits_at_school_nicolette_shea-ms_sheas_summer_school_720p.mp4\n",
      "/Volumes/WERDERNASX/VIDEOSX/BRAZZERS/big_tits_at_school/big_tits_at_school_nikki_benz-stretch_my_balloon_knot_asshole.mp4\n",
      "/Volumes/WERDERNASX/VIDEOSX/BRAZZERS/big_tits_at_school/big_tits_at_school_nikki_benz__rachel_starr-chemistry_lab_ia_720p.mp4\n",
      "/Volumes/WERDERNASX/VIDEOSX/BRAZZERS/big_tits_at_school/big_tits_at_school_nina_ella-the_tas_and_the_t&a.mp4\n",
      "/Volumes/WERDERNASX/VIDEOSX/BRAZZERS/big_tits_at_school/big_tits_at_school_nina_elle-panty_raid_720p.mp4\n",
      "/Volumes/WERDERNASX/VIDEOSX/BRAZZERS/big_tits_at_school/big_tits_at_school_olivia_austin-how_to_bang_your_teacher_720p.mp4\n",
      "/Volumes/WERDERNASX/VIDEOSX/BRAZZERS/big_tits_at_school/big_tits_at_school_penny_pax-the_substitute_slut_720p.mp4\n",
      "/Volumes/WERDERNASX/VIDEOSX/BRAZZERS/big_tits_at_school/big_tits_at_school_peta_jensen-college_midterm_stress_release_1080p.mp4\n",
      "/Volumes/WERDERNASX/VIDEOSX/BRAZZERS/big_tits_at_school/big_tits_at_school_rachel_roxx-pay_attention_to_my_cock_720p.mp4\n",
      "/Volumes/WERDERNASX/VIDEOSX/BRAZZERS/big_tits_at_school/big_tits_at_school_rachel_roxxx-smart_pussy_720p.mp4\n",
      "/Volumes/WERDERNASX/VIDEOSX/BRAZZERS/big_tits_at_school/big_tits_at_school_rachel_roxxx__christy_mack-freaks_and_geeks_and_teets_720p.mp4\n",
      "/Volumes/WERDERNASX/VIDEOSX/BRAZZERS/big_tits_at_school/big_tits_at_school_raven_bay-hammered_720p.mp4\n",
      "/Volumes/WERDERNASX/VIDEOSX/BRAZZERS/big_tits_at_school/big_tits_at_school_riley_evans-teaching_him_a_lesson_1080p.mp4\n",
      "/Volumes/WERDERNASX/VIDEOSX/BRAZZERS/big_tits_at_school/big_tits_at_school_rina_ellis-big_tits_in_history_part_1_720p.mp4\n",
      "/Volumes/WERDERNASX/VIDEOSX/BRAZZERS/big_tits_at_school/big_tits_at_school_roberta_gemma-banging_the_art_teacher_720p.mp4\n",
      "/Volumes/WERDERNASX/VIDEOSX/BRAZZERS/big_tits_at_school/big_tits_at_school_romi_rain-film_class_coochie_720p.mp4\n",
      "/Volumes/WERDERNASX/VIDEOSX/BRAZZERS/big_tits_at_school/big_tits_at_school_romi_rain-library_cop_a_feel_720p.mp4\n",
      "/Volumes/WERDERNASX/VIDEOSX/BRAZZERS/big_tits_at_school/big_tits_at_school_romi_rain-no_Student_teacher_720p.mp4\n",
      "/Volumes/WERDERNASX/VIDEOSX/BRAZZERS/big_tits_at_school/big_tits_at_school_samantha_saint-distracting_double_d_s_720p.mp4\n",
      "/Volumes/WERDERNASX/VIDEOSX/BRAZZERS/big_tits_at_school/big_tits_at_school_sammie_spades-gk33_love_720p.mp4\n",
      "/Volumes/WERDERNASX/VIDEOSX/BRAZZERS/big_tits_at_school/big_tits_at_school_sammie_spades-slut_in_the_school_720p.mp4\n",
      "/Volumes/WERDERNASX/VIDEOSX/BRAZZERS/big_tits_at_school/big_tits_at_school_sensual_jane-be_careful_what_you_tit_for_it_might_cum_true_1080p.mp4\n",
      "/Volumes/WERDERNASX/VIDEOSX/BRAZZERS/big_tits_at_school/big_tits_at_school_sensual_jane-the_sexy_teacher_720p.mp4\n",
      "/Volumes/WERDERNASX/VIDEOSX/BRAZZERS/big_tits_at_school/big_tits_at_school_sheridan_love-our_college_librarian_720p.mp4\n",
      "/Volumes/WERDERNASX/VIDEOSX/BRAZZERS/big_tits_at_school/big_tits_at_school_shyla_Stylez-i_need_a_prick_me_up_720p.mp4\n",
      "/Volumes/WERDERNASX/VIDEOSX/BRAZZERS/big_tits_at_school/big_tits_at_school_shyla_stylez-the_nude_model_720p.mp4\n",
      "/Volumes/WERDERNASX/VIDEOSX/BRAZZERS/big_tits_at_school/big_tits_at_school_sienna_day-big_tits_in_the_field_720p.mp4\n",
      "/Volumes/WERDERNASX/VIDEOSX/BRAZZERS/big_tits_at_school/big_tits_at_school_sienna_day-learning_the_hard_way_720p.mp4\n",
      "/Volumes/WERDERNASX/VIDEOSX/BRAZZERS/big_tits_at_school/big_tits_at_school_sofi_ryan-horny_in_home_ec_720p.mp4\n",
      "/Volumes/WERDERNASX/VIDEOSX/BRAZZERS/big_tits_at_school/big_tits_at_school_sofi_ryan-my_how_youve_grown_720p.mp4\n",
      "/Volumes/WERDERNASX/VIDEOSX/BRAZZERS/big_tits_at_school/big_tits_at_school_sophie_dee-daydreaming_in_the_classroom_720p.mp4\n",
      "/Volumes/WERDERNASX/VIDEOSX/BRAZZERS/big_tits_at_school/big_tits_at_school_sophie_dee-whores_cooking_class_720p.mp4\n",
      "/Volumes/WERDERNASX/VIDEOSX/BRAZZERS/big_tits_at_school/big_tits_at_school_sunny_lane-the_masturbating_teacher_720p.mp4\n",
      "/Volumes/WERDERNASX/VIDEOSX/BRAZZERS/big_tits_at_school/big_tits_at_school_tanya_tate-mckenzie_lee_dizzie_for_titties_720p.mp4\n",
      "/Volumes/WERDERNASX/VIDEOSX/BRAZZERS/big_tits_at_school/big_tits_at_school_tanya_tate-teaching_billys_bad_behavior_720p.mp4\n",
      "/Volumes/WERDERNASX/VIDEOSX/BRAZZERS/big_tits_at_school/big_tits_at_school_tarra_white-harry_punter_and_his_enormous_boner_1080p.mp4\n",
      "/Volumes/WERDERNASX/VIDEOSX/BRAZZERS/big_tits_at_school/big_tits_at_school_tegan_james-washing_her_mouth_out_with_cum_1080p.mp4\n",
      "/Volumes/WERDERNASX/VIDEOSX/BRAZZERS/big_tits_at_school/big_tits_at_school_tiffany_minx-teachers_dirty_looks_720p.mp4\n",
      "/Volumes/WERDERNASX/VIDEOSX/BRAZZERS/big_tits_at_school/big_tits_at_school_yuffie_yulan-large_instrument_720p.mp4\n",
      "/Volumes/WERDERNAS2X/VIDEOS2X/BRAZZERS2/big_tits_at_school/big_tits_at_school_alexis_monroe-good_girl_big_boobs_720p.mp4\n",
      "/Volumes/WERDERNAS2X/VIDEOS2X/BRAZZERS2/big_tits_at_school/big_tits_at_school_alexis_monroe-would_taking_off_my_alge_bra_help_720p.mp4\n",
      "/Volumes/WERDERNAS2X/VIDEOS2X/BRAZZERS2/big_tits_at_school/big_tits_at_school_alexis_monroe__chloe_chaos__Scarlett_monroe__tasha_reign-the_sluttiest_sorority_on_campus_720p.mp4\n",
      "/Volumes/WERDERNAS2X/VIDEOS2X/BRAZZERS2/big_tits_at_school/big_tits_at_school_jewels_jade-reverse_tit_psychology_720p.mp4\n",
      "/Volumes/WERDERNASX/VIDEOSX/BRAZZERS/big_tits_at_work/big_tits_at_work_abbey_brooks-handling_his_business_720p.mp4\n",
      "/Volumes/WERDERNASX/VIDEOSX/BRAZZERS/big_tits_at_work/big_tits_at_work_abbey_brooks-language_banguage_720p.mp4\n",
      "/Volumes/WERDERNASX/VIDEOSX/BRAZZERS/big_tits_at_work/big_tits_at_work_abbey_brooks-sensitivity_training_720p.mp4\n",
      "/Volumes/WERDERNASX/VIDEOSX/BRAZZERS/big_tits_at_work/big_tits_at_work_aleksa_nicole-a_perceptive_penetrator_720p.mp4\n",
      "/Volumes/WERDERNASX/VIDEOSX/BRAZZERS/big_tits_at_work/big_tits_at_work_aleksa_nicole__capri_cavanni-capri_rides_her_staff_hard_720p.mp4\n",
      "/Volumes/WERDERNASX/VIDEOSX/BRAZZERS/big_tits_at_work/big_tits_at_work_alektra_blue-getting_in_with_the_boss_720p.mp4\n",
      "/Volumes/WERDERNASX/VIDEOSX/BRAZZERS/big_tits_at_work/big_tits_at_work_alektra_blue-your_lust_is_a_heat_wave_720p.mp4\n",
      "/Volumes/WERDERNASX/VIDEOSX/BRAZZERS/big_tits_at_work/big_tits_at_work_alena_croft-big_package_for_little_pussy_720p.mp4\n",
      "/Volumes/WERDERNASX/VIDEOSX/BRAZZERS/big_tits_at_work/big_tits_at_work_alena_croft-shes_a_smooth_operator_1080p_720p.mp4\n",
      "/Volumes/WERDERNASX/VIDEOSX/BRAZZERS/big_tits_at_work/big_tits_at_work_alena_croft__summer_brielle-sexual_harassment_1080p.mp4\n",
      "/Volumes/WERDERNASX/VIDEOSX/BRAZZERS/big_tits_at_work/big_tits_at_work_aletta_ocean-3_trustworthy_fuck_holes_720p.mp4\n",
      "/Volumes/WERDERNASX/VIDEOSX/BRAZZERS/big_tits_at_work/big_tits_at_work_aletta_ocean-aletta_oceans_anal_negotiations_720p.mp4\n",
      "/Volumes/WERDERNASX/VIDEOSX/BRAZZERS/big_tits_at_work/big_tits_at_work_aletta_ocean-fuck_or_youre_fired_720p.mp4\n",
      "/Volumes/WERDERNASX/VIDEOSX/BRAZZERS/big_tits_at_work/big_tits_at_work_aletta_ocean-love_at_first_fuck_720p.mp4\n",
      "/Volumes/WERDERNASX/VIDEOSX/BRAZZERS/big_tits_at_work/big_tits_at_work_aletta_ocean-prissy_porn_bitch_720p.mp4\n",
      "/Volumes/WERDERNASX/VIDEOSX/BRAZZERS/big_tits_at_work/big_tits_at_work_aletta_ocean__audrey_bitoni-the_dominant_species_720p.mp4\n",
      "/Volumes/WERDERNASX/VIDEOSX/BRAZZERS/big_tits_at_work/big_tits_at_work_aletta_ocean__franceska_jaimes-strip_science_1080p_720p.mp4\n",
      "/Volumes/WERDERNASX/VIDEOSX/BRAZZERS/big_tits_at_work/big_tits_at_work_alexis_adams-bon_apettities_720p.mp4\n",
      "/Volumes/WERDERNASX/VIDEOSX/BRAZZERS/big_tits_at_work/big_tits_at_work_alexis_breeze-perky_perks_720p.mp4\n",
      "/Volumes/WERDERNASX/VIDEOSX/BRAZZERS/big_tits_at_work/big_tits_at_work_alexis_ford-boss_likes_the_bad_boys_1080p.mp4\n",
      "/Volumes/WERDERNASX/VIDEOSX/BRAZZERS/big_tits_at_work/big_tits_at_work_alexis_ford-perks_of_the_job_1080p.mp4\n",
      "/Volumes/WERDERNASX/VIDEOSX/BRAZZERS/big_tits_at_work/big_tits_at_work_alexis_monroe-zz_courthouse_part_one_720p.mp4\n",
      "/Volumes/WERDERNASX/VIDEOSX/BRAZZERS/big_tits_at_work/big_tits_at_work_alison_avery-fill_my_quota_720p.mp4\n",
      "/Volumes/WERDERNASX/VIDEOSX/BRAZZERS/big_tits_at_work/big_tits_at_work_alison_taylor__julia_ann-fluids_on_the_flight_2_720p.mp4\n",
      "/Volumes/WERDERNASX/VIDEOSX/BRAZZERS/big_tits_at_work/big_tits_at_work_angel_wicky-my_boss_gets_off_1080p.mp4\n",
      "/Volumes/WERDERNASX/VIDEOSX/BRAZZERS/big_tits_at_work/big_tits_at_work_angel_wicky-start_up_culture_720p.mp4\n",
      "/Volumes/WERDERNASX/VIDEOSX/BRAZZERS/big_tits_at_work/big_tits_at_work_angel_wicky-summer_internship_720p.mp4\n",
      "/Volumes/WERDERNASX/VIDEOSX/BRAZZERS/big_tits_at_work/big_tits_at_work_angela_white-full_service_banking_720p.mp4\n",
      "/Volumes/WERDERNASX/VIDEOSX/BRAZZERS/big_tits_at_work/big_tits_at_work_angela_white-my_slutty_secretary_720p.mp4\n",
      "/Volumes/WERDERNASX/VIDEOSX/BRAZZERS/big_tits_at_work/big_tits_at_work_angela_white__lena_paul-porn_logic_720p.mp4\n",
      "/Volumes/WERDERNASX/VIDEOSX/BRAZZERS/big_tits_at_work/big_tits_at_work_anna_bell_peaks-in_the_navy_now_720p.mp4\n",
      "/Volumes/WERDERNASX/VIDEOSX/BRAZZERS/big_tits_at_work/big_tits_at_work_anna_bell_peaks-this_warehouse_is_a_whorehouse_720p.mp4\n",
      "/Volumes/WERDERNASX/VIDEOSX/BRAZZERS/big_tits_at_work/big_tits_at_work_ariana_marie__isis_love-despideme_720p.mp4\n",
      "/Volumes/WERDERNASX/VIDEOSX/BRAZZERS/big_tits_at_work/big_tits_at_work_ariella_ferrera-fellatio_from_the_she_e_o_720p.mp4\n",
      "/Volumes/WERDERNASX/VIDEOSX/BRAZZERS/big_tits_at_work/big_tits_at_work_ariella_ferrera-the_whorin_warden_720p.mp4\n",
      "/Volumes/WERDERNASX/VIDEOSX/BRAZZERS/big_tits_at_work/big_tits_at_work_ava_addams-the_fucking_food_inspector_720p.mp4\n",
      "/Volumes/WERDERNASX/VIDEOSX/BRAZZERS/big_tits_at_work/big_tits_at_work_ava_addams__francesca_le__veronica_avluv__vanilla_deville-office_4_play_720p.mp4\n",
      "/Volumes/WERDERNASX/VIDEOSX/BRAZZERS/big_tits_at_work/big_tits_at_work_ava_addams__monique_alexander__nicolette_shea__romi_rain-office_4_play_christmas_bonuses_720p.mp4\n",
      "/Volumes/WERDERNASX/VIDEOSX/BRAZZERS/big_tits_at_work/big_tits_at_work_ava_addams__riley_jenner-the_new_appli_cunt_720p.mp4\n",
      "/Volumes/WERDERNASX/VIDEOSX/BRAZZERS/big_tits_at_work/big_tits_at_work_ava_koxx__leigh_darby-pornbusters_720p.mp4\n",
      "/Volumes/WERDERNASX/VIDEOSX/BRAZZERS/big_tits_at_work/big_tits_at_work_bridgette_b-boobie_bonus_1080p.mp4\n",
      "/Volumes/WERDERNASX/VIDEOSX/BRAZZERS/big_tits_at_work/big_tits_at_work_bridgette_b-stuck_in_the_elevator_720p.mp4\n",
      "/Volumes/WERDERNASX/VIDEOSX/BRAZZERS/big_tits_at_work/big_tits_at_work_bridgette_b-titty_heist_II_the_negotiator_720p.mp4\n",
      "/Volumes/WERDERNASX/VIDEOSX/BRAZZERS/big_tits_at_work/big_tits_at_work_bridgette_b-titty_heist_I_this_is_a_hold_up_720p.mp4\n",
      "/Volumes/WERDERNASX/VIDEOSX/BRAZZERS/big_tits_at_work/big_tits_at_work_bridgette_b__luna_star__victoria_june_katana_kombat-office_4_play_latina_edition_720p.mp4\n",
      "/Volumes/WERDERNASX/VIDEOSX/BRAZZERS/big_tits_at_work/big_tits_at_work_britney_shannon-whatever_the_boss_wants_720p.mp4\n",
      "/Volumes/WERDERNASX/VIDEOSX/BRAZZERS/big_tits_at_work/big_tits_at_work_brooklyn_chase-a_case_of_the_moan_days_720p.mp4\n",
      "/Volumes/WERDERNASX/VIDEOSX/BRAZZERS/big_tits_at_work/big_tits_at_work_cara_saint_germain-for_the_players_720p.mp4\n",
      "/Volumes/WERDERNASX/VIDEOSX/BRAZZERS/big_tits_at_work/big_tits_at_work_carmella_bing__holly_halston-truth_n_tits_720p.mp4\n",
      "/Volumes/WERDERNASX/VIDEOSX/BRAZZERS/big_tits_at_work/big_tits_at_work_chanel_preston-breast_keep_this_quiet_720p.mp4\n",
      "/Volumes/WERDERNASX/VIDEOSX/BRAZZERS/big_tits_at_work/big_tits_at_work_chanel_preston-her_first_big_sale_2_720p.mp4\n",
      "/Volumes/WERDERNASX/VIDEOSX/BRAZZERS/big_tits_at_work/big_tits_at_work_chanel_preston-zzinc_s_corporate_orifice_720p.mp4\n",
      "/Volumes/WERDERNASX/VIDEOSX/BRAZZERS/big_tits_at_work/big_tits_at_work_cindy_dollar-another_day_another_dollar_1080p.mp4\n",
      "/Volumes/WERDERNASX/VIDEOSX/BRAZZERS/big_tits_at_work/big_tits_at_work_courtney_taylor-do_as_i_say_not_as_you_heard_720p.mp4\n",
      "/Volumes/WERDERNASX/VIDEOSX/BRAZZERS/big_tits_at_work/big_tits_at_work_courtney_taylor-occult_office_720p.mp4\n",
      "/Volumes/WERDERNASX/VIDEOSX/BRAZZERS/big_tits_at_work/big_tits_at_work_courtney_taylor__summer_brielle__nikki_benz__nina_elle-office_4_play_blonde_edition_720p.mp4\n",
      "/Volumes/WERDERNASX/VIDEOSX/BRAZZERS/big_tits_at_work/big_tits_at_work_crystal_rush-personal _assistance_1080p.mp4\n",
      "/Volumes/WERDERNASX/VIDEOSX/BRAZZERS/big_tits_at_work/big_tits_at_work_daisy_cruz-you_fuck_my_son_you_are_fired_720p.mp4\n",
      "/Volumes/WERDERNASX/VIDEOSX/BRAZZERS/big_tits_at_work/big_tits_at_work_dani_cole__london_jolie-the_b_o_o_b_s_720p.mp4\n",
      "/Volumes/WERDERNASX/VIDEOSX/BRAZZERS/big_tits_at_work/big_tits_at_work_dava_foxx-policital_titties_1080p.mp4\n",
      "/Volumes/WERDERNASX/VIDEOSX/BRAZZERS/big_tits_at_work/big_tits_at_work_diamond_foxx-now_were_even_bitch_480p_720p.mp4\n",
      "/Volumes/WERDERNASX/VIDEOSX/BRAZZERS/big_tits_at_work/big_tits_at_work_diamond_foxx-office_tease_720p.mp4\n",
      "/Volumes/WERDERNASX/VIDEOSX/BRAZZERS/big_tits_at_work/big_tits_at_work_diamond_foxx-the_customer_gets_my_tits_720p.mp4\n",
      "/Volumes/WERDERNASX/VIDEOSX/BRAZZERS/big_tits_at_work/big_tits_at_work_elicia_soles-the_multitasking_titties_720p.mp4\n",
      "/Volumes/WERDERNASX/VIDEOSX/BRAZZERS/big_tits_at_work/big_tits_at_work_emma_butt-a_freelance_fucking_720p.mp4\n",
      "/Volumes/WERDERNASX/VIDEOSX/BRAZZERS/big_tits_at_work/big_tits_at_work_emma_butt-party_political_720p.mp4\n",
      "/Volumes/WERDERNASX/VIDEOSX/BRAZZERS/big_tits_at_work/big_tits_at_work_eva_karera-hunting_for_cocks_at_the_glory_hole_720p.mp4\n",
      "/Volumes/WERDERNASX/VIDEOSX/BRAZZERS/big_tits_at_work/big_tits_at_work_eva_notty__sophie_dee-acting_the_interview_720p.mp4\n",
      "/Volumes/WERDERNASX/VIDEOSX/BRAZZERS/big_tits_at_work/big_tits_at_work_gigi_allens-chained_to_her_desk_720p.mp4\n",
      "/Volumes/WERDERNASX/VIDEOSX/BRAZZERS/big_tits_at_work/big_tits_at_work_holly_halston-im_the_new_boss_bitch_720p.mp4\n",
      "/Volumes/WERDERNASX/VIDEOSX/BRAZZERS/big_tits_at_work/big_tits_at_work_holly_halston-ribbon_cunting_ceremony_720p.mp4\n",
      "/Volumes/WERDERNASX/VIDEOSX/BRAZZERS/big_tits_at_work/big_tits_at_work_isis_love-cock_locked_up_720p.mp4\n",
      "/Volumes/WERDERNASX/VIDEOSX/BRAZZERS/big_tits_at_work/big_tits_at_work_isis_love-spilling_the_boobs_720p.mp4\n",
      "/Volumes/WERDERNASX/VIDEOSX/BRAZZERS/big_tits_at_work/big_tits_at_work_jasmine_jae-quid_pro_blow_720p.mp4\n",
      "/Volumes/WERDERNASX/VIDEOSX/BRAZZERS/big_tits_at_work/big_tits_at_work_jasmine_jae__leigh_darby__rebecca_moore__tia_layne-office_4_play_uk_edition_1080p.mp4\n",
      "/Volumes/WERDERNASX/VIDEOSX/BRAZZERS/big_tits_at_work/big_tits_at_work_jasmine_jae__lou_lou-parliamentary_protest_1080p.mp4\n",
      "/Volumes/WERDERNASX/VIDEOSX/BRAZZERS/big_tits_at_work/big_tits_at_work_jayden_jaymes-another_hard_cock_at_the_office_1080p.mp4\n",
      "/Volumes/WERDERNASX/VIDEOSX/BRAZZERS/big_tits_at_work/big_tits_at_work_jayden_jaymes-casual_friday_720p.mp4\n",
      "/Volumes/WERDERNASX/VIDEOSX/BRAZZERS/big_tits_at_work/big_tits_at_work_jayden_jaymes-dont_tell_my_boss_720p.mp4\n",
      "/Volumes/WERDERNASX/VIDEOSX/BRAZZERS/big_tits_at_work/big_tits_at_work_jayden_jaymes-fucking_the_deal_1080p.mp4\n",
      "/Volumes/WERDERNASX/VIDEOSX/BRAZZERS/big_tits_at_work/big_tits_at_work_jayden_jaymes-let_my_tits_make_it_up_to_you_720p.mp4\n",
      "/Volumes/WERDERNASX/VIDEOSX/BRAZZERS/big_tits_at_work/big_tits_at_work_jayden_jaymes__madison_scott-working_for_mr_sleaze_720p.mp4\n",
      "/Volumes/WERDERNASX/VIDEOSX/BRAZZERS/big_tits_at_work/big_tits_at_work_jaylene_rio-courthouse_cunt_slam.mp4\n",
      "/Volumes/WERDERNASX/VIDEOSX/BRAZZERS/big_tits_at_work/big_tits_at_work_jenna_doll-by_day_freak_at_night_720p.mp4\n",
      "/Volumes/WERDERNASX/VIDEOSX/BRAZZERS/big_tits_at_work/big_tits_at_work_jenna_jones-zen_in_the_a_m_720p.mp4\n",
      "/Volumes/WERDERNASX/VIDEOSX/BRAZZERS/big_tits_at_work/big_tits_at_work_jenna_presley-fuck_me_or_ill_fire_you_1080p.mp4\n",
      "/Volumes/WERDERNASX/VIDEOSX/BRAZZERS/big_tits_at_work/big_tits_at_work_jenna_presley-sandwich_my_cock_between_your_lips_and_eat_720p.mp4\n",
      "/Volumes/WERDERNASX/VIDEOSX/BRAZZERS/big_tits_at_work/big_tits_at_work_jenna_presley__kirsten_price__julia_ann__jessica_jaymes-office_4_office_play_iv_720p.mp4\n",
      "/Volumes/WERDERNASX/VIDEOSX/BRAZZERS/big_tits_at_work/big_tits_at_work_jessa_rhodes-scanner_scandal_720p.mp4\n",
      "/Volumes/WERDERNASX/VIDEOSX/BRAZZERS/big_tits_at_work/big_tits_at_work_jessa_rhodes-the_clumpsy_intern_720p.mp4\n",
      "/Volumes/WERDERNASX/VIDEOSX/BRAZZERS/big_tits_at_work/big_tits_at_work_jessica_jaymes-judge_juggy_720p.mp4\n",
      "/Volumes/WERDERNASX/VIDEOSX/BRAZZERS/big_tits_at_work/big_tits_at_work_jewels_jade-summer_heat_720p.mp4\n",
      "/Volumes/WERDERNASX/VIDEOSX/BRAZZERS/big_tits_at_work/big_tits_at_work_juelz_ventura__gia_dimarco-the_ex_s_anal_payback_720p.mp4\n",
      "/Volumes/WERDERNASX/VIDEOSX/BRAZZERS/big_tits_at_work/big_tits_at_work_juelz_ventura__riley_evans-fuck_me_til_im_fired_720p.mp4\n",
      "/Volumes/WERDERNASX/VIDEOSX/BRAZZERS/big_tits_at_work/big_tits_at_work_julia_ann-office_vibrations_720p.mp4\n",
      "/Volumes/WERDERNASX/VIDEOSX/BRAZZERS/big_tits_at_work/big_tits_at_work_julia_ann-work_hard_fuck_harder_720p.mp4\n",
      "/Volumes/WERDERNASX/VIDEOSX/BRAZZERS/big_tits_at_work/big_tits_at_work_julia_ann__olivia_austin-disciplinary_action_part_two_720p.mp4\n",
      "/Volumes/WERDERNASX/VIDEOSX/BRAZZERS/big_tits_at_work/big_tits_at_work_julia_ann__tanya_tate-double_your_pleasure_720p.mp4\n",
      "/Volumes/WERDERNASX/VIDEOSX/BRAZZERS/big_tits_at_work/big_tits_at_work_kagneylinn_karter-glorious_holes_720p.mp4\n",
      "/Volumes/WERDERNASX/VIDEOSX/BRAZZERS/big_tits_at_work/big_tits_at_work_kagneylinn_karter-hot_bothered_and_horny_720p.mp4\n",
      "/Volumes/WERDERNASX/VIDEOSX/BRAZZERS/big_tits_at_work/big_tits_at_work_kagneylinn_karter-kagneys_box_1080p.mp4\n",
      "/Volumes/WERDERNASX/VIDEOSX/BRAZZERS/big_tits_at_work/big_tits_at_work_kagneylinn_karter-porno_p_i_part_one_720p.mp4\n",
      "/Volumes/WERDERNASX/VIDEOSX/BRAZZERS/big_tits_at_work/big_tits_at_work_kagneylinn_karter-porno_p_i_part_two_720p.mp4\n",
      "/Volumes/WERDERNASX/VIDEOSX/BRAZZERS/big_tits_at_work/big_tits_at_work_kagneylinn_karter__kendra_lust-tittyfuck_airways_720p.mp4\n",
      "/Volumes/WERDERNASX/VIDEOSX/BRAZZERS/big_tits_at_work/big_tits_at_work_karma_rx-the_ho_in_the_donut_720p.mp4\n",
      "/Volumes/WERDERNASX/VIDEOSX/BRAZZERS/big_tits_at_work/big_tits_at_work_karmen_karma-karmens_casual_friday_720p.mp4\n",
      "/Volumes/WERDERNASX/VIDEOSX/BRAZZERS/big_tits_at_work/big_tits_at_work_kasey_grant__charisma_cappelli-casual_friday_720p.mp4\n",
      "/Volumes/WERDERNASX/VIDEOSX/BRAZZERS/big_tits_at_work/big_tits_at_work_katerina_x-best_tits_in_office_720p.mp4\n",
      "/Volumes/WERDERNASX/VIDEOSX/BRAZZERS/big_tits_at_work/big_tits_at_work_katrina_jade-the_intern_s_turn_720p.mp4\n",
      "/Volumes/WERDERNASX/VIDEOSX/BRAZZERS/big_tits_at_work/big_tits_at_work_kayla_kayden-i_m_the_boss_now_720p.mp4\n",
      "/Volumes/WERDERNASX/VIDEOSX/BRAZZERS/big_tits_at_work/big_tits_at_work_kelly_devine-it_s_day_dreams_720p.mp4\n",
      "/Volumes/WERDERNASX/VIDEOSX/BRAZZERS/big_tits_at_work/big_tits_at_work_kelly_divine-boning_my_secretary_1080p.mp4\n",
      "/Volumes/WERDERNASX/VIDEOSX/BRAZZERS/big_tits_at_work/big_tits_at_work_kelly_divine__kianna_dior__sativa_rose-its_day_dreams_720p.mp4\n",
      "/Volumes/WERDERNASX/VIDEOSX/BRAZZERS/big_tits_at_work/big_tits_at_work_kendall_karson-cooking_with_kendall_720p.mp4\n",
      "/Volumes/WERDERNASX/VIDEOSX/BRAZZERS/big_tits_at_work/big_tits_at_work_kendall_karson-the_fair_weathered_slut_720p.mp4\n",
      "/Volumes/WERDERNASX/VIDEOSX/BRAZZERS/big_tits_at_work/big_tits_at_work_kiara_mia-my_boss_is_a_creep_1080p.mp4\n",
      "/Volumes/WERDERNASX/VIDEOSX/BRAZZERS/big_tits_at_work/big_tits_at_work_kiara_mia__veronica_rodriguez-la_academia_de_putas_de_kiara_720p.mp4\n",
      "/Volumes/WERDERNASX/VIDEOSX/BRAZZERS/big_tits_at_work/big_tits_at_work_krissy_lynn-blowjob_interview_720p.mp4\n",
      "/Volumes/WERDERNASX/VIDEOSX/BRAZZERS/big_tits_at_work/big_tits_at_work_krissy_lynn-i_quit_who_s_cumming_with_me_720p.mp4\n",
      "/Volumes/WERDERNASX/VIDEOSX/BRAZZERS/big_tits_at_work/big_tits_at_work_krissy_lynn-tanya_tate_chanel_preston_nicole_aniston_office_4_play_christmas_edition_720p.mp4\n",
      "/Volumes/WERDERNASX/VIDEOSX/BRAZZERS/big_tits_at_work/big_tits_at_work_krissy_lynn-testing_her_concentration_720p.mp4\n",
      "/Volumes/WERDERNASX/VIDEOSX/BRAZZERS/big_tits_at_work/big_tits_at_work_krissy_lynn-whorey_warden_720p.mp4\n",
      "/Volumes/WERDERNASX/VIDEOSX/BRAZZERS/big_tits_at_work/big_tits_at_work_kylie_page-not_safe_for_work_720p.mp4\n",
      "/Volumes/WERDERNASX/VIDEOSX/BRAZZERS/big_tits_at_work/big_tits_at_work_layla_london-the_inside_her_720p.mp4\n",
      "/Volumes/WERDERNASX/VIDEOSX/BRAZZERS/big_tits_at_work/big_tits_at_work_leigh_darby-simply_the_chest_1080p.mp4\n",
      "/Volumes/WERDERNASX/VIDEOSX/BRAZZERS/big_tits_at_work/big_tits_at_work_leigh_darby__ava_koxx-who_ya_gonna_call_porn_busters_720p.mp4\n",
      "/Volumes/WERDERNASX/VIDEOSX/BRAZZERS/big_tits_at_work/big_tits_at_work_lena_paul__lauren_phillips-the_new_girl_part_3_720p.mp4\n",
      "/Volumes/WERDERNASX/VIDEOSX/BRAZZERS/big_tits_at_work/big_tits_at_work_lexxi_ward__tamara_grace-fitting_right_in_720p.mp4\n",
      "/Volumes/WERDERNASX/VIDEOSX/BRAZZERS/big_tits_at_work/big_tits_at_work_leya_falcon-defiance_in_the_office_720p.mp4\n",
      "/Volumes/WERDERNASX/VIDEOSX/BRAZZERS/big_tits_at_work/big_tits_at_work_lilli_vanilli-putting_it_in_her_slot_720p.mp4\n",
      "/Volumes/WERDERNASX/VIDEOSX/BRAZZERS/big_tits_at_work/big_tits_at_work_liza_del_sierra-bathroom_banging_720p.mp4\n",
      "/Volumes/WERDERNASX/VIDEOSX/BRAZZERS/big_tits_at_work/big_tits_at_work_lolly_ink-tarps_tools_and_titties_720p.mp4\n",
      "/Volumes/WERDERNASX/VIDEOSX/BRAZZERS/big_tits_at_work/big_tits_at_work_london_jolie__danni_cole-the_b_o_o_b_s_720p.mp4\n",
      "/Volumes/WERDERNASX/VIDEOSX/BRAZZERS/big_tits_at_work/big_tits_at_work_lou_lou-work_it_1080p.mp4\n",
      "/Volumes/WERDERNASX/VIDEOSX/BRAZZERS/big_tits_at_work/big_tits_at_work_louise_jenson-new_cast_on_the_boob_tube_720p.mp4\n",
      "/Volumes/WERDERNASX/VIDEOSX/BRAZZERS/big_tits_at_work/big_tits_at_work_madison_scott-we_really_shouldnt_be_doing_this_1080p.mp4\n",
      "/Volumes/WERDERNASX/VIDEOSX/BRAZZERS/big_tits_at_work/big_tits_at_work_mariah_milano-perverted_boss_720p.mp4\n",
      "/Volumes/WERDERNASX/VIDEOSX/BRAZZERS/big_tits_at_work/big_tits_at_work_mea_melone-under_the_table_deal_1080p.mp4\n",
      "/Volumes/WERDERNASX/VIDEOSX/BRAZZERS/big_tits_at_work/big_tits_at_work_mia_lelani-bored_boss_cock_720p.mp4\n",
      "/Volumes/WERDERNASX/VIDEOSX/BRAZZERS/big_tits_at_work/big_tits_at_work_monique_alexander-getting_off_the_typing_pool_720p.mp4\n",
      "/Volumes/WERDERNASX/VIDEOSX/BRAZZERS/big_tits_at_work/big_tits_at_work_monique_alexander-how_bad_do_you_want_it_720p.mp4\n",
      "/Volumes/WERDERNASX/VIDEOSX/BRAZZERS/big_tits_at_work/big_tits_at_work_monique_alexander-point_of_sale_720p.mp4\n",
      "/Volumes/WERDERNASX/VIDEOSX/BRAZZERS/big_tits_at_work/big_tits_at_work_monique_alexander-remote_controlled_boss_720p.mp4\n",
      "/Volumes/WERDERNASX/VIDEOSX/BRAZZERS/big_tits_at_work/big_tits_at_work_monique_alexander-team_building_sexcercise_720p.mp4\n",
      "/Volumes/WERDERNASX/VIDEOSX/BRAZZERS/big_tits_at_work/big_tits_at_work_nicolette_shea-business_with_pleasure_720p.mp4\n",
      "/Volumes/WERDERNASX/VIDEOSX/BRAZZERS/big_tits_at_work/big_tits_at_work_nicolette_shea-testing_her_concentration_720p.mp4\n",
      "/Volumes/WERDERNASX/VIDEOSX/BRAZZERS/big_tits_at_work/big_tits_at_work_nicolette_shea-the_view_from_down_here_1080p.mp4\n",
      "/Volumes/WERDERNASX/VIDEOSX/BRAZZERS/big_tits_at_work/big_tits_at_work_nicolette_shea-water_cooler_dick_1080p.mp4\n",
      "/Volumes/WERDERNASX/VIDEOSX/BRAZZERS/big_tits_at_work/big_tits_at_work_nikita_von_james-the_man_cums_around_720p.mp4\n",
      "/Volumes/WERDERNASX/VIDEOSX/BRAZZERS/big_tits_at_work/big_tits_at_work_nikki_benz-full_dis_clothe_her_720p.mp4\n",
      "/Volumes/WERDERNASX/VIDEOSX/BRAZZERS/big_tits_at_work/big_tits_at_work_nikki_benz-ring_the_bell_for_service_720p.mp4\n",
      "/Volumes/WERDERNASX/VIDEOSX/BRAZZERS/big_tits_at_work/big_tits_at_work_nikki_benz-zz_courthouse_part_two_1080p.mp4\n",
      "/Volumes/WERDERNASX/VIDEOSX/BRAZZERS/big_tits_at_work/big_tits_at_work_nikki_benz__nina_elle__summer_brielle__courtney_taylor-office_4_play_vi_720p.mp4\n",
      "/Volumes/WERDERNASX/VIDEOSX/BRAZZERS/big_tits_at_work/big_tits_at_work_nina_elle-eating_in_the_meating_720p.mp4\n",
      "/Volumes/WERDERNASX/VIDEOSX/BRAZZERS/big_tits_at_work/big_tits_at_work_nina_elle-fucking_my_boss_720p.mp4\n",
      "/Volumes/WERDERNASX/VIDEOSX/BRAZZERS/big_tits_at_work/big_tits_at_work_olivia_austin-how_to_fuck_at_the_office_720p.mp4\n",
      "/Volumes/WERDERNASX/VIDEOSX/BRAZZERS/big_tits_at_work/big_tits_at_work_paige_delight-splooger_720p.mp4\n",
      "/Volumes/WERDERNASX/VIDEOSX/BRAZZERS/big_tits_at_work/big_tits_at_work_patty_michova-the_window_watcher_1080p.mp4\n",
      "/Volumes/WERDERNASX/VIDEOSX/BRAZZERS/big_tits_at_work/big_tits_at_work_penny_pax-happy_fucking_birthday_720p.mp4\n",
      "/Volumes/WERDERNASX/VIDEOSX/BRAZZERS/big_tits_at_work/big_tits_at_work_peta_jensen-our_new_maid_part_two_720p.mp4\n",
      "/Volumes/WERDERNASX/VIDEOSX/BRAZZERS/big_tits_at_work/big_tits_at_work_peta_jensen-zz_courthouse_part_three_720p.mp4\n",
      "/Volumes/WERDERNASX/VIDEOSX/BRAZZERS/big_tits_at_work/big_tits_at_work_phoenix_marie__alexis_ford__angelina_valentine__kagneylinn_karter-office_4_play_iii_720p.mp4\n",
      "/Volumes/WERDERNASX/VIDEOSX/BRAZZERS/big_tits_at_work/big_tits_at_work_rachel_roxxx-an_ass_made_by_the_sweetest_angels_720p.mp4\n",
      "/Volumes/WERDERNASX/VIDEOSX/BRAZZERS/big_tits_at_work/big_tits_at_work_rachel_roxxx-dream_a_big_boob_dream_720p.mp4\n",
      "/Volumes/WERDERNASX/VIDEOSX/BRAZZERS/big_tits_at_work/big_tits_at_work_rachel_roxxx-sexy_secretary_selfies_720p.mp4\n",
      "/Volumes/WERDERNASX/VIDEOSX/BRAZZERS/big_tits_at_work/big_tits_at_work_rachel_roxxx-skyla_novea_hungry_for_a_job_720p.mp4\n",
      "/Volumes/WERDERNASX/VIDEOSX/BRAZZERS/big_tits_at_work/big_tits_at_work_rachel_roxxx-the_office_mummy_720p.mp4\n",
      "/Volumes/WERDERNASX/VIDEOSX/BRAZZERS/big_tits_at_work/big_tits_at_work_raven_bay-under_my_coworkers_skirt_720p.mp4\n",
      "/Volumes/WERDERNASX/VIDEOSX/BRAZZERS/big_tits_at_work/big_tits_at_work_rebeca_linares-social_sexworking_720p.mp4\n",
      "/Volumes/WERDERNASX/VIDEOSX/BRAZZERS/big_tits_at_work/big_tits_at_work_rebecca_more-bankrupt_morals_1080p.mp4\n",
      "/Volumes/WERDERNASX/VIDEOSX/BRAZZERS/big_tits_at_work/big_tits_at_work_romi_rain-anal_audit_720p.mp4\n",
      "/Volumes/WERDERNASX/VIDEOSX/BRAZZERS/big_tits_at_work/big_tits_at_work_romi_rain-mad_muff_720p.mp4\n",
      "/Volumes/WERDERNASX/VIDEOSX/BRAZZERS/big_tits_at_work/big_tits_at_work_romi_rain-my_boss_is_a_whore_720p.mp4\n",
      "/Volumes/WERDERNASX/VIDEOSX/BRAZZERS/big_tits_at_work/big_tits_at_work_romi_rain-pressing_news_720p.mp4\n",
      "/Volumes/WERDERNASX/VIDEOSX/BRAZZERS/big_tits_at_work/big_tits_at_work_romi_rain_work-hard_fuck_harder_1080p.mp4\n",
      "/Volumes/WERDERNASX/VIDEOSX/BRAZZERS/big_tits_at_work/big_tits_at_work_ryan_conner-tits_out_to_lunch_720p.mp4\n",
      "/Volumes/WERDERNASX/VIDEOSX/BRAZZERS/big_tits_at_work/big_tits_at_work_samantha_saint-titty_tipper_720p.mp4\n",
      "/Volumes/WERDERNASX/VIDEOSX/BRAZZERS/big_tits_at_work/big_tits_at_work_sarah_vandella-her_first_big_sale_720p.mp4\n",
      "/Volumes/WERDERNASX/VIDEOSX/BRAZZERS/big_tits_at_work/big_tits_at_work_shyla_stylez-dirty_car_sales_woman_720p.mp4\n",
      "/Volumes/WERDERNASX/VIDEOSX/BRAZZERS/big_tits_at_work/big_tits_at_work_shyla_stylez-personal_favors_1080p.mp4\n",
      "/Volumes/WERDERNASX/VIDEOSX/BRAZZERS/big_tits_at_work/big_tits_at_work_siri_dahl-siri_ously_big_tits_720p.mp4\n",
      "/Volumes/WERDERNASX/VIDEOSX/BRAZZERS/big_tits_at_work/big_tits_at_work_skyler_mckay-it_ergonomic_720p.mp4\n",
      "/Volumes/WERDERNASX/VIDEOSX/BRAZZERS/big_tits_at_work/big_tits_at_work_sophie_dee-diamonds_are_whorever_1080p.mp4\n",
      "/Volumes/WERDERNASX/VIDEOSX/BRAZZERS/big_tits_at_work/big_tits_at_work_stacey_lacey-catch_a_thief_720p.mp4\n",
      "/Volumes/WERDERNASX/VIDEOSX/BRAZZERS/big_tits_at_work/big_tits_at_work_susi_gala-cock_in_the_stall_720p.mp4\n",
      "/Volumes/WERDERNASX/VIDEOSX/BRAZZERS/big_tits_at_work/big_tits_at_work_susy_gala-foot_clerk_at_work_720p.mp4\n",
      "/Volumes/WERDERNASX/VIDEOSX/BRAZZERS/big_tits_at_work/big_tits_at_work_sybil_stallone-our_little_secret_ary_720p.mp4\n",
      "/Volumes/WERDERNASX/VIDEOSX/BRAZZERS/big_tits_at_work/big_tits_at_work_syren_de_mer-red_hot_boss_from_hell_720p.mp4\n",
      "/Volumes/WERDERNASX/VIDEOSX/BRAZZERS/big_tits_at_work/big_tits_at_work_syren_de_mer-the_xxx_files_720p.mp4\n",
      "/Volumes/WERDERNASX/VIDEOSX/BRAZZERS/big_tits_at_work/big_tits_at_work_tarra_white-dont_call_in_sick_just_fuck_the_boss_1080p.mp4\n",
      "/Volumes/WERDERNASX/VIDEOSX/BRAZZERS/big_tits_at_work/big_tits_at_work_tarra_white-king_of_the_jungle_720p.mp4\n",
      "/Volumes/WERDERNASX/VIDEOSX/BRAZZERS/big_tits_at_work/big_tits_at_work_tasha_holz-working_hard_1080p.mp4\n",
      "/Volumes/WERDERNASX/VIDEOSX/BRAZZERS/big_tits_at_work/big_tits_at_work_tory_lane-fuck_for_the_promotion_720p.mp4\n",
      "/Volumes/WERDERNASX/VIDEOSX/BRAZZERS/big_tits_at_work/big_tits_at_work_tory_lane-im_your_christmas_bonus_720p.mp4\n",
      "/Volumes/WERDERNASX/VIDEOSX/BRAZZERS/big_tits_at_work/big_tits_at_work_tory_lane-parking_violation_480p.mp4\n",
      "/Volumes/WERDERNASX/VIDEOSX/BRAZZERS/big_tits_at_work/big_tits_at_work_velicity_von-hawaii_tickets_up_for_grabs_720p.mp4\n",
      "/Volumes/WERDERNASX/VIDEOSX/BRAZZERS/big_tits_at_work/big_tits_at_work_veronica_avluv-it_is_a_penal_offense_720p.mp4\n",
      "/Volumes/WERDERNASX/VIDEOSX/BRAZZERS/big_tits_at_work/big_tits_at_work_veronica_avluv-show_me_whos_boss_720p.mp4\n",
      "/Volumes/WERDERNAS2X/VIDEOS2X/BRAZZERS2/big_tits_at_work/big_tits_at_work_alexis_monroe-zz_courthouse_part_one_720p.mp4\n",
      "/Volumes/WERDERNASX/VIDEOSX/BRAZZERS/big_tits_in_sports/big_tits_in_sports_abbey_brooks-taking_care_of_the_team_720p.mp4\n",
      "/Volumes/WERDERNASX/VIDEOSX/BRAZZERS/big_tits_in_sports/big_tits_in_sports_abbie_cat__yuffie_yulan-why_we_love_womens_tennis_1080p.mp4\n",
      "/Volumes/WERDERNASX/VIDEOSX/BRAZZERS/big_tits_in_sports/big_tits_in_sports_alanah_rae__haley_cummings-air_juggs_1080p.mp4\n",
      "/Volumes/WERDERNASX/VIDEOSX/BRAZZERS/big_tits_in_sports/big_tits_in_sports_alanah_rae__nikki_benz-from_whip_lash_to_tit_lash_to_splish_splash_720p.mp4\n",
      "/Volumes/WERDERNASX/VIDEOSX/BRAZZERS/big_tits_in_sports/big_tits_in_sports_alanah_rae__shyla_stylez-intimate_surrender_720p.mp4\n",
      "/Volumes/WERDERNASX/VIDEOSX/BRAZZERS/big_tits_in_sports/big_tits_in_sports_aleska_diamond-balls_deep_in_the_ballerina_720p.mp4\n",
      "/Volumes/WERDERNASX/VIDEOSX/BRAZZERS/big_tits_in_sports/big_tits_in_sports_aleska_diamond-personal_pussy_trainer_720p.mp4\n",
      "/Volumes/WERDERNASX/VIDEOSX/BRAZZERS/big_tits_in_sports/big_tits_in_sports_angel_vain-work_those_knockers_720p.mp4\n",
      "/Volumes/WERDERNASX/VIDEOSX/BRAZZERS/big_tits_in_sports/big_tits_in_sports_april_oneil_daisy_cruz-big_tits_in_field_hockey_720p.mp4\n",
      "/Volumes/WERDERNASX/VIDEOSX/BRAZZERS/big_tits_in_sports/big_tits_in_sports_bonnie_rotten__lolly_ink-super_hole_xlvii_1080p.mp4\n",
      "/Volumes/WERDERNASX/VIDEOSX/BRAZZERS/big_tits_in_sports/big_tits_in_sports_bridgette_b__eva_angelina__alanah_rae__nicole_aniston-big_game_1080p.mp4\n",
      "/Volumes/WERDERNASX/VIDEOSX/BRAZZERS/big_tits_in_sports/big_tits_in_sports_brooklyn_blue-cock_robics_720p.mp4\n",
      "/Volumes/WERDERNASX/VIDEOSX/BRAZZERS/big_tits_in_sports/big_tits_in_sports_chanel_preston-hot_and_sweaty_volleyballs_720p.mp4\n",
      "/Volumes/WERDERNASX/VIDEOSX/BRAZZERS/big_tits_in_sports/big_tits_in_sports_chanel_preston__kortney_kane-rack_racers_720p.mp4\n",
      "/Volumes/WERDERNASX/VIDEOSX/BRAZZERS/big_tits_in_sports/big_tits_in_sports_emma_leigh-sink_the_pink_720p.mp4\n",
      "/Volumes/WERDERNASX/VIDEOSX/BRAZZERS/big_tits_in_sports/big_tits_in_sports_eva_karera-mma_much_more_anal_720p.mp4\n",
      "/Volumes/WERDERNASX/VIDEOSX/BRAZZERS/big_tits_in_sports/big_tits_in_sports_eva_karera-the_big_titted_ballerina_720p.mp4\n",
      "/Volumes/WERDERNASX/VIDEOSX/BRAZZERS/big_tits_in_sports/big_tits_in_sports_holly_halston-balls_of_fire_720p.mp4\n",
      "/Volumes/WERDERNASX/VIDEOSX/BRAZZERS/big_tits_in_sports/big_tits_in_sports_jasmine_jae__erica_fontes-world_cup_uk_team_tits_720p.mp4\n",
      "/Volumes/WERDERNASX/VIDEOSX/BRAZZERS/big_tits_in_sports/big_tits_in_sports_jasmine_jae__victoria_summers-rugby_720p.mp4\n",
      "/Volumes/WERDERNASX/VIDEOSX/BRAZZERS/big_tits_in_sports/big_tits_in_sports_jenna_presley__aleksa_nicole__brandy_aniston-stroke_work_720p.mp4\n",
      "/Volumes/WERDERNASX/VIDEOSX/BRAZZERS/big_tits_in_sports/big_tits_in_sports_jessica_jaymes-whore_games_720p.mp4\n",
      "/Volumes/WERDERNASX/VIDEOSX/BRAZZERS/big_tits_in_sports/big_tits_in_sports_julia_ann-hyper_spaz_tits_workout_720p.mp4\n",
      "/Volumes/WERDERNASX/VIDEOSX/BRAZZERS/big_tits_in_sports/big_tits_in_sports_julia_ann-lean_mean_fucking_machine_720p.mp4\n",
      "/Volumes/WERDERNASX/VIDEOSX/BRAZZERS/big_tits_in_sports/big_tits_in_sports_julia_ann__rachel_starr-j_a_r_s_720p.mp4\n",
      "/Volumes/WERDERNASX/VIDEOSX/BRAZZERS/big_tits_in_sports/big_tits_in_sports_kagneylinn_karter-post_match_pussy_part_one_720p.mp4\n",
      "/Volumes/WERDERNASX/VIDEOSX/BRAZZERS/big_tits_in_sports/big_tits_in_sports_kagneylinn_karter__rachel_roxx-rachel_vs_kagney_720p.mp4\n",
      "/Volumes/WERDERNASX/VIDEOSX/BRAZZERS/big_tits_in_sports/big_tits_in_sports_kelly_divine__phoenix_marie-extreme_fucking_league_720p.mp4\n",
      "/Volumes/WERDERNASX/VIDEOSX/BRAZZERS/big_tits_in_sports/big_tits_in_sports_kendra_lust-breast_of_the_breast_720p.mp4\n",
      "/Volumes/WERDERNASX/VIDEOSX/BRAZZERS/big_tits_in_sports/big_tits_in_sports_kendra_lust-double_dribble_on_my_tits_720p.mp4\n",
      "/Volumes/WERDERNASX/VIDEOSX/BRAZZERS/big_tits_in_sports/big_tits_in_sports_kendra_lust-going_deep_at_the_gym_720p.mp4\n",
      "/Volumes/WERDERNASX/VIDEOSX/BRAZZERS/big_tits_in_sports/big_tits_in_sports_kendra_lust__brandi_love__kendra_lust__diamond_jackson__jewels_jade-miss_titness_america_720p.mp4\n",
      "/Volumes/WERDERNASX/VIDEOSX/BRAZZERS/big_tits_in_sports/big_tits_in_sports_kerry_louise__halie_james-sea_do_me_720p.mp4\n",
      "/Volumes/WERDERNASX/VIDEOSX/BRAZZERS/big_tits_in_sports/big_tits_in_sports_krissy_lynn__mackenzee_pierce_juelz_ventura-bitches_and_blasters_720p.mp4\n",
      "/Volumes/WERDERNASX/VIDEOSX/BRAZZERS/big_tits_in_sports/big_tits_in_sports_lexi_ward-rock_harder_1080p.mp4\n",
      "/Volumes/WERDERNASX/VIDEOSX/BRAZZERS/big_tits_in_sports/big_tits_in_sports_liza_del_sierra-trainer_to_the_stars_720p.mp4\n",
      "/Volumes/WERDERNASX/VIDEOSX/BRAZZERS/big_tits_in_sports/big_tits_in_sports_london_jolie-coachs_boner_720p.mp4\n",
      "/Volumes/WERDERNASX/VIDEOSX/BRAZZERS/big_tits_in_sports/big_tits_in_sports_mariah_milano-cycle_slut_720p.mp4\n",
      "/Volumes/WERDERNASX/VIDEOSX/BRAZZERS/big_tits_in_sports/big_tits_in_sports_nikki_benz__diamond_jackson-game_set_match_pussy_720p.mp4\n",
      "/Volumes/WERDERNASX/VIDEOSX/BRAZZERS/big_tits_in_sports/big_tits_in_sports_nina_elle-cant_resist_the_tits.mp4\n",
      "/Volumes/WERDERNASX/VIDEOSX/BRAZZERS/big_tits_in_sports/big_tits_in_sports_rachel_roxxx-a_hole_in_one_720p.mp4\n",
      "/Volumes/WERDERNASX/VIDEOSX/BRAZZERS/big_tits_in_sports/big_tits_in_sports_rachel_roxxx__bonnie_rotten-no_tits_barred_720p.mp4\n",
      "/Volumes/WERDERNASX/VIDEOSX/BRAZZERS/big_tits_in_sports/big_tits_in_sports_rachel_roxxx__brandy_aniston-halftime_titty_hump_720p.mp4\n",
      "/Volumes/WERDERNASX/VIDEOSX/BRAZZERS/big_tits_in_sports/big_tits_in_sports_samantha_saint-suck_sex_in_soccer_720p.mp4\n",
      "/Volumes/WERDERNASX/VIDEOSX/BRAZZERS/big_tits_in_sports/big_tits_in_sports_sophie_dee-if_the_field_s_wet_fuck_it_720p.mp4\n",
      "/Volumes/WERDERNASX/VIDEOSX/BRAZZERS/big_tits_in_sports/big_tits_in_sports_sophie_dee-tit_chi_1080p.mp4\n",
      "/Volumes/WERDERNASX/VIDEOSX/BRAZZERS/big_tits_in_sports/big_tits_in_sports_tiffany_minx-lucha_libre_coochie_720p.mp4\n",
      "/Volumes/WERDERNASX/VIDEOSX/BRAZZERS/big_tits_in_sports/big_tits_in_sports_veronica_avluv-five_on_one_1080p.mp4\n",
      "/Volumes/WERDERNAS2X/VIDEOS2X/BRAZZERS2/big_tits_in_sports/big_tits_in_sports_brandi_love__jewels_jade__kendra_lust-miss_titness_america_720p.mp4\n",
      "/Volumes/WERDERNASX/VIDEOSX/BRAZZERS/big_tits_in_uniform/big_tits_in_uniform_alana_evans-suck_fuck_select_start_tits_720p.mp4\n",
      "/Volumes/WERDERNASX/VIDEOSX/BRAZZERS/big_tits_in_uniform/big_tits_in_uniform_alanah_rae-a_night_in_the_hole_720p.mp4\n",
      "/Volumes/WERDERNASX/VIDEOSX/BRAZZERS/big_tits_in_uniform/big_tits_in_uniform_aleksa_nicole__courtney_taylor-welcome_the_don_720p.mp4\n",
      "/Volumes/WERDERNASX/VIDEOSX/BRAZZERS/big_tits_in_uniform/big_tits_in_uniform_alektra_blue-slutty_stay_in_the_slammer_720p.mp4\n",
      "/Volumes/WERDERNASX/VIDEOSX/BRAZZERS/big_tits_in_uniform/big_tits_in_uniform_aletta_ocean-give_the_maid_the_tip.mp4\n",
      "/Volumes/WERDERNASX/VIDEOSX/BRAZZERS/big_tits_in_uniform/big_tits_in_uniform_aletta_ocean-tail_mail_1080p.mp4\n",
      "/Volumes/WERDERNASX/VIDEOSX/BRAZZERS/big_tits_in_uniform/big_tits_in_uniform_alexis_ford-trick_or_treat_or_bukkake_1080p.mp4\n",
      "/Volumes/WERDERNASX/VIDEOSX/BRAZZERS/big_tits_in_uniform/big_tits_in_uniform_alexis_ford__asa_akira-babes_in_black_2_720p.mp4\n",
      "/Volumes/WERDERNASX/VIDEOSX/BRAZZERS/big_tits_in_uniform/big_tits_in_uniform_ava_addams-maid_for_fucking_720p.mp4\n",
      "/Volumes/WERDERNASX/VIDEOSX/BRAZZERS/big_tits_in_uniform/big_tits_in_uniform_ava_addams-tits_on_patrol_1080p.mp4\n",
      "/Volumes/WERDERNASX/VIDEOSX/BRAZZERS/big_tits_in_uniform/big_tits_in_uniform_ava_addams__isis_taylor-cumly_cleaners_720p.mp4\n",
      "/Volumes/WERDERNASX/VIDEOSX/BRAZZERS/big_tits_in_uniform/big_tits_in_uniform_brooklyn_chase-laying_pipe_with_the_bros_720p.mp4\n",
      "/Volumes/WERDERNASX/VIDEOSX/BRAZZERS/big_tits_in_uniform/big_tits_in_uniform_chanel_preston-the_one_mile_high_club_720p.mp4\n",
      "/Volumes/WERDERNASX/VIDEOSX/BRAZZERS/big_tits_in_uniform/big_tits_in_uniform_chanel_preston__kirsten_price-drill_me_sergeant_70p.mp4\n",
      "/Volumes/WERDERNASX/VIDEOSX/BRAZZERS/big_tits_in_uniform/big_tits_in_uniform_claire_dames-foremans_funbags_1080p.mp4\n",
      "/Volumes/WERDERNASX/VIDEOSX/BRAZZERS/big_tits_in_uniform/big_tits_in_uniform_dylan_ryder-zippity_zappers_720p.mp4\n",
      "/Volumes/WERDERNASX/VIDEOSX/BRAZZERS/big_tits_in_uniform/big_tits_in_uniform_elicia_soles-all_or_nothing_720p.mp4\n",
      "/Volumes/WERDERNASX/VIDEOSX/BRAZZERS/big_tits_in_uniform/big_tits_in_uniform_emily_parkee-referee_with_big_tits_fucks_player_720p.mp4\n",
      "/Volumes/WERDERNASX/VIDEOSX/BRAZZERS/big_tits_in_uniform/big_tits_in_uniform_eva_karera-that_pussys_electric_720p.mp4\n",
      "/Volumes/WERDERNASX/VIDEOSX/BRAZZERS/big_tits_in_uniform/big_tits_in_uniform_heather_summer-diaries_of_a_bitch_maid_720p.mp4\n",
      "/Volumes/WERDERNASX/VIDEOSX/BRAZZERS/big_tits_in_uniform/big_tits_in_uniform_jacky_joy-tits_n_tv_1080p.mp4\n",
      "/Volumes/WERDERNASX/VIDEOSX/BRAZZERS/big_tits_in_uniform/big_tits_in_uniform_jacky_joy-titty_tipping_720p.mp4\n",
      "/Volumes/WERDERNASX/VIDEOSX/BRAZZERS/big_tits_in_uniform/big_tits_in_uniform_jayden_jaymes-campus_security_1080p.mp4\n",
      "/Volumes/WERDERNASX/VIDEOSX/BRAZZERS/big_tits_in_uniform/big_tits_in_uniform_jayden_jaymes-danny_d_comes_to_america_720p.mp4\n",
      "/Volumes/WERDERNASX/VIDEOSX/BRAZZERS/big_tits_in_uniform/big_tits_in_uniform_jayden_jaymes-fire_hose_my_face_720p.mp4\n",
      "/Volumes/WERDERNASX/VIDEOSX/BRAZZERS/big_tits_in_uniform/big_tits_in_uniform_jayden_jaymes__jenna_presley-enhanced_interrogation_720p.mp4\n",
      "/Volumes/WERDERNASX/VIDEOSX/BRAZZERS/big_tits_in_uniform/big_tits_in_uniform_jenna_presley-1_2_3_4_fuck_me_on_the_bathroom_floor_720p.mp4\n",
      "/Volumes/WERDERNASX/VIDEOSX/BRAZZERS/big_tits_in_uniform/big_tits_in_uniform_jessica_jaymes-stunt_my_cunt_720p.mp4\n",
      "/Volumes/WERDERNASX/VIDEOSX/BRAZZERS/big_tits_in_uniform/big_tits_in_uniform_jewels_jade-2069_a_space_o_titty_1080p.mp4\n",
      "/Volumes/WERDERNASX/VIDEOSX/BRAZZERS/big_tits_in_uniform/big_tits_in_uniform_julia_ann-tits_are_always_the_solution_720p.mp4\n",
      "/Volumes/WERDERNASX/VIDEOSX/BRAZZERS/big_tits_in_uniform/big_tits_in_uniform_kagneylinn_karter-fast_boob_joint_720p.mp4\n",
      "/Volumes/WERDERNASX/VIDEOSX/BRAZZERS/big_tits_in_uniform/big_tits_in_uniform_kagneylinn_karter-kagney_hustles_for_that_tip_720p.mp4\n",
      "/Volumes/WERDERNASX/VIDEOSX/BRAZZERS/big_tits_in_uniform/big_tits_in_uniform_katie_kox-breast_control_720p.mp4\n",
      "/Volumes/WERDERNASX/VIDEOSX/BRAZZERS/big_tits_in_uniform/big_tits_in_uniform_katie_kox-kox_or_money_720p.mp4\n",
      "/Volumes/WERDERNASX/VIDEOSX/BRAZZERS/big_tits_in_uniform/big_tits_in_uniform_kendra_lust-a_labor_of_lust_720p.mp4\n",
      "/Volumes/WERDERNASX/VIDEOSX/BRAZZERS/big_tits_in_uniform/big_tits_in_uniform_kendra_lust-good_cock_bad_cop_720p.mp4\n",
      "/Volumes/WERDERNASX/VIDEOSX/BRAZZERS/big_tits_in_uniform/big_tits_in_uniform_krissy_lynn-krissys_delicious_cookies_720p.mp4\n",
      "/Volumes/WERDERNASX/VIDEOSX/BRAZZERS/big_tits_in_uniform/big_tits_in_uniform_krissy_lynn-this_is_a_bust_720p.mp4\n",
      "/Volumes/WERDERNASX/VIDEOSX/BRAZZERS/big_tits_in_uniform/big_tits_in_uniform_krissy_lynn-training_day_bitch_1080p.mp4\n",
      "/Volumes/WERDERNASX/VIDEOSX/BRAZZERS/big_tits_in_uniform/big_tits_in_uniform_krissy_lynn__mia_lelani__romi_rain-getting_some_satisfaction_720p.mp4\n",
      "/Volumes/WERDERNASX/VIDEOSX/BRAZZERS/big_tits_in_uniform/big_tits_in_uniform_lexi_lowe-full_busty_jacket_720p.mp4\n",
      "/Volumes/WERDERNASX/VIDEOSX/BRAZZERS/big_tits_in_uniform/big_tits_in_uniform_lezley_zen__shyla_Shylez-security_sluts_1080p.mp4\n",
      "/Volumes/WERDERNASX/VIDEOSX/BRAZZERS/big_tits_in_uniform/big_tits_in_uniform_lolly_lnk-begging_the_bellgirl_1080p.mp4\n",
      "/Volumes/WERDERNASX/VIDEOSX/BRAZZERS/big_tits_in_uniform/big_tits_in_uniform_lou_lou-erotic_interrogation_1080p.mp4\n",
      "/Volumes/WERDERNASX/VIDEOSX/BRAZZERS/big_tits_in_uniform/big_tits_in_uniform_mackenzee_pierce-inglourious_french_maids_part_1_720p.mp4\n",
      "/Volumes/WERDERNASX/VIDEOSX/BRAZZERS/big_tits_in_uniform/big_tits_in_uniform_mariah_milano-dinner_s_on_me_720p.mp4\n",
      "/Volumes/WERDERNASX/VIDEOSX/BRAZZERS/big_tits_in_uniform/big_tits_in_uniform_mia_lelani__krissy_lynn__romi_rain-getting_some_satisfaction_720p.mp4\n",
      "/Volumes/WERDERNASX/VIDEOSX/BRAZZERS/big_tits_in_uniform/big_tits_in_uniform_riley_evans-firefighter_fucker_1080p.mp4\n",
      "/Volumes/WERDERNASX/VIDEOSX/BRAZZERS/big_tits_in_uniform/big_tits_in_uniform_roberta_gemma-going_down_1080p.mp4\n",
      "/Volumes/WERDERNASX/VIDEOSX/BRAZZERS/big_tits_in_uniform/big_tits_in_uniform_samantha_saint-cup_of_ho_720p.mp4\n",
      "/Volumes/WERDERNASX/VIDEOSX/BRAZZERS/big_tits_in_uniform/big_tits_in_uniform_samantha_saint-sucking_the_senator_720p.mp4\n",
      "/Volumes/WERDERNASX/VIDEOSX/BRAZZERS/big_tits_in_uniform/big_tits_in_uniform_shyla_stylez-happy_fuck_day_720p.mp4\n",
      "/Volumes/WERDERNASX/VIDEOSX/BRAZZERS/big_tits_in_uniform/big_tits_in_uniform_tessa_lane-inglourious_french_maids_part_2_720p.mp4\n",
      "/Volumes/WERDERNASX/VIDEOSX/BRAZZERS/big_tits_in_uniform/big_tits_in_uniform_veronica_avluv-meter_maiden_1080p.mp4\n",
      "/Volumes/WERDERNASX/VIDEOSX/BRAZZERS/big_tits_in_uniform/big_tits_in_uniform_zoey_holiday-big_tits_in_the_bighouse_720p.mp4\n",
      "/Volumes/WERDERNASX/VIDEOSX/BRAZZERS/big_tits_in_uniform/big_tits_in_uniform_zoey_holiday-cat_calling_cooch_720p.mp4\n",
      "/Volumes/WERDERNASX/VIDEOSX/BRAZZERS/big_wet_butts/big_wet_butts_adriana_chechik__karmen_karma-living_in_an_anal_paradise_720p.mp4\n",
      "/Volumes/WERDERNASX/VIDEOSX/BRAZZERS/big_wet_butts/big_wet_butts_alena_croft-honey_nut_booty_o_s_720p.mp4\n",
      "/Volumes/WERDERNASX/VIDEOSX/BRAZZERS/big_wet_butts/big_wet_butts_alena_croft-the_notorious_b_o_o_t_y_720p.mp4\n",
      "/Volumes/WERDERNASX/VIDEOSX/BRAZZERS/big_wet_butts/big_wet_butts_alena_croft__amethyst_banks-santas_twerkshop_720p.mp4\n",
      "/Volumes/WERDERNASX/VIDEOSX/BRAZZERS/big_wet_butts/big_wet_butts_aletta_ocean-the_double_penetration_settlement_720p.mp4\n",
      "/Volumes/WERDERNASX/VIDEOSX/BRAZZERS/big_wet_butts/big_wet_butts_aletta_ocean__jenny_hendrix-big_butt_style_1080p.mp4\n",
      "/Volumes/WERDERNASX/VIDEOSX/BRAZZERS/big_wet_butts/big_wet_butts_alexis_ford-alexis_ass_time_720p.mp4\n",
      "/Volumes/WERDERNASX/VIDEOSX/BRAZZERS/big_wet_butts/big_wet_butts_alura_jenson__syren_de_mer__tiffany_minx-try_my_milf_shake_720p.mp4\n",
      "/Volumes/WERDERNASX/VIDEOSX/BRAZZERS/big_wet_butts/big_wet_butts_angel_wicky-bottomless_anal_fuck_720p.mp4\n",
      "/Volumes/WERDERNASX/VIDEOSX/BRAZZERS/big_wet_butts/big_wet_butts_angel_wicky__amirah_adara-fancy_ass_fucking_720p.mp4\n",
      "/Volumes/WERDERNASX/VIDEOSX/BRAZZERS/big_wet_butts/big_wet_butts_angela_white__savannah_bond-a_double_dose_of_aussie_ass_1080p.mp4\n",
      "/Volumes/WERDERNASX/VIDEOSX/BRAZZERS/big_wet_butts/big_wet_butts_anissa_kate__nekane_sweet-booty_work_1080p.mp4\n",
      "/Volumes/WERDERNASX/VIDEOSX/BRAZZERS/big_wet_butts/big_wet_butts_anna_bell-butts_ass_after_midnight_720p.mp4\n",
      "/Volumes/WERDERNASX/VIDEOSX/BRAZZERS/big_wet_butts/big_wet_butts_ashli_orion__sophie_dee-a_totally_epic_threesome_720p.mp4\n",
      "/Volumes/WERDERNASX/VIDEOSX/BRAZZERS/big_wet_butts/big_wet_butts_bibi_noel__kagneylinn_karter-assfucking_like_rabbits_720p.mp4\n",
      "/Volumes/WERDERNASX/VIDEOSX/BRAZZERS/big_wet_butts/big_wet_butts_blanche_bradburry-booty_bounce_720p.mp4\n",
      "/Volumes/WERDERNASX/VIDEOSX/BRAZZERS/big_wet_butts/big_wet_butts_blanche_bradburry-first_class_ass_720p.mp4\n",
      "/Volumes/WERDERNASX/VIDEOSX/BRAZZERS/big_wet_butts/big_wet_butts_blanche_bradburry-maid_for_anal_720p.mp4\n",
      "/Volumes/WERDERNASX/VIDEOSX/BRAZZERS/big_wet_butts/big_wet_butts_bridgette_b-a_jolly_easter_buttfucking_720p.mp4\n",
      "/Volumes/WERDERNASX/VIDEOSX/BRAZZERS/big_wet_butts/big_wet_butts_bridgette_b-bubbliest_butt_720p.mp4\n",
      "/Volumes/WERDERNASX/VIDEOSX/BRAZZERS/big_wet_butts/big_wet_butts_bridgette_b-caution_enter_the_ass_zone_mp4_1080p.mp4\n",
      "/Volumes/WERDERNASX/VIDEOSX/BRAZZERS/big_wet_butts/big_wet_butts_bridgette_b-free_anal_720p.mp4\n",
      "/Volumes/WERDERNASX/VIDEOSX/BRAZZERS/big_wet_butts/big_wet_butts_bridgette_b-garden_hoes_720p.mp4\n",
      "/Volumes/WERDERNASX/VIDEOSX/BRAZZERS/big_wet_butts/big_wet_butts_bridgette_b-maid_for_anal_1080p.mp4\n",
      "/Volumes/WERDERNASX/VIDEOSX/BRAZZERS/big_wet_butts/big_wet_butts_bridgette_b-plowing_the_private_dancer_720p.mp4\n",
      "/Volumes/WERDERNASX/VIDEOSX/BRAZZERS/big_wet_butts/big_wet_butts_bridgette_b-spanish_doll_dp_720p.mp4\n",
      "/Volumes/WERDERNASX/VIDEOSX/BRAZZERS/big_wet_butts/big_wet_butts_bridgette_b-wet_hot_yoga_720p.mp4\n",
      "/Volumes/WERDERNASX/VIDEOSX/BRAZZERS/big_wet_butts/big_wet_butts_bridgette_b__phoenix_marie__kelly_divine-three_times_the_booty_720p.mp4\n",
      "/Volumes/WERDERNASX/VIDEOSX/BRAZZERS/big_wet_butts/big_wet_butts_cathy_heaven-heavenly_ass_720p.mp4\n",
      "/Volumes/WERDERNASX/VIDEOSX/BRAZZERS/big_wet_butts/big_wet_butts_cathy_heaven-soapy_self_care_720p.mp4\n",
      "/Volumes/WERDERNASX/VIDEOSX/BRAZZERS/big_wet_butts/big_wet_butts_claire_dames-birthday_butt_fuck_720p.mp4\n",
      "/Volumes/WERDERNASX/VIDEOSX/BRAZZERS/big_wet_butts/big_wet_butts_courtney_taylor-journey_to_the_center_of_courtneys_asshole_720p.mp4\n",
      "/Volumes/WERDERNASX/VIDEOSX/BRAZZERS/big_wet_butts/big_wet_butts_dana_dearmond__tory_lane-hillbilly_ho_down_720p.mp4\n",
      "/Volumes/WERDERNASX/VIDEOSX/BRAZZERS/big_wet_butts/big_wet_butts_eva_karera-anal_on_ice_720p.mp4\n",
      "/Volumes/WERDERNASX/VIDEOSX/BRAZZERS/big_wet_butts/big_wet_butts_eva_karera-double_penetrating_belgian_booty_720p.mp4\n",
      "/Volumes/WERDERNASX/VIDEOSX/BRAZZERS/big_wet_butts/big_wet_butts_holly_halston-going_for_a_dip_720p.mp4\n",
      "/Volumes/WERDERNASX/VIDEOSX/BRAZZERS/big_wet_butts/big_wet_butts_holly_halston-hot_ass_oily_party_720p.mp4\n",
      "/Volumes/WERDERNASX/VIDEOSX/BRAZZERS/big_wet_butts/big_wet_butts_holly_halston-tight_jeans_big_booty_720p.mp4\n",
      "/Volumes/WERDERNASX/VIDEOSX/BRAZZERS/big_wet_butts/big_wet_butts_holly_halston__francesca_lee-anus_a_nice_day_1080p.mp4\n",
      "/Volumes/WERDERNASX/VIDEOSX/BRAZZERS/big_wet_butts/big_wet_butts_jayden_jaymes-de_structing_jayden_720p.mp4\n",
      "/Volumes/WERDERNASX/VIDEOSX/BRAZZERS/big_wet_butts/big_wet_butts_jayden_jaymes-full_anal_tuned_up_1080p.mp4\n",
      "/Volumes/WERDERNASX/VIDEOSX/BRAZZERS/big_wet_butts/big_wet_butts_jessica_moore-high_hills_720p.mp4\n",
      "/Volumes/WERDERNASX/VIDEOSX/BRAZZERS/big_wet_butts/big_wet_butts_kagneylinn_karter-anal_fun_with_kagneys_buns_720p.mp4\n",
      "/Volumes/WERDERNASX/VIDEOSX/BRAZZERS/big_wet_butts/big_wet_butts_kagneylinn_karter-dp_d_on_her_honeymoon_720p.mp4\n",
      "/Volumes/WERDERNASX/VIDEOSX/BRAZZERS/big_wet_butts/big_wet_butts_kagneylinn_karter-kagneys_crazy_keister_720p.mp4\n",
      "/Volumes/WERDERNASX/VIDEOSX/BRAZZERS/big_wet_butts/big_wet_butts_kagneylinn_karter-plump_pantyhose_720p.mp4\n",
      "/Volumes/WERDERNASX/VIDEOSX/BRAZZERS/big_wet_butts/big_wet_butts_karmen_karma-flower_pounder_720p.mp4\n",
      "/Volumes/WERDERNASX/VIDEOSX/BRAZZERS/big_wet_butts/big_wet_butts_karmen_karma-karmas_a_big_butt_bitch_720p.mp4\n",
      "/Volumes/WERDERNASX/VIDEOSX/BRAZZERS/big_wet_butts/big_wet_butts_karmen_karma-karmens_anal_creampie_720p.mp4\n",
      "/Volumes/WERDERNASX/VIDEOSX/BRAZZERS/big_wet_butts/big_wet_butts_karmen_karma-silhouette_slam_720p.mp4\n",
      "/Volumes/WERDERNASX/VIDEOSX/BRAZZERS/big_wet_butts/big_wet_butts_kelly_divine-creampie_on_a_divine_ass_720p.mp4\n",
      "/Volumes/WERDERNASX/VIDEOSX/BRAZZERS/big_wet_butts/big_wet_butts_kelly_divine-twerking_on_the_dick_so_divine_720p.mp4\n",
      "/Volumes/WERDERNASX/VIDEOSX/BRAZZERS/big_wet_butts/big_wet_butts_kelly_divine__kristina_rose-the_spanksgiving_spectacular_720p.mp4\n",
      "/Volumes/WERDERNASX/VIDEOSX/BRAZZERS/big_wet_butts/big_wet_butts_kelly_divine__lea_lexus-the_backdoor_to_limbo_720p.mp4\n",
      "/Volumes/WERDERNASX/VIDEOSX/BRAZZERS/big_wet_butts/big_wet_butts_kenzie_taylor-fucked_in_the_seat_720p.mp4\n",
      "/Volumes/WERDERNASX/VIDEOSX/BRAZZERS/big_wet_butts/big_wet_butts_kenzie_taylor-getting_obscene_on_the_trampoline_720p.mp4\n",
      "/Volumes/WERDERNASX/VIDEOSX/BRAZZERS/big_wet_butts/big_wet_butts_kiara_mia-ass_and_titties_720p.mp4\n",
      "/Volumes/WERDERNASX/VIDEOSX/BRAZZERS/big_wet_butts/big_wet_butts_kiara_mia-kiaras_oily_anal_720p.mp4\n",
      "/Volumes/WERDERNASX/VIDEOSX/BRAZZERS/big_wet_butts/big_wet_butts_krissy_lynn-first_dibbs_on_her_asshole_720p.mp4\n",
      "/Volumes/WERDERNASX/VIDEOSX/BRAZZERS/big_wet_butts/big_wet_butts_krissy_lynn-little_red_ride_him_good_720p.mp4\n",
      "/Volumes/WERDERNASX/VIDEOSX/BRAZZERS/big_wet_butts/big_wet_butts_krissy_lynn-the_superior_posterior_720p.mp4\n",
      "/Volumes/WERDERNASX/VIDEOSX/BRAZZERS/big_wet_butts/big_wet_butts_krissy_lynn__mckenzie_pierce-asstastic_threesome_720p.mp4\n",
      "/Volumes/WERDERNASX/VIDEOSX/BRAZZERS/big_wet_butts/big_wet_butts_krissy_lynn__nikki_delano__rose_monroe-triassathlon_720p.mp4\n",
      "/Volumes/WERDERNASX/VIDEOSX/BRAZZERS/big_wet_butts/big_wet_butts_liza_del_sierra-english_dick_vs_french_booty_720p.mp4\n",
      "/Volumes/WERDERNASX/VIDEOSX/BRAZZERS/big_wet_butts/big_wet_butts_liza_del_sierra-french_open_720p.mp4\n",
      "/Volumes/WERDERNASX/VIDEOSX/BRAZZERS/big_wet_butts/big_wet_butts_liza_del_sierra-in_through_the_french_exit_720p.mp4\n",
      "/Volumes/WERDERNASX/VIDEOSX/BRAZZERS/big_wet_butts/big_wet_butts_nikki_benz-big_booty_dream_jeans_720p.mp4\n",
      "/Volumes/WERDERNASX/VIDEOSX/BRAZZERS/big_wet_butts/big_wet_butts_nikki_benz-break_the_internet_for_real_this_time_720p.mp4\n",
      "/Volumes/WERDERNASX/VIDEOSX/BRAZZERS/big_wet_butts/big_wet_butts_nikki_benz-nikki_gets_wet_720p.mp4\n",
      "/Volumes/WERDERNASX/VIDEOSX/BRAZZERS/big_wet_butts/big_wet_butts_nikki_benz-pantyhose_playtime_720p.mp4\n",
      "/Volumes/WERDERNASX/VIDEOSX/BRAZZERS/big_wet_butts/big_wet_butts_nikki_benz-wet_butt_sex_red_latex_720p.mp4\n",
      "/Volumes/WERDERNASX/VIDEOSX/BRAZZERS/big_wet_butts/big_wet_butts_nina_elle-that_glistening_ass_1080p.mp4\n",
      "/Volumes/WERDERNASX/VIDEOSX/BRAZZERS/big_wet_butts/big_wet_butts_nina_kayy-big_wet_miami_booty_720p.mp4\n",
      "/Volumes/WERDERNASX/VIDEOSX/BRAZZERS/big_wet_butts/big_wet_butts_rachel_roxxx-solid_as_a_roxxx_720p.mp4\n",
      "/Volumes/WERDERNASX/VIDEOSX/BRAZZERS/big_wet_butts/big_wet_butts_rachel_roxxx-the_purr_fect_ass_720p.mp4\n",
      "/Volumes/WERDERNASX/VIDEOSX/BRAZZERS/big_wet_butts/big_wet_butts_rebeca_linares-big_butt_cake_720p.mp4\n",
      "/Volumes/WERDERNASX/VIDEOSX/BRAZZERS/big_wet_butts/big_wet_butts_riley_evans-butt_smuggling_720p.mp4\n",
      "/Volumes/WERDERNASX/VIDEOSX/BRAZZERS/big_wet_butts/big_wet_butts_riley_evans-delta_force_fucked_720p.mp4\n",
      "/Volumes/WERDERNASX/VIDEOSX/BRAZZERS/big_wet_butts/big_wet_butts_riley_evans-i_love_anal_in_the_morning_720p.mp4\n",
      "/Volumes/WERDERNASX/VIDEOSX/BRAZZERS/big_wet_butts/big_wet_butts_ryan_conner-cream_my_jeans_720p.mp4\n",
      "/Volumes/WERDERNASX/VIDEOSX/BRAZZERS/big_wet_butts/big_wet_butts_ryan_conner-downward_doggystyle_720p.mp4\n",
      "/Volumes/WERDERNASX/VIDEOSX/BRAZZERS/big_wet_butts/big_wet_butts_sarah_shevon-fancy_fire_woman_720p.mp4\n",
      "/Volumes/WERDERNASX/VIDEOSX/BRAZZERS/big_wet_butts/big_wet_butts_sophie_dee-afternoon_dee_p_720p.mp4\n",
      "/Volumes/WERDERNASX/VIDEOSX/BRAZZERS/big_wet_butts/big_wet_butts_sophie_dee-sophie_dee_posit_box_720p.mp4\n",
      "/Volumes/WERDERNASX/VIDEOSX/BRAZZERS/big_wet_butts/big_wet_butts_syren_de_mer-airtight_in_the_bathtub_720p.mp4\n",
      "/Volumes/WERDERNASX/VIDEOSX/BRAZZERS/big_wet_butts/big_wet_butts_syren_de_mer-my_big_butt_maid_720p.mp4\n",
      "/Volumes/WERDERNASX/VIDEOSX/BRAZZERS/big_wet_butts/big_wet_butts_syren_de_mer-under_syrens_spell_720p.mp4\n",
      "/Volumes/WERDERNASX/VIDEOSX/BRAZZERS/big_wet_butts/big_wet_butts_tiffany_minx-oiled_cougar_720p.mp4\n",
      "/Volumes/WERDERNASX/VIDEOSX/BRAZZERS/big_wet_butts/big_wet_butts_tory_lane-fuck_friends_720p.mp4\n",
      "/Volumes/WERDERNASX/VIDEOSX/BRAZZERS/big_wet_butts/big_wet_butts_tory_lane-she_knows_what_she_wants_720p.mp4\n",
      "/Volumes/WERDERNASX/VIDEOSX/BRAZZERS/big_wet_butts/big_wet_butts_tory_lane-sphincter_sorority_sisters_720p.mp4\n",
      "/Volumes/WERDERNASX/VIDEOSX/BRAZZERS/big_wet_butts/big_wet_butts_velicity_von-brand_new_ass_oil_720p.mp4\n",
      "/Volumes/WERDERNAS2X/VIDEOS2X/BRAZZERS2/big_wet_butts/big_wet_butts_jewels_jade-jewelss_jaw_dropping_anal_720p.mp4\n",
      "/Volumes/WERDERNAS2X/VIDEOS2X/BRAZZERS2/big_wet_butts/big_wet_butts_jewels_jade-nurse_booty_480p.mp4\n",
      "/Volumes/WERDERNAS2X/VIDEOS2X/BRAZZERS2/big_wet_butts/big_wet_butts_karma_rx-from_the_big_screen_to_his_lap_720p.mp4\n"
     ]
    }
   ],
   "source": [
    "import itertools\n",
    "for lf in itertools.chain(bgb_files, bgb_files_2, bblib_files, bblib_files_2, btas_files, btas_files_2,\n",
    "                          btaw_files, btaw_files_2, btis_files, btis_files_2, btiu_files, btiu_files_2,\n",
    "                          bwb_files, bwb_files_2):\n",
    "    print(lf)"
   ]
  },
  {
   "cell_type": "code",
   "execution_count": null,
   "metadata": {},
   "outputs": [],
   "source": []
  },
  {
   "cell_type": "code",
   "execution_count": 5,
   "metadata": {
    "code_folding": [
     198,
     211,
     224,
     237,
     250,
     262
    ]
   },
   "outputs": [],
   "source": [
    "import itertools\n",
    "\n",
    "\n",
    "bgb_db = {}\n",
    "bgb_db_2 = {}\n",
    "bgb_db_tmp = []\n",
    "bgb_location_db = {}\n",
    "bgb_location_db_tmp = []\n",
    "bgb_site_tmp = []\n",
    "bgb_site_db = {}\n",
    "\n",
    "bblib_db = {}\n",
    "bblib_db_2 = {}\n",
    "bblib_db_tmp = []\n",
    "bblib_location_db = {}\n",
    "bblib_location_db_tmp = []\n",
    "bblib_site_tmp = []\n",
    "bblib_site_db = {}\n",
    "\n",
    "btas_db = {}\n",
    "btas_db_2 = {}\n",
    "btas_db_tmp = []\n",
    "btas_location_db = {}\n",
    "btas_location_db_tmp = []\n",
    "btas_site_tmp = []\n",
    "btas_site_db = {}\n",
    "\n",
    "btaw_db = {}\n",
    "btaw_db_2 = {}\n",
    "btaw_db_tmp = []\n",
    "btaw_location_db = {}\n",
    "btaw_location_db_tmp = []\n",
    "btaw_site_tmp = []\n",
    "btaw_site_db = {}\n",
    "\n",
    "btis_db = {}\n",
    "btis_db_2 = {}\n",
    "btis_db_tmp = []\n",
    "btis_location_db = {}\n",
    "btis_location_db_tmp = []\n",
    "btis_site_tmp = []\n",
    "btis_site_db = {}\n",
    "\n",
    "btiu_db = {}\n",
    "btiu_db_2 = {}\n",
    "btiu_db_tmp = []\n",
    "btiu_location_db = {}\n",
    "btiu_location_db_tmp = []\n",
    "btiu_site_tmp = []\n",
    "btiu_site_db = {}\n",
    "\n",
    "bwb_db = {}\n",
    "bwb_db_2 = {}\n",
    "bwb_db_tmp = []\n",
    "bwb_location_db = {}\n",
    "bwb_location_db_tmp = []\n",
    "bwb_site_tmp = []\n",
    "bwb_site_db = {}\n",
    "\n",
    "\n",
    "bbex_db = {}\n",
    "bbex_db_2 = {}\n",
    "bbex_db_tmp = []\n",
    "bbex_location_db = {}\n",
    "bbex_location_db_tmp = []\n",
    "bbex_site_tmp = []\n",
    "bbex_site_db = {}\n",
    "\n",
    "bzv_db = {}\n",
    "bzv_db_2 = {}\n",
    "bzv_db_tmp = []\n",
    "bzv_location_db = {}\n",
    "bzv_location_db_tmp = []\n",
    "bzv_site_tmp = []\n",
    "bzv_site_db = {}\n",
    "\n",
    "\n",
    "cfnm_db = {}\n",
    "cfnm_db_2 = {}\n",
    "cfnm_db_tmp = []\n",
    "cfnm_location_db = {}\n",
    "cfnm_location_db_tmp = []\n",
    "cfnm_site_tmp = []\n",
    "cfnm_site_db = {}\n",
    "\n",
    "\n",
    "dwap_db = {}\n",
    "dwap_db_2 = {}\n",
    "dwap_db_tmp = []\n",
    "dwap_location_db = {}\n",
    "dwap_location_db_tmp = []\n",
    "dwap_site_tmp = []\n",
    "dwap_site_db = {}\n",
    "\n",
    "\n",
    "dda_db = {}\n",
    "dda_db_2 = {}\n",
    "dda_db_tmp = []\n",
    "dda_location_db = {}\n",
    "dda_location_db_tmp = []\n",
    "dda_site_tmp = []\n",
    "dda_site_db = {}\n",
    "\n",
    "\n",
    "ddm_db = {}\n",
    "ddm_db_2 = {}\n",
    "ddm_db_tmp = []\n",
    "ddm_location_db = {}\n",
    "ddm_location_db_tmp = []\n",
    "ddm_site_tmp = []\n",
    "ddm_site_db = {}\n",
    "\n",
    "\n",
    "mlib_db = {}\n",
    "mlib_db_2 = {}\n",
    "mlib_db_tmp = []\n",
    "mlib_location_db = {}\n",
    "mlib_location_db_tmp = []\n",
    "mlib_site_tmp = []\n",
    "mlib_site_db = {}\n",
    "\n",
    "\n",
    "mgb_db = {}\n",
    "mgb_db_2 = {}\n",
    "mgb_db_tmp = []\n",
    "mgb_location_db = {}\n",
    "mgb_location_db_tmp = []\n",
    "mgb_site_tmp = []\n",
    "mgb_site_db = {}\n",
    "\n",
    "\n",
    "mic_db = {}\n",
    "mic_db_2 = {}\n",
    "mic_db_tmp = []\n",
    "mic_location_db = {}\n",
    "mic_location_db_tmp = []\n",
    "mic_site_tmp = []\n",
    "mic_site_db = {}\n",
    "\n",
    "\n",
    "plib_db = {}\n",
    "plib_db_2 = {}\n",
    "plib_db_tmp = []\n",
    "plib_location_db = {}\n",
    "plib_location_db_tmp = []\n",
    "plib_site_tmp = []\n",
    "plib_site_db = {}\n",
    "\n",
    "rws_db = {}\n",
    "rws_db_2 = {}\n",
    "rws_db_tmp = []\n",
    "rws_location_db = {}\n",
    "rws_location_db_tmp = []\n",
    "rws_site_tmp = []\n",
    "rws_site_db = {}\n",
    "\n",
    "\n",
    "sgs_db = {}\n",
    "sgs_db_2 = {}\n",
    "sgs_db_tmp = []\n",
    "sgs_location_db = {}\n",
    "sgs_location_db_tmp = []\n",
    "sgs_site_tmp = []\n",
    "sgs_site_db = {}\n",
    "\n",
    "\n",
    "tlib_db = {}\n",
    "tlib_db_2 = {}\n",
    "tlib_db_tmp = []\n",
    "tlib_location_db = {}\n",
    "tlib_location_db_tmp = []\n",
    "tlib_site_tmp = []\n",
    "tlib_site_db = {}\n",
    "\n",
    "\n",
    "#for lf in itertools.chain(bgb_files, bgb_files_2, bblib_files, bblib_files_2, btas_files, btaw_files,\n",
    "#                          btis_files, btiu_files, bwb_files, bbex_files, bbex_files_2,\n",
    "#                          bzv_files, cfnm_files, dwap_files, dwap_files_2, ddm_files,\n",
    "#                          dda_files, mlib_files, mgb_files, mic_files, \n",
    "#                          plib_files, rws_files, sgs_files, tlib_files):\n",
    "for lf in itertools.chain(bgb_files, bgb_files_2, bblib_files, bblib_files_2, btas_files, btas_files_2,\n",
    "                          btaw_files, btaw_files_2, btis_files, btis_files_2, btiu_files, btiu_files_2,\n",
    "                          bwb_files, bwb_files_2):  \n",
    "    \n",
    "    site_string = lf.split('/')[-2]\n",
    "    if site_string == \"baby_got_boobs\":\n",
    "        location = lf.split(\"/\")[2]\n",
    "        site_with_ps = lf.split('/')[-1].split('-')[0]\n",
    "        ps_all = lf.split(\"-\")[0].split(\"baby_got_boobs_\")[1]\n",
    "        ps_single = ps_all.split(\"__\")#.replace('_',\" \").title()\n",
    "        #print(site_string)\n",
    "        bgb_location_db_tmp.append(location)\n",
    "        bgb_location_db = pd.DataFrame(bgb_location_db_tmp)\n",
    "        bgb_db_tmp.append(ps_single)\n",
    "        bgb_db = pd.DataFrame(bgb_db_tmp)\n",
    "        bgb_site_tmp.append(site_string)\n",
    "        bgb_site_db = pd.DataFrame(bgb_site_tmp)\n",
    "        \n",
    "    elif site_string == \"big_butts_like_it_big\":\n",
    "        location = lf.split(\"/\")[2]\n",
    "        site_with_ps = lf.split('/')[-1].split('-')[0]\n",
    "        ps_all = lf.split(\"-\")[0].split(\"big_butts_like_it_big_\")[1]\n",
    "        ps_single = ps_all.split(\"__\")\n",
    "        #print(ps_single)\n",
    "        bblib_location_db_tmp.append(location)\n",
    "        bblib_location_db = pd.DataFrame(bblib_location_db_tmp)\n",
    "        bblib_db_tmp.append(ps_single)\n",
    "        bblib_db = pd.DataFrame(bblib_db_tmp)\n",
    "        bblib_site_tmp.append(site_string)\n",
    "        bblib_site_db = pd.DataFrame(bblib_site_tmp)\n",
    "        \n",
    "    elif site_string == \"big_tits_at_school\":\n",
    "        location = lf.split(\"/\")[2]\n",
    "        site_with_ps = lf.split('/')[-1].split('-')[0]\n",
    "        ps_all = lf.split(\"-\")[0].split(\"big_tits_at_school_\")[1]\n",
    "        ps_single = ps_all.split(\"__\")\n",
    "        #print(ps_single)\n",
    "        btas_location_db_tmp.append(location)\n",
    "        btas_location_db = pd.DataFrame(btas_location_db_tmp)\n",
    "        btas_db_tmp.append(ps_single)\n",
    "        btas_db = pd.DataFrame(btas_db_tmp)\n",
    "        btas_site_tmp.append(site_string)\n",
    "        btas_site_db = pd.DataFrame(btas_site_tmp)\n",
    "        \n",
    "    elif site_string == \"big_tits_at_work\":\n",
    "        location = lf.split(\"/\")[2]\n",
    "        site_with_ps = lf.split('/')[-1].split('-')[0]\n",
    "        ps_all = lf.split(\"-\")[0].split(\"big_tits_at_work_\")[1]\n",
    "        ps_single = ps_all.split(\"__\")\n",
    "        #print(ps_single)\n",
    "        btaw_location_db_tmp.append(location)\n",
    "        btaw_location_db = pd.DataFrame(btaw_location_db_tmp)\n",
    "        btaw_db_tmp.append(ps_single)\n",
    "        btaw_db = pd.DataFrame(btaw_db_tmp)\n",
    "        btaw_site_tmp.append(site_string)\n",
    "        btaw_site_db = pd.DataFrame(btaw_site_tmp)\n",
    "        \n",
    "    elif site_string == \"big_tits_in_sports\":\n",
    "        location = lf.split(\"/\")[2]\n",
    "        site_with_ps = lf.split('/')[-1].split('-')[0]\n",
    "        ps_all = lf.split(\"-\")[0].split(\"big_tits_in_sports_\")[1]\n",
    "        ps_single = ps_all.split(\"__\")\n",
    "        #print(ps_single)\n",
    "        btis_location_db_tmp.append(location)\n",
    "        btis_location_db = pd.DataFrame(btis_location_db_tmp)\n",
    "        btis_db_tmp.append(ps_single)\n",
    "        btis_db = pd.DataFrame(btis_db_tmp)       \n",
    "        btis_site_tmp.append(site_string)\n",
    "        btis_site_db = pd.DataFrame(btis_site_tmp)\n",
    "        \n",
    "    elif site_string == \"big_tits_in_uniform\":\n",
    "        location = lf.split(\"/\")[2]\n",
    "        site_with_ps = lf.split('/')[-1].split('-')[0]\n",
    "        ps_all = lf.split(\"-\")[0].split(\"big_tits_in_uniform_\")[1]\n",
    "        ps_single = ps_all.split(\"__\")\n",
    "        btiu_location_db_tmp.append(location)\n",
    "        btiu_location_db = pd.DataFrame(btiu_location_db_tmp)\n",
    "        btiu_db_tmp.append(ps_single)\n",
    "        btiu_db = pd.DataFrame(btiu_db_tmp)\n",
    "        btiu_site_tmp.append(site_string)\n",
    "        btiu_site_db = pd.DataFrame(btiu_site_tmp)\n",
    "        \n",
    "    elif site_string == \"big_wet_butts\":\n",
    "        location = lf.split(\"/\")[2]\n",
    "        site_with_ps = lf.split('/')[-1].split('-')[0]\n",
    "        ps_all = lf.split(\"-\")[0].split(\"big_wet_butts_\")[1]\n",
    "        ps_single = ps_all.split(\"__\")\n",
    "        bwb_location_db_tmp.append(location)\n",
    "        bwb_location_db = pd.DataFrame(bwb_location_db_tmp)\n",
    "        bwb_db_tmp.append(ps_single)\n",
    "        bwb_db = pd.DataFrame(bwb_db_tmp)\n",
    "        bwb_site_tmp.append(site_string)\n",
    "        bwb_site_db = pd.DataFrame(bwb_site_tmp)\n",
    "    \n",
    "        \n",
    "        \n",
    "\n",
    "# baby_got_boobs        \n",
    "bgb_db_2 = pd.concat([bgb_site_db, bgb_db, bgb_location_db], axis = 1)\n",
    "bgb_db_2.columns = ['Site', 'PS1', 'PS2', 'PS3','Location']\n",
    "bgb_db_2.loc[(bgb_db_2[\"PS2\"].isnull()), \"PS2\"] = \"no_name\"\n",
    "bgb_db_2.loc[(bgb_db_2[\"PS3\"].isnull()), \"PS3\"] = \"no_name\"\n",
    "bgb_db_2['Site'] = bgb_db_2['Site'].map(lambda name:name.replace('_', ' ').title())\n",
    "bgb_db_2['PS1'] = bgb_db_2['PS1'].map(lambda name:name.replace('_', ' ').title())\n",
    "bgb_db_2['PS2'] = bgb_db_2['PS2'].map(lambda name:name.replace('_', ' ').title())\n",
    "bgb_db_2['PS3'] = bgb_db_2['PS3'].map(lambda name:name.replace('_', ' ').title())\n",
    "\n",
    "\n",
    "#big_butts_like_it_big_\n",
    "bblib_db_2 = pd.concat([bblib_site_db, bblib_db, bblib_location_db], axis = 1)\n",
    "bblib_db_2.columns = ['Site', 'PS1', 'PS2', 'Location']\n",
    "bblib_db_2.loc[(bblib_db_2[\"PS2\"].isnull()), \"PS2\"] = \"no_name\"\n",
    "bblib_db_2['Site'] = bblib_db_2['Site'].map(lambda name:name.replace('_', ' ').title())\n",
    "bblib_db_2['PS1'] = bblib_db_2['PS1'].map(lambda name:name.replace('_', ' ').title())\n",
    "bblib_db_2['PS2'] = bblib_db_2['PS2'].map(lambda name:name.replace('_', ' ').title())\n",
    "\n",
    "\n",
    "#big_tits_at_school_\n",
    "btas_db_2 = pd.concat([btas_site_db, btas_db, btas_location_db], axis = 1)\n",
    "btas_db_2.columns = ['Site', 'PS1', 'PS2', 'PS3', 'PS4', 'Location']\n",
    "btas_db_2.loc[(btas_db_2[\"PS2\"].isnull()), \"PS2\"] = \"no_name\"\n",
    "btas_db_2.loc[(btas_db_2[\"PS3\"].isnull()), \"PS3\"] = \"no_name\"\n",
    "btas_db_2.loc[(btas_db_2[\"PS4\"].isnull()), \"PS4\"] = \"no_name\"\n",
    "btas_db_2['Site'] = btas_db_2['Site'].map(lambda name:name.replace('_', ' ').title())\n",
    "btas_db_2['PS1'] = btas_db_2['PS1'].map(lambda name:name.replace('_', ' ').title())\n",
    "btas_db_2['PS2'] = btas_db_2['PS2'].map(lambda name:name.replace('_', ' ').title())\n",
    "btas_db_2['PS3'] = btas_db_2['PS3'].map(lambda name:name.replace('_', ' ').title())\n",
    "btas_db_2['PS4'] = btas_db_2['PS4'].map(lambda name:name.replace('_', ' ').title())\n",
    "\n",
    "\n",
    "#big_tits_at_work_\n",
    "btaw_db_2 = pd.concat([btaw_site_db, btaw_db, btaw_location_db], axis = 1)\n",
    "btaw_db_2.columns = ['Site', 'PS1', 'PS2', 'PS3', 'PS4', 'Location']\n",
    "btaw_db_2.loc[(btaw_db_2[\"PS2\"].isnull()), \"PS2\"] = \"no_name\"\n",
    "btaw_db_2.loc[(btaw_db_2[\"PS3\"].isnull()), \"PS3\"] = \"no_name\"\n",
    "btaw_db_2.loc[(btaw_db_2[\"PS4\"].isnull()), \"PS4\"] = \"no_name\"\n",
    "btaw_db_2['Site'] = btaw_db_2['Site'].map(lambda name:name.replace('_', ' ').title())\n",
    "btaw_db_2['PS1'] = btaw_db_2['PS1'].map(lambda name:name.replace('_', ' ').title())\n",
    "btaw_db_2['PS2'] = btaw_db_2['PS2'].map(lambda name:name.replace('_', ' ').title())\n",
    "btaw_db_2['PS3'] = btaw_db_2['PS3'].map(lambda name:name.replace('_', ' ').title())\n",
    "btaw_db_2['PS4'] = btaw_db_2['PS4'].map(lambda name:name.replace('_', ' ').title())\n",
    "\n",
    "\n",
    "#big_tits_in_sports_\n",
    "btis_db_2 = pd.concat([btis_site_db, btis_db, btis_location_db], axis = 1)\n",
    "btis_db_2.columns = ['Site', 'PS1', 'PS2', 'PS3', 'PS4', 'PS5', 'Location']\n",
    "btis_db_2.loc[(btis_db_2[\"PS2\"].isnull()), \"PS2\"] = \"no_name\"\n",
    "btis_db_2.loc[(btis_db_2[\"PS3\"].isnull()), \"PS3\"] = \"no_name\"\n",
    "btis_db_2.loc[(btis_db_2[\"PS4\"].isnull()), \"PS4\"] = \"no_name\"\n",
    "btis_db_2.loc[(btis_db_2[\"PS5\"].isnull()), \"PS5\"] = \"no_name\"\n",
    "btis_db_2['Site'] = btis_db_2['Site'].map(lambda name:name.replace('_', ' ').title())\n",
    "btis_db_2['PS1'] = btis_db_2['PS1'].map(lambda name:name.replace('_', ' ').title())\n",
    "btis_db_2['PS2'] = btis_db_2['PS2'].map(lambda name:name.replace('_', ' ').title())\n",
    "btis_db_2['PS3'] = btis_db_2['PS3'].map(lambda name:name.replace('_', ' ').title())\n",
    "btis_db_2['PS4'] = btis_db_2['PS4'].map(lambda name:name.replace('_', ' ').title())\n",
    "btis_db_2['PS5'] = btis_db_2['PS5'].map(lambda name:name.replace('_', ' ').title())\n",
    "\n",
    "#big_tits_in_uniform_\n",
    "btis_db_2 = pd.concat([btis_site_db, btis_db, btis_location_db], axis = 1)\n",
    "btis_db_2.columns = ['Site', 'PS1', 'PS2', 'PS3', 'PS4', 'PS5', 'Location']\n",
    "btis_db_2.loc[(btis_db_2[\"PS2\"].isnull()), \"PS2\"] = \"no_name\"\n",
    "btis_db_2.loc[(btis_db_2[\"PS3\"].isnull()), \"PS3\"] = \"no_name\"\n",
    "btis_db_2.loc[(btis_db_2[\"PS4\"].isnull()), \"PS4\"] = \"no_name\"\n",
    "btis_db_2.loc[(btis_db_2[\"PS5\"].isnull()), \"PS5\"] = \"no_name\"\n",
    "btis_db_2['Site'] = btis_db_2['Site'].map(lambda name:name.replace('_', ' ').title())\n",
    "btis_db_2['PS1'] = btis_db_2['PS1'].map(lambda name:name.replace('_', ' ').title())\n",
    "btis_db_2['PS2'] = btis_db_2['PS2'].map(lambda name:name.replace('_', ' ').title())\n",
    "btis_db_2['PS3'] = btis_db_2['PS3'].map(lambda name:name.replace('_', ' ').title())\n",
    "btis_db_2['PS4'] = btis_db_2['PS4'].map(lambda name:name.replace('_', ' ').title())\n",
    "btis_db_2['PS5'] = btis_db_2['PS5'].map(lambda name:name.replace('_', ' ').title())\n",
    "\n",
    "\n",
    "#big_wet_butts_\n",
    "bwb_db_2 = pd.concat([bwb_site_db, bwb_db, bwb_location_db], axis = 1)\n",
    "bwb_db_2.columns = ['Site', 'PS1', 'PS2', 'PS3', 'Location']\n",
    "bwb_db_2.loc[(bwb_db_2[\"PS2\"].isnull()), \"PS2\"] = \"no_name\"\n",
    "bwb_db_2.loc[(bwb_db_2[\"PS3\"].isnull()), \"PS3\"] = \"no_name\"\n",
    "bwb_db_2['Site'] = bwb_db_2['Site'].map(lambda name:name.replace('_', ' ').title())\n",
    "bwb_db_2['PS1'] = bwb_db_2['PS1'].map(lambda name:name.replace('_', ' ').title())\n",
    "bwb_db_2['PS2'] = bwb_db_2['PS2'].map(lambda name:name.replace('_', ' ').title())\n",
    "bwb_db_2['PS3'] = bwb_db_2['PS3'].map(lambda name:name.replace('_', ' ').title())\n",
    "#btiu_db_2.columns = ['Pornstar 1', 'Pornstar 2', 'Pornstar 3', 'Location']"
   ]
  },
  {
   "cell_type": "code",
   "execution_count": 7,
   "metadata": {},
   "outputs": [
    {
     "data": {
      "text/html": [
       "<div><div id=fae1cebd-a4c2-45e6-a3aa-3d8281ec04f7 style=\"display:none; background-color:#9D6CFF; color:white; width:200px; height:30px; padding-left:5px; border-radius:4px; flex-direction:row; justify-content:space-around; align-items:center;\" onmouseover=\"this.style.backgroundColor='#BA9BF8'\" onmouseout=\"this.style.backgroundColor='#9D6CFF'\" onclick=\"window.commands?.execute('create-mitosheet-from-dataframe-output');\">See Full Dataframe in Mito</div> <script> if (window.commands.hasCommand('create-mitosheet-from-dataframe-output')) document.getElementById('fae1cebd-a4c2-45e6-a3aa-3d8281ec04f7').style.display = 'flex' </script> <table border=\"1\" class=\"dataframe\">\n",
       "  <thead>\n",
       "    <tr style=\"text-align: right;\">\n",
       "      <th></th>\n",
       "      <th>Site</th>\n",
       "      <th>PS1</th>\n",
       "      <th>PS2</th>\n",
       "      <th>PS3</th>\n",
       "      <th>Location</th>\n",
       "    </tr>\n",
       "  </thead>\n",
       "  <tbody>\n",
       "    <tr>\n",
       "      <th>0</th>\n",
       "      <td>Big Wet Butts</td>\n",
       "      <td>Adriana Chechik</td>\n",
       "      <td>Karmen Karma</td>\n",
       "      <td>No Name</td>\n",
       "      <td>WERDERNASX</td>\n",
       "    </tr>\n",
       "    <tr>\n",
       "      <th>1</th>\n",
       "      <td>Big Wet Butts</td>\n",
       "      <td>Alena Croft</td>\n",
       "      <td>No Name</td>\n",
       "      <td>No Name</td>\n",
       "      <td>WERDERNASX</td>\n",
       "    </tr>\n",
       "    <tr>\n",
       "      <th>2</th>\n",
       "      <td>Big Wet Butts</td>\n",
       "      <td>Alena Croft</td>\n",
       "      <td>No Name</td>\n",
       "      <td>No Name</td>\n",
       "      <td>WERDERNASX</td>\n",
       "    </tr>\n",
       "    <tr>\n",
       "      <th>3</th>\n",
       "      <td>Big Wet Butts</td>\n",
       "      <td>Alena Croft</td>\n",
       "      <td>Amethyst Banks</td>\n",
       "      <td>No Name</td>\n",
       "      <td>WERDERNASX</td>\n",
       "    </tr>\n",
       "    <tr>\n",
       "      <th>4</th>\n",
       "      <td>Big Wet Butts</td>\n",
       "      <td>Aletta Ocean</td>\n",
       "      <td>No Name</td>\n",
       "      <td>No Name</td>\n",
       "      <td>WERDERNASX</td>\n",
       "    </tr>\n",
       "    <tr>\n",
       "      <th>5</th>\n",
       "      <td>Big Wet Butts</td>\n",
       "      <td>Aletta Ocean</td>\n",
       "      <td>Jenny Hendrix</td>\n",
       "      <td>No Name</td>\n",
       "      <td>WERDERNASX</td>\n",
       "    </tr>\n",
       "    <tr>\n",
       "      <th>6</th>\n",
       "      <td>Big Wet Butts</td>\n",
       "      <td>Alexis Ford</td>\n",
       "      <td>No Name</td>\n",
       "      <td>No Name</td>\n",
       "      <td>WERDERNASX</td>\n",
       "    </tr>\n",
       "    <tr>\n",
       "      <th>7</th>\n",
       "      <td>Big Wet Butts</td>\n",
       "      <td>Alura Jenson</td>\n",
       "      <td>Syren De Mer</td>\n",
       "      <td>Tiffany Minx</td>\n",
       "      <td>WERDERNASX</td>\n",
       "    </tr>\n",
       "    <tr>\n",
       "      <th>8</th>\n",
       "      <td>Big Wet Butts</td>\n",
       "      <td>Angel Wicky</td>\n",
       "      <td>No Name</td>\n",
       "      <td>No Name</td>\n",
       "      <td>WERDERNASX</td>\n",
       "    </tr>\n",
       "    <tr>\n",
       "      <th>9</th>\n",
       "      <td>Big Wet Butts</td>\n",
       "      <td>Angel Wicky</td>\n",
       "      <td>Amirah Adara</td>\n",
       "      <td>No Name</td>\n",
       "      <td>WERDERNASX</td>\n",
       "    </tr>\n",
       "    <tr>\n",
       "      <th>10</th>\n",
       "      <td>Big Wet Butts</td>\n",
       "      <td>Angela White</td>\n",
       "      <td>Savannah Bond</td>\n",
       "      <td>No Name</td>\n",
       "      <td>WERDERNASX</td>\n",
       "    </tr>\n",
       "    <tr>\n",
       "      <th>11</th>\n",
       "      <td>Big Wet Butts</td>\n",
       "      <td>Anissa Kate</td>\n",
       "      <td>Nekane Sweet</td>\n",
       "      <td>No Name</td>\n",
       "      <td>WERDERNASX</td>\n",
       "    </tr>\n",
       "    <tr>\n",
       "      <th>12</th>\n",
       "      <td>Big Wet Butts</td>\n",
       "      <td>Anna Bell</td>\n",
       "      <td>No Name</td>\n",
       "      <td>No Name</td>\n",
       "      <td>WERDERNASX</td>\n",
       "    </tr>\n",
       "    <tr>\n",
       "      <th>13</th>\n",
       "      <td>Big Wet Butts</td>\n",
       "      <td>Ashli Orion</td>\n",
       "      <td>Sophie Dee</td>\n",
       "      <td>No Name</td>\n",
       "      <td>WERDERNASX</td>\n",
       "    </tr>\n",
       "    <tr>\n",
       "      <th>14</th>\n",
       "      <td>Big Wet Butts</td>\n",
       "      <td>Bibi Noel</td>\n",
       "      <td>Kagneylinn Karter</td>\n",
       "      <td>No Name</td>\n",
       "      <td>WERDERNASX</td>\n",
       "    </tr>\n",
       "    <tr>\n",
       "      <th>15</th>\n",
       "      <td>Big Wet Butts</td>\n",
       "      <td>Blanche Bradburry</td>\n",
       "      <td>No Name</td>\n",
       "      <td>No Name</td>\n",
       "      <td>WERDERNASX</td>\n",
       "    </tr>\n",
       "    <tr>\n",
       "      <th>16</th>\n",
       "      <td>Big Wet Butts</td>\n",
       "      <td>Blanche Bradburry</td>\n",
       "      <td>No Name</td>\n",
       "      <td>No Name</td>\n",
       "      <td>WERDERNASX</td>\n",
       "    </tr>\n",
       "    <tr>\n",
       "      <th>17</th>\n",
       "      <td>Big Wet Butts</td>\n",
       "      <td>Blanche Bradburry</td>\n",
       "      <td>No Name</td>\n",
       "      <td>No Name</td>\n",
       "      <td>WERDERNASX</td>\n",
       "    </tr>\n",
       "    <tr>\n",
       "      <th>18</th>\n",
       "      <td>Big Wet Butts</td>\n",
       "      <td>Bridgette B</td>\n",
       "      <td>No Name</td>\n",
       "      <td>No Name</td>\n",
       "      <td>WERDERNASX</td>\n",
       "    </tr>\n",
       "    <tr>\n",
       "      <th>19</th>\n",
       "      <td>Big Wet Butts</td>\n",
       "      <td>Bridgette B</td>\n",
       "      <td>No Name</td>\n",
       "      <td>No Name</td>\n",
       "      <td>WERDERNASX</td>\n",
       "    </tr>\n",
       "    <tr>\n",
       "      <th>20</th>\n",
       "      <td>Big Wet Butts</td>\n",
       "      <td>Bridgette B</td>\n",
       "      <td>No Name</td>\n",
       "      <td>No Name</td>\n",
       "      <td>WERDERNASX</td>\n",
       "    </tr>\n",
       "    <tr>\n",
       "      <th>21</th>\n",
       "      <td>Big Wet Butts</td>\n",
       "      <td>Bridgette B</td>\n",
       "      <td>No Name</td>\n",
       "      <td>No Name</td>\n",
       "      <td>WERDERNASX</td>\n",
       "    </tr>\n",
       "    <tr>\n",
       "      <th>22</th>\n",
       "      <td>Big Wet Butts</td>\n",
       "      <td>Bridgette B</td>\n",
       "      <td>No Name</td>\n",
       "      <td>No Name</td>\n",
       "      <td>WERDERNASX</td>\n",
       "    </tr>\n",
       "    <tr>\n",
       "      <th>23</th>\n",
       "      <td>Big Wet Butts</td>\n",
       "      <td>Bridgette B</td>\n",
       "      <td>No Name</td>\n",
       "      <td>No Name</td>\n",
       "      <td>WERDERNASX</td>\n",
       "    </tr>\n",
       "    <tr>\n",
       "      <th>24</th>\n",
       "      <td>Big Wet Butts</td>\n",
       "      <td>Bridgette B</td>\n",
       "      <td>No Name</td>\n",
       "      <td>No Name</td>\n",
       "      <td>WERDERNASX</td>\n",
       "    </tr>\n",
       "    <tr>\n",
       "      <th>25</th>\n",
       "      <td>Big Wet Butts</td>\n",
       "      <td>Bridgette B</td>\n",
       "      <td>No Name</td>\n",
       "      <td>No Name</td>\n",
       "      <td>WERDERNASX</td>\n",
       "    </tr>\n",
       "    <tr>\n",
       "      <th>26</th>\n",
       "      <td>Big Wet Butts</td>\n",
       "      <td>Bridgette B</td>\n",
       "      <td>No Name</td>\n",
       "      <td>No Name</td>\n",
       "      <td>WERDERNASX</td>\n",
       "    </tr>\n",
       "    <tr>\n",
       "      <th>27</th>\n",
       "      <td>Big Wet Butts</td>\n",
       "      <td>Bridgette B</td>\n",
       "      <td>Phoenix Marie</td>\n",
       "      <td>Kelly Divine</td>\n",
       "      <td>WERDERNASX</td>\n",
       "    </tr>\n",
       "    <tr>\n",
       "      <th>28</th>\n",
       "      <td>Big Wet Butts</td>\n",
       "      <td>Cathy Heaven</td>\n",
       "      <td>No Name</td>\n",
       "      <td>No Name</td>\n",
       "      <td>WERDERNASX</td>\n",
       "    </tr>\n",
       "    <tr>\n",
       "      <th>29</th>\n",
       "      <td>Big Wet Butts</td>\n",
       "      <td>Cathy Heaven</td>\n",
       "      <td>No Name</td>\n",
       "      <td>No Name</td>\n",
       "      <td>WERDERNASX</td>\n",
       "    </tr>\n",
       "    <tr>\n",
       "      <th>...</th>\n",
       "      <td>...</td>\n",
       "      <td>...</td>\n",
       "      <td>...</td>\n",
       "      <td>...</td>\n",
       "      <td>...</td>\n",
       "    </tr>\n",
       "    <tr>\n",
       "      <th>65</th>\n",
       "      <td>Big Wet Butts</td>\n",
       "      <td>Liza Del Sierra</td>\n",
       "      <td>No Name</td>\n",
       "      <td>No Name</td>\n",
       "      <td>WERDERNASX</td>\n",
       "    </tr>\n",
       "    <tr>\n",
       "      <th>66</th>\n",
       "      <td>Big Wet Butts</td>\n",
       "      <td>Nikki Benz</td>\n",
       "      <td>No Name</td>\n",
       "      <td>No Name</td>\n",
       "      <td>WERDERNASX</td>\n",
       "    </tr>\n",
       "    <tr>\n",
       "      <th>67</th>\n",
       "      <td>Big Wet Butts</td>\n",
       "      <td>Nikki Benz</td>\n",
       "      <td>No Name</td>\n",
       "      <td>No Name</td>\n",
       "      <td>WERDERNASX</td>\n",
       "    </tr>\n",
       "    <tr>\n",
       "      <th>68</th>\n",
       "      <td>Big Wet Butts</td>\n",
       "      <td>Nikki Benz</td>\n",
       "      <td>No Name</td>\n",
       "      <td>No Name</td>\n",
       "      <td>WERDERNASX</td>\n",
       "    </tr>\n",
       "    <tr>\n",
       "      <th>69</th>\n",
       "      <td>Big Wet Butts</td>\n",
       "      <td>Nikki Benz</td>\n",
       "      <td>No Name</td>\n",
       "      <td>No Name</td>\n",
       "      <td>WERDERNASX</td>\n",
       "    </tr>\n",
       "    <tr>\n",
       "      <th>70</th>\n",
       "      <td>Big Wet Butts</td>\n",
       "      <td>Nikki Benz</td>\n",
       "      <td>No Name</td>\n",
       "      <td>No Name</td>\n",
       "      <td>WERDERNASX</td>\n",
       "    </tr>\n",
       "    <tr>\n",
       "      <th>71</th>\n",
       "      <td>Big Wet Butts</td>\n",
       "      <td>Nina Elle</td>\n",
       "      <td>No Name</td>\n",
       "      <td>No Name</td>\n",
       "      <td>WERDERNASX</td>\n",
       "    </tr>\n",
       "    <tr>\n",
       "      <th>72</th>\n",
       "      <td>Big Wet Butts</td>\n",
       "      <td>Nina Kayy</td>\n",
       "      <td>No Name</td>\n",
       "      <td>No Name</td>\n",
       "      <td>WERDERNASX</td>\n",
       "    </tr>\n",
       "    <tr>\n",
       "      <th>73</th>\n",
       "      <td>Big Wet Butts</td>\n",
       "      <td>Rachel Roxxx</td>\n",
       "      <td>No Name</td>\n",
       "      <td>No Name</td>\n",
       "      <td>WERDERNASX</td>\n",
       "    </tr>\n",
       "    <tr>\n",
       "      <th>74</th>\n",
       "      <td>Big Wet Butts</td>\n",
       "      <td>Rachel Roxxx</td>\n",
       "      <td>No Name</td>\n",
       "      <td>No Name</td>\n",
       "      <td>WERDERNASX</td>\n",
       "    </tr>\n",
       "    <tr>\n",
       "      <th>75</th>\n",
       "      <td>Big Wet Butts</td>\n",
       "      <td>Rebeca Linares</td>\n",
       "      <td>No Name</td>\n",
       "      <td>No Name</td>\n",
       "      <td>WERDERNASX</td>\n",
       "    </tr>\n",
       "    <tr>\n",
       "      <th>76</th>\n",
       "      <td>Big Wet Butts</td>\n",
       "      <td>Riley Evans</td>\n",
       "      <td>No Name</td>\n",
       "      <td>No Name</td>\n",
       "      <td>WERDERNASX</td>\n",
       "    </tr>\n",
       "    <tr>\n",
       "      <th>77</th>\n",
       "      <td>Big Wet Butts</td>\n",
       "      <td>Riley Evans</td>\n",
       "      <td>No Name</td>\n",
       "      <td>No Name</td>\n",
       "      <td>WERDERNASX</td>\n",
       "    </tr>\n",
       "    <tr>\n",
       "      <th>78</th>\n",
       "      <td>Big Wet Butts</td>\n",
       "      <td>Riley Evans</td>\n",
       "      <td>No Name</td>\n",
       "      <td>No Name</td>\n",
       "      <td>WERDERNASX</td>\n",
       "    </tr>\n",
       "    <tr>\n",
       "      <th>79</th>\n",
       "      <td>Big Wet Butts</td>\n",
       "      <td>Ryan Conner</td>\n",
       "      <td>No Name</td>\n",
       "      <td>No Name</td>\n",
       "      <td>WERDERNASX</td>\n",
       "    </tr>\n",
       "    <tr>\n",
       "      <th>80</th>\n",
       "      <td>Big Wet Butts</td>\n",
       "      <td>Ryan Conner</td>\n",
       "      <td>No Name</td>\n",
       "      <td>No Name</td>\n",
       "      <td>WERDERNASX</td>\n",
       "    </tr>\n",
       "    <tr>\n",
       "      <th>81</th>\n",
       "      <td>Big Wet Butts</td>\n",
       "      <td>Sarah Shevon</td>\n",
       "      <td>No Name</td>\n",
       "      <td>No Name</td>\n",
       "      <td>WERDERNASX</td>\n",
       "    </tr>\n",
       "    <tr>\n",
       "      <th>82</th>\n",
       "      <td>Big Wet Butts</td>\n",
       "      <td>Sophie Dee</td>\n",
       "      <td>No Name</td>\n",
       "      <td>No Name</td>\n",
       "      <td>WERDERNASX</td>\n",
       "    </tr>\n",
       "    <tr>\n",
       "      <th>83</th>\n",
       "      <td>Big Wet Butts</td>\n",
       "      <td>Sophie Dee</td>\n",
       "      <td>No Name</td>\n",
       "      <td>No Name</td>\n",
       "      <td>WERDERNASX</td>\n",
       "    </tr>\n",
       "    <tr>\n",
       "      <th>84</th>\n",
       "      <td>Big Wet Butts</td>\n",
       "      <td>Syren De Mer</td>\n",
       "      <td>No Name</td>\n",
       "      <td>No Name</td>\n",
       "      <td>WERDERNASX</td>\n",
       "    </tr>\n",
       "    <tr>\n",
       "      <th>85</th>\n",
       "      <td>Big Wet Butts</td>\n",
       "      <td>Syren De Mer</td>\n",
       "      <td>No Name</td>\n",
       "      <td>No Name</td>\n",
       "      <td>WERDERNASX</td>\n",
       "    </tr>\n",
       "    <tr>\n",
       "      <th>86</th>\n",
       "      <td>Big Wet Butts</td>\n",
       "      <td>Syren De Mer</td>\n",
       "      <td>No Name</td>\n",
       "      <td>No Name</td>\n",
       "      <td>WERDERNASX</td>\n",
       "    </tr>\n",
       "    <tr>\n",
       "      <th>87</th>\n",
       "      <td>Big Wet Butts</td>\n",
       "      <td>Tiffany Minx</td>\n",
       "      <td>No Name</td>\n",
       "      <td>No Name</td>\n",
       "      <td>WERDERNASX</td>\n",
       "    </tr>\n",
       "    <tr>\n",
       "      <th>88</th>\n",
       "      <td>Big Wet Butts</td>\n",
       "      <td>Tory Lane</td>\n",
       "      <td>No Name</td>\n",
       "      <td>No Name</td>\n",
       "      <td>WERDERNASX</td>\n",
       "    </tr>\n",
       "    <tr>\n",
       "      <th>89</th>\n",
       "      <td>Big Wet Butts</td>\n",
       "      <td>Tory Lane</td>\n",
       "      <td>No Name</td>\n",
       "      <td>No Name</td>\n",
       "      <td>WERDERNASX</td>\n",
       "    </tr>\n",
       "    <tr>\n",
       "      <th>90</th>\n",
       "      <td>Big Wet Butts</td>\n",
       "      <td>Tory Lane</td>\n",
       "      <td>No Name</td>\n",
       "      <td>No Name</td>\n",
       "      <td>WERDERNASX</td>\n",
       "    </tr>\n",
       "    <tr>\n",
       "      <th>91</th>\n",
       "      <td>Big Wet Butts</td>\n",
       "      <td>Velicity Von</td>\n",
       "      <td>No Name</td>\n",
       "      <td>No Name</td>\n",
       "      <td>WERDERNASX</td>\n",
       "    </tr>\n",
       "    <tr>\n",
       "      <th>92</th>\n",
       "      <td>Big Wet Butts</td>\n",
       "      <td>Jewels Jade</td>\n",
       "      <td>No Name</td>\n",
       "      <td>No Name</td>\n",
       "      <td>WERDERNAS2X</td>\n",
       "    </tr>\n",
       "    <tr>\n",
       "      <th>93</th>\n",
       "      <td>Big Wet Butts</td>\n",
       "      <td>Jewels Jade</td>\n",
       "      <td>No Name</td>\n",
       "      <td>No Name</td>\n",
       "      <td>WERDERNAS2X</td>\n",
       "    </tr>\n",
       "    <tr>\n",
       "      <th>94</th>\n",
       "      <td>Big Wet Butts</td>\n",
       "      <td>Karma Rx</td>\n",
       "      <td>No Name</td>\n",
       "      <td>No Name</td>\n",
       "      <td>WERDERNAS2X</td>\n",
       "    </tr>\n",
       "  </tbody>\n",
       "</table></div>"
      ],
      "text/plain": [
       "             Site              PS1             PS2      PS3     Location\n",
       "0   Big Wet Butts  Adriana Chechik    Karmen Karma  No Name   WERDERNASX\n",
       "1   Big Wet Butts      Alena Croft         No Name  No Name   WERDERNASX\n",
       "2   Big Wet Butts      Alena Croft         No Name  No Name   WERDERNASX\n",
       "3   Big Wet Butts      Alena Croft  Amethyst Banks  No Name   WERDERNASX\n",
       "4   Big Wet Butts     Aletta Ocean         No Name  No Name   WERDERNASX\n",
       "..            ...              ...             ...      ...          ...\n",
       "90  Big Wet Butts        Tory Lane         No Name  No Name   WERDERNASX\n",
       "91  Big Wet Butts     Velicity Von         No Name  No Name   WERDERNASX\n",
       "92  Big Wet Butts      Jewels Jade         No Name  No Name  WERDERNAS2X\n",
       "93  Big Wet Butts      Jewels Jade         No Name  No Name  WERDERNAS2X\n",
       "94  Big Wet Butts         Karma Rx         No Name  No Name  WERDERNAS2X\n",
       "\n",
       "[95 rows x 5 columns]"
      ]
     },
     "execution_count": 7,
     "metadata": {},
     "output_type": "execute_result"
    }
   ],
   "source": [
    "bwb_db_2"
   ]
  },
  {
   "cell_type": "code",
   "execution_count": 2,
   "metadata": {},
   "outputs": [],
   "source": [
    "import os\n",
    "bra_dir = '/Volumes/WERDERNASX/VIDEOSX/BRAZZERS'"
   ]
  },
  {
   "cell_type": "code",
   "execution_count": 12,
   "metadata": {},
   "outputs": [
    {
     "ename": "AttributeError",
     "evalue": "'str' object has no attribute 'os'",
     "output_type": "error",
     "traceback": [
      "\u001b[0;31m---------------------------------------------------------------------------\u001b[0m",
      "\u001b[0;31mAttributeError\u001b[0m                            Traceback (most recent call last)",
      "\u001b[0;32m<ipython-input-12-419fa1758033>\u001b[0m in \u001b[0;36m<module>\u001b[0;34m\u001b[0m\n\u001b[1;32m      1\u001b[0m \u001b[0;32mfor\u001b[0m \u001b[0mitem\u001b[0m \u001b[0;32min\u001b[0m \u001b[0mos\u001b[0m\u001b[0;34m.\u001b[0m\u001b[0mlistdir\u001b[0m\u001b[0;34m(\u001b[0m\u001b[0mbra_dir\u001b[0m\u001b[0;34m)\u001b[0m\u001b[0;34m:\u001b[0m\u001b[0;34m\u001b[0m\u001b[0;34m\u001b[0m\u001b[0m\n\u001b[0;32m----> 2\u001b[0;31m     \u001b[0mprint\u001b[0m\u001b[0;34m(\u001b[0m\u001b[0mitem\u001b[0m\u001b[0;34m.\u001b[0m\u001b[0mos\u001b[0m\u001b[0;34m.\u001b[0m\u001b[0mstat\u001b[0m\u001b[0;34m(\u001b[0m\u001b[0;34m)\u001b[0m\u001b[0;34m)\u001b[0m\u001b[0;34m\u001b[0m\u001b[0;34m\u001b[0m\u001b[0m\n\u001b[0m",
      "\u001b[0;31mAttributeError\u001b[0m: 'str' object has no attribute 'os'"
     ]
    }
   ],
   "source": [
    "for item in os.listdir(bra_dir):\n",
    "    print(item.os.stat())"
   ]
  },
  {
   "cell_type": "code",
   "execution_count": 20,
   "metadata": {},
   "outputs": [],
   "source": [
    "bra_dir = bra_dir = '/Volumes/WERDERNASX/VIDEOSX/BRAZZERS'\n",
    "next(os.walk(bra_dir))\n",
    "bra_dir_db=sorted(next(os.walk(bra_dir))[1])"
   ]
  },
  {
   "cell_type": "code",
   "execution_count": 31,
   "metadata": {},
   "outputs": [
    {
     "ename": "TypeError",
     "evalue": "list indices must be integers or slices, not list",
     "output_type": "error",
     "traceback": [
      "\u001b[0;31m---------------------------------------------------------------------------\u001b[0m",
      "\u001b[0;31mTypeError\u001b[0m                                 Traceback (most recent call last)",
      "\u001b[0;32m<ipython-input-31-f89e34ccf6ae>\u001b[0m in \u001b[0;36m<module>\u001b[0;34m\u001b[0m\n\u001b[1;32m      1\u001b[0m \u001b[0mllist\u001b[0m \u001b[0;34m=\u001b[0m \u001b[0;34m[\u001b[0m\u001b[0;36m0\u001b[0m\u001b[0;34m,\u001b[0m \u001b[0;36m2\u001b[0m\u001b[0;34m,\u001b[0m \u001b[0;36m3\u001b[0m\u001b[0;34m,\u001b[0m \u001b[0;36m4\u001b[0m\u001b[0;34m]\u001b[0m\u001b[0;34m\u001b[0m\u001b[0;34m\u001b[0m\u001b[0m\n\u001b[0;32m----> 2\u001b[0;31m \u001b[0mprint\u001b[0m\u001b[0;34m(\u001b[0m\u001b[0mbra_dir_db\u001b[0m\u001b[0;34m[\u001b[0m\u001b[0mllist\u001b[0m\u001b[0;34m]\u001b[0m\u001b[0;34m)\u001b[0m\u001b[0;34m\u001b[0m\u001b[0;34m\u001b[0m\u001b[0m\n\u001b[0m",
      "\u001b[0;31mTypeError\u001b[0m: list indices must be integers or slices, not list"
     ]
    }
   ],
   "source": [
    "llist = [0, 2, 3, 4] \n",
    "print(bra_dir_db[llist])"
   ]
  },
  {
   "cell_type": "code",
   "execution_count": 42,
   "metadata": {},
   "outputs": [],
   "source": [
    "\n",
    "s = [bra_dir_db[i] for i in [0, 2, 3, 4, 5, 6, 7, 8, 9, 10, 11, 12, 13, \n",
    "                            15, 16, 17, 19, 20, 21, 23]]"
   ]
  },
  {
   "cell_type": "code",
   "execution_count": 44,
   "metadata": {},
   "outputs": [
    {
     "data": {
      "text/plain": [
       "20"
      ]
     },
     "execution_count": 44,
     "metadata": {},
     "output_type": "execute_result"
    }
   ],
   "source": [
    "len(s)"
   ]
  },
  {
   "cell_type": "code",
   "execution_count": 19,
   "metadata": {},
   "outputs": [
    {
     "data": {
      "text/plain": [
       "('/Volumes/WERDERNASX/VIDEOSX/BRAZZERS/best_of_brazzers/',\n",
       " [],\n",
       " ['.DS_Store',\n",
       "  '._.DS_Store',\n",
       "  '._best_of_brazzers_fantastic_facials_720p.mp4',\n",
       "  '._best_of_brazzers_nurse_appreciation_day_720p.mp4',\n",
       "  '._best_of_brazzers_squirt_fest_720p.mp4',\n",
       "  'best_of_brazzers_fantastic_facials_720p.mp4',\n",
       "  'best_of_brazzers_nurse_appreciation_day_720p.mp4',\n",
       "  'best_of_brazzers_squirt_fest_720p.mp4',\n",
       "  'best_of_brazzers_summer_edition_720p.mp4'])"
      ]
     },
     "execution_count": 19,
     "metadata": {},
     "output_type": "execute_result"
    }
   ],
   "source": [
    "tmp_dir = bra_dir = '/Volumes/WERDERNASX/VIDEOSX/BRAZZERS/best_of_brazzers/'\n",
    "next(os.walk(tmp_dir))"
   ]
  },
  {
   "cell_type": "code",
   "execution_count": null,
   "metadata": {},
   "outputs": [],
   "source": [
    "bgb_db_2.loc[(bgb_db_2[\"Pornstar 2\"].isnull()), \"Pornstar 2\"] = \"no_name\""
   ]
  },
  {
   "cell_type": "code",
   "execution_count": null,
   "metadata": {},
   "outputs": [],
   "source": [
    "bgb_db_2"
   ]
  },
  {
   "cell_type": "code",
   "execution_count": null,
   "metadata": {},
   "outputs": [],
   "source": [
    "def replace_title(name):\n",
    "    return name.replace(\"_\",\" \")"
   ]
  },
  {
   "cell_type": "code",
   "execution_count": null,
   "metadata": {},
   "outputs": [],
   "source": [
    "#bgb_db_2[[\"Site\", \"Pornstar 1\"]] = bgb_db_2[[\"Site\", \"Pornstar 1\"]].apply(replace_title)\n",
    "#bgb_db_2[[\"Site\"]] = bgb_db_2[[\"Site\"]].apply(replace_title)\n",
    "bgb_db_2['Site'] = bgb_db_2['Site'].map(lambda name:name.replace('_', ' ').title())\n",
    "bgb_db_2['Pornstar 1'] = bgb_db_2['Pornstar 1'].map(lambda name:name.replace('_', ' ').title())\n",
    "bgb_db_2['Pornstar 2'] = bgb_db_2['Pornstar 2'].map(lambda name:name.replace('_', ' ').title())\n"
   ]
  },
  {
   "cell_type": "code",
   "execution_count": null,
   "metadata": {},
   "outputs": [],
   "source": [
    "#DataFrame. loc [boolean_condition, column_name] = new_value\n",
    "\n",
    "#bgb_db_2.loc[(bgb_db_2[\"Pornstar 2\"] == \"None\"), \"Pornstar 2\"] = \"no_name\"\n",
    "\n",
    "print(bgb_db_2)"
   ]
  },
  {
   "cell_type": "code",
   "execution_count": null,
   "metadata": {},
   "outputs": [],
   "source": [
    "bgb_db_2"
   ]
  },
  {
   "cell_type": "code",
   "execution_count": null,
   "metadata": {},
   "outputs": [],
   "source": []
  },
  {
   "cell_type": "code",
   "execution_count": null,
   "metadata": {},
   "outputs": [],
   "source": [
    "for cols in bgb_db_2.columns:\n",
    "    print(cols)\n",
    "    if cols == \"Location\":\n",
    "        continue\n",
    "    else:\n",
    "        bgb_db_2[cols] = bgb_db_2[cols].map(lambda name:name.replace('_', ' ').title())\n",
    "          "
   ]
  },
  {
   "cell_type": "code",
   "execution_count": null,
   "metadata": {},
   "outputs": [],
   "source": [
    "df_n = pd.concat([btiu_db_2, btaw_db_2])"
   ]
  },
  {
   "cell_type": "code",
   "execution_count": null,
   "metadata": {},
   "outputs": [],
   "source": [
    "import numpy as np\n",
    "bgb_db.fillna(value=pd.np.nan, inplace=True)"
   ]
  },
  {
   "cell_type": "code",
   "execution_count": null,
   "metadata": {},
   "outputs": [],
   "source": [
    "bgb_db.columns = ['PS1', 'PS2', 'PS3']"
   ]
  },
  {
   "cell_type": "code",
   "execution_count": null,
   "metadata": {},
   "outputs": [],
   "source": [
    "bgb_db['PS1'] = bgb_db['PS1'].map(lambda name:name.replace('_', ' ').title())"
   ]
  },
  {
   "cell_type": "code",
   "execution_count": null,
   "metadata": {},
   "outputs": [],
   "source": [
    "bgb_db"
   ]
  },
  {
   "cell_type": "code",
   "execution_count": null,
   "metadata": {},
   "outputs": [],
   "source": [
    "ps_tmp = btas_db_2['Pornstar 1'].replace('_', \" \")"
   ]
  },
  {
   "cell_type": "code",
   "execution_count": null,
   "metadata": {},
   "outputs": [],
   "source": [
    "btas_db_2['Pornstar 1'] = btas_db_2['Pornstar 1'].map(lambda name:name.replace('_', ' ').title())"
   ]
  },
  {
   "cell_type": "code",
   "execution_count": null,
   "metadata": {},
   "outputs": [],
   "source": [
    "bgb_db"
   ]
  },
  {
   "cell_type": "code",
   "execution_count": null,
   "metadata": {},
   "outputs": [],
   "source": [
    "df['name'].map(lambda name: name.upper())"
   ]
  },
  {
   "cell_type": "code",
   "execution_count": null,
   "metadata": {},
   "outputs": [],
   "source": []
  },
  {
   "cell_type": "code",
   "execution_count": null,
   "metadata": {},
   "outputs": [],
   "source": [
    "df_n = df_n[['Pornstar 1', 'Pornstar 2', 'Pornstar 3', 'Pornstar 4', 'Location']]"
   ]
  },
  {
   "cell_type": "code",
   "execution_count": null,
   "metadata": {},
   "outputs": [],
   "source": [
    "df_n"
   ]
  },
  {
   "cell_type": "code",
   "execution_count": null,
   "metadata": {},
   "outputs": [],
   "source": [
    "ps = \"tarra_white\""
   ]
  },
  {
   "cell_type": "code",
   "execution_count": null,
   "metadata": {},
   "outputs": [],
   "source": [
    "print(ps.replace('_',\" \").title())"
   ]
  },
  {
   "cell_type": "code",
   "execution_count": null,
   "metadata": {},
   "outputs": [],
   "source": [
    "import getpass"
   ]
  },
  {
   "cell_type": "code",
   "execution_count": null,
   "metadata": {
    "code_folding": [],
    "scrolled": true
   },
   "outputs": [],
   "source": [
    "import itertools\n",
    "\n",
    "ps_list_1 = []\n",
    "ps_list_2 = []\n",
    "title_list = []\n",
    "site_name = []\n",
    "link_name = []\n",
    "\n",
    "\n",
    "for lf in itertools.chain(bgb_files, bgb_files_2, bblib_files, bblib_files_2, btas_files, btaw_files,\n",
    "                          btis_files, btiu_files, bwb_files, bbex_files, bbex_files_2,\n",
    "                          bzv_files, cfnm_files, dwap_files, dwap_files_2, ddm_files,\n",
    "                          dda_files, mlib_files, mgb_files, mic_files, \n",
    "                          plib_files, rws_files, sgs_files, tlib_files):\n",
    "                          \n",
    "#for lf in itertools.chain(bzv_files[:9]):\n",
    "    #print(lf)\n",
    "    site_string = lf.split('/')[-2]\n",
    "    #print(site_string)\n",
    "    site_with_ps = lf.split('/')[-1].split('-')[0]#.split('-')[0]\n",
    "    #print('ps1_tmp: ', site_with_ps)\n",
    "    if site_string in site_with_ps:\n",
    "        ps_only = site_with_ps.replace(site_string + '_', \"\")\n",
    "        #print('ps_only: ', ps_only)\n",
    "        if \"__\" in ps_only:\n",
    "            ps_first = ps_only.split('__')[0]\n",
    "            #print('ps_first: ', ps_first)\n",
    "            firstname_1 = ps_first.split('_')[0]\n",
    "            #print('firstname_1', firstname_1)\n",
    "            \n",
    "            surname_1 = ps_first.split('_',1)[1]\n",
    "            surname_2 = ps_first.split('_',2)[1]\n",
    "            #print('surname_2', surname_2)\n",
    "            \n",
    "            ps_first_new = firstname_1.capitalize() + ' ' + surname_1.capitalize()\n",
    "            #print('ps_first_new', ps_first_new)\n",
    "            \n",
    "            ps_second = ps_only.split('__')[1]\n",
    "            #print('ps_Second: ', ps_second)\n",
    "            firstname_2 = ps_second.split('_')[0]\n",
    "            surname_2 = ps_second.split('_')[1]\n",
    "            ps_second_new = firstname_2.capitalize() + ' ' + surname_2.capitalize()\n",
    "            #print('ps_second_new', ps_second_new####\n",
    "\n",
    "            \n",
    "            ps_list_1.append(ps_first_new)\n",
    "            ps_list_2.append(ps_second_new)\n",
    "            \n",
    "        else:\n",
    "            #ps_first = ps_only.split('_')[0]\n",
    "            #print('XX')\n",
    "            firstname_1 = ps_only.split('_')[0]\n",
    "            #print('fn1: ', firstname_1)\n",
    "            surname_1 = ps_only.split('_')[1]\n",
    "            #print('sn1: ', surname_1)\n",
    "            \n",
    "            ps1_new = firstname_1.capitalize() + ' ' + surname_1.capitalize() \n",
    "            #print('ps1_new: ', ps1_new)\n",
    "            ps_list_1.append(ps1_new)\n",
    "            ps_list_2.append('only ' + ps1_new)\n",
    "\n",
    " \n",
    "    title_string_small = lf.split('/')[-1].split('-')[1].split('.mp4')[0].split('_')[:-1] \n",
    "    title_string_big = ' '.join(title_string_small).title()\n",
    "    title_list.append(title_string_big)\n",
    "    \n",
    "    site_name.append(lf.split('/')[-2].replace('_', ' ').title())    \n",
    "    link_name.append(lf)\n",
    "    \n",
    "ps_1_db = pd.DataFrame(ps_list_1)\n",
    "ps_2_db = pd.DataFrame(ps_list_2)\n",
    "title_list_db = pd.DataFrame(title_list)\n",
    "site_name_db = pd.DataFrame(site_name)\n",
    "link_name_db = pd.DataFrame(link_name) \n",
    "\n",
    "df_all = pd.concat([site_name_db, ps_1_db, ps_2_db, title_list_db, link_name_db], axis = 1)\n",
    "df_all.columns =['Site Name', 'Pornstar 1', 'Pornstar 2', 'Title', 'Link']\n",
    "\n",
    "\n",
    "for lf in df_all['Site Name'].unique():\n",
    "    print(lf,':', len(df_all[df_all['Site Name'] == lf]['Site Name']))\n",
    "print('Length overall: ', len(df_all['Title']))\n",
    "df_bra_nice = df_all.set_index(['Site Name', 'Pornstar 1']).sort_index()\n",
    "#df_bra_nice\n",
    "#qgrid_widget = qgrid.show_grid(df_bra_nice)\n",
    "#qgrid_widget\n",
    "#qgrid_widget_2 = qgrid.show_grid(df_all, show_toolbar=True)\n",
    "#qgrid_widget_2\n"
   ]
  },
  {
   "cell_type": "code",
   "execution_count": null,
   "metadata": {},
   "outputs": [],
   "source": [
    "\n",
    "\n",
    "\n",
    "\n",
    "\n"
   ]
  },
  {
   "cell_type": "code",
   "execution_count": null,
   "metadata": {},
   "outputs": [],
   "source": [
    "bblib_db"
   ]
  },
  {
   "cell_type": "code",
   "execution_count": null,
   "metadata": {},
   "outputs": [],
   "source": []
  },
  {
   "cell_type": "code",
   "execution_count": null,
   "metadata": {},
   "outputs": [],
   "source": [
    "btiu_db"
   ]
  },
  {
   "cell_type": "code",
   "execution_count": null,
   "metadata": {},
   "outputs": [],
   "source": []
  },
  {
   "cell_type": "code",
   "execution_count": null,
   "metadata": {},
   "outputs": [],
   "source": [
    "del bgb_db"
   ]
  },
  {
   "cell_type": "code",
   "execution_count": null,
   "metadata": {},
   "outputs": [],
   "source": []
  },
  {
   "cell_type": "code",
   "execution_count": null,
   "metadata": {},
   "outputs": [],
   "source": []
  },
  {
   "cell_type": "code",
   "execution_count": null,
   "metadata": {},
   "outputs": [],
   "source": [
    "df_bra_nice"
   ]
  },
  {
   "cell_type": "code",
   "execution_count": null,
   "metadata": {},
   "outputs": [],
   "source": [
    "import mitosheet\n",
    "mitosheet.sheet(df_bra_nice, view_df=True)"
   ]
  },
  {
   "cell_type": "code",
   "execution_count": null,
   "metadata": {},
   "outputs": [],
   "source": [
    "# MITO CODE START (DO NOT EDIT)\n",
    "\n",
    "from mitosheet import * # Import necessary functions from Mito\n",
    "register_analysis('UUID-241cb26d-5007-4dfa-bb07-448143e15ade') # Let Mito know which analysis is being run\n",
    "\n",
    "# Reordered Pornstar 2 in df_bra_nice\n",
    "df_bra_nice_columns = [col for col in df_bra_nice.columns if col != 'Pornstar 2']\n",
    "df_bra_nice_columns.insert(0, 'Pornstar 2')\n",
    "df_bra_nice = df_bra_nice[df_bra_nice_columns]\n",
    "\n",
    "  \n",
    "# MITO CODE END (DO NOT EDIT)"
   ]
  },
  {
   "cell_type": "code",
   "execution_count": null,
   "metadata": {},
   "outputs": [],
   "source": []
  },
  {
   "cell_type": "code",
   "execution_count": null,
   "metadata": {},
   "outputs": [],
   "source": [
    "import tabloo\n",
    "tabloo.show(df_all)"
   ]
  },
  {
   "cell_type": "code",
   "execution_count": null,
   "metadata": {},
   "outputs": [],
   "source": []
  },
  {
   "cell_type": "code",
   "execution_count": null,
   "metadata": {},
   "outputs": [],
   "source": [
    "df_all.to_csv('df_csv', index=False)"
   ]
  },
  {
   "cell_type": "code",
   "execution_count": null,
   "metadata": {},
   "outputs": [],
   "source": [
    "## exceute this cell for open the choosen link in the qgrid!\n",
    "import os, subprocess, sys\n",
    "#path_to_bra_file = df_all[df_all['Pornstar 1'] == 'Abbie Cat']['Link'].iloc[0]\n",
    "\n",
    "\n",
    "selected_df = []\n",
    "selected_df = qgrid_widget_2.get_changed_df()#['Link'\n",
    "path_to_bra_file = selected_df['Link'].iloc[0]\n",
    "subprocess.call(['open', path_to_bra_file])"
   ]
  },
  {
   "cell_type": "code",
   "execution_count": null,
   "metadata": {},
   "outputs": [],
   "source": [
    "selected_df = qgrid_widget_2.get_changed_df()\n",
    "len(selected_df['Pornstar 1'])"
   ]
  },
  {
   "cell_type": "code",
   "execution_count": null,
   "metadata": {},
   "outputs": [],
   "source": [
    "df_sel_ps = selected_df[['Site Name', 'Pornstar 1', 'Title']]\n",
    "df_sel_ps"
   ]
  },
  {
   "cell_type": "code",
   "execution_count": null,
   "metadata": {},
   "outputs": [],
   "source": [
    "sub = 'pulling'\n",
    "df_sel_ps['Title'].str.find(sub)"
   ]
  },
  {
   "cell_type": "code",
   "execution_count": null,
   "metadata": {},
   "outputs": [],
   "source": []
  },
  {
   "cell_type": "code",
   "execution_count": null,
   "metadata": {},
   "outputs": [],
   "source": []
  },
  {
   "cell_type": "code",
   "execution_count": null,
   "metadata": {},
   "outputs": [],
   "source": [
    "global_hbox = wg.Box()\n",
    "global_hbox.children = [button_site, button_ps_1, button_ps_2, button_get_link, button_play_file]\n",
    "\n",
    "output_btn = wg.Output()\n",
    "#plot_output = wg.Output()\n",
    "\n",
    "display(global_hbox)\n",
    "display(output_btn)"
   ]
  },
  {
   "cell_type": "code",
   "execution_count": null,
   "metadata": {},
   "outputs": [],
   "source": [
    "## exceute this cell for open the choosen link in the qgrid!\n",
    "import os, subprocess, sys\n",
    "#path_to_bra_file = df_all[df_all['Pornstar 1'] == 'Abbie Cat']['Link'].iloc[0]\n",
    "\n",
    "\n",
    "selected_df = []\n",
    "selected_df = qgrid_widget_2.get_changed_df()#['Link'\n",
    "path_to_bra_file = selected_df['Link'].iloc[0]\n",
    "subprocess.call(['open', path_to_bra_file])"
   ]
  },
  {
   "cell_type": "code",
   "execution_count": null,
   "metadata": {},
   "outputs": [],
   "source": [
    "#df_all.groupby(['Site Name', 'Pornstar 1']).count()\n",
    "import numpy as np\n",
    "sorted_ps1 = df_all['Pornstar 1'].unique()"
   ]
  },
  {
   "cell_type": "code",
   "execution_count": null,
   "metadata": {},
   "outputs": [],
   "source": [
    "np.sort(sorted_ps1)"
   ]
  },
  {
   "cell_type": "code",
   "execution_count": null,
   "metadata": {},
   "outputs": [],
   "source": [
    "def make_clickable(link):\n",
    "    # target _blank to open new window\n",
    "    # extract clickable text to display for your link\n",
    "    #text = link.split('=')[1]\n",
    "    text = link\n",
    "    return f'<a target=\"_blank\" href=\"{link}\">{text}</a>'\n",
    "\n",
    "# link is the column with hyperlinks\n",
    "df_all['Link'] = df_all['Link'].apply(make_clickable)\n",
    "#df_all = df_all.to_html(escape=False)\n",
    "#st.write(df_all, unsafe_allow_html=True)"
   ]
  },
  {
   "cell_type": "code",
   "execution_count": null,
   "metadata": {},
   "outputs": [],
   "source": [
    "import os, subprocess, sys\n",
    "path_to_bra_file = df_all[df_all['Pornstar 1'] == 'Abbie Cat']['Link'].iloc[0]\n",
    "subprocess.call(['open', path_to_bra_file])\n",
    "#df_all['Link']"
   ]
  },
  {
   "cell_type": "code",
   "execution_count": null,
   "metadata": {},
   "outputs": [],
   "source": [
    "class Link_Button(widgets.Button):\n",
    "    \"\"\"A button that can holds a value as a attribute.\"\"\"\n",
    "\n",
    "    def __init__(self, start_wert=None, *args, **kwargs):\n",
    "        super(Link_Button, self).__init__(*args, **kwargs)\n",
    "        # Create the value attribute.\n",
    "        self.add_traits(wert=traitlets.Any(start_wert))\n",
    "\n",
    "def add_num(ex):\n",
    "    ex.wert = ex.wert+1\n",
    "    print(ex.wert)\n",
    "\n",
    "link_btn = Link_Button(description=\"Link\", start_wert=111)\n",
    "link_btn.on_click(add_num)\n",
    "display(link_btn)"
   ]
  },
  {
   "cell_type": "code",
   "execution_count": null,
   "metadata": {},
   "outputs": [],
   "source": []
  },
  {
   "cell_type": "code",
   "execution_count": null,
   "metadata": {},
   "outputs": [],
   "source": [
    "returned_value"
   ]
  },
  {
   "cell_type": "code",
   "execution_count": null,
   "metadata": {},
   "outputs": [],
   "source": []
  },
  {
   "cell_type": "code",
   "execution_count": null,
   "metadata": {},
   "outputs": [],
   "source": []
  },
  {
   "cell_type": "code",
   "execution_count": null,
   "metadata": {},
   "outputs": [],
   "source": [
    "path_to_bra_file = df_all[df_all['Pornstar 1'] == 'Abbie Cat']['Link'].iloc[0]"
   ]
  },
  {
   "cell_type": "code",
   "execution_count": null,
   "metadata": {},
   "outputs": [],
   "source": [
    "def on_button_clicked_get_link(self):\n",
    "    print('Button \\'Get Link\\' was clicked!')\n",
    "    output_btn.clear_output()\n",
    "    \n",
    "    with output_btn:\n",
    "        selected_df = []\n",
    "        selected_df = qgrid_widget_2.get_changed_df()#['Link'\n",
    "        returned_value = selected_df['Link'].iloc[0]\n",
    "        print(returned_value)\n",
    "\n",
    "def on_button_clicked_play_file(self):\n",
    "    #print('Button \\'Get Link\\' was clicked!')\n",
    "    output_btn.clear_output()\n",
    "    \n",
    "    with output_btn:\n",
    "        selected_df = []\n",
    "        selected_df = qgrid_widget_2.get_changed_df()#['Link'\n",
    "        path_to_bra_file = selected_df['Link'].iloc[0]\n",
    "        subprocess.call(['open', path_to_bra_file])"
   ]
  },
  {
   "cell_type": "code",
   "execution_count": null,
   "metadata": {},
   "outputs": [],
   "source": [
    "\n",
    "button_site = wg.Button(description='Get Site')\n",
    "button_ps_1 = wg.Button(description='Get Pornstar 1')\n",
    "button_ps_2 = wg.Button(description='Get Pornstar 2')\n",
    "button_get_link = wg.Button(description='Get Link')\n",
    "button_play_file = wg.Button(description='Play File')\n",
    "\n",
    "button_get_link.on_click(on_button_clicked_get_link)\n",
    "button_play_file.on_click(on_button_clicked_play_file)\n"
   ]
  },
  {
   "cell_type": "code",
   "execution_count": null,
   "metadata": {},
   "outputs": [],
   "source": [
    "global_hbox = wg.Box()\n",
    "global_hbox.children = [button_site, button_ps_1, button_ps_2, button_get_link, button_play_file]\n",
    "\n",
    "output_btn = wg.Output()\n",
    "#plot_output = wg.Output()\n",
    "\n",
    "display(global_hbox)\n",
    "display(output_btn)\n",
    "\n",
    "\n"
   ]
  },
  {
   "cell_type": "code",
   "execution_count": null,
   "metadata": {},
   "outputs": [],
   "source": []
  },
  {
   "cell_type": "code",
   "execution_count": null,
   "metadata": {},
   "outputs": [],
   "source": [
    "selected_df = qgrid_widget_2.get_changed_df()"
   ]
  },
  {
   "cell_type": "code",
   "execution_count": null,
   "metadata": {},
   "outputs": [],
   "source": [
    "selected_df['Link']"
   ]
  },
  {
   "cell_type": "code",
   "execution_count": null,
   "metadata": {},
   "outputs": [],
   "source": [
    "!python --version"
   ]
  },
  {
   "cell_type": "code",
   "execution_count": null,
   "metadata": {},
   "outputs": [],
   "source": [
    "df_all[(df_all['Site Name'] == 'Baby Got Boobs') | (df_all['Site Name'] == 'Big Tits In Uniform')]"
   ]
  },
  {
   "cell_type": "code",
   "execution_count": null,
   "metadata": {},
   "outputs": [],
   "source": [
    "df_bra_nice"
   ]
  },
  {
   "cell_type": "code",
   "execution_count": null,
   "metadata": {},
   "outputs": [],
   "source": [
    "%pwd\n",
    "%cd /Users/joerg/Downloads"
   ]
  },
  {
   "cell_type": "code",
   "execution_count": null,
   "metadata": {},
   "outputs": [],
   "source": [
    "import io\n",
    "\n",
    "import base64\n",
    "video = io.open('/Volumes/WERDERNAS_X/VIDEOS_X/BRAZZERS/big_tits_in_uniform/big_tits_in_uniform_riley_evans-firefighter_fucker_1080p.mp4', 'r+b').read()\n",
    "# encoded = base64.b64encode(video)\n",
    "# HTML(data='''\n",
    "# <video controls>\n",
    "#     <source src=\"data:video/mp4;base64,{0}\" type=\"video/mp4\" />\n",
    "# </video>'''.format(encoded.decode('ascii')))"
   ]
  },
  {
   "cell_type": "code",
   "execution_count": null,
   "metadata": {},
   "outputs": [],
   "source": [
    "%%HTML\n",
    "<video controls autoplay>\n",
    "    <source src=\"/Volumes/WERDERNAS_X/VIDEOS_X/BRAZZERS/big_tits_in_uniform/big_tits_in_uniform_riley_evans-firefighter_fucker_1080p.mp4\" type=\"video/mp4\"/>\n",
    "</video>"
   ]
  },
  {
   "cell_type": "code",
   "execution_count": null,
   "metadata": {},
   "outputs": [],
   "source": [
    "!python --version"
   ]
  },
  {
   "cell_type": "code",
   "execution_count": null,
   "metadata": {},
   "outputs": [],
   "source": [
    "from ipywebrtc import VideoStream"
   ]
  },
  {
   "cell_type": "code",
   "execution_count": null,
   "metadata": {},
   "outputs": [],
   "source": [
    "video2 = VideoStream.from_url('/Volumes/WERDERNAS_X/VIDEOS_X/BRAZZERS/big_tits_in_uniform/big_tits_in_uniform_riley_evans-firefighter_fucker_1080p.mp4')\n",
    "video2"
   ]
  },
  {
   "cell_type": "code",
   "execution_count": null,
   "metadata": {},
   "outputs": [],
   "source": [
    "from ipywidgets import Video, Image\n",
    "#video3 = Video.from_file('brazzers_extra_alena_croft__nina_elle__jayden_jaymes__summer_brielle__susy_gala__kayla_kayden-best_of_brazzers_hottest_bosses_720p.mp4')\n",
    "video4 = Video.from_file('/Volumes/WERDERNAS_X/VIDEOS_X/BRAZZERS/brazzers_extra/brazzers_extra_alena_croft__nina_elle__jayden_jaymes__summer_brielle__susy_gala__kayla_kayden-best_of_brazzers_hottest_bosses_720p.mp4')\n",
    "\n",
    "video4\n",
    "#from IPython.display import display\n",
    "#import numpy as np\n",
    "#import cv2\n",
    "#import base64"
   ]
  },
  {
   "cell_type": "code",
   "execution_count": null,
   "metadata": {},
   "outputs": [],
   "source": [
    "import cv2\n",
    "cap = cv2.VideoCapture(\"out1.avi\")\n",
    "cv2.namedWindow(\"input\")\n",
    "while(True):\n",
    "    f, img = cap.read()\n",
    "    cv2.imshow(\"input\", img)\n",
    "    cv2.waitKey(1)"
   ]
  },
  {
   "cell_type": "code",
   "execution_count": null,
   "metadata": {},
   "outputs": [],
   "source": [
    "from ipywebrtc import VideoStream\n",
    "video = VideoStream.from_file('/Volumes/WERDERNAS_X/VIDEOS_X/BRAZZERS/brazzers_extra/brazzers_extra_alena_croft__nina_elle__jayden_jaymes__summer_brielle__susy_gala__kayla_kayden-best_of_brazzers_hottest_bosses_720p.mp4', play=True)\n",
    "#recorder = MediaRecorder(source=video)\n",
    "video"
   ]
  },
  {
   "cell_type": "code",
   "execution_count": null,
   "metadata": {},
   "outputs": [],
   "source": [
    "#video = Video.from_file('/Volumes/WERDERNAS_X/VIDEOS_X/BRAZZERS/big_tits_in_uniform/big_tits_in_uniform_riley_evans-firefighter_fucker_1080p.mp4')\n",
    "#video2 = Video.from_file('5445_04_hd.mp4')\n"
   ]
  },
  {
   "cell_type": "code",
   "execution_count": null,
   "metadata": {},
   "outputs": [],
   "source": [
    "import cv2\n",
    "cap = cv2.VideoCapture(\"/Volumes/WERDERNAS_X/VIDEOS_X/BRAZZERS/brazzers_extra/brazzers_extra_alena_croft__nina_elle__jayden_jaymes__summer_brielle__susy_gala__kayla_kayden-best_of_brazzers_hottest_bosses_720p.mp4\")\n",
    "cv2.namedWindow(\"input\")\n",
    "while(True):\n",
    "    f, img = cap.read()\n",
    "    cv2.imshow(\"input\", img)\n",
    "    cv2.waitKey(1)"
   ]
  },
  {
   "cell_type": "code",
   "execution_count": null,
   "metadata": {},
   "outputs": [],
   "source": [
    "vlc open \"/Volumes/WERDERNAS_X/VIDEOS_X/BRAZZERS/brazzers_extra/brazzers_extra_alena_croft__nina_elle__jayden_jaymes__summer_brielle__susy_gala__kayla_kayden-best_of_brazzers_hottest_bosses_720p.mp4\""
   ]
  },
  {
   "cell_type": "code",
   "execution_count": null,
   "metadata": {},
   "outputs": [],
   "source": []
  },
  {
   "cell_type": "code",
   "execution_count": null,
   "metadata": {},
   "outputs": [],
   "source": [
    "#from IPython.display import HTML\n",
    "#video_path = '/Volumes/WERDERNAS_X/VIDEOS_X/BRAZZERS/big_tits_in_uniform/big_tits_in_uniform_riley_evans-firefighter_fucker_1080p.mp4'\n",
    "%cd /Volumes/WERDERNAS_X/VIDEOS_X/MISC_MOVIES/\n",
    "from IPython.display import HTML\n",
    "\n",
    "HTML(\"\"\"\n",
    "    <video alt=\"test\" controls>\n",
    "        <source src=\"sincity_sodom4_sc4_high.mp4\" type=\"video/mp4\">\n",
    "    </video>\n",
    "\"\"\")"
   ]
  },
  {
   "cell_type": "code",
   "execution_count": null,
   "metadata": {},
   "outputs": [],
   "source": [
    "%pwd"
   ]
  },
  {
   "cell_type": "code",
   "execution_count": null,
   "metadata": {},
   "outputs": [],
   "source": [
    "%cd /Volumes/WERDERNAS_X/VIDEOS_X/MISC_MOVIES/\n"
   ]
  },
  {
   "cell_type": "code",
   "execution_count": null,
   "metadata": {},
   "outputs": [],
   "source": [
    "%pwd"
   ]
  },
  {
   "cell_type": "code",
   "execution_count": null,
   "metadata": {},
   "outputs": [],
   "source": [
    "%%HTML\n",
    "<video  type=\"video/mp4\" width=840 height=460>\n",
    "    <source src= \"5445_04_hd.mp4\"\n",
    "</video>"
   ]
  },
  {
   "cell_type": "code",
   "execution_count": null,
   "metadata": {},
   "outputs": [],
   "source": [
    "from IPython.display import HTML\n",
    "from base64 import b64encode\n",
    "filename = \n",
    "def play(filename):\n",
    "    html = ''\n",
    "    video = open(filename,'rb').read()\n",
    "    src = 'data:video/mp4;base64,' + b64encode(video).decode()\n",
    "    html += '<video width=1000 controls autoplay loop><source src=\"%s\" type=\"video/mp4\"></video>' % src \n",
    "    return HTML(html)\n",
    "\n",
    "play('video.mp4')"
   ]
  },
  {
   "cell_type": "code",
   "execution_count": null,
   "metadata": {},
   "outputs": [],
   "source": [
    "fff = 'hallo_echo_echo1_echo2'"
   ]
  },
  {
   "cell_type": "code",
   "execution_count": null,
   "metadata": {},
   "outputs": [],
   "source": [
    "title_string_big = fff.split('_')[:-1]"
   ]
  },
  {
   "cell_type": "code",
   "execution_count": null,
   "metadata": {},
   "outputs": [],
   "source": [
    "title_string_big2 = ' '.join(title_string_big).title()"
   ]
  },
  {
   "cell_type": "code",
   "execution_count": null,
   "metadata": {},
   "outputs": [],
   "source": [
    "title_string_big2"
   ]
  },
  {
   "cell_type": "code",
   "execution_count": null,
   "metadata": {},
   "outputs": [],
   "source": [
    "df_bra_nice = df_all.set_index(['Pornstar 1', 'Pornstar 2', 'Title'])\n",
    "qgrid_widget = qgrid.show_grid(df_bra_nice)\n",
    "qgrid_widget"
   ]
  },
  {
   "cell_type": "code",
   "execution_count": null,
   "metadata": {},
   "outputs": [],
   "source": []
  },
  {
   "cell_type": "markdown",
   "metadata": {},
   "source": [
    "## Directory baby_got_boobs"
   ]
  },
  {
   "cell_type": "code",
   "execution_count": null,
   "metadata": {},
   "outputs": [],
   "source": [
    "ps_list_1_bgb = []\n",
    "ps_list_2_bgb = []\n",
    "title_list_bgb = []\n",
    "site_name = []\n",
    "\n",
    "\n",
    "\n",
    "\n",
    "\n",
    "\n",
    "\n",
    "for lf in bgb_files[:]:\n",
    "    #print(lf)\n",
    "    ps1_tmp = lf.split('/')[-1].split('-')[0].split('-')[0]\n",
    "    if \"baby_got_boobs_\" in ps1_tmp:\n",
    "        ps1_tmp = ps1_tmp.replace(\"baby_got_boobs_\", \"\")\n",
    "        if \"__\" in ps1_tmp:\n",
    "            ps_1 = ps1_tmp.split('__')[0]\n",
    "            firstname_1 = ps_1.split('_')[0]\n",
    "            surname_1 = ps_1.split('_')[1]\n",
    "            ps1_new = firstname_1.capitalize() + ' ' + surname_1.capitalize() \n",
    "            \n",
    "            ps_2 = ps1_tmp.split('__')[1]\n",
    "            firstname_2 = ps_2.split('_')[0]\n",
    "            surname_2 = ps_2.split('_')[1]\n",
    "            ps2_new = firstname_2.capitalize() + ' ' + surname_2.capitalize() \n",
    "            \n",
    "            ps_list_1_bgb.append(ps1_new)\n",
    "            ps_list_2_bgb.append(ps2_new)\n",
    "            #print(ps12)\n",
    "        else:\n",
    "            #print(ps1)\n",
    "            ps_1 = ps1_tmp.split('__')[0]\n",
    "            firstname_1 = ps_1.split('_')[0]\n",
    "            surname_1 = ps_1.split('_')[1]\n",
    "            ps1_new = firstname_1.capitalize() + ' ' + surname_1.capitalize() \n",
    "                                 \n",
    "            ps_list_1_bgb.append(ps1_new)\n",
    "            ps_list_2_bgb.append('')\n",
    "            \n",
    "    title_list_bgb.append(lf.split('-')[1])\n",
    "    site_name.append('Baby Got Boobs')\n",
    "    \n",
    "ps_bgb_1 = pd.DataFrame(ps_list_1_bgb)\n",
    "ps_bgb_2 = pd.DataFrame(ps_list_2_bgb)\n",
    "bgb_title_list = pd.DataFrame(title_list_bgb)\n",
    "site_name_list = pd.DataFrame(site_name)\n",
    "\n",
    "df_all_bgb = pd.concat([site_name_list, ps_bgb_1, ps_bgb_2, bgb_title_list], axis = 1)\n",
    "df_all_bgb.columns =['Site Name', 'Pornstar 1', 'Pornstar 2', 'Title']   \n"
   ]
  },
  {
   "cell_type": "code",
   "execution_count": null,
   "metadata": {},
   "outputs": [],
   "source": [
    "df_all_bgb"
   ]
  },
  {
   "cell_type": "markdown",
   "metadata": {},
   "source": [
    "## Directory big_butts_like_it_big"
   ]
  },
  {
   "cell_type": "code",
   "execution_count": null,
   "metadata": {},
   "outputs": [],
   "source": [
    "import glob\n",
    "import os\n",
    "import pandas as pd\n",
    "\n",
    "bblib_files = sorted(glob.glob(r'{}/*.mp4'.format(bblib_dir)))\n",
    "ps_list_1_bblib = []\n",
    "ps_list_2_bblib = []\n",
    "title_list_bblib = []\n",
    "site_name = []\n",
    "\n",
    "for lf in bblib_files[:]:\n",
    "\n",
    "    ps1_tmp = lf.split('/')[-1].split('-')[0]\n",
    "    #print(ps1_tmp)\n",
    "    \n",
    "    if \"big_butts_like_it_big_\" in ps1_tmp:\n",
    "        ps1_tmp = ps1_tmp.replace(\"big_butts_like_it_big_\", \"\")\n",
    "        #print(ps1_tmp)\n",
    "        if \"__\" in ps1_tmp:\n",
    "            ps_1 = ps1_tmp.split('__')[0]\n",
    "            ps_2 = ps1_tmp.split('__')[1]\n",
    "            ps_list_1_bblib.append(ps_1)\n",
    "            ps_list_2_bblib.append(ps_2)\n",
    "            #print(ps12)\n",
    "        else:\n",
    "            #print(ps1)\n",
    "            ps_list_1_bblib.append(ps1_tmp)\n",
    "            ps_list_2_bblib.append('')\n",
    "            \n",
    "    title_list_bblib.append(lf.split('-')[1])\n",
    "    site_name.append('Big Butts Like It Big')\n",
    "    \n",
    "ps_bblib_1 = pd.DataFrame(ps_list_1_bblib)\n",
    "ps_bblib_2 = pd.DataFrame(ps_list_2_bblib)\n",
    "bblib_title_list = pd.DataFrame(title_list_bblib)\n",
    "site_name_list = pd.DataFrame(site_name)\n",
    "\n",
    "df_all_bblib = pd.concat([site_name_list, ps_bblib_1, ps_bblib_2, bblib_title_list], axis = 1)\n",
    "df_all_bblib.columns =['Site Name', 'Pornstar 1', 'Pornstar 2', 'Title'] "
   ]
  },
  {
   "cell_type": "code",
   "execution_count": null,
   "metadata": {},
   "outputs": [],
   "source": [
    "df_all_bblib"
   ]
  },
  {
   "cell_type": "markdown",
   "metadata": {},
   "source": [
    "## Directory: big_tits_at_school"
   ]
  },
  {
   "cell_type": "code",
   "execution_count": null,
   "metadata": {},
   "outputs": [],
   "source": [
    "import glob\n",
    "import os\n",
    "import pandas as pd\n",
    "\n",
    "btas_files = sorted(glob.glob(r'{}/*.mp4'.format(btas_dir)))\n",
    "ps_list_1_btas = []\n",
    "ps_list_2_btas = []\n",
    "title_list_btas = []\n",
    "site_name = []\n",
    "\n",
    "for lf in btas_files[:]:\n",
    "\n",
    "    ps1_tmp = lf.split('/')[-1].split('-')[0]\n",
    "    #print(ps1_tmp)\n",
    "    \n",
    "    if \"big_tits_at_school_\" in ps1_tmp:\n",
    "        ps1_tmp = ps1_tmp.replace(\"big_tits_at_school_\", \"\")\n",
    "        #print(ps1_tmp)\n",
    "        if \"__\" in ps1_tmp:\n",
    "            ps_1 = ps1_tmp.split('__')[0]\n",
    "            ps_2 = ps1_tmp.split('__')[1]\n",
    "            ps_list_1_btas.append(ps_1)\n",
    "            ps_list_2_btas.append(ps_2)\n",
    "            #print(ps12)\n",
    "        else:\n",
    "            #print(ps1)\n",
    "            ps_list_1_btas.append(ps1_tmp)\n",
    "            ps_list_2_btas.append('')\n",
    "            \n",
    "    title_list_btas.append(lf.split('-')[1])\n",
    "    site_name.append('Big Tits At School')\n",
    "    \n",
    "ps_btas_1 = pd.DataFrame(ps_list_1_btas)\n",
    "ps_btas_2 = pd.DataFrame(ps_list_2_btas)\n",
    "btas_title_list = pd.DataFrame(title_list_btas)\n",
    "site_name_list = pd.DataFrame(site_name)\n",
    "\n",
    "df_all_btas = pd.concat([site_name_list, ps_btas_1, ps_btas_2, btas_title_list], axis = 1)\n",
    "df_all_btas.columns =['Site Name', 'Pornstar 1', 'Pornstar 2', 'Title'] "
   ]
  },
  {
   "cell_type": "code",
   "execution_count": null,
   "metadata": {},
   "outputs": [],
   "source": [
    "df_all_btas"
   ]
  },
  {
   "cell_type": "markdown",
   "metadata": {},
   "source": [
    "## Directory: big_tits_at_work"
   ]
  },
  {
   "cell_type": "code",
   "execution_count": null,
   "metadata": {},
   "outputs": [],
   "source": [
    "import glob\n",
    "import os\n",
    "import pandas as pd\n",
    "\n",
    "btaw_files = sorted(glob.glob(r'{}/*.mp4'.format(btaw_dir)))\n",
    "ps_list_1_btaw = []\n",
    "ps_list_2_btaw = []\n",
    "title_list_btaw = []\n",
    "site_name = []\n",
    "\n",
    "for lf in btaw_files[:]:\n",
    "\n",
    "    ps1_tmp = lf.split('/')[-1].split('-')[0]\n",
    "    #print(ps1_tmp)\n",
    "    \n",
    "    if \"big_tits_at_work_\" in ps1_tmp:\n",
    "        ps1_tmp = ps1_tmp.replace(\"big_tits_at_work_\", \"\")\n",
    "        #print(ps1_tmp)\n",
    "        if \"__\" in ps1_tmp:\n",
    "            ps_1 = ps1_tmp.split('__')[0]\n",
    "            ps_2 = ps1_tmp.split('__')[1]\n",
    "            ps_list_1_btaw.append(ps_1)\n",
    "            ps_list_2_btaw.append(ps_2)\n",
    "            #print(ps12)\n",
    "        else:\n",
    "            #print(ps1)\n",
    "            ps_list_1_btaw.append(ps1_tmp)\n",
    "            ps_list_2_btaw.append('')\n",
    "            \n",
    "    title_list_btaw.append(lf.split('-')[1])\n",
    "    site_name.append('Big Tits At Work')\n",
    "    \n",
    "ps_btaw_1 = pd.DataFrame(ps_list_1_btaw)\n",
    "ps_btaw_2 = pd.DataFrame(ps_list_2_btaw)\n",
    "btaw_title_list = pd.DataFrame(title_list_btaw)\n",
    "site_name_list = pd.DataFrame(site_name)\n",
    "\n",
    "df_all_btaw = pd.concat([site_name_list, ps_btaw_1, ps_btaw_2, btaw_title_list], axis = 1)\n",
    "df_all_btaw.columns =['Site Name', 'Pornstar 1', 'Pornstar 2', 'Title'] "
   ]
  },
  {
   "cell_type": "code",
   "execution_count": null,
   "metadata": {},
   "outputs": [],
   "source": [
    "df_all_btaw"
   ]
  },
  {
   "cell_type": "markdown",
   "metadata": {},
   "source": [
    "## Directory: big_tits_in_sports"
   ]
  },
  {
   "cell_type": "code",
   "execution_count": null,
   "metadata": {},
   "outputs": [],
   "source": [
    "import glob\n",
    "import os\n",
    "import pandas as pd\n",
    "btis_dir = os.path.join(bra_dir,'big_tits_in_sports')\n",
    "\n",
    "btis_files = sorted(glob.glob(r'{}/*.mp4'.format(btis_dir)))\n",
    "ps_list_1_btis = []\n",
    "ps_list_2_btis = []\n",
    "title_list_btis = []\n",
    "site_name = []\n",
    "\n",
    "for lf in btis_files[:]:\n",
    "\n",
    "    ps1_tmp = lf.split('/')[-1].split('-')[0]\n",
    "    #print(ps1_tmp)\n",
    "    \n",
    "    if \"big_tits_in_sports_\" in ps1_tmp:\n",
    "        ps1_tmp = ps1_tmp.replace(\"big_tits_in_sports_\", \"\")\n",
    "        #print(ps1_tmp)\n",
    "        if \"__\" in ps1_tmp:\n",
    "            ps_1 = ps1_tmp.split('__')[0]\n",
    "            ps_2 = ps1_tmp.split('__')[1]\n",
    "            ps_list_1_btis.append(ps_1)\n",
    "            ps_list_2_btis.append(ps_2)\n",
    "            #print(ps12)\n",
    "        else:\n",
    "            #print(ps1)\n",
    "            ps_list_1_btis.append(ps1_tmp)\n",
    "            ps_list_2_btis.append('')\n",
    "            \n",
    "    title_list_btis.append(lf.split('-')[1])\n",
    "    site_name.append('Big Tits In Sports')\n",
    "    \n",
    "ps_btis_1 = pd.DataFrame(ps_list_1_btis)\n",
    "ps_btis_2 = pd.DataFrame(ps_list_2_btis)\n",
    "btis_title_list = pd.DataFrame(title_list_btis)\n",
    "site_name_list = pd.DataFrame(site_name)\n",
    "\n",
    "df_all_btis = pd.concat([site_name_list, ps_btis_1, ps_btis_2, btis_title_list], axis = 1)\n",
    "df_all_btis.columns =['Site Name', 'Pornstar 1', 'Pornstar 2', 'Title'] "
   ]
  },
  {
   "cell_type": "code",
   "execution_count": null,
   "metadata": {},
   "outputs": [],
   "source": [
    "df_all_btis"
   ]
  },
  {
   "cell_type": "code",
   "execution_count": null,
   "metadata": {},
   "outputs": [],
   "source": []
  },
  {
   "cell_type": "code",
   "execution_count": null,
   "metadata": {},
   "outputs": [],
   "source": []
  },
  {
   "cell_type": "code",
   "execution_count": null,
   "metadata": {},
   "outputs": [],
   "source": []
  },
  {
   "cell_type": "markdown",
   "metadata": {},
   "source": [
    "## All together"
   ]
  },
  {
   "cell_type": "code",
   "execution_count": null,
   "metadata": {},
   "outputs": [],
   "source": [
    "df_all_bgb, df_all_bblib, df_all_btas, df_all_btaw"
   ]
  },
  {
   "cell_type": "code",
   "execution_count": null,
   "metadata": {},
   "outputs": [],
   "source": [
    "#df_bra = pd.concat([df_all_bgb, df_all_bblib, df_all_btas, df_all_btaw])\n",
    "df_bra = pd.concat([df_all_btis])"
   ]
  },
  {
   "cell_type": "code",
   "execution_count": null,
   "metadata": {},
   "outputs": [],
   "source": [
    "pd.set_option('display.max_rows', None)"
   ]
  },
  {
   "cell_type": "code",
   "execution_count": null,
   "metadata": {},
   "outputs": [],
   "source": [
    "df_bra"
   ]
  },
  {
   "cell_type": "code",
   "execution_count": null,
   "metadata": {},
   "outputs": [],
   "source": [
    "df_bra_nice = df_bra.set_index(['Site Name', 'Pornstar 1'])#.sort_index()"
   ]
  },
  {
   "cell_type": "code",
   "execution_count": null,
   "metadata": {},
   "outputs": [],
   "source": [
    "df_bra_nice"
   ]
  },
  {
   "cell_type": "code",
   "execution_count": null,
   "metadata": {},
   "outputs": [],
   "source": [
    "qgrid_widget = qgrid.show_grid(df_bra_nice)\n",
    "qgrid_widget"
   ]
  },
  {
   "cell_type": "code",
   "execution_count": null,
   "metadata": {},
   "outputs": [],
   "source": [
    "ps_1_all = df_bra['Pornstar 1']\n",
    "ps_1_new_db = []\n",
    "for ii, ps in zip(range(len(ps_1_all)), ps_1_all[:]):\n",
    "    #print(ii)\n",
    "    firstname = ps.split('_')[0]\n",
    "    #print(firstname)\n",
    "    surname = ps.split('_')[1]\n",
    "    ps1_new = firstname.capitalize() + ' ' + surname.capitalize() \n",
    "    ps_1_new_db.append(ps1_new)\n",
    "\n",
    "ps_1_new_db = pd.DataFrame(ps_1_new_db, columns=['Pornstar 1'])\n",
    "    #print(ps1_new)\n",
    "    #print(df_bra_nice.iloc[[ii]])"
   ]
  },
  {
   "cell_type": "code",
   "execution_count": null,
   "metadata": {},
   "outputs": [],
   "source": [
    "ps_1_new_db"
   ]
  },
  {
   "cell_type": "code",
   "execution_count": null,
   "metadata": {},
   "outputs": [],
   "source": [
    "df_bra['Pornstar 1']"
   ]
  },
  {
   "cell_type": "code",
   "execution_count": null,
   "metadata": {},
   "outputs": [],
   "source": [
    "df_bra['Pornstar 1'] = ps_1_new_db\n",
    "df_bra['Pornstar 2'] = ps_2_new_db\n",
    "df_bra_nice = df_bra.set_index(['Site Name', 'Pornstar 1'])\n",
    "qgrid_widget = qgrid.show_grid(df_bra_nice)\n",
    "qgrid_widget"
   ]
  },
  {
   "cell_type": "code",
   "execution_count": null,
   "metadata": {},
   "outputs": [],
   "source": [
    "df_bra"
   ]
  },
  {
   "cell_type": "code",
   "execution_count": null,
   "metadata": {},
   "outputs": [],
   "source": [
    "ps_2_all = df_bra['Pornstar 2']\n",
    "ps_2_new_db = []\n",
    "\n",
    "for ii, ps in zip(range(len(ps_2_all)), ps_2_all[:]):\n",
    "    #print(ii)\n",
    "    if ps == '':\n",
    "        ps2_new = ''\n",
    "        ps_2_new_db.append(ps2_new)\n",
    "        \n",
    "    else:\n",
    "        firstname = ps.split('_')[0]\n",
    "        surname = ps.split('_')[1]\n",
    "        ps2_new = firstname.capitalize() + ' ' + surname.capitalize()\n",
    "        ps_2_new_db.append(ps2_new)\n",
    "        \n",
    "ps_2_new_db = pd.DataFrame(ps_2_new_db, columns=['Pornstar 2'])\n",
    "        #print(df_bra_nice.iloc[[ii]])\n",
    "\n",
    "#    firstname = ps.split('_')[0]\n",
    "#    surname = ps.split('_')[1]\n",
    "#    ps1_new = firstname.capitalize() + ' ' + surname.capitalize() \n",
    "#    print(ps2_new)\n",
    "#    #print(df_bra_nice.iloc[[ii]])"
   ]
  },
  {
   "cell_type": "code",
   "execution_count": null,
   "metadata": {},
   "outputs": [],
   "source": [
    "ps_2_new_db"
   ]
  },
  {
   "cell_type": "code",
   "execution_count": null,
   "metadata": {},
   "outputs": [],
   "source": []
  },
  {
   "cell_type": "code",
   "execution_count": null,
   "metadata": {},
   "outputs": [],
   "source": [
    "mydict = [{'a': 1, 'b': 2, 'c': 3, 'd': 4},\n",
    "          {'a': 100, 'b': 200, 'c': 300, 'd': 400},\n",
    "          {'a': 1000, 'b': 2000, 'c': 3000, 'd': 4000 }]"
   ]
  },
  {
   "cell_type": "code",
   "execution_count": null,
   "metadata": {},
   "outputs": [],
   "source": [
    "df0 = pd.DataFrame(mydict)"
   ]
  },
  {
   "cell_type": "code",
   "execution_count": null,
   "metadata": {},
   "outputs": [],
   "source": [
    "df0"
   ]
  },
  {
   "cell_type": "code",
   "execution_count": null,
   "metadata": {},
   "outputs": [],
   "source": [
    "df0.iloc[1]"
   ]
  },
  {
   "cell_type": "code",
   "execution_count": null,
   "metadata": {},
   "outputs": [],
   "source": []
  },
  {
   "cell_type": "code",
   "execution_count": null,
   "metadata": {},
   "outputs": [],
   "source": [
    "import qgrid\n",
    "import pandas as pd\n",
    "from pandas_datareader import wb\n",
    "df_countries = wb.download(indicator='NY.GDP.PCAP.KD', country=['all'], start=2005, end=2008)\n",
    "df_countries.columns = ['GDP per capita (constant 2005 US$)']\n",
    "qgrid.show_grid(df_countries)"
   ]
  },
  {
   "cell_type": "code",
   "execution_count": null,
   "metadata": {},
   "outputs": [],
   "source": [
    "df_countries"
   ]
  },
  {
   "cell_type": "code",
   "execution_count": null,
   "metadata": {},
   "outputs": [],
   "source": []
  },
  {
   "cell_type": "code",
   "execution_count": null,
   "metadata": {},
   "outputs": [],
   "source": [
    "ps_a = pd.DataFrame(ps1_list)\n",
    "ps_b = pd.DataFrame(ps2_list)\n",
    "title_a = pd.DataFrame(title_list)"
   ]
  },
  {
   "cell_type": "code",
   "execution_count": null,
   "metadata": {},
   "outputs": [],
   "source": [
    "df_all = pd.concat([ps_a, ps_b, title_a], axis = 1)\n",
    "df_all.columns =['Pornstar 1', 'Pornstar 2', 'Title'] "
   ]
  },
  {
   "cell_type": "code",
   "execution_count": null,
   "metadata": {},
   "outputs": [],
   "source": [
    "df_all"
   ]
  },
  {
   "cell_type": "code",
   "execution_count": null,
   "metadata": {
    "scrolled": true
   },
   "outputs": [],
   "source": [
    "qgrid_widget = qgrid.show_grid(df_all)\n",
    "qgrid_widget"
   ]
  },
  {
   "cell_type": "code",
   "execution_count": null,
   "metadata": {},
   "outputs": [],
   "source": [
    "from matplotlib.figure import Figure\n",
    "from matplotlib.backends.backend_qt5agg import (\n",
    "    FigureCanvasQTAgg as FigureCanvas,\n",
    "    NavigationToolbar2QT as NavigationToolbar)"
   ]
  },
  {
   "cell_type": "code",
   "execution_count": null,
   "metadata": {},
   "outputs": [],
   "source": [
    "import numpy as np\n",
    "import pandas as pd\n",
    "import qgrid\n",
    "randn = np.random.randn\n",
    "df_types = pd.DataFrame({\n",
    "    'A' : pd.Series(['2013-01-01', '2013-01-02', '2013-01-03', '2013-01-04',\n",
    "               '2013-01-05', '2013-01-06', '2013-01-07', '2013-01-08', '2013-01-09'],index=list(range(9)),dtype='datetime64[ns]'),\n",
    "    'B' : pd.Series(randn(9),index=list(range(9)),dtype='float32'),\n",
    "    'C' : pd.Categorical([\"washington\", \"adams\", \"washington\", \"madison\", \"lincoln\",\"jefferson\", \"hamilton\", \"roosevelt\", \"kennedy\"]),\n",
    "    'D' : [\"foo\", \"bar\", \"buzz\", \"bippity\",\"boppity\", \"foo\", \"foo\", \"bar\", \"zoo\"] })\n",
    "df_types['E'] = df_types['D'] == 'foo'\n",
    "qgrid_widget = qgrid.show_grid(df_types, show_toolbar=True)\n",
    "qgrid_widget"
   ]
  },
  {
   "cell_type": "code",
   "execution_count": null,
   "metadata": {},
   "outputs": [],
   "source": [
    "qgrid_widget"
   ]
  },
  {
   "cell_type": "code",
   "execution_count": null,
   "metadata": {},
   "outputs": [],
   "source": [
    "df = pd.DataFrame([['one', 'A', 100], ['two', 'A', 101], ['three', 'A', 102], ['one', 'B', 103], ['two', 'B', 104], ['three', 'B', 105]],columns=['c1', 'c2', 'c3'])"
   ]
  },
  {
   "cell_type": "code",
   "execution_count": null,
   "metadata": {},
   "outputs": [],
   "source": [
    "df"
   ]
  },
  {
   "cell_type": "code",
   "execution_count": null,
   "metadata": {},
   "outputs": [],
   "source": [
    "df.set_index(['c1', 'c2'])"
   ]
  },
  {
   "cell_type": "code",
   "execution_count": null,
   "metadata": {},
   "outputs": [],
   "source": [
    "ddf"
   ]
  },
  {
   "cell_type": "code",
   "execution_count": null,
   "metadata": {},
   "outputs": [],
   "source": [
    "qgrid.show_grid(df)"
   ]
  },
  {
   "cell_type": "code",
   "execution_count": null,
   "metadata": {},
   "outputs": [],
   "source": [
    "9000-1600"
   ]
  },
  {
   "cell_type": "code",
   "execution_count": null,
   "metadata": {},
   "outputs": [],
   "source": [
    "7400*0.25"
   ]
  },
  {
   "cell_type": "code",
   "execution_count": null,
   "metadata": {},
   "outputs": [],
   "source": [
    "9000-1850"
   ]
  },
  {
   "cell_type": "code",
   "execution_count": null,
   "metadata": {},
   "outputs": [],
   "source": [
    "32800+7150"
   ]
  },
  {
   "cell_type": "code",
   "execution_count": null,
   "metadata": {},
   "outputs": [],
   "source": [
    "141295.70-101000"
   ]
  },
  {
   "cell_type": "code",
   "execution_count": null,
   "metadata": {},
   "outputs": [],
   "source": [
    "from warnings "
   ]
  },
  {
   "cell_type": "code",
   "execution_count": null,
   "metadata": {},
   "outputs": [],
   "source": [
    "import pandas as pd\n",
    "dict = {'ps_name': [\"Nikki Benz\", \"Shyla Stylez\", \"Velicity Von\", \"Rebecca Moore\"],\n",
    "        'site': [\"big_tits_at_school\", \"big_tits_at_work\", \"big_tits_in_uniform\", \"real_wife_stories\"],\n",
    "                'score': [90, 40, 80, 98]}\n",
    "df = pd.DataFrame(dict)"
   ]
  },
  {
   "cell_type": "code",
   "execution_count": null,
   "metadata": {},
   "outputs": [],
   "source": [
    "df"
   ]
  },
  {
   "cell_type": "code",
   "execution_count": null,
   "metadata": {},
   "outputs": [],
   "source": [
    "for rows, columns in df.iterrows():\n",
    "    #print(columns)\n",
    "    for num, data in enumerate(columns):\n",
    "        print(num)\n",
    "        print(data)"
   ]
  },
  {
   "cell_type": "code",
   "execution_count": null,
   "metadata": {},
   "outputs": [],
   "source": [
    "import os, subprocess, sys\n",
    "\n",
    "bra_dir = '/Volumes/WERDERNAS_X/VIDEOS_X/BRAZZERS'\n",
    "btaw_dir = os.path.join(bra_dir,'big_tits_at_work')\n",
    "bra_file_tmp = 'big_tits_at_work_nikki_benz-zz_courthouse_part_two_1080p.mp4'\n",
    "path_to_bra_file = os.path.join(bra_dir,btaw_dir,bra_file_tmp)\n",
    "print(path_to_bra_file)\n",
    "\n",
    "\n",
    "\n",
    "#opener = \"open\" if sys.platform == \"darwin\" else \"xdg-open\"\n",
    "subprocess.call(['open', path_to_bra_file])"
   ]
  },
  {
   "cell_type": "code",
   "execution_count": null,
   "metadata": {},
   "outputs": [],
   "source": [
    "# import IPython.display.HTML class, because this example will use html to embed a local video file to display, so need the HTML class.\n",
    "from IPython.display import HTML\n",
    "# import base64.b64encode, the video file need to be encoded with base64 encoding.\n",
    "from base64 import b64encode\n",
    "\n",
    "# open local mp4 video file with read permission, rb means read binary file. \n",
    "file = open(\"/Volumes/WERDERNAS_X/VIDEOS_X/BRAZZERS/big_tits_at_work/big_tits_at_work_nikki_benz-zz_courthouse_part_two_1080p.mp4\", \"rb\")\n",
    "\n",
    "# read the file content to video variable.\n",
    "video_data = file.read()\n",
    "\n",
    "# encode the video content with base64 encoding format.\n",
    "video_data_encoded = b64encode(video_data)\n",
    "\n",
    "# create embedded video html tag text. use base64 encoded video data to replace the {0} placeholder.\n",
    "video_html_tag_text = '<video controls alt=\"display local video in jupyter notebook\" src=\"data:video/x-m4v;base64,{0}\">'.format(video_data_encoded)\n",
    "\n",
    "# create a IPython.display.HTML object to display above embedded video html tag. \n",
    "html = HTML(data=video_html_tag_text)\n",
    "\n",
    "# display html object in jupyter notebook\n",
    "html"
   ]
  },
  {
   "cell_type": "code",
   "execution_count": null,
   "metadata": {},
   "outputs": [],
   "source": [
    "cd /Volumes"
   ]
  },
  {
   "cell_type": "code",
   "execution_count": null,
   "metadata": {},
   "outputs": [],
   "source": [
    "import os"
   ]
  },
  {
   "cell_type": "code",
   "execution_count": null,
   "metadata": {},
   "outputs": [],
   "source": [
    "os.chdir('/Volumes/')"
   ]
  },
  {
   "cell_type": "code",
   "execution_count": null,
   "metadata": {},
   "outputs": [],
   "source": [
    "pwd"
   ]
  },
  {
   "cell_type": "code",
   "execution_count": null,
   "metadata": {},
   "outputs": [],
   "source": [
    "from ipywidgets import widgets\n",
    "from IPython.display import display\n",
    "from traitlets import traitlets\n",
    "\n",
    "class LoadedButton(widgets.Button):\n",
    "    \"\"\"A button that can holds a value as a attribute.\"\"\"\n",
    "\n",
    "    def __init__(self, start_wert=None, *args, **kwargs):\n",
    "        super(LoadedButton, self).__init__(*args, **kwargs)\n",
    "        # Create the value attribute.\n",
    "        self.add_traits(wert=traitlets.Any(start_wert))\n",
    "\n",
    "def add_num(ex):\n",
    "    ex.wert = ex.wert+1\n",
    "    print(ex.wert)\n",
    "\n",
    "lb = LoadedButton(description=\"Loaded\", start_wert=111)\n",
    "lb.on_click(add_num)\n",
    "display(lb)"
   ]
  },
  {
   "cell_type": "code",
   "execution_count": null,
   "metadata": {},
   "outputs": [],
   "source": [
    "class Link_Button(widgets.Button):\n",
    "    \"\"\"A button that can holds a value as a attribute.\"\"\"\n",
    "\n",
    "    def __init__(self, start_wert=None, *args, **kwargs):\n",
    "        super(Link_Button, self).__init__(*args, **kwargs)\n",
    "        # Create the value attribute.\n",
    "        self.add_traits(wert=traitlets.Any(start_wert))\n",
    "\n",
    "def add_num(ex):\n",
    "    ex.wert = ex.wert+1\n",
    "    print(ex.wert)\n",
    "\n",
    "link_btn = Link_Button(description=\"Link\", start_wert=111)\n",
    "link_btn.on_click(add_num)\n",
    "display(link_btn)"
   ]
  },
  {
   "cell_type": "code",
   "execution_count": null,
   "metadata": {},
   "outputs": [],
   "source": [
    "lb.wert"
   ]
  },
  {
   "cell_type": "code",
   "execution_count": null,
   "metadata": {},
   "outputs": [],
   "source": [
    "13*60+22"
   ]
  },
  {
   "cell_type": "code",
   "execution_count": null,
   "metadata": {},
   "outputs": [],
   "source": [
    "13*60"
   ]
  },
  {
   "cell_type": "code",
   "execution_count": null,
   "metadata": {},
   "outputs": [],
   "source": [
    "802/234"
   ]
  },
  {
   "cell_type": "code",
   "execution_count": null,
   "metadata": {},
   "outputs": [],
   "source": [
    "3*60+5"
   ]
  },
  {
   "cell_type": "code",
   "execution_count": null,
   "metadata": {},
   "outputs": [],
   "source": [
    "185/68"
   ]
  },
  {
   "cell_type": "code",
   "execution_count": null,
   "metadata": {},
   "outputs": [],
   "source": [
    "15/3"
   ]
  },
  {
   "cell_type": "code",
   "execution_count": null,
   "metadata": {},
   "outputs": [],
   "source": [
    "5*2000"
   ]
  },
  {
   "cell_type": "code",
   "execution_count": null,
   "metadata": {},
   "outputs": [],
   "source": [
    "10000/60"
   ]
  },
  {
   "cell_type": "code",
   "execution_count": null,
   "metadata": {},
   "outputs": [],
   "source": [
    "104*60+21"
   ]
  },
  {
   "cell_type": "code",
   "execution_count": null,
   "metadata": {},
   "outputs": [],
   "source": [
    "6261/1979"
   ]
  },
  {
   "cell_type": "code",
   "execution_count": null,
   "metadata": {},
   "outputs": [],
   "source": [
    "4600*3.6"
   ]
  },
  {
   "cell_type": "code",
   "execution_count": null,
   "metadata": {},
   "outputs": [],
   "source": [
    "16560/60"
   ]
  },
  {
   "cell_type": "code",
   "execution_count": null,
   "metadata": {},
   "outputs": [],
   "source": [
    "276/60"
   ]
  },
  {
   "cell_type": "code",
   "execution_count": null,
   "metadata": {},
   "outputs": [],
   "source": [
    "180+57"
   ]
  },
  {
   "cell_type": "code",
   "execution_count": null,
   "metadata": {},
   "outputs": [],
   "source": [
    "237*60+46"
   ]
  },
  {
   "cell_type": "code",
   "execution_count": null,
   "metadata": {},
   "outputs": [],
   "source": [
    "import pandas as pd\n",
    "df1 = pd.DataFrame({'ID': [1, 2, 3, 4], 'Name': ['John', 'Tom', 'Simon', 'Jose']})\n",
    "df2 = pd.DataFrame({'ID': [1, 2, 3, 5], 'Class': ['Second', 'Third', 'Fifth', 'Fourth']})"
   ]
  },
  {
   "cell_type": "code",
   "execution_count": null,
   "metadata": {},
   "outputs": [],
   "source": [
    "df1"
   ]
  },
  {
   "cell_type": "code",
   "execution_count": null,
   "metadata": {},
   "outputs": [],
   "source": [
    "df2"
   ]
  },
  {
   "cell_type": "code",
   "execution_count": null,
   "metadata": {},
   "outputs": [],
   "source": [
    "df = pd.merge(df1, df2)\n",
    "print(df)"
   ]
  },
  {
   "cell_type": "code",
   "execution_count": null,
   "metadata": {},
   "outputs": [],
   "source": [
    "df3 = pd.DataFrame({'Name': ['John', 'Tom', 'Simon', 'Jose'],\n",
    "                    'Age': [5, 6, 4, 5]})\n",
    "df4 = pd.DataFrame({'Name': ['John', 'Tom', 'Jose'],\n",
    "                    'Class': ['Second', 'Third', 'Fifth']})"
   ]
  },
  {
   "cell_type": "code",
   "execution_count": null,
   "metadata": {},
   "outputs": [],
   "source": [
    "df5 = pd.merge(df3, df4, on='Name')\n",
    "print(df5)"
   ]
  },
  {
   "cell_type": "code",
   "execution_count": null,
   "metadata": {},
   "outputs": [],
   "source": [
    "df3"
   ]
  },
  {
   "cell_type": "code",
   "execution_count": null,
   "metadata": {},
   "outputs": [],
   "source": [
    "df4"
   ]
  },
  {
   "cell_type": "code",
   "execution_count": 6,
   "metadata": {},
   "outputs": [],
   "source": [
    "df = pd.DataFrame([[2, 2.5, 100, 4.5, 8.8, 95], [42, 5.5, 120, 6.5, 7.8, 985]], columns=[\n",
    "                  'int', 'float', 'int', 'float', 'float', 'int'])"
   ]
  },
  {
   "cell_type": "code",
   "execution_count": 29,
   "metadata": {},
   "outputs": [
    {
     "ename": "IndexError",
     "evalue": "single positional indexer is out-of-bounds",
     "output_type": "error",
     "traceback": [
      "\u001b[0;31m---------------------------------------------------------------------------\u001b[0m",
      "\u001b[0;31mIndexError\u001b[0m                                Traceback (most recent call last)",
      "\u001b[0;32m<ipython-input-29-8731a870cab4>\u001b[0m in \u001b[0;36m<module>\u001b[0;34m\u001b[0m\n\u001b[0;32m----> 1\u001b[0;31m \u001b[0mdf\u001b[0m\u001b[0;34m.\u001b[0m\u001b[0miloc\u001b[0m\u001b[0;34m[\u001b[0m\u001b[0;36m2\u001b[0m\u001b[0;34m]\u001b[0m\u001b[0;34m\u001b[0m\u001b[0;34m\u001b[0m\u001b[0m\n\u001b[0m",
      "\u001b[0;32m~/opt/anaconda3/envs/python38_jl30/lib/python3.8/site-packages/pandas/core/indexing.py\u001b[0m in \u001b[0;36m__getitem__\u001b[0;34m(self, key)\u001b[0m\n\u001b[1;32m    893\u001b[0m \u001b[0;34m\u001b[0m\u001b[0m\n\u001b[1;32m    894\u001b[0m             \u001b[0mmaybe_callable\u001b[0m \u001b[0;34m=\u001b[0m \u001b[0mcom\u001b[0m\u001b[0;34m.\u001b[0m\u001b[0mapply_if_callable\u001b[0m\u001b[0;34m(\u001b[0m\u001b[0mkey\u001b[0m\u001b[0;34m,\u001b[0m \u001b[0mself\u001b[0m\u001b[0;34m.\u001b[0m\u001b[0mobj\u001b[0m\u001b[0;34m)\u001b[0m\u001b[0;34m\u001b[0m\u001b[0;34m\u001b[0m\u001b[0m\n\u001b[0;32m--> 895\u001b[0;31m             \u001b[0;32mreturn\u001b[0m \u001b[0mself\u001b[0m\u001b[0;34m.\u001b[0m\u001b[0m_getitem_axis\u001b[0m\u001b[0;34m(\u001b[0m\u001b[0mmaybe_callable\u001b[0m\u001b[0;34m,\u001b[0m \u001b[0maxis\u001b[0m\u001b[0;34m=\u001b[0m\u001b[0maxis\u001b[0m\u001b[0;34m)\u001b[0m\u001b[0;34m\u001b[0m\u001b[0;34m\u001b[0m\u001b[0m\n\u001b[0m\u001b[1;32m    896\u001b[0m \u001b[0;34m\u001b[0m\u001b[0m\n\u001b[1;32m    897\u001b[0m     \u001b[0;32mdef\u001b[0m \u001b[0m_is_scalar_access\u001b[0m\u001b[0;34m(\u001b[0m\u001b[0mself\u001b[0m\u001b[0;34m,\u001b[0m \u001b[0mkey\u001b[0m\u001b[0;34m:\u001b[0m \u001b[0mTuple\u001b[0m\u001b[0;34m)\u001b[0m\u001b[0;34m:\u001b[0m\u001b[0;34m\u001b[0m\u001b[0;34m\u001b[0m\u001b[0m\n",
      "\u001b[0;32m~/opt/anaconda3/envs/python38_jl30/lib/python3.8/site-packages/pandas/core/indexing.py\u001b[0m in \u001b[0;36m_getitem_axis\u001b[0;34m(self, key, axis)\u001b[0m\n\u001b[1;32m   1499\u001b[0m \u001b[0;34m\u001b[0m\u001b[0m\n\u001b[1;32m   1500\u001b[0m             \u001b[0;31m# validate the location\u001b[0m\u001b[0;34m\u001b[0m\u001b[0;34m\u001b[0m\u001b[0;34m\u001b[0m\u001b[0m\n\u001b[0;32m-> 1501\u001b[0;31m             \u001b[0mself\u001b[0m\u001b[0;34m.\u001b[0m\u001b[0m_validate_integer\u001b[0m\u001b[0;34m(\u001b[0m\u001b[0mkey\u001b[0m\u001b[0;34m,\u001b[0m \u001b[0maxis\u001b[0m\u001b[0;34m)\u001b[0m\u001b[0;34m\u001b[0m\u001b[0;34m\u001b[0m\u001b[0m\n\u001b[0m\u001b[1;32m   1502\u001b[0m \u001b[0;34m\u001b[0m\u001b[0m\n\u001b[1;32m   1503\u001b[0m             \u001b[0;32mreturn\u001b[0m \u001b[0mself\u001b[0m\u001b[0;34m.\u001b[0m\u001b[0mobj\u001b[0m\u001b[0;34m.\u001b[0m\u001b[0m_ixs\u001b[0m\u001b[0;34m(\u001b[0m\u001b[0mkey\u001b[0m\u001b[0;34m,\u001b[0m \u001b[0maxis\u001b[0m\u001b[0;34m=\u001b[0m\u001b[0maxis\u001b[0m\u001b[0;34m)\u001b[0m\u001b[0;34m\u001b[0m\u001b[0;34m\u001b[0m\u001b[0m\n",
      "\u001b[0;32m~/opt/anaconda3/envs/python38_jl30/lib/python3.8/site-packages/pandas/core/indexing.py\u001b[0m in \u001b[0;36m_validate_integer\u001b[0;34m(self, key, axis)\u001b[0m\n\u001b[1;32m   1442\u001b[0m         \u001b[0mlen_axis\u001b[0m \u001b[0;34m=\u001b[0m \u001b[0mlen\u001b[0m\u001b[0;34m(\u001b[0m\u001b[0mself\u001b[0m\u001b[0;34m.\u001b[0m\u001b[0mobj\u001b[0m\u001b[0;34m.\u001b[0m\u001b[0m_get_axis\u001b[0m\u001b[0;34m(\u001b[0m\u001b[0maxis\u001b[0m\u001b[0;34m)\u001b[0m\u001b[0;34m)\u001b[0m\u001b[0;34m\u001b[0m\u001b[0;34m\u001b[0m\u001b[0m\n\u001b[1;32m   1443\u001b[0m         \u001b[0;32mif\u001b[0m \u001b[0mkey\u001b[0m \u001b[0;34m>=\u001b[0m \u001b[0mlen_axis\u001b[0m \u001b[0;32mor\u001b[0m \u001b[0mkey\u001b[0m \u001b[0;34m<\u001b[0m \u001b[0;34m-\u001b[0m\u001b[0mlen_axis\u001b[0m\u001b[0;34m:\u001b[0m\u001b[0;34m\u001b[0m\u001b[0;34m\u001b[0m\u001b[0m\n\u001b[0;32m-> 1444\u001b[0;31m             \u001b[0;32mraise\u001b[0m \u001b[0mIndexError\u001b[0m\u001b[0;34m(\u001b[0m\u001b[0;34m\"single positional indexer is out-of-bounds\"\u001b[0m\u001b[0;34m)\u001b[0m\u001b[0;34m\u001b[0m\u001b[0;34m\u001b[0m\u001b[0m\n\u001b[0m\u001b[1;32m   1445\u001b[0m \u001b[0;34m\u001b[0m\u001b[0m\n\u001b[1;32m   1446\u001b[0m     \u001b[0;31m# -------------------------------------------------------------------\u001b[0m\u001b[0;34m\u001b[0m\u001b[0;34m\u001b[0m\u001b[0;34m\u001b[0m\u001b[0m\n",
      "\u001b[0;31mIndexError\u001b[0m: single positional indexer is out-of-bounds"
     ]
    }
   ],
   "source": [
    "df.iloc[!werder123!\n",
    "        2]"
   ]
  },
  {
   "cell_type": "code",
   "execution_count": 28,
   "metadata": {},
   "outputs": [
    {
     "name": "stdout",
     "output_type": "stream",
     "text": [
      "RangeIndex(start=0, stop=2, step=1)\n",
      "RangeIndex(start=0, stop=2, step=1)\n"
     ]
    }
   ],
   "source": [
    "for index, lf in df.iterrows():\n",
    "    print(df.index)"
   ]
  },
  {
   "cell_type": "code",
   "execution_count": 25,
   "metadata": {},
   "outputs": [
    {
     "data": {
      "text/plain": [
       "RangeIndex(start=0, stop=2, step=1)"
      ]
     },
     "execution_count": 25,
     "metadata": {},
     "output_type": "execute_result"
    }
   ],
   "source": [
    "df.index\n",
    "#next(df.iloc[:3].iterrows())"
   ]
  },
  {
   "cell_type": "code",
   "execution_count": 14,
   "metadata": {},
   "outputs": [],
   "source": [
    "df_marks = pd.DataFrame({\n",
    "    'name': ['apple', 'banana', 'orange', 'mango'],\n",
    "\t'calories': [68, 74, 77, 78]})"
   ]
  },
  {
   "cell_type": "code",
   "execution_count": 15,
   "metadata": {},
   "outputs": [
    {
     "data": {
      "text/html": [
       "<div><div id=bd90a759-4c59-4363-a593-1dbdf72df60d style=\"display:none; background-color:#9D6CFF; color:white; width:200px; height:30px; padding-left:5px; border-radius:4px; flex-direction:row; justify-content:space-around; align-items:center;\" onmouseover=\"this.style.backgroundColor='#BA9BF8'\" onmouseout=\"this.style.backgroundColor='#9D6CFF'\" onclick=\"window.commands?.execute('create-mitosheet-from-dataframe-output');\">See Full Dataframe in Mito</div> <script> if (window.commands.hasCommand('create-mitosheet-from-dataframe-output')) document.getElementById('bd90a759-4c59-4363-a593-1dbdf72df60d').style.display = 'flex' </script> <table border=\"1\" class=\"dataframe\">\n",
       "  <thead>\n",
       "    <tr style=\"text-align: right;\">\n",
       "      <th></th>\n",
       "      <th>name</th>\n",
       "      <th>calories</th>\n",
       "    </tr>\n",
       "  </thead>\n",
       "  <tbody>\n",
       "    <tr>\n",
       "      <th>0</th>\n",
       "      <td>apple</td>\n",
       "      <td>68</td>\n",
       "    </tr>\n",
       "    <tr>\n",
       "      <th>1</th>\n",
       "      <td>banana</td>\n",
       "      <td>74</td>\n",
       "    </tr>\n",
       "    <tr>\n",
       "      <th>2</th>\n",
       "      <td>orange</td>\n",
       "      <td>77</td>\n",
       "    </tr>\n",
       "    <tr>\n",
       "      <th>3</th>\n",
       "      <td>mango</td>\n",
       "      <td>78</td>\n",
       "    </tr>\n",
       "  </tbody>\n",
       "</table></div>"
      ],
      "text/plain": [
       "     name  calories\n",
       "0   apple        68\n",
       "1  banana        74\n",
       "2  orange        77\n",
       "3   mango        78"
      ]
     },
     "execution_count": 15,
     "metadata": {},
     "output_type": "execute_result"
    }
   ],
   "source": [
    "df_marks"
   ]
  },
  {
   "cell_type": "code",
   "execution_count": null,
   "metadata": {},
   "outputs": [],
   "source": []
  }
 ],
 "metadata": {
  "hide_input": false,
  "kernelspec": {
   "display_name": "python38_jl30",
   "language": "python",
   "name": "python38_jl30"
  },
  "language_info": {
   "codemirror_mode": {
    "name": "ipython",
    "version": 3
   },
   "file_extension": ".py",
   "mimetype": "text/x-python",
   "name": "python",
   "nbconvert_exporter": "python",
   "pygments_lexer": "ipython3",
   "version": "3.8.8"
  },
  "latex_envs": {
   "LaTeX_envs_menu_present": true,
   "autoclose": false,
   "autocomplete": true,
   "bibliofile": "biblio.bib",
   "cite_by": "apalike",
   "current_citInitial": 1,
   "eqLabelWithNumbers": true,
   "eqNumInitial": 1,
   "hotkeys": {
    "equation": "Ctrl-E",
    "itemize": "Ctrl-I"
   },
   "labels_anchors": false,
   "latex_user_defs": false,
   "report_style_numbering": false,
   "user_envs_cfg": false
  }
 },
 "nbformat": 4,
 "nbformat_minor": 4
}
