{
 "cells": [
  {
   "cell_type": "code",
   "execution_count": 1,
   "id": "d8747b9c",
   "metadata": {},
   "outputs": [],
   "source": [
    "import pandas as pd"
   ]
  },
  {
   "cell_type": "code",
   "execution_count": 2,
   "id": "c5b0c8bb",
   "metadata": {},
   "outputs": [
    {
     "name": "stdout",
     "output_type": "stream",
     "text": [
      "Loading bra_final_py.csv ... \n"
     ]
    }
   ],
   "source": [
    "csv_file = \"bra_final_py.csv\"\n",
    "print(f\"Loading {csv_file} ... \")\n",
    "df = pd.read_csv(csv_file)"
   ]
  },
  {
   "cell_type": "code",
   "execution_count": 3,
   "id": "8b92e9c7",
   "metadata": {},
   "outputs": [],
   "source": [
    "#df[df['Site'] == \"Big Wet Butts\"]\n"
   ]
  },
  {
   "cell_type": "code",
   "execution_count": 12,
   "id": "25e45734",
   "metadata": {},
   "outputs": [
    {
     "name": "stdout",
     "output_type": "stream",
     "text": [
      "44\n"
     ]
    }
   ],
   "source": [
    "ps_name = \"Nikki Benz\"\n",
    "#ps_selection = df[((df['PS1'] == \"Nikki Benz\") | (df['PS2'] == \"Nikki Benz\"))]\n",
    "ps_selection = df[((df['PS1'] == ps_name) | (df['PS2'] == ps_name) | (df['PS3'] == ps_name) | (df['PS4'] == ps_name) |\n",
    "                   (df['PS5'] == ps_name) | (df['PS6'] == ps_name) | (df['PS7'] == ps_name) | (df['PS8'] == ps_name) |\n",
    "                   (df['PS9'] == ps_name) | (df['PS10'] == ps_name))]\n",
    "print(len(ps_selection))\n"
   ]
  },
  {
   "cell_type": "code",
   "execution_count": 4,
   "id": "dbd9a063",
   "metadata": {},
   "outputs": [
    {
     "ename": "NameError",
     "evalue": "name 'comboBox_site' is not defined",
     "output_type": "error",
     "traceback": [
      "\u001b[0;31m------------------------------------------------------\u001b[0m",
      "\u001b[0;31mNameError\u001b[0m            Traceback (most recent call last)",
      "\u001b[0;32m<ipython-input-4-0c9985e5526c>\u001b[0m in \u001b[0;36m<module>\u001b[0;34m\u001b[0m\n\u001b[0;32m----> 1\u001b[0;31m \u001b[0mps_1\u001b[0m \u001b[0;34m=\u001b[0m \u001b[0mdf\u001b[0m\u001b[0;34m[\u001b[0m\u001b[0mdf\u001b[0m\u001b[0;34m[\u001b[0m\u001b[0;34m'Site'\u001b[0m\u001b[0;34m]\u001b[0m \u001b[0;34m==\u001b[0m \u001b[0mcomboBox_site\u001b[0m\u001b[0;34m.\u001b[0m\u001b[0mcurrentText\u001b[0m\u001b[0;34m(\u001b[0m\u001b[0;34m)\u001b[0m\u001b[0;34m]\u001b[0m\u001b[0;34m[\u001b[0m\u001b[0;34m'Pornstar 1'\u001b[0m\u001b[0;34m]\u001b[0m\u001b[0;34m\u001b[0m\u001b[0;34m\u001b[0m\u001b[0m\n\u001b[0m",
      "\u001b[0;31mNameError\u001b[0m: name 'comboBox_site' is not defined"
     ]
    }
   ],
   "source": [
    "ps_1 = df[df['Site'] == comboBox_site.currentText()]['Pornstar 1']"
   ]
  },
  {
   "cell_type": "code",
   "execution_count": null,
   "id": "58730fa0",
   "metadata": {},
   "outputs": [],
   "source": []
  }
 ],
 "metadata": {
  "kernelspec": {
   "display_name": "python38",
   "language": "python",
   "name": "python38"
  },
  "language_info": {
   "codemirror_mode": {
    "name": "ipython",
    "version": 3
   },
   "file_extension": ".py",
   "mimetype": "text/x-python",
   "name": "python",
   "nbconvert_exporter": "python",
   "pygments_lexer": "ipython3",
   "version": "3.8.8"
  }
 },
 "nbformat": 4,
 "nbformat_minor": 5
}
