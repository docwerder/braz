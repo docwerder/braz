{
 "cells": [
  {
   "cell_type": "markdown",
   "id": "1fd29f44-c737-47c6-a27a-1694b6bfbb30",
   "metadata": {},
   "source": [
    "### Create df of my TOP PS!"
   ]
  },
  {
   "cell_type": "code",
   "execution_count": 1,
   "id": "14b36d9d-20b0-4110-ae89-0409feab50a7",
   "metadata": {},
   "outputs": [],
   "source": [
    "import pandas as pd\n",
    "pd.set_option('display.max_rows', None)"
   ]
  },
  {
   "cell_type": "markdown",
   "id": "695deb28-0270-4b9b-9382-15676936139d",
   "metadata": {},
   "source": [
    "#### Import the actual created csv-file .."
   ]
  },
  {
   "cell_type": "code",
   "execution_count": 2,
   "id": "fd5ad2a2-c946-43f7-8026-f6a25a03a0dd",
   "metadata": {},
   "outputs": [],
   "source": [
    "df = pd.read_csv('df_final_my_db_py_11_07_2022.csv', index_col=[0])"
   ]
  },
  {
   "cell_type": "markdown",
   "id": "2de0ace9-cc9c-4426-bc93-2b049310bac0",
   "metadata": {},
   "source": [
    "#### Extract the unique PSs for my TOP25"
   ]
  },
  {
   "cell_type": "code",
   "execution_count": 5,
   "id": "36b40209-d02c-4350-8440-987e9c43c6cb",
   "metadata": {},
   "outputs": [
    {
     "name": "stdout",
     "output_type": "stream",
     "text": [
      "Quantity of PS total:  411\n"
     ]
    }
   ],
   "source": [
    "ps_1 = list(df['PS1'])\n",
    "ps_2 = list(df['PS2'])\n",
    "ps_3 = list(df['PS3'])\n",
    "ps_4 = list(df['PS4'])\n",
    "ps_5 = list(df['PS5'])\n",
    "ps_6 = list(df['PS6'])\n",
    "ps_7 = list(df['PS7'])\n",
    "ps_8 = list(df['PS8'])\n",
    "ps_9 = list(df['PS9'])\n",
    "ps_10 = list(df['PS10'])\n",
    "\n",
    "ps_tmp =(ps_1 + ps_2 + ps_3 + ps_4 + ps_5 + ps_6 + ps_7 + ps_8 + ps_9 + ps_10)\n",
    "ps_tmp_2 = [i.strip(' ') for i in ps_tmp]\n",
    "ps_tmp_3 = set(ps_tmp_2)\n",
    "ps_tmp_4 = list(ps_tmp_3)\n",
    "ps_total = sorted(ps_tmp_4)\n",
    "print('Quantity of PS total: ', str(len(ps_total)))"
   ]
  },
  {
   "cell_type": "markdown",
   "id": "4f2e22b1-7e98-4ca3-85d6-f1c32d56771e",
   "metadata": {},
   "source": [
    "#### Create additional column to judge whether PS belongs to the TOP PS!"
   ]
  },
  {
   "cell_type": "code",
   "execution_count": 7,
   "id": "dea4650a-2d2a-466c-909e-cfe95c1882b0",
   "metadata": {},
   "outputs": [],
   "source": [
    "df_ps_total = pd.DataFrame(ps_total)\n",
    "df_ps_total.columns = ['PS']\n",
    "df_ps_total['TOP50'] = 'No'"
   ]
  },
  {
   "cell_type": "markdown",
   "id": "375be5f5-14be-419c-bf38-baf9a02ac01e",
   "metadata": {},
   "source": [
    "### Define search-Function on dataframe"
   ]
  },
  {
   "cell_type": "code",
   "execution_count": 10,
   "id": "7e661e41-fbd9-4fba-b6d1-85a37df9a687",
   "metadata": {},
   "outputs": [],
   "source": [
    "# VERY important function to search on dataframes\n",
    "def search(dataFrame, search_string):\n",
    "    mask = (dataFrame.applymap(lambda x: isinstance(x, str) and search_string in x)).any(1)\n",
    "    return dataFrame[mask]"
   ]
  },
  {
   "cell_type": "markdown",
   "id": "71b18977-5a18-4269-a6f3-5cb0d86c4c88",
   "metadata": {},
   "source": [
    "### Listing of my TOP PS!"
   ]
  },
  {
   "cell_type": "code",
   "execution_count": 14,
   "id": "5d83d297-c891-4cb8-8386-b985945972d2",
   "metadata": {},
   "outputs": [
    {
     "name": "stdout",
     "output_type": "stream",
     "text": [
      "Quantity of my TOP PS:  56\n"
     ]
    }
   ],
   "source": [
    "top50_ps = ['Abbey Brooks', 'Abbie Cat', 'Alena Croft', 'Aletta Ocean', 'Alexis Ford', \n",
    "            'Angel Wicky', 'Angela White', 'Ava Addams', 'Bridgette B', 'Britney Shannon',\n",
    "            'Carmella Bing', 'Cathy Heaven', 'Chessie Kay', 'Claire Dames',  'Corinna Blake',\n",
    "            'Dee Williams', 'Donna Bell', 'Ella Hughes', 'Emma Butt', 'Eva Karera', 'Eva Notty', \n",
    "            'Harmony Reigns', 'Holly Halston', 'Jasmine Jae', 'Jayden Jaymes', 'Jenna Presley',\n",
    "            'Jessica Moore', 'Julia Ann', 'Katie Kox', 'Kelly Divine', 'Kendra Lust', 'Kiara Mia',\n",
    "            'Krissy Lynn', 'Leigh Darby', 'Madison Ivy', 'Marsha May', 'Memphis Monroe', 'Nicolette Shea',\n",
    "            'Nikki Benz', 'Noelle Easton', 'Peta Jensen', 'Rebeca Linares', 'Rebecca More', 'Roberta Gemma',\n",
    "            'Romi Rain', 'Sensual Jane', 'Shyla Stylez', 'Sienna West', 'Sophie Dee', 'Stella Cox', \n",
    "            'Syren De Mer', 'Tarra White', 'Tory Lane', 'Velicity Von', 'Veronica Avluv', 'Yasmin Scott']\n",
    "print('Quantity of my TOP PS: ', str(len(top50_ps)))"
   ]
  },
  {
   "cell_type": "markdown",
   "id": "96b8271e-5cbc-421b-9f87-2cc563f6bcda",
   "metadata": {},
   "source": [
    "### Loop through the df_ps_total and notice the location of the Top_ps "
   ]
  },
  {
   "cell_type": "code",
   "execution_count": 16,
   "id": "85af1dd0-f7f0-4214-81e9-7801c8d5258a",
   "metadata": {},
   "outputs": [
    {
     "name": "stdout",
     "output_type": "stream",
     "text": [
      "PS  Abbey Brooks  found at postion:  1\n",
      "PS  Abbie Cat  found at postion:  2\n",
      "PS  Alena Croft  found at postion:  11\n",
      "PS  Aletta Ocean  found at postion:  13\n",
      "PS  Alexis Ford  found at postion:  20\n",
      "PS  Angel Wicky  found at postion:  38\n",
      "PS  Angela White  found at postion:  39\n",
      "PS  Ava Addams  found at postion:  59\n",
      "PS  Bridgette B  found at postion:  79\n",
      "PS  Britney Shannon  found at postion:  81\n",
      "PS  Carmella Bing  found at postion:  93\n",
      "PS  Cathy Heaven  found at postion:  96\n",
      "PS  Chessie Kay  found at postion:  102\n",
      "PS  Claire Dames  found at postion:  109\n",
      "PS  Corinna Blake  found at postion:  113\n",
      "PS  Dee Williams  found at postion:  125\n",
      "PS  Donna Bell  found at postion:  133\n",
      "PS  Ella Hughes  found at postion:  138\n",
      "PS  Emma Butt  found at postion:  141\n",
      "PS  Eva Karera  found at postion:  147\n",
      "PS  Eva Notty  found at postion:  148\n",
      "PS  Harmony Reigns  found at postion:  163\n",
      "PS  Holly Halston  found at postion:  167\n",
      "PS  Jasmine Jae  found at postion:  179\n",
      "PS  Jayden Jaymes  found at postion:  181\n",
      "PS  Jenna Presley  found at postion:  188\n",
      "PS  Jessica Moore  found at postion:  194\n",
      "PS  Julia Ann  found at postion:  207\n",
      "PS  Katie Kox  found at postion:  215\n",
      "PS  Kelly Divine  found at postion:  221\n",
      "PS  Kendra Lust  found at postion:  224\n",
      "PS  Kiara Mia  found at postion:  233\n",
      "PS  Krissy Lynn  found at postion:  241\n",
      "PS  Leigh Darby  found at postion:  254\n",
      "PS  Madison Ivy  found at postion:  278\n",
      "PS  Marsha May  found at postion:  283\n",
      "PS  Memphis Monroe  found at postion:  292\n",
      "PS  Nicolette Shea  found at postion:  305\n",
      "PS  Nikki Benz  found at postion:  307\n",
      "PS  Noelle Easton  found at postion:  313\n",
      "PS  Peta Jensen  found at postion:  319\n",
      "PS  Rebeca Linares  found at postion:  328\n",
      "PS  Rebecca More  found at postion:  329\n",
      "PS  Roberta Gemma  found at postion:  336\n",
      "PS  Romi Rain  found at postion:  337\n",
      "PS  Sensual Jane  found at postion:  352\n",
      "PS  Shyla Stylez  found at postion:  357\n",
      "PS  Sienna West  found at postion:  359\n",
      "PS  Sophie Dee  found at postion:  369\n",
      "PS  Stella Cox  found at postion:  372\n",
      "PS  Syren De Mer  found at postion:  379\n",
      "PS  Tarra White  found at postion:  384\n",
      "PS  Tory Lane  found at postion:  396\n",
      "PS  Velicity Von  found at postion:  399\n",
      "PS  Veronica Avluv  found at postion:  400\n",
      "PS  Yasmin Scott  found at postion:  407\n"
     ]
    }
   ],
   "source": [
    "for single_ps in top50_ps:\n",
    "    if single_ps in list(df_ps_total['PS']):\n",
    "        ps_index_position = (df_ps_total[df_ps_total['PS'] == single_ps]).index.item()\n",
    "        print('PS ', single_ps, ' found at postion: ', str(ps_index_position))\n",
    "        df_ps_total.loc[ps_index_position, 'TOP50'] = 'Yes'"
   ]
  },
  {
   "cell_type": "code",
   "execution_count": 23,
   "id": "f81f8401-9de0-4538-9348-6aceb9f9c584",
   "metadata": {},
   "outputs": [],
   "source": [
    "df_top_ps = df_ps_total[df_ps_total['TOP50'] == 'Yes']"
   ]
  },
  {
   "cell_type": "code",
   "execution_count": 80,
   "id": "38aac4e6-0107-49cc-80ef-2c8e90116a39",
   "metadata": {},
   "outputs": [
    {
     "name": "stdout",
     "output_type": "stream",
     "text": [
      "                       Site           PS1                PS2  \\\n",
      "99       Big Tits At School  Abbey Brooks            No Name   \n",
      "245        Big Tits At Work  Abbey Brooks            No Name   \n",
      "246        Big Tits At Work  Abbey Brooks            No Name   \n",
      "247        Big Tits At Work  Abbey Brooks            No Name   \n",
      "443      Big Tits In Sports  Abbey Brooks            No Name   \n",
      "950       Milfs Like It Big  Abbey Brooks            No Name   \n",
      "1230        Moms In Control  Abbey Brooks     Jillian Janson   \n",
      "1258  Pornstars Like It Big  Abbey Brooks        Bridgette B   \n",
      "1259  Pornstars Like It Big  Abbey Brooks  Kagneylinn Karter   \n",
      "\n",
      "                                  Title      PS3      PS4      PS5      PS6  \\\n",
      "99             cultural_festishism_720p  No Name  No Name  No Name  No Name   \n",
      "245          handling_his_business_720p  No Name  No Name  No Name  No Name   \n",
      "246              language_banguage_720p  No Name  No Name  No Name  No Name   \n",
      "247           sensitivity_training_720p  No Name  No Name  No Name  No Name   \n",
      "443        taking_care_of_the_team_720p  No Name  No Name  No Name  No Name   \n",
      "950             the_butler_did_her_720p  No Name  No Name  No Name  No Name   \n",
      "1230  this_is_how_you_get_the_job_1080p  No Name  No Name  No Name  No Name   \n",
      "1258                 truth_or_dare_720p  No Name  No Name  No Name  No Name   \n",
      "1259              cock_of_immunity_720p  No Name  No Name  No Name  No Name   \n",
      "\n",
      "          PS7      PS8      PS9     PS10    Location  \\\n",
      "99    No Name  No Name  No Name  No Name  WERDERNASX   \n",
      "245   No Name  No Name  No Name  No Name  WERDERNASX   \n",
      "246   No Name  No Name  No Name  No Name  WERDERNASX   \n",
      "247   No Name  No Name  No Name  No Name  WERDERNASX   \n",
      "443   No Name  No Name  No Name  No Name  WERDERNASX   \n",
      "950   No Name  No Name  No Name  No Name  WERDERNASX   \n",
      "1230  No Name  No Name  No Name  No Name  WERDERNASX   \n",
      "1258  No Name  No Name  No Name  No Name  WERDERNASX   \n",
      "1259  No Name  No Name  No Name  No Name  WERDERNASX   \n",
      "\n",
      "                                                   Link  \n",
      "99    /Volumes/WERDERNASX/VIDEOSX/BRAZZERS/big_tits_...  \n",
      "245   /Volumes/WERDERNASX/VIDEOSX/BRAZZERS/big_tits_...  \n",
      "246   /Volumes/WERDERNASX/VIDEOSX/BRAZZERS/big_tits_...  \n",
      "247   /Volumes/WERDERNASX/VIDEOSX/BRAZZERS/big_tits_...  \n",
      "443   /Volumes/WERDERNASX/VIDEOSX/BRAZZERS/big_tits_...  \n",
      "950   /Volumes/WERDERNASX/VIDEOSX/BRAZZERS/milfs_lik...  \n",
      "1230  /Volumes/WERDERNASX/VIDEOSX/BRAZZERS/moms_in_c...  \n",
      "1258  /Volumes/WERDERNASX/VIDEOSX/BRAZZERS/pornstars...  \n",
      "1259  /Volumes/WERDERNASX/VIDEOSX/BRAZZERS/pornstars...  \n",
      "                       Site        PS1           PS2  \\\n",
      "444      Big Tits In Sports  Abbie Cat  Yuffie Yulan   \n",
      "863       Doctor Adventures  Abbie Cat       No Name   \n",
      "1260  Pornstars Like It Big  Abbie Cat       No Name   \n",
      "1706      Real Wife Stories  Abbie Cat       No Name   \n",
      "\n",
      "                                Title      PS3      PS4      PS5      PS6  \\\n",
      "444   why_we_love_womens_tennis_1080p  No Name  No Name  No Name  No Name   \n",
      "863                    cu_matose_720p  No Name  No Name  No Name  No Name   \n",
      "1260       dr_jekyll_mister_hung_720p  No Name  No Name  No Name  No Name   \n",
      "1706         one_soggy_afternoon_720p  No Name  No Name  No Name  No Name   \n",
      "\n",
      "          PS7      PS8      PS9     PS10     Location  \\\n",
      "444   No Name  No Name  No Name  No Name   WERDERNASX   \n",
      "863   No Name  No Name  No Name  No Name   WERDERNASX   \n",
      "1260  No Name  No Name  No Name  No Name   WERDERNASX   \n",
      "1706  No Name  No Name  No Name  No Name  WERDERNAS2X   \n",
      "\n",
      "                                                   Link  \n",
      "444   /Volumes/WERDERNASX/VIDEOSX/BRAZZERS/big_tits_...  \n",
      "863   /Volumes/WERDERNASX/VIDEOSX/BRAZZERS/doctor_ad...  \n",
      "1260  /Volumes/WERDERNASX/VIDEOSX/BRAZZERS/pornstars...  \n",
      "1706  /Volumes/WERDERNAS2X/VIDEOS2X/BRAZZERS2/real_w...  \n"
     ]
    }
   ],
   "source": [
    "df_top_ps_tmp = pd.DataFrame()\n",
    "for single_top_ps in df_top_ps['PS'][:2]:\n",
    "    #print(single_top_ps)\n",
    "    index_list_top_ps = df[(df['PS1'] == single_top_ps) | (df['PS2'] == single_top_ps) |\n",
    "                (df['PS3'] == single_top_ps) | (df['PS4'] == single_top_ps) |\n",
    "                (df['PS5'] == single_top_ps) | (df['PS6'] == single_top_ps) |\n",
    "                (df['PS7'] == single_top_ps) | (df['PS8'] == single_top_ps) |\n",
    "                (df['PS9'] == single_top_ps) | (df['PS10'] == single_top_ps)].index\n",
    "    df_tmp = df.loc[index_list_top_ps]\n",
    "    \n",
    "    #print(single_top_ps, ' found in original df at postions: ', index_list_top_ps)\n",
    "    print(df_tmp)"
   ]
  },
  {
   "cell_type": "code",
   "execution_count": 79,
   "id": "1deb47d8-0d04-4cac-a999-2096dc6bbb04",
   "metadata": {},
   "outputs": [],
   "source": [
    "single_top_ps = 'Madison Ivy'"
   ]
  },
  {
   "cell_type": "code",
   "execution_count": 70,
   "id": "655d3d8d-e4e6-4ee1-b58f-06da861bd6a8",
   "metadata": {},
   "outputs": [
    {
     "data": {
      "text/html": [
       "<div>\n",
       "<style scoped>\n",
       "    .dataframe tbody tr th:only-of-type {\n",
       "        vertical-align: middle;\n",
       "    }\n",
       "\n",
       "    .dataframe tbody tr th {\n",
       "        vertical-align: top;\n",
       "    }\n",
       "\n",
       "    .dataframe thead th {\n",
       "        text-align: right;\n",
       "    }\n",
       "</style>\n",
       "<table border=\"1\" class=\"dataframe\">\n",
       "  <thead>\n",
       "    <tr style=\"text-align: right;\">\n",
       "      <th></th>\n",
       "      <th>Site</th>\n",
       "      <th>PS1</th>\n",
       "      <th>PS2</th>\n",
       "      <th>Title</th>\n",
       "      <th>PS3</th>\n",
       "      <th>PS4</th>\n",
       "      <th>PS5</th>\n",
       "      <th>PS6</th>\n",
       "      <th>PS7</th>\n",
       "      <th>PS8</th>\n",
       "      <th>PS9</th>\n",
       "      <th>PS10</th>\n",
       "      <th>Location</th>\n",
       "      <th>Link</th>\n",
       "    </tr>\n",
       "  </thead>\n",
       "  <tbody>\n",
       "    <tr>\n",
       "      <th>196</th>\n",
       "      <td>Big Tits At School</td>\n",
       "      <td>Madison Ivy</td>\n",
       "      <td>Rebeca Linares</td>\n",
       "      <td>the_rack_of_the_clones_1080p</td>\n",
       "      <td>No Name</td>\n",
       "      <td>No Name</td>\n",
       "      <td>No Name</td>\n",
       "      <td>No Name</td>\n",
       "      <td>No Name</td>\n",
       "      <td>No Name</td>\n",
       "      <td>No Name</td>\n",
       "      <td>No Name</td>\n",
       "      <td>WERDERNASX</td>\n",
       "      <td>/Volumes/WERDERNASX/VIDEOSX/BRAZZERS/big_tits_...</td>\n",
       "    </tr>\n",
       "    <tr>\n",
       "      <th>1366</th>\n",
       "      <td>Pornstars Like It Big</td>\n",
       "      <td>Madison Ivy</td>\n",
       "      <td>No Name</td>\n",
       "      <td>sliding_into_madisons_d_ms_720p</td>\n",
       "      <td>No Name</td>\n",
       "      <td>No Name</td>\n",
       "      <td>No Name</td>\n",
       "      <td>No Name</td>\n",
       "      <td>No Name</td>\n",
       "      <td>No Name</td>\n",
       "      <td>No Name</td>\n",
       "      <td>No Name</td>\n",
       "      <td>WERDERNASX</td>\n",
       "      <td>/Volumes/WERDERNASX/VIDEOSX/BRAZZERS/pornstars...</td>\n",
       "    </tr>\n",
       "  </tbody>\n",
       "</table>\n",
       "</div>"
      ],
      "text/plain": [
       "                       Site          PS1             PS2  \\\n",
       "196      Big Tits At School  Madison Ivy  Rebeca Linares   \n",
       "1366  Pornstars Like It Big  Madison Ivy         No Name   \n",
       "\n",
       "                                Title      PS3      PS4      PS5      PS6  \\\n",
       "196      the_rack_of_the_clones_1080p  No Name  No Name  No Name  No Name   \n",
       "1366  sliding_into_madisons_d_ms_720p  No Name  No Name  No Name  No Name   \n",
       "\n",
       "          PS7      PS8      PS9     PS10    Location  \\\n",
       "196   No Name  No Name  No Name  No Name  WERDERNASX   \n",
       "1366  No Name  No Name  No Name  No Name  WERDERNASX   \n",
       "\n",
       "                                                   Link  \n",
       "196   /Volumes/WERDERNASX/VIDEOSX/BRAZZERS/big_tits_...  \n",
       "1366  /Volumes/WERDERNASX/VIDEOSX/BRAZZERS/pornstars...  "
      ]
     },
     "execution_count": 70,
     "metadata": {},
     "output_type": "execute_result"
    }
   ],
   "source": [
    "df[df['PS1'] == 'Madison Ivy']#.index#.item()"
   ]
  },
  {
   "cell_type": "code",
   "execution_count": 72,
   "id": "0b836a69-fb59-498a-9353-1b2dd2856034",
   "metadata": {},
   "outputs": [],
   "source": [
    "index_list = df[(df['PS1'] == single_top_ps) | (df['PS2'] == single_top_ps) |\n",
    "                (df['PS3'] == single_top_ps) | (df['PS4'] == single_top_ps) |\n",
    "                (df['PS5'] == single_top_ps) | (df['PS6'] == single_top_ps) |\n",
    "                (df['PS7'] == single_top_ps) | (df['PS8'] == single_top_ps) |\n",
    "                (df['PS9'] == single_top_ps) | (df['PS10'] == single_top_ps)].index"
   ]
  },
  {
   "cell_type": "code",
   "execution_count": 73,
   "id": "29addfd6-1ce3-4718-8cd2-f41bcdae2518",
   "metadata": {},
   "outputs": [
    {
     "data": {
      "text/plain": [
       "Int64Index([196, 676, 716, 829, 1273, 1366], dtype='int64')"
      ]
     },
     "execution_count": 73,
     "metadata": {},
     "output_type": "execute_result"
    }
   ],
   "source": [
    "index_list"
   ]
  },
  {
   "cell_type": "code",
   "execution_count": 76,
   "id": "a5af649a-4880-42d1-a264-5023c2d09d26",
   "metadata": {},
   "outputs": [
    {
     "data": {
      "text/html": [
       "<div>\n",
       "<style scoped>\n",
       "    .dataframe tbody tr th:only-of-type {\n",
       "        vertical-align: middle;\n",
       "    }\n",
       "\n",
       "    .dataframe tbody tr th {\n",
       "        vertical-align: top;\n",
       "    }\n",
       "\n",
       "    .dataframe thead th {\n",
       "        text-align: right;\n",
       "    }\n",
       "</style>\n",
       "<table border=\"1\" class=\"dataframe\">\n",
       "  <thead>\n",
       "    <tr style=\"text-align: right;\">\n",
       "      <th></th>\n",
       "      <th>Site</th>\n",
       "      <th>PS1</th>\n",
       "      <th>PS2</th>\n",
       "      <th>Title</th>\n",
       "      <th>PS3</th>\n",
       "      <th>PS4</th>\n",
       "      <th>PS5</th>\n",
       "      <th>PS6</th>\n",
       "      <th>PS7</th>\n",
       "      <th>PS8</th>\n",
       "      <th>PS9</th>\n",
       "      <th>PS10</th>\n",
       "      <th>Location</th>\n",
       "      <th>Link</th>\n",
       "    </tr>\n",
       "  </thead>\n",
       "  <tbody>\n",
       "    <tr>\n",
       "      <th>196</th>\n",
       "      <td>Big Tits At School</td>\n",
       "      <td>Madison Ivy</td>\n",
       "      <td>Rebeca Linares</td>\n",
       "      <td>the_rack_of_the_clones_1080p</td>\n",
       "      <td>No Name</td>\n",
       "      <td>No Name</td>\n",
       "      <td>No Name</td>\n",
       "      <td>No Name</td>\n",
       "      <td>No Name</td>\n",
       "      <td>No Name</td>\n",
       "      <td>No Name</td>\n",
       "      <td>No Name</td>\n",
       "      <td>WERDERNASX</td>\n",
       "      <td>/Volumes/WERDERNASX/VIDEOSX/BRAZZERS/big_tits_...</td>\n",
       "    </tr>\n",
       "    <tr>\n",
       "      <th>676</th>\n",
       "      <td>Brazzers Extra</td>\n",
       "      <td>Ava Addams</td>\n",
       "      <td>Mia Malkova</td>\n",
       "      <td>bz_10th_anniversary_bts_interview_720p</td>\n",
       "      <td>Kortney Kane</td>\n",
       "      <td>Phoenix Marie</td>\n",
       "      <td>Rachel Roxxx</td>\n",
       "      <td>Monique Alexander</td>\n",
       "      <td>Nikki Benz</td>\n",
       "      <td>Jayden Jaymes</td>\n",
       "      <td>Madison Ivy</td>\n",
       "      <td>Kagneylinn Karter</td>\n",
       "      <td>WERDERNASX</td>\n",
       "      <td>/Volumes/WERDERNASX/VIDEOSX/BRAZZERS/brazzers_...</td>\n",
       "    </tr>\n",
       "    <tr>\n",
       "      <th>716</th>\n",
       "      <td>Brazzers Extra</td>\n",
       "      <td>Jasmine Jae</td>\n",
       "      <td>Madison Ivy</td>\n",
       "      <td>tour_of_london_part_one_720p</td>\n",
       "      <td>No Name</td>\n",
       "      <td>No Name</td>\n",
       "      <td>No Name</td>\n",
       "      <td>No Name</td>\n",
       "      <td>No Name</td>\n",
       "      <td>No Name</td>\n",
       "      <td>No Name</td>\n",
       "      <td>No Name</td>\n",
       "      <td>WERDERNASX</td>\n",
       "      <td>/Volumes/WERDERNASX/VIDEOSX/BRAZZERS/brazzers_...</td>\n",
       "    </tr>\n",
       "    <tr>\n",
       "      <th>829</th>\n",
       "      <td>Day With A Pornstar</td>\n",
       "      <td>Adriana Chechik</td>\n",
       "      <td>Madison Ivy</td>\n",
       "      <td>madison_and_adriana_720p</td>\n",
       "      <td>No Name</td>\n",
       "      <td>No Name</td>\n",
       "      <td>No Name</td>\n",
       "      <td>No Name</td>\n",
       "      <td>No Name</td>\n",
       "      <td>No Name</td>\n",
       "      <td>No Name</td>\n",
       "      <td>No Name</td>\n",
       "      <td>WERDERNASX</td>\n",
       "      <td>/Volumes/WERDERNASX/VIDEOSX/BRAZZERS/day_with_...</td>\n",
       "    </tr>\n",
       "    <tr>\n",
       "      <th>1273</th>\n",
       "      <td>Pornstars Like It Big</td>\n",
       "      <td>Aletta Ocean</td>\n",
       "      <td>Madison Ivy</td>\n",
       "      <td>tour_of_london_part_two_1080p</td>\n",
       "      <td>No Name</td>\n",
       "      <td>No Name</td>\n",
       "      <td>No Name</td>\n",
       "      <td>No Name</td>\n",
       "      <td>No Name</td>\n",
       "      <td>No Name</td>\n",
       "      <td>No Name</td>\n",
       "      <td>No Name</td>\n",
       "      <td>WERDERNASX</td>\n",
       "      <td>/Volumes/WERDERNASX/VIDEOSX/BRAZZERS/pornstars...</td>\n",
       "    </tr>\n",
       "    <tr>\n",
       "      <th>1366</th>\n",
       "      <td>Pornstars Like It Big</td>\n",
       "      <td>Madison Ivy</td>\n",
       "      <td>No Name</td>\n",
       "      <td>sliding_into_madisons_d_ms_720p</td>\n",
       "      <td>No Name</td>\n",
       "      <td>No Name</td>\n",
       "      <td>No Name</td>\n",
       "      <td>No Name</td>\n",
       "      <td>No Name</td>\n",
       "      <td>No Name</td>\n",
       "      <td>No Name</td>\n",
       "      <td>No Name</td>\n",
       "      <td>WERDERNASX</td>\n",
       "      <td>/Volumes/WERDERNASX/VIDEOSX/BRAZZERS/pornstars...</td>\n",
       "    </tr>\n",
       "  </tbody>\n",
       "</table>\n",
       "</div>"
      ],
      "text/plain": [
       "                       Site              PS1             PS2  \\\n",
       "196      Big Tits At School      Madison Ivy  Rebeca Linares   \n",
       "676          Brazzers Extra       Ava Addams     Mia Malkova   \n",
       "716          Brazzers Extra      Jasmine Jae     Madison Ivy   \n",
       "829     Day With A Pornstar  Adriana Chechik     Madison Ivy   \n",
       "1273  Pornstars Like It Big     Aletta Ocean     Madison Ivy   \n",
       "1366  Pornstars Like It Big      Madison Ivy         No Name   \n",
       "\n",
       "                                       Title           PS3            PS4  \\\n",
       "196             the_rack_of_the_clones_1080p       No Name        No Name   \n",
       "676   bz_10th_anniversary_bts_interview_720p  Kortney Kane  Phoenix Marie   \n",
       "716             tour_of_london_part_one_720p       No Name        No Name   \n",
       "829                 madison_and_adriana_720p       No Name        No Name   \n",
       "1273           tour_of_london_part_two_1080p       No Name        No Name   \n",
       "1366         sliding_into_madisons_d_ms_720p       No Name        No Name   \n",
       "\n",
       "               PS5                PS6         PS7            PS8          PS9  \\\n",
       "196        No Name            No Name     No Name        No Name      No Name   \n",
       "676   Rachel Roxxx  Monique Alexander  Nikki Benz  Jayden Jaymes  Madison Ivy   \n",
       "716        No Name            No Name     No Name        No Name      No Name   \n",
       "829        No Name            No Name     No Name        No Name      No Name   \n",
       "1273       No Name            No Name     No Name        No Name      No Name   \n",
       "1366       No Name            No Name     No Name        No Name      No Name   \n",
       "\n",
       "                   PS10    Location  \\\n",
       "196             No Name  WERDERNASX   \n",
       "676   Kagneylinn Karter  WERDERNASX   \n",
       "716             No Name  WERDERNASX   \n",
       "829             No Name  WERDERNASX   \n",
       "1273            No Name  WERDERNASX   \n",
       "1366            No Name  WERDERNASX   \n",
       "\n",
       "                                                   Link  \n",
       "196   /Volumes/WERDERNASX/VIDEOSX/BRAZZERS/big_tits_...  \n",
       "676   /Volumes/WERDERNASX/VIDEOSX/BRAZZERS/brazzers_...  \n",
       "716   /Volumes/WERDERNASX/VIDEOSX/BRAZZERS/brazzers_...  \n",
       "829   /Volumes/WERDERNASX/VIDEOSX/BRAZZERS/day_with_...  \n",
       "1273  /Volumes/WERDERNASX/VIDEOSX/BRAZZERS/pornstars...  \n",
       "1366  /Volumes/WERDERNASX/VIDEOSX/BRAZZERS/pornstars...  "
      ]
     },
     "execution_count": 76,
     "metadata": {},
     "output_type": "execute_result"
    }
   ],
   "source": [
    "df.loc[index_list]"
   ]
  },
  {
   "cell_type": "code",
   "execution_count": 77,
   "id": "78676f76-2ddc-4751-84c2-044c8403aaab",
   "metadata": {},
   "outputs": [
    {
     "data": {
      "text/plain": [
       "1    Abbey Brooks\n",
       "2       Abbie Cat\n",
       "Name: PS, dtype: object"
      ]
     },
     "execution_count": 77,
     "metadata": {},
     "output_type": "execute_result"
    }
   ],
   "source": [
    "df_top_ps['PS'][:2]"
   ]
  },
  {
   "cell_type": "code",
   "execution_count": null,
   "id": "38c277d0-115c-464a-87e3-8f0e66d79725",
   "metadata": {},
   "outputs": [],
   "source": []
  }
 ],
 "metadata": {
  "kernelspec": {
   "display_name": "python38",
   "language": "python",
   "name": "python38"
  },
  "language_info": {
   "codemirror_mode": {
    "name": "ipython",
    "version": 3
   },
   "file_extension": ".py",
   "mimetype": "text/x-python",
   "name": "python",
   "nbconvert_exporter": "python",
   "pygments_lexer": "ipython3",
   "version": "3.8.8"
  }
 },
 "nbformat": 4,
 "nbformat_minor": 5
}
