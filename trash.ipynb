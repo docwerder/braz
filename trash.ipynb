{
 "cells": [
  {
   "cell_type": "code",
   "execution_count": null,
   "metadata": {},
   "outputs": [],
   "source": [
    "from pathlib import Path "
   ]
  },
  {
   "cell_type": "code",
   "execution_count": null,
   "metadata": {},
   "outputs": [],
   "source": [
    "wave = Path(\"wave\", \"ocean.txt\")"
   ]
  },
  {
   "cell_type": "code",
   "execution_count": null,
   "metadata": {},
   "outputs": [],
   "source": [
    "print(wave)"
   ]
  },
  {
   "cell_type": "code",
   "execution_count": null,
   "metadata": {},
   "outputs": [],
   "source": [
    "a = [5, 2, 3, 1, 4]\n",
    "a[1:].sort()"
   ]
  },
  {
   "cell_type": "code",
   "execution_count": null,
   "metadata": {},
   "outputs": [],
   "source": [
    "a"
   ]
  },
  {
   "cell_type": "code",
   "execution_count": null,
   "metadata": {},
   "outputs": [],
   "source": [
    "ps_list = ['  Baby Got Boobs', 'Big Butts Like It Big', 'Big Tits At School', 'Big Tits At Work', 'Big Tits In Sports']"
   ]
  },
  {
   "cell_type": "code",
   "execution_count": null,
   "metadata": {},
   "outputs": [],
   "source": [
    "ps_list_em = [lf.lstrip() for lf in ps_list]"
   ]
  },
  {
   "cell_type": "code",
   "execution_count": null,
   "metadata": {},
   "outputs": [],
   "source": [
    "ps_list_em"
   ]
  },
  {
   "cell_type": "code",
   "execution_count": null,
   "metadata": {},
   "outputs": [],
   "source": [
    "458956.03*0.3048"
   ]
  },
  {
   "cell_type": "code",
   "execution_count": 21,
   "metadata": {},
   "outputs": [
    {
     "ename": "TypeError",
     "evalue": "object of type 'Response' has no len()",
     "output_type": "error",
     "traceback": [
      "\u001b[0;31m---------------------------------------------------------------------------\u001b[0m",
      "\u001b[0;31mTypeError\u001b[0m                                 Traceback (most recent call last)",
      "\u001b[1;32m/Users/joerg/repos/braz/trash.ipynb Cell 10\u001b[0m in \u001b[0;36m7\n\u001b[1;32m      <a href='vscode-notebook-cell:/Users/joerg/repos/braz/trash.ipynb#X12sZmlsZQ%3D%3D?line=4'>5</a>\u001b[0m site_url \u001b[39m=\u001b[39m \u001b[39m'\u001b[39m\u001b[39mhttps://pics-x.com/gallery/329162/rock-hard-for-her-tits-porn-world/\u001b[39m\u001b[39m'\u001b[39m\n\u001b[1;32m      <a href='vscode-notebook-cell:/Users/joerg/repos/braz/trash.ipynb#X12sZmlsZQ%3D%3D?line=5'>6</a>\u001b[0m source \u001b[39m=\u001b[39m requests\u001b[39m.\u001b[39mget(site_url)\n\u001b[0;32m----> <a href='vscode-notebook-cell:/Users/joerg/repos/braz/trash.ipynb#X12sZmlsZQ%3D%3D?line=6'>7</a>\u001b[0m doc \u001b[39m=\u001b[39m BeautifulSoup(page, \u001b[39m\"\u001b[39;49m\u001b[39mhtml.parser\u001b[39;49m\u001b[39m\"\u001b[39;49m)\n\u001b[1;32m      <a href='vscode-notebook-cell:/Users/joerg/repos/braz/trash.ipynb#X12sZmlsZQ%3D%3D?line=7'>8</a>\u001b[0m page \u001b[39m=\u001b[39m source\u001b[39m.\u001b[39mtext\n",
      "File \u001b[0;32m~/opt/anaconda3/envs/pyside2_dev/lib/python3.10/site-packages/bs4/__init__.py:313\u001b[0m, in \u001b[0;36mBeautifulSoup.__init__\u001b[0;34m(self, markup, features, builder, parse_only, from_encoding, exclude_encodings, element_classes, **kwargs)\u001b[0m\n\u001b[1;32m    311\u001b[0m \u001b[39mif\u001b[39;00m \u001b[39mhasattr\u001b[39m(markup, \u001b[39m'\u001b[39m\u001b[39mread\u001b[39m\u001b[39m'\u001b[39m):        \u001b[39m# It's a file-type object.\u001b[39;00m\n\u001b[1;32m    312\u001b[0m     markup \u001b[39m=\u001b[39m markup\u001b[39m.\u001b[39mread()\n\u001b[0;32m--> 313\u001b[0m \u001b[39melif\u001b[39;00m \u001b[39mlen\u001b[39;49m(markup) \u001b[39m<\u001b[39m\u001b[39m=\u001b[39m \u001b[39m256\u001b[39m \u001b[39mand\u001b[39;00m (\n\u001b[1;32m    314\u001b[0m         (\u001b[39misinstance\u001b[39m(markup, \u001b[39mbytes\u001b[39m) \u001b[39mand\u001b[39;00m \u001b[39mnot\u001b[39;00m \u001b[39mb\u001b[39m\u001b[39m'\u001b[39m\u001b[39m<\u001b[39m\u001b[39m'\u001b[39m \u001b[39min\u001b[39;00m markup)\n\u001b[1;32m    315\u001b[0m         \u001b[39mor\u001b[39;00m (\u001b[39misinstance\u001b[39m(markup, \u001b[39mstr\u001b[39m) \u001b[39mand\u001b[39;00m \u001b[39mnot\u001b[39;00m \u001b[39m'\u001b[39m\u001b[39m<\u001b[39m\u001b[39m'\u001b[39m \u001b[39min\u001b[39;00m markup)\n\u001b[1;32m    316\u001b[0m ):\n\u001b[1;32m    317\u001b[0m     \u001b[39m# Issue warnings for a couple beginner problems\u001b[39;00m\n\u001b[1;32m    318\u001b[0m     \u001b[39m# involving passing non-markup to Beautiful Soup.\u001b[39;00m\n\u001b[1;32m    319\u001b[0m     \u001b[39m# Beautiful Soup will still parse the input as markup,\u001b[39;00m\n\u001b[1;32m    320\u001b[0m     \u001b[39m# since that is sometimes the intended behavior.\u001b[39;00m\n\u001b[1;32m    321\u001b[0m     \u001b[39mif\u001b[39;00m \u001b[39mnot\u001b[39;00m \u001b[39mself\u001b[39m\u001b[39m.\u001b[39m_markup_is_url(markup):\n\u001b[1;32m    322\u001b[0m         \u001b[39mself\u001b[39m\u001b[39m.\u001b[39m_markup_resembles_filename(markup)                \n",
      "\u001b[0;31mTypeError\u001b[0m: object of type 'Response' has no len()"
     ]
    }
   ],
   "source": [
    "import requests\n",
    "from bs4 import BeautifulSoup\n",
    "import pathlib\n",
    "import urllib\n",
    "site_url = 'https://pics-x.com/gallery/329162/rock-hard-for-her-tits-porn-world/'\n",
    "source = requests.get(site_url)\n",
    "doc = BeautifulSoup(page, \"html.parser\")\n",
    "page = source.text"
   ]
  },
  {
   "cell_type": "code",
   "execution_count": 22,
   "metadata": {},
   "outputs": [],
   "source": [
    "from bs4 import BeautifulSoup\n",
    "import requests\n",
    "import csv\n",
    "import re\n",
    "import urllib\n",
    "\n",
    "url = \"https://pics-x.com/gallery/329162/rock-hard-for-her-tits-porn-world/\"\n",
    "html = requests.get(url)\n",
    "soup = BeautifulSoup(html.text, 'html.parser')\n",
    "# print(soup.prettify())\n",
    "images = soup.find_all('div', {'class': 'image-container'})\n",
    "lst_images = []\n",
    "for image in images:\n",
    "    # src = image.attrs[\"src\"]\n",
    "    # print(src)\n",
    "    single_image = image.find('img')\n",
    "\n",
    "    lst_images.append(single_image.attrs[\"src\"])\n",
    "    # print(single_image.attrs[\"src\"])\n",
    "\n",
    "\n",
    "\n",
    "          "
   ]
  },
  {
   "cell_type": "code",
   "execution_count": 26,
   "metadata": {},
   "outputs": [
    {
     "data": {
      "text/plain": [
       "'https://storage.pics-x.com/gallery-images/329162/0002.jpg?md5=b2e55a2b318f0aa467865ec12d824e63'"
      ]
     },
     "execution_count": 26,
     "metadata": {},
     "output_type": "execute_result"
    }
   ],
   "source": [
    "lst_images[1]"
   ]
  },
  {
   "cell_type": "code",
   "execution_count": 27,
   "metadata": {},
   "outputs": [],
   "source": [
    "\n",
    "img_data = requests.get(lst_images[1]).content\n",
    "with open('image_name.jpg', 'wb') as handler:\n",
    "    handler.write(img_data)\n",
    "# with open(file_name,'wb') as f:\n",
    "#         shutil.copyfileobj(res.raw, f)\n",
    "#     print('Image sucessfully Downloaded: ',file_name)\n",
    "# else:\n",
    "#     print('Image Couldn\\'t be retrieved')"
   ]
  },
  {
   "cell_type": "code",
   "execution_count": 3,
   "metadata": {},
   "outputs": [],
   "source": [
    "from pathlib import Path\n",
    "themes_folder = Path(r\"/Users/joerg/opt/anaconda3/envs/pyside2_dev/lib/python3.10/site-packages/qt_material/themes\")\n",
    "\n",
    "lst_themes = []\n",
    "for single_theme in themes_folder.iterdir():\n",
    "    lst_themes.append(single_theme.name)\n",
    "    \n",
    "    "
   ]
  },
  {
   "cell_type": "code",
   "execution_count": 4,
   "metadata": {},
   "outputs": [
    {
     "name": "stdout",
     "output_type": "stream",
     "text": [
      "['dark_amber.xml', 'light_lightgreen.xml', 'light_pink.xml', 'light_blue.xml', 'light_purple.xml', 'light_purple_500.xml', 'light_cyan_500.xml', 'dark_teal.xml', 'light_teal_500.xml', 'dark_yellow.xml', 'light_red_500.xml', 'light_teal.xml', 'dark_blue.xml', 'dark_pink.xml', 'my_dark_amber.xml', 'light_orange.xml', 'light_lightgreen_500.xml', 'light_red.xml', 'my_theme.xml', 'light_cyan.xml', 'dark_lightgreen.xml', 'light_yellow.xml', 'light_pink_500.xml', 'dark_red.xml', 'light_blue_500.xml', 'dark_medical.xml', 'dark_cyan.xml', 'light_amber.xml', 'dark_purple.xml']\n"
     ]
    }
   ],
   "source": [
    "print(lst_themes)"
   ]
  },
  {
   "cell_type": "code",
   "execution_count": null,
   "metadata": {},
   "outputs": [],
   "source": []
  }
 ],
 "metadata": {
  "kernelspec": {
   "display_name": "Python 3.10.6 ('pyside2_dev')",
   "language": "python",
   "name": "python3"
  },
  "language_info": {
   "codemirror_mode": {
    "name": "ipython",
    "version": 3
   },
   "file_extension": ".py",
   "mimetype": "text/x-python",
   "name": "python",
   "nbconvert_exporter": "python",
   "pygments_lexer": "ipython3",
   "version": "3.10.6"
  },
  "orig_nbformat": 4,
  "vscode": {
   "interpreter": {
    "hash": "52867ee1f7e3b1f93523cdfe2d5d91084b6fa11775e78fca1f22649f7620b014"
   }
  }
 },
 "nbformat": 4,
 "nbformat_minor": 2
}
