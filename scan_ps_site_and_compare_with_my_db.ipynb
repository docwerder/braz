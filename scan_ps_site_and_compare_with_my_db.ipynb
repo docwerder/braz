{
 "cells": [
  {
   "cell_type": "markdown",
   "metadata": {},
   "source": [
    "### Script for scanning the BRAZ-Site of the chosen PS and compare the titles with my bra_db"
   ]
  },
  {
   "cell_type": "code",
   "execution_count": null,
   "metadata": {},
   "outputs": [],
   "source": [
    "import pandas as pd\n",
    "import math\n",
    "import sys\n",
    "#from IPython.core.display import display, HTML\n",
    "#display(HTML(\"<style>.container {width:90% !important; }</style>\"))\n",
    "sys.path.append('/Users/joerg/repos/braz')\n",
    "from utilities_functions import scan_func\n",
    "# To run all commands within one cell:\n",
    "#from IPython.core.interactiveshell import InteractiveShell\n",
    "#InteractiveShell.ast_node_interactivity = \"all\"\n",
    "pd.set_option('display.max_rows', None)"
   ]
  },
  {
   "cell_type": "markdown",
   "metadata": {},
   "source": [
    "## List of TOP_PS"
   ]
  },
  {
   "cell_type": "code",
   "execution_count": null,
   "metadata": {},
   "outputs": [],
   "source": [
    "top50_ps = ['Abbey Brooks', 'Abbie Cat', 'Alena Croft', 'Aletta Ocean', 'Alexis Ford', \n",
    "            'Angel Wicky', 'Angela White', 'Ava Addams', 'Bridgette B', 'Britney Shannon',\n",
    "            'Carmella Bing', 'Cathy Heaven', 'Chessie Kay', 'Claire Dames',  'Corinna Blake',\n",
    "            'Dee Williams', 'Donna Bell', 'Ella Hughes', 'Emma Butt', 'Eva Karera', 'Eva Notty', \n",
    "            'Harmony Reigns', 'Holly Halston', 'Jasmine Jae', 'Jayden Jaymes', 'Jenna Presley',\n",
    "            'Jessica Moore', 'Julia Ann', 'Katie Kox', 'Kelly Divine', 'Kendra Lust', 'Kiara Mia',\n",
    "            'Krissy Lynn', 'Leigh Darby', 'Madison Ivy', 'Marsha May', 'Memphis Monroe', 'Nicolette Shea',\n",
    "            'Nikki Benz', 'Noelle Easton', 'Peta Jensen', 'Rebeca Linares', 'Rebecca More', 'Roberta Gemma',\n",
    "            'Romi Rain', 'Sensual Jane', 'Shyla Stylez', 'Sienna West', 'Sophie Dee', 'Stella Cox', \n",
    "            'Syren De Mer', 'Tarra White', 'Tory Lane', 'Velicity Von', 'Veronica Avluv', 'Yasmin Scott']\n",
    "print('Quantity of my TOP PS: ', str(len(top50_ps)))"
   ]
  },
  {
   "cell_type": "markdown",
   "metadata": {},
   "source": [
    "## Chosen_PS: "
   ]
  },
  {
   "cell_type": "markdown",
   "metadata": {},
   "source": [
    "## Abbey Brooks --> finished!"
   ]
  },
  {
   "cell_type": "markdown",
   "metadata": {},
   "source": [
    "## Abbie Cat --> finished!"
   ]
  },
  {
   "cell_type": "code",
   "execution_count": null,
   "metadata": {},
   "outputs": [],
   "source": [
    "\n",
    "chosen_model_abbie = ['https://www.brazzers.com/videos/models/1885/abbie-cat/page/']\n",
    "max_page_len_of_sites_ac = [1]"
   ]
  },
  {
   "cell_type": "markdown",
   "metadata": {},
   "source": [
    "### Scan the PS-Site"
   ]
  },
  {
   "cell_type": "code",
   "execution_count": null,
   "metadata": {},
   "outputs": [],
   "source": [
    "page_content_db = pd.DataFrame()\n",
    "page_number_db = {}\n",
    "page_content_tmp = {}\n",
    "page_columns = []\n",
    "ps1_db = pd.DataFrame()\n",
    "ps2_db = {}\n",
    "title_db = {}\n",
    "db_actual_site_name = pd.DataFrame()\n",
    "db_final_tmp = pd.DataFrame()\n",
    "db_actual_site_name_sliced = pd.DataFrame()\n",
    "\n",
    "# Determination of the maximum number of pages\n",
    "# for lf_root in db_sites[12:13]:\n",
    "#     db_page_tmp_2 = scan_func(lf_root)\n",
    "#     db_page_tmp_2 = [i for i in db_page_tmp if i.startswith('/videos/site/')]\n",
    "#         print('db_page_tmp: ', db_page_tmp_2)\n",
    "\n",
    "        \n",
    "        \n",
    "for root_site, number in zip(chosen_model_abbie_cat[:], max_page_len_of_sites_ac):\n",
    "    print('max..' , number)\n",
    "  \n",
    "\n",
    "    # max_page_number = math.ceil(int(number) / 24)\n",
    "       \n",
    "    for page_nr in range(1, int(number) + 1):\n",
    "        print('page_nr: ', page_nr)\n",
    "        actual_site = root_site + str(page_nr)\n",
    "        site_name = actual_site.split('/')[-5].replace('-', ' ').title()\n",
    "            \n",
    "        #print('site_name: ', site_name)\n",
    "        db_page_tmp = scan_func(actual_site)\n",
    "        #print('db_page_tmp: ', db_page_tmp)\n",
    "        db_page_video = [i for i in db_page_tmp if i.startswith('/video/')]\n",
    "        \n",
    "        db_page_ps = [i for i in db_page_tmp if i.startswith('/pornstar/')]\n",
    "        ps1 = [h.split('/')[-1].replace('-','_') for h in db_page_ps[::2]]\n",
    "        ps2 = [h.split('/')[-1].replace('-', '_') for h in db_page_ps[1::2]]\n",
    "        \n",
    "        title = [h.split('/')[-1].replace('-', '_') for h in db_page_video[::2]]\n",
    "        \n",
    "        site_tmp = [site_name]\n",
    "        \n",
    "        site = list(site_tmp) * 24\n",
    "        \n",
    "        \n",
    "        \n",
    "        ps1_db = pd.DataFrame(ps1)\n",
    "        ps2_db = pd.DataFrame(ps2)\n",
    "        title_db = pd.DataFrame(title)\n",
    "        site_db = pd.DataFrame(site)\n",
    "        #print('Site_db: ', site_db)\n",
    "        db_all_tmp = pd.concat([site_db, ps1_db, ps2_db, title_db], axis=1)\n",
    "        custom_cols = ['Site', 'PS1', 'PS2', 'Title']\n",
    "        #print('db_all_tmp: ', db_all_tmp)\n",
    "        db_all_tmp.columns = custom_cols\n",
    "        db_actual_site_name = pd.concat([db_actual_site_name, db_all_tmp])\n",
    "        #print('db_all_tmp: ', db_all_tmp)\n",
    "        #print('db_actual_site_name:\\n ', db_actual_site_name)\n",
    "\n",
    "    df_tmp = db_actual_site_name\n",
    "    #print('db_actual_site_name: ', db_actual_site_name)\n",
    "    \n",
    "df_ac_tmp = db_actual_site_name\n",
    "abbie_cat_df = df_ac_tmp[df_ac_tmp['PS1'].notna()]"
   ]
  },
  {
   "cell_type": "markdown",
   "metadata": {},
   "source": [
    "### Get the df of the scanned PS-site"
   ]
  },
  {
   "cell_type": "code",
   "execution_count": null,
   "metadata": {},
   "outputs": [],
   "source": [
    "abbie_cat_df"
   ]
  },
  {
   "cell_type": "markdown",
   "metadata": {},
   "source": [
    "### Import the (current) csv-file for comparison, which titles are already listed and which not  \n",
    "### This has to be adjusted by hand!"
   ]
  },
  {
   "cell_type": "code",
   "execution_count": null,
   "metadata": {},
   "outputs": [],
   "source": [
    "df_cur_final = pd.read_csv('df_final_my_db_10_08_22.csv', index_col=[0])"
   ]
  },
  {
   "cell_type": "markdown",
   "metadata": {},
   "source": [
    "### Get the current titles of the chosen PS in the df_cur_final"
   ]
  },
  {
   "cell_type": "code",
   "execution_count": null,
   "metadata": {},
   "outputs": [],
   "source": [
    "chosen_ps = 'Abbie Cat'\n",
    "current_titles_in_df_cur_final = df_cur_final[df_cur_final['PS1'] == chosen_ps][['Title']]"
   ]
  },
  {
   "cell_type": "code",
   "execution_count": null,
   "metadata": {},
   "outputs": [],
   "source": [
    "current_titles_in_df_cur_final"
   ]
  },
  {
   "cell_type": "markdown",
   "metadata": {},
   "source": [
    "### Get the list of the titles from the chosen PS"
   ]
  },
  {
   "cell_type": "code",
   "execution_count": null,
   "metadata": {},
   "outputs": [],
   "source": [
    "abbie_cat_df['Title']"
   ]
  },
  {
   "cell_type": "markdown",
   "metadata": {},
   "source": [
    "### Define the search function to find the titles "
   ]
  },
  {
   "cell_type": "code",
   "execution_count": null,
   "metadata": {},
   "outputs": [],
   "source": [
    "def search(dataFrame, search_string):\n",
    "    mask = (dataFrame.applymap(lambda x: isinstance(x, str) and search_string in x)).any(1)\n",
    "    #print('mask: ', mask)\n",
    "    return dataFrame[mask]"
   ]
  },
  {
   "cell_type": "markdown",
   "metadata": {},
   "source": [
    "### The command below are made by hand, so see, which titles are inside the df_cur_final!"
   ]
  },
  {
   "cell_type": "code",
   "execution_count": null,
   "metadata": {},
   "outputs": [],
   "source": [
    "search(current_titles_in_df_cur_final, 'womens')"
   ]
  },
  {
   "cell_type": "markdown",
   "metadata": {},
   "source": [
    "***"
   ]
  },
  {
   "cell_type": "markdown",
   "metadata": {},
   "source": [
    "## Alena Croft --> finished"
   ]
  },
  {
   "cell_type": "code",
   "execution_count": null,
   "metadata": {},
   "outputs": [],
   "source": [
    "chosen_model_alena_croft = ['https://www.brazzers.com/videos/models/4005/alena-croft/page/']\n",
    "max_page_len_of_sites_alc = [2]"
   ]
  },
  {
   "cell_type": "code",
   "execution_count": null,
   "metadata": {},
   "outputs": [],
   "source": [
    "page_content_db = pd.DataFrame()\n",
    "page_number_db = {}\n",
    "page_content_tmp = {}\n",
    "page_columns = []\n",
    "ps1_db = pd.DataFrame()\n",
    "ps2_db = {}\n",
    "title_db = {}\n",
    "db_actual_site_name = pd.DataFrame()\n",
    "db_final_tmp = pd.DataFrame()\n",
    "db_actual_site_name_sliced = pd.DataFrame()\n",
    "\n",
    "# Determination of the maximum number of pages\n",
    "# for lf_root in db_sites[12:13]:\n",
    "#     db_page_tmp_2 = scan_func(lf_root)\n",
    "#     db_page_tmp_2 = [i for i in db_page_tmp if i.startswith('/videos/site/')]\n",
    "#         print('db_page_tmp: ', db_page_tmp_2)\n",
    "\n",
    "        \n",
    "        \n",
    "for root_site, number in zip(chosen_model_alena_croft[:], max_page_len_of_sites_alc):\n",
    "    print('max..' , number)\n",
    "  \n",
    "\n",
    "    # max_page_number = math.ceil(int(number) / 24)\n",
    "       \n",
    "    for page_nr in range(1, int(number) + 1):\n",
    "        print('page_nr: ', page_nr)\n",
    "        actual_site = root_site + str(page_nr)\n",
    "        site_name = actual_site.split('/')[-5].replace('-', ' ').title()\n",
    "            \n",
    "        #print('site_name: ', site_name)\n",
    "        db_page_tmp = scan_func(actual_site)\n",
    "        #print('db_page_tmp: ', db_page_tmp)\n",
    "        db_page_video = [i for i in db_page_tmp if i.startswith('/video/')]\n",
    "        \n",
    "        db_page_ps = [i for i in db_page_tmp if i.startswith('/pornstar/')]\n",
    "        ps1 = [h.split('/')[-1].replace('-','_') for h in db_page_ps[::2]]\n",
    "        ps2 = [h.split('/')[-1].replace('-', '_') for h in db_page_ps[1::2]]\n",
    "        \n",
    "        title = [h.split('/')[-1].replace('-', '_') for h in db_page_video[::2]]\n",
    "        \n",
    "        site_tmp = [site_name]\n",
    "        \n",
    "        site = list(site_tmp) * 24\n",
    "        \n",
    "        \n",
    "        \n",
    "        ps1_db = pd.DataFrame(ps1)\n",
    "        ps2_db = pd.DataFrame(ps2)\n",
    "        title_db = pd.DataFrame(title)\n",
    "        site_db = pd.DataFrame(site)\n",
    "        #print('Site_db: ', site_db)\n",
    "        db_all_tmp = pd.concat([site_db, ps1_db, ps2_db, title_db], axis=1)\n",
    "        custom_cols = ['Site', 'PS1', 'PS2', 'Title']\n",
    "        #print('db_all_tmp: ', db_all_tmp)\n",
    "        db_all_tmp.columns = custom_cols\n",
    "        db_actual_site_name = pd.concat([db_actual_site_name, db_all_tmp])\n",
    "        #print('db_all_tmp: ', db_all_tmp)\n",
    "        #print('db_actual_site_name:\\n ', db_actual_site_name)\n",
    "\n",
    "    df_tmp = db_actual_site_name\n",
    "    #print('db_actual_site_name: ', db_actual_site_name)\n",
    "    \n",
    "df_alc_tmp = db_actual_site_name\n",
    "alena_croft_df = df_alc_tmp[df_alc_tmp['PS1'].notna()]"
   ]
  },
  {
   "cell_type": "code",
   "execution_count": null,
   "metadata": {},
   "outputs": [],
   "source": [
    "alena_croft_df"
   ]
  },
  {
   "cell_type": "code",
   "execution_count": null,
   "metadata": {},
   "outputs": [],
   "source": [
    "df_cur_final = pd.read_csv('df_final_my_db_10_08_22.csv', index_col=[0])"
   ]
  },
  {
   "cell_type": "markdown",
   "metadata": {},
   "source": [
    "### Get the current titles of chosen PS within df_cur_final"
   ]
  },
  {
   "cell_type": "code",
   "execution_count": null,
   "metadata": {},
   "outputs": [],
   "source": [
    "chosen_ps = 'Alena Croft'\n",
    "current_titles_in_df_cur_final = df_cur_final[df_cur_final['PS1'] == chosen_ps][['Title']]"
   ]
  },
  {
   "cell_type": "code",
   "execution_count": null,
   "metadata": {},
   "outputs": [],
   "source": [
    "alena_croft_df"
   ]
  },
  {
   "cell_type": "code",
   "execution_count": null,
   "metadata": {},
   "outputs": [],
   "source": [
    "current_titles_in_df_cur_final"
   ]
  },
  {
   "cell_type": "markdown",
   "metadata": {},
   "source": [
    "### Try to loop through the complete title-list of the choosen ps and search for the titles within the df_cur_final"
   ]
  },
  {
   "cell_type": "code",
   "execution_count": null,
   "metadata": {},
   "outputs": [],
   "source": [
    "def search_titles(dataFrame, search_string):\n",
    "    mask = (dataFrame.applymap(lambda x: isinstance(x, str) and search_string in x)).any(1)\n",
    "    #print('mask: ', dataFrame[mask]['Title'])\n",
    "    return dataFrame[mask]['Title']"
   ]
  },
  {
   "cell_type": "code",
   "execution_count": null,
   "metadata": {},
   "outputs": [],
   "source": [
    "zz_db = []\n",
    "zz = 0\n",
    "missing_titles = []\n",
    "for single_title in alena_croft_df['Title']:\n",
    "    found_titles = search_titles(current_titles_in_df_cur_final, single_title)\n",
    "    if found_titles.empty:\n",
    "        missing_titles.append(single_title)\n",
    "    sttr = f\"nr: {zz}  Title: {single_title} DF empty: {found_titles.empty}\"\n",
    "    print(sttr)\n",
    "    \n",
    "    zz = zz+1"
   ]
  },
  {
   "cell_type": "code",
   "execution_count": null,
   "metadata": {},
   "outputs": [],
   "source": [
    "missing_titles"
   ]
  },
  {
   "cell_type": "code",
   "execution_count": null,
   "metadata": {},
   "outputs": [],
   "source": [
    "current_titles_in_df_cur_final"
   ]
  },
  {
   "cell_type": "code",
   "execution_count": null,
   "metadata": {},
   "outputs": [],
   "source": [
    "search(current_titles_in_df_cur_final, 'busy')"
   ]
  },
  {
   "cell_type": "markdown",
   "metadata": {},
   "source": [
    "***"
   ]
  },
  {
   "cell_type": "markdown",
   "metadata": {},
   "source": [
    "## Aletta Ocean --> finished (temporary)"
   ]
  },
  {
   "cell_type": "code",
   "execution_count": null,
   "metadata": {},
   "outputs": [],
   "source": [
    "actual_ps = 'Aletta Ocean'\n",
    "chosen_model_brazz_site = ['https://www.brazzers.com/videos/models/2167/aletta-ocean/page/']\n",
    "max_page_len_of_chosen_model = [2]"
   ]
  },
  {
   "cell_type": "code",
   "execution_count": null,
   "metadata": {},
   "outputs": [],
   "source": [
    "page_content_db = pd.DataFrame()\n",
    "page_number_db = {}\n",
    "page_content_tmp = {}\n",
    "page_columns = []\n",
    "ps1_db = pd.DataFrame()\n",
    "ps2_db = {}\n",
    "title_db = {}\n",
    "db_actual_site_name = pd.DataFrame()\n",
    "db_final_tmp = pd.DataFrame()\n",
    "db_actual_site_name_sliced = pd.DataFrame()\n",
    "\n",
    "       \n",
    "        \n",
    "for root_site, number in zip(chosen_model_brazz_site[:], max_page_len_of_chosen_model):\n",
    "    print('max..' , number)\n",
    "  \n",
    "    # max_page_number = math.ceil(int(number) / 24)\n",
    "       \n",
    "    for page_nr in range(1, int(number) + 1):\n",
    "        print('page_nr: ', page_nr)\n",
    "        actual_site = root_site + str(page_nr)\n",
    "        site_name = actual_site.split('/')[-5].replace('-', ' ').title()\n",
    "            \n",
    "        #print('site_name: ', site_name)\n",
    "        db_page_tmp = scan_func(actual_site)\n",
    "        #print('db_page_tmp: ', db_page_tmp)\n",
    "        db_page_video = [i for i in db_page_tmp if i.startswith('/video/')]\n",
    "        \n",
    "        db_page_ps = [i for i in db_page_tmp if i.startswith('/pornstar/')]\n",
    "        ps1 = [h.split('/')[-1].replace('-','_') for h in db_page_ps[::2]]\n",
    "        ps2 = [h.split('/')[-1].replace('-', '_') for h in db_page_ps[1::2]]\n",
    "        \n",
    "        title = [h.split('/')[-1].replace('-', '_') for h in db_page_video[::2]]\n",
    "        \n",
    "        site_tmp = [site_name]\n",
    "        \n",
    "        site = list(site_tmp) * 24\n",
    "                        \n",
    "        ps1_db = pd.DataFrame(ps1)\n",
    "        ps2_db = pd.DataFrame(ps2)\n",
    "        title_db = pd.DataFrame(title)\n",
    "        site_db = pd.DataFrame(site)\n",
    "        #print('Site_db: ', site_db)\n",
    "        db_all_tmp = pd.concat([site_db, ps1_db, ps2_db, title_db], axis=1)\n",
    "        custom_cols = ['Site', 'PS1', 'PS2', 'Title']\n",
    "        #print('db_all_tmp: ', db_all_tmp)\n",
    "        db_all_tmp.columns = custom_cols\n",
    "        db_actual_site_name = pd.concat([db_actual_site_name, db_all_tmp])\n",
    "        #print('db_all_tmp: ', db_all_tmp)\n",
    "        #print('db_actual_site_name:\\n ', db_actual_site_name)\n",
    "\n",
    "    df_tmp = db_actual_site_name\n",
    "    #print('db_actual_site_name: ', db_actual_site_name)\n",
    "    \n",
    "df_chosen_model_tmp = db_actual_site_name\n",
    "chosen_model_df = df_chosen_model_tmp[df_chosen_model_tmp['PS1'].notna()]"
   ]
  },
  {
   "cell_type": "code",
   "execution_count": null,
   "metadata": {},
   "outputs": [],
   "source": [
    "len(chosen_model_df)"
   ]
  },
  {
   "cell_type": "code",
   "execution_count": null,
   "metadata": {},
   "outputs": [],
   "source": [
    "df_curent_final = pd.read_csv('df_final_my_db_12_08_22.csv', index_col=[0])"
   ]
  },
  {
   "cell_type": "markdown",
   "metadata": {},
   "source": [
    "#### Get the current titles of the chosen PS within the df_current_final df"
   ]
  },
  {
   "cell_type": "code",
   "execution_count": null,
   "metadata": {},
   "outputs": [],
   "source": [
    "current_titles_in_df_curent_final = df_curent_final[df_curent_final['PS1'] == actual_ps][['Title']]"
   ]
  },
  {
   "cell_type": "code",
   "execution_count": null,
   "metadata": {},
   "outputs": [],
   "source": [
    "len(current_titles_in_df_curent_final)"
   ]
  },
  {
   "cell_type": "markdown",
   "metadata": {},
   "source": [
    "#### Try to loop through title_list of chosen PS to find missing titles.."
   ]
  },
  {
   "cell_type": "code",
   "execution_count": null,
   "metadata": {},
   "outputs": [],
   "source": [
    "def search_titles(dataFrame, search_string):\n",
    "    mask = (dataFrame.applymap(lambda x: isinstance(x, str) and search_string in x)).any(1)\n",
    "    #print('mask: ', dataFrame[mask]['Title'])\n",
    "    return dataFrame[mask]['Title']"
   ]
  },
  {
   "cell_type": "code",
   "execution_count": null,
   "metadata": {},
   "outputs": [],
   "source": [
    "zz = 0\n",
    "missing_titles = []\n",
    "for single_title in chosen_model_df['Title']:\n",
    "    found_titles = search_titles(current_titles_in_df_curent_final, single_title)\n",
    "    if found_titles.empty:\n",
    "        missing_titles.append(single_title)\n",
    "    sttr = f\"nr: {zz}  Title: {single_title} DF empty: {found_titles.empty}\"\n",
    "    #print(sttr)\n",
    "    zz = zz+1"
   ]
  },
  {
   "cell_type": "code",
   "execution_count": null,
   "metadata": {},
   "outputs": [],
   "source": [
    "missing_titles"
   ]
  },
  {
   "cell_type": "markdown",
   "metadata": {},
   "source": [
    "#### Specify the location of the missing titles."
   ]
  },
  {
   "cell_type": "code",
   "execution_count": null,
   "metadata": {},
   "outputs": [],
   "source": [
    "search_string = 'car'\n",
    "search_titles(current_titles_in_df_curent_final, search_string)"
   ]
  },
  {
   "cell_type": "code",
   "execution_count": null,
   "metadata": {},
   "outputs": [],
   "source": [
    "search_titles(current_titles_in_df_curent_final, search_string).index[0].item()"
   ]
  },
  {
   "cell_type": "code",
   "execution_count": null,
   "metadata": {},
   "outputs": [],
   "source": [
    "df_curent_final.loc[search_titles(current_titles_in_df_curent_final, search_string).index[0].item()]"
   ]
  },
  {
   "cell_type": "markdown",
   "metadata": {},
   "source": [
    "## Alexis Ford --> finished (temporary)"
   ]
  },
  {
   "cell_type": "code",
   "execution_count": null,
   "metadata": {},
   "outputs": [],
   "source": [
    "actual_ps = 'Alexis Ford'\n",
    "chosen_model_brazz_site = ['https://www.brazzers.com/videos/models/1321/alexis-ford/page/']\n",
    "max_page_len_of_chosen_model = [1]"
   ]
  },
  {
   "cell_type": "code",
   "execution_count": null,
   "metadata": {},
   "outputs": [],
   "source": [
    "page_content_db = pd.DataFrame()\n",
    "page_number_db = {}\n",
    "page_content_tmp = {}\n",
    "page_columns = []\n",
    "ps1_db = pd.DataFrame()\n",
    "ps2_db = {}\n",
    "title_db = {}\n",
    "db_actual_site_name = pd.DataFrame()\n",
    "db_final_tmp = pd.DataFrame()\n",
    "db_actual_site_name_sliced = pd.DataFrame()\n",
    "\n",
    "       \n",
    "        \n",
    "for root_site, number in zip(chosen_model_brazz_site[:], max_page_len_of_chosen_model):\n",
    "    print('max..' , number)\n",
    "  \n",
    "    # max_page_number = math.ceil(int(number) / 24)\n",
    "       \n",
    "    for page_nr in range(1, int(number) + 1):\n",
    "        print('page_nr: ', page_nr)\n",
    "        actual_site = root_site + str(page_nr)\n",
    "        site_name = actual_site.split('/')[-5].replace('-', ' ').title()\n",
    "            \n",
    "        #print('site_name: ', site_name)\n",
    "        db_page_tmp = scan_func(actual_site)\n",
    "        #print('db_page_tmp: ', db_page_tmp)\n",
    "        db_page_video = [i for i in db_page_tmp if i.startswith('/video/')]\n",
    "        \n",
    "        db_page_ps = [i for i in db_page_tmp if i.startswith('/pornstar/')]\n",
    "        ps1 = [h.split('/')[-1].replace('-','_') for h in db_page_ps[::2]]\n",
    "        ps2 = [h.split('/')[-1].replace('-', '_') for h in db_page_ps[1::2]]\n",
    "        \n",
    "        title = [h.split('/')[-1].replace('-', '_') for h in db_page_video[::2]]\n",
    "        \n",
    "        site_tmp = [site_name]\n",
    "        \n",
    "        site = list(site_tmp) * 24\n",
    "                        \n",
    "        ps1_db = pd.DataFrame(ps1)\n",
    "        ps2_db = pd.DataFrame(ps2)\n",
    "        title_db = pd.DataFrame(title)\n",
    "        site_db = pd.DataFrame(site)\n",
    "        #print('Site_db: ', site_db)\n",
    "        db_all_tmp = pd.concat([site_db, ps1_db, ps2_db, title_db], axis=1)\n",
    "        custom_cols = ['Site', 'PS1', 'PS2', 'Title']\n",
    "        #print('db_all_tmp: ', db_all_tmp)\n",
    "        db_all_tmp.columns = custom_cols\n",
    "        db_actual_site_name = pd.concat([db_actual_site_name, db_all_tmp])\n",
    "        #print('db_all_tmp: ', db_all_tmp)\n",
    "        #print('db_actual_site_name:\\n ', db_actual_site_name)\n",
    "\n",
    "    df_tmp = db_actual_site_name\n",
    "    #print('db_actual_site_name: ', db_actual_site_name)\n",
    "    \n",
    "df_chosen_model_tmp = db_actual_site_name\n",
    "chosen_model_df = df_chosen_model_tmp[df_chosen_model_tmp['PS1'].notna()]\n",
    "\n",
    "print('count of titles: ', len(chosen_model_df))"
   ]
  },
  {
   "cell_type": "code",
   "execution_count": null,
   "metadata": {},
   "outputs": [],
   "source": [
    "def search_titles(dataFrame, search_string):\n",
    "    mask = (dataFrame.applymap(lambda x: isinstance(x, str) and search_string in x)).any(1)\n",
    "    #print('mask: ', dataFrame[mask]['Title'])\n",
    "    return dataFrame[mask]['Title']"
   ]
  },
  {
   "cell_type": "code",
   "execution_count": null,
   "metadata": {},
   "outputs": [],
   "source": [
    "df_curent_final = pd.read_csv('df_final_my_db_16_08_22.csv', index_col=[0])\n",
    "current_titles_in_df_curent_final = df_curent_final[df_curent_final['PS1'] == actual_ps][['Title']]"
   ]
  },
  {
   "cell_type": "code",
   "execution_count": null,
   "metadata": {},
   "outputs": [],
   "source": [
    "len(current_titles_in_df_curent_final)"
   ]
  },
  {
   "cell_type": "code",
   "execution_count": null,
   "metadata": {},
   "outputs": [],
   "source": [
    "zz = 0\n",
    "missing_titles = []\n",
    "for single_title in chosen_model_df['Title']:\n",
    "    found_titles = search_titles(current_titles_in_df_curent_final, single_title)\n",
    "    if found_titles.empty:\n",
    "        missing_titles.append(single_title)\n",
    "    sttr = f\"nr: {zz}  Title: {single_title} DF empty: {found_titles.empty}\"\n",
    "    #print(sttr)\n",
    "    zz = zz+1"
   ]
  },
  {
   "cell_type": "code",
   "execution_count": null,
   "metadata": {},
   "outputs": [],
   "source": [
    "missing_titles"
   ]
  },
  {
   "cell_type": "markdown",
   "metadata": {},
   "source": [
    "#### Specify the location of the search"
   ]
  },
  {
   "cell_type": "code",
   "execution_count": null,
   "metadata": {},
   "outputs": [],
   "source": [
    "search_string = 'cheering'\n",
    "search_titles(current_titles_in_df_curent_final, search_string)\n",
    "search_titles(current_titles_in_df_curent_final, search_string).index[0].item()\n",
    "df_curent_final.loc[search_titles(current_titles_in_df_curent_final, search_string).index[0].item()]"
   ]
  },
  {
   "cell_type": "code",
   "execution_count": null,
   "metadata": {},
   "outputs": [],
   "source": []
  },
  {
   "cell_type": "markdown",
   "metadata": {},
   "source": [
    "## Angel Wicky --> finished "
   ]
  },
  {
   "cell_type": "code",
   "execution_count": null,
   "metadata": {},
   "outputs": [],
   "source": [
    "actual_ps = 'Angel Wicky'\n",
    "chosen_model_brazz_site = ['https://www.brazzers.com/videos/models/15995/angel-wicky/page/']\n",
    "max_page_len_of_chosen_model = [1]"
   ]
  },
  {
   "cell_type": "code",
   "execution_count": null,
   "metadata": {},
   "outputs": [],
   "source": [
    "page_content_db = pd.DataFrame()\n",
    "page_number_db = {}\n",
    "page_content_tmp = {}\n",
    "page_columns = []\n",
    "ps1_db = pd.DataFrame()\n",
    "ps2_db = {}\n",
    "title_db = {}\n",
    "db_actual_site_name = pd.DataFrame()\n",
    "db_final_tmp = pd.DataFrame()\n",
    "db_actual_site_name_sliced = pd.DataFrame()\n",
    "\n",
    "       \n",
    "        \n",
    "for root_site, number in zip(chosen_model_brazz_site[:], max_page_len_of_chosen_model):\n",
    "    print('max..' , number)\n",
    "  \n",
    "    # max_page_number = math.ceil(int(number) / 24)\n",
    "       \n",
    "    for page_nr in range(1, int(number) + 1):\n",
    "        print('page_nr: ', page_nr)\n",
    "        actual_site = root_site + str(page_nr)\n",
    "        site_name = actual_site.split('/')[-5].replace('-', ' ').title()\n",
    "            \n",
    "        #print('site_name: ', site_name)\n",
    "        db_page_tmp = scan_func(actual_site)\n",
    "        #print('db_page_tmp: ', db_page_tmp)\n",
    "        db_page_video = [i for i in db_page_tmp if i.startswith('/video/')]\n",
    "        \n",
    "        db_page_ps = [i for i in db_page_tmp if i.startswith('/pornstar/')]\n",
    "        ps1 = [h.split('/')[-1].replace('-','_') for h in db_page_ps[::2]]\n",
    "        ps2 = [h.split('/')[-1].replace('-', '_') for h in db_page_ps[1::2]]\n",
    "        \n",
    "        title = [h.split('/')[-1].replace('-', '_') for h in db_page_video[::2]]\n",
    "        \n",
    "        site_tmp = [site_name]\n",
    "        \n",
    "        site = list(site_tmp) * 24\n",
    "                        \n",
    "        ps1_db = pd.DataFrame(ps1)\n",
    "        ps2_db = pd.DataFrame(ps2)\n",
    "        title_db = pd.DataFrame(title)\n",
    "        site_db = pd.DataFrame(site)\n",
    "        #print('Site_db: ', site_db)\n",
    "        db_all_tmp = pd.concat([site_db, ps1_db, ps2_db, title_db], axis=1)\n",
    "        custom_cols = ['Site', 'PS1', 'PS2', 'Title']\n",
    "        #print('db_all_tmp: ', db_all_tmp)\n",
    "        db_all_tmp.columns = custom_cols\n",
    "        db_actual_site_name = pd.concat([db_actual_site_name, db_all_tmp])\n",
    "        #print('db_all_tmp: ', db_all_tmp)\n",
    "        #print('db_actual_site_name:\\n ', db_actual_site_name)\n",
    "\n",
    "    df_tmp = db_actual_site_name\n",
    "    #print('db_actual_site_name: ', db_actual_site_name)\n",
    "    \n",
    "df_chosen_model_tmp = db_actual_site_name\n",
    "chosen_model_df = df_chosen_model_tmp[df_chosen_model_tmp['PS1'].notna()]\n",
    "\n",
    "print('count of titles: ', len(chosen_model_df))"
   ]
  },
  {
   "cell_type": "code",
   "execution_count": null,
   "metadata": {},
   "outputs": [],
   "source": [
    "def search_titles(dataFrame, search_string):\n",
    "    mask = (dataFrame.applymap(lambda x: isinstance(x, str) and search_string in x)).any(1)\n",
    "    #print('mask: ', dataFrame[mask]['Title'])\n",
    "    return dataFrame[mask]['Title']"
   ]
  },
  {
   "cell_type": "code",
   "execution_count": null,
   "metadata": {},
   "outputs": [],
   "source": [
    "df_curent_final = pd.read_csv('df_final_my_db_16_08_22.csv', index_col=[0])\n",
    "current_titles_in_df_curent_final = df_curent_final[df_curent_final['PS1'] == actual_ps][['Title']]"
   ]
  },
  {
   "cell_type": "code",
   "execution_count": null,
   "metadata": {},
   "outputs": [],
   "source": [
    "current_titles_in_df_curent_final"
   ]
  },
  {
   "cell_type": "code",
   "execution_count": null,
   "metadata": {},
   "outputs": [],
   "source": [
    "zz = 0\n",
    "missing_titles = []\n",
    "for single_title in chosen_model_df['Title']:\n",
    "    found_titles = search_titles(current_titles_in_df_curent_final, single_title)\n",
    "    if found_titles.empty:\n",
    "        missing_titles.append(single_title)\n",
    "    sttr = f\"nr: {zz}  Title: {single_title} DF empty: {found_titles.empty}\"\n",
    "    #print(sttr)\n",
    "    zz = zz+1"
   ]
  },
  {
   "cell_type": "code",
   "execution_count": null,
   "metadata": {},
   "outputs": [],
   "source": [
    "missing_titles"
   ]
  },
  {
   "cell_type": "markdown",
   "metadata": {},
   "source": [
    "#### Specify the search.."
   ]
  },
  {
   "cell_type": "code",
   "execution_count": null,
   "metadata": {},
   "outputs": [],
   "source": [
    "search_string = 'cum'\n",
    "search_titles(current_titles_in_df_curent_final, search_string)\n",
    "search_titles(current_titles_in_df_curent_final, search_string).index[0].item()\n",
    "df_curent_final.loc[search_titles(current_titles_in_df_curent_final, search_string).index[0].item()]"
   ]
  },
  {
   "cell_type": "markdown",
   "metadata": {},
   "source": [
    "## Angela White"
   ]
  },
  {
   "cell_type": "code",
   "execution_count": 1,
   "metadata": {},
   "outputs": [],
   "source": [
    "# Individually adjusted\n",
    "actual_ps = 'Angela White'\n",
    "chosen_model_brazz_site = ['https://www.brazzers.com/videos/models/4685/angela-white/page/']\n",
    "max_page_len_of_chosen_model = [3]\n",
    "\n",
    "# Next function is automatically \n"
   ]
  },
  {
   "cell_type": "code",
   "execution_count": 2,
   "metadata": {},
   "outputs": [],
   "source": [
    "from create_df_actual_ps import create_df_actual_ps"
   ]
  },
  {
   "cell_type": "code",
   "execution_count": 3,
   "metadata": {},
   "outputs": [
    {
     "name": "stdout",
     "output_type": "stream",
     "text": [
      "max.. 3\n",
      "page_nr:  1\n",
      "scanning Site: https://www.brazzers.com/videos/models/4685/angela-white/page/1, Response: <Response [200]>\n",
      "db_page_tmp:  ['/home', 'https://site-ma.brazzers.com/', '/joinf', '/upcoming', '/series', '/videos', '/contractstars', '/pornstars?gender=female', '/pornstars?gender=male', '/pornstars', '/categories', '/sites', '/highlights', 'https://site-ma.brazzers.com/', '/joinf', '/video/7940991/welcome-to-whites-ward-part-2', '/pornstar/4685/angela-white', '/pornstar/9461/isiah-maxwell', '/video/7940991/welcome-to-whites-ward-part-2', '/video/7940721/welcome-to-whites-ward-part-1', '/pornstar/4685/angela-white', '/pornstar/26766/scott-nails', '/video/7940721/welcome-to-whites-ward-part-1', '/video/4655071/sexually-rated-programming-blowbang', '/pornstar/4685/angela-white', '/pornstar/501/michael-vegas', '/video/4655071/sexually-rated-programming-blowbang', '/video/4651041/living-with-influencers', '/pornstar/4685/angela-white', '/pornstar/64864/la-sirena-69', '/video/4651041/living-with-influencers', '/video/4649141/dominuru', '/pornstar/4531/luna-star', '/pornstar/4685/angela-white', '/video/4649141/dominuru', '/video/4639041/angela-sets-the-stage', '/pornstar/4685/angela-white', '/pornstar/37267/small-hands', '/video/4639041/angela-sets-the-stage', '/video/4632111/a-to-zz', '/pornstar/4685/angela-white', '/pornstar/247/mick-blue', '/video/4632111/a-to-zz', '/video/4628131/your-soul-corner-pocket', '/pornstar/4685/angela-white', '/pornstar/64662/oliver-davis', '/video/4628131/your-soul-corner-pocket', '/video/4621351/botched-dinner', '/pornstar/4685/angela-white', '/pornstar/75795/maddy-may', '/video/4621351/botched-dinner', '/video/4617291/the-white-album', '/pornstar/4685/angela-white', '/pornstar/9461/isiah-maxwell', '/video/4617291/the-white-album', '/video/4502231/angelas-house-of-hedonism-part-1', '/pornstar/4685/angela-white', '/pornstar/78551/lily-lou', '/video/4502231/angelas-house-of-hedonism-part-1', '/video/4501721/a-very-valley-holiday', '/pornstar/4685/angela-white', '/pornstar/247/mick-blue', '/video/4501721/a-very-valley-holiday', '/video/4496411/pink-perfection', '/pornstar/4685/angela-white', '/pornstar/75571/mazee-the-goat', '/video/4496411/pink-perfection', '/video/4489371/haunting-their-asses', '/pornstar/3911/alexis-fawx', '/pornstar/4685/angela-white', '/video/4489371/haunting-their-asses', '/video/4486231/take-control', '/pornstar/4685/angela-white', '/pornstar/247/mick-blue', '/video/4486231/take-control', '/video/4477101/in-bed-with-the-ex', '/pornstar/4685/angela-white', '/pornstar/75555/emma-rose', '/video/4477101/in-bed-with-the-ex', '/video/4465791/a-double-dose-of-aussie-ass', '/pornstar/4685/angela-white', '/pornstar/56797/savannah-bond', '/video/4465791/a-double-dose-of-aussie-ass', '/video/4448911/eat-me', '/pornstar/4685/angela-white', '/pornstar/68201/kendra-sunderland', '/video/4448911/eat-me', '/video/4428791/the-dryer-wont-get-me-off', '/pornstar/4685/angela-white', '/pornstar/26766/scott-nails', '/video/4428791/the-dryer-wont-get-me-off', '/video/4421168/blindfolded-fantasy', '/pornstar/4685/angela-white', '/pornstar/8597/keiran-lee', '/video/4421168/blindfolded-fantasy', '/video/4419661/best-of-brazzers-happy-halloween', '/pornstar/797/rachel-starr', '/pornstar/1583/ariana-marie', '/video/4419661/best-of-brazzers-happy-halloween', '/video/4418458/best-of-brazzers-luna-star', '/pornstar/4531/luna-star', '/pornstar/4685/angela-white', '/video/4418458/best-of-brazzers-luna-star', '/video/4416779/best-of-brazzers-porn-watches-back', '/pornstar/1137/riley-reid', '/pornstar/1779/abigail-mac', '/video/4416779/best-of-brazzers-porn-watches-back', '/video/4415535/jean-queen', '/pornstar/4685/angela-white', '/pornstar/26766/scott-nails', '/video/4415535/jean-queen', '/videos/models/4685/angela-white/page/2/', '/videos/models/4685/angela-white/page/3/', '/videos/models/4685/angela-white/page/2/', '/videos/models/4685/angela-white/page/3/', 'https://www.brazzers.com/joinf', 'https://twitter.com/Brazzers', 'https://www.instagram.com/stories/brazzersofficial/', 'https://www.adultforce.com/', 'https://www.brazzers.com/legal/privacy', 'https://support.brazzers.com/', 'https://support.brazzers.com/terms-of-service/', '/porn-sitemap', '/pages', '/about', '/press', 'https://www.adultforce.com/', 'https://www.brazzers.com/legal/privacy', 'https://support.brazzers.com/', 'https://support.brazzers.com/terms-of-service/', '/porn-sitemap', '/pages', '/about', '/press', 'https://www.brazzers.com/legal/2257', 'https://secure.vend-o.com/customers/profile/login/', 'https://probiller.com']\n",
      "db_page_video:  ['/video/7940991/welcome-to-whites-ward-part-2', '/video/7940991/welcome-to-whites-ward-part-2', '/video/7940721/welcome-to-whites-ward-part-1', '/video/7940721/welcome-to-whites-ward-part-1', '/video/4655071/sexually-rated-programming-blowbang', '/video/4655071/sexually-rated-programming-blowbang', '/video/4651041/living-with-influencers', '/video/4651041/living-with-influencers', '/video/4649141/dominuru', '/video/4649141/dominuru', '/video/4639041/angela-sets-the-stage', '/video/4639041/angela-sets-the-stage', '/video/4632111/a-to-zz', '/video/4632111/a-to-zz', '/video/4628131/your-soul-corner-pocket', '/video/4628131/your-soul-corner-pocket', '/video/4621351/botched-dinner', '/video/4621351/botched-dinner', '/video/4617291/the-white-album', '/video/4617291/the-white-album', '/video/4502231/angelas-house-of-hedonism-part-1', '/video/4502231/angelas-house-of-hedonism-part-1', '/video/4501721/a-very-valley-holiday', '/video/4501721/a-very-valley-holiday', '/video/4496411/pink-perfection', '/video/4496411/pink-perfection', '/video/4489371/haunting-their-asses', '/video/4489371/haunting-their-asses', '/video/4486231/take-control', '/video/4486231/take-control', '/video/4477101/in-bed-with-the-ex', '/video/4477101/in-bed-with-the-ex', '/video/4465791/a-double-dose-of-aussie-ass', '/video/4465791/a-double-dose-of-aussie-ass', '/video/4448911/eat-me', '/video/4448911/eat-me', '/video/4428791/the-dryer-wont-get-me-off', '/video/4428791/the-dryer-wont-get-me-off', '/video/4421168/blindfolded-fantasy', '/video/4421168/blindfolded-fantasy', '/video/4419661/best-of-brazzers-happy-halloween', '/video/4419661/best-of-brazzers-happy-halloween', '/video/4418458/best-of-brazzers-luna-star', '/video/4418458/best-of-brazzers-luna-star', '/video/4416779/best-of-brazzers-porn-watches-back', '/video/4416779/best-of-brazzers-porn-watches-back', '/video/4415535/jean-queen', '/video/4415535/jean-queen']\n",
      "page_nr:  2\n",
      "scanning Site: https://www.brazzers.com/videos/models/4685/angela-white/page/2, Response: <Response [200]>\n",
      "db_page_tmp:  ['/home', 'https://site-ma.brazzers.com/', '/joinf', '/upcoming', '/series', '/videos', '/contractstars', '/pornstars?gender=female', '/pornstars?gender=male', '/pornstars', '/categories', '/sites', '/highlights', 'https://site-ma.brazzers.com/', '/joinf', '/video/4414499/best-of-brazzers-titty-tuesday', '/pornstar/371/bridgette-b', '/pornstar/1757/ava-addams', '/video/4414499/best-of-brazzers-titty-tuesday', '/video/4414163/sneaky-shower-threesome', '/pornstar/4685/angela-white', '/pornstar/6579/siri-dahl', '/video/4414163/sneaky-shower-threesome', '/video/4411365/you-gotta-help-my-wife', '/pornstar/4685/angela-white', '/pornstar/8597/keiran-lee', '/video/4411365/you-gotta-help-my-wife', '/video/4411001/slingin-titties', '/pornstar/4685/angela-white', '/pornstar/66391/codi-vore', '/video/4411001/slingin-titties', '/video/4409367/assential-oil', '/pornstar/4685/angela-white', '/pornstar/247/mick-blue', '/video/4409367/assential-oil', '/video/4405510/day-with-a-pornstar-angela-white', '/pornstar/4685/angela-white', '/pornstar/425/manuel-ferrara', '/video/4405510/day-with-a-pornstar-angela-white', '/video/4404988/swing-fling-part-2', '/pornstar/4685/angela-white', '/pornstar/36411/molly-stewart', '/video/4404988/swing-fling-part-2', '/video/4404935/swing-fling-part-1', '/pornstar/4685/angela-white', '/pornstar/36411/molly-stewart', '/video/4404935/swing-fling-part-1', '/video/4373725/brazzibots-uprising-part-4', '/pornstar/3431/romi-rain', '/pornstar/4685/angela-white', '/video/4373725/brazzibots-uprising-part-4', '/video/4373724/brazzi-bots-uprising-part-1', '/pornstar/4531/luna-star', '/pornstar/4685/angela-white', '/video/4373724/brazzi-bots-uprising-part-1', '/video/4360381/firsthand-experience', '/pornstar/4685/angela-white', '/pornstar/23/markus-dupree', '/video/4360381/firsthand-experience', '/video/4358259/sunbathing-babes', '/pornstar/4685/angela-white', '/pornstar/5313/madison-ivy', '/video/4358259/sunbathing-babes', '/video/4357547/forest-nymph-o-maniac', '/pornstar/4685/angela-white', '/pornstar/9461/isiah-maxwell', '/video/4357547/forest-nymph-o-maniac', '/video/4352412/anatomy-of-a-sex-scene', '/pornstar/4685/angela-white', '/pornstar/553/johnny-sins', '/video/4352412/anatomy-of-a-sex-scene', '/video/3796421/busting-on-the-burglar', '/pornstar/4685/angela-white', '/pornstar/19577/zac-wild', '/video/3796421/busting-on-the-burglar', '/video/4303131/fappy-new-year', '/pornstar/4685/angela-white', '/pornstar/1559/xander-corvus', '/video/4303131/fappy-new-year', '/video/3803871/caught-talking-dirty', '/pornstar/4685/angela-white', '/pornstar/12837/nicolette-shea', '/video/3803871/caught-talking-dirty', '/video/3994341/bodystocking-boobs', '/pornstar/4685/angela-white', '/pornstar/8597/keiran-lee', '/video/3994341/bodystocking-boobs', '/video/3845121/pounding-her-pantyhose', '/pornstar/4685/angela-white', '/pornstar/8597/keiran-lee', '/video/3845121/pounding-her-pantyhose', '/video/3984071/just-to-be-clear', '/pornstar/4685/angela-white', '/pornstar/1559/xander-corvus', '/video/3984071/just-to-be-clear', '/video/3984911/dinner-for-cheats', '/pornstar/927/phoenix-marie', '/pornstar/4685/angela-white', '/video/3984911/dinner-for-cheats', '/video/3795751/wild-thots', '/pornstar/4531/luna-star', '/pornstar/4685/angela-white', '/video/3795751/wild-thots', '/video/4037571/xanders-world-tour-ep-2', '/pornstar/159/karma-rx', '/pornstar/4685/angela-white', '/video/4037571/xanders-world-tour-ep-2', '/video/3860831/full-service-banking', '/pornstar/4685/angela-white', '/pornstar/1937/prince-yashua', '/video/3860831/full-service-banking', '/videos/models/4685/angela-white/', '/videos/models/4685/angela-white/', '/videos/models/4685/angela-white/', '/videos/models/4685/angela-white/page/3/', '/videos/models/4685/angela-white/page/3/', '/videos/models/4685/angela-white/page/3/', 'https://www.brazzers.com/joinf', 'https://twitter.com/Brazzers', 'https://www.instagram.com/stories/brazzersofficial/', 'https://www.adultforce.com/', 'https://www.brazzers.com/legal/privacy', 'https://support.brazzers.com/', 'https://support.brazzers.com/terms-of-service/', '/porn-sitemap', '/pages', '/about', '/press', 'https://www.adultforce.com/', 'https://www.brazzers.com/legal/privacy', 'https://support.brazzers.com/', 'https://support.brazzers.com/terms-of-service/', '/porn-sitemap', '/pages', '/about', '/press', 'https://www.brazzers.com/legal/2257', 'https://secure.vend-o.com/customers/profile/login/', 'https://probiller.com']\n",
      "db_page_video:  ['/video/4414499/best-of-brazzers-titty-tuesday', '/video/4414499/best-of-brazzers-titty-tuesday', '/video/4414163/sneaky-shower-threesome', '/video/4414163/sneaky-shower-threesome', '/video/4411365/you-gotta-help-my-wife', '/video/4411365/you-gotta-help-my-wife', '/video/4411001/slingin-titties', '/video/4411001/slingin-titties', '/video/4409367/assential-oil', '/video/4409367/assential-oil', '/video/4405510/day-with-a-pornstar-angela-white', '/video/4405510/day-with-a-pornstar-angela-white', '/video/4404988/swing-fling-part-2', '/video/4404988/swing-fling-part-2', '/video/4404935/swing-fling-part-1', '/video/4404935/swing-fling-part-1', '/video/4373725/brazzibots-uprising-part-4', '/video/4373725/brazzibots-uprising-part-4', '/video/4373724/brazzi-bots-uprising-part-1', '/video/4373724/brazzi-bots-uprising-part-1', '/video/4360381/firsthand-experience', '/video/4360381/firsthand-experience', '/video/4358259/sunbathing-babes', '/video/4358259/sunbathing-babes', '/video/4357547/forest-nymph-o-maniac', '/video/4357547/forest-nymph-o-maniac', '/video/4352412/anatomy-of-a-sex-scene', '/video/4352412/anatomy-of-a-sex-scene', '/video/3796421/busting-on-the-burglar', '/video/3796421/busting-on-the-burglar', '/video/4303131/fappy-new-year', '/video/4303131/fappy-new-year', '/video/3803871/caught-talking-dirty', '/video/3803871/caught-talking-dirty', '/video/3994341/bodystocking-boobs', '/video/3994341/bodystocking-boobs', '/video/3845121/pounding-her-pantyhose', '/video/3845121/pounding-her-pantyhose', '/video/3984071/just-to-be-clear', '/video/3984071/just-to-be-clear', '/video/3984911/dinner-for-cheats', '/video/3984911/dinner-for-cheats', '/video/3795751/wild-thots', '/video/3795751/wild-thots', '/video/4037571/xanders-world-tour-ep-2', '/video/4037571/xanders-world-tour-ep-2', '/video/3860831/full-service-banking', '/video/3860831/full-service-banking']\n",
      "page_nr:  3\n",
      "scanning Site: https://www.brazzers.com/videos/models/4685/angela-white/page/3, Response: <Response [200]>\n",
      "db_page_tmp:  ['/home', 'https://site-ma.brazzers.com/', '/joinf', '/upcoming', '/series', '/videos', '/contractstars', '/pornstars?gender=female', '/pornstars?gender=male', '/pornstars', '/categories', '/sites', '/highlights', 'https://site-ma.brazzers.com/', '/joinf', '/video/3794521/up-to-code-and-up-her-ass', '/pornstar/4685/angela-white', '/pornstar/8597/keiran-lee', '/video/3794521/up-to-code-and-up-her-ass', '/video/3798461/the-magicians-ass-istant', '/pornstar/4685/angela-white', '/pornstar/47/ramon-nomar', '/video/3798461/the-magicians-ass-istant', '/video/3809541/the-fuckening', '/pornstar/3431/romi-rain', '/pornstar/4685/angela-white', '/video/3809541/the-fuckening', '/video/3982241/midnight-cowgirl', '/pornstar/4685/angela-white', '/pornstar/8597/keiran-lee', '/video/3982241/midnight-cowgirl', '/video/3982231/angelas-sex-auction', '/pornstar/4685/angela-white', '/pornstar/23/markus-dupree', '/video/3982231/angelas-sex-auction', '/video/3846611/rip-my-jeans', '/pornstar/4685/angela-white', '/pornstar/8597/keiran-lee', '/video/3846611/rip-my-jeans', '/video/3797531/ass-gas-or-grass', '/pornstar/4685/angela-white', '/pornstar/23/markus-dupree', '/video/3797531/ass-gas-or-grass', '/video/3847321/porn-logic', '/pornstar/4619/lena-paul', '/pornstar/4685/angela-white', '/video/3847321/porn-logic', '/video/3913131/the-wrong-massage-feels-so-right', '/pornstar/4685/angela-white', '/pornstar/1701/johnny-castle', '/video/3913131/the-wrong-massage-feels-so-right', '/video/3850031/my-slutty-secretary', '/pornstar/4685/angela-white', '/pornstar/23/markus-dupree', '/video/3850031/my-slutty-secretary', '/video/4004661/its-a-wonderful-sex-life', '/pornstar/4685/angela-white', '/pornstar/2417/charles-dera', '/video/4004661/its-a-wonderful-sex-life', '/video/3805001/chasing-that-big-d', '/pornstar/371/bridgette-b', '/pornstar/1757/ava-addams', '/video/3805001/chasing-that-big-d', '/video/3866561/angela-loves-anal', '/pornstar/4685/angela-white', '/pornstar/23/markus-dupree', '/video/3866561/angela-loves-anal', '/video/3836651/parent-fucking-teacher-meetings', '/pornstar/4685/angela-white', '/pornstar/40910/karlo-karerra', '/video/3836651/parent-fucking-teacher-meetings', '/video/3804791/mantequilla-bay-bay', '/pornstar/4685/angela-white', '/pornstar/1327/jessy-jones', '/video/3804791/mantequilla-bay-bay', '/videos/models/4685/angela-white/', '/videos/models/4685/angela-white/page/2/', '/videos/models/4685/angela-white/', '/videos/models/4685/angela-white/page/2/', 'https://www.brazzers.com/joinf', 'https://twitter.com/Brazzers', 'https://www.instagram.com/stories/brazzersofficial/', 'https://www.adultforce.com/', 'https://www.brazzers.com/legal/privacy', 'https://support.brazzers.com/', 'https://support.brazzers.com/terms-of-service/', '/porn-sitemap', '/pages', '/about', '/press', 'https://www.adultforce.com/', 'https://www.brazzers.com/legal/privacy', 'https://support.brazzers.com/', 'https://support.brazzers.com/terms-of-service/', '/porn-sitemap', '/pages', '/about', '/press', 'https://www.brazzers.com/legal/2257', 'https://secure.vend-o.com/customers/profile/login/', 'https://probiller.com']\n",
      "db_page_video:  ['/video/3794521/up-to-code-and-up-her-ass', '/video/3794521/up-to-code-and-up-her-ass', '/video/3798461/the-magicians-ass-istant', '/video/3798461/the-magicians-ass-istant', '/video/3809541/the-fuckening', '/video/3809541/the-fuckening', '/video/3982241/midnight-cowgirl', '/video/3982241/midnight-cowgirl', '/video/3982231/angelas-sex-auction', '/video/3982231/angelas-sex-auction', '/video/3846611/rip-my-jeans', '/video/3846611/rip-my-jeans', '/video/3797531/ass-gas-or-grass', '/video/3797531/ass-gas-or-grass', '/video/3847321/porn-logic', '/video/3847321/porn-logic', '/video/3913131/the-wrong-massage-feels-so-right', '/video/3913131/the-wrong-massage-feels-so-right', '/video/3850031/my-slutty-secretary', '/video/3850031/my-slutty-secretary', '/video/4004661/its-a-wonderful-sex-life', '/video/4004661/its-a-wonderful-sex-life', '/video/3805001/chasing-that-big-d', '/video/3805001/chasing-that-big-d', '/video/3866561/angela-loves-anal', '/video/3866561/angela-loves-anal', '/video/3836651/parent-fucking-teacher-meetings', '/video/3836651/parent-fucking-teacher-meetings', '/video/3804791/mantequilla-bay-bay', '/video/3804791/mantequilla-bay-bay']\n",
      "count of titles:  63\n"
     ]
    }
   ],
   "source": [
    "chosen_model_df = create_df_actual_ps(actual_ps, chosen_model_brazz_site, max_page_len_of_chosen_model)"
   ]
  },
  {
   "cell_type": "code",
   "execution_count": null,
   "metadata": {},
   "outputs": [],
   "source": []
  },
  {
   "cell_type": "code",
   "execution_count": null,
   "metadata": {},
   "outputs": [],
   "source": []
  }
 ],
 "metadata": {
  "kernelspec": {
   "display_name": "Python 3.10.4 ('sql_dev')",
   "language": "python",
   "name": "python3"
  },
  "language_info": {
   "codemirror_mode": {
    "name": "ipython",
    "version": 3
   },
   "file_extension": ".py",
   "mimetype": "text/x-python",
   "name": "python",
   "nbconvert_exporter": "python",
   "pygments_lexer": "ipython3",
   "version": "3.10.4"
  },
  "orig_nbformat": 4,
  "vscode": {
   "interpreter": {
    "hash": "c5db0ce4916e7a0023c71d2610cc14526b5f69d95391b8e9e7f958ca80509f20"
   }
  }
 },
 "nbformat": 4,
 "nbformat_minor": 2
}
