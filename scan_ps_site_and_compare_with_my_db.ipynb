{
 "cells": [
  {
   "cell_type": "markdown",
   "metadata": {},
   "source": [
    "### Script for scanning the BRAZ-Site of the chosen PS and compare the titles with my bra_db\n"
   ]
  },
  {
   "cell_type": "code",
   "execution_count": 8,
   "metadata": {},
   "outputs": [],
   "source": [
    "import pandas as pd\n",
    "import math\n",
    "import sys\n",
    "# from IPy# thon.core.display import display, HTML\n",
    "\n",
    "#display(HTML(\"<style>.container {width:90% !important; }</style>\"))\n",
    "\n",
    "sys.path.append('/Users/joerg/repos/braz')\n",
    "from utilities_functions import scan_func\n",
    "from create_df_actual_ps import create_df_actual_ps\n",
    "# To run all commands within one cell:\n",
    "#from IPython.core.interactiveshell import InteractiveShell\n",
    "#InteractiveShel\n",
    "pd.set_option('display.max_rows', None)\n",
    "pd.set_option('display.max_rows', None)\n",
    "pd.set_option('display.max_columns', 500)\n",
    "pd.set_option('display.width', 1000)"
   ]
  },
  {
   "cell_type": "markdown",
   "metadata": {},
   "source": [
    "Define help-functions"
   ]
  },
  {
   "cell_type": "code",
   "execution_count": 9,
   "metadata": {},
   "outputs": [],
   "source": [
    "def search_titles(dataFrame, search_string):\n",
    "    mask = (dataFrame.applymap(lambda x: isinstance(x, str) and search_string in x)).any(1)\n",
    "    #print('mask: ', dataFrame[mask]['Title'])\n",
    "    return dataFrame[mask]#['Title']\n",
    "\n",
    "def missing_titles_new(chosen_model_df):\n",
    "    zz = 0\n",
    "    missing_titles = []\n",
    "    for single_title in chosen_model_df['Title']:\n",
    "        found_titles = search_titles(current_titles_in_df_curent_final, single_title)\n",
    "        #print('found_titles: ', found_titles)\n",
    "        if found_titles.empty:\n",
    "            missing_titles.append(single_title)\n",
    "        sttr = f\"nr: {zz}  Title: {single_title} DF empty: {found_titles.empty}\"\n",
    "        #print(sttr)\n",
    "        zz = zz+1\n",
    "    return missing_titles"
   ]
  },
  {
   "cell_type": "markdown",
   "metadata": {},
   "source": [
    "## List of TOP_PS\n"
   ]
  },
  {
   "cell_type": "code",
   "execution_count": 9,
   "metadata": {},
   "outputs": [
    {
     "name": "stdout",
     "output_type": "stream",
     "text": [
      "Quantity of my TOP PS:  61\n"
     ]
    }
   ],
   "source": [
    "top50_ps = ['Abbey Brooks', 'Abbie Cat', 'Alena Croft', 'Aletta Ocean', 'Alexis Ford', \n",
    "            'Angel Wicky', 'Angela White', 'Armani Black', 'Ava Addams', 'Bridgette B', 'Britney Shannon',\n",
    "            'Carmella Bing', 'Cathy Heaven', 'Chessie Kay', 'Christie Stevens', 'Claire Dames',  \n",
    "            'Corinna Blake', 'Dee Williams', 'Diamond Foxxx', 'Donna Bell', 'Ella Hughes', 'Emma Butt', 'Eva Karera', \n",
    "            'Eva Notty', 'Harmony Reigns', 'Holly Halston', 'Jasmine Jae', 'Jayden Jaymes', 'Jenna Presley',\n",
    "            'Jessica Moore', 'Jillian Janson', 'Julia Ann', 'Katie Kox', 'Kelly Divine', 'Kendra Lust', 'Kiara Mia',\n",
    "            'Krissy Lynn', 'Leigh Darby', 'Madison Ivy', 'Marsha May', 'Memphis Monroe', 'Nicolette Shea',\n",
    "            'Nikki Benz', 'Noelle Easton', 'Peta Jensen', 'Rebeca Linares', 'Rebecca More', 'Riley Evans', 'Roberta Gemma',\n",
    "            'Romi Rain', 'Sensual Jane', 'Shyla Stylez', 'Sienna West', 'Sophie Dee', 'Stella Cox', \n",
    "            'Syren De Mer', 'Tarra White', 'Tory Lane', 'Velicity Von', 'Veronica Avluv', 'Yasmin Scott']\n",
    "print('Quantity of my TOP PS: ', str(len(top50_ps)))"
   ]
  },
  {
   "cell_type": "markdown",
   "metadata": {},
   "source": [
    "dataframe for PS, which have been processed"
   ]
  },
  {
   "cell_type": "code",
   "execution_count": 10,
   "metadata": {},
   "outputs": [],
   "source": [
    "import pandas as pd\n",
    "df_ps_processed = pd.DataFrame()\n",
    "df_ps_processed[\"TOP_50PS\"] = list(top50_ps)\n",
    "ps_processed = ['Abbey Brooks', 'Abbie Cat', 'Alena Croft', 'Aletta Ocean', 'Alexis Ford', \n",
    "                'Angel Wicky', 'Angela White', 'Ava Addams', 'Bridgette B', 'Britney Shannon',\n",
    "                'Carmella Bing', 'Cathy Heaven', 'Holly Halston', 'Kendra Lust', 'Romi Rain', \n",
    "                'Nicolette Shea', 'Jayden Jaymes', 'Stella Cox', 'Christie Stevens', 'Claire Dames',\n",
    "                'Chessie Kay', 'Corinna Blake', 'Dee Williams', 'Donna Bell', 'Ella Hughes', 'Emma Butt',\n",
    "                'Eva Karera', 'Eva Notty', 'Harmony Reigns', 'Jasmine Jae', 'Jenna Presley', 'Jessica Moore',\n",
    "                'Julia Ann', 'Katie Kox', 'Kiara Mia', 'Kelly Divine', 'Krissy Lynn', 'Leigh Darby', \n",
    "                'Memphis Monroe', 'Nikki Benz', 'Noelle Easton', 'Rebecca More', 'Riley Evans',\n",
    "                'Roberta Gemma', 'Sensual Jane', 'Diamond Foxxx']\n",
    "                \n",
    "\n",
    "df_ps_processed['Processed'] = df_ps_processed[\"TOP_50PS\"].\\\n",
    "                            apply(lambda x: \"Yes\" if x in ps_processed else 'No')"
   ]
  },
  {
   "cell_type": "code",
   "execution_count": 11,
   "metadata": {},
   "outputs": [
    {
     "data": {
      "text/html": [
       "<div>\n",
       "<style scoped>\n",
       "    .dataframe tbody tr th:only-of-type {\n",
       "        vertical-align: middle;\n",
       "    }\n",
       "\n",
       "    .dataframe tbody tr th {\n",
       "        vertical-align: top;\n",
       "    }\n",
       "\n",
       "    .dataframe thead th {\n",
       "        text-align: right;\n",
       "    }\n",
       "</style>\n",
       "<table border=\"1\" class=\"dataframe\">\n",
       "  <thead>\n",
       "    <tr style=\"text-align: right;\">\n",
       "      <th></th>\n",
       "      <th>TOP_50PS</th>\n",
       "      <th>Processed</th>\n",
       "    </tr>\n",
       "  </thead>\n",
       "  <tbody>\n",
       "    <tr>\n",
       "      <th>0</th>\n",
       "      <td>Abbey Brooks</td>\n",
       "      <td>Yes</td>\n",
       "    </tr>\n",
       "    <tr>\n",
       "      <th>1</th>\n",
       "      <td>Abbie Cat</td>\n",
       "      <td>Yes</td>\n",
       "    </tr>\n",
       "    <tr>\n",
       "      <th>2</th>\n",
       "      <td>Alena Croft</td>\n",
       "      <td>Yes</td>\n",
       "    </tr>\n",
       "    <tr>\n",
       "      <th>3</th>\n",
       "      <td>Aletta Ocean</td>\n",
       "      <td>Yes</td>\n",
       "    </tr>\n",
       "    <tr>\n",
       "      <th>4</th>\n",
       "      <td>Alexis Ford</td>\n",
       "      <td>Yes</td>\n",
       "    </tr>\n",
       "    <tr>\n",
       "      <th>5</th>\n",
       "      <td>Angel Wicky</td>\n",
       "      <td>Yes</td>\n",
       "    </tr>\n",
       "    <tr>\n",
       "      <th>6</th>\n",
       "      <td>Angela White</td>\n",
       "      <td>Yes</td>\n",
       "    </tr>\n",
       "    <tr>\n",
       "      <th>7</th>\n",
       "      <td>Armani Black</td>\n",
       "      <td>No</td>\n",
       "    </tr>\n",
       "    <tr>\n",
       "      <th>8</th>\n",
       "      <td>Ava Addams</td>\n",
       "      <td>Yes</td>\n",
       "    </tr>\n",
       "    <tr>\n",
       "      <th>9</th>\n",
       "      <td>Bridgette B</td>\n",
       "      <td>Yes</td>\n",
       "    </tr>\n",
       "    <tr>\n",
       "      <th>10</th>\n",
       "      <td>Britney Shannon</td>\n",
       "      <td>Yes</td>\n",
       "    </tr>\n",
       "    <tr>\n",
       "      <th>11</th>\n",
       "      <td>Carmella Bing</td>\n",
       "      <td>Yes</td>\n",
       "    </tr>\n",
       "    <tr>\n",
       "      <th>12</th>\n",
       "      <td>Cathy Heaven</td>\n",
       "      <td>Yes</td>\n",
       "    </tr>\n",
       "    <tr>\n",
       "      <th>13</th>\n",
       "      <td>Chessie Kay</td>\n",
       "      <td>Yes</td>\n",
       "    </tr>\n",
       "    <tr>\n",
       "      <th>14</th>\n",
       "      <td>Christie Stevens</td>\n",
       "      <td>Yes</td>\n",
       "    </tr>\n",
       "    <tr>\n",
       "      <th>15</th>\n",
       "      <td>Claire Dames</td>\n",
       "      <td>Yes</td>\n",
       "    </tr>\n",
       "    <tr>\n",
       "      <th>16</th>\n",
       "      <td>Corinna Blake</td>\n",
       "      <td>Yes</td>\n",
       "    </tr>\n",
       "    <tr>\n",
       "      <th>17</th>\n",
       "      <td>Dee Williams</td>\n",
       "      <td>Yes</td>\n",
       "    </tr>\n",
       "    <tr>\n",
       "      <th>18</th>\n",
       "      <td>Diamond Foxxx</td>\n",
       "      <td>Yes</td>\n",
       "    </tr>\n",
       "    <tr>\n",
       "      <th>19</th>\n",
       "      <td>Donna Bell</td>\n",
       "      <td>Yes</td>\n",
       "    </tr>\n",
       "    <tr>\n",
       "      <th>20</th>\n",
       "      <td>Ella Hughes</td>\n",
       "      <td>Yes</td>\n",
       "    </tr>\n",
       "    <tr>\n",
       "      <th>21</th>\n",
       "      <td>Emma Butt</td>\n",
       "      <td>Yes</td>\n",
       "    </tr>\n",
       "    <tr>\n",
       "      <th>22</th>\n",
       "      <td>Eva Karera</td>\n",
       "      <td>Yes</td>\n",
       "    </tr>\n",
       "    <tr>\n",
       "      <th>23</th>\n",
       "      <td>Eva Notty</td>\n",
       "      <td>Yes</td>\n",
       "    </tr>\n",
       "    <tr>\n",
       "      <th>24</th>\n",
       "      <td>Harmony Reigns</td>\n",
       "      <td>Yes</td>\n",
       "    </tr>\n",
       "    <tr>\n",
       "      <th>25</th>\n",
       "      <td>Holly Halston</td>\n",
       "      <td>Yes</td>\n",
       "    </tr>\n",
       "    <tr>\n",
       "      <th>26</th>\n",
       "      <td>Jasmine Jae</td>\n",
       "      <td>Yes</td>\n",
       "    </tr>\n",
       "    <tr>\n",
       "      <th>27</th>\n",
       "      <td>Jayden Jaymes</td>\n",
       "      <td>Yes</td>\n",
       "    </tr>\n",
       "    <tr>\n",
       "      <th>28</th>\n",
       "      <td>Jenna Presley</td>\n",
       "      <td>Yes</td>\n",
       "    </tr>\n",
       "    <tr>\n",
       "      <th>29</th>\n",
       "      <td>Jessica Moore</td>\n",
       "      <td>Yes</td>\n",
       "    </tr>\n",
       "    <tr>\n",
       "      <th>30</th>\n",
       "      <td>Jillian Janson</td>\n",
       "      <td>No</td>\n",
       "    </tr>\n",
       "    <tr>\n",
       "      <th>31</th>\n",
       "      <td>Julia Ann</td>\n",
       "      <td>Yes</td>\n",
       "    </tr>\n",
       "    <tr>\n",
       "      <th>32</th>\n",
       "      <td>Katie Kox</td>\n",
       "      <td>Yes</td>\n",
       "    </tr>\n",
       "    <tr>\n",
       "      <th>33</th>\n",
       "      <td>Kelly Divine</td>\n",
       "      <td>Yes</td>\n",
       "    </tr>\n",
       "    <tr>\n",
       "      <th>34</th>\n",
       "      <td>Kendra Lust</td>\n",
       "      <td>Yes</td>\n",
       "    </tr>\n",
       "    <tr>\n",
       "      <th>35</th>\n",
       "      <td>Kiara Mia</td>\n",
       "      <td>Yes</td>\n",
       "    </tr>\n",
       "    <tr>\n",
       "      <th>36</th>\n",
       "      <td>Krissy Lynn</td>\n",
       "      <td>Yes</td>\n",
       "    </tr>\n",
       "    <tr>\n",
       "      <th>37</th>\n",
       "      <td>Leigh Darby</td>\n",
       "      <td>Yes</td>\n",
       "    </tr>\n",
       "    <tr>\n",
       "      <th>38</th>\n",
       "      <td>Madison Ivy</td>\n",
       "      <td>No</td>\n",
       "    </tr>\n",
       "    <tr>\n",
       "      <th>39</th>\n",
       "      <td>Marsha May</td>\n",
       "      <td>No</td>\n",
       "    </tr>\n",
       "    <tr>\n",
       "      <th>40</th>\n",
       "      <td>Memphis Monroe</td>\n",
       "      <td>Yes</td>\n",
       "    </tr>\n",
       "    <tr>\n",
       "      <th>41</th>\n",
       "      <td>Nicolette Shea</td>\n",
       "      <td>Yes</td>\n",
       "    </tr>\n",
       "    <tr>\n",
       "      <th>42</th>\n",
       "      <td>Nikki Benz</td>\n",
       "      <td>Yes</td>\n",
       "    </tr>\n",
       "    <tr>\n",
       "      <th>43</th>\n",
       "      <td>Noelle Easton</td>\n",
       "      <td>Yes</td>\n",
       "    </tr>\n",
       "    <tr>\n",
       "      <th>44</th>\n",
       "      <td>Peta Jensen</td>\n",
       "      <td>No</td>\n",
       "    </tr>\n",
       "    <tr>\n",
       "      <th>45</th>\n",
       "      <td>Rebeca Linares</td>\n",
       "      <td>No</td>\n",
       "    </tr>\n",
       "    <tr>\n",
       "      <th>46</th>\n",
       "      <td>Rebecca More</td>\n",
       "      <td>Yes</td>\n",
       "    </tr>\n",
       "    <tr>\n",
       "      <th>47</th>\n",
       "      <td>Riley Evans</td>\n",
       "      <td>Yes</td>\n",
       "    </tr>\n",
       "    <tr>\n",
       "      <th>48</th>\n",
       "      <td>Roberta Gemma</td>\n",
       "      <td>Yes</td>\n",
       "    </tr>\n",
       "    <tr>\n",
       "      <th>49</th>\n",
       "      <td>Romi Rain</td>\n",
       "      <td>Yes</td>\n",
       "    </tr>\n",
       "    <tr>\n",
       "      <th>50</th>\n",
       "      <td>Sensual Jane</td>\n",
       "      <td>Yes</td>\n",
       "    </tr>\n",
       "    <tr>\n",
       "      <th>51</th>\n",
       "      <td>Shyla Stylez</td>\n",
       "      <td>No</td>\n",
       "    </tr>\n",
       "    <tr>\n",
       "      <th>52</th>\n",
       "      <td>Sienna West</td>\n",
       "      <td>No</td>\n",
       "    </tr>\n",
       "    <tr>\n",
       "      <th>53</th>\n",
       "      <td>Sophie Dee</td>\n",
       "      <td>No</td>\n",
       "    </tr>\n",
       "    <tr>\n",
       "      <th>54</th>\n",
       "      <td>Stella Cox</td>\n",
       "      <td>Yes</td>\n",
       "    </tr>\n",
       "    <tr>\n",
       "      <th>55</th>\n",
       "      <td>Syren De Mer</td>\n",
       "      <td>No</td>\n",
       "    </tr>\n",
       "    <tr>\n",
       "      <th>56</th>\n",
       "      <td>Tarra White</td>\n",
       "      <td>No</td>\n",
       "    </tr>\n",
       "    <tr>\n",
       "      <th>57</th>\n",
       "      <td>Tory Lane</td>\n",
       "      <td>No</td>\n",
       "    </tr>\n",
       "    <tr>\n",
       "      <th>58</th>\n",
       "      <td>Velicity Von</td>\n",
       "      <td>No</td>\n",
       "    </tr>\n",
       "    <tr>\n",
       "      <th>59</th>\n",
       "      <td>Veronica Avluv</td>\n",
       "      <td>No</td>\n",
       "    </tr>\n",
       "    <tr>\n",
       "      <th>60</th>\n",
       "      <td>Yasmin Scott</td>\n",
       "      <td>No</td>\n",
       "    </tr>\n",
       "  </tbody>\n",
       "</table>\n",
       "</div>"
      ],
      "text/plain": [
       "            TOP_50PS Processed\n",
       "0       Abbey Brooks       Yes\n",
       "1          Abbie Cat       Yes\n",
       "2        Alena Croft       Yes\n",
       "3       Aletta Ocean       Yes\n",
       "4        Alexis Ford       Yes\n",
       "5        Angel Wicky       Yes\n",
       "6       Angela White       Yes\n",
       "7       Armani Black        No\n",
       "8         Ava Addams       Yes\n",
       "9        Bridgette B       Yes\n",
       "10   Britney Shannon       Yes\n",
       "11     Carmella Bing       Yes\n",
       "12      Cathy Heaven       Yes\n",
       "13       Chessie Kay       Yes\n",
       "14  Christie Stevens       Yes\n",
       "15      Claire Dames       Yes\n",
       "16     Corinna Blake       Yes\n",
       "17      Dee Williams       Yes\n",
       "18     Diamond Foxxx       Yes\n",
       "19        Donna Bell       Yes\n",
       "20       Ella Hughes       Yes\n",
       "21         Emma Butt       Yes\n",
       "22        Eva Karera       Yes\n",
       "23         Eva Notty       Yes\n",
       "24    Harmony Reigns       Yes\n",
       "25     Holly Halston       Yes\n",
       "26       Jasmine Jae       Yes\n",
       "27     Jayden Jaymes       Yes\n",
       "28     Jenna Presley       Yes\n",
       "29     Jessica Moore       Yes\n",
       "30    Jillian Janson        No\n",
       "31         Julia Ann       Yes\n",
       "32         Katie Kox       Yes\n",
       "33      Kelly Divine       Yes\n",
       "34       Kendra Lust       Yes\n",
       "35         Kiara Mia       Yes\n",
       "36       Krissy Lynn       Yes\n",
       "37       Leigh Darby       Yes\n",
       "38       Madison Ivy        No\n",
       "39        Marsha May        No\n",
       "40    Memphis Monroe       Yes\n",
       "41    Nicolette Shea       Yes\n",
       "42        Nikki Benz       Yes\n",
       "43     Noelle Easton       Yes\n",
       "44       Peta Jensen        No\n",
       "45    Rebeca Linares        No\n",
       "46      Rebecca More       Yes\n",
       "47       Riley Evans       Yes\n",
       "48     Roberta Gemma       Yes\n",
       "49         Romi Rain       Yes\n",
       "50      Sensual Jane       Yes\n",
       "51      Shyla Stylez        No\n",
       "52       Sienna West        No\n",
       "53        Sophie Dee        No\n",
       "54        Stella Cox       Yes\n",
       "55      Syren De Mer        No\n",
       "56       Tarra White        No\n",
       "57         Tory Lane        No\n",
       "58      Velicity Von        No\n",
       "59    Veronica Avluv        No\n",
       "60      Yasmin Scott        No"
      ]
     },
     "execution_count": 11,
     "metadata": {},
     "output_type": "execute_result"
    }
   ],
   "source": [
    "df_ps_processed"
   ]
  },
  {
   "cell_type": "code",
   "execution_count": null,
   "metadata": {},
   "outputs": [],
   "source": []
  },
  {
   "cell_type": "code",
   "execution_count": null,
   "metadata": {},
   "outputs": [],
   "source": []
  },
  {
   "cell_type": "markdown",
   "metadata": {},
   "source": [
    "## Chosen_PS:\n"
   ]
  },
  {
   "cell_type": "markdown",
   "metadata": {},
   "source": [
    "## Abbey Brooks --> finished!\n"
   ]
  },
  {
   "cell_type": "markdown",
   "metadata": {},
   "source": [
    "## Abbie Cat --> finished!\n"
   ]
  },
  {
   "cell_type": "code",
   "execution_count": 13,
   "metadata": {},
   "outputs": [],
   "source": [
    "\n",
    "chosen_model_abbie = ['https://www.brazzers.com/videos/models/1885/abbie-cat/page/']\n",
    "max_page_len_of_sites_ac = [1]"
   ]
  },
  {
   "cell_type": "markdown",
   "metadata": {},
   "source": [
    "### Scan the PS-Site\n"
   ]
  },
  {
   "cell_type": "code",
   "execution_count": 14,
   "metadata": {},
   "outputs": [
    {
     "ename": "NameError",
     "evalue": "name 'chosen_model_abbie_cat' is not defined",
     "output_type": "error",
     "traceback": [
      "\u001b[0;31m---------------------------------------------------------------------------\u001b[0m",
      "\u001b[0;31mNameError\u001b[0m                                 Traceback (most recent call last)",
      "Cell \u001b[0;32mIn [14], line 20\u001b[0m\n\u001b[1;32m     10\u001b[0m db_actual_site_name_sliced \u001b[39m=\u001b[39m pd\u001b[39m.\u001b[39mDataFrame()\n\u001b[1;32m     12\u001b[0m \u001b[39m# Determination of the maximum number of pages\u001b[39;00m\n\u001b[1;32m     13\u001b[0m \u001b[39m# for lf_root in db_sites[12:13]:\u001b[39;00m\n\u001b[1;32m     14\u001b[0m \u001b[39m#     db_page_tmp_2 = scan_func(lf_root)\u001b[39;00m\n\u001b[1;32m     15\u001b[0m \u001b[39m#     db_page_tmp_2 = [i for i in db_page_tmp if i.startswith('/videos/site/')]\u001b[39;00m\n\u001b[1;32m     16\u001b[0m \u001b[39m#         print('db_page_tmp: ', db_page_tmp_2)\u001b[39;00m\n\u001b[0;32m---> 20\u001b[0m \u001b[39mfor\u001b[39;00m root_site, number \u001b[39min\u001b[39;00m \u001b[39mzip\u001b[39m(chosen_model_abbie_cat[:], max_page_len_of_sites_ac):\n\u001b[1;32m     21\u001b[0m     \u001b[39mprint\u001b[39m(\u001b[39m'\u001b[39m\u001b[39mmax..\u001b[39m\u001b[39m'\u001b[39m , number)\n\u001b[1;32m     24\u001b[0m     \u001b[39m# max_page_number = math.ceil(int(number) / 24)\u001b[39;00m\n",
      "\u001b[0;31mNameError\u001b[0m: name 'chosen_model_abbie_cat' is not defined"
     ]
    }
   ],
   "source": [
    "page_content_db = pd.DataFrame()\n",
    "page_number_db = {}\n",
    "page_content_tmp = {}\n",
    "page_columns = []\n",
    "ps1_db = pd.DataFrame()\n",
    "ps2_db = {}\n",
    "title_db = {}\n",
    "db_actual_site_name = pd.DataFrame()\n",
    "db_final_tmp = pd.DataFrame()\n",
    "db_actual_site_name_sliced = pd.DataFrame()\n",
    "\n",
    "# Determination of the maximum number of pages\n",
    "# for lf_root in db_sites[12:13]:\n",
    "#     db_page_tmp_2 = scan_func(lf_root)\n",
    "#     db_page_tmp_2 = [i for i in db_page_tmp if i.startswith('/videos/site/')]\n",
    "#         print('db_page_tmp: ', db_page_tmp_2)\n",
    "\n",
    "        \n",
    "        \n",
    "for root_site, number in zip(chosen_model_abbie_cat[:], max_page_len_of_sites_ac):\n",
    "    print('max..' , number)\n",
    "  \n",
    "\n",
    "    # max_page_number = math.ceil(int(number) / 24)\n",
    "       \n",
    "    for page_nr in range(1, int(number) + 1):\n",
    "        print('page_nr: ', page_nr)\n",
    "        actual_site = root_site + str(page_nr)\n",
    "        site_name = actual_site.split('/')[-5].replace('-', ' ').title()\n",
    "            \n",
    "        #print('site_name: ', site_name)\n",
    "        db_page_tmp = scan_func(actual_site)\n",
    "        #print('db_page_tmp: ', db_page_tmp)\n",
    "        db_page_video = [i for i in db_page_tmp if i.startswith('/video/')]\n",
    "        \n",
    "        db_page_ps = [i for i in db_page_tmp if i.startswith('/pornstar/')]\n",
    "        ps1 = [h.split('/')[-1].replace('-','_') for h in db_page_ps[::2]]\n",
    "        ps2 = [h.split('/')[-1].replace('-', '_') for h in db_page_ps[1::2]]\n",
    "        \n",
    "        title = [h.split('/')[-1].replace('-', '_') for h in db_page_video[::2]]\n",
    "        \n",
    "        site_tmp = [site_name]\n",
    "        \n",
    "        site = list(site_tmp) * 24\n",
    "        \n",
    "        \n",
    "        \n",
    "        ps1_db = pd.DataFrame(ps1)\n",
    "        ps2_db = pd.DataFrame(ps2)\n",
    "        title_db = pd.DataFrame(title)\n",
    "        site_db = pd.DataFrame(site)\n",
    "        #print('Site_db: ', site_db)\n",
    "        db_all_tmp = pd.concat([site_db, ps1_db, ps2_db, title_db], axis=1)\n",
    "        custom_cols = ['Site', 'PS1', 'PS2', 'Title']\n",
    "        #print('db_all_tmp: ', db_all_tmp)\n",
    "        db_all_tmp.columns = custom_cols\n",
    "        db_actual_site_name = pd.concat([db_actual_site_name, db_all_tmp])\n",
    "        #print('db_all_tmp: ', db_all_tmp)\n",
    "        #print('db_actual_site_name:\\n ', db_actual_site_name)\n",
    "\n",
    "    df_tmp = db_actual_site_name\n",
    "    #print('db_actual_site_name: ', db_actual_site_name)\n",
    "    \n",
    "df_ac_tmp = db_actual_site_name\n",
    "abbie_cat_df = df_ac_tmp[df_ac_tmp['PS1'].notna()]"
   ]
  },
  {
   "cell_type": "markdown",
   "metadata": {},
   "source": [
    "### Get the df of the scanned PS-site\n"
   ]
  },
  {
   "cell_type": "code",
   "execution_count": null,
   "metadata": {},
   "outputs": [],
   "source": [
    "abbie_cat_df"
   ]
  },
  {
   "cell_type": "markdown",
   "metadata": {},
   "source": [
    "### Import the (current) csv-file for comparison, which titles are already listed and which not\n",
    "\n",
    "### This has to be adjusted by hand!\n"
   ]
  },
  {
   "cell_type": "code",
   "execution_count": null,
   "metadata": {},
   "outputs": [],
   "source": [
    "df_cur_final = pd.read_csv('df_final_my_db_10_08_22.csv', index_col=[0])"
   ]
  },
  {
   "cell_type": "markdown",
   "metadata": {},
   "source": [
    "### Get the current titles of the chosen PS in the df_cur_final\n"
   ]
  },
  {
   "cell_type": "code",
   "execution_count": null,
   "metadata": {},
   "outputs": [],
   "source": [
    "chosen_ps = 'Abbie Cat'\n",
    "current_titles_in_df_cur_final = df_cur_final[df_cur_final['PS1'] == chosen_ps][['Title']]"
   ]
  },
  {
   "cell_type": "code",
   "execution_count": null,
   "metadata": {},
   "outputs": [],
   "source": [
    "current_titles_in_df_cur_final"
   ]
  },
  {
   "cell_type": "markdown",
   "metadata": {},
   "source": [
    "### Get the list of the titles from the chosen PS\n"
   ]
  },
  {
   "cell_type": "code",
   "execution_count": null,
   "metadata": {},
   "outputs": [],
   "source": [
    "abbie_cat_df['Title']"
   ]
  },
  {
   "cell_type": "markdown",
   "metadata": {},
   "source": [
    "### Define the search function to find the titles\n"
   ]
  },
  {
   "cell_type": "code",
   "execution_count": null,
   "metadata": {},
   "outputs": [],
   "source": [
    "def search(dataFrame, search_string):\n",
    "    mask = (dataFrame.applymap(lambda x: isinstance(x, str) and search_string in x)).any(1)\n",
    "    #print('mask: ', mask)\n",
    "    return dataFrame[mask]"
   ]
  },
  {
   "cell_type": "markdown",
   "metadata": {},
   "source": [
    "### The command below are made by hand, so see, which titles are inside the df_cur_final!\n"
   ]
  },
  {
   "cell_type": "code",
   "execution_count": null,
   "metadata": {},
   "outputs": [],
   "source": [
    "search(current_titles_in_df_cur_final, 'womens')"
   ]
  },
  {
   "cell_type": "markdown",
   "metadata": {},
   "source": [
    "---\n"
   ]
  },
  {
   "cell_type": "markdown",
   "metadata": {},
   "source": [
    "## Alena Croft --> finished\n"
   ]
  },
  {
   "cell_type": "code",
   "execution_count": null,
   "metadata": {},
   "outputs": [],
   "source": [
    "chosen_model_alena_croft = ['https://www.brazzers.com/videos/models/4005/alena-croft/page/']\n",
    "max_page_len_of_sites_alc = [2]"
   ]
  },
  {
   "cell_type": "code",
   "execution_count": null,
   "metadata": {},
   "outputs": [],
   "source": [
    "page_content_db = pd.DataFrame()\n",
    "page_number_db = {}\n",
    "page_content_tmp = {}\n",
    "page_columns = []\n",
    "ps1_db = pd.DataFrame()\n",
    "ps2_db = {}\n",
    "title_db = {}\n",
    "db_actual_site_name = pd.DataFrame()\n",
    "db_final_tmp = pd.DataFrame()\n",
    "db_actual_site_name_sliced = pd.DataFrame()\n",
    "\n",
    "# Determination of the maximum number of pages\n",
    "# for lf_root in db_sites[12:13]:\n",
    "#     db_page_tmp_2 = scan_func(lf_root)\n",
    "#     db_page_tmp_2 = [i for i in db_page_tmp if i.startswith('/videos/site/')]\n",
    "#         print('db_page_tmp: ', db_page_tmp_2)\n",
    "\n",
    "        \n",
    "        \n",
    "for root_site, number in zip(chosen_model_alena_croft[:], max_page_len_of_sites_alc):\n",
    "    print('max..' , number)\n",
    "  \n",
    "\n",
    "    # max_page_number = math.ceil(int(number) / 24)\n",
    "       \n",
    "    for page_nr in range(1, int(number) + 1):\n",
    "        print('page_nr: ', page_nr)\n",
    "        actual_site = root_site + str(page_nr)\n",
    "        site_name = actual_site.split('/')[-5].replace('-', ' ').title()\n",
    "            \n",
    "        #print('site_name: ', site_name)\n",
    "        db_page_tmp = scan_func(actual_site)\n",
    "        #print('db_page_tmp: ', db_page_tmp)\n",
    "        db_page_video = [i for i in db_page_tmp if i.startswith('/video/')]\n",
    "        \n",
    "        db_page_ps = [i for i in db_page_tmp if i.startswith('/pornstar/')]\n",
    "        ps1 = [h.split('/')[-1].replace('-','_') for h in db_page_ps[::2]]\n",
    "        ps2 = [h.split('/')[-1].replace('-', '_') for h in db_page_ps[1::2]]\n",
    "        \n",
    "        title = [h.split('/')[-1].replace('-', '_') for h in db_page_video[::2]]\n",
    "        \n",
    "        site_tmp = [site_name]\n",
    "        \n",
    "        site = list(site_tmp) * 24\n",
    "        \n",
    "        \n",
    "        \n",
    "        ps1_db = pd.DataFrame(ps1)\n",
    "        ps2_db = pd.DataFrame(ps2)\n",
    "        title_db = pd.DataFrame(title)\n",
    "        site_db = pd.DataFrame(site)\n",
    "        #print('Site_db: ', site_db)\n",
    "        db_all_tmp = pd.concat([site_db, ps1_db, ps2_db, title_db], axis=1)\n",
    "        custom_cols = ['Site', 'PS1', 'PS2', 'Title']\n",
    "        #print('db_all_tmp: ', db_all_tmp)\n",
    "        db_all_tmp.columns = custom_cols\n",
    "        db_actual_site_name = pd.concat([db_actual_site_name, db_all_tmp])\n",
    "        #print('db_all_tmp: ', db_all_tmp)\n",
    "        #print('db_actual_site_name:\\n ', db_actual_site_name)\n",
    "\n",
    "    df_tmp = db_actual_site_name\n",
    "    #print('db_actual_site_name: ', db_actual_site_name)\n",
    "    \n",
    "df_alc_tmp = db_actual_site_name\n",
    "alena_croft_df = df_alc_tmp[df_alc_tmp['PS1'].notna()]"
   ]
  },
  {
   "cell_type": "code",
   "execution_count": null,
   "metadata": {},
   "outputs": [],
   "source": [
    "alena_croft_df"
   ]
  },
  {
   "cell_type": "code",
   "execution_count": null,
   "metadata": {},
   "outputs": [],
   "source": [
    "df_cur_final = pd.read_csv('df_final_my_db_10_08_22.csv', index_col=[0])"
   ]
  },
  {
   "cell_type": "markdown",
   "metadata": {},
   "source": [
    "### Get the current titles of chosen PS within df_cur_final\n"
   ]
  },
  {
   "cell_type": "code",
   "execution_count": null,
   "metadata": {},
   "outputs": [],
   "source": [
    "chosen_ps = 'Alena Croft'\n",
    "current_titles_in_df_cur_final = df_cur_final[df_cur_final['PS1'] == chosen_ps][['Title']]"
   ]
  },
  {
   "cell_type": "code",
   "execution_count": null,
   "metadata": {},
   "outputs": [],
   "source": [
    "alena_croft_df"
   ]
  },
  {
   "cell_type": "code",
   "execution_count": null,
   "metadata": {},
   "outputs": [],
   "source": [
    "current_titles_in_df_cur_final"
   ]
  },
  {
   "cell_type": "markdown",
   "metadata": {},
   "source": [
    "### Try to loop through the complete title-list of the choosen ps and search for the titles within the df_cur_final\n"
   ]
  },
  {
   "cell_type": "code",
   "execution_count": null,
   "metadata": {},
   "outputs": [],
   "source": [
    "def search_titles(dataFrame, search_string):\n",
    "    mask = (dataFrame.applymap(lambda x: isinstance(x, str) and search_string in x)).any(1)\n",
    "    #print('mask: ', dataFrame[mask]['Title'])\n",
    "    return dataFrame[mask]['Title']"
   ]
  },
  {
   "cell_type": "code",
   "execution_count": null,
   "metadata": {},
   "outputs": [],
   "source": [
    "zz_db = []\n",
    "zz = 0\n",
    "missing_titles = []\n",
    "for single_title in alena_croft_df['Title']:\n",
    "    found_titles = search_titles(current_titles_in_df_cur_final, single_title)\n",
    "    if found_titles.empty:\n",
    "        missing_titles.append(single_title)\n",
    "    sttr = f\"nr: {zz}  Title: {single_title} DF empty: {found_titles.empty}\"\n",
    "    print(sttr)\n",
    "    \n",
    "    zz = zz+1"
   ]
  },
  {
   "cell_type": "code",
   "execution_count": null,
   "metadata": {},
   "outputs": [],
   "source": [
    "missing_titles"
   ]
  },
  {
   "cell_type": "code",
   "execution_count": null,
   "metadata": {},
   "outputs": [],
   "source": [
    "current_titles_in_df_cur_final"
   ]
  },
  {
   "cell_type": "code",
   "execution_count": null,
   "metadata": {},
   "outputs": [],
   "source": [
    "search(current_titles_in_df_cur_final, 'busy')"
   ]
  },
  {
   "cell_type": "markdown",
   "metadata": {},
   "source": [
    "---\n"
   ]
  },
  {
   "cell_type": "markdown",
   "metadata": {},
   "source": [
    "## Aletta Ocean --> finished (temporary)\n"
   ]
  },
  {
   "cell_type": "code",
   "execution_count": null,
   "metadata": {},
   "outputs": [],
   "source": [
    "actual_ps = 'Aletta Ocean'\n",
    "chosen_model_brazz_site = ['https://www.brazzers.com/videos/models/2167/aletta-ocean/page/']\n",
    "max_page_len_of_chosen_model = [2]"
   ]
  },
  {
   "cell_type": "code",
   "execution_count": null,
   "metadata": {},
   "outputs": [],
   "source": [
    "page_content_db = pd.DataFrame()\n",
    "page_number_db = {}\n",
    "page_content_tmp = {}\n",
    "page_columns = []\n",
    "ps1_db = pd.DataFrame()\n",
    "ps2_db = {}\n",
    "title_db = {}\n",
    "db_actual_site_name = pd.DataFrame()\n",
    "db_final_tmp = pd.DataFrame()\n",
    "db_actual_site_name_sliced = pd.DataFrame()\n",
    "\n",
    "       \n",
    "        \n",
    "for root_site, number in zip(chosen_model_brazz_site[:], max_page_len_of_chosen_model):\n",
    "    print('max..' , number)\n",
    "  \n",
    "    # max_page_number = math.ceil(int(number) / 24)\n",
    "       \n",
    "    for page_nr in range(1, int(number) + 1):\n",
    "        print('page_nr: ', page_nr)\n",
    "        actual_site = root_site + str(page_nr)\n",
    "        site_name = actual_site.split('/')[-5].replace('-', ' ').title()\n",
    "            \n",
    "        #print('site_name: ', site_name)\n",
    "        db_page_tmp = scan_func(actual_site)\n",
    "        #print('db_page_tmp: ', db_page_tmp)\n",
    "        db_page_video = [i for i in db_page_tmp if i.startswith('/video/')]\n",
    "        \n",
    "        db_page_ps = [i for i in db_page_tmp if i.startswith('/pornstar/')]\n",
    "        ps1 = [h.split('/')[-1].replace('-','_') for h in db_page_ps[::2]]\n",
    "        ps2 = [h.split('/')[-1].replace('-', '_') for h in db_page_ps[1::2]]\n",
    "        \n",
    "        title = [h.split('/')[-1].replace('-', '_') for h in db_page_video[::2]]\n",
    "        \n",
    "        site_tmp = [site_name]\n",
    "        \n",
    "        site = list(site_tmp) * 24\n",
    "                        \n",
    "        ps1_db = pd.DataFrame(ps1)\n",
    "        ps2_db = pd.DataFrame(ps2)\n",
    "        title_db = pd.DataFrame(title)\n",
    "        site_db = pd.DataFrame(site)\n",
    "        #print('Site_db: ', site_db)\n",
    "        db_all_tmp = pd.concat([site_db, ps1_db, ps2_db, title_db], axis=1)\n",
    "        custom_cols = ['Site', 'PS1', 'PS2', 'Title']\n",
    "        #print('db_all_tmp: ', db_all_tmp)\n",
    "        db_all_tmp.columns = custom_cols\n",
    "        db_actual_site_name = pd.concat([db_actual_site_name, db_all_tmp])\n",
    "        #print('db_all_tmp: ', db_all_tmp)\n",
    "        #print('db_actual_site_name:\\n ', db_actual_site_name)\n",
    "\n",
    "    df_tmp = db_actual_site_name\n",
    "    #print('db_actual_site_name: ', db_actual_site_name)\n",
    "    \n",
    "df_chosen_model_tmp = db_actual_site_name\n",
    "chosen_model_df = df_chosen_model_tmp[df_chosen_model_tmp['PS1'].notna()]"
   ]
  },
  {
   "cell_type": "code",
   "execution_count": null,
   "metadata": {},
   "outputs": [],
   "source": [
    "len(chosen_model_df)"
   ]
  },
  {
   "cell_type": "code",
   "execution_count": null,
   "metadata": {},
   "outputs": [],
   "source": [
    "df_curent_final = pd.read_csv('df_final_my_db_12_08_22.csv', index_col=[0])"
   ]
  },
  {
   "cell_type": "markdown",
   "metadata": {},
   "source": [
    "#### Get the current titles of the chosen PS within the df_current_final df\n"
   ]
  },
  {
   "cell_type": "code",
   "execution_count": null,
   "metadata": {},
   "outputs": [],
   "source": [
    "current_titles_in_df_curent_final = df_curent_final[df_curent_final['PS1'] == actual_ps][['Title']]"
   ]
  },
  {
   "cell_type": "code",
   "execution_count": null,
   "metadata": {},
   "outputs": [],
   "source": [
    "len(current_titles_in_df_curent_final)"
   ]
  },
  {
   "cell_type": "markdown",
   "metadata": {},
   "source": [
    "#### Try to loop through title_list of chosen PS to find missing titles..\n"
   ]
  },
  {
   "cell_type": "code",
   "execution_count": null,
   "metadata": {},
   "outputs": [],
   "source": [
    "def search_titles(dataFrame, search_string):\n",
    "    mask = (dataFrame.applymap(lambda x: isinstance(x, str) and search_string in x)).any(1)\n",
    "    #print('mask: ', dataFrame[mask]['Title'])\n",
    "    return dataFrame[mask]['Title']"
   ]
  },
  {
   "cell_type": "code",
   "execution_count": null,
   "metadata": {},
   "outputs": [],
   "source": [
    "zz = 0\n",
    "missing_titles = []\n",
    "for single_title in chosen_model_df['Title']:\n",
    "    found_titles = search_titles(current_titles_in_df_curent_final, single_title)\n",
    "    if found_titles.empty:\n",
    "        missing_titles.append(single_title)\n",
    "    sttr = f\"nr: {zz}  Title: {single_title} DF empty: {found_titles.empty}\"\n",
    "    #print(sttr)\n",
    "    zz = zz+1"
   ]
  },
  {
   "cell_type": "code",
   "execution_count": null,
   "metadata": {},
   "outputs": [],
   "source": [
    "missing_titles"
   ]
  },
  {
   "cell_type": "markdown",
   "metadata": {},
   "source": [
    "#### Specify the location of the missing titles.\n"
   ]
  },
  {
   "cell_type": "code",
   "execution_count": null,
   "metadata": {},
   "outputs": [],
   "source": [
    "search_string = 'car'\n",
    "search_titles(current_titles_in_df_curent_final, search_string)"
   ]
  },
  {
   "cell_type": "code",
   "execution_count": null,
   "metadata": {},
   "outputs": [],
   "source": [
    "search_titles(current_titles_in_df_curent_final, search_string).index[0].item()"
   ]
  },
  {
   "cell_type": "code",
   "execution_count": null,
   "metadata": {},
   "outputs": [],
   "source": [
    "df_curent_final.loc[search_titles(current_titles_in_df_curent_final, search_string).index[0].item()]"
   ]
  },
  {
   "cell_type": "markdown",
   "metadata": {},
   "source": [
    "## Alexis Ford --> finished (temporary)\n"
   ]
  },
  {
   "cell_type": "code",
   "execution_count": null,
   "metadata": {},
   "outputs": [],
   "source": [
    "actual_ps = 'Alexis Ford'\n",
    "chosen_model_brazz_site = ['https://www.brazzers.com/videos/models/1321/alexis-ford/page/']\n",
    "max_page_len_of_chosen_model = [1]"
   ]
  },
  {
   "cell_type": "code",
   "execution_count": null,
   "metadata": {},
   "outputs": [],
   "source": [
    "page_content_db = pd.DataFrame()\n",
    "page_number_db = {}\n",
    "page_content_tmp = {}\n",
    "page_columns = []\n",
    "ps1_db = pd.DataFrame()\n",
    "ps2_db = {}\n",
    "title_db = {}\n",
    "db_actual_site_name = pd.DataFrame()\n",
    "db_final_tmp = pd.DataFrame()\n",
    "db_actual_site_name_sliced = pd.DataFrame()\n",
    "\n",
    "       \n",
    "        \n",
    "for root_site, number in zip(chosen_model_brazz_site[:], max_page_len_of_chosen_model):\n",
    "    print('max..' , number)\n",
    "  \n",
    "    # max_page_number = math.ceil(int(number) / 24)\n",
    "       \n",
    "    for page_nr in range(1, int(number) + 1):\n",
    "        print('page_nr: ', page_nr)\n",
    "        actual_site = root_site + str(page_nr)\n",
    "        site_name = actual_site.split('/')[-5].replace('-', ' ').title()\n",
    "            \n",
    "        #print('site_name: ', site_name)\n",
    "        db_page_tmp = scan_func(actual_site)\n",
    "        #print('db_page_tmp: ', db_page_tmp)\n",
    "        db_page_video = [i for i in db_page_tmp if i.startswith('/video/')]\n",
    "        \n",
    "        db_page_ps = [i for i in db_page_tmp if i.startswith('/pornstar/')]\n",
    "        ps1 = [h.split('/')[-1].replace('-','_') for h in db_page_ps[::2]]\n",
    "        ps2 = [h.split('/')[-1].replace('-', '_') for h in db_page_ps[1::2]]\n",
    "        \n",
    "        title = [h.split('/')[-1].replace('-', '_') for h in db_page_video[::2]]\n",
    "        \n",
    "        site_tmp = [site_name]\n",
    "        \n",
    "        site = list(site_tmp) * 24\n",
    "                        \n",
    "        ps1_db = pd.DataFrame(ps1)\n",
    "        ps2_db = pd.DataFrame(ps2)\n",
    "        title_db = pd.DataFrame(title)\n",
    "        site_db = pd.DataFrame(site)\n",
    "        #print('Site_db: ', site_db)\n",
    "        db_all_tmp = pd.concat([site_db, ps1_db, ps2_db, title_db], axis=1)\n",
    "        custom_cols = ['Site', 'PS1', 'PS2', 'Title']\n",
    "        #print('db_all_tmp: ', db_all_tmp)\n",
    "        db_all_tmp.columns = custom_cols\n",
    "        db_actual_site_name = pd.concat([db_actual_site_name, db_all_tmp])\n",
    "        #print('db_all_tmp: ', db_all_tmp)\n",
    "        #print('db_actual_site_name:\\n ', db_actual_site_name)\n",
    "\n",
    "    df_tmp = db_actual_site_name\n",
    "    #print('db_actual_site_name: ', db_actual_site_name)\n",
    "    \n",
    "df_chosen_model_tmp = db_actual_site_name\n",
    "chosen_model_df = df_chosen_model_tmp[df_chosen_model_tmp['PS1'].notna()]\n",
    "\n",
    "print('count of titles: ', len(chosen_model_df))"
   ]
  },
  {
   "cell_type": "code",
   "execution_count": null,
   "metadata": {},
   "outputs": [],
   "source": [
    "def search_titles(dataFrame, search_string):\n",
    "    mask = (dataFrame.applymap(lambda x: isinstance(x, str) and search_string in x)).any(1)\n",
    "    #print('mask: ', dataFrame[mask]['Title'])\n",
    "    return dataFrame[mask]['Title']"
   ]
  },
  {
   "cell_type": "code",
   "execution_count": null,
   "metadata": {},
   "outputs": [],
   "source": [
    "df_curent_final = pd.read_csv('df_final_my_db_16_08_22.csv', index_col=[0])\n",
    "current_titles_in_df_curent_final = df_curent_final[df_curent_final['PS1'] == actual_ps][['Title']]"
   ]
  },
  {
   "cell_type": "code",
   "execution_count": null,
   "metadata": {},
   "outputs": [],
   "source": [
    "len(current_titles_in_df_curent_final)"
   ]
  },
  {
   "cell_type": "code",
   "execution_count": null,
   "metadata": {},
   "outputs": [],
   "source": [
    "current_titles_in_df_curent_final"
   ]
  },
  {
   "cell_type": "code",
   "execution_count": null,
   "metadata": {},
   "outputs": [],
   "source": [
    "zz = 0\n",
    "missing_titles = []\n",
    "for single_title in chosen_model_df['Title']:\n",
    "    found_titles = search_titles(current_titles_in_df_curent_final, single_title)\n",
    "    if found_titles.empty:\n",
    "        missing_titles.append(single_title)\n",
    "    sttr = f\"nr: {zz}  Title: {single_title} DF empty: {found_titles.empty}\"\n",
    "    #print(sttr)\n",
    "    zz = zz+1"
   ]
  },
  {
   "cell_type": "code",
   "execution_count": null,
   "metadata": {},
   "outputs": [],
   "source": [
    "missing_titles"
   ]
  },
  {
   "cell_type": "markdown",
   "metadata": {},
   "source": [
    "#### Specify the location of the search\n"
   ]
  },
  {
   "cell_type": "code",
   "execution_count": null,
   "metadata": {},
   "outputs": [],
   "source": [
    "search_string = 'cheering'\n",
    "search_titles(current_titles_in_df_curent_final, search_string)\n",
    "search_titles(current_titles_in_df_curent_final, search_string).index[0].item()\n",
    "df_curent_final.loc[search_titles(current_titles_in_df_curent_final, search_string).index[0].item()]"
   ]
  },
  {
   "cell_type": "code",
   "execution_count": null,
   "metadata": {},
   "outputs": [],
   "source": []
  },
  {
   "cell_type": "markdown",
   "metadata": {},
   "source": [
    "## Angel Wicky --> finished\n"
   ]
  },
  {
   "cell_type": "code",
   "execution_count": null,
   "metadata": {},
   "outputs": [],
   "source": [
    "actual_ps = 'Angel Wicky'\n",
    "chosen_model_brazz_site = ['https://www.brazzers.com/videos/models/15995/angel-wicky/page/']\n",
    "max_page_len_of_chosen_model = [1]"
   ]
  },
  {
   "cell_type": "code",
   "execution_count": null,
   "metadata": {},
   "outputs": [],
   "source": [
    "page_content_db = pd.DataFrame()\n",
    "page_number_db = {}\n",
    "page_content_tmp = {}\n",
    "page_columns = []\n",
    "ps1_db = pd.DataFrame()\n",
    "ps2_db = {}\n",
    "title_db = {}\n",
    "db_actual_site_name = pd.DataFrame()\n",
    "db_final_tmp = pd.DataFrame()\n",
    "db_actual_site_name_sliced = pd.DataFrame()\n",
    "\n",
    "       \n",
    "        \n",
    "for root_site, number in zip(chosen_model_brazz_site[:], max_page_len_of_chosen_model):\n",
    "    print('max..' , number)\n",
    "  \n",
    "    # max_page_number = math.ceil(int(number) / 24)\n",
    "       \n",
    "    for page_nr in range(1, int(number) + 1):\n",
    "        print('page_nr: ', page_nr)\n",
    "        actual_site = root_site + str(page_nr)\n",
    "        site_name = actual_site.split('/')[-5].replace('-', ' ').title()\n",
    "            \n",
    "        #print('site_name: ', site_name)\n",
    "        db_page_tmp = scan_func(actual_site)\n",
    "        #print('db_page_tmp: ', db_page_tmp)\n",
    "        db_page_video = [i for i in db_page_tmp if i.startswith('/video/')]\n",
    "        \n",
    "        db_page_ps = [i for i in db_page_tmp if i.startswith('/pornstar/')]\n",
    "        ps1 = [h.split('/')[-1].replace('-','_') for h in db_page_ps[::2]]\n",
    "        ps2 = [h.split('/')[-1].replace('-', '_') for h in db_page_ps[1::2]]\n",
    "        \n",
    "        title = [h.split('/')[-1].replace('-', '_') for h in db_page_video[::2]]\n",
    "        \n",
    "        site_tmp = [site_name]\n",
    "        \n",
    "        site = list(site_tmp) * 24\n",
    "                        \n",
    "        ps1_db = pd.DataFrame(ps1)\n",
    "        ps2_db = pd.DataFrame(ps2)\n",
    "        title_db = pd.DataFrame(title)\n",
    "        site_db = pd.DataFrame(site)\n",
    "        #print('Site_db: ', site_db)\n",
    "        db_all_tmp = pd.concat([site_db, ps1_db, ps2_db, title_db], axis=1)\n",
    "        custom_cols = ['Site', 'PS1', 'PS2', 'Title']\n",
    "        #print('db_all_tmp: ', db_all_tmp)\n",
    "        db_all_tmp.columns = custom_cols\n",
    "        db_actual_site_name = pd.concat([db_actual_site_name, db_all_tmp])\n",
    "        #print('db_all_tmp: ', db_all_tmp)\n",
    "        #print('db_actual_site_name:\\n ', db_actual_site_name)\n",
    "\n",
    "    df_tmp = db_actual_site_name\n",
    "    #print('db_actual_site_name: ', db_actual_site_name)\n",
    "    \n",
    "df_chosen_model_tmp = db_actual_site_name\n",
    "chosen_model_df = df_chosen_model_tmp[df_chosen_model_tmp['PS1'].notna()]\n",
    "\n",
    "print('count of titles: ', len(chosen_model_df))"
   ]
  },
  {
   "cell_type": "code",
   "execution_count": null,
   "metadata": {},
   "outputs": [],
   "source": [
    "def search_titles(dataFrame, search_string):\n",
    "    mask = (dataFrame.applymap(lambda x: isinstance(x, str) and search_string in x)).any(1)\n",
    "    #print('mask: ', dataFrame[mask]['Title'])\n",
    "    return dataFrame[mask]['Title']"
   ]
  },
  {
   "cell_type": "code",
   "execution_count": null,
   "metadata": {},
   "outputs": [],
   "source": [
    "df_curent_final = pd.read_csv('df_final_my_db_16_08_22.csv', index_col=[0])\n",
    "current_titles_in_df_curent_final = df_curent_final[df_curent_final['PS1'] == actual_ps][['Title']]"
   ]
  },
  {
   "cell_type": "code",
   "execution_count": null,
   "metadata": {},
   "outputs": [],
   "source": [
    "current_titles_in_df_curent_final"
   ]
  },
  {
   "cell_type": "code",
   "execution_count": null,
   "metadata": {},
   "outputs": [],
   "source": [
    "zz = 0\n",
    "missing_titles = []\n",
    "for single_title in chosen_model_df['Title']:\n",
    "    found_titles = search_titles(current_titles_in_df_curent_final, single_title)\n",
    "    if found_titles.empty:\n",
    "        missing_titles.append(single_title)\n",
    "    sttr = f\"nr: {zz}  Title: {single_title} DF empty: {found_titles.empty}\"\n",
    "    #print(sttr)\n",
    "    zz = zz+1"
   ]
  },
  {
   "cell_type": "code",
   "execution_count": null,
   "metadata": {},
   "outputs": [],
   "source": [
    "missing_titles"
   ]
  },
  {
   "cell_type": "markdown",
   "metadata": {},
   "source": [
    "#### Specify the search..\n"
   ]
  },
  {
   "cell_type": "code",
   "execution_count": null,
   "metadata": {},
   "outputs": [],
   "source": [
    "search_string = 'cum'\n",
    "search_titles(current_titles_in_df_curent_final, search_string)\n",
    "search_titles(current_titles_in_df_curent_final, search_string).index[0].item()\n",
    "df_curent_final.loc[search_titles(current_titles_in_df_curent_final, search_string).index[0].item()]"
   ]
  },
  {
   "cell_type": "markdown",
   "metadata": {},
   "source": [
    "## Angela White --> finished\n"
   ]
  },
  {
   "cell_type": "code",
   "execution_count": null,
   "metadata": {},
   "outputs": [],
   "source": [
    "# Individually adjusted\n",
    "actual_ps = 'Angela White'\n",
    "chosen_model_brazz_site = ['https://www.brazzers.com/videos/models/4685/angela-white/page/']\n",
    "max_page_len_of_chosen_model = [3]\n",
    "\n",
    "# Next function is automatically \n"
   ]
  },
  {
   "cell_type": "code",
   "execution_count": null,
   "metadata": {},
   "outputs": [],
   "source": [
    "from create_df_actual_ps import create_df_actual_ps"
   ]
  },
  {
   "cell_type": "code",
   "execution_count": null,
   "metadata": {},
   "outputs": [],
   "source": [
    "chosen_model_df = create_df_actual_ps(actual_ps, chosen_model_brazz_site, max_page_len_of_chosen_model)"
   ]
  },
  {
   "cell_type": "code",
   "execution_count": null,
   "metadata": {},
   "outputs": [],
   "source": [
    "def search_titles(dataFrame, search_string):\n",
    "    mask = (dataFrame.applymap(lambda x: isinstance(x, str) and search_string in x)).any(1)\n",
    "    #print('mask: ', dataFrame[mask]['Title'])\n",
    "    return dataFrame[mask]#['Title']"
   ]
  },
  {
   "cell_type": "markdown",
   "metadata": {},
   "source": [
    "Read the actual df of my_db\n"
   ]
  },
  {
   "cell_type": "code",
   "execution_count": null,
   "metadata": {},
   "outputs": [],
   "source": [
    "import pandas as pd\n",
    "df_curent_final = pd.read_csv('df_final_my_db_30_08_22.csv', index_col=[0])\n",
    "current_titles_in_df_curent_final = df_curent_final[(df_curent_final['PS1'] == actual_ps) |\n",
    "                                                    (df_curent_final['PS2'] == actual_ps) ][['Title']]\n"
   ]
  },
  {
   "cell_type": "code",
   "execution_count": null,
   "metadata": {},
   "outputs": [],
   "source": [
    "current_titles_in_df_curent_final"
   ]
  },
  {
   "cell_type": "markdown",
   "metadata": {},
   "source": [
    "Define function for missing titles\n"
   ]
  },
  {
   "cell_type": "code",
   "execution_count": null,
   "metadata": {},
   "outputs": [],
   "source": [
    "def missing_titles_new(chosen_model_df):\n",
    "    zz = 0\n",
    "    missing_titles = []\n",
    "    for single_title in chosen_model_df['Title']:\n",
    "        found_titles = search_titles(current_titles_in_df_curent_final, single_title)\n",
    "        #print('found_titles: ', found_titles)\n",
    "        if found_titles.empty:\n",
    "            missing_titles.append(single_title)\n",
    "        sttr = f\"nr: {zz}  Title: {single_title} DF empty: {found_titles.empty}\"\n",
    "        #print(sttr)\n",
    "        zz = zz+1\n",
    "    return missing_titles"
   ]
  },
  {
   "cell_type": "code",
   "execution_count": null,
   "metadata": {},
   "outputs": [],
   "source": [
    "missing_titles_new(chosen_model_df)"
   ]
  },
  {
   "cell_type": "code",
   "execution_count": null,
   "metadata": {},
   "outputs": [],
   "source": [
    "pd.set_option('display.max.rows', 500)\n",
    "chosen_model_df"
   ]
  },
  {
   "cell_type": "markdown",
   "metadata": {},
   "source": [
    "Specify the search\n"
   ]
  },
  {
   "cell_type": "code",
   "execution_count": null,
   "metadata": {},
   "outputs": [],
   "source": [
    "search_string = 'bay'\n",
    "# search_titles(current_titles_in_df_curent_final, search_string)\n",
    "# search_titles(current_titles_in_df_curent_final, search_string).index[0].item()\n",
    "df_curent_final.loc[search_titles(current_titles_in_df_curent_final, search_string).index[0].item()]"
   ]
  },
  {
   "cell_type": "code",
   "execution_count": null,
   "metadata": {},
   "outputs": [],
   "source": [
    "search_titles(current_titles_in_df_curent_final, search_string)#.index[0].item()"
   ]
  },
  {
   "cell_type": "code",
   "execution_count": null,
   "metadata": {},
   "outputs": [],
   "source": [
    "current_titles_in_df_curent_final"
   ]
  },
  {
   "cell_type": "code",
   "execution_count": null,
   "metadata": {},
   "outputs": [],
   "source": [
    "search_titles(current_titles_in_df_curent_final, search_string)"
   ]
  },
  {
   "cell_type": "markdown",
   "metadata": {},
   "source": [
    "# Ava Addams --> finished (temporary)\n"
   ]
  },
  {
   "cell_type": "code",
   "execution_count": null,
   "metadata": {},
   "outputs": [],
   "source": [
    "# Individually adjusted\n",
    "actual_ps = 'Ava Addams'\n",
    "chosen_model_brazz_site = ['https://www.brazzers.com/videos/models/1757/ava-addams/page/']\n",
    "max_page_len_of_chosen_model = [4]"
   ]
  },
  {
   "cell_type": "markdown",
   "metadata": {},
   "source": [
    "Get the df from the bra site for the actual ps\n"
   ]
  },
  {
   "cell_type": "code",
   "execution_count": null,
   "metadata": {},
   "outputs": [],
   "source": [
    "from create_df_actual_ps import create_df_actual_ps\n",
    "chosen_model_df = create_df_actual_ps(actual_ps, chosen_model_brazz_site, max_page_len_of_chosen_model)"
   ]
  },
  {
   "cell_type": "markdown",
   "metadata": {},
   "source": [
    "Define functions for help\n"
   ]
  },
  {
   "cell_type": "code",
   "execution_count": null,
   "metadata": {},
   "outputs": [],
   "source": [
    "def search_titles(dataFrame, search_string):\n",
    "    mask = (dataFrame.applymap(lambda x: isinstance(x, str) and search_string in x)).any(1)\n",
    "    #print('mask: ', dataFrame[mask]['Title'])\n",
    "    return dataFrame[mask]#['Title']"
   ]
  },
  {
   "cell_type": "markdown",
   "metadata": {},
   "source": [
    "Get the current titles of the df_final of the actual ps\n"
   ]
  },
  {
   "cell_type": "code",
   "execution_count": null,
   "metadata": {},
   "outputs": [],
   "source": [
    "import pandas as pd\n",
    "df_curent_final = pd.read_csv('df_final_my_db_15_09_22.csv', index_col=[0])\n",
    "current_titles_in_df_curent_final = df_curent_final[(df_curent_final['PS1'] == actual_ps) |\n",
    "                                                    (df_curent_final['PS2'] == actual_ps) |\n",
    "                                                    (df_curent_final['PS3'] == actual_ps) |\n",
    "                                                    (df_curent_final['PS4'] == actual_ps) |\n",
    "                                                    (df_curent_final['PS5'] == actual_ps) |\n",
    "                                                    (df_curent_final['PS6'] == actual_ps) |\n",
    "                                                    (df_curent_final['PS7'] == actual_ps) |\n",
    "                                                    (df_curent_final['PS8'] == actual_ps) |\n",
    "                                                    (df_curent_final['PS9'] == actual_ps) |\n",
    "                                                    (df_curent_final['PS10'] == actual_ps)][['Title']]"
   ]
  },
  {
   "cell_type": "code",
   "execution_count": null,
   "metadata": {},
   "outputs": [],
   "source": [
    "len(df_curent_final), len(current_titles_in_df_curent_final), len(chosen_model_df)"
   ]
  },
  {
   "cell_type": "code",
   "execution_count": null,
   "metadata": {},
   "outputs": [],
   "source": [
    "current_titles_in_df_curent_final.head()"
   ]
  },
  {
   "cell_type": "markdown",
   "metadata": {},
   "source": [
    "Define the missing titles...\n"
   ]
  },
  {
   "cell_type": "code",
   "execution_count": null,
   "metadata": {},
   "outputs": [],
   "source": [
    "def missing_titles_new(chosen_model_df):\n",
    "    zz = 0\n",
    "    missing_titles = []\n",
    "    for single_title in chosen_model_df['Title']:\n",
    "        found_titles = search_titles(current_titles_in_df_curent_final, single_title)\n",
    "        #print('found_titles: ', found_titles)\n",
    "        if found_titles.empty:\n",
    "            missing_titles.append(single_title)\n",
    "        sttr = f\"nr: {zz}  Title: {single_title} DF empty: {found_titles.empty}\"\n",
    "        #print(sttr)\n",
    "        zz = zz+1\n",
    "    return missing_titles"
   ]
  },
  {
   "cell_type": "code",
   "execution_count": null,
   "metadata": {},
   "outputs": [],
   "source": [
    "missing_titles = missing_titles_new(chosen_model_df)\n",
    "missing_titles[20:30]"
   ]
  },
  {
   "cell_type": "markdown",
   "metadata": {},
   "source": [
    "Specify the search\n"
   ]
  },
  {
   "cell_type": "code",
   "execution_count": null,
   "metadata": {},
   "outputs": [],
   "source": [
    "search_string = 'asshole'\n",
    "df_curent_final.loc[search_titles(current_titles_in_df_curent_final, search_string).index[0].item()]"
   ]
  },
  {
   "cell_type": "markdown",
   "metadata": {},
   "source": [
    "# Bridgette B --> finished (temporary)"
   ]
  },
  {
   "cell_type": "code",
   "execution_count": null,
   "metadata": {},
   "outputs": [],
   "source": [
    "# Individually adjusted\n",
    "actual_ps = 'Bridgette B'\n",
    "chosen_model_brazz_site = ['https://www.brazzers.com/videos/models/371/bridgette-b/page/']\n",
    "max_page_len_of_chosen_model = [5]"
   ]
  },
  {
   "cell_type": "markdown",
   "metadata": {},
   "source": [
    "Get df from braz site for the actual ps"
   ]
  },
  {
   "cell_type": "code",
   "execution_count": null,
   "metadata": {},
   "outputs": [],
   "source": [
    "from create_df_actual_ps import create_df_actual_ps\n",
    "chosen_model_df = create_df_actual_ps(actual_ps, chosen_model_brazz_site, max_page_len_of_chosen_model)"
   ]
  },
  {
   "cell_type": "markdown",
   "metadata": {},
   "source": [
    "Define function for help"
   ]
  },
  {
   "cell_type": "code",
   "execution_count": null,
   "metadata": {},
   "outputs": [],
   "source": [
    "# def search_titles(dataFrame, search_string):\n",
    "#     mask = (dataFrame.applymap(lambda x: isinstance(x, str) and search_string in x)).any(1)\n",
    "#     #print('mask: ', dataFrame[mask]['Title'])\n",
    "#     return dataFrame[mask]#['Title']"
   ]
  },
  {
   "cell_type": "code",
   "execution_count": null,
   "metadata": {},
   "outputs": [],
   "source": [
    "import pandas as pd\n",
    "df_curent_final = pd.read_csv('df_final_my_db_21_09_22.csv', index_col=[0])\n",
    "current_titles_in_df_curent_final = df_curent_final[(df_curent_final['PS1'] == actual_ps) |\n",
    "                                                    (df_curent_final['PS2'] == actual_ps) |\n",
    "                                                    (df_curent_final['PS3'] == actual_ps) |\n",
    "                                                    (df_curent_final['PS4'] == actual_ps) |\n",
    "                                                    (df_curent_final['PS5'] == actual_ps) |\n",
    "                                                    (df_curent_final['PS6'] == actual_ps) |\n",
    "                                                    (df_curent_final['PS7'] == actual_ps) |\n",
    "                                                    (df_curent_final['PS8'] == actual_ps) |\n",
    "                                                    (df_curent_final['PS9'] == actual_ps) |\n",
    "                                                    (df_curent_final['PS10'] == actual_ps)][['Title']]"
   ]
  },
  {
   "cell_type": "code",
   "execution_count": null,
   "metadata": {},
   "outputs": [],
   "source": [
    "len(df_curent_final), len(current_titles_in_df_curent_final), len(chosen_model_df)"
   ]
  },
  {
   "cell_type": "code",
   "execution_count": null,
   "metadata": {},
   "outputs": [],
   "source": [
    "current_titles_in_df_curent_final.head()"
   ]
  },
  {
   "cell_type": "markdown",
   "metadata": {},
   "source": [
    "Define the function for getting the missing titles."
   ]
  },
  {
   "cell_type": "code",
   "execution_count": null,
   "metadata": {},
   "outputs": [],
   "source": [
    "def missing_titles_new(chosen_model_df):\n",
    "    zz = 0\n",
    "    missing_titles = []\n",
    "    for single_title in chosen_model_df['Title']:\n",
    "        found_titles = search_titles(current_titles_in_df_curent_final, single_title)\n",
    "        #print('found_titles: ', found_titles)\n",
    "        if found_titles.empty:\n",
    "            missing_titles.append(single_title)\n",
    "        sttr = f\"nr: {zz}  Title: {single_title} DF empty: {found_titles.empty}\"\n",
    "        #print(sttr)\n",
    "        zz = zz+1\n",
    "    return missing_titles\n",
    "\n",
    "\n"
   ]
  },
  {
   "cell_type": "markdown",
   "metadata": {},
   "source": [
    "Get the list of missing titles."
   ]
  },
  {
   "cell_type": "code",
   "execution_count": null,
   "metadata": {},
   "outputs": [],
   "source": [
    "missing_titles = missing_titles_new(chosen_model_df)\n",
    "missing_titles[:]"
   ]
  },
  {
   "cell_type": "markdown",
   "metadata": {},
   "source": [
    "Specify the search ... look at special strings.."
   ]
  },
  {
   "cell_type": "code",
   "execution_count": null,
   "metadata": {},
   "outputs": [],
   "source": [
    "search_string = 'bonus'\n",
    "df_curent_final.loc[search_titles(current_titles_in_df_curent_final, search_string).index[0].item()]"
   ]
  },
  {
   "cell_type": "markdown",
   "metadata": {},
   "source": [
    "# Britney Shannon --> finished"
   ]
  },
  {
   "cell_type": "code",
   "execution_count": null,
   "metadata": {},
   "outputs": [],
   "source": [
    "# Individually adjusted\n",
    "actual_ps = 'Britney Shannon'\n",
    "chosen_model_brazz_site = ['https://www.brazzers.com/videos/models/26966/britney-shannon/page/']\n",
    "max_page_len_of_chosen_model = [1]\n",
    "# from create_df_actual_ps import create_df_actual_ps\n",
    "chosen_model_df = create_df_actual_ps(actual_ps, chosen_model_brazz_site, max_page_len_of_chosen_model)"
   ]
  },
  {
   "cell_type": "markdown",
   "metadata": {},
   "source": [
    "Import the df_final for getting the missing titles"
   ]
  },
  {
   "cell_type": "code",
   "execution_count": null,
   "metadata": {},
   "outputs": [],
   "source": [
    "df_curent_final = pd.read_csv('df_final_my_db_21_09_22.csv', index_col=[0])\n",
    "current_titles_in_df_curent_final = df_curent_final[(df_curent_final['PS1'] == actual_ps) |\n",
    "                                                    (df_curent_final['PS2'] == actual_ps) |\n",
    "                                                    (df_curent_final['PS3'] == actual_ps) |\n",
    "                                                    (df_curent_final['PS4'] == actual_ps) |\n",
    "                                                    (df_curent_final['PS5'] == actual_ps) |\n",
    "                                                    (df_curent_final['PS6'] == actual_ps) |\n",
    "                                                    (df_curent_final['PS7'] == actual_ps) |\n",
    "                                                    (df_curent_final['PS8'] == actual_ps) |\n",
    "                                                    (df_curent_final['PS9'] == actual_ps) |\n",
    "                                                    (df_curent_final['PS10'] == actual_ps)][['Title']]"
   ]
  },
  {
   "cell_type": "markdown",
   "metadata": {},
   "source": [
    "Get information about the counts of titles.."
   ]
  },
  {
   "cell_type": "code",
   "execution_count": null,
   "metadata": {},
   "outputs": [],
   "source": [
    "print(f'Count of df_current_final: {len(df_curent_final)}')\n",
    "print(f'Current_titles in df_final of {actual_ps}: {len(current_titles_in_df_curent_final)}')\n",
    "print(f'Count of {actual_ps} of braz_sides: {len(chosen_model_df)}')\n",
    "print(f'==')"
   ]
  },
  {
   "cell_type": "markdown",
   "metadata": {},
   "source": [
    "Getting list of missing titles"
   ]
  },
  {
   "cell_type": "code",
   "execution_count": null,
   "metadata": {},
   "outputs": [],
   "source": [
    "missing_titles = missing_titles_new(chosen_model_df)\n",
    "missing_titles[:]"
   ]
  },
  {
   "cell_type": "code",
   "execution_count": null,
   "metadata": {},
   "outputs": [],
   "source": [
    "current_titles_in_df_curent_final"
   ]
  },
  {
   "cell_type": "markdown",
   "metadata": {},
   "source": [
    "# Carmella Bing --> finished"
   ]
  },
  {
   "cell_type": "code",
   "execution_count": null,
   "metadata": {},
   "outputs": [],
   "source": [
    "# Individually adjusted\n",
    "actual_ps = 'Carmella Bing'\n",
    "chosen_model_brazz_site = ['https://www.brazzers.com/videos/models/2643/carmella-bing/page/']\n",
    "max_page_len_of_chosen_model = [2]\n",
    "# from create_df_actual_ps import create_df_actual_ps\n",
    "chosen_model_df = create_df_actual_ps(actual_ps, chosen_model_brazz_site, max_page_len_of_chosen_model)"
   ]
  },
  {
   "cell_type": "code",
   "execution_count": null,
   "metadata": {},
   "outputs": [],
   "source": [
    "df_curent_final = pd.read_csv('df_final_my_db_21_09_22.csv', index_col=[0])\n",
    "current_titles_in_df_curent_final = df_curent_final[(df_curent_final['PS1'] == actual_ps) |\n",
    "                                                    (df_curent_final['PS2'] == actual_ps) |\n",
    "                                                    (df_curent_final['PS3'] == actual_ps) |\n",
    "                                                    (df_curent_final['PS4'] == actual_ps) |\n",
    "                                                    (df_curent_final['PS5'] == actual_ps) |\n",
    "                                                    (df_curent_final['PS6'] == actual_ps) |\n",
    "                                                    (df_curent_final['PS7'] == actual_ps) |\n",
    "                                                    (df_curent_final['PS8'] == actual_ps) |\n",
    "                                                    (df_curent_final['PS9'] == actual_ps) |\n",
    "                                                    (df_curent_final['PS10'] == actual_ps)][['Title']]"
   ]
  },
  {
   "cell_type": "markdown",
   "metadata": {},
   "source": [
    "Getting information about the titles"
   ]
  },
  {
   "cell_type": "code",
   "execution_count": null,
   "metadata": {},
   "outputs": [],
   "source": [
    "print(f'Count of df_current_final: {len(df_curent_final)}')\n",
    "print(f'Current_titles in df_final of {actual_ps}: {len(current_titles_in_df_curent_final)}')\n",
    "print(f'Count of {actual_ps} of braz_sides: {len(chosen_model_df)}')\n",
    "print(f'==')"
   ]
  },
  {
   "cell_type": "markdown",
   "metadata": {},
   "source": [
    "Missing titles..."
   ]
  },
  {
   "cell_type": "code",
   "execution_count": null,
   "metadata": {},
   "outputs": [],
   "source": [
    "missing_titles = missing_titles_new(chosen_model_df)\n",
    "missing_titles[:]"
   ]
  },
  {
   "cell_type": "markdown",
   "metadata": {},
   "source": [
    "Specify the search..."
   ]
  },
  {
   "cell_type": "code",
   "execution_count": null,
   "metadata": {},
   "outputs": [],
   "source": [
    "search_string = 'job'\n",
    "df_curent_final.loc[search_titles(current_titles_in_df_curent_final, search_string).index[0].item()]"
   ]
  },
  {
   "cell_type": "markdown",
   "metadata": {},
   "source": [
    "# Cathy Heaven --> finished"
   ]
  },
  {
   "cell_type": "code",
   "execution_count": null,
   "metadata": {},
   "outputs": [],
   "source": [
    "# Individually adjusted\n",
    "actual_ps = 'Cathy Heaven'\n",
    "chosen_model_brazz_site = ['https://www.brazzers.com/videos/models/4769/cathy-heaven/page/']\n",
    "max_page_len_of_chosen_model = [1]\n",
    "# from create_df_actual_ps import create_df_actual_ps\n",
    "chosen_model_df = create_df_actual_ps(actual_ps, chosen_model_brazz_site, max_page_len_of_chosen_model)"
   ]
  },
  {
   "cell_type": "code",
   "execution_count": null,
   "metadata": {},
   "outputs": [],
   "source": [
    "df_curent_final = pd.read_csv('df_final_my_db_21_09_22.csv', index_col=[0])\n",
    "current_titles_in_df_curent_final = df_curent_final[(df_curent_final['PS1'] == actual_ps) |\n",
    "                                                    (df_curent_final['PS2'] == actual_ps) |\n",
    "                                                    (df_curent_final['PS3'] == actual_ps) |\n",
    "                                                    (df_curent_final['PS4'] == actual_ps) |\n",
    "                                                    (df_curent_final['PS5'] == actual_ps) |\n",
    "                                                    (df_curent_final['PS6'] == actual_ps) |\n",
    "                                                    (df_curent_final['PS7'] == actual_ps) |\n",
    "                                                    (df_curent_final['PS8'] == actual_ps) |\n",
    "                                                    (df_curent_final['PS9'] == actual_ps) |\n",
    "                                                    (df_curent_final['PS10'] == actual_ps)][['Title']]"
   ]
  },
  {
   "cell_type": "markdown",
   "metadata": {},
   "source": [
    "Getting infos about titles"
   ]
  },
  {
   "cell_type": "code",
   "execution_count": null,
   "metadata": {},
   "outputs": [],
   "source": [
    "print(f'Count of df_current_final: {len(df_curent_final)}')\n",
    "print(f'Current_titles in df_final of {actual_ps}: {len(current_titles_in_df_curent_final)}')\n",
    "print(f'Count of {actual_ps} of braz_sides: {len(chosen_model_df)}')\n",
    "print(f'==')"
   ]
  },
  {
   "cell_type": "code",
   "execution_count": null,
   "metadata": {},
   "outputs": [],
   "source": [
    "missing_titles = missing_titles_new(chosen_model_df)\n",
    "missing_titles[:]"
   ]
  },
  {
   "cell_type": "markdown",
   "metadata": {},
   "source": [
    "Specify the search"
   ]
  },
  {
   "cell_type": "code",
   "execution_count": null,
   "metadata": {},
   "outputs": [],
   "source": [
    "search_string = 'heavenly'\n",
    "df_curent_final.loc[search_titles(current_titles_in_df_curent_final, search_string).index[0].item()]"
   ]
  },
  {
   "cell_type": "code",
   "execution_count": null,
   "metadata": {},
   "outputs": [],
   "source": []
  },
  {
   "cell_type": "code",
   "execution_count": null,
   "metadata": {},
   "outputs": [],
   "source": [
    "current_titles_in_df_curent_final"
   ]
  },
  {
   "cell_type": "markdown",
   "metadata": {},
   "source": [
    "****"
   ]
  },
  {
   "cell_type": "markdown",
   "metadata": {},
   "source": [
    "# Kendra Lust --> finished (temporary)"
   ]
  },
  {
   "cell_type": "code",
   "execution_count": null,
   "metadata": {},
   "outputs": [],
   "source": [
    "# Individually adjusted\n",
    "actual_ps = 'Kendra Lust'\n",
    "chosen_model_brazz_site = ['https://www.brazzers.com/videos/models/2617/kendra-lust/']\n",
    "max_page_len_of_chosen_model = [3]\n",
    "# from create_df_actual_ps import create_df_actual_ps\n",
    "chosen_model_df = create_df_actual_ps(actual_ps, chosen_model_brazz_site, max_page_len_of_chosen_model)"
   ]
  },
  {
   "cell_type": "code",
   "execution_count": null,
   "metadata": {},
   "outputs": [],
   "source": [
    "df_curent_final = pd.read_csv('df_final_my_db_22_09_22.csv', index_col=[0])\n",
    "current_titles_in_df_curent_final = df_curent_final[(df_curent_final['PS1'] == actual_ps) |\n",
    "                                                    (df_curent_final['PS2'] == actual_ps) |\n",
    "                                                    (df_curent_final['PS3'] == actual_ps) |\n",
    "                                                    (df_curent_final['PS4'] == actual_ps) |\n",
    "                                                    (df_curent_final['PS5'] == actual_ps) |\n",
    "                                                    (df_curent_final['PS6'] == actual_ps) |\n",
    "                                                    (df_curent_final['PS7'] == actual_ps) |\n",
    "                                                    (df_curent_final['PS8'] == actual_ps) |\n",
    "                                                    (df_curent_final['PS9'] == actual_ps) |\n",
    "                                                    (df_curent_final['PS10'] == actual_ps)][['Title']]"
   ]
  },
  {
   "cell_type": "markdown",
   "metadata": {},
   "source": [
    "Getting infos of the titles"
   ]
  },
  {
   "cell_type": "code",
   "execution_count": null,
   "metadata": {},
   "outputs": [],
   "source": [
    "print(f'Count of df_current_final: {len(df_curent_final)}')\n",
    "print(f'Current_titles in df_final of {actual_ps}: {len(current_titles_in_df_curent_final)}')\n",
    "print(f'Count of {actual_ps} of braz_sides: {len(chosen_model_df)}')\n",
    "print(f'==')"
   ]
  },
  {
   "cell_type": "code",
   "execution_count": null,
   "metadata": {},
   "outputs": [],
   "source": [
    "missing_titles = missing_titles_new(chosen_model_df)\n",
    "missing_titles[:]"
   ]
  },
  {
   "cell_type": "markdown",
   "metadata": {},
   "source": [
    "Specify the search"
   ]
  },
  {
   "cell_type": "code",
   "execution_count": null,
   "metadata": {},
   "outputs": [],
   "source": [
    "search_string = 'garden'\n",
    "df_curent_final.loc[search_titles(current_titles_in_df_curent_final, search_string).index[0].item()]"
   ]
  },
  {
   "cell_type": "markdown",
   "metadata": {},
   "source": [
    "# Romi Rain --> finished (temporary)"
   ]
  },
  {
   "cell_type": "code",
   "execution_count": null,
   "metadata": {},
   "outputs": [],
   "source": [
    "# Individually adjusted\n",
    "actual_ps = 'Romi Rain'\n",
    "chosen_model_brazz_site = ['https://www.brazzers.com/videos/models/3431/romi-rain/page/']\n",
    "max_page_len_of_chosen_model = [4]\n",
    "# from create_df_actual_ps import create_df_actual_ps\n",
    "chosen_model_df = create_df_actual_ps(actual_ps, chosen_model_brazz_site, max_page_len_of_chosen_model)"
   ]
  },
  {
   "cell_type": "code",
   "execution_count": null,
   "metadata": {},
   "outputs": [],
   "source": [
    "df_curent_final = pd.read_csv('df_final_my_db_26_09_22.csv', index_col=[0])\n",
    "current_titles_in_df_curent_final = df_curent_final[(df_curent_final['PS1'] == actual_ps) |\n",
    "                                                    (df_curent_final['PS2'] == actual_ps) |\n",
    "                                                    (df_curent_final['PS3'] == actual_ps) |\n",
    "                                                    (df_curent_final['PS4'] == actual_ps) |\n",
    "                                                    (df_curent_final['PS5'] == actual_ps) |\n",
    "                                                    (df_curent_final['PS6'] == actual_ps) |\n",
    "                                                    (df_curent_final['PS7'] == actual_ps) |\n",
    "                                                    (df_curent_final['PS8'] == actual_ps) |\n",
    "                                                    (df_curent_final['PS9'] == actual_ps) |\n",
    "                                                    (df_curent_final['PS10'] == actual_ps)][['Title']]"
   ]
  },
  {
   "cell_type": "markdown",
   "metadata": {},
   "source": [
    "Getting infos about the titles"
   ]
  },
  {
   "cell_type": "code",
   "execution_count": null,
   "metadata": {},
   "outputs": [],
   "source": [
    "print(f'Count of df_current_final: {len(df_curent_final)}')\n",
    "print(f'Current_titles in df_final of {actual_ps}: {len(current_titles_in_df_curent_final)}')\n",
    "print(f'Count of {actual_ps} of braz_sides: {len(chosen_model_df)}')\n",
    "print(f'==')"
   ]
  },
  {
   "cell_type": "code",
   "execution_count": null,
   "metadata": {},
   "outputs": [],
   "source": [
    "missing_titles = missing_titles_new(chosen_model_df)\n",
    "missing_titles[:]"
   ]
  },
  {
   "cell_type": "markdown",
   "metadata": {},
   "source": [
    "Specify the search"
   ]
  },
  {
   "cell_type": "code",
   "execution_count": null,
   "metadata": {},
   "outputs": [],
   "source": [
    "search_string = 'nurse'\n",
    "df_curent_final.loc[search_titles(current_titles_in_df_curent_final, search_string).index[0].item()]"
   ]
  },
  {
   "cell_type": "markdown",
   "metadata": {},
   "source": [
    "# Holly Halston --> finished (temporary)"
   ]
  },
  {
   "cell_type": "code",
   "execution_count": null,
   "metadata": {},
   "outputs": [],
   "source": [
    "# Individually adjusted\n",
    "actual_ps = 'Holly Halston'\n",
    "chosen_model_brazz_site = ['https://www.brazzers.com/videos/models/3681/holly-halston/page/']\n",
    "max_page_len_of_chosen_model = [2]\n",
    "# from create_df_actual_ps import create_df_actual_ps\n",
    "chosen_model_df = create_df_actual_ps(actual_ps, chosen_model_brazz_site, max_page_len_of_chosen_model)"
   ]
  },
  {
   "cell_type": "code",
   "execution_count": null,
   "metadata": {},
   "outputs": [],
   "source": [
    "df_curent_final = pd.read_csv('df_final_my_db_30_09_22.csv', index_col=[0])\n",
    "current_titles_in_df_curent_final = df_curent_final[(df_curent_final['PS1'] == actual_ps) |\n",
    "                                                    (df_curent_final['PS2'] == actual_ps) |\n",
    "                                                    (df_curent_final['PS3'] == actual_ps) |\n",
    "                                                    (df_curent_final['PS4'] == actual_ps) |\n",
    "                                                    (df_curent_final['PS5'] == actual_ps) |\n",
    "                                                    (df_curent_final['PS6'] == actual_ps) |\n",
    "                                                    (df_curent_final['PS7'] == actual_ps) |\n",
    "                                                    (df_curent_final['PS8'] == actual_ps) |\n",
    "                                                    (df_curent_final['PS9'] == actual_ps) |\n",
    "                                                    (df_curent_final['PS10'] == actual_ps)][['Title']]"
   ]
  },
  {
   "cell_type": "markdown",
   "metadata": {},
   "source": [
    "Infos about the titles"
   ]
  },
  {
   "cell_type": "code",
   "execution_count": null,
   "metadata": {},
   "outputs": [],
   "source": [
    "print(f'Count of df_current_final: {len(df_curent_final)}')\n",
    "print(f'Current_titles in df_final of {actual_ps}: {len(current_titles_in_df_curent_final)}')\n",
    "print(f'Count of {actual_ps} of braz_sides: {len(chosen_model_df)}')\n",
    "print(f'==')"
   ]
  },
  {
   "cell_type": "code",
   "execution_count": null,
   "metadata": {},
   "outputs": [],
   "source": [
    "missing_titles = missing_titles_new(chosen_model_df)\n",
    "missing_titles[:]"
   ]
  },
  {
   "cell_type": "markdown",
   "metadata": {},
   "source": [
    "Specify the search"
   ]
  },
  {
   "cell_type": "code",
   "execution_count": null,
   "metadata": {},
   "outputs": [],
   "source": [
    "search_string = 'ribbon'\n",
    "df_curent_final.loc[search_titles(current_titles_in_df_curent_final, search_string).index[0].item()]"
   ]
  },
  {
   "cell_type": "markdown",
   "metadata": {},
   "source": [
    "# Nicolette Shea (awesome) --> finished"
   ]
  },
  {
   "cell_type": "code",
   "execution_count": null,
   "metadata": {},
   "outputs": [],
   "source": [
    "# Individually adjusted\n",
    "actual_ps = 'Nicolette Shea'\n",
    "chosen_model_brazz_site = ['https://www.brazzers.com/videos/models/12837/nicolette-shea/page/']\n",
    "max_page_len_of_chosen_model = [4]\n",
    "# from create_df_actual_ps import create_df_actual_ps\n",
    "chosen_model_df = create_df_actual_ps(actual_ps, chosen_model_brazz_site, max_page_len_of_chosen_model)"
   ]
  },
  {
   "cell_type": "code",
   "execution_count": null,
   "metadata": {},
   "outputs": [],
   "source": [
    "df_curent_final = pd.read_csv('df_final_my_db_30_09_22.csv', index_col=[0])\n",
    "current_titles_in_df_curent_final = df_curent_final[(df_curent_final['PS1'] == actual_ps) |\n",
    "                                                    (df_curent_final['PS2'] == actual_ps) |\n",
    "                                                    (df_curent_final['PS3'] == actual_ps) |\n",
    "                                                    (df_curent_final['PS4'] == actual_ps) |\n",
    "                                                    (df_curent_final['PS5'] == actual_ps) |\n",
    "                                                    (df_curent_final['PS6'] == actual_ps) |\n",
    "                                                    (df_curent_final['PS7'] == actual_ps) |\n",
    "                                                    (df_curent_final['PS8'] == actual_ps) |\n",
    "                                                    (df_curent_final['PS9'] == actual_ps) |\n",
    "                                                    (df_curent_final['PS10'] == actual_ps)][['Title']]"
   ]
  },
  {
   "cell_type": "markdown",
   "metadata": {},
   "source": [
    "Infos about the titles"
   ]
  },
  {
   "cell_type": "code",
   "execution_count": null,
   "metadata": {},
   "outputs": [],
   "source": [
    "print(f'Count of df_current_final: {len(df_curent_final)}')\n",
    "print(f'Current_titles in df_final of {actual_ps}: {len(current_titles_in_df_curent_final)}')\n",
    "print(f'Count of {actual_ps} of braz_sides: {len(chosen_model_df)}')\n",
    "print(f'==')"
   ]
  },
  {
   "cell_type": "code",
   "execution_count": null,
   "metadata": {},
   "outputs": [],
   "source": [
    "missing_titles = missing_titles_new(chosen_model_df)\n",
    "missing_titles[:]"
   ]
  },
  {
   "cell_type": "markdown",
   "metadata": {},
   "source": [
    "Specify the search"
   ]
  },
  {
   "cell_type": "code",
   "execution_count": null,
   "metadata": {},
   "outputs": [],
   "source": [
    "search_string = 'bimbo'\n",
    "df_curent_final.loc[search_titles(current_titles_in_df_curent_final, search_string).index[0].item()]"
   ]
  },
  {
   "cell_type": "code",
   "execution_count": null,
   "metadata": {},
   "outputs": [],
   "source": [
    "df_curent_final.iloc[1715]"
   ]
  },
  {
   "cell_type": "markdown",
   "metadata": {},
   "source": [
    "# Jayden Jaymes (awesome) --> finished"
   ]
  },
  {
   "cell_type": "code",
   "execution_count": null,
   "metadata": {},
   "outputs": [],
   "source": [
    "# Individually adjusted\n",
    "actual_ps = 'Jayden Jaymes'\n",
    "chosen_model_brazz_site = ['https://www.brazzers.com/videos/models/4457/jayden-jaymes/page']\n",
    "max_page_len_of_chosen_model = [2]\n",
    "# from create_df_actual_ps import create_df_actual_ps\n",
    "chosen_model_df = create_df_actual_ps(actual_ps, chosen_model_brazz_site, max_page_len_of_chosen_model)"
   ]
  },
  {
   "cell_type": "code",
   "execution_count": null,
   "metadata": {},
   "outputs": [],
   "source": [
    "df_curent_final = pd.read_csv('df_final_my_db_01_10_22.csv', index_col=[0])\n",
    "current_titles_in_df_curent_final = df_curent_final[(df_curent_final['PS1'] == actual_ps) |\n",
    "                                                    (df_curent_final['PS2'] == actual_ps) |\n",
    "                                                    (df_curent_final['PS3'] == actual_ps) |\n",
    "                                                    (df_curent_final['PS4'] == actual_ps) |\n",
    "                                                    (df_curent_final['PS5'] == actual_ps) |\n",
    "                                                    (df_curent_final['PS6'] == actual_ps) |\n",
    "                                                    (df_curent_final['PS7'] == actual_ps) |\n",
    "                                                    (df_curent_final['PS8'] == actual_ps) |\n",
    "                                                    (df_curent_final['PS9'] == actual_ps) |\n",
    "                                                    (df_curent_final['PS10'] == actual_ps)][['Title']]"
   ]
  },
  {
   "cell_type": "markdown",
   "metadata": {},
   "source": [
    "Infos about the title"
   ]
  },
  {
   "cell_type": "code",
   "execution_count": null,
   "metadata": {},
   "outputs": [],
   "source": [
    "print(f'Count of df_current_final: {len(df_curent_final)}')\n",
    "print(f'Current_titles in df_final of {actual_ps}: {len(current_titles_in_df_curent_final)}')\n",
    "print(f'Count of {actual_ps} of braz_sides: {len(chosen_model_df)}')\n",
    "print(f'==')"
   ]
  },
  {
   "cell_type": "code",
   "execution_count": null,
   "metadata": {},
   "outputs": [],
   "source": [
    "missing_titles = missing_titles_new(chosen_model_df)\n",
    "missing_titles[:]   "
   ]
  },
  {
   "cell_type": "markdown",
   "metadata": {},
   "source": [
    "Specify the search"
   ]
  },
  {
   "cell_type": "code",
   "execution_count": null,
   "metadata": {},
   "outputs": [],
   "source": [
    "search_string = 'dream'\n",
    "df_curent_final.loc[search_titles(current_titles_in_df_curent_final, search_string).index[0].item()]"
   ]
  },
  {
   "cell_type": "markdown",
   "metadata": {},
   "source": [
    "# Stella Cox (awesome)"
   ]
  },
  {
   "cell_type": "code",
   "execution_count": null,
   "metadata": {},
   "outputs": [],
   "source": [
    "# Individually adjusted\n",
    "actual_ps = 'Stella Cox'\n",
    "chosen_model_brazz_site = ['https://www.brazzers.com/videos/models/6967/stella-cox/page/']\n",
    "max_page_len_of_chosen_model = [1]\n",
    "# from create_df_actual_ps import create_df_actual_ps\n",
    "chosen_model_df = create_df_actual_ps(actual_ps, chosen_model_brazz_site, max_page_len_of_chosen_model)"
   ]
  },
  {
   "cell_type": "code",
   "execution_count": null,
   "metadata": {},
   "outputs": [],
   "source": [
    "df_curent_final = pd.read_csv('df_final_my_db_01_10_22.csv', index_col=[0])\n",
    "current_titles_in_df_curent_final = df_curent_final[(df_curent_final['PS1'] == actual_ps) |\n",
    "                                                    (df_curent_final['PS2'] == actual_ps) |\n",
    "                                                    (df_curent_final['PS3'] == actual_ps) |\n",
    "                                                    (df_curent_final['PS4'] == actual_ps) |\n",
    "                                                    (df_curent_final['PS5'] == actual_ps) |\n",
    "                                                    (df_curent_final['PS6'] == actual_ps) |\n",
    "                                                    (df_curent_final['PS7'] == actual_ps) |\n",
    "                                                    (df_curent_final['PS8'] == actual_ps) |\n",
    "                                                    (df_curent_final['PS9'] == actual_ps) |\n",
    "                                                    (df_curent_final['PS10'] == actual_ps)][['Title']]"
   ]
  },
  {
   "cell_type": "markdown",
   "metadata": {},
   "source": [
    "Infos about the titles"
   ]
  },
  {
   "cell_type": "code",
   "execution_count": null,
   "metadata": {},
   "outputs": [],
   "source": [
    "print(f'Count of df_current_final: {len(df_curent_final)}')\n",
    "print(f'Current_titles in df_final of {actual_ps}: {len(current_titles_in_df_curent_final)}')\n",
    "print(f'Count of {actual_ps} of braz_sides: {len(chosen_model_df)}')\n",
    "print(f'==')"
   ]
  },
  {
   "cell_type": "code",
   "execution_count": null,
   "metadata": {},
   "outputs": [],
   "source": [
    "missing_titles = missing_titles_new(chosen_model_df)\n",
    "missing_titles[:] "
   ]
  },
  {
   "cell_type": "code",
   "execution_count": null,
   "metadata": {},
   "outputs": [],
   "source": [
    "import tqdm\n",
    "import time\n",
    "for i in tqdm.tqdm([1, 2, 14, 5]):\n",
    "    time.sleep(1)"
   ]
  },
  {
   "cell_type": "markdown",
   "metadata": {},
   "source": [
    "# Chessie Kay"
   ]
  },
  {
   "cell_type": "code",
   "execution_count": null,
   "metadata": {},
   "outputs": [],
   "source": [
    "# Individually adjusted\n",
    "actual_ps = 'Chessie Kay'\n",
    "chosen_model_brazz_site = ['https://www.brazzers.com/videos/models/22928/chessie-kay/page']\n",
    "max_page_len_of_chosen_model = [1]\n",
    "# from create_df_actual_ps import create_df_actual_ps\n",
    "chosen_model_df = create_df_actual_ps(actual_ps, chosen_model_brazz_site, max_page_len_of_chosen_model)"
   ]
  },
  {
   "cell_type": "code",
   "execution_count": null,
   "metadata": {},
   "outputs": [],
   "source": [
    "df_curent_final = pd.read_csv('df_final_my_db_01_10_22.csv', index_col=[0])\n",
    "current_titles_in_df_curent_final = df_curent_final[(df_curent_final['PS1'] == actual_ps) |\n",
    "                                                    (df_curent_final['PS2'] == actual_ps) |\n",
    "                                                    (df_curent_final['PS3'] == actual_ps) |\n",
    "                                                    (df_curent_final['PS4'] == actual_ps) |\n",
    "                                                    (df_curent_final['PS5'] == actual_ps) |\n",
    "                                                    (df_curent_final['PS6'] == actual_ps) |\n",
    "                                                    (df_curent_final['PS7'] == actual_ps) |\n",
    "                                                    (df_curent_final['PS8'] == actual_ps) |\n",
    "                                                    (df_curent_final['PS9'] == actual_ps) |\n",
    "                                                    (df_curent_final['PS10'] == actual_ps)][['Title']]"
   ]
  },
  {
   "cell_type": "markdown",
   "metadata": {},
   "source": [
    "Infos about the titles"
   ]
  },
  {
   "cell_type": "code",
   "execution_count": null,
   "metadata": {},
   "outputs": [],
   "source": [
    "print(f'Count of df_current_final: {len(df_curent_final)}')\n",
    "print(f'Current_titles in df_final of {actual_ps}: {len(current_titles_in_df_curent_final)}')\n",
    "print(f'Count of {actual_ps} of braz_sides: {len(chosen_model_df)}')\n",
    "print(f'==')"
   ]
  },
  {
   "cell_type": "code",
   "execution_count": null,
   "metadata": {},
   "outputs": [],
   "source": [
    "missing_titles = missing_titles_new(chosen_model_df)\n",
    "missing_titles[:] "
   ]
  },
  {
   "cell_type": "markdown",
   "metadata": {},
   "source": [
    "# Christie Stevens --> finished"
   ]
  },
  {
   "cell_type": "code",
   "execution_count": null,
   "metadata": {},
   "outputs": [],
   "source": [
    "# Individually adjusted\n",
    "actual_ps = 'Christie Stevens'\n",
    "chosen_model_brazz_site = ['https://www.brazzers.com/videos/models/14187/christie-stevens/page']\n",
    "max_page_len_of_chosen_model = [1]\n",
    "# from create_df_actual_ps import create_df_actual_ps\n",
    "chosen_model_df = create_df_actual_ps(actual_ps, chosen_model_brazz_site, max_page_len_of_chosen_model)"
   ]
  },
  {
   "cell_type": "code",
   "execution_count": null,
   "metadata": {},
   "outputs": [],
   "source": [
    "df_curent_final = pd.read_csv('df_final_my_db_01_11_22.csv', index_col=[0])\n",
    "current_titles_in_df_curent_final = df_curent_final[(df_curent_final['PS1'] == actual_ps) |\n",
    "                                                    (df_curent_final['PS2'] == actual_ps) |\n",
    "                                                    (df_curent_final['PS3'] == actual_ps) |\n",
    "                                                    (df_curent_final['PS4'] == actual_ps) |\n",
    "                                                    (df_curent_final['PS5'] == actual_ps) |\n",
    "                                                    (df_curent_final['PS6'] == actual_ps) |\n",
    "                                                    (df_curent_final['PS7'] == actual_ps) |\n",
    "                                                    (df_curent_final['PS8'] == actual_ps) |\n",
    "                                                    (df_curent_final['PS9'] == actual_ps) |\n",
    "                                                    (df_curent_final['PS10'] == actual_ps)][['Title']]"
   ]
  },
  {
   "cell_type": "markdown",
   "metadata": {},
   "source": [
    "Infos about the titles"
   ]
  },
  {
   "cell_type": "code",
   "execution_count": null,
   "metadata": {},
   "outputs": [],
   "source": [
    "print(f'Count of df_current_final: {len(df_curent_final)}')\n",
    "print(f'Current_titles in df_final of {actual_ps}: {len(current_titles_in_df_curent_final)}')\n",
    "print(f'Count of {actual_ps} of braz_sides: {len(chosen_model_df)}')\n",
    "print(f'==')"
   ]
  },
  {
   "cell_type": "code",
   "execution_count": null,
   "metadata": {},
   "outputs": [],
   "source": [
    "missing_titles = missing_titles_new(chosen_model_df)\n",
    "missing_titles[:] "
   ]
  },
  {
   "cell_type": "code",
   "execution_count": null,
   "metadata": {},
   "outputs": [],
   "source": [
    "current_titles_in_df_curent_final"
   ]
  },
  {
   "cell_type": "code",
   "execution_count": null,
   "metadata": {},
   "outputs": [],
   "source": [
    "search_string = 'dewey'\n",
    "df_curent_final.loc[search_titles(current_titles_in_df_curent_final, search_string).index[0].item()]"
   ]
  },
  {
   "cell_type": "markdown",
   "metadata": {},
   "source": [
    "# Claire Dames --> finished"
   ]
  },
  {
   "cell_type": "code",
   "execution_count": null,
   "metadata": {},
   "outputs": [],
   "source": [
    "# Individually adjusted\n",
    "actual_ps = 'Claire Dames'\n",
    "chosen_model_brazz_site = ['https://www.brazzers.com/videos/models/7099/claire-dames/page']\n",
    "max_page_len_of_chosen_model = [1]\n",
    "# from create_df_actual_ps import create_df_actual_ps\n",
    "chosen_model_df = create_df_actual_ps(actual_ps, chosen_model_brazz_site, max_page_len_of_chosen_model)"
   ]
  },
  {
   "cell_type": "code",
   "execution_count": null,
   "metadata": {},
   "outputs": [],
   "source": [
    "df_curent_final = pd.read_csv('df_final_my_db_03_11_22.csv', index_col=[0])\n",
    "current_titles_in_df_curent_final = df_curent_final[(df_curent_final['PS1'] == actual_ps) |\n",
    "                                                    (df_curent_final['PS2'] == actual_ps) |\n",
    "                                                    (df_curent_final['PS3'] == actual_ps) |\n",
    "                                                    (df_curent_final['PS4'] == actual_ps) |\n",
    "                                                    (df_curent_final['PS5'] == actual_ps) |\n",
    "                                                    (df_curent_final['PS6'] == actual_ps) |\n",
    "                                                    (df_curent_final['PS7'] == actual_ps) |\n",
    "                                                    (df_curent_final['PS8'] == actual_ps) |\n",
    "                                                    (df_curent_final['PS9'] == actual_ps) |\n",
    "                                                    (df_curent_final['PS10'] == actual_ps)][['Title']]"
   ]
  },
  {
   "cell_type": "markdown",
   "metadata": {},
   "source": [
    "Infos about the titles"
   ]
  },
  {
   "cell_type": "code",
   "execution_count": null,
   "metadata": {},
   "outputs": [],
   "source": [
    "print(f'Count of df_current_final: {len(df_curent_final)}')\n",
    "print(f'Current_titles in df_final of {actual_ps}: {len(current_titles_in_df_curent_final)}')\n",
    "print(f'Count of {actual_ps} of braz_sides: {len(chosen_model_df)}')\n",
    "print(f'==')"
   ]
  },
  {
   "cell_type": "code",
   "execution_count": null,
   "metadata": {},
   "outputs": [],
   "source": [
    "missing_titles = missing_titles_new(chosen_model_df)\n",
    "missing_titles[:] "
   ]
  },
  {
   "cell_type": "markdown",
   "metadata": {},
   "source": [
    "Specify the search"
   ]
  },
  {
   "cell_type": "code",
   "execution_count": null,
   "metadata": {},
   "outputs": [],
   "source": [
    "search_string = 'dominator'\n",
    "df_curent_final.loc[search_titles(current_titles_in_df_curent_final, search_string).index[0].item()]"
   ]
  },
  {
   "cell_type": "markdown",
   "metadata": {},
   "source": [
    "# Chessie Kay --> finished"
   ]
  },
  {
   "cell_type": "code",
   "execution_count": null,
   "metadata": {},
   "outputs": [],
   "source": [
    "# Individually adjusted\n",
    "actual_ps = 'Chessie Kay'\n",
    "chosen_model_brazz_site = ['https://www.brazzers.com/videos/models/22928/chessie-kay/page']\n",
    "max_page_len_of_chosen_model = [1]\n",
    "# from create_df_actual_ps import create_df_actual_ps\n",
    "chosen_model_df = create_df_actual_ps(actual_ps, chosen_model_brazz_site, max_page_len_of_chosen_model)"
   ]
  },
  {
   "cell_type": "code",
   "execution_count": null,
   "metadata": {},
   "outputs": [],
   "source": [
    "df_curent_final = pd.read_csv('df_final_my_db_03_11_22.csv', index_col=[0])\n",
    "current_titles_in_df_curent_final = df_curent_final[(df_curent_final['PS1'] == actual_ps) |\n",
    "                                                    (df_curent_final['PS2'] == actual_ps) |\n",
    "                                                    (df_curent_final['PS3'] == actual_ps) |\n",
    "                                                    (df_curent_final['PS4'] == actual_ps) |\n",
    "                                                    (df_curent_final['PS5'] == actual_ps) |\n",
    "                                                    (df_curent_final['PS6'] == actual_ps) |\n",
    "                                                    (df_curent_final['PS7'] == actual_ps) |\n",
    "                                                    (df_curent_final['PS8'] == actual_ps) |\n",
    "                                                    (df_curent_final['PS9'] == actual_ps) |\n",
    "                                                    (df_curent_final['PS10'] == actual_ps)][['Title']]"
   ]
  },
  {
   "cell_type": "markdown",
   "metadata": {},
   "source": [
    "Infos about the titles"
   ]
  },
  {
   "cell_type": "code",
   "execution_count": null,
   "metadata": {},
   "outputs": [],
   "source": [
    "print(f'Count of df_current_final: {len(df_curent_final)}')\n",
    "print(f'Current_titles in df_final of {actual_ps}: {len(current_titles_in_df_curent_final)}')\n",
    "print(f'Count of {actual_ps} of braz_sides: {len(chosen_model_df)}')\n",
    "print(f'==')"
   ]
  },
  {
   "cell_type": "markdown",
   "metadata": {},
   "source": [
    "# Corinna Blake --> finished"
   ]
  },
  {
   "cell_type": "code",
   "execution_count": null,
   "metadata": {},
   "outputs": [],
   "source": [
    "# Individually adjusted\n",
    "actual_ps = 'Corinna Blake'\n",
    "chosen_model_brazz_site = ['https://www.brazzers.com/videos/models/2569/corinna-blake/page']\n",
    "max_page_len_of_chosen_model = [1]\n",
    "# from create_df_actual_ps import create_df_actual_ps\n",
    "chosen_model_df = create_df_actual_ps(actual_ps, chosen_model_brazz_site, max_page_len_of_chosen_model)"
   ]
  },
  {
   "cell_type": "code",
   "execution_count": null,
   "metadata": {},
   "outputs": [],
   "source": [
    "df_curent_final = pd.read_csv('df_final_my_db_03_11_22.csv', index_col=[0])\n",
    "current_titles_in_df_curent_final = df_curent_final[(df_curent_final['PS1'] == actual_ps) |\n",
    "                                                    (df_curent_final['PS2'] == actual_ps) |\n",
    "                                                    (df_curent_final['PS3'] == actual_ps) |\n",
    "                                                    (df_curent_final['PS4'] == actual_ps) |\n",
    "                                                    (df_curent_final['PS5'] == actual_ps) |\n",
    "                                                    (df_curent_final['PS6'] == actual_ps) |\n",
    "                                                    (df_curent_final['PS7'] == actual_ps) |\n",
    "                                                    (df_curent_final['PS8'] == actual_ps) |\n",
    "                                                    (df_curent_final['PS9'] == actual_ps) |\n",
    "                                                    (df_curent_final['PS10'] == actual_ps)][['Title']]"
   ]
  },
  {
   "cell_type": "markdown",
   "metadata": {},
   "source": [
    "Infos about the titles"
   ]
  },
  {
   "cell_type": "code",
   "execution_count": null,
   "metadata": {},
   "outputs": [],
   "source": [
    "print(f'Count of df_current_final: {len(df_curent_final)}')\n",
    "print(f'Current_titles in df_final of {actual_ps}: {len(current_titles_in_df_curent_final)}')\n",
    "print(f'Count of {actual_ps} of braz_sides: {len(chosen_model_df)}')\n",
    "print(f'==')"
   ]
  },
  {
   "cell_type": "code",
   "execution_count": null,
   "metadata": {},
   "outputs": [],
   "source": [
    "current_titles_in_df_curent_final"
   ]
  },
  {
   "cell_type": "markdown",
   "metadata": {},
   "source": [
    "# Dee Williams --> finished"
   ]
  },
  {
   "cell_type": "code",
   "execution_count": null,
   "metadata": {},
   "outputs": [],
   "source": [
    "# Individually adjusted\n",
    "actual_ps = 'Dee Williams'\n",
    "chosen_model_brazz_site = ['https://www.brazzers.com/videos/models/12823/dee-williams/page']\n",
    "max_page_len_of_chosen_model = [1]\n",
    "# from create_df_actual_ps import create_df_actual_ps\n",
    "chosen_model_df = create_df_actual_ps(actual_ps, chosen_model_brazz_site, max_page_len_of_chosen_model)"
   ]
  },
  {
   "cell_type": "code",
   "execution_count": null,
   "metadata": {},
   "outputs": [],
   "source": [
    "df_curent_final = pd.read_csv('df_final_my_db_03_11_22.csv', index_col=[0])\n",
    "current_titles_in_df_curent_final = df_curent_final[(df_curent_final['PS1'] == actual_ps) |\n",
    "                                                    (df_curent_final['PS2'] == actual_ps) |\n",
    "                                                    (df_curent_final['PS3'] == actual_ps) |\n",
    "                                                    (df_curent_final['PS4'] == actual_ps) |\n",
    "                                                    (df_curent_final['PS5'] == actual_ps) |\n",
    "                                                    (df_curent_final['PS6'] == actual_ps) |\n",
    "                                                    (df_curent_final['PS7'] == actual_ps) |\n",
    "                                                    (df_curent_final['PS8'] == actual_ps) |\n",
    "                                                    (df_curent_final['PS9'] == actual_ps) |\n",
    "                                                    (df_curent_final['PS10'] == actual_ps)][['Title']]"
   ]
  },
  {
   "cell_type": "markdown",
   "metadata": {},
   "source": [
    "Infos about the titles"
   ]
  },
  {
   "cell_type": "code",
   "execution_count": null,
   "metadata": {},
   "outputs": [],
   "source": [
    "print(f'Count of df_current_final: {len(df_curent_final)}')\n",
    "print(f'Current_titles in df_final of {actual_ps}: {len(current_titles_in_df_curent_final)}')\n",
    "print(f'Count of {actual_ps} of braz_sides: {len(chosen_model_df)}')\n",
    "print(f'==')"
   ]
  },
  {
   "cell_type": "code",
   "execution_count": null,
   "metadata": {},
   "outputs": [],
   "source": [
    "missing_titles = missing_titles_new(chosen_model_df)\n",
    "missing_titles[:] "
   ]
  },
  {
   "cell_type": "markdown",
   "metadata": {},
   "source": [
    "# Donna Bell --> finshed"
   ]
  },
  {
   "cell_type": "markdown",
   "metadata": {},
   "source": [
    "# Ella Hughes --> finished"
   ]
  },
  {
   "cell_type": "code",
   "execution_count": null,
   "metadata": {},
   "outputs": [],
   "source": [
    "# Individually adjusted\n",
    "actual_ps = 'Ella Hughes'\n",
    "chosen_model_brazz_site = ['https://www.brazzers.com/videos/models/26702/ella-hughes/page']\n",
    "max_page_len_of_chosen_model = [1]\n",
    "# from create_df_actual_ps import create_df_actual_ps\n",
    "chosen_model_df = create_df_actual_ps(actual_ps, chosen_model_brazz_site, max_page_len_of_chosen_model)"
   ]
  },
  {
   "cell_type": "code",
   "execution_count": null,
   "metadata": {},
   "outputs": [],
   "source": [
    "df_curent_final = pd.read_csv('df_final_my_db_07_11_22.csv', index_col=[0])\n",
    "current_titles_in_df_curent_final = df_curent_final[(df_curent_final['PS1'] == actual_ps) |\n",
    "                                                    (df_curent_final['PS2'] == actual_ps) |\n",
    "                                                    (df_curent_final['PS3'] == actual_ps) |\n",
    "                                                    (df_curent_final['PS4'] == actual_ps) |\n",
    "                                                    (df_curent_final['PS5'] == actual_ps) |\n",
    "                                                    (df_curent_final['PS6'] == actual_ps) |\n",
    "                                                    (df_curent_final['PS7'] == actual_ps) |\n",
    "                                                    (df_curent_final['PS8'] == actual_ps) |\n",
    "                                                    (df_curent_final['PS9'] == actual_ps) |\n",
    "                                                    (df_curent_final['PS10'] == actual_ps)][['Title']]"
   ]
  },
  {
   "cell_type": "markdown",
   "metadata": {},
   "source": [
    "Infos about the titles"
   ]
  },
  {
   "cell_type": "code",
   "execution_count": null,
   "metadata": {},
   "outputs": [],
   "source": [
    "print(f'Count of df_current_final: {len(df_curent_final)}')\n",
    "print(f'Current_titles in df_final of {actual_ps}: {len(current_titles_in_df_curent_final)}')\n",
    "print(f'Count of {actual_ps} of braz_sides: {len(chosen_model_df)}')\n",
    "print(f'==')"
   ]
  },
  {
   "cell_type": "code",
   "execution_count": null,
   "metadata": {},
   "outputs": [],
   "source": [
    "missing_titles = missing_titles_new(chosen_model_df)\n",
    "missing_titles[:] "
   ]
  },
  {
   "cell_type": "code",
   "execution_count": null,
   "metadata": {},
   "outputs": [],
   "source": [
    "current_titles_in_df_curent_final\n"
   ]
  },
  {
   "cell_type": "markdown",
   "metadata": {},
   "source": [
    "# Emma Butt --> finished"
   ]
  },
  {
   "cell_type": "code",
   "execution_count": null,
   "metadata": {},
   "outputs": [],
   "source": [
    "# Individually adjusted\n",
    "actual_ps = 'Emma Butt'\n",
    "chosen_model_brazz_site = ['https://www.brazzers.com/videos/models/38324/emma-butt/page']\n",
    "max_page_len_of_chosen_model = [1]\n",
    "# from create_df_actual_ps import create_df_actual_ps\n",
    "chosen_model_df = create_df_actual_ps(actual_ps, chosen_model_brazz_site, max_page_len_of_chosen_model)\n"
   ]
  },
  {
   "cell_type": "code",
   "execution_count": null,
   "metadata": {},
   "outputs": [],
   "source": [
    "df_curent_final = pd.read_csv('df_final_my_db_07_11_22.csv', index_col=[0])\n",
    "current_titles_in_df_curent_final = df_curent_final[(df_curent_final['PS1'] == actual_ps) |\n",
    "                                                    (df_curent_final['PS2'] == actual_ps) |\n",
    "                                                    (df_curent_final['PS3'] == actual_ps) |\n",
    "                                                    (df_curent_final['PS4'] == actual_ps) |\n",
    "                                                    (df_curent_final['PS5'] == actual_ps) |\n",
    "                                                    (df_curent_final['PS6'] == actual_ps) |\n",
    "                                                    (df_curent_final['PS7'] == actual_ps) |\n",
    "                                                    (df_curent_final['PS8'] == actual_ps) |\n",
    "                                                    (df_curent_final['PS9'] == actual_ps) |\n",
    "                                                    (df_curent_final['PS10'] == actual_ps)][['Title']]"
   ]
  },
  {
   "cell_type": "markdown",
   "metadata": {},
   "source": [
    "Infos about the titles"
   ]
  },
  {
   "cell_type": "code",
   "execution_count": null,
   "metadata": {},
   "outputs": [],
   "source": [
    "print(f'Count of df_current_final: {len(df_curent_final)}')\n",
    "print(f'Current_titles in df_final of {actual_ps}: {len(current_titles_in_df_curent_final)}')\n",
    "print(f'Count of {actual_ps} of braz_sides: {len(chosen_model_df)}')\n",
    "print(f'==')"
   ]
  },
  {
   "cell_type": "markdown",
   "metadata": {},
   "source": [
    "# Eva Karera --> finished"
   ]
  },
  {
   "cell_type": "code",
   "execution_count": null,
   "metadata": {},
   "outputs": [],
   "source": [
    "# Individually adjusted\n",
    "actual_ps = 'Eva Karera'\n",
    "chosen_model_brazz_site = ['https://www.brazzers.com/videos/models/3843/eva-karera/page']\n",
    "max_page_len_of_chosen_model = [1]\n",
    "# from create_df_actual_ps import create_df_actual_ps\n",
    "chosen_model_df = create_df_actual_ps(actual_ps, chosen_model_brazz_site, max_page_len_of_chosen_model)\n",
    "df_curent_final = pd.read_csv('df_final_my_db_08_11_22.csv', index_col=[0])\n",
    "current_titles_in_df_curent_final = df_curent_final[(df_curent_final['PS1'] == actual_ps) |\n",
    "                                                    (df_curent_final['PS2'] == actual_ps) |\n",
    "                                                    (df_curent_final['PS3'] == actual_ps) |\n",
    "                                                    (df_curent_final['PS4'] == actual_ps) |\n",
    "                                                    (df_curent_final['PS5'] == actual_ps) |\n",
    "                                                    (df_curent_final['PS6'] == actual_ps) |\n",
    "                                                    (df_curent_final['PS7'] == actual_ps) |\n",
    "                                                    (df_curent_final['PS8'] == actual_ps) |\n",
    "                                                    (df_curent_final['PS9'] == actual_ps) |\n",
    "                                                    (df_curent_final['PS10'] == actual_ps)][['Title']]\n",
    "\n",
    "print('== INFOS ABOUT THE TITLES: ==')\n",
    "print(f'Count of df_current_final: {len(df_curent_final)}')\n",
    "print(f'Current_titles in df_final of {actual_ps}: {len(current_titles_in_df_curent_final)}')\n",
    "print(f'Count of {actual_ps} of braz_sides: {len(chosen_model_df)}')\n",
    "print(f'==')"
   ]
  },
  {
   "cell_type": "code",
   "execution_count": null,
   "metadata": {},
   "outputs": [],
   "source": [
    "missing_titles = missing_titles_new(chosen_model_df)\n",
    "missing_titles[:]"
   ]
  },
  {
   "cell_type": "code",
   "execution_count": null,
   "metadata": {},
   "outputs": [],
   "source": []
  },
  {
   "cell_type": "code",
   "execution_count": null,
   "metadata": {},
   "outputs": [],
   "source": [
    "list(current_titles_in_df_curent_final['Title'])"
   ]
  },
  {
   "cell_type": "markdown",
   "metadata": {},
   "source": [
    "# Eva Notty -> finished"
   ]
  },
  {
   "cell_type": "code",
   "execution_count": null,
   "metadata": {},
   "outputs": [],
   "source": [
    "\n",
    "# Individually adjusted\n",
    "actual_ps = 'Eva Notty'\n",
    "chosen_model_brazz_site = ['https://www.brazzers.com/videos/models/7579/eva-notty/page/']\n",
    "max_page_len_of_chosen_model = [2]\n",
    "# from create_df_actual_ps import create_df_actual_ps\n",
    "chosen_model_df = create_df_actual_ps(actual_ps, chosen_model_brazz_site, max_page_len_of_chosen_model)\n",
    "df_curent_final = pd.read_csv('df_final_my_db_08_11_22.csv', index_col=[0])\n",
    "current_titles_in_df_curent_final = df_curent_final[(df_curent_final['PS1'] == actual_ps) |\n",
    "                                                    (df_curent_final['PS2'] == actual_ps) |\n",
    "                                                    (df_curent_final['PS3'] == actual_ps) |\n",
    "                                                    (df_curent_final['PS4'] == actual_ps) |\n",
    "                                                    (df_curent_final['PS5'] == actual_ps) |\n",
    "                                                    (df_curent_final['PS6'] == actual_ps) |\n",
    "                                                    (df_curent_final['PS7'] == actual_ps) |\n",
    "                                                    (df_curent_final['PS8'] == actual_ps) |\n",
    "                                                    (df_curent_final['PS9'] == actual_ps) |\n",
    "                                                    (df_curent_final['PS10'] == actual_ps)][['Title']]\n",
    "\n",
    "print('== INFOS ABOUT THE TITLES: ==')\n",
    "print(f'Count of df_current_final: {len(df_curent_final)}')\n",
    "print(f'Current_titles in df_final of {actual_ps}: {len(current_titles_in_df_curent_final)}')\n",
    "print(f'Count of {actual_ps} of braz_sides: {len(chosen_model_df)}')\n",
    "print(f'==')"
   ]
  },
  {
   "cell_type": "code",
   "execution_count": null,
   "metadata": {},
   "outputs": [],
   "source": [
    "missing_titles = missing_titles_new(chosen_model_df)\n",
    "missing_titles[:]"
   ]
  },
  {
   "cell_type": "code",
   "execution_count": null,
   "metadata": {},
   "outputs": [],
   "source": [
    "current_titles_in_df_curent_final"
   ]
  },
  {
   "cell_type": "code",
   "execution_count": null,
   "metadata": {},
   "outputs": [],
   "source": [
    "search(current_titles_in_df_curent_final, 'tital')"
   ]
  },
  {
   "cell_type": "code",
   "execution_count": null,
   "metadata": {},
   "outputs": [],
   "source": [
    "search_string = \"ti_tal\"\n",
    "df_curent_final.loc[search_titles(current_titles_in_df_curent_final, search_string).index[0].item()]"
   ]
  },
  {
   "cell_type": "markdown",
   "metadata": {},
   "source": [
    "# Harmony Reigns -> finished"
   ]
  },
  {
   "cell_type": "code",
   "execution_count": null,
   "metadata": {},
   "outputs": [],
   "source": [
    "\n",
    "# Individually adjusted\n",
    "actual_ps = 'Harmony Reigns'\n",
    "chosen_model_brazz_site = ['https://www.brazzers.com/videos/models/22629/harmony-reigns/page/']\n",
    "max_page_len_of_chosen_model = [1]\n",
    "# from create_df_actual_ps import create_df_actual_ps\n",
    "chosen_model_df = create_df_actual_ps(actual_ps, chosen_model_brazz_site, max_page_len_of_chosen_model)\n",
    "df_curent_final = pd.read_csv('df_final_my_db_08_11_22.csv', index_col=[0])\n",
    "current_titles_in_df_curent_final = df_curent_final[(df_curent_final['PS1'] == actual_ps) |\n",
    "                                                    (df_curent_final['PS2'] == actual_ps) |\n",
    "                                                    (df_curent_final['PS3'] == actual_ps) |\n",
    "                                                    (df_curent_final['PS4'] == actual_ps) |\n",
    "                                                    (df_curent_final['PS5'] == actual_ps) |\n",
    "                                                    (df_curent_final['PS6'] == actual_ps) |\n",
    "                                                    (df_curent_final['PS7'] == actual_ps) |\n",
    "                                                    (df_curent_final['PS8'] == actual_ps) |\n",
    "                                                    (df_curent_final['PS9'] == actual_ps) |\n",
    "                                                    (df_curent_final['PS10'] == actual_ps)][['Title']]\n",
    "\n",
    "print('== INFOS ABOUT THE TITLES: ==')\n",
    "print(f'Count of df_current_final: {len(df_curent_final)}')\n",
    "print(f'Current_titles in df_final of {actual_ps}: {len(current_titles_in_df_curent_final)}')\n",
    "print(f'Count of {actual_ps} of braz_sides: {len(chosen_model_df)}')\n",
    "print(f'==')"
   ]
  },
  {
   "cell_type": "markdown",
   "metadata": {},
   "source": [
    "# Jasmine Jae --> finished"
   ]
  },
  {
   "cell_type": "code",
   "execution_count": null,
   "metadata": {},
   "outputs": [],
   "source": [
    "\n",
    "# Individually adjusted\n",
    "actual_ps = 'Jasmine Jae'\n",
    "chosen_model_brazz_site = ['https://www.brazzers.com/videos/models/16357/jasmine-jae/page/']\n",
    "max_page_len_of_chosen_model = [2]\n",
    "# from create_df_actual_ps import create_df_actual_ps\n",
    "chosen_model_df = create_df_actual_ps(actual_ps, chosen_model_brazz_site, max_page_len_of_chosen_model)\n",
    "df_curent_final = pd.read_csv('df_final_my_db_09_11_22.csv', index_col=[0])\n",
    "current_titles_in_df_curent_final = df_curent_final[(df_curent_final['PS1'] == actual_ps) |\n",
    "                                                    (df_curent_final['PS2'] == actual_ps) |\n",
    "                                                    (df_curent_final['PS3'] == actual_ps) |\n",
    "                                                    (df_curent_final['PS4'] == actual_ps) |\n",
    "                                                    (df_curent_final['PS5'] == actual_ps) |\n",
    "                                                    (df_curent_final['PS6'] == actual_ps) |\n",
    "                                                    (df_curent_final['PS7'] == actual_ps) |\n",
    "                                                    (df_curent_final['PS8'] == actual_ps) |\n",
    "                                                    (df_curent_final['PS9'] == actual_ps) |\n",
    "                                                    (df_curent_final['PS10'] == actual_ps)][['Title']]\n",
    "\n",
    "print('== INFOS ABOUT THE TITLES: ==')\n",
    "print(f'Count of df_current_final: {len(df_curent_final)}')\n",
    "print(f'Current_titles in df_final of {actual_ps}: {len(current_titles_in_df_curent_final)}')\n",
    "print(f'Count of {actual_ps} of braz_sides: {len(chosen_model_df)}')\n",
    "print(f'==')"
   ]
  },
  {
   "cell_type": "code",
   "execution_count": null,
   "metadata": {},
   "outputs": [],
   "source": [
    "missing_titles = missing_titles_new(chosen_model_df)\n",
    "missing_titles[:]"
   ]
  },
  {
   "cell_type": "markdown",
   "metadata": {},
   "source": [
    "# Jenna Presley --> finished"
   ]
  },
  {
   "cell_type": "code",
   "execution_count": null,
   "metadata": {},
   "outputs": [
    {
     "name": "stdout",
     "output_type": "stream",
     "text": [
      "max.. 1\n",
      "page_nr:  1\n",
      "scanning Site: https://www.brazzers.com/videos/models/4211/jenna-presley/page1, Response: <Response [200]>\n",
      "count of titles:  19\n",
      "== INFOS ABOUT THE TITLES: ==\n",
      "Count of df_current_final: 1945\n",
      "Current_titles in df_final of Jenna Presley: 19\n",
      "Count of Jenna Presley of braz_sides: 19\n",
      "==\n"
     ]
    }
   ],
   "source": [
    "# Individually adjusted\n",
    "actual_ps = 'Jenna Presley'\n",
    "chosen_model_brazz_site = ['https://www.brazzers.com/videos/models/4211/jenna-presley/page']\n",
    "max_page_len_of_chosen_model = [1]\n",
    "# from create_df_actual_ps import create_df_actual_ps\n",
    "chosen_model_df = create_df_actual_ps(actual_ps, chosen_model_brazz_site, max_page_len_of_chosen_model)\n",
    "df_curent_final = pd.read_csv('df_final_my_db_09_11_22.csv', index_col=[0])\n",
    "current_titles_in_df_curent_final = df_curent_final[(df_curent_final['PS1'] == actual_ps) |\n",
    "                                                    (df_curent_final['PS2'] == actual_ps) |\n",
    "                                                    (df_curent_final['PS3'] == actual_ps) |\n",
    "                                                    (df_curent_final['PS4'] == actual_ps) |\n",
    "                                                    (df_curent_final['PS5'] == actual_ps) |\n",
    "                                                    (df_curent_final['PS6'] == actual_ps) |\n",
    "                                                    (df_curent_final['PS7'] == actual_ps) |\n",
    "                                                    (df_curent_final['PS8'] == actual_ps) |\n",
    "                                                    (df_curent_final['PS9'] == actual_ps) |\n",
    "                                                    (df_curent_final['PS10'] == actual_ps)][['Title']]\n",
    "\n",
    "print('== INFOS ABOUT THE TITLES: ==')\n",
    "print(f'Count of df_current_final: {len(df_curent_final)}')\n",
    "print(f'Current_titles in df_final of {actual_ps}: {len(current_titles_in_df_curent_final)}')\n",
    "print(f'Count of {actual_ps} of braz_sides: {len(chosen_model_df)}')\n",
    "print(f'==')"
   ]
  },
  {
   "cell_type": "code",
   "execution_count": null,
   "metadata": {},
   "outputs": [],
   "source": [
    "missing_titles = missing_titles_new(chosen_model_df)\n",
    "missing_titles[:]"
   ]
  },
  {
   "cell_type": "code",
   "execution_count": null,
   "metadata": {},
   "outputs": [],
   "source": [
    "current_titles_in_df_curent_final"
   ]
  },
  {
   "cell_type": "markdown",
   "metadata": {},
   "source": [
    "# Jessica Moore --> finished"
   ]
  },
  {
   "cell_type": "code",
   "execution_count": null,
   "metadata": {},
   "outputs": [],
   "source": [
    "# Individually adjusted\n",
    "actual_ps = 'Jessica Moore'\n",
    "chosen_model_brazz_site = ['https://www.brazzers.com/videos/models/15695/jessica-moore/page']\n",
    "max_page_len_of_chosen_model = [1]\n",
    "# from create_df_actual_ps import create_df_actual_ps\n",
    "chosen_model_df = create_df_actual_ps(actual_ps, chosen_model_brazz_site, max_page_len_of_chosen_model)\n",
    "df_curent_final = pd.read_csv('df_final_my_db_09_11_22.csv', index_col=[0])\n",
    "current_titles_in_df_curent_final = df_curent_final[(df_curent_final['PS1'] == actual_ps) |\n",
    "                                                    (df_curent_final['PS2'] == actual_ps) |\n",
    "                                                    (df_curent_final['PS3'] == actual_ps) |\n",
    "                                                    (df_curent_final['PS4'] == actual_ps) |\n",
    "                                                    (df_curent_final['PS5'] == actual_ps) |\n",
    "                                                    (df_curent_final['PS6'] == actual_ps) |\n",
    "                                                    (df_curent_final['PS7'] == actual_ps) |\n",
    "                                                    (df_curent_final['PS8'] == actual_ps) |\n",
    "                                                    (df_curent_final['PS9'] == actual_ps) |\n",
    "                                                    (df_curent_final['PS10'] == actual_ps)][['Title']]\n",
    "\n",
    "print('== INFOS ABOUT THE TITLES: ==')\n",
    "print(f'Count of df_current_final: {len(df_curent_final)}')\n",
    "print(f'Current_titles in df_final of {actual_ps}: {len(current_titles_in_df_curent_final)}')\n",
    "print(f'Count of {actual_ps} of braz_sides: {len(chosen_model_df)}')\n",
    "print(f'==')"
   ]
  },
  {
   "cell_type": "code",
   "execution_count": null,
   "metadata": {},
   "outputs": [],
   "source": [
    "missing_titles = missing_titles_new(chosen_model_df)\n",
    "missing_titles[:]"
   ]
  },
  {
   "cell_type": "code",
   "execution_count": null,
   "metadata": {},
   "outputs": [],
   "source": [
    "current_titles_in_df_curent_final"
   ]
  },
  {
   "cell_type": "markdown",
   "metadata": {},
   "source": [
    "Specify the search"
   ]
  },
  {
   "cell_type": "code",
   "execution_count": null,
   "metadata": {},
   "outputs": [],
   "source": [
    "search_string = 'posterior'\n",
    "search_titles(current_titles_in_df_curent_final, search_string)\n",
    "search_titles(current_titles_in_df_curent_final, search_string).index[0].item()\n",
    "df_curent_final.loc[search_titles(current_titles_in_df_curent_final, search_string).index[0].item()]"
   ]
  },
  {
   "cell_type": "markdown",
   "metadata": {},
   "source": [
    "# Julia Ann --> finished"
   ]
  },
  {
   "cell_type": "code",
   "execution_count": null,
   "metadata": {},
   "outputs": [],
   "source": [
    "# Individually adjusted\n",
    "actual_ps = 'Julia Ann'\n",
    "chosen_model_brazz_site = ['https://www.brazzers.com/videos/models/1973/julia-ann/page/']\n",
    "max_page_len_of_chosen_model = [3]\n",
    "# from create_df_actual_ps import create_df_actual_ps\n",
    "chosen_model_df = create_df_actual_ps(actual_ps, chosen_model_brazz_site, max_page_len_of_chosen_model)\n",
    "df_curent_final = pd.read_csv('df_final_my_db_13_11_22.csv', index_col=[0])\n",
    "current_titles_in_df_curent_final = df_curent_final[(df_curent_final['PS1'] == actual_ps) |\n",
    "                                                    (df_curent_final['PS2'] == actual_ps) |\n",
    "                                                    (df_curent_final['PS3'] == actual_ps) |\n",
    "                                                    (df_curent_final['PS4'] == actual_ps) |\n",
    "                                                    (df_curent_final['PS5'] == actual_ps) |\n",
    "                                                    (df_curent_final['PS6'] == actual_ps) |\n",
    "                                                    (df_curent_final['PS7'] == actual_ps) |\n",
    "                                                    (df_curent_final['PS8'] == actual_ps) |\n",
    "                                                    (df_curent_final['PS9'] == actual_ps) |\n",
    "                                                    (df_curent_final['PS10'] == actual_ps)][['Title']]\n",
    "\n",
    "print('== INFOS ABOUT THE TITLES: ==')\n",
    "print(f'Count of df_current_final: {len(df_curent_final)}')\n",
    "print(f'Current_titles in df_final of {actual_ps}: {len(current_titles_in_df_curent_final)}')\n",
    "print(f'Count of {actual_ps} of braz_sides: {len(chosen_model_df)}')\n",
    "print(f'==')"
   ]
  },
  {
   "cell_type": "code",
   "execution_count": null,
   "metadata": {},
   "outputs": [],
   "source": [
    "missing_titles = missing_titles_new(chosen_model_df)\n",
    "missing_titles[:]"
   ]
  },
  {
   "cell_type": "code",
   "execution_count": null,
   "metadata": {},
   "outputs": [],
   "source": [
    "current_titles_in_df_curent_final"
   ]
  },
  {
   "cell_type": "markdown",
   "metadata": {},
   "source": [
    "Specify the search"
   ]
  },
  {
   "cell_type": "code",
   "execution_count": null,
   "metadata": {},
   "outputs": [],
   "source": [
    "search_string = 'routine'\n",
    "search_titles(current_titles_in_df_curent_final, search_string)\n",
    "search_titles(current_titles_in_df_curent_final, search_string).index[0].item()\n",
    "df_curent_final.loc[search_titles(current_titles_in_df_curent_final, search_string).index[0].item()]"
   ]
  },
  {
   "cell_type": "markdown",
   "metadata": {},
   "source": [
    "# Katie Kox --> finished"
   ]
  },
  {
   "cell_type": "code",
   "execution_count": null,
   "metadata": {},
   "outputs": [],
   "source": [
    "\n",
    "\n",
    "# Individually adjusted\n",
    "actual_ps = 'Katie Kox'\n",
    "chosen_model_brazz_site = ['https://www.brazzers.com/videos/models/11595/katie-kox/page/']\n",
    "max_page_len_of_chosen_model = [1]\n",
    "# from create_df_actual_ps import create_df_actual_ps\n",
    "chosen_model_df = create_df_actual_ps(actual_ps, chosen_model_brazz_site, max_page_len_of_chosen_model)\n",
    "df_curent_final = pd.read_csv('df_final_my_db_15_11_22.csv', index_col=[0])\n",
    "current_titles_in_df_curent_final = df_curent_final[(df_curent_final['PS1'] == actual_ps) |\n",
    "                                                    (df_curent_final['PS2'] == actual_ps) |\n",
    "                                                    (df_curent_final['PS3'] == actual_ps) |\n",
    "                                                    (df_curent_final['PS4'] == actual_ps) |\n",
    "                                                    (df_curent_final['PS5'] == actual_ps) |\n",
    "                                                    (df_curent_final['PS6'] == actual_ps) |\n",
    "                                                    (df_curent_final['PS7'] == actual_ps) |\n",
    "                                                    (df_curent_final['PS8'] == actual_ps) |\n",
    "                                                    (df_curent_final['PS9'] == actual_ps) |\n",
    "                                                    (df_curent_final['PS10'] == actual_ps)][['Title']]\n",
    "\n",
    "print('== INFOS ABOUT THE TITLES: ==')\n",
    "print(f'Count of df_current_final: {len(df_curent_final)}')\n",
    "print(f'Current_titles in df_final of {actual_ps}: {len(current_titles_in_df_curent_final)}')\n",
    "print(f'Count of {actual_ps} of braz_sides: {len(chosen_model_df)}')\n",
    "print(f'==')\n"
   ]
  },
  {
   "cell_type": "code",
   "execution_count": null,
   "metadata": {},
   "outputs": [],
   "source": [
    "missing_titles = missing_titles_new(chosen_model_df)\n",
    "missing_titles[:]"
   ]
  },
  {
   "cell_type": "markdown",
   "metadata": {},
   "source": [
    "# Kelly Devine --> finished"
   ]
  },
  {
   "cell_type": "code",
   "execution_count": null,
   "metadata": {},
   "outputs": [],
   "source": [
    "\n",
    "# Individually adjusted\n",
    "actual_ps = 'Kelly Divine'\n",
    "chosen_model_brazz_site = ['https://www.brazzers.com/videos/models/6993/kelly-divine/page/']\n",
    "max_page_len_of_chosen_model = [1]\n",
    "# from create_df_actual_ps import create_df_actual_ps\n",
    "chosen_model_df = create_df_actual_ps(actual_ps, chosen_model_brazz_site, max_page_len_of_chosen_model)\n",
    "df_curent_final = pd.read_csv('df_final_my_db_24_11_22.csv', index_col=[0])\n",
    "current_titles_in_df_curent_final = df_curent_final[(df_curent_final['PS1'] == actual_ps) |\n",
    "                                                    (df_curent_final['PS2'] == actual_ps) |\n",
    "                                                    (df_curent_final['PS3'] == actual_ps) |\n",
    "                                                    (df_curent_final['PS4'] == actual_ps) |\n",
    "                                                    (df_curent_final['PS5'] == actual_ps) |\n",
    "                                                    (df_curent_final['PS6'] == actual_ps) |\n",
    "                                                    (df_curent_final['PS7'] == actual_ps) |\n",
    "                                                    (df_curent_final['PS8'] == actual_ps) |\n",
    "                                                    (df_curent_final['PS9'] == actual_ps) |\n",
    "                                                    (df_curent_final['PS10'] == actual_ps)][['Title']]\n",
    "\n",
    "print('== INFOS ABOUT THE TITLES: ==')\n",
    "print(f'Count of df_current_final: {len(df_curent_final)}')\n",
    "print(f'Current_titles in df_final of {actual_ps}: {len(current_titles_in_df_curent_final)}')\n",
    "print(f'Count of {actual_ps} of braz_sides: {len(chosen_model_df)}')\n",
    "print(f'==')\n"
   ]
  },
  {
   "cell_type": "code",
   "execution_count": null,
   "metadata": {},
   "outputs": [],
   "source": [
    "missing_titles = missing_titles_new(chosen_model_df)\n",
    "missing_titles[:]"
   ]
  },
  {
   "cell_type": "markdown",
   "metadata": {},
   "source": [
    "Specify the search"
   ]
  },
  {
   "cell_type": "code",
   "execution_count": null,
   "metadata": {},
   "outputs": [],
   "source": [
    "search_string = 'big'\n",
    "search_titles(current_titles_in_df_curent_final, search_string)\n",
    "search_titles(current_titles_in_df_curent_final, search_string).index[0].item()\n",
    "df_curent_final.loc[search_titles(current_titles_in_df_curent_final, search_string).index[0].item()]"
   ]
  },
  {
   "cell_type": "markdown",
   "metadata": {},
   "source": [
    "# Kiara Mia --> finished"
   ]
  },
  {
   "cell_type": "code",
   "execution_count": null,
   "metadata": {},
   "outputs": [],
   "source": [
    "\n",
    "# Individually adjusted\n",
    "actual_ps = 'Kiara Mia'\n",
    "chosen_model_brazz_site = ['https://www.brazzers.com/videos/models/4313/kiara-mia/page/']\n",
    "max_page_len_of_chosen_model = [1]\n",
    "# from create_df_actual_ps import create_df_actual_ps\n",
    "chosen_model_df = create_df_actual_ps(actual_ps, chosen_model_brazz_site, max_page_len_of_chosen_model)\n",
    "df_curent_final = pd.read_csv('df_final_my_db_24_11_22.csv', index_col=[0])\n",
    "current_titles_in_df_curent_final = df_curent_final[(df_curent_final['PS1'] == actual_ps) |\n",
    "                                                    (df_curent_final['PS2'] == actual_ps) |\n",
    "                                                    (df_curent_final['PS3'] == actual_ps) |\n",
    "                                                    (df_curent_final['PS4'] == actual_ps) |\n",
    "                                                    (df_curent_final['PS5'] == actual_ps) |\n",
    "                                                    (df_curent_final['PS6'] == actual_ps) |\n",
    "                                                    (df_curent_final['PS7'] == actual_ps) |\n",
    "                                                    (df_curent_final['PS8'] == actual_ps) |\n",
    "                                                    (df_curent_final['PS9'] == actual_ps) |\n",
    "                                                    (df_curent_final['PS10'] == actual_ps)][['Title']]\n",
    "\n",
    "print('== INFOS ABOUT THE TITLES: ==')\n",
    "print(f'Count of df_current_final: {len(df_curent_final)}')\n",
    "print(f'Current_titles in df_final of {actual_ps}: {len(current_titles_in_df_curent_final)}')\n",
    "print(f'Count of {actual_ps} of braz_sides: {len(chosen_model_df)}')\n",
    "print(f'==')\n"
   ]
  },
  {
   "cell_type": "code",
   "execution_count": null,
   "metadata": {},
   "outputs": [],
   "source": [
    "missing_titles = missing_titles_new(chosen_model_df)\n",
    "missing_titles[:]"
   ]
  },
  {
   "cell_type": "markdown",
   "metadata": {},
   "source": [
    "# Krissy Lynn --> finished"
   ]
  },
  {
   "cell_type": "code",
   "execution_count": null,
   "metadata": {},
   "outputs": [],
   "source": [
    "\n",
    "#% Individually adjusted\n",
    "actual_ps = 'Krissy Lynn'\n",
    "chosen_model_brazz_site = ['https://www.brazzers.com/videos/models/987/krissy-lynn/page/']\n",
    "max_page_len_of_chosen_model = [3]\n",
    "# from create_df_actual_ps import create_df_actual_ps\n",
    "chosen_model_df = create_df_actual_ps(actual_ps, chosen_model_brazz_site, max_page_len_of_chosen_model)\n",
    "df_curent_final = pd.read_csv('df_final_my_db_21_02_23.csv', index_col=[0])\n",
    "current_titles_in_df_curent_final = df_curent_final[(df_curent_final['PS1'] == actual_ps) |\n",
    "                                                    (df_curent_final['PS2'] == actual_ps) |\n",
    "                                                    (df_curent_final['PS3'] == actual_ps) |\n",
    "                                                    (df_curent_final['PS4'] == actual_ps) |\n",
    "                                                    (df_curent_final['PS5'] == actual_ps) |\n",
    "                                                    (df_curent_final['PS6'] == actual_ps) |\n",
    "                                                    (df_curent_final['PS7'] == actual_ps) |\n",
    "                                                    (df_curent_final['PS8'] == actual_ps) |\n",
    "                                                    (df_curent_final['PS9'] == actual_ps) |\n",
    "                                                    (df_curent_final['PS10'] == actual_ps)][['Title']]\n",
    "\n",
    "print('== INFOS ABOUT THE TITLES: ==')\n",
    "print(f'Count of df_current_final: {len(df_curent_final)}')\n",
    "print(f'Current_titles in df_final of {actual_ps}: {len(current_titles_in_df_curent_final)}')\n",
    "print(f'Count of {actual_ps} of braz_sides: {len(chosen_model_df)}')\n",
    "print(f'==')\n"
   ]
  },
  {
   "cell_type": "code",
   "execution_count": null,
   "metadata": {},
   "outputs": [],
   "source": [
    "missing_titles = missing_titles_new(chosen_model_df)\n",
    "missing_titles[:]"
   ]
  },
  {
   "cell_type": "markdown",
   "metadata": {},
   "source": [
    "Specify the search"
   ]
  },
  {
   "cell_type": "code",
   "execution_count": null,
   "metadata": {},
   "outputs": [],
   "source": [
    "search_string = 'you_a'\n",
    "search_titles(current_titles_in_df_curent_final, search_string)\n",
    "search_titles(current_titles_in_df_curent_final, search_string).index[0].item()\n",
    "df_curent_final.loc[search_titles(current_titles_in_df_curent_final, search_string).index[0].item()]"
   ]
  },
  {
   "cell_type": "markdown",
   "metadata": {},
   "source": [
    "# Leigh Darby --> finished"
   ]
  },
  {
   "cell_type": "code",
   "execution_count": null,
   "metadata": {},
   "outputs": [],
   "source": [
    "\n",
    "#% Individually adjusted\n",
    "actual_ps = 'Leigh Darby'\n",
    "chosen_model_brazz_site = ['https://www.brazzers.com/videos/models/41789/leigh-darby/page/']\n",
    "max_page_len_of_chosen_model = [1]\n",
    "# from create_df_actual_ps import create_df_actual_ps\n",
    "chosen_model_df = create_df_actual_ps(actual_ps, chosen_model_brazz_site, max_page_len_of_chosen_model)\n",
    "df_curent_final = pd.read_csv('df_final_my_db_21_02_23.csv', index_col=[0])\n",
    "current_titles_in_df_curent_final = df_curent_final[(df_curent_final['PS1'] == actual_ps) |\n",
    "                                                    (df_curent_final['PS2'] == actual_ps) |\n",
    "                                                    (df_curent_final['PS3'] == actual_ps) |\n",
    "                                                    (df_curent_final['PS4'] == actual_ps) |\n",
    "                                                    (df_curent_final['PS5'] == actual_ps) |\n",
    "                                                    (df_curent_final['PS6'] == actual_ps) |\n",
    "                                                    (df_curent_final['PS7'] == actual_ps) |\n",
    "                                                    (df_curent_final['PS8'] == actual_ps) |\n",
    "                                                    (df_curent_final['PS9'] == actual_ps) |\n",
    "                                                    (df_curent_final['PS10'] == actual_ps)][['Title']]\n",
    "\n",
    "print('== INFOS ABOUT THE TITLES: ==')\n",
    "print(f'Count of df_current_final: {len(df_curent_final)}')\n",
    "print(f'Current_titles in df_final of {actual_ps}: {len(current_titles_in_df_curent_final)}')\n",
    "print(f'Count of {actual_ps} of braz_sides: {len(chosen_model_df)}')\n",
    "print(f'==')"
   ]
  },
  {
   "cell_type": "code",
   "execution_count": null,
   "metadata": {},
   "outputs": [],
   "source": [
    "missing_titles = missing_titles_new(chosen_model_df)\n",
    "missing_titles[:]"
   ]
  },
  {
   "cell_type": "markdown",
   "metadata": {},
   "source": [
    "Specify the search"
   ]
  },
  {
   "cell_type": "code",
   "execution_count": null,
   "metadata": {},
   "outputs": [],
   "source": [
    "search_string = 'activities'\n",
    "search_titles(current_titles_in_df_curent_final, search_string)\n",
    "search_titles(current_titles_in_df_curent_final, search_string).index[0].item()\n",
    "df_curent_final.loc[search_titles(current_titles_in_df_curent_final, search_string).index[0].item()]"
   ]
  },
  {
   "cell_type": "markdown",
   "metadata": {},
   "source": [
    "# Madison Ivy --> shifting!"
   ]
  },
  {
   "cell_type": "code",
   "execution_count": null,
   "metadata": {},
   "outputs": [],
   "source": [
    "#% Individually adjusted\n",
    "actual_ps = 'Madison Ivy'\n",
    "chosen_model_brazz_site = ['https://www.brazzers.com/videos/models/5313/madison-ivy/page/']\n",
    "max_page_len_of_chosen_model = [4]\n",
    "# from create_df_actual_ps import create_df_actual_ps\n",
    "chosen_model_df = create_df_actual_ps(actual_ps, chosen_model_brazz_site, max_page_len_of_chosen_model)\n",
    "df_curent_final = pd.read_csv('df_final_my_db_21_02_23.csv', index_col=[0])\n",
    "current_titles_in_df_curent_final = df_curent_final[(df_curent_final['PS1'] == actual_ps) |\n",
    "                                                    (df_curent_final['PS2'] == actual_ps) |\n",
    "                                                    (df_curent_final['PS3'] == actual_ps) |\n",
    "                                                    (df_curent_final['PS4'] == actual_ps) |\n",
    "                                                    (df_curent_final['PS5'] == actual_ps) |\n",
    "                                                    (df_curent_final['PS6'] == actual_ps) |\n",
    "                                                    (df_curent_final['PS7'] == actual_ps) |\n",
    "                                                    (df_curent_final['PS8'] == actual_ps) |\n",
    "                                                    (df_curent_final['PS9'] == actual_ps) |\n",
    "                                                    (df_curent_final['PS10'] == actual_ps)][['Title']]\n",
    "\n",
    "print('== INFOS ABOUT THE TITLES: ==')\n",
    "print(f'Count of df_current_final: {len(df_curent_final)}')\n",
    "print(f'Current_titles in df_final of {actual_ps}: {len(current_titles_in_df_curent_final)}')\n",
    "print(f'Count of {actual_ps} of braz_sides: {len(chosen_model_df)}')\n",
    "print(f'==')"
   ]
  },
  {
   "cell_type": "markdown",
   "metadata": {},
   "source": [
    "# Marsha May --> not found"
   ]
  },
  {
   "cell_type": "markdown",
   "metadata": {},
   "source": [
    "# Memphis Monroe --> finished"
   ]
  },
  {
   "cell_type": "code",
   "execution_count": null,
   "metadata": {},
   "outputs": [],
   "source": [
    "#% Individually adjusted\n",
    "actual_ps = 'Memphis Monroe'\n",
    "chosen_model_brazz_site = ['https://www.brazzers.com/videos/models/6005/memphis-monroe/page/']\n",
    "max_page_len_of_chosen_model = [1]\n",
    "# from create_df_actual_ps import create_df_actual_ps\n",
    "chosen_model_df = create_df_actual_ps(actual_ps, chosen_model_brazz_site, max_page_len_of_chosen_model)\n",
    "df_curent_final = pd.read_csv('df_final_my_db_21_02_23.csv', index_col=[0])\n",
    "current_titles_in_df_curent_final = df_curent_final[(df_curent_final['PS1'] == actual_ps) |\n",
    "                                                    (df_curent_final['PS2'] == actual_ps) |\n",
    "                                                    (df_curent_final['PS3'] == actual_ps) |\n",
    "                                                    (df_curent_final['PS4'] == actual_ps) |\n",
    "                                                    (df_curent_final['PS5'] == actual_ps) |\n",
    "                                                    (df_curent_final['PS6'] == actual_ps) |\n",
    "                                                    (df_curent_final['PS7'] == actual_ps) |\n",
    "                                                    (df_curent_final['PS8'] == actual_ps) |\n",
    "                                                    (df_curent_final['PS9'] == actual_ps) |\n",
    "                                                    (df_curent_final['PS10'] == actual_ps)][['Title']]\n",
    "\n",
    "print('== INFOS ABOUT THE TITLES: ==')\n",
    "print(f'Count of df_current_final: {len(df_curent_final)}')\n",
    "print(f'Current_titles in df_final of {actual_ps}: {len(current_titles_in_df_curent_final)}')\n",
    "print(f'Count of {actual_ps} of braz_sides: {len(chosen_model_df)}')\n",
    "print(f'==')"
   ]
  },
  {
   "cell_type": "code",
   "execution_count": null,
   "metadata": {},
   "outputs": [],
   "source": [
    "missing_titles = missing_titles_new(chosen_model_df)\n",
    "missing_titles[:]"
   ]
  },
  {
   "cell_type": "markdown",
   "metadata": {},
   "source": [
    "Specify the search"
   ]
  },
  {
   "cell_type": "code",
   "execution_count": null,
   "metadata": {},
   "outputs": [],
   "source": [
    "search_string = 'boob'\n",
    "search_titles(current_titles_in_df_curent_final, search_string)\n",
    "search_titles(current_titles_in_df_curent_final, search_string).index[0].item()\n",
    "df_curent_final.loc[search_titles(current_titles_in_df_curent_final, search_string).index[0].item()]"
   ]
  },
  {
   "cell_type": "markdown",
   "metadata": {},
   "source": [
    "# Nikki Benz --> finished"
   ]
  },
  {
   "cell_type": "code",
   "execution_count": null,
   "metadata": {},
   "outputs": [],
   "source": [
    "#% Individually adjusted\n",
    "actual_ps = 'Nikki Benz'\n",
    "chosen_model_brazz_site = ['https://www.brazzers.com/videos/models/3251/nikki-benz/page/']\n",
    "max_page_len_of_chosen_model = [4]\n",
    "# from create_df_actual_ps import create_df_actual_ps\n",
    "chosen_model_df = create_df_actual_ps(actual_ps, chosen_model_brazz_site, max_page_len_of_chosen_model)\n",
    "df_curent_final = pd.read_csv('df_final_my_db_21_02_23.csv', index_col=[0])\n",
    "current_titles_in_df_curent_final = df_curent_final[(df_curent_final['PS1'] == actual_ps) |\n",
    "                                                    (df_curent_final['PS2'] == actual_ps) |\n",
    "                                                    (df_curent_final['PS3'] == actual_ps) |\n",
    "                                                    (df_curent_final['PS4'] == actual_ps) |\n",
    "                                                    (df_curent_final['PS5'] == actual_ps) |\n",
    "                                                    (df_curent_final['PS6'] == actual_ps) |\n",
    "                                                    (df_curent_final['PS7'] == actual_ps) |\n",
    "                                                    (df_curent_final['PS8'] == actual_ps) |\n",
    "                                                    (df_curent_final['PS9'] == actual_ps) |\n",
    "                                                    (df_curent_final['PS10'] == actual_ps)][['Title']]\n",
    "\n",
    "print('== INFOS ABOUT THE TITLES: ==')\n",
    "print(f'Count of df_current_final: {len(df_curent_final)}')\n",
    "print(f'Current_titles in df_final of {actual_ps}: {len(current_titles_in_df_curent_final)}')\n",
    "print(f'Count of {actual_ps} of braz_sides: {len(chosen_model_df)}')\n",
    "print(f'==')"
   ]
  },
  {
   "cell_type": "code",
   "execution_count": null,
   "metadata": {},
   "outputs": [],
   "source": [
    "missing_titles = missing_titles_new(chosen_model_df)\n",
    "missing_titles[:]"
   ]
  },
  {
   "cell_type": "markdown",
   "metadata": {},
   "source": [
    "Specify the search"
   ]
  },
  {
   "cell_type": "code",
   "execution_count": null,
   "metadata": {},
   "outputs": [],
   "source": [
    "search_string = 'traffic'\n",
    "# search_titles(current_titles_in_df_curent_final, search_string)\n",
    "# search_titles(current_titles_in_df_curent_final, search_string).index[0].item()\n",
    "df_curent_final.loc[search_titles(current_titles_in_df_curent_final, search_string).index[0].item()]['Title']"
   ]
  },
  {
   "cell_type": "markdown",
   "metadata": {},
   "source": [
    "# Noelle Easton --> finished"
   ]
  },
  {
   "cell_type": "code",
   "execution_count": null,
   "metadata": {},
   "outputs": [],
   "source": [
    "#% Individually adjusted\n",
    "actual_ps = 'Noelle Easton'\n",
    "chosen_model_brazz_site = ['https://www.brazzers.com/videos/models/2957/noelle-easton/page']\n",
    "max_page_len_of_chosen_model = [1]\n",
    "# from create_df_actual_ps import create_df_actual_ps\n",
    "chosen_model_df = create_df_actual_ps(actual_ps, chosen_model_brazz_site, max_page_len_of_chosen_model)\n",
    "df_curent_final = pd.read_csv('df_final_my_db_21_02_23.csv', index_col=[0])\n",
    "current_titles_in_df_curent_final = df_curent_final[(df_curent_final['PS1'] == actual_ps) |\n",
    "                                                    (df_curent_final['PS2'] == actual_ps) |\n",
    "                                                    (df_curent_final['PS3'] == actual_ps) |\n",
    "                                                    (df_curent_final['PS4'] == actual_ps) |\n",
    "                                                    (df_curent_final['PS5'] == actual_ps) |\n",
    "                                                    (df_curent_final['PS6'] == actual_ps) |\n",
    "                                                    (df_curent_final['PS7'] == actual_ps) |\n",
    "                                                    (df_curent_final['PS8'] == actual_ps) |\n",
    "                                                    (df_curent_final['PS9'] == actual_ps) |\n",
    "                                                    (df_curent_final['PS10'] == actual_ps)][['Title']]\n",
    "\n",
    "print('== INFOS ABOUT THE TITLES: ==')\n",
    "print(f'Count of df_current_final: {len(df_curent_final)}')\n",
    "print(f'Current_titles in df_final of {actual_ps}: {len(current_titles_in_df_curent_final)}')\n",
    "print(f'Count of {actual_ps} of braz_sides: {len(chosen_model_df)}')\n",
    "print(f'==')"
   ]
  },
  {
   "cell_type": "code",
   "execution_count": null,
   "metadata": {},
   "outputs": [],
   "source": [
    "missing_titles = missing_titles_new(chosen_model_df)\n",
    "missing_titles[:]"
   ]
  },
  {
   "cell_type": "markdown",
   "metadata": {},
   "source": [
    "Specify the search"
   ]
  },
  {
   "cell_type": "code",
   "execution_count": null,
   "metadata": {},
   "outputs": [],
   "source": [
    "search_string = 'party'\n",
    "search_titles(current_titles_in_df_curent_final, search_string)\n",
    "search_titles(current_titles_in_df_curent_final, search_string).index[0].item()\n",
    "df_curent_final.loc[search_titles(current_titles_in_df_curent_final, search_string).index[0].item()]"
   ]
  },
  {
   "cell_type": "markdown",
   "metadata": {},
   "source": [
    "# Peta Jensen --> on hold!!"
   ]
  },
  {
   "cell_type": "code",
   "execution_count": null,
   "metadata": {},
   "outputs": [],
   "source": [
    "#% Individually adjusted\n",
    "actual_ps = 'Peta Jensen'\n",
    "chosen_model_brazz_site = ['https://www.brazzers.com/videos/models/249/peta-jensen/page/']\n",
    "max_page_len_of_chosen_model = [3]\n",
    "# from create_df_actual_ps import create_df_actual_ps\n",
    "chosen_model_df = create_df_actual_ps(actual_ps, chosen_model_brazz_site, max_page_len_of_chosen_model)\n",
    "df_curent_final = pd.read_csv('df_final_my_db_21_02_23.csv', index_col=[0])\n",
    "current_titles_in_df_curent_final = df_curent_final[(df_curent_final['PS1'] == actual_ps) |\n",
    "                                                    (df_curent_final['PS2'] == actual_ps) |\n",
    "                                                    (df_curent_final['PS3'] == actual_ps) |\n",
    "                                                    (df_curent_final['PS4'] == actual_ps) |\n",
    "                                                    (df_curent_final['PS5'] == actual_ps) |\n",
    "                                                    (df_curent_final['PS6'] == actual_ps) |\n",
    "                                                    (df_curent_final['PS7'] == actual_ps) |\n",
    "                                                    (df_curent_final['PS8'] == actual_ps) |\n",
    "                                                    (df_curent_final['PS9'] == actual_ps) |\n",
    "                                                    (df_curent_final['PS10'] == actual_ps)][['Title']]\n",
    "\n",
    "print('== INFOS ABOUT THE TITLES: ==')\n",
    "print(f'Count of df_current_final: {len(df_curent_final)}')\n",
    "print(f'Current_titles in df_final of {actual_ps}: {len(current_titles_in_df_curent_final)}')\n",
    "print(f'Count of {actual_ps} of braz_sides: {len(chosen_model_df)}')\n",
    "print(f'==')"
   ]
  },
  {
   "cell_type": "code",
   "execution_count": null,
   "metadata": {},
   "outputs": [],
   "source": [
    "missing_titles = missing_titles_new(chosen_model_df)\n",
    "missing_titles[:]"
   ]
  },
  {
   "cell_type": "markdown",
   "metadata": {},
   "source": [
    "specify the search"
   ]
  },
  {
   "cell_type": "code",
   "execution_count": null,
   "metadata": {},
   "outputs": [],
   "source": [
    "search_string = 'game_night'\n",
    "search_titles(current_titles_in_df_curent_final, search_string)\n",
    "search_titles(current_titles_in_df_curent_final, search_string).index[0].item()\n",
    "df_curent_final.loc[search_titles(current_titles_in_df_curent_final, search_string).index[0].item()]"
   ]
  },
  {
   "cell_type": "markdown",
   "metadata": {},
   "source": [
    "# Rebecca Lineares --> jump over ..."
   ]
  },
  {
   "cell_type": "code",
   "execution_count": null,
   "metadata": {},
   "outputs": [],
   "source": []
  },
  {
   "cell_type": "markdown",
   "metadata": {},
   "source": [
    "# Rebecca More --> finished"
   ]
  },
  {
   "cell_type": "code",
   "execution_count": null,
   "metadata": {},
   "outputs": [
    {
     "name": "stdout",
     "output_type": "stream",
     "text": [
      "max.. 1\n",
      "page_nr:  1\n",
      "scanning Site: https://www.brazzers.com/videos/models/30435/rebecca-more/page1, Response: <Response [200]>\n",
      "count of titles:  23\n",
      "== INFOS ABOUT THE TITLES: ==\n",
      "Count of df_current_final: 2021\n",
      "Current_titles in df_final of Rebecca More: 22\n",
      "Count of Rebecca More of braz_sides: 23\n",
      "==\n"
     ]
    }
   ],
   "source": [
    "#% Individually adjusted\n",
    "actual_ps = 'Rebecca More'\n",
    "chosen_model_brazz_site = ['https://www.brazzers.com/videos/models/30435/rebecca-more/page']\n",
    "max_page_len_of_chosen_model = [1]\n",
    "# from create_df_actual_ps import create_df_actual_ps\n",
    "chosen_model_df = create_df_actual_ps(actual_ps, chosen_model_brazz_site, max_page_len_of_chosen_model)\n",
    "df_curent_final = pd.read_csv('df_final_my_db_21_02_23.csv', index_col=[0])\n",
    "current_titles_in_df_curent_final = df_curent_final[(df_curent_final['PS1'] == actual_ps) |\n",
    "                                                    (df_curent_final['PS2'] == actual_ps) |\n",
    "                                                    (df_curent_final['PS3'] == actual_ps) |\n",
    "                                                    (df_curent_final['PS4'] == actual_ps) |\n",
    "                                                    (df_curent_final['PS5'] == actual_ps) |\n",
    "                                                    (df_curent_final['PS6'] == actual_ps) |\n",
    "                                                    (df_curent_final['PS7'] == actual_ps) |\n",
    "                                                    (df_curent_final['PS8'] == actual_ps) |\n",
    "                                                    (df_curent_final['PS9'] == actual_ps) |\n",
    "                                                    (df_curent_final['PS10'] == actual_ps)][['Title']]\n",
    "\n",
    "print('== INFOS ABOUT THE TITLES: ==')\n",
    "print(f'Count of df_current_final: {len(df_curent_final)}')\n",
    "print(f'Current_titles in df_final of {actual_ps}: {len(current_titles_in_df_curent_final)}')\n",
    "print(f'Count of {actual_ps} of braz_sides: {len(chosen_model_df)}')\n",
    "print(f'==')"
   ]
  },
  {
   "cell_type": "code",
   "execution_count": null,
   "metadata": {},
   "outputs": [],
   "source": [
    "missing_titles = missing_titles_new(chosen_model_df)\n",
    "missing_titles[:]"
   ]
  },
  {
   "cell_type": "code",
   "execution_count": null,
   "metadata": {},
   "outputs": [],
   "source": [
    "search_string = 'clean'\n",
    "search_titles(current_titles_in_df_curent_final, search_string)\n",
    "search_titles(current_titles_in_df_curent_final, search_string).index[0].item()\n",
    "df_curent_final.loc[search_titles(current_titles_in_df_curent_final, search_string).index[0].item()]['Title']"
   ]
  },
  {
   "cell_type": "markdown",
   "metadata": {},
   "source": [
    "# Riley Evans --> finished"
   ]
  },
  {
   "cell_type": "code",
   "execution_count": null,
   "metadata": {},
   "outputs": [],
   "source": [
    "#% Individually adjusted\n",
    "actual_ps = 'Riley Evans'\n",
    "chosen_model_brazz_site = ['https://www.brazzers.com/videos/models/7569/riley-evans/page/']\n",
    "max_page_len_of_chosen_model = [1]\n",
    "# from create_df_actual_ps import create_df_actual_ps\n",
    "chosen_model_df = create_df_actual_ps(actual_ps, chosen_model_brazz_site, max_page_len_of_chosen_model)\n",
    "df_curent_final = pd.read_csv('df_final_my_db_27_02_23.csv', index_col=[0])\n",
    "current_titles_in_df_curent_final = df_curent_final[(df_curent_final['PS1'] == actual_ps) |\n",
    "                                                    (df_curent_final['PS2'] == actual_ps) |\n",
    "                                                    (df_curent_final['PS3'] == actual_ps) |\n",
    "                                                    (df_curent_final['PS4'] == actual_ps) |\n",
    "                                                    (df_curent_final['PS5'] == actual_ps) |\n",
    "                                                    (df_curent_final['PS6'] == actual_ps) |\n",
    "                                                    (df_curent_final['PS7'] == actual_ps) |\n",
    "                                                    (df_curent_final['PS8'] == actual_ps) |\n",
    "                                                    (df_curent_final['PS9'] == actual_ps) |\n",
    "                                                    (df_curent_final['PS10'] == actual_ps)][['Title']]\n",
    "\n",
    "print('== INFOS ABOUT THE TITLES: ==')\n",
    "print(f'Count of df_current_final: {len(df_curent_final)}')\n",
    "print(f'Current_titles in df_final of {actual_ps}: {len(current_titles_in_df_curent_final)}')\n",
    "print(f'Count of {actual_ps} of braz_sides: {len(chosen_model_df)}')\n",
    "print(f'==')"
   ]
  },
  {
   "cell_type": "code",
   "execution_count": null,
   "metadata": {},
   "outputs": [],
   "source": [
    "missing_titles = missing_titles_new(chosen_model_df)\n",
    "missing_titles[:]"
   ]
  },
  {
   "cell_type": "code",
   "execution_count": null,
   "metadata": {},
   "outputs": [],
   "source": [
    "search_string = 'butt'\n",
    "search_titles(current_titles_in_df_curent_final, search_string)\n",
    "search_titles(current_titles_in_df_curent_final, search_string).index[0].item()\n",
    "df_curent_final.loc[search_titles(current_titles_in_df_curent_final, search_string).index[0].item()]['Title']"
   ]
  },
  {
   "cell_type": "markdown",
   "metadata": {},
   "source": [
    "# Roberta Gemma --> finished"
   ]
  },
  {
   "cell_type": "code",
   "execution_count": null,
   "metadata": {},
   "outputs": [],
   "source": [
    "#% Individually adjusted\n",
    "actual_ps = 'Roberta Gemma'\n",
    "chosen_model_brazz_site = ['https://www.brazzers.com/videos/models/41906/roberta-gemma/page/']\n",
    "max_page_len_of_chosen_model = [1]\n",
    "# from create_df_actual_ps import create_df_actual_ps\n",
    "chosen_model_df = create_df_actual_ps(actual_ps, chosen_model_brazz_site, max_page_len_of_chosen_model)\n",
    "df_curent_final = pd.read_csv('df_final_my_db_27_02_23.csv', index_col=[0])\n",
    "current_titles_in_df_curent_final = df_curent_final[(df_curent_final['PS1'] == actual_ps) |\n",
    "                                                    (df_curent_final['PS2'] == actual_ps) |\n",
    "                                                    (df_curent_final['PS3'] == actual_ps) |\n",
    "                                                    (df_curent_final['PS4'] == actual_ps) |\n",
    "                                                    (df_curent_final['PS5'] == actual_ps) |\n",
    "                                                    (df_curent_final['PS6'] == actual_ps) |\n",
    "                                                    (df_curent_final['PS7'] == actual_ps) |\n",
    "                                                    (df_curent_final['PS8'] == actual_ps) |\n",
    "                                                    (df_curent_final['PS9'] == actual_ps) |\n",
    "                                                    (df_curent_final['PS10'] == actual_ps)][['Title']]\n",
    "\n",
    "print('== INFOS ABOUT THE TITLES: ==')\n",
    "print(f'Count of df_current_final: {len(df_curent_final)}')\n",
    "print(f'Current_titles in df_final of {actual_ps}: {len(current_titles_in_df_curent_final)}')\n",
    "print(f'Count of {actual_ps} of braz_sides: {len(chosen_model_df)}')\n",
    "print(f'==')"
   ]
  },
  {
   "cell_type": "markdown",
   "metadata": {},
   "source": [
    "# Sensual Jane --> finished"
   ]
  },
  {
   "cell_type": "code",
   "execution_count": null,
   "metadata": {},
   "outputs": [],
   "source": [
    "#% Individually adjusted\n",
    "actual_ps = 'Sensual Jane'\n",
    "chosen_model_brazz_site = ['https://www.brazzers.com/videos/models/7667/sensual-jane/page/']\n",
    "max_page_len_of_chosen_model = [1]\n",
    "# from create_df_actual_ps import create_df_actual_ps\n",
    "chosen_model_df = create_df_actual_ps(actual_ps, chosen_model_brazz_site, max_page_len_of_chosen_model)\n",
    "df_curent_final = pd.read_csv('df_final_my_db_27_02_23.csv', index_col=[0])\n",
    "current_titles_in_df_curent_final = df_curent_final[(df_curent_final['PS1'] == actual_ps) |\n",
    "                                                    (df_curent_final['PS2'] == actual_ps) |\n",
    "                                                    (df_curent_final['PS3'] == actual_ps) |\n",
    "                                                    (df_curent_final['PS4'] == actual_ps) |\n",
    "                                                    (df_curent_final['PS5'] == actual_ps) |\n",
    "                                                    (df_curent_final['PS6'] == actual_ps) |\n",
    "                                                    (df_curent_final['PS7'] == actual_ps) |\n",
    "                                                    (df_curent_final['PS8'] == actual_ps) |\n",
    "                                                    (df_curent_final['PS9'] == actual_ps) |\n",
    "                                                    (df_curent_final['PS10'] == actual_ps)][['Title']]\n",
    "\n",
    "print('== INFOS ABOUT THE TITLES: ==')\n",
    "print(f'Count of df_current_final: {len(df_curent_final)}')\n",
    "print(f'Current_titles in df_final of {actual_ps}: {len(current_titles_in_df_curent_final)}')\n",
    "print(f'Count of {actual_ps} of braz_sides: {len(chosen_model_df)}')\n",
    "print(f'==')"
   ]
  },
  {
   "cell_type": "code",
   "execution_count": null,
   "metadata": {},
   "outputs": [],
   "source": [
    "missing_titles = missing_titles_new(chosen_model_df)\n",
    "missing_titles[:]"
   ]
  },
  {
   "cell_type": "markdown",
   "metadata": {},
   "source": [
    "# Shyla Stylez"
   ]
  },
  {
   "cell_type": "code",
   "execution_count": null,
   "metadata": {},
   "outputs": [
    {
     "name": "stdout",
     "output_type": "stream",
     "text": [
      "max.. 2\n",
      "page_nr:  1\n",
      "scanning Site: https://www.brazzers.com/videos/models/403/shyla-stylez/page/1, Response: <Response [200]>\n",
      "page_nr:  2\n",
      "scanning Site: https://www.brazzers.com/videos/models/403/shyla-stylez/page/2, Response: <Response [200]>\n",
      "count of titles:  40\n",
      "== INFOS ABOUT THE TITLES: ==\n",
      "Count of df_current_final: 2058\n",
      "Current_titles in df_final of Shyla Stylez: 32\n",
      "Count of Shyla Stylez of braz_sides: 40\n",
      "==\n"
     ]
    }
   ],
   "source": [
    "from create_df_actual_ps import create_df_actual_ps\n",
    "#% Individually adjusted\n",
    "actual_ps = 'Shyla Stylez'\n",
    "chosen_model_brazz_site = ['https://www.brazzers.com/videos/models/403/shyla-stylez/page/']\n",
    "max_page_len_of_chosen_model = [2]\n",
    "# from create_df_actual_ps import create_df_actual_ps\n",
    "chosen_model_df = create_df_actual_ps(actual_ps, chosen_model_brazz_site, max_page_len_of_chosen_model)\n",
    "df_curent_final = pd.read_csv('df_final_01_03_23.csv', index_col=[0])\n",
    "current_titles_in_df_curent_final = df_curent_final[(df_curent_final['PS1'] == actual_ps) |\n",
    "                                                    (df_curent_final['PS2'] == actual_ps) |\n",
    "                                                    (df_curent_final['PS3'] == actual_ps) |\n",
    "                                                    (df_curent_final['PS4'] == actual_ps) |\n",
    "                                                    (df_curent_final['PS5'] == actual_ps) |\n",
    "                                                    (df_curent_final['PS6'] == actual_ps) |\n",
    "                                                    (df_curent_final['PS7'] == actual_ps) |\n",
    "                                                    (df_curent_final['PS8'] == actual_ps) |\n",
    "                                                    (df_curent_final['PS9'] == actual_ps) |\n",
    "                                                    (df_curent_final['PS10'] == actual_ps)][['Title']]\n",
    "\n",
    "print('== INFOS ABOUT THE TITLES: ==')\n",
    "print(f'Count of df_current_final: {len(df_curent_final)}')\n",
    "print(f'Current_titles in df_final of {actual_ps}: {len(current_titles_in_df_curent_final)}')\n",
    "print(f'Count of {actual_ps} of braz_sides: {len(chosen_model_df)}')\n",
    "print(f'==')"
   ]
  },
  {
   "cell_type": "code",
   "execution_count": null,
   "metadata": {},
   "outputs": [
    {
     "data": {
      "text/plain": [
       "['milking_clit',\n",
       " 'method_to_my_tight_ass',\n",
       " 'a_brazzers_christmas_special_part_3',\n",
       " 'a_brazzers_christmas_special_part_2',\n",
       " 'el_secreto_mejor_guardado']"
      ]
     },
     "execution_count": 17,
     "metadata": {},
     "output_type": "execute_result"
    }
   ],
   "source": [
    "missing_titles = missing_titles_new(chosen_model_df)\n",
    "missing_titles[:]"
   ]
  },
  {
   "cell_type": "code",
   "execution_count": null,
   "metadata": {},
   "outputs": [],
   "source": [
    "search_string = 'good'\n",
    "search_titles(current_titles_in_df_curent_final, search_string)\n",
    "search_titles(current_titles_in_df_curent_final, search_string).index[0].item()\n",
    "df_curent_final.loc[search_titles(current_titles_in_df_curent_final, search_string).index[0].item()]#['Title']"
   ]
  },
  {
   "cell_type": "markdown",
   "metadata": {},
   "source": [
    "# Jillian Janson --> finished"
   ]
  },
  {
   "cell_type": "code",
   "execution_count": null,
   "metadata": {},
   "outputs": [
    {
     "name": "stdout",
     "output_type": "stream",
     "text": [
      "max.. 1\n",
      "page_nr:  1\n",
      "scanning Site: https://www.brazzers.com/videos/models/379/jillian-janson/page/1, Response: <Response [200]>\n",
      "count of titles:  19\n",
      "== INFOS ABOUT THE TITLES: ==\n",
      "Count of df_current_final: 2092\n",
      "Current_titles in df_final of Jillian Janson: 14\n",
      "Count of Jillian Janson of braz_sides: 19\n",
      "==\n"
     ]
    }
   ],
   "source": [
    "from create_df_actual_ps import create_df_actual_ps\n",
    "#% Individually adjusted\n",
    "actual_ps = 'Jillian Janson'\n",
    "chosen_model_brazz_site = ['https://www.brazzers.com/videos/models/379/jillian-janson/page/']\n",
    "max_page_len_of_chosen_model = [1]\n",
    "# from create_df_actual_ps import create_df_actual_ps\n",
    "chosen_model_df = create_df_actual_ps(actual_ps, chosen_model_brazz_site, max_page_len_of_chosen_model)\n",
    "df_curent_final = pd.read_csv('df_final_06_03_23.csv', index_col=[0])\n",
    "current_titles_in_df_curent_final = df_curent_final[(df_curent_final['PS1'] == actual_ps) |\n",
    "                                                    (df_curent_final['PS2'] == actual_ps) |\n",
    "                                                    (df_curent_final['PS3'] == actual_ps) |\n",
    "                                                    (df_curent_final['PS4'] == actual_ps) |\n",
    "                                                    (df_curent_final['PS5'] == actual_ps) |\n",
    "                                                    (df_curent_final['PS6'] == actual_ps) |\n",
    "                                                    (df_curent_final['PS7'] == actual_ps) |\n",
    "                                                    (df_curent_final['PS8'] == actual_ps) |\n",
    "                                                    (df_curent_final['PS9'] == actual_ps) |\n",
    "                                                    (df_curent_final['PS10'] == actual_ps)][['Title']]\n",
    "\n",
    "print('== INFOS ABOUT THE TITLES: ==')\n",
    "print(f'Count of df_current_final: {len(df_curent_final)}')\n",
    "print(f'Current_titles in df_final of {actual_ps}: {len(current_titles_in_df_curent_final)}')\n",
    "print(f'Count of {actual_ps} of braz_sides: {len(chosen_model_df)}')\n",
    "print(f'==')"
   ]
  },
  {
   "cell_type": "code",
   "execution_count": null,
   "metadata": {},
   "outputs": [
    {
     "data": {
      "text/plain": [
       "['milking_clit',\n",
       " 'a_brazzers_christmas_special_part_3',\n",
       " 'a_brazzers_christmas_special_part_2',\n",
       " 'el_secreto_mejor_guardado']"
      ]
     },
     "execution_count": 7,
     "metadata": {},
     "output_type": "execute_result"
    }
   ],
   "source": [
    "missing_titles = missing_titles_new(chosen_model_df)\n",
    "missing_titles[:]"
   ]
  },
  {
   "cell_type": "code",
   "execution_count": null,
   "metadata": {},
   "outputs": [
    {
     "ename": "IndexError",
     "evalue": "index 0 is out of bounds for axis 0 with size 0",
     "output_type": "error",
     "traceback": [
      "\u001b[0;31m---------------------------------------------------------------------------\u001b[0m",
      "\u001b[0;31mIndexError\u001b[0m                                Traceback (most recent call last)",
      "Cell \u001b[0;32mIn [8], line 3\u001b[0m\n\u001b[1;32m      1\u001b[0m search_string \u001b[39m=\u001b[39m \u001b[39m'\u001b[39m\u001b[39mjillian\u001b[39m\u001b[39m'\u001b[39m\n\u001b[1;32m      2\u001b[0m search_titles(current_titles_in_df_curent_final, search_string)\n\u001b[0;32m----> 3\u001b[0m search_titles(current_titles_in_df_curent_final, search_string)\u001b[39m.\u001b[39;49mindex[\u001b[39m0\u001b[39;49m]\u001b[39m.\u001b[39mitem()\n\u001b[1;32m      4\u001b[0m df_curent_final\u001b[39m.\u001b[39mloc[search_titles(current_titles_in_df_curent_final, search_string)\u001b[39m.\u001b[39mindex[\u001b[39m0\u001b[39m]\u001b[39m.\u001b[39mitem()]\n",
      "File \u001b[0;32m~/opt/anaconda3/envs/pyside2_dev/lib/python3.10/site-packages/pandas/core/indexes/base.py:5039\u001b[0m, in \u001b[0;36mIndex.__getitem__\u001b[0;34m(self, key)\u001b[0m\n\u001b[1;32m   5036\u001b[0m \u001b[39mif\u001b[39;00m is_integer(key) \u001b[39mor\u001b[39;00m is_float(key):\n\u001b[1;32m   5037\u001b[0m     \u001b[39m# GH#44051 exclude bool, which would return a 2d ndarray\u001b[39;00m\n\u001b[1;32m   5038\u001b[0m     key \u001b[39m=\u001b[39m com\u001b[39m.\u001b[39mcast_scalar_indexer(key, warn_float\u001b[39m=\u001b[39m\u001b[39mTrue\u001b[39;00m)\n\u001b[0;32m-> 5039\u001b[0m     \u001b[39mreturn\u001b[39;00m getitem(key)\n\u001b[1;32m   5041\u001b[0m \u001b[39mif\u001b[39;00m \u001b[39misinstance\u001b[39m(key, \u001b[39mslice\u001b[39m):\n\u001b[1;32m   5042\u001b[0m     \u001b[39m# This case is separated from the conditional above to avoid\u001b[39;00m\n\u001b[1;32m   5043\u001b[0m     \u001b[39m# pessimization com.is_bool_indexer and ndim checks.\u001b[39;00m\n\u001b[1;32m   5044\u001b[0m     result \u001b[39m=\u001b[39m getitem(key)\n",
      "\u001b[0;31mIndexError\u001b[0m: index 0 is out of bounds for axis 0 with size 0"
     ]
    }
   ],
   "source": [
    "search_string = 'jillian'\n",
    "search_titles(current_titles_in_df_curent_final, search_string)\n",
    "search_titles(current_titles_in_df_curent_final, search_string).index[0].item()\n",
    "df_curent_final.loc[search_titles(current_titles_in_df_curent_final, search_string).index[0].item()]#['Title']"
   ]
  },
  {
   "cell_type": "markdown",
   "metadata": {},
   "source": [
    "# Armani Black --> finished"
   ]
  },
  {
   "cell_type": "code",
   "execution_count": null,
   "metadata": {},
   "outputs": [
    {
     "name": "stdout",
     "output_type": "stream",
     "text": [
      "max.. 1\n",
      "page_nr:  1\n",
      "scanning Site: https://www.brazzers.com/videos/models/80821/armani-black/page/1, Response: <Response [200]>\n",
      "count of titles:  8\n",
      "== INFOS ABOUT THE TITLES: ==\n",
      "Count of df_current_final: 2092\n",
      "Current_titles in df_final of Armani Black: 8\n",
      "Count of Armani Black of braz_sides: 8\n",
      "==\n"
     ]
    }
   ],
   "source": [
    "from create_df_actual_ps import create_df_actual_ps\n",
    "#% Individually adjusted\n",
    "actual_ps = 'Armani Black'\n",
    "chosen_model_brazz_site = ['https://www.brazzers.com/videos/models/80821/armani-black/page/']\n",
    "max_page_len_of_chosen_model = [1]\n",
    "# from create_df_actual_ps import create_df_actual_ps\n",
    "chosen_model_df = create_df_actual_ps(actual_ps, chosen_model_brazz_site, max_page_len_of_chosen_model)\n",
    "df_curent_final = pd.read_csv('df_final_06_03_23.csv', index_col=[0])\n",
    "current_titles_in_df_curent_final = df_curent_final[(df_curent_final['PS1'] == actual_ps) |\n",
    "                                                    (df_curent_final['PS2'] == actual_ps) |\n",
    "                                                    (df_curent_final['PS3'] == actual_ps) |\n",
    "                                                    (df_curent_final['PS4'] == actual_ps) |\n",
    "                                                    (df_curent_final['PS5'] == actual_ps) |\n",
    "                                                    (df_curent_final['PS6'] == actual_ps) |\n",
    "                                                    (df_curent_final['PS7'] == actual_ps) |\n",
    "                                                    (df_curent_final['PS8'] == actual_ps) |\n",
    "                                                    (df_curent_final['PS9'] == actual_ps) |\n",
    "                                                    (df_curent_final['PS10'] == actual_ps)][['Title']]\n",
    "\n",
    "print('== INFOS ABOUT THE TITLES: ==')\n",
    "print(f'Count of df_current_final: {len(df_curent_final)}')\n",
    "print(f'Current_titles in df_final of {actual_ps}: {len(current_titles_in_df_curent_final)}')\n",
    "print(f'Count of {actual_ps} of braz_sides: {len(chosen_model_df)}')\n",
    "print(f'==')"
   ]
  },
  {
   "cell_type": "markdown",
   "metadata": {},
   "source": [
    "# Diamond Foxxx"
   ]
  },
  {
   "cell_type": "code",
   "execution_count": 7,
   "metadata": {},
   "outputs": [],
   "source": [
    "%reload_ext autoreload\n"
   ]
  },
  {
   "cell_type": "code",
   "execution_count": 8,
   "metadata": {},
   "outputs": [],
   "source": [
    "%autoreload 2"
   ]
  },
  {
   "cell_type": "code",
   "execution_count": 9,
   "metadata": {},
   "outputs": [
    {
     "name": "stdout",
     "output_type": "stream",
     "text": [
      "[3]\n",
      "max.. 3\n",
      "page_nr:  1\n",
      "scanning Site: https://www.brazzers.com/videos/models/43/diamond-foxxx/page/1, Response: <Response [200]>\n",
      "page_nr:  2\n",
      "scanning Site: https://www.brazzers.com/videos/models/43/diamond-foxxx/page/2, Response: <Response [200]>\n",
      "page_nr:  3\n",
      "scanning Site: https://www.brazzers.com/videos/models/43/diamond-foxxx/page/3, Response: <Response [200]>\n",
      "count of titles:  53\n"
     ]
    },
    {
     "ename": "NameError",
     "evalue": "name 'pd' is not defined",
     "output_type": "error",
     "traceback": [
      "\u001b[0;31m---------------------------------------------------------------------------\u001b[0m",
      "\u001b[0;31mNameError\u001b[0m                                 Traceback (most recent call last)",
      "Cell \u001b[0;32mIn [9], line 9\u001b[0m\n\u001b[1;32m      7\u001b[0m \u001b[39m# from create_df_actual_ps import create_df_actual_ps\u001b[39;00m\n\u001b[1;32m      8\u001b[0m chosen_model_df \u001b[39m=\u001b[39m create_df_actual_ps(actual_ps, chosen_model_brazz_site, max_page_len_of_chosen_model)\n\u001b[0;32m----> 9\u001b[0m df_curent_final \u001b[39m=\u001b[39m pd\u001b[39m.\u001b[39mread_csv(\u001b[39m'\u001b[39m\u001b[39mdf_final_08_03_23.csv\u001b[39m\u001b[39m'\u001b[39m, index_col\u001b[39m=\u001b[39m[\u001b[39m0\u001b[39m])\n\u001b[1;32m     10\u001b[0m current_titles_in_df_curent_final \u001b[39m=\u001b[39m df_curent_final[(df_curent_final[\u001b[39m'\u001b[39m\u001b[39mPS1\u001b[39m\u001b[39m'\u001b[39m] \u001b[39m==\u001b[39m actual_ps) \u001b[39m|\u001b[39m\n\u001b[1;32m     11\u001b[0m                                                     (df_curent_final[\u001b[39m'\u001b[39m\u001b[39mPS2\u001b[39m\u001b[39m'\u001b[39m] \u001b[39m==\u001b[39m actual_ps) \u001b[39m|\u001b[39m\n\u001b[1;32m     12\u001b[0m                                                     (df_curent_final[\u001b[39m'\u001b[39m\u001b[39mPS3\u001b[39m\u001b[39m'\u001b[39m] \u001b[39m==\u001b[39m actual_ps) \u001b[39m|\u001b[39m\n\u001b[0;32m   (...)\u001b[0m\n\u001b[1;32m     19\u001b[0m \n\u001b[1;32m     20\u001b[0m                                                     (df_curent_final[\u001b[39m'\u001b[39m\u001b[39mPS10\u001b[39m\u001b[39m'\u001b[39m] \u001b[39m==\u001b[39m actual_ps)][[\u001b[39m'\u001b[39m\u001b[39mTitle\u001b[39m\u001b[39m'\u001b[39m]]\n\u001b[1;32m     22\u001b[0m \u001b[39mprint\u001b[39m(\u001b[39m'\u001b[39m\u001b[39m== INFOS ABOUT THE TITLES: ==\u001b[39m\u001b[39m'\u001b[39m)\n",
      "\u001b[0;31mNameError\u001b[0m: name 'pd' is not defined"
     ]
    }
   ],
   "source": [
    "from create_df_actual_ps import create_df_actual_ps\n",
    "#% Individually adjusted\n",
    "actual_ps = 'Diamond Foxxx'\n",
    "chosen_model_brazz_site = ['https://www.brazzers.com/videos/models/43/diamond-foxxx/page/']\n",
    "max_page_len_of_chosen_model = [3]\n",
    "print(max_page_len_of_chosen_model)\n",
    "# from create_df_actual_ps import create_df_actual_ps\n",
    "chosen_model_df = create_df_actual_ps(actual_ps, chosen_model_brazz_site, max_page_len_of_chosen_model)\n",
    "df_curent_final = pd.read_csv('df_final_08_03_23.csv', index_col=[0])\n",
    "current_titles_in_df_curent_final = df_curent_final[(df_curent_final['PS1'] == actual_ps) |\n",
    "                                                    (df_curent_final['PS2'] == actual_ps) |\n",
    "                                                    (df_curent_final['PS3'] == actual_ps) |\n",
    "                                                    (df_curent_final['PS4'] == actual_ps) |\n",
    "                                                    (df_curent_final['PS5'] == actual_ps) |\n",
    "                                                    (df_curent_final['PS6'] == actual_ps) |\n",
    "                                                    (df_curent_final['PS7'] == actual_ps) |\n",
    "                                                    (df_curent_final['PS8'] == actual_ps) |\n",
    "                                                    (df_curent_final['PS9'] == actual_ps) |\n",
    "\n",
    "                                                    (df_curent_final['PS10'] == actual_ps)][['Title']]\n",
    "\n",
    "print('== INFOS ABOUT THE TITLES: ==')\n",
    "print(f'Count of df_current_final: {len(df_curent_final)}')\n",
    "print(f'Current_titles in df_final of {actual_ps}: {len(current_titles_in_df_curent_final)}')\n",
    "print(f'Count of {actual_ps} of braz_sides: {len(chosen_model_df)}')\n",
    "print(f'==')"
   ]
  },
  {
   "cell_type": "code",
   "execution_count": 32,
   "metadata": {},
   "outputs": [
    {
     "data": {
      "text/plain": [
       "['massaging_ms_foxxx',\n",
       " 'my_mom_fucked_my_girlfriend',\n",
       " 'my_dates_mom',\n",
       " 'lick_a_boss',\n",
       " 'vice_city_vacation_part_one',\n",
       " 'ep_2_tonight_we_feast']"
      ]
     },
     "execution_count": 32,
     "metadata": {},
     "output_type": "execute_result"
    }
   ],
   "source": [
    "missing_titles = missing_titles_new(chosen_model_df)\n",
    "missing_titles[:]"
   ]
  },
  {
   "cell_type": "markdown",
   "metadata": {},
   "source": [
    "specify the search"
   ]
  },
  {
   "cell_type": "code",
   "execution_count": 33,
   "metadata": {},
   "outputs": [
    {
     "data": {
      "text/plain": [
       "Site                                         Big Tits At Work\n",
       "PS1                                             Diamond Foxxx\n",
       "PS2                                                   No Name\n",
       "PS3                                                   No Name\n",
       "Title                                now_were_even_bitch_480p\n",
       "PS4                                                   No Name\n",
       "PS5                                                   No Name\n",
       "PS6                                                   No Name\n",
       "PS7                                                   No Name\n",
       "PS8                                                   No Name\n",
       "PS9                                                   No Name\n",
       "PS10                                                  No Name\n",
       "Location                                           WERDERNASX\n",
       "Link        /Volumes/WERDERNASX/VIDEOSX/BRAZZERS/big_tits_...\n",
       "Name: 306, dtype: object"
      ]
     },
     "execution_count": 33,
     "metadata": {},
     "output_type": "execute_result"
    }
   ],
   "source": [
    "search_string = 'bitch'\n",
    "search_titles(current_titles_in_df_curent_final, search_string)\n",
    "search_titles(current_titles_in_df_curent_final, search_string).index[0].item()\n",
    "df_curent_final.loc[search_titles(current_titles_in_df_curent_final, search_string).index[0].item()]#['Title']"
   ]
  },
  {
   "cell_type": "code",
   "execution_count": null,
   "metadata": {},
   "outputs": [],
   "source": []
  },
  {
   "cell_type": "code",
   "execution_count": null,
   "metadata": {},
   "outputs": [],
   "source": []
  },
  {
   "cell_type": "code",
   "execution_count": null,
   "metadata": {},
   "outputs": [],
   "source": []
  }
 ],
 "metadata": {
  "kernelspec": {
   "display_name": "Python 3.10.6 ('pyside2_dev')",
   "language": "python",
   "name": "python3"
  },
  "language_info": {
   "codemirror_mode": {
    "name": "ipython",
    "version": 3
   },
   "file_extension": ".py",
   "mimetype": "text/x-python",
   "name": "python",
   "nbconvert_exporter": "python",
   "pygments_lexer": "ipython3",
   "version": "3.10.6"
  },
  "orig_nbformat": 4,
  "vscode": {
   "interpreter": {
    "hash": "52867ee1f7e3b1f93523cdfe2d5d91084b6fa11775e78fca1f22649f7620b014"
   }
  }
 },
 "nbformat": 4,
 "nbformat_minor": 2
}
