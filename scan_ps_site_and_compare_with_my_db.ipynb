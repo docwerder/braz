{
 "cells": [
  {
   "cell_type": "markdown",
   "metadata": {},
   "source": [
    "### Script for scanning the BRAZ-Site of the chosen PS and compare the titles with my bra_db\n"
   ]
  },
  {
   "cell_type": "code",
   "execution_count": 1,
   "metadata": {},
   "outputs": [],
   "source": [
    "import pandas as pd\n",
    "import math\n",
    "import sys\n",
    "#from IPython.core.display import display, HTML\n",
    "\n",
    "#display(HTML(\"<style>.container {width:90% !important; }</style>\"))\n",
    "sys.path.append('/Users/joerg/repos/braz')\n",
    "from utilities_functions import scan_func\n",
    "# To run all commands within one cell:\n",
    "#from IPython.core.interactiveshell import InteractiveShell\n",
    "#InteractiveShel\n",
    "pd.set_option('display.max_rows', None)"
   ]
  },
  {
   "cell_type": "markdown",
   "metadata": {},
   "source": [
    "## List of TOP_PS\n"
   ]
  },
  {
   "cell_type": "code",
   "execution_count": null,
   "metadata": {},
   "outputs": [],
   "source": [
    "top50_ps = ['Abbey Brooks', 'Abbie Cat', 'Alena Croft', 'Aletta Ocean', 'Alexis Ford', \n",
    "            'Angel Wicky', 'Angela White', 'Ava Addams', 'Bridgette B', 'Britney Shannon',\n",
    "            'Carmella Bing', 'Cathy Heaven', 'Chessie Kay', 'Christie Stevens', 'Claire Dames',  \n",
    "            'Corinna Blake', 'Dee Williams', 'Donna Bell', 'Ella Hughes', 'Emma Butt', 'Eva Karera', \n",
    "            'Eva Notty', 'Harmony Reigns', 'Holly Halston', 'Jasmine Jae', 'Jayden Jaymes', 'Jenna Presley',\n",
    "            'Jessica Moore', 'Julia Ann', 'Katie Kox', 'Kelly Divine', 'Kendra Lust', 'Kiara Mia',\n",
    "            'Krissy Lynn', 'Leigh Darby', 'Madison Ivy', 'Marsha May', 'Memphis Monroe', 'Nicolette Shea',\n",
    "            'Nikki Benz', 'Noelle Easton', 'Peta Jensen', 'Rebeca Linares', 'Rebecca More', 'Roberta Gemma',\n",
    "            'Romi Rain', 'Sensual Jane', 'Shyla Stylez', 'Sienna West', 'Sophie Dee', 'Stella Cox', \n",
    "            'Syren De Mer', 'Tarra White', 'Tory Lane', 'Velicity Von', 'Veronica Avluv', 'Yasmin Scott']\n",
    "print('Quantity of my TOP PS: ', str(len(top50_ps)))"
   ]
  },
  {
   "cell_type": "markdown",
   "metadata": {},
   "source": [
    "## Chosen_PS:\n"
   ]
  },
  {
   "cell_type": "markdown",
   "metadata": {},
   "source": [
    "## Abbey Brooks --> finished!\n"
   ]
  },
  {
   "cell_type": "markdown",
   "metadata": {},
   "source": [
    "## Abbie Cat --> finished!\n"
   ]
  },
  {
   "cell_type": "code",
   "execution_count": null,
   "metadata": {},
   "outputs": [],
   "source": [
    "\n",
    "chosen_model_abbie = ['https://www.brazzers.com/videos/models/1885/abbie-cat/page/']\n",
    "max_page_len_of_sites_ac = [1]"
   ]
  },
  {
   "cell_type": "markdown",
   "metadata": {},
   "source": [
    "### Scan the PS-Site\n"
   ]
  },
  {
   "cell_type": "code",
   "execution_count": null,
   "metadata": {},
   "outputs": [],
   "source": [
    "page_content_db = pd.DataFrame()\n",
    "page_number_db = {}\n",
    "page_content_tmp = {}\n",
    "page_columns = []\n",
    "ps1_db = pd.DataFrame()\n",
    "ps2_db = {}\n",
    "title_db = {}\n",
    "db_actual_site_name = pd.DataFrame()\n",
    "db_final_tmp = pd.DataFrame()\n",
    "db_actual_site_name_sliced = pd.DataFrame()\n",
    "\n",
    "# Determination of the maximum number of pages\n",
    "# for lf_root in db_sites[12:13]:\n",
    "#     db_page_tmp_2 = scan_func(lf_root)\n",
    "#     db_page_tmp_2 = [i for i in db_page_tmp if i.startswith('/videos/site/')]\n",
    "#         print('db_page_tmp: ', db_page_tmp_2)\n",
    "\n",
    "        \n",
    "        \n",
    "for root_site, number in zip(chosen_model_abbie_cat[:], max_page_len_of_sites_ac):\n",
    "    print('max..' , number)\n",
    "  \n",
    "\n",
    "    # max_page_number = math.ceil(int(number) / 24)\n",
    "       \n",
    "    for page_nr in range(1, int(number) + 1):\n",
    "        print('page_nr: ', page_nr)\n",
    "        actual_site = root_site + str(page_nr)\n",
    "        site_name = actual_site.split('/')[-5].replace('-', ' ').title()\n",
    "            \n",
    "        #print('site_name: ', site_name)\n",
    "        db_page_tmp = scan_func(actual_site)\n",
    "        #print('db_page_tmp: ', db_page_tmp)\n",
    "        db_page_video = [i for i in db_page_tmp if i.startswith('/video/')]\n",
    "        \n",
    "        db_page_ps = [i for i in db_page_tmp if i.startswith('/pornstar/')]\n",
    "        ps1 = [h.split('/')[-1].replace('-','_') for h in db_page_ps[::2]]\n",
    "        ps2 = [h.split('/')[-1].replace('-', '_') for h in db_page_ps[1::2]]\n",
    "        \n",
    "        title = [h.split('/')[-1].replace('-', '_') for h in db_page_video[::2]]\n",
    "        \n",
    "        site_tmp = [site_name]\n",
    "        \n",
    "        site = list(site_tmp) * 24\n",
    "        \n",
    "        \n",
    "        \n",
    "        ps1_db = pd.DataFrame(ps1)\n",
    "        ps2_db = pd.DataFrame(ps2)\n",
    "        title_db = pd.DataFrame(title)\n",
    "        site_db = pd.DataFrame(site)\n",
    "        #print('Site_db: ', site_db)\n",
    "        db_all_tmp = pd.concat([site_db, ps1_db, ps2_db, title_db], axis=1)\n",
    "        custom_cols = ['Site', 'PS1', 'PS2', 'Title']\n",
    "        #print('db_all_tmp: ', db_all_tmp)\n",
    "        db_all_tmp.columns = custom_cols\n",
    "        db_actual_site_name = pd.concat([db_actual_site_name, db_all_tmp])\n",
    "        #print('db_all_tmp: ', db_all_tmp)\n",
    "        #print('db_actual_site_name:\\n ', db_actual_site_name)\n",
    "\n",
    "    df_tmp = db_actual_site_name\n",
    "    #print('db_actual_site_name: ', db_actual_site_name)\n",
    "    \n",
    "df_ac_tmp = db_actual_site_name\n",
    "abbie_cat_df = df_ac_tmp[df_ac_tmp['PS1'].notna()]"
   ]
  },
  {
   "cell_type": "markdown",
   "metadata": {},
   "source": [
    "### Get the df of the scanned PS-site\n"
   ]
  },
  {
   "cell_type": "code",
   "execution_count": null,
   "metadata": {},
   "outputs": [],
   "source": [
    "abbie_cat_df"
   ]
  },
  {
   "cell_type": "markdown",
   "metadata": {},
   "source": [
    "### Import the (current) csv-file for comparison, which titles are already listed and which not\n",
    "\n",
    "### This has to be adjusted by hand!\n"
   ]
  },
  {
   "cell_type": "code",
   "execution_count": null,
   "metadata": {},
   "outputs": [],
   "source": [
    "df_cur_final = pd.read_csv('df_final_my_db_10_08_22.csv', index_col=[0])"
   ]
  },
  {
   "cell_type": "markdown",
   "metadata": {},
   "source": [
    "### Get the current titles of the chosen PS in the df_cur_final\n"
   ]
  },
  {
   "cell_type": "code",
   "execution_count": null,
   "metadata": {},
   "outputs": [],
   "source": [
    "chosen_ps = 'Abbie Cat'\n",
    "current_titles_in_df_cur_final = df_cur_final[df_cur_final['PS1'] == chosen_ps][['Title']]"
   ]
  },
  {
   "cell_type": "code",
   "execution_count": null,
   "metadata": {},
   "outputs": [],
   "source": [
    "current_titles_in_df_cur_final"
   ]
  },
  {
   "cell_type": "markdown",
   "metadata": {},
   "source": [
    "### Get the list of the titles from the chosen PS\n"
   ]
  },
  {
   "cell_type": "code",
   "execution_count": null,
   "metadata": {},
   "outputs": [],
   "source": [
    "abbie_cat_df['Title']"
   ]
  },
  {
   "cell_type": "markdown",
   "metadata": {},
   "source": [
    "### Define the search function to find the titles\n"
   ]
  },
  {
   "cell_type": "code",
   "execution_count": null,
   "metadata": {},
   "outputs": [],
   "source": [
    "def search(dataFrame, search_string):\n",
    "    mask = (dataFrame.applymap(lambda x: isinstance(x, str) and search_string in x)).any(1)\n",
    "    #print('mask: ', mask)\n",
    "    return dataFrame[mask]"
   ]
  },
  {
   "cell_type": "markdown",
   "metadata": {},
   "source": [
    "### The command below are made by hand, so see, which titles are inside the df_cur_final!\n"
   ]
  },
  {
   "cell_type": "code",
   "execution_count": null,
   "metadata": {},
   "outputs": [],
   "source": [
    "search(current_titles_in_df_cur_final, 'womens')"
   ]
  },
  {
   "cell_type": "markdown",
   "metadata": {},
   "source": [
    "---\n"
   ]
  },
  {
   "cell_type": "markdown",
   "metadata": {},
   "source": [
    "## Alena Croft --> finished\n"
   ]
  },
  {
   "cell_type": "code",
   "execution_count": null,
   "metadata": {},
   "outputs": [],
   "source": [
    "chosen_model_alena_croft = ['https://www.brazzers.com/videos/models/4005/alena-croft/page/']\n",
    "max_page_len_of_sites_alc = [2]"
   ]
  },
  {
   "cell_type": "code",
   "execution_count": null,
   "metadata": {},
   "outputs": [],
   "source": [
    "page_content_db = pd.DataFrame()\n",
    "page_number_db = {}\n",
    "page_content_tmp = {}\n",
    "page_columns = []\n",
    "ps1_db = pd.DataFrame()\n",
    "ps2_db = {}\n",
    "title_db = {}\n",
    "db_actual_site_name = pd.DataFrame()\n",
    "db_final_tmp = pd.DataFrame()\n",
    "db_actual_site_name_sliced = pd.DataFrame()\n",
    "\n",
    "# Determination of the maximum number of pages\n",
    "# for lf_root in db_sites[12:13]:\n",
    "#     db_page_tmp_2 = scan_func(lf_root)\n",
    "#     db_page_tmp_2 = [i for i in db_page_tmp if i.startswith('/videos/site/')]\n",
    "#         print('db_page_tmp: ', db_page_tmp_2)\n",
    "\n",
    "        \n",
    "        \n",
    "for root_site, number in zip(chosen_model_alena_croft[:], max_page_len_of_sites_alc):\n",
    "    print('max..' , number)\n",
    "  \n",
    "\n",
    "    # max_page_number = math.ceil(int(number) / 24)\n",
    "       \n",
    "    for page_nr in range(1, int(number) + 1):\n",
    "        print('page_nr: ', page_nr)\n",
    "        actual_site = root_site + str(page_nr)\n",
    "        site_name = actual_site.split('/')[-5].replace('-', ' ').title()\n",
    "            \n",
    "        #print('site_name: ', site_name)\n",
    "        db_page_tmp = scan_func(actual_site)\n",
    "        #print('db_page_tmp: ', db_page_tmp)\n",
    "        db_page_video = [i for i in db_page_tmp if i.startswith('/video/')]\n",
    "        \n",
    "        db_page_ps = [i for i in db_page_tmp if i.startswith('/pornstar/')]\n",
    "        ps1 = [h.split('/')[-1].replace('-','_') for h in db_page_ps[::2]]\n",
    "        ps2 = [h.split('/')[-1].replace('-', '_') for h in db_page_ps[1::2]]\n",
    "        \n",
    "        title = [h.split('/')[-1].replace('-', '_') for h in db_page_video[::2]]\n",
    "        \n",
    "        site_tmp = [site_name]\n",
    "        \n",
    "        site = list(site_tmp) * 24\n",
    "        \n",
    "        \n",
    "        \n",
    "        ps1_db = pd.DataFrame(ps1)\n",
    "        ps2_db = pd.DataFrame(ps2)\n",
    "        title_db = pd.DataFrame(title)\n",
    "        site_db = pd.DataFrame(site)\n",
    "        #print('Site_db: ', site_db)\n",
    "        db_all_tmp = pd.concat([site_db, ps1_db, ps2_db, title_db], axis=1)\n",
    "        custom_cols = ['Site', 'PS1', 'PS2', 'Title']\n",
    "        #print('db_all_tmp: ', db_all_tmp)\n",
    "        db_all_tmp.columns = custom_cols\n",
    "        db_actual_site_name = pd.concat([db_actual_site_name, db_all_tmp])\n",
    "        #print('db_all_tmp: ', db_all_tmp)\n",
    "        #print('db_actual_site_name:\\n ', db_actual_site_name)\n",
    "\n",
    "    df_tmp = db_actual_site_name\n",
    "    #print('db_actual_site_name: ', db_actual_site_name)\n",
    "    \n",
    "df_alc_tmp = db_actual_site_name\n",
    "alena_croft_df = df_alc_tmp[df_alc_tmp['PS1'].notna()]"
   ]
  },
  {
   "cell_type": "code",
   "execution_count": null,
   "metadata": {},
   "outputs": [],
   "source": [
    "alena_croft_df"
   ]
  },
  {
   "cell_type": "code",
   "execution_count": null,
   "metadata": {},
   "outputs": [],
   "source": [
    "df_cur_final = pd.read_csv('df_final_my_db_10_08_22.csv', index_col=[0])"
   ]
  },
  {
   "cell_type": "markdown",
   "metadata": {},
   "source": [
    "### Get the current titles of chosen PS within df_cur_final\n"
   ]
  },
  {
   "cell_type": "code",
   "execution_count": null,
   "metadata": {},
   "outputs": [],
   "source": [
    "chosen_ps = 'Alena Croft'\n",
    "current_titles_in_df_cur_final = df_cur_final[df_cur_final['PS1'] == chosen_ps][['Title']]"
   ]
  },
  {
   "cell_type": "code",
   "execution_count": null,
   "metadata": {},
   "outputs": [],
   "source": [
    "alena_croft_df"
   ]
  },
  {
   "cell_type": "code",
   "execution_count": null,
   "metadata": {},
   "outputs": [],
   "source": [
    "current_titles_in_df_cur_final"
   ]
  },
  {
   "cell_type": "markdown",
   "metadata": {},
   "source": [
    "### Try to loop through the complete title-list of the choosen ps and search for the titles within the df_cur_final\n"
   ]
  },
  {
   "cell_type": "code",
   "execution_count": null,
   "metadata": {},
   "outputs": [],
   "source": [
    "def search_titles(dataFrame, search_string):\n",
    "    mask = (dataFrame.applymap(lambda x: isinstance(x, str) and search_string in x)).any(1)\n",
    "    #print('mask: ', dataFrame[mask]['Title'])\n",
    "    return dataFrame[mask]['Title']"
   ]
  },
  {
   "cell_type": "code",
   "execution_count": null,
   "metadata": {},
   "outputs": [],
   "source": [
    "zz_db = []\n",
    "zz = 0\n",
    "missing_titles = []\n",
    "for single_title in alena_croft_df['Title']:\n",
    "    found_titles = search_titles(current_titles_in_df_cur_final, single_title)\n",
    "    if found_titles.empty:\n",
    "        missing_titles.append(single_title)\n",
    "    sttr = f\"nr: {zz}  Title: {single_title} DF empty: {found_titles.empty}\"\n",
    "    print(sttr)\n",
    "    \n",
    "    zz = zz+1"
   ]
  },
  {
   "cell_type": "code",
   "execution_count": null,
   "metadata": {},
   "outputs": [],
   "source": [
    "missing_titles"
   ]
  },
  {
   "cell_type": "code",
   "execution_count": null,
   "metadata": {},
   "outputs": [],
   "source": [
    "current_titles_in_df_cur_final"
   ]
  },
  {
   "cell_type": "code",
   "execution_count": null,
   "metadata": {},
   "outputs": [],
   "source": [
    "search(current_titles_in_df_cur_final, 'busy')"
   ]
  },
  {
   "cell_type": "markdown",
   "metadata": {},
   "source": [
    "---\n"
   ]
  },
  {
   "cell_type": "markdown",
   "metadata": {},
   "source": [
    "## Aletta Ocean --> finished (temporary)\n"
   ]
  },
  {
   "cell_type": "code",
   "execution_count": null,
   "metadata": {},
   "outputs": [],
   "source": [
    "actual_ps = 'Aletta Ocean'\n",
    "chosen_model_brazz_site = ['https://www.brazzers.com/videos/models/2167/aletta-ocean/page/']\n",
    "max_page_len_of_chosen_model = [2]"
   ]
  },
  {
   "cell_type": "code",
   "execution_count": null,
   "metadata": {},
   "outputs": [],
   "source": [
    "page_content_db = pd.DataFrame()\n",
    "page_number_db = {}\n",
    "page_content_tmp = {}\n",
    "page_columns = []\n",
    "ps1_db = pd.DataFrame()\n",
    "ps2_db = {}\n",
    "title_db = {}\n",
    "db_actual_site_name = pd.DataFrame()\n",
    "db_final_tmp = pd.DataFrame()\n",
    "db_actual_site_name_sliced = pd.DataFrame()\n",
    "\n",
    "       \n",
    "        \n",
    "for root_site, number in zip(chosen_model_brazz_site[:], max_page_len_of_chosen_model):\n",
    "    print('max..' , number)\n",
    "  \n",
    "    # max_page_number = math.ceil(int(number) / 24)\n",
    "       \n",
    "    for page_nr in range(1, int(number) + 1):\n",
    "        print('page_nr: ', page_nr)\n",
    "        actual_site = root_site + str(page_nr)\n",
    "        site_name = actual_site.split('/')[-5].replace('-', ' ').title()\n",
    "            \n",
    "        #print('site_name: ', site_name)\n",
    "        db_page_tmp = scan_func(actual_site)\n",
    "        #print('db_page_tmp: ', db_page_tmp)\n",
    "        db_page_video = [i for i in db_page_tmp if i.startswith('/video/')]\n",
    "        \n",
    "        db_page_ps = [i for i in db_page_tmp if i.startswith('/pornstar/')]\n",
    "        ps1 = [h.split('/')[-1].replace('-','_') for h in db_page_ps[::2]]\n",
    "        ps2 = [h.split('/')[-1].replace('-', '_') for h in db_page_ps[1::2]]\n",
    "        \n",
    "        title = [h.split('/')[-1].replace('-', '_') for h in db_page_video[::2]]\n",
    "        \n",
    "        site_tmp = [site_name]\n",
    "        \n",
    "        site = list(site_tmp) * 24\n",
    "                        \n",
    "        ps1_db = pd.DataFrame(ps1)\n",
    "        ps2_db = pd.DataFrame(ps2)\n",
    "        title_db = pd.DataFrame(title)\n",
    "        site_db = pd.DataFrame(site)\n",
    "        #print('Site_db: ', site_db)\n",
    "        db_all_tmp = pd.concat([site_db, ps1_db, ps2_db, title_db], axis=1)\n",
    "        custom_cols = ['Site', 'PS1', 'PS2', 'Title']\n",
    "        #print('db_all_tmp: ', db_all_tmp)\n",
    "        db_all_tmp.columns = custom_cols\n",
    "        db_actual_site_name = pd.concat([db_actual_site_name, db_all_tmp])\n",
    "        #print('db_all_tmp: ', db_all_tmp)\n",
    "        #print('db_actual_site_name:\\n ', db_actual_site_name)\n",
    "\n",
    "    df_tmp = db_actual_site_name\n",
    "    #print('db_actual_site_name: ', db_actual_site_name)\n",
    "    \n",
    "df_chosen_model_tmp = db_actual_site_name\n",
    "chosen_model_df = df_chosen_model_tmp[df_chosen_model_tmp['PS1'].notna()]"
   ]
  },
  {
   "cell_type": "code",
   "execution_count": null,
   "metadata": {},
   "outputs": [],
   "source": [
    "len(chosen_model_df)"
   ]
  },
  {
   "cell_type": "code",
   "execution_count": null,
   "metadata": {},
   "outputs": [],
   "source": [
    "df_curent_final = pd.read_csv('df_final_my_db_12_08_22.csv', index_col=[0])"
   ]
  },
  {
   "cell_type": "markdown",
   "metadata": {},
   "source": [
    "#### Get the current titles of the chosen PS within the df_current_final df\n"
   ]
  },
  {
   "cell_type": "code",
   "execution_count": null,
   "metadata": {},
   "outputs": [],
   "source": [
    "current_titles_in_df_curent_final = df_curent_final[df_curent_final['PS1'] == actual_ps][['Title']]"
   ]
  },
  {
   "cell_type": "code",
   "execution_count": null,
   "metadata": {},
   "outputs": [],
   "source": [
    "len(current_titles_in_df_curent_final)"
   ]
  },
  {
   "cell_type": "markdown",
   "metadata": {},
   "source": [
    "#### Try to loop through title_list of chosen PS to find missing titles..\n"
   ]
  },
  {
   "cell_type": "code",
   "execution_count": null,
   "metadata": {},
   "outputs": [],
   "source": [
    "def search_titles(dataFrame, search_string):\n",
    "    mask = (dataFrame.applymap(lambda x: isinstance(x, str) and search_string in x)).any(1)\n",
    "    #print('mask: ', dataFrame[mask]['Title'])\n",
    "    return dataFrame[mask]['Title']"
   ]
  },
  {
   "cell_type": "code",
   "execution_count": null,
   "metadata": {},
   "outputs": [],
   "source": [
    "zz = 0\n",
    "missing_titles = []\n",
    "for single_title in chosen_model_df['Title']:\n",
    "    found_titles = search_titles(current_titles_in_df_curent_final, single_title)\n",
    "    if found_titles.empty:\n",
    "        missing_titles.append(single_title)\n",
    "    sttr = f\"nr: {zz}  Title: {single_title} DF empty: {found_titles.empty}\"\n",
    "    #print(sttr)\n",
    "    zz = zz+1"
   ]
  },
  {
   "cell_type": "code",
   "execution_count": null,
   "metadata": {},
   "outputs": [],
   "source": [
    "missing_titles"
   ]
  },
  {
   "cell_type": "markdown",
   "metadata": {},
   "source": [
    "#### Specify the location of the missing titles.\n"
   ]
  },
  {
   "cell_type": "code",
   "execution_count": null,
   "metadata": {},
   "outputs": [],
   "source": [
    "search_string = 'car'\n",
    "search_titles(current_titles_in_df_curent_final, search_string)"
   ]
  },
  {
   "cell_type": "code",
   "execution_count": null,
   "metadata": {},
   "outputs": [],
   "source": [
    "search_titles(current_titles_in_df_curent_final, search_string).index[0].item()"
   ]
  },
  {
   "cell_type": "code",
   "execution_count": null,
   "metadata": {},
   "outputs": [],
   "source": [
    "df_curent_final.loc[search_titles(current_titles_in_df_curent_final, search_string).index[0].item()]"
   ]
  },
  {
   "cell_type": "markdown",
   "metadata": {},
   "source": [
    "## Alexis Ford --> finished (temporary)\n"
   ]
  },
  {
   "cell_type": "code",
   "execution_count": null,
   "metadata": {},
   "outputs": [],
   "source": [
    "actual_ps = 'Alexis Ford'\n",
    "chosen_model_brazz_site = ['https://www.brazzers.com/videos/models/1321/alexis-ford/page/']\n",
    "max_page_len_of_chosen_model = [1]"
   ]
  },
  {
   "cell_type": "code",
   "execution_count": null,
   "metadata": {},
   "outputs": [],
   "source": [
    "page_content_db = pd.DataFrame()\n",
    "page_number_db = {}\n",
    "page_content_tmp = {}\n",
    "page_columns = []\n",
    "ps1_db = pd.DataFrame()\n",
    "ps2_db = {}\n",
    "title_db = {}\n",
    "db_actual_site_name = pd.DataFrame()\n",
    "db_final_tmp = pd.DataFrame()\n",
    "db_actual_site_name_sliced = pd.DataFrame()\n",
    "\n",
    "       \n",
    "        \n",
    "for root_site, number in zip(chosen_model_brazz_site[:], max_page_len_of_chosen_model):\n",
    "    print('max..' , number)\n",
    "  \n",
    "    # max_page_number = math.ceil(int(number) / 24)\n",
    "       \n",
    "    for page_nr in range(1, int(number) + 1):\n",
    "        print('page_nr: ', page_nr)\n",
    "        actual_site = root_site + str(page_nr)\n",
    "        site_name = actual_site.split('/')[-5].replace('-', ' ').title()\n",
    "            \n",
    "        #print('site_name: ', site_name)\n",
    "        db_page_tmp = scan_func(actual_site)\n",
    "        #print('db_page_tmp: ', db_page_tmp)\n",
    "        db_page_video = [i for i in db_page_tmp if i.startswith('/video/')]\n",
    "        \n",
    "        db_page_ps = [i for i in db_page_tmp if i.startswith('/pornstar/')]\n",
    "        ps1 = [h.split('/')[-1].replace('-','_') for h in db_page_ps[::2]]\n",
    "        ps2 = [h.split('/')[-1].replace('-', '_') for h in db_page_ps[1::2]]\n",
    "        \n",
    "        title = [h.split('/')[-1].replace('-', '_') for h in db_page_video[::2]]\n",
    "        \n",
    "        site_tmp = [site_name]\n",
    "        \n",
    "        site = list(site_tmp) * 24\n",
    "                        \n",
    "        ps1_db = pd.DataFrame(ps1)\n",
    "        ps2_db = pd.DataFrame(ps2)\n",
    "        title_db = pd.DataFrame(title)\n",
    "        site_db = pd.DataFrame(site)\n",
    "        #print('Site_db: ', site_db)\n",
    "        db_all_tmp = pd.concat([site_db, ps1_db, ps2_db, title_db], axis=1)\n",
    "        custom_cols = ['Site', 'PS1', 'PS2', 'Title']\n",
    "        #print('db_all_tmp: ', db_all_tmp)\n",
    "        db_all_tmp.columns = custom_cols\n",
    "        db_actual_site_name = pd.concat([db_actual_site_name, db_all_tmp])\n",
    "        #print('db_all_tmp: ', db_all_tmp)\n",
    "        #print('db_actual_site_name:\\n ', db_actual_site_name)\n",
    "\n",
    "    df_tmp = db_actual_site_name\n",
    "    #print('db_actual_site_name: ', db_actual_site_name)\n",
    "    \n",
    "df_chosen_model_tmp = db_actual_site_name\n",
    "chosen_model_df = df_chosen_model_tmp[df_chosen_model_tmp['PS1'].notna()]\n",
    "\n",
    "print('count of titles: ', len(chosen_model_df))"
   ]
  },
  {
   "cell_type": "code",
   "execution_count": null,
   "metadata": {},
   "outputs": [],
   "source": [
    "def search_titles(dataFrame, search_string):\n",
    "    mask = (dataFrame.applymap(lambda x: isinstance(x, str) and search_string in x)).any(1)\n",
    "    #print('mask: ', dataFrame[mask]['Title'])\n",
    "    return dataFrame[mask]['Title']"
   ]
  },
  {
   "cell_type": "code",
   "execution_count": null,
   "metadata": {},
   "outputs": [],
   "source": [
    "df_curent_final = pd.read_csv('df_final_my_db_16_08_22.csv', index_col=[0])\n",
    "current_titles_in_df_curent_final = df_curent_final[df_curent_final['PS1'] == actual_ps][['Title']]"
   ]
  },
  {
   "cell_type": "code",
   "execution_count": null,
   "metadata": {},
   "outputs": [],
   "source": [
    "len(current_titles_in_df_curent_final)"
   ]
  },
  {
   "cell_type": "code",
   "execution_count": null,
   "metadata": {},
   "outputs": [],
   "source": [
    "zz = 0\n",
    "missing_titles = []\n",
    "for single_title in chosen_model_df['Title']:\n",
    "    found_titles = search_titles(current_titles_in_df_curent_final, single_title)\n",
    "    if found_titles.empty:\n",
    "        missing_titles.append(single_title)\n",
    "    sttr = f\"nr: {zz}  Title: {single_title} DF empty: {found_titles.empty}\"\n",
    "    #print(sttr)\n",
    "    zz = zz+1"
   ]
  },
  {
   "cell_type": "code",
   "execution_count": null,
   "metadata": {},
   "outputs": [],
   "source": [
    "missing_titles"
   ]
  },
  {
   "cell_type": "markdown",
   "metadata": {},
   "source": [
    "#### Specify the location of the search\n"
   ]
  },
  {
   "cell_type": "code",
   "execution_count": null,
   "metadata": {},
   "outputs": [],
   "source": [
    "search_string = 'cheering'\n",
    "search_titles(current_titles_in_df_curent_final, search_string)\n",
    "search_titles(current_titles_in_df_curent_final, search_string).index[0].item()\n",
    "df_curent_final.loc[search_titles(current_titles_in_df_curent_final, search_string).index[0].item()]"
   ]
  },
  {
   "cell_type": "code",
   "execution_count": null,
   "metadata": {},
   "outputs": [],
   "source": []
  },
  {
   "cell_type": "markdown",
   "metadata": {},
   "source": [
    "## Angel Wicky --> finished\n"
   ]
  },
  {
   "cell_type": "code",
   "execution_count": null,
   "metadata": {},
   "outputs": [],
   "source": [
    "actual_ps = 'Angel Wicky'\n",
    "chosen_model_brazz_site = ['https://www.brazzers.com/videos/models/15995/angel-wicky/page/']\n",
    "max_page_len_of_chosen_model = [1]"
   ]
  },
  {
   "cell_type": "code",
   "execution_count": null,
   "metadata": {},
   "outputs": [],
   "source": [
    "page_content_db = pd.DataFrame()\n",
    "page_number_db = {}\n",
    "page_content_tmp = {}\n",
    "page_columns = []\n",
    "ps1_db = pd.DataFrame()\n",
    "ps2_db = {}\n",
    "title_db = {}\n",
    "db_actual_site_name = pd.DataFrame()\n",
    "db_final_tmp = pd.DataFrame()\n",
    "db_actual_site_name_sliced = pd.DataFrame()\n",
    "\n",
    "       \n",
    "        \n",
    "for root_site, number in zip(chosen_model_brazz_site[:], max_page_len_of_chosen_model):\n",
    "    print('max..' , number)\n",
    "  \n",
    "    # max_page_number = math.ceil(int(number) / 24)\n",
    "       \n",
    "    for page_nr in range(1, int(number) + 1):\n",
    "        print('page_nr: ', page_nr)\n",
    "        actual_site = root_site + str(page_nr)\n",
    "        site_name = actual_site.split('/')[-5].replace('-', ' ').title()\n",
    "            \n",
    "        #print('site_name: ', site_name)\n",
    "        db_page_tmp = scan_func(actual_site)\n",
    "        #print('db_page_tmp: ', db_page_tmp)\n",
    "        db_page_video = [i for i in db_page_tmp if i.startswith('/video/')]\n",
    "        \n",
    "        db_page_ps = [i for i in db_page_tmp if i.startswith('/pornstar/')]\n",
    "        ps1 = [h.split('/')[-1].replace('-','_') for h in db_page_ps[::2]]\n",
    "        ps2 = [h.split('/')[-1].replace('-', '_') for h in db_page_ps[1::2]]\n",
    "        \n",
    "        title = [h.split('/')[-1].replace('-', '_') for h in db_page_video[::2]]\n",
    "        \n",
    "        site_tmp = [site_name]\n",
    "        \n",
    "        site = list(site_tmp) * 24\n",
    "                        \n",
    "        ps1_db = pd.DataFrame(ps1)\n",
    "        ps2_db = pd.DataFrame(ps2)\n",
    "        title_db = pd.DataFrame(title)\n",
    "        site_db = pd.DataFrame(site)\n",
    "        #print('Site_db: ', site_db)\n",
    "        db_all_tmp = pd.concat([site_db, ps1_db, ps2_db, title_db], axis=1)\n",
    "        custom_cols = ['Site', 'PS1', 'PS2', 'Title']\n",
    "        #print('db_all_tmp: ', db_all_tmp)\n",
    "        db_all_tmp.columns = custom_cols\n",
    "        db_actual_site_name = pd.concat([db_actual_site_name, db_all_tmp])\n",
    "        #print('db_all_tmp: ', db_all_tmp)\n",
    "        #print('db_actual_site_name:\\n ', db_actual_site_name)\n",
    "\n",
    "    df_tmp = db_actual_site_name\n",
    "    #print('db_actual_site_name: ', db_actual_site_name)\n",
    "    \n",
    "df_chosen_model_tmp = db_actual_site_name\n",
    "chosen_model_df = df_chosen_model_tmp[df_chosen_model_tmp['PS1'].notna()]\n",
    "\n",
    "print('count of titles: ', len(chosen_model_df))"
   ]
  },
  {
   "cell_type": "code",
   "execution_count": null,
   "metadata": {},
   "outputs": [],
   "source": [
    "def search_titles(dataFrame, search_string):\n",
    "    mask = (dataFrame.applymap(lambda x: isinstance(x, str) and search_string in x)).any(1)\n",
    "    #print('mask: ', dataFrame[mask]['Title'])\n",
    "    return dataFrame[mask]['Title']"
   ]
  },
  {
   "cell_type": "code",
   "execution_count": null,
   "metadata": {},
   "outputs": [],
   "source": [
    "df_curent_final = pd.read_csv('df_final_my_db_16_08_22.csv', index_col=[0])\n",
    "current_titles_in_df_curent_final = df_curent_final[df_curent_final['PS1'] == actual_ps][['Title']]"
   ]
  },
  {
   "cell_type": "code",
   "execution_count": null,
   "metadata": {},
   "outputs": [],
   "source": [
    "current_titles_in_df_curent_final"
   ]
  },
  {
   "cell_type": "code",
   "execution_count": null,
   "metadata": {},
   "outputs": [],
   "source": [
    "zz = 0\n",
    "missing_titles = []\n",
    "for single_title in chosen_model_df['Title']:\n",
    "    found_titles = search_titles(current_titles_in_df_curent_final, single_title)\n",
    "    if found_titles.empty:\n",
    "        missing_titles.append(single_title)\n",
    "    sttr = f\"nr: {zz}  Title: {single_title} DF empty: {found_titles.empty}\"\n",
    "    #print(sttr)\n",
    "    zz = zz+1"
   ]
  },
  {
   "cell_type": "code",
   "execution_count": null,
   "metadata": {},
   "outputs": [],
   "source": [
    "missing_titles"
   ]
  },
  {
   "cell_type": "markdown",
   "metadata": {},
   "source": [
    "#### Specify the search..\n"
   ]
  },
  {
   "cell_type": "code",
   "execution_count": null,
   "metadata": {},
   "outputs": [],
   "source": [
    "search_string = 'cum'\n",
    "search_titles(current_titles_in_df_curent_final, search_string)\n",
    "search_titles(current_titles_in_df_curent_final, search_string).index[0].item()\n",
    "df_curent_final.loc[search_titles(current_titles_in_df_curent_final, search_string).index[0].item()]"
   ]
  },
  {
   "cell_type": "markdown",
   "metadata": {},
   "source": [
    "## Angela White --> finished\n"
   ]
  },
  {
   "cell_type": "code",
   "execution_count": null,
   "metadata": {},
   "outputs": [],
   "source": [
    "# Individually adjusted\n",
    "actual_ps = 'Angela White'\n",
    "chosen_model_brazz_site = ['https://www.brazzers.com/videos/models/4685/angela-white/page/']\n",
    "max_page_len_of_chosen_model = [3]\n",
    "\n",
    "# Next function is automatically \n"
   ]
  },
  {
   "cell_type": "code",
   "execution_count": null,
   "metadata": {},
   "outputs": [],
   "source": [
    "from create_df_actual_ps import create_df_actual_ps"
   ]
  },
  {
   "cell_type": "code",
   "execution_count": null,
   "metadata": {},
   "outputs": [],
   "source": [
    "chosen_model_df = create_df_actual_ps(actual_ps, chosen_model_brazz_site, max_page_len_of_chosen_model)"
   ]
  },
  {
   "cell_type": "code",
   "execution_count": null,
   "metadata": {},
   "outputs": [],
   "source": [
    "def search_titles(dataFrame, search_string):\n",
    "    mask = (dataFrame.applymap(lambda x: isinstance(x, str) and search_string in x)).any(1)\n",
    "    #print('mask: ', dataFrame[mask]['Title'])\n",
    "    return dataFrame[mask]#['Title']"
   ]
  },
  {
   "cell_type": "markdown",
   "metadata": {},
   "source": [
    "Read the actual df of my_db\n"
   ]
  },
  {
   "cell_type": "code",
   "execution_count": null,
   "metadata": {},
   "outputs": [],
   "source": [
    "import pandas as pd\n",
    "df_curent_final = pd.read_csv('df_final_my_db_30_08_22.csv', index_col=[0])\n",
    "current_titles_in_df_curent_final = df_curent_final[(df_curent_final['PS1'] == actual_ps) |\n",
    "                                                    (df_curent_final['PS2'] == actual_ps) ][['Title']]\n"
   ]
  },
  {
   "cell_type": "code",
   "execution_count": null,
   "metadata": {},
   "outputs": [],
   "source": [
    "current_titles_in_df_curent_final"
   ]
  },
  {
   "cell_type": "markdown",
   "metadata": {},
   "source": [
    "Define function for missing titles\n"
   ]
  },
  {
   "cell_type": "code",
   "execution_count": null,
   "metadata": {},
   "outputs": [],
   "source": [
    "def missing_titles_new(chosen_model_df):\n",
    "    zz = 0\n",
    "    missing_titles = []\n",
    "    for single_title in chosen_model_df['Title']:\n",
    "        found_titles = search_titles(current_titles_in_df_curent_final, single_title)\n",
    "        #print('found_titles: ', found_titles)\n",
    "        if found_titles.empty:\n",
    "            missing_titles.append(single_title)\n",
    "        sttr = f\"nr: {zz}  Title: {single_title} DF empty: {found_titles.empty}\"\n",
    "        #print(sttr)\n",
    "        zz = zz+1\n",
    "    return missing_titles"
   ]
  },
  {
   "cell_type": "code",
   "execution_count": null,
   "metadata": {},
   "outputs": [],
   "source": [
    "missing_titles_new(chosen_model_df)"
   ]
  },
  {
   "cell_type": "code",
   "execution_count": null,
   "metadata": {},
   "outputs": [],
   "source": [
    "pd.set_option('display.max.rows', 500)\n",
    "chosen_model_df"
   ]
  },
  {
   "cell_type": "markdown",
   "metadata": {},
   "source": [
    "Specify the search\n"
   ]
  },
  {
   "cell_type": "code",
   "execution_count": null,
   "metadata": {},
   "outputs": [],
   "source": [
    "search_string = 'bay'\n",
    "# search_titles(current_titles_in_df_curent_final, search_string)\n",
    "# search_titles(current_titles_in_df_curent_final, search_string).index[0].item()\n",
    "df_curent_final.loc[search_titles(current_titles_in_df_curent_final, search_string).index[0].item()]"
   ]
  },
  {
   "cell_type": "code",
   "execution_count": null,
   "metadata": {},
   "outputs": [],
   "source": [
    "search_titles(current_titles_in_df_curent_final, search_string)#.index[0].item()"
   ]
  },
  {
   "cell_type": "code",
   "execution_count": null,
   "metadata": {},
   "outputs": [],
   "source": [
    "current_titles_in_df_curent_final"
   ]
  },
  {
   "cell_type": "code",
   "execution_count": null,
   "metadata": {},
   "outputs": [],
   "source": [
    "search_titles(current_titles_in_df_curent_final, search_string)"
   ]
  },
  {
   "cell_type": "markdown",
   "metadata": {},
   "source": [
    "# Ava Addams --> finished (temporary)\n"
   ]
  },
  {
   "cell_type": "code",
   "execution_count": 2,
   "metadata": {},
   "outputs": [],
   "source": [
    "# Individually adjusted\n",
    "actual_ps = 'Ava Addams'\n",
    "chosen_model_brazz_site = ['https://www.brazzers.com/videos/models/1757/ava-addams/page/']\n",
    "max_page_len_of_chosen_model = [4]"
   ]
  },
  {
   "cell_type": "markdown",
   "metadata": {},
   "source": [
    "Get the df from the bra site for the actual ps\n"
   ]
  },
  {
   "cell_type": "code",
   "execution_count": 3,
   "metadata": {},
   "outputs": [
    {
     "name": "stdout",
     "output_type": "stream",
     "text": [
      "max.. 4\n",
      "page_nr:  1\n",
      "scanning Site: https://www.brazzers.com/videos/models/1757/ava-addams/page/1, Response: <Response [200]>\n",
      "page_nr:  2\n",
      "scanning Site: https://www.brazzers.com/videos/models/1757/ava-addams/page/2, Response: <Response [200]>\n",
      "page_nr:  3\n",
      "scanning Site: https://www.brazzers.com/videos/models/1757/ava-addams/page/3, Response: <Response [200]>\n",
      "page_nr:  4\n",
      "scanning Site: https://www.brazzers.com/videos/models/1757/ava-addams/page/4, Response: <Response [200]>\n",
      "count of titles:  85\n"
     ]
    }
   ],
   "source": [
    "from create_df_actual_ps import create_df_actual_ps\n",
    "chosen_model_df = create_df_actual_ps(actual_ps, chosen_model_brazz_site, max_page_len_of_chosen_model)"
   ]
  },
  {
   "cell_type": "code",
   "execution_count": null,
   "metadata": {},
   "outputs": [],
   "source": []
  },
  {
   "cell_type": "markdown",
   "metadata": {},
   "source": [
    "Define functions for help\n"
   ]
  },
  {
   "cell_type": "code",
   "execution_count": 4,
   "metadata": {},
   "outputs": [],
   "source": [
    "def search_titles(dataFrame, search_string):\n",
    "    mask = (dataFrame.applymap(lambda x: isinstance(x, str) and search_string in x)).any(1)\n",
    "    #print('mask: ', dataFrame[mask]['Title'])\n",
    "    return dataFrame[mask]#['Title']"
   ]
  },
  {
   "cell_type": "markdown",
   "metadata": {},
   "source": [
    "Get the current titles of the df_final of the actual ps\n"
   ]
  },
  {
   "cell_type": "code",
   "execution_count": 8,
   "metadata": {},
   "outputs": [],
   "source": [
    "import pandas as pd\n",
    "df_curent_final = pd.read_csv('df_final_my_db_15_09_22.csv', index_col=[0])\n",
    "current_titles_in_df_curent_final = df_curent_final[(df_curent_final['PS1'] == actual_ps) |\n",
    "                                                    (df_curent_final['PS2'] == actual_ps) |\n",
    "                                                    (df_curent_final['PS3'] == actual_ps) |\n",
    "                                                    (df_curent_final['PS4'] == actual_ps) |\n",
    "                                                    (df_curent_final['PS5'] == actual_ps) |\n",
    "                                                    (df_curent_final['PS6'] == actual_ps) |\n",
    "                                                    (df_curent_final['PS7'] == actual_ps) |\n",
    "                                                    (df_curent_final['PS8'] == actual_ps) |\n",
    "                                                    (df_curent_final['PS9'] == actual_ps) |\n",
    "                                                    (df_curent_final['PS10'] == actual_ps)][['Title']]"
   ]
  },
  {
   "cell_type": "code",
   "execution_count": 9,
   "metadata": {},
   "outputs": [
    {
     "data": {
      "text/plain": [
       "(1787, 62, 85)"
      ]
     },
     "execution_count": 9,
     "metadata": {},
     "output_type": "execute_result"
    }
   ],
   "source": [
    "len(df_curent_final), len(current_titles_in_df_curent_final), len(chosen_model_df)"
   ]
  },
  {
   "cell_type": "code",
   "execution_count": 10,
   "metadata": {},
   "outputs": [
    {
     "data": {
      "text/html": [
       "<div>\n",
       "<style scoped>\n",
       "    .dataframe tbody tr th:only-of-type {\n",
       "        vertical-align: middle;\n",
       "    }\n",
       "\n",
       "    .dataframe tbody tr th {\n",
       "        vertical-align: top;\n",
       "    }\n",
       "\n",
       "    .dataframe thead th {\n",
       "        text-align: right;\n",
       "    }\n",
       "</style>\n",
       "<table border=\"1\" class=\"dataframe\">\n",
       "  <thead>\n",
       "    <tr style=\"text-align: right;\">\n",
       "      <th></th>\n",
       "      <th>Title</th>\n",
       "    </tr>\n",
       "  </thead>\n",
       "  <tbody>\n",
       "    <tr>\n",
       "      <th>124</th>\n",
       "      <td>porno_side_job_720p</td>\n",
       "    </tr>\n",
       "    <tr>\n",
       "      <th>125</th>\n",
       "      <td>the_book_report_720p</td>\n",
       "    </tr>\n",
       "    <tr>\n",
       "      <th>281</th>\n",
       "      <td>the_fucking_food_inspector_720p</td>\n",
       "    </tr>\n",
       "    <tr>\n",
       "      <th>282</th>\n",
       "      <td>office_4_play_720p</td>\n",
       "    </tr>\n",
       "    <tr>\n",
       "      <th>283</th>\n",
       "      <td>office_4_play_christmas_bonuses_720p</td>\n",
       "    </tr>\n",
       "  </tbody>\n",
       "</table>\n",
       "</div>"
      ],
      "text/plain": [
       "                                    Title\n",
       "124                   porno_side_job_720p\n",
       "125                  the_book_report_720p\n",
       "281       the_fucking_food_inspector_720p\n",
       "282                    office_4_play_720p\n",
       "283  office_4_play_christmas_bonuses_720p"
      ]
     },
     "execution_count": 10,
     "metadata": {},
     "output_type": "execute_result"
    }
   ],
   "source": [
    "current_titles_in_df_curent_final.head()"
   ]
  },
  {
   "cell_type": "markdown",
   "metadata": {},
   "source": [
    "Define the missing titles...\n"
   ]
  },
  {
   "cell_type": "code",
   "execution_count": 11,
   "metadata": {},
   "outputs": [],
   "source": [
    "def missing_titles_new(chosen_model_df):\n",
    "    zz = 0\n",
    "    missing_titles = []\n",
    "    for single_title in chosen_model_df['Title']:\n",
    "        found_titles = search_titles(current_titles_in_df_curent_final, single_title)\n",
    "        #print('found_titles: ', found_titles)\n",
    "        if found_titles.empty:\n",
    "            missing_titles.append(single_title)\n",
    "        sttr = f\"nr: {zz}  Title: {single_title} DF empty: {found_titles.empty}\"\n",
    "        #print(sttr)\n",
    "        zz = zz+1\n",
    "    return missing_titles"
   ]
  },
  {
   "cell_type": "code",
   "execution_count": 12,
   "metadata": {},
   "outputs": [
    {
     "data": {
      "text/plain": [
       "['studying_wet_pussy',\n",
       " 'brazzers_live_37_all_about_ava',\n",
       " 'brazzers_live_29_nightmare_on_ass_street',\n",
       " 'brazzers_live_22_milfmania',\n",
       " 'the_perfect_secretary',\n",
       " 'pardon_me_but_your_mouth_is_on_my_penis']"
      ]
     },
     "execution_count": 12,
     "metadata": {},
     "output_type": "execute_result"
    }
   ],
   "source": [
    "missing_titles = missing_titles_new(chosen_model_df)\n",
    "missing_titles[20:30]"
   ]
  },
  {
   "cell_type": "markdown",
   "metadata": {},
   "source": [
    "Specify the search\n"
   ]
  },
  {
   "cell_type": "code",
   "execution_count": 18,
   "metadata": {},
   "outputs": [
    {
     "data": {
      "text/plain": [
       "Site                                          Mommy Got Boobs\n",
       "PS1                                                Ava Addams\n",
       "PS2                                                   No Name\n",
       "PS3                                                   No Name\n",
       "Title                          interview_with_my_asshole_720p\n",
       "PS4                                                   No Name\n",
       "PS5                                                   No Name\n",
       "PS6                                                   No Name\n",
       "PS7                                                   No Name\n",
       "PS8                                                   No Name\n",
       "PS9                                                   No Name\n",
       "PS10                                                  No Name\n",
       "Location                                           WERDERNASX\n",
       "Link        /Volumes/WERDERNASX/VIDEOSX/BRAZZERS/mommy_got...\n",
       "Name: 1128, dtype: object"
      ]
     },
     "execution_count": 18,
     "metadata": {},
     "output_type": "execute_result"
    }
   ],
   "source": [
    "search_string = 'asshole'\n",
    "df_curent_final.loc[search_titles(current_titles_in_df_curent_final, search_string).index[0].item()]"
   ]
  },
  {
   "cell_type": "code",
   "execution_count": null,
   "metadata": {},
   "outputs": [],
   "source": []
  }
 ],
 "metadata": {
  "kernelspec": {
   "display_name": "Python 3.10.4 ('pyside2_dev')",
   "language": "python",
   "name": "python3"
  },
  "language_info": {
   "codemirror_mode": {
    "name": "ipython",
    "version": 3
   },
   "file_extension": ".py",
   "mimetype": "text/x-python",
   "name": "python",
   "nbconvert_exporter": "python",
   "pygments_lexer": "ipython3",
   "version": "3.10.6"
  },
  "orig_nbformat": 4,
  "vscode": {
   "interpreter": {
    "hash": "52867ee1f7e3b1f93523cdfe2d5d91084b6fa11775e78fca1f22649f7620b014"
   }
  }
 },
 "nbformat": 4,
 "nbformat_minor": 2
}
