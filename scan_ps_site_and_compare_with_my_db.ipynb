{
 "cells": [
  {
   "cell_type": "markdown",
   "metadata": {},
   "source": [
    "### Script for scanning the BRAZ-Site of the chosen PS and compare the titles with my bra_db\n"
   ]
  },
  {
   "cell_type": "code",
   "execution_count": 5,
   "metadata": {},
   "outputs": [],
   "source": [
    "import pandas as pd\n",
    "import math\n",
    "import sys\n",
    "#from IPython.core.display import display, HTML\n",
    "\n",
    "#display(HTML(\"<style>.container {width:90% !important; }</style>\"))\n",
    "sys.path.append('/Users/joerg/repos/braz')\n",
    "from utilities_functions import scan_func\n",
    "from create_df_actual_ps import create_df_actual_ps\n",
    "# To run all commands within one cell:\n",
    "#from IPython.core.interactiveshell import InteractiveShell\n",
    "#InteractiveShel\n",
    "pd.set_option('display.max_rows', None)"
   ]
  },
  {
   "cell_type": "markdown",
   "metadata": {},
   "source": [
    "Define help-functions"
   ]
  },
  {
   "cell_type": "code",
   "execution_count": 4,
   "metadata": {},
   "outputs": [],
   "source": [
    "def search_titles(dataFrame, search_string):\n",
    "    mask = (dataFrame.applymap(lambda x: isinstance(x, str) and search_string in x)).any(1)\n",
    "    #print('mask: ', dataFrame[mask]['Title'])\n",
    "    return dataFrame[mask]#['Title']\n",
    "\n",
    "def missing_titles_new(chosen_model_df):\n",
    "    zz = 0\n",
    "    missing_titles = []\n",
    "    for single_title in chosen_model_df['Title']:\n",
    "        found_titles = search_titles(current_titles_in_df_curent_final, single_title)\n",
    "        #print('found_titles: ', found_titles)\n",
    "        if found_titles.empty:\n",
    "            missing_titles.append(single_title)\n",
    "        sttr = f\"nr: {zz}  Title: {single_title} DF empty: {found_titles.empty}\"\n",
    "        #print(sttr)\n",
    "        zz = zz+1\n",
    "    return missing_titles"
   ]
  },
  {
   "cell_type": "markdown",
   "metadata": {},
   "source": [
    "## List of TOP_PS\n"
   ]
  },
  {
   "cell_type": "code",
   "execution_count": null,
   "metadata": {},
   "outputs": [],
   "source": [
    "top50_ps = ['Abbey Brooks', 'Abbie Cat', 'Alena Croft', 'Aletta Ocean', 'Alexis Ford', \n",
    "            'Angel Wicky', 'Angela White', 'Ava Addams', 'Bridgette B', 'Britney Shannon',\n",
    "            'Carmella Bing', 'Cathy Heaven', 'Chessie Kay', 'Christie Stevens', 'Claire Dames',  \n",
    "            'Corinna Blake', 'Dee Williams', 'Donna Bell', 'Ella Hughes', 'Emma Butt', 'Eva Karera', \n",
    "            'Eva Notty', 'Harmony Reigns', 'Holly Halston', 'Jasmine Jae', 'Jayden Jaymes', 'Jenna Presley',\n",
    "            'Jessica Moore', 'Julia Ann', 'Katie Kox', 'Kelly Divine', 'Kendra Lust', 'Kiara Mia',\n",
    "            'Krissy Lynn', 'Leigh Darby', 'Madison Ivy', 'Marsha May', 'Memphis Monroe', 'Nicolette Shea',\n",
    "            'Nikki Benz', 'Noelle Easton', 'Peta Jensen', 'Rebeca Linares', 'Rebecca More', 'Roberta Gemma',\n",
    "            'Romi Rain', 'Sensual Jane', 'Shyla Stylez', 'Sienna West', 'Sophie Dee', 'Stella Cox', \n",
    "            'Syren De Mer', 'Tarra White', 'Tory Lane', 'Velicity Von', 'Veronica Avluv', 'Yasmin Scott']\n",
    "print('Quantity of my TOP PS: ', str(len(top50_ps)))"
   ]
  },
  {
   "cell_type": "markdown",
   "metadata": {},
   "source": [
    "## Chosen_PS:\n"
   ]
  },
  {
   "cell_type": "markdown",
   "metadata": {},
   "source": [
    "## Abbey Brooks --> finished!\n"
   ]
  },
  {
   "cell_type": "markdown",
   "metadata": {},
   "source": [
    "## Abbie Cat --> finished!\n"
   ]
  },
  {
   "cell_type": "code",
   "execution_count": null,
   "metadata": {},
   "outputs": [],
   "source": [
    "\n",
    "chosen_model_abbie = ['https://www.brazzers.com/videos/models/1885/abbie-cat/page/']\n",
    "max_page_len_of_sites_ac = [1]"
   ]
  },
  {
   "cell_type": "markdown",
   "metadata": {},
   "source": [
    "### Scan the PS-Site\n"
   ]
  },
  {
   "cell_type": "code",
   "execution_count": null,
   "metadata": {},
   "outputs": [],
   "source": [
    "page_content_db = pd.DataFrame()\n",
    "page_number_db = {}\n",
    "page_content_tmp = {}\n",
    "page_columns = []\n",
    "ps1_db = pd.DataFrame()\n",
    "ps2_db = {}\n",
    "title_db = {}\n",
    "db_actual_site_name = pd.DataFrame()\n",
    "db_final_tmp = pd.DataFrame()\n",
    "db_actual_site_name_sliced = pd.DataFrame()\n",
    "\n",
    "# Determination of the maximum number of pages\n",
    "# for lf_root in db_sites[12:13]:\n",
    "#     db_page_tmp_2 = scan_func(lf_root)\n",
    "#     db_page_tmp_2 = [i for i in db_page_tmp if i.startswith('/videos/site/')]\n",
    "#         print('db_page_tmp: ', db_page_tmp_2)\n",
    "\n",
    "        \n",
    "        \n",
    "for root_site, number in zip(chosen_model_abbie_cat[:], max_page_len_of_sites_ac):\n",
    "    print('max..' , number)\n",
    "  \n",
    "\n",
    "    # max_page_number = math.ceil(int(number) / 24)\n",
    "       \n",
    "    for page_nr in range(1, int(number) + 1):\n",
    "        print('page_nr: ', page_nr)\n",
    "        actual_site = root_site + str(page_nr)\n",
    "        site_name = actual_site.split('/')[-5].replace('-', ' ').title()\n",
    "            \n",
    "        #print('site_name: ', site_name)\n",
    "        db_page_tmp = scan_func(actual_site)\n",
    "        #print('db_page_tmp: ', db_page_tmp)\n",
    "        db_page_video = [i for i in db_page_tmp if i.startswith('/video/')]\n",
    "        \n",
    "        db_page_ps = [i for i in db_page_tmp if i.startswith('/pornstar/')]\n",
    "        ps1 = [h.split('/')[-1].replace('-','_') for h in db_page_ps[::2]]\n",
    "        ps2 = [h.split('/')[-1].replace('-', '_') for h in db_page_ps[1::2]]\n",
    "        \n",
    "        title = [h.split('/')[-1].replace('-', '_') for h in db_page_video[::2]]\n",
    "        \n",
    "        site_tmp = [site_name]\n",
    "        \n",
    "        site = list(site_tmp) * 24\n",
    "        \n",
    "        \n",
    "        \n",
    "        ps1_db = pd.DataFrame(ps1)\n",
    "        ps2_db = pd.DataFrame(ps2)\n",
    "        title_db = pd.DataFrame(title)\n",
    "        site_db = pd.DataFrame(site)\n",
    "        #print('Site_db: ', site_db)\n",
    "        db_all_tmp = pd.concat([site_db, ps1_db, ps2_db, title_db], axis=1)\n",
    "        custom_cols = ['Site', 'PS1', 'PS2', 'Title']\n",
    "        #print('db_all_tmp: ', db_all_tmp)\n",
    "        db_all_tmp.columns = custom_cols\n",
    "        db_actual_site_name = pd.concat([db_actual_site_name, db_all_tmp])\n",
    "        #print('db_all_tmp: ', db_all_tmp)\n",
    "        #print('db_actual_site_name:\\n ', db_actual_site_name)\n",
    "\n",
    "    df_tmp = db_actual_site_name\n",
    "    #print('db_actual_site_name: ', db_actual_site_name)\n",
    "    \n",
    "df_ac_tmp = db_actual_site_name\n",
    "abbie_cat_df = df_ac_tmp[df_ac_tmp['PS1'].notna()]"
   ]
  },
  {
   "cell_type": "markdown",
   "metadata": {},
   "source": [
    "### Get the df of the scanned PS-site\n"
   ]
  },
  {
   "cell_type": "code",
   "execution_count": null,
   "metadata": {},
   "outputs": [],
   "source": [
    "abbie_cat_df"
   ]
  },
  {
   "cell_type": "markdown",
   "metadata": {},
   "source": [
    "### Import the (current) csv-file for comparison, which titles are already listed and which not\n",
    "\n",
    "### This has to be adjusted by hand!\n"
   ]
  },
  {
   "cell_type": "code",
   "execution_count": null,
   "metadata": {},
   "outputs": [],
   "source": [
    "df_cur_final = pd.read_csv('df_final_my_db_10_08_22.csv', index_col=[0])"
   ]
  },
  {
   "cell_type": "markdown",
   "metadata": {},
   "source": [
    "### Get the current titles of the chosen PS in the df_cur_final\n"
   ]
  },
  {
   "cell_type": "code",
   "execution_count": null,
   "metadata": {},
   "outputs": [],
   "source": [
    "chosen_ps = 'Abbie Cat'\n",
    "current_titles_in_df_cur_final = df_cur_final[df_cur_final['PS1'] == chosen_ps][['Title']]"
   ]
  },
  {
   "cell_type": "code",
   "execution_count": null,
   "metadata": {},
   "outputs": [],
   "source": [
    "current_titles_in_df_cur_final"
   ]
  },
  {
   "cell_type": "markdown",
   "metadata": {},
   "source": [
    "### Get the list of the titles from the chosen PS\n"
   ]
  },
  {
   "cell_type": "code",
   "execution_count": null,
   "metadata": {},
   "outputs": [],
   "source": [
    "abbie_cat_df['Title']"
   ]
  },
  {
   "cell_type": "markdown",
   "metadata": {},
   "source": [
    "### Define the search function to find the titles\n"
   ]
  },
  {
   "cell_type": "code",
   "execution_count": null,
   "metadata": {},
   "outputs": [],
   "source": [
    "def search(dataFrame, search_string):\n",
    "    mask = (dataFrame.applymap(lambda x: isinstance(x, str) and search_string in x)).any(1)\n",
    "    #print('mask: ', mask)\n",
    "    return dataFrame[mask]"
   ]
  },
  {
   "cell_type": "markdown",
   "metadata": {},
   "source": [
    "### The command below are made by hand, so see, which titles are inside the df_cur_final!\n"
   ]
  },
  {
   "cell_type": "code",
   "execution_count": null,
   "metadata": {},
   "outputs": [],
   "source": [
    "search(current_titles_in_df_cur_final, 'womens')"
   ]
  },
  {
   "cell_type": "markdown",
   "metadata": {},
   "source": [
    "---\n"
   ]
  },
  {
   "cell_type": "markdown",
   "metadata": {},
   "source": [
    "## Alena Croft --> finished\n"
   ]
  },
  {
   "cell_type": "code",
   "execution_count": null,
   "metadata": {},
   "outputs": [],
   "source": [
    "chosen_model_alena_croft = ['https://www.brazzers.com/videos/models/4005/alena-croft/page/']\n",
    "max_page_len_of_sites_alc = [2]"
   ]
  },
  {
   "cell_type": "code",
   "execution_count": null,
   "metadata": {},
   "outputs": [],
   "source": [
    "page_content_db = pd.DataFrame()\n",
    "page_number_db = {}\n",
    "page_content_tmp = {}\n",
    "page_columns = []\n",
    "ps1_db = pd.DataFrame()\n",
    "ps2_db = {}\n",
    "title_db = {}\n",
    "db_actual_site_name = pd.DataFrame()\n",
    "db_final_tmp = pd.DataFrame()\n",
    "db_actual_site_name_sliced = pd.DataFrame()\n",
    "\n",
    "# Determination of the maximum number of pages\n",
    "# for lf_root in db_sites[12:13]:\n",
    "#     db_page_tmp_2 = scan_func(lf_root)\n",
    "#     db_page_tmp_2 = [i for i in db_page_tmp if i.startswith('/videos/site/')]\n",
    "#         print('db_page_tmp: ', db_page_tmp_2)\n",
    "\n",
    "        \n",
    "        \n",
    "for root_site, number in zip(chosen_model_alena_croft[:], max_page_len_of_sites_alc):\n",
    "    print('max..' , number)\n",
    "  \n",
    "\n",
    "    # max_page_number = math.ceil(int(number) / 24)\n",
    "       \n",
    "    for page_nr in range(1, int(number) + 1):\n",
    "        print('page_nr: ', page_nr)\n",
    "        actual_site = root_site + str(page_nr)\n",
    "        site_name = actual_site.split('/')[-5].replace('-', ' ').title()\n",
    "            \n",
    "        #print('site_name: ', site_name)\n",
    "        db_page_tmp = scan_func(actual_site)\n",
    "        #print('db_page_tmp: ', db_page_tmp)\n",
    "        db_page_video = [i for i in db_page_tmp if i.startswith('/video/')]\n",
    "        \n",
    "        db_page_ps = [i for i in db_page_tmp if i.startswith('/pornstar/')]\n",
    "        ps1 = [h.split('/')[-1].replace('-','_') for h in db_page_ps[::2]]\n",
    "        ps2 = [h.split('/')[-1].replace('-', '_') for h in db_page_ps[1::2]]\n",
    "        \n",
    "        title = [h.split('/')[-1].replace('-', '_') for h in db_page_video[::2]]\n",
    "        \n",
    "        site_tmp = [site_name]\n",
    "        \n",
    "        site = list(site_tmp) * 24\n",
    "        \n",
    "        \n",
    "        \n",
    "        ps1_db = pd.DataFrame(ps1)\n",
    "        ps2_db = pd.DataFrame(ps2)\n",
    "        title_db = pd.DataFrame(title)\n",
    "        site_db = pd.DataFrame(site)\n",
    "        #print('Site_db: ', site_db)\n",
    "        db_all_tmp = pd.concat([site_db, ps1_db, ps2_db, title_db], axis=1)\n",
    "        custom_cols = ['Site', 'PS1', 'PS2', 'Title']\n",
    "        #print('db_all_tmp: ', db_all_tmp)\n",
    "        db_all_tmp.columns = custom_cols\n",
    "        db_actual_site_name = pd.concat([db_actual_site_name, db_all_tmp])\n",
    "        #print('db_all_tmp: ', db_all_tmp)\n",
    "        #print('db_actual_site_name:\\n ', db_actual_site_name)\n",
    "\n",
    "    df_tmp = db_actual_site_name\n",
    "    #print('db_actual_site_name: ', db_actual_site_name)\n",
    "    \n",
    "df_alc_tmp = db_actual_site_name\n",
    "alena_croft_df = df_alc_tmp[df_alc_tmp['PS1'].notna()]"
   ]
  },
  {
   "cell_type": "code",
   "execution_count": null,
   "metadata": {},
   "outputs": [],
   "source": [
    "alena_croft_df"
   ]
  },
  {
   "cell_type": "code",
   "execution_count": null,
   "metadata": {},
   "outputs": [],
   "source": [
    "df_cur_final = pd.read_csv('df_final_my_db_10_08_22.csv', index_col=[0])"
   ]
  },
  {
   "cell_type": "markdown",
   "metadata": {},
   "source": [
    "### Get the current titles of chosen PS within df_cur_final\n"
   ]
  },
  {
   "cell_type": "code",
   "execution_count": null,
   "metadata": {},
   "outputs": [],
   "source": [
    "chosen_ps = 'Alena Croft'\n",
    "current_titles_in_df_cur_final = df_cur_final[df_cur_final['PS1'] == chosen_ps][['Title']]"
   ]
  },
  {
   "cell_type": "code",
   "execution_count": null,
   "metadata": {},
   "outputs": [],
   "source": [
    "alena_croft_df"
   ]
  },
  {
   "cell_type": "code",
   "execution_count": null,
   "metadata": {},
   "outputs": [],
   "source": [
    "current_titles_in_df_cur_final"
   ]
  },
  {
   "cell_type": "markdown",
   "metadata": {},
   "source": [
    "### Try to loop through the complete title-list of the choosen ps and search for the titles within the df_cur_final\n"
   ]
  },
  {
   "cell_type": "code",
   "execution_count": null,
   "metadata": {},
   "outputs": [],
   "source": [
    "def search_titles(dataFrame, search_string):\n",
    "    mask = (dataFrame.applymap(lambda x: isinstance(x, str) and search_string in x)).any(1)\n",
    "    #print('mask: ', dataFrame[mask]['Title'])\n",
    "    return dataFrame[mask]['Title']"
   ]
  },
  {
   "cell_type": "code",
   "execution_count": null,
   "metadata": {},
   "outputs": [],
   "source": [
    "zz_db = []\n",
    "zz = 0\n",
    "missing_titles = []\n",
    "for single_title in alena_croft_df['Title']:\n",
    "    found_titles = search_titles(current_titles_in_df_cur_final, single_title)\n",
    "    if found_titles.empty:\n",
    "        missing_titles.append(single_title)\n",
    "    sttr = f\"nr: {zz}  Title: {single_title} DF empty: {found_titles.empty}\"\n",
    "    print(sttr)\n",
    "    \n",
    "    zz = zz+1"
   ]
  },
  {
   "cell_type": "code",
   "execution_count": null,
   "metadata": {},
   "outputs": [],
   "source": [
    "missing_titles"
   ]
  },
  {
   "cell_type": "code",
   "execution_count": null,
   "metadata": {},
   "outputs": [],
   "source": [
    "current_titles_in_df_cur_final"
   ]
  },
  {
   "cell_type": "code",
   "execution_count": null,
   "metadata": {},
   "outputs": [],
   "source": [
    "search(current_titles_in_df_cur_final, 'busy')"
   ]
  },
  {
   "cell_type": "markdown",
   "metadata": {},
   "source": [
    "---\n"
   ]
  },
  {
   "cell_type": "markdown",
   "metadata": {},
   "source": [
    "## Aletta Ocean --> finished (temporary)\n"
   ]
  },
  {
   "cell_type": "code",
   "execution_count": null,
   "metadata": {},
   "outputs": [],
   "source": [
    "actual_ps = 'Aletta Ocean'\n",
    "chosen_model_brazz_site = ['https://www.brazzers.com/videos/models/2167/aletta-ocean/page/']\n",
    "max_page_len_of_chosen_model = [2]"
   ]
  },
  {
   "cell_type": "code",
   "execution_count": null,
   "metadata": {},
   "outputs": [],
   "source": [
    "page_content_db = pd.DataFrame()\n",
    "page_number_db = {}\n",
    "page_content_tmp = {}\n",
    "page_columns = []\n",
    "ps1_db = pd.DataFrame()\n",
    "ps2_db = {}\n",
    "title_db = {}\n",
    "db_actual_site_name = pd.DataFrame()\n",
    "db_final_tmp = pd.DataFrame()\n",
    "db_actual_site_name_sliced = pd.DataFrame()\n",
    "\n",
    "       \n",
    "        \n",
    "for root_site, number in zip(chosen_model_brazz_site[:], max_page_len_of_chosen_model):\n",
    "    print('max..' , number)\n",
    "  \n",
    "    # max_page_number = math.ceil(int(number) / 24)\n",
    "       \n",
    "    for page_nr in range(1, int(number) + 1):\n",
    "        print('page_nr: ', page_nr)\n",
    "        actual_site = root_site + str(page_nr)\n",
    "        site_name = actual_site.split('/')[-5].replace('-', ' ').title()\n",
    "            \n",
    "        #print('site_name: ', site_name)\n",
    "        db_page_tmp = scan_func(actual_site)\n",
    "        #print('db_page_tmp: ', db_page_tmp)\n",
    "        db_page_video = [i for i in db_page_tmp if i.startswith('/video/')]\n",
    "        \n",
    "        db_page_ps = [i for i in db_page_tmp if i.startswith('/pornstar/')]\n",
    "        ps1 = [h.split('/')[-1].replace('-','_') for h in db_page_ps[::2]]\n",
    "        ps2 = [h.split('/')[-1].replace('-', '_') for h in db_page_ps[1::2]]\n",
    "        \n",
    "        title = [h.split('/')[-1].replace('-', '_') for h in db_page_video[::2]]\n",
    "        \n",
    "        site_tmp = [site_name]\n",
    "        \n",
    "        site = list(site_tmp) * 24\n",
    "                        \n",
    "        ps1_db = pd.DataFrame(ps1)\n",
    "        ps2_db = pd.DataFrame(ps2)\n",
    "        title_db = pd.DataFrame(title)\n",
    "        site_db = pd.DataFrame(site)\n",
    "        #print('Site_db: ', site_db)\n",
    "        db_all_tmp = pd.concat([site_db, ps1_db, ps2_db, title_db], axis=1)\n",
    "        custom_cols = ['Site', 'PS1', 'PS2', 'Title']\n",
    "        #print('db_all_tmp: ', db_all_tmp)\n",
    "        db_all_tmp.columns = custom_cols\n",
    "        db_actual_site_name = pd.concat([db_actual_site_name, db_all_tmp])\n",
    "        #print('db_all_tmp: ', db_all_tmp)\n",
    "        #print('db_actual_site_name:\\n ', db_actual_site_name)\n",
    "\n",
    "    df_tmp = db_actual_site_name\n",
    "    #print('db_actual_site_name: ', db_actual_site_name)\n",
    "    \n",
    "df_chosen_model_tmp = db_actual_site_name\n",
    "chosen_model_df = df_chosen_model_tmp[df_chosen_model_tmp['PS1'].notna()]"
   ]
  },
  {
   "cell_type": "code",
   "execution_count": null,
   "metadata": {},
   "outputs": [],
   "source": [
    "len(chosen_model_df)"
   ]
  },
  {
   "cell_type": "code",
   "execution_count": null,
   "metadata": {},
   "outputs": [],
   "source": [
    "df_curent_final = pd.read_csv('df_final_my_db_12_08_22.csv', index_col=[0])"
   ]
  },
  {
   "cell_type": "markdown",
   "metadata": {},
   "source": [
    "#### Get the current titles of the chosen PS within the df_current_final df\n"
   ]
  },
  {
   "cell_type": "code",
   "execution_count": null,
   "metadata": {},
   "outputs": [],
   "source": [
    "current_titles_in_df_curent_final = df_curent_final[df_curent_final['PS1'] == actual_ps][['Title']]"
   ]
  },
  {
   "cell_type": "code",
   "execution_count": null,
   "metadata": {},
   "outputs": [],
   "source": [
    "len(current_titles_in_df_curent_final)"
   ]
  },
  {
   "cell_type": "markdown",
   "metadata": {},
   "source": [
    "#### Try to loop through title_list of chosen PS to find missing titles..\n"
   ]
  },
  {
   "cell_type": "code",
   "execution_count": null,
   "metadata": {},
   "outputs": [],
   "source": [
    "def search_titles(dataFrame, search_string):\n",
    "    mask = (dataFrame.applymap(lambda x: isinstance(x, str) and search_string in x)).any(1)\n",
    "    #print('mask: ', dataFrame[mask]['Title'])\n",
    "    return dataFrame[mask]['Title']"
   ]
  },
  {
   "cell_type": "code",
   "execution_count": null,
   "metadata": {},
   "outputs": [],
   "source": [
    "zz = 0\n",
    "missing_titles = []\n",
    "for single_title in chosen_model_df['Title']:\n",
    "    found_titles = search_titles(current_titles_in_df_curent_final, single_title)\n",
    "    if found_titles.empty:\n",
    "        missing_titles.append(single_title)\n",
    "    sttr = f\"nr: {zz}  Title: {single_title} DF empty: {found_titles.empty}\"\n",
    "    #print(sttr)\n",
    "    zz = zz+1"
   ]
  },
  {
   "cell_type": "code",
   "execution_count": null,
   "metadata": {},
   "outputs": [],
   "source": [
    "missing_titles"
   ]
  },
  {
   "cell_type": "markdown",
   "metadata": {},
   "source": [
    "#### Specify the location of the missing titles.\n"
   ]
  },
  {
   "cell_type": "code",
   "execution_count": null,
   "metadata": {},
   "outputs": [],
   "source": [
    "search_string = 'car'\n",
    "search_titles(current_titles_in_df_curent_final, search_string)"
   ]
  },
  {
   "cell_type": "code",
   "execution_count": null,
   "metadata": {},
   "outputs": [],
   "source": [
    "search_titles(current_titles_in_df_curent_final, search_string).index[0].item()"
   ]
  },
  {
   "cell_type": "code",
   "execution_count": null,
   "metadata": {},
   "outputs": [],
   "source": [
    "df_curent_final.loc[search_titles(current_titles_in_df_curent_final, search_string).index[0].item()]"
   ]
  },
  {
   "cell_type": "markdown",
   "metadata": {},
   "source": [
    "## Alexis Ford --> finished (temporary)\n"
   ]
  },
  {
   "cell_type": "code",
   "execution_count": null,
   "metadata": {},
   "outputs": [],
   "source": [
    "actual_ps = 'Alexis Ford'\n",
    "chosen_model_brazz_site = ['https://www.brazzers.com/videos/models/1321/alexis-ford/page/']\n",
    "max_page_len_of_chosen_model = [1]"
   ]
  },
  {
   "cell_type": "code",
   "execution_count": null,
   "metadata": {},
   "outputs": [],
   "source": [
    "page_content_db = pd.DataFrame()\n",
    "page_number_db = {}\n",
    "page_content_tmp = {}\n",
    "page_columns = []\n",
    "ps1_db = pd.DataFrame()\n",
    "ps2_db = {}\n",
    "title_db = {}\n",
    "db_actual_site_name = pd.DataFrame()\n",
    "db_final_tmp = pd.DataFrame()\n",
    "db_actual_site_name_sliced = pd.DataFrame()\n",
    "\n",
    "       \n",
    "        \n",
    "for root_site, number in zip(chosen_model_brazz_site[:], max_page_len_of_chosen_model):\n",
    "    print('max..' , number)\n",
    "  \n",
    "    # max_page_number = math.ceil(int(number) / 24)\n",
    "       \n",
    "    for page_nr in range(1, int(number) + 1):\n",
    "        print('page_nr: ', page_nr)\n",
    "        actual_site = root_site + str(page_nr)\n",
    "        site_name = actual_site.split('/')[-5].replace('-', ' ').title()\n",
    "            \n",
    "        #print('site_name: ', site_name)\n",
    "        db_page_tmp = scan_func(actual_site)\n",
    "        #print('db_page_tmp: ', db_page_tmp)\n",
    "        db_page_video = [i for i in db_page_tmp if i.startswith('/video/')]\n",
    "        \n",
    "        db_page_ps = [i for i in db_page_tmp if i.startswith('/pornstar/')]\n",
    "        ps1 = [h.split('/')[-1].replace('-','_') for h in db_page_ps[::2]]\n",
    "        ps2 = [h.split('/')[-1].replace('-', '_') for h in db_page_ps[1::2]]\n",
    "        \n",
    "        title = [h.split('/')[-1].replace('-', '_') for h in db_page_video[::2]]\n",
    "        \n",
    "        site_tmp = [site_name]\n",
    "        \n",
    "        site = list(site_tmp) * 24\n",
    "                        \n",
    "        ps1_db = pd.DataFrame(ps1)\n",
    "        ps2_db = pd.DataFrame(ps2)\n",
    "        title_db = pd.DataFrame(title)\n",
    "        site_db = pd.DataFrame(site)\n",
    "        #print('Site_db: ', site_db)\n",
    "        db_all_tmp = pd.concat([site_db, ps1_db, ps2_db, title_db], axis=1)\n",
    "        custom_cols = ['Site', 'PS1', 'PS2', 'Title']\n",
    "        #print('db_all_tmp: ', db_all_tmp)\n",
    "        db_all_tmp.columns = custom_cols\n",
    "        db_actual_site_name = pd.concat([db_actual_site_name, db_all_tmp])\n",
    "        #print('db_all_tmp: ', db_all_tmp)\n",
    "        #print('db_actual_site_name:\\n ', db_actual_site_name)\n",
    "\n",
    "    df_tmp = db_actual_site_name\n",
    "    #print('db_actual_site_name: ', db_actual_site_name)\n",
    "    \n",
    "df_chosen_model_tmp = db_actual_site_name\n",
    "chosen_model_df = df_chosen_model_tmp[df_chosen_model_tmp['PS1'].notna()]\n",
    "\n",
    "print('count of titles: ', len(chosen_model_df))"
   ]
  },
  {
   "cell_type": "code",
   "execution_count": null,
   "metadata": {},
   "outputs": [],
   "source": [
    "def search_titles(dataFrame, search_string):\n",
    "    mask = (dataFrame.applymap(lambda x: isinstance(x, str) and search_string in x)).any(1)\n",
    "    #print('mask: ', dataFrame[mask]['Title'])\n",
    "    return dataFrame[mask]['Title']"
   ]
  },
  {
   "cell_type": "code",
   "execution_count": null,
   "metadata": {},
   "outputs": [],
   "source": [
    "df_curent_final = pd.read_csv('df_final_my_db_16_08_22.csv', index_col=[0])\n",
    "current_titles_in_df_curent_final = df_curent_final[df_curent_final['PS1'] == actual_ps][['Title']]"
   ]
  },
  {
   "cell_type": "code",
   "execution_count": null,
   "metadata": {},
   "outputs": [],
   "source": [
    "len(current_titles_in_df_curent_final)"
   ]
  },
  {
   "cell_type": "code",
   "execution_count": null,
   "metadata": {},
   "outputs": [],
   "source": [
    "zz = 0\n",
    "missing_titles = []\n",
    "for single_title in chosen_model_df['Title']:\n",
    "    found_titles = search_titles(current_titles_in_df_curent_final, single_title)\n",
    "    if found_titles.empty:\n",
    "        missing_titles.append(single_title)\n",
    "    sttr = f\"nr: {zz}  Title: {single_title} DF empty: {found_titles.empty}\"\n",
    "    #print(sttr)\n",
    "    zz = zz+1"
   ]
  },
  {
   "cell_type": "code",
   "execution_count": null,
   "metadata": {},
   "outputs": [],
   "source": [
    "missing_titles"
   ]
  },
  {
   "cell_type": "markdown",
   "metadata": {},
   "source": [
    "#### Specify the location of the search\n"
   ]
  },
  {
   "cell_type": "code",
   "execution_count": null,
   "metadata": {},
   "outputs": [],
   "source": [
    "search_string = 'cheering'\n",
    "search_titles(current_titles_in_df_curent_final, search_string)\n",
    "search_titles(current_titles_in_df_curent_final, search_string).index[0].item()\n",
    "df_curent_final.loc[search_titles(current_titles_in_df_curent_final, search_string).index[0].item()]"
   ]
  },
  {
   "cell_type": "code",
   "execution_count": null,
   "metadata": {},
   "outputs": [],
   "source": []
  },
  {
   "cell_type": "markdown",
   "metadata": {},
   "source": [
    "## Angel Wicky --> finished\n"
   ]
  },
  {
   "cell_type": "code",
   "execution_count": null,
   "metadata": {},
   "outputs": [],
   "source": [
    "actual_ps = 'Angel Wicky'\n",
    "chosen_model_brazz_site = ['https://www.brazzers.com/videos/models/15995/angel-wicky/page/']\n",
    "max_page_len_of_chosen_model = [1]"
   ]
  },
  {
   "cell_type": "code",
   "execution_count": null,
   "metadata": {},
   "outputs": [],
   "source": [
    "page_content_db = pd.DataFrame()\n",
    "page_number_db = {}\n",
    "page_content_tmp = {}\n",
    "page_columns = []\n",
    "ps1_db = pd.DataFrame()\n",
    "ps2_db = {}\n",
    "title_db = {}\n",
    "db_actual_site_name = pd.DataFrame()\n",
    "db_final_tmp = pd.DataFrame()\n",
    "db_actual_site_name_sliced = pd.DataFrame()\n",
    "\n",
    "       \n",
    "        \n",
    "for root_site, number in zip(chosen_model_brazz_site[:], max_page_len_of_chosen_model):\n",
    "    print('max..' , number)\n",
    "  \n",
    "    # max_page_number = math.ceil(int(number) / 24)\n",
    "       \n",
    "    for page_nr in range(1, int(number) + 1):\n",
    "        print('page_nr: ', page_nr)\n",
    "        actual_site = root_site + str(page_nr)\n",
    "        site_name = actual_site.split('/')[-5].replace('-', ' ').title()\n",
    "            \n",
    "        #print('site_name: ', site_name)\n",
    "        db_page_tmp = scan_func(actual_site)\n",
    "        #print('db_page_tmp: ', db_page_tmp)\n",
    "        db_page_video = [i for i in db_page_tmp if i.startswith('/video/')]\n",
    "        \n",
    "        db_page_ps = [i for i in db_page_tmp if i.startswith('/pornstar/')]\n",
    "        ps1 = [h.split('/')[-1].replace('-','_') for h in db_page_ps[::2]]\n",
    "        ps2 = [h.split('/')[-1].replace('-', '_') for h in db_page_ps[1::2]]\n",
    "        \n",
    "        title = [h.split('/')[-1].replace('-', '_') for h in db_page_video[::2]]\n",
    "        \n",
    "        site_tmp = [site_name]\n",
    "        \n",
    "        site = list(site_tmp) * 24\n",
    "                        \n",
    "        ps1_db = pd.DataFrame(ps1)\n",
    "        ps2_db = pd.DataFrame(ps2)\n",
    "        title_db = pd.DataFrame(title)\n",
    "        site_db = pd.DataFrame(site)\n",
    "        #print('Site_db: ', site_db)\n",
    "        db_all_tmp = pd.concat([site_db, ps1_db, ps2_db, title_db], axis=1)\n",
    "        custom_cols = ['Site', 'PS1', 'PS2', 'Title']\n",
    "        #print('db_all_tmp: ', db_all_tmp)\n",
    "        db_all_tmp.columns = custom_cols\n",
    "        db_actual_site_name = pd.concat([db_actual_site_name, db_all_tmp])\n",
    "        #print('db_all_tmp: ', db_all_tmp)\n",
    "        #print('db_actual_site_name:\\n ', db_actual_site_name)\n",
    "\n",
    "    df_tmp = db_actual_site_name\n",
    "    #print('db_actual_site_name: ', db_actual_site_name)\n",
    "    \n",
    "df_chosen_model_tmp = db_actual_site_name\n",
    "chosen_model_df = df_chosen_model_tmp[df_chosen_model_tmp['PS1'].notna()]\n",
    "\n",
    "print('count of titles: ', len(chosen_model_df))"
   ]
  },
  {
   "cell_type": "code",
   "execution_count": null,
   "metadata": {},
   "outputs": [],
   "source": [
    "def search_titles(dataFrame, search_string):\n",
    "    mask = (dataFrame.applymap(lambda x: isinstance(x, str) and search_string in x)).any(1)\n",
    "    #print('mask: ', dataFrame[mask]['Title'])\n",
    "    return dataFrame[mask]['Title']"
   ]
  },
  {
   "cell_type": "code",
   "execution_count": null,
   "metadata": {},
   "outputs": [],
   "source": [
    "df_curent_final = pd.read_csv('df_final_my_db_16_08_22.csv', index_col=[0])\n",
    "current_titles_in_df_curent_final = df_curent_final[df_curent_final['PS1'] == actual_ps][['Title']]"
   ]
  },
  {
   "cell_type": "code",
   "execution_count": null,
   "metadata": {},
   "outputs": [],
   "source": [
    "current_titles_in_df_curent_final"
   ]
  },
  {
   "cell_type": "code",
   "execution_count": null,
   "metadata": {},
   "outputs": [],
   "source": [
    "zz = 0\n",
    "missing_titles = []\n",
    "for single_title in chosen_model_df['Title']:\n",
    "    found_titles = search_titles(current_titles_in_df_curent_final, single_title)\n",
    "    if found_titles.empty:\n",
    "        missing_titles.append(single_title)\n",
    "    sttr = f\"nr: {zz}  Title: {single_title} DF empty: {found_titles.empty}\"\n",
    "    #print(sttr)\n",
    "    zz = zz+1"
   ]
  },
  {
   "cell_type": "code",
   "execution_count": null,
   "metadata": {},
   "outputs": [],
   "source": [
    "missing_titles"
   ]
  },
  {
   "cell_type": "markdown",
   "metadata": {},
   "source": [
    "#### Specify the search..\n"
   ]
  },
  {
   "cell_type": "code",
   "execution_count": null,
   "metadata": {},
   "outputs": [],
   "source": [
    "search_string = 'cum'\n",
    "search_titles(current_titles_in_df_curent_final, search_string)\n",
    "search_titles(current_titles_in_df_curent_final, search_string).index[0].item()\n",
    "df_curent_final.loc[search_titles(current_titles_in_df_curent_final, search_string).index[0].item()]"
   ]
  },
  {
   "cell_type": "markdown",
   "metadata": {},
   "source": [
    "## Angela White --> finished\n"
   ]
  },
  {
   "cell_type": "code",
   "execution_count": null,
   "metadata": {},
   "outputs": [],
   "source": [
    "# Individually adjusted\n",
    "actual_ps = 'Angela White'\n",
    "chosen_model_brazz_site = ['https://www.brazzers.com/videos/models/4685/angela-white/page/']\n",
    "max_page_len_of_chosen_model = [3]\n",
    "\n",
    "# Next function is automatically \n"
   ]
  },
  {
   "cell_type": "code",
   "execution_count": null,
   "metadata": {},
   "outputs": [],
   "source": [
    "from create_df_actual_ps import create_df_actual_ps"
   ]
  },
  {
   "cell_type": "code",
   "execution_count": null,
   "metadata": {},
   "outputs": [],
   "source": [
    "chosen_model_df = create_df_actual_ps(actual_ps, chosen_model_brazz_site, max_page_len_of_chosen_model)"
   ]
  },
  {
   "cell_type": "code",
   "execution_count": null,
   "metadata": {},
   "outputs": [],
   "source": [
    "def search_titles(dataFrame, search_string):\n",
    "    mask = (dataFrame.applymap(lambda x: isinstance(x, str) and search_string in x)).any(1)\n",
    "    #print('mask: ', dataFrame[mask]['Title'])\n",
    "    return dataFrame[mask]#['Title']"
   ]
  },
  {
   "cell_type": "markdown",
   "metadata": {},
   "source": [
    "Read the actual df of my_db\n"
   ]
  },
  {
   "cell_type": "code",
   "execution_count": null,
   "metadata": {},
   "outputs": [],
   "source": [
    "import pandas as pd\n",
    "df_curent_final = pd.read_csv('df_final_my_db_30_08_22.csv', index_col=[0])\n",
    "current_titles_in_df_curent_final = df_curent_final[(df_curent_final['PS1'] == actual_ps) |\n",
    "                                                    (df_curent_final['PS2'] == actual_ps) ][['Title']]\n"
   ]
  },
  {
   "cell_type": "code",
   "execution_count": null,
   "metadata": {},
   "outputs": [],
   "source": [
    "current_titles_in_df_curent_final"
   ]
  },
  {
   "cell_type": "markdown",
   "metadata": {},
   "source": [
    "Define function for missing titles\n"
   ]
  },
  {
   "cell_type": "code",
   "execution_count": null,
   "metadata": {},
   "outputs": [],
   "source": [
    "def missing_titles_new(chosen_model_df):\n",
    "    zz = 0\n",
    "    missing_titles = []\n",
    "    for single_title in chosen_model_df['Title']:\n",
    "        found_titles = search_titles(current_titles_in_df_curent_final, single_title)\n",
    "        #print('found_titles: ', found_titles)\n",
    "        if found_titles.empty:\n",
    "            missing_titles.append(single_title)\n",
    "        sttr = f\"nr: {zz}  Title: {single_title} DF empty: {found_titles.empty}\"\n",
    "        #print(sttr)\n",
    "        zz = zz+1\n",
    "    return missing_titles"
   ]
  },
  {
   "cell_type": "code",
   "execution_count": null,
   "metadata": {},
   "outputs": [],
   "source": [
    "missing_titles_new(chosen_model_df)"
   ]
  },
  {
   "cell_type": "code",
   "execution_count": null,
   "metadata": {},
   "outputs": [],
   "source": [
    "pd.set_option('display.max.rows', 500)\n",
    "chosen_model_df"
   ]
  },
  {
   "cell_type": "markdown",
   "metadata": {},
   "source": [
    "Specify the search\n"
   ]
  },
  {
   "cell_type": "code",
   "execution_count": null,
   "metadata": {},
   "outputs": [],
   "source": [
    "search_string = 'bay'\n",
    "# search_titles(current_titles_in_df_curent_final, search_string)\n",
    "# search_titles(current_titles_in_df_curent_final, search_string).index[0].item()\n",
    "df_curent_final.loc[search_titles(current_titles_in_df_curent_final, search_string).index[0].item()]"
   ]
  },
  {
   "cell_type": "code",
   "execution_count": null,
   "metadata": {},
   "outputs": [],
   "source": [
    "search_titles(current_titles_in_df_curent_final, search_string)#.index[0].item()"
   ]
  },
  {
   "cell_type": "code",
   "execution_count": null,
   "metadata": {},
   "outputs": [],
   "source": [
    "current_titles_in_df_curent_final"
   ]
  },
  {
   "cell_type": "code",
   "execution_count": null,
   "metadata": {},
   "outputs": [],
   "source": [
    "search_titles(current_titles_in_df_curent_final, search_string)"
   ]
  },
  {
   "cell_type": "markdown",
   "metadata": {},
   "source": [
    "# Ava Addams --> finished (temporary)\n"
   ]
  },
  {
   "cell_type": "code",
   "execution_count": null,
   "metadata": {},
   "outputs": [],
   "source": [
    "# Individually adjusted\n",
    "actual_ps = 'Ava Addams'\n",
    "chosen_model_brazz_site = ['https://www.brazzers.com/videos/models/1757/ava-addams/page/']\n",
    "max_page_len_of_chosen_model = [4]"
   ]
  },
  {
   "cell_type": "markdown",
   "metadata": {},
   "source": [
    "Get the df from the bra site for the actual ps\n"
   ]
  },
  {
   "cell_type": "code",
   "execution_count": null,
   "metadata": {},
   "outputs": [],
   "source": [
    "from create_df_actual_ps import create_df_actual_ps\n",
    "chosen_model_df = create_df_actual_ps(actual_ps, chosen_model_brazz_site, max_page_len_of_chosen_model)"
   ]
  },
  {
   "cell_type": "markdown",
   "metadata": {},
   "source": [
    "Define functions for help\n"
   ]
  },
  {
   "cell_type": "code",
   "execution_count": null,
   "metadata": {},
   "outputs": [],
   "source": [
    "def search_titles(dataFrame, search_string):\n",
    "    mask = (dataFrame.applymap(lambda x: isinstance(x, str) and search_string in x)).any(1)\n",
    "    #print('mask: ', dataFrame[mask]['Title'])\n",
    "    return dataFrame[mask]#['Title']"
   ]
  },
  {
   "cell_type": "markdown",
   "metadata": {},
   "source": [
    "Get the current titles of the df_final of the actual ps\n"
   ]
  },
  {
   "cell_type": "code",
   "execution_count": null,
   "metadata": {},
   "outputs": [],
   "source": [
    "import pandas as pd\n",
    "df_curent_final = pd.read_csv('df_final_my_db_15_09_22.csv', index_col=[0])\n",
    "current_titles_in_df_curent_final = df_curent_final[(df_curent_final['PS1'] == actual_ps) |\n",
    "                                                    (df_curent_final['PS2'] == actual_ps) |\n",
    "                                                    (df_curent_final['PS3'] == actual_ps) |\n",
    "                                                    (df_curent_final['PS4'] == actual_ps) |\n",
    "                                                    (df_curent_final['PS5'] == actual_ps) |\n",
    "                                                    (df_curent_final['PS6'] == actual_ps) |\n",
    "                                                    (df_curent_final['PS7'] == actual_ps) |\n",
    "                                                    (df_curent_final['PS8'] == actual_ps) |\n",
    "                                                    (df_curent_final['PS9'] == actual_ps) |\n",
    "                                                    (df_curent_final['PS10'] == actual_ps)][['Title']]"
   ]
  },
  {
   "cell_type": "code",
   "execution_count": null,
   "metadata": {},
   "outputs": [],
   "source": [
    "len(df_curent_final), len(current_titles_in_df_curent_final), len(chosen_model_df)"
   ]
  },
  {
   "cell_type": "code",
   "execution_count": null,
   "metadata": {},
   "outputs": [],
   "source": [
    "current_titles_in_df_curent_final.head()"
   ]
  },
  {
   "cell_type": "markdown",
   "metadata": {},
   "source": [
    "Define the missing titles...\n"
   ]
  },
  {
   "cell_type": "code",
   "execution_count": null,
   "metadata": {},
   "outputs": [],
   "source": [
    "def missing_titles_new(chosen_model_df):\n",
    "    zz = 0\n",
    "    missing_titles = []\n",
    "    for single_title in chosen_model_df['Title']:\n",
    "        found_titles = search_titles(current_titles_in_df_curent_final, single_title)\n",
    "        #print('found_titles: ', found_titles)\n",
    "        if found_titles.empty:\n",
    "            missing_titles.append(single_title)\n",
    "        sttr = f\"nr: {zz}  Title: {single_title} DF empty: {found_titles.empty}\"\n",
    "        #print(sttr)\n",
    "        zz = zz+1\n",
    "    return missing_titles"
   ]
  },
  {
   "cell_type": "code",
   "execution_count": null,
   "metadata": {},
   "outputs": [],
   "source": [
    "missing_titles = missing_titles_new(chosen_model_df)\n",
    "missing_titles[20:30]"
   ]
  },
  {
   "cell_type": "markdown",
   "metadata": {},
   "source": [
    "Specify the search\n"
   ]
  },
  {
   "cell_type": "code",
   "execution_count": null,
   "metadata": {},
   "outputs": [],
   "source": [
    "search_string = 'asshole'\n",
    "df_curent_final.loc[search_titles(current_titles_in_df_curent_final, search_string).index[0].item()]"
   ]
  },
  {
   "cell_type": "markdown",
   "metadata": {},
   "source": [
    "# Bridgette B --> finished (temporary)"
   ]
  },
  {
   "cell_type": "code",
   "execution_count": null,
   "metadata": {},
   "outputs": [],
   "source": [
    "# Individually adjusted\n",
    "actual_ps = 'Bridgette B'\n",
    "chosen_model_brazz_site = ['https://www.brazzers.com/videos/models/371/bridgette-b/page/']\n",
    "max_page_len_of_chosen_model = [5]"
   ]
  },
  {
   "cell_type": "markdown",
   "metadata": {},
   "source": [
    "Get df from braz site for the actual ps"
   ]
  },
  {
   "cell_type": "code",
   "execution_count": null,
   "metadata": {},
   "outputs": [],
   "source": [
    "from create_df_actual_ps import create_df_actual_ps\n",
    "chosen_model_df = create_df_actual_ps(actual_ps, chosen_model_brazz_site, max_page_len_of_chosen_model)"
   ]
  },
  {
   "cell_type": "markdown",
   "metadata": {},
   "source": [
    "Define function for help"
   ]
  },
  {
   "cell_type": "code",
   "execution_count": null,
   "metadata": {},
   "outputs": [],
   "source": [
    "# def search_titles(dataFrame, search_string):\n",
    "#     mask = (dataFrame.applymap(lambda x: isinstance(x, str) and search_string in x)).any(1)\n",
    "#     #print('mask: ', dataFrame[mask]['Title'])\n",
    "#     return dataFrame[mask]#['Title']"
   ]
  },
  {
   "cell_type": "code",
   "execution_count": null,
   "metadata": {},
   "outputs": [],
   "source": [
    "import pandas as pd\n",
    "df_curent_final = pd.read_csv('df_final_my_db_21_09_22.csv', index_col=[0])\n",
    "current_titles_in_df_curent_final = df_curent_final[(df_curent_final['PS1'] == actual_ps) |\n",
    "                                                    (df_curent_final['PS2'] == actual_ps) |\n",
    "                                                    (df_curent_final['PS3'] == actual_ps) |\n",
    "                                                    (df_curent_final['PS4'] == actual_ps) |\n",
    "                                                    (df_curent_final['PS5'] == actual_ps) |\n",
    "                                                    (df_curent_final['PS6'] == actual_ps) |\n",
    "                                                    (df_curent_final['PS7'] == actual_ps) |\n",
    "                                                    (df_curent_final['PS8'] == actual_ps) |\n",
    "                                                    (df_curent_final['PS9'] == actual_ps) |\n",
    "                                                    (df_curent_final['PS10'] == actual_ps)][['Title']]"
   ]
  },
  {
   "cell_type": "code",
   "execution_count": null,
   "metadata": {},
   "outputs": [],
   "source": [
    "len(df_curent_final), len(current_titles_in_df_curent_final), len(chosen_model_df)"
   ]
  },
  {
   "cell_type": "code",
   "execution_count": null,
   "metadata": {},
   "outputs": [],
   "source": [
    "current_titles_in_df_curent_final.head()"
   ]
  },
  {
   "cell_type": "markdown",
   "metadata": {},
   "source": [
    "Define the function for getting the missing titles."
   ]
  },
  {
   "cell_type": "code",
   "execution_count": null,
   "metadata": {},
   "outputs": [],
   "source": [
    "def missing_titles_new(chosen_model_df):\n",
    "    zz = 0\n",
    "    missing_titles = []\n",
    "    for single_title in chosen_model_df['Title']:\n",
    "        found_titles = search_titles(current_titles_in_df_curent_final, single_title)\n",
    "        #print('found_titles: ', found_titles)\n",
    "        if found_titles.empty:\n",
    "            missing_titles.append(single_title)\n",
    "        sttr = f\"nr: {zz}  Title: {single_title} DF empty: {found_titles.empty}\"\n",
    "        #print(sttr)\n",
    "        zz = zz+1\n",
    "    return missing_titles\n"
   ]
  },
  {
   "cell_type": "markdown",
   "metadata": {},
   "source": [
    "Get the list of missing titles."
   ]
  },
  {
   "cell_type": "code",
   "execution_count": null,
   "metadata": {},
   "outputs": [],
   "source": [
    "missing_titles = missing_titles_new(chosen_model_df)\n",
    "missing_titles[:]"
   ]
  },
  {
   "cell_type": "markdown",
   "metadata": {},
   "source": [
    "Specify the search ... look at special strings.."
   ]
  },
  {
   "cell_type": "code",
   "execution_count": null,
   "metadata": {},
   "outputs": [],
   "source": [
    "search_string = 'bonus'\n",
    "df_curent_final.loc[search_titles(current_titles_in_df_curent_final, search_string).index[0].item()]"
   ]
  },
  {
   "cell_type": "markdown",
   "metadata": {},
   "source": [
    "# Britney Shannon --> finished"
   ]
  },
  {
   "cell_type": "code",
   "execution_count": null,
   "metadata": {},
   "outputs": [],
   "source": [
    "# Individually adjusted\n",
    "actual_ps = 'Britney Shannon'\n",
    "chosen_model_brazz_site = ['https://www.brazzers.com/videos/models/26966/britney-shannon/page/']\n",
    "max_page_len_of_chosen_model = [1]\n",
    "# from create_df_actual_ps import create_df_actual_ps\n",
    "chosen_model_df = create_df_actual_ps(actual_ps, chosen_model_brazz_site, max_page_len_of_chosen_model)"
   ]
  },
  {
   "cell_type": "markdown",
   "metadata": {},
   "source": [
    "Import the df_final for getting the missing titles"
   ]
  },
  {
   "cell_type": "code",
   "execution_count": null,
   "metadata": {},
   "outputs": [],
   "source": [
    "df_curent_final = pd.read_csv('df_final_my_db_21_09_22.csv', index_col=[0])\n",
    "current_titles_in_df_curent_final = df_curent_final[(df_curent_final['PS1'] == actual_ps) |\n",
    "                                                    (df_curent_final['PS2'] == actual_ps) |\n",
    "                                                    (df_curent_final['PS3'] == actual_ps) |\n",
    "                                                    (df_curent_final['PS4'] == actual_ps) |\n",
    "                                                    (df_curent_final['PS5'] == actual_ps) |\n",
    "                                                    (df_curent_final['PS6'] == actual_ps) |\n",
    "                                                    (df_curent_final['PS7'] == actual_ps) |\n",
    "                                                    (df_curent_final['PS8'] == actual_ps) |\n",
    "                                                    (df_curent_final['PS9'] == actual_ps) |\n",
    "                                                    (df_curent_final['PS10'] == actual_ps)][['Title']]"
   ]
  },
  {
   "cell_type": "markdown",
   "metadata": {},
   "source": [
    "Get information about the counts of titles.."
   ]
  },
  {
   "cell_type": "code",
   "execution_count": null,
   "metadata": {},
   "outputs": [],
   "source": [
    "print(f'Count of df_current_final: {len(df_curent_final)}')\n",
    "print(f'Current_titles in df_final of {actual_ps}: {len(current_titles_in_df_curent_final)}')\n",
    "print(f'Count of {actual_ps} of braz_sides: {len(chosen_model_df)}')\n",
    "print(f'==')"
   ]
  },
  {
   "cell_type": "markdown",
   "metadata": {},
   "source": [
    "Getting list of missing titles"
   ]
  },
  {
   "cell_type": "code",
   "execution_count": null,
   "metadata": {},
   "outputs": [],
   "source": [
    "missing_titles = missing_titles_new(chosen_model_df)\n",
    "missing_titles[:]"
   ]
  },
  {
   "cell_type": "code",
   "execution_count": null,
   "metadata": {},
   "outputs": [],
   "source": [
    "current_titles_in_df_curent_final"
   ]
  },
  {
   "cell_type": "markdown",
   "metadata": {},
   "source": [
    "# Carmella Bing --> finished"
   ]
  },
  {
   "cell_type": "code",
   "execution_count": null,
   "metadata": {},
   "outputs": [],
   "source": [
    "# Individually adjusted\n",
    "actual_ps = 'Carmella Bing'\n",
    "chosen_model_brazz_site = ['https://www.brazzers.com/videos/models/2643/carmella-bing/page/']\n",
    "max_page_len_of_chosen_model = [2]\n",
    "# from create_df_actual_ps import create_df_actual_ps\n",
    "chosen_model_df = create_df_actual_ps(actual_ps, chosen_model_brazz_site, max_page_len_of_chosen_model)"
   ]
  },
  {
   "cell_type": "code",
   "execution_count": null,
   "metadata": {},
   "outputs": [],
   "source": [
    "df_curent_final = pd.read_csv('df_final_my_db_21_09_22.csv', index_col=[0])\n",
    "current_titles_in_df_curent_final = df_curent_final[(df_curent_final['PS1'] == actual_ps) |\n",
    "                                                    (df_curent_final['PS2'] == actual_ps) |\n",
    "                                                    (df_curent_final['PS3'] == actual_ps) |\n",
    "                                                    (df_curent_final['PS4'] == actual_ps) |\n",
    "                                                    (df_curent_final['PS5'] == actual_ps) |\n",
    "                                                    (df_curent_final['PS6'] == actual_ps) |\n",
    "                                                    (df_curent_final['PS7'] == actual_ps) |\n",
    "                                                    (df_curent_final['PS8'] == actual_ps) |\n",
    "                                                    (df_curent_final['PS9'] == actual_ps) |\n",
    "                                                    (df_curent_final['PS10'] == actual_ps)][['Title']]"
   ]
  },
  {
   "cell_type": "markdown",
   "metadata": {},
   "source": [
    "Getting information about the titles"
   ]
  },
  {
   "cell_type": "code",
   "execution_count": null,
   "metadata": {},
   "outputs": [],
   "source": [
    "print(f'Count of df_current_final: {len(df_curent_final)}')\n",
    "print(f'Current_titles in df_final of {actual_ps}: {len(current_titles_in_df_curent_final)}')\n",
    "print(f'Count of {actual_ps} of braz_sides: {len(chosen_model_df)}')\n",
    "print(f'==')"
   ]
  },
  {
   "cell_type": "markdown",
   "metadata": {},
   "source": [
    "Missing titles..."
   ]
  },
  {
   "cell_type": "code",
   "execution_count": null,
   "metadata": {},
   "outputs": [],
   "source": [
    "missing_titles = missing_titles_new(chosen_model_df)\n",
    "missing_titles[:]"
   ]
  },
  {
   "cell_type": "markdown",
   "metadata": {},
   "source": [
    "Specify the search..."
   ]
  },
  {
   "cell_type": "code",
   "execution_count": null,
   "metadata": {},
   "outputs": [],
   "source": [
    "search_string = 'job'\n",
    "df_curent_final.loc[search_titles(current_titles_in_df_curent_final, search_string).index[0].item()]"
   ]
  },
  {
   "cell_type": "markdown",
   "metadata": {},
   "source": [
    "# Cathy Heaven"
   ]
  },
  {
   "cell_type": "code",
   "execution_count": null,
   "metadata": {},
   "outputs": [],
   "source": [
    "# Individually adjusted\n",
    "actual_ps = 'Cathy Heaven'\n",
    "chosen_model_brazz_site = ['https://www.brazzers.com/videos/models/4769/cathy-heaven/page/']\n",
    "max_page_len_of_chosen_model = [1]\n",
    "# from create_df_actual_ps import create_df_actual_ps\n",
    "chosen_model_df = create_df_actual_ps(actual_ps, chosen_model_brazz_site, max_page_len_of_chosen_model)"
   ]
  },
  {
   "cell_type": "code",
   "execution_count": null,
   "metadata": {},
   "outputs": [],
   "source": [
    "df_curent_final = pd.read_csv('df_final_my_db_21_09_22.csv', index_col=[0])\n",
    "current_titles_in_df_curent_final = df_curent_final[(df_curent_final['PS1'] == actual_ps) |\n",
    "                                                    (df_curent_final['PS2'] == actual_ps) |\n",
    "                                                    (df_curent_final['PS3'] == actual_ps) |\n",
    "                                                    (df_curent_final['PS4'] == actual_ps) |\n",
    "                                                    (df_curent_final['PS5'] == actual_ps) |\n",
    "                                                    (df_curent_final['PS6'] == actual_ps) |\n",
    "                                                    (df_curent_final['PS7'] == actual_ps) |\n",
    "                                                    (df_curent_final['PS8'] == actual_ps) |\n",
    "                                                    (df_curent_final['PS9'] == actual_ps) |\n",
    "                                                    (df_curent_final['PS10'] == actual_ps)][['Title']]"
   ]
  },
  {
   "cell_type": "markdown",
   "metadata": {},
   "source": [
    "Getting infos about titles"
   ]
  },
  {
   "cell_type": "code",
   "execution_count": null,
   "metadata": {},
   "outputs": [],
   "source": [
    "print(f'Count of df_current_final: {len(df_curent_final)}')\n",
    "print(f'Current_titles in df_final of {actual_ps}: {len(current_titles_in_df_curent_final)}')\n",
    "print(f'Count of {actual_ps} of braz_sides: {len(chosen_model_df)}')\n",
    "print(f'==')"
   ]
  },
  {
   "cell_type": "code",
   "execution_count": null,
   "metadata": {},
   "outputs": [],
   "source": [
    "missing_titles = missing_titles_new(chosen_model_df)\n",
    "missing_titles[:]"
   ]
  },
  {
   "cell_type": "markdown",
   "metadata": {},
   "source": [
    "Specify the search"
   ]
  },
  {
   "cell_type": "code",
   "execution_count": null,
   "metadata": {},
   "outputs": [],
   "source": [
    "search_string = 'heavenly'\n",
    "df_curent_final.loc[search_titles(current_titles_in_df_curent_final, search_string).index[0].item()]"
   ]
  },
  {
   "cell_type": "code",
   "execution_count": null,
   "metadata": {},
   "outputs": [],
   "source": [
    "current_titles_in_df_curent_final"
   ]
  },
  {
   "cell_type": "markdown",
   "metadata": {},
   "source": [
    "****"
   ]
  },
  {
   "cell_type": "markdown",
   "metadata": {},
   "source": [
    "# Kendra Lust --> finished (temporary)"
   ]
  },
  {
   "cell_type": "code",
   "execution_count": null,
   "metadata": {},
   "outputs": [],
   "source": [
    "# Individually adjusted\n",
    "actual_ps = 'Kendra Lust'\n",
    "chosen_model_brazz_site = ['https://www.brazzers.com/videos/models/2617/kendra-lust/']\n",
    "max_page_len_of_chosen_model = [3]\n",
    "# from create_df_actual_ps import create_df_actual_ps\n",
    "chosen_model_df = create_df_actual_ps(actual_ps, chosen_model_brazz_site, max_page_len_of_chosen_model)"
   ]
  },
  {
   "cell_type": "code",
   "execution_count": null,
   "metadata": {},
   "outputs": [],
   "source": [
    "df_curent_final = pd.read_csv('df_final_my_db_22_09_22.csv', index_col=[0])\n",
    "current_titles_in_df_curent_final = df_curent_final[(df_curent_final['PS1'] == actual_ps) |\n",
    "                                                    (df_curent_final['PS2'] == actual_ps) |\n",
    "                                                    (df_curent_final['PS3'] == actual_ps) |\n",
    "                                                    (df_curent_final['PS4'] == actual_ps) |\n",
    "                                                    (df_curent_final['PS5'] == actual_ps) |\n",
    "                                                    (df_curent_final['PS6'] == actual_ps) |\n",
    "                                                    (df_curent_final['PS7'] == actual_ps) |\n",
    "                                                    (df_curent_final['PS8'] == actual_ps) |\n",
    "                                                    (df_curent_final['PS9'] == actual_ps) |\n",
    "                                                    (df_curent_final['PS10'] == actual_ps)][['Title']]"
   ]
  },
  {
   "cell_type": "markdown",
   "metadata": {},
   "source": [
    "Getting infos of the titles"
   ]
  },
  {
   "cell_type": "code",
   "execution_count": null,
   "metadata": {},
   "outputs": [],
   "source": [
    "print(f'Count of df_current_final: {len(df_curent_final)}')\n",
    "print(f'Current_titles in df_final of {actual_ps}: {len(current_titles_in_df_curent_final)}')\n",
    "print(f'Count of {actual_ps} of braz_sides: {len(chosen_model_df)}')\n",
    "print(f'==')"
   ]
  },
  {
   "cell_type": "code",
   "execution_count": null,
   "metadata": {},
   "outputs": [],
   "source": [
    "missing_titles = missing_titles_new(chosen_model_df)\n",
    "missing_titles[:]"
   ]
  },
  {
   "cell_type": "markdown",
   "metadata": {},
   "source": [
    "Specify the search"
   ]
  },
  {
   "cell_type": "code",
   "execution_count": null,
   "metadata": {},
   "outputs": [],
   "source": [
    "search_string = 'garden'\n",
    "df_curent_final.loc[search_titles(current_titles_in_df_curent_final, search_string).index[0].item()]"
   ]
  },
  {
   "cell_type": "markdown",
   "metadata": {},
   "source": [
    "# Romi Rain --> finished (temporary)"
   ]
  },
  {
   "cell_type": "code",
   "execution_count": 68,
   "metadata": {},
   "outputs": [
    {
     "name": "stdout",
     "output_type": "stream",
     "text": [
      "max.. 4\n",
      "page_nr:  1\n",
      "scanning Site: https://www.brazzers.com/videos/models/3431/romi-rain/page/1, Response: <Response [200]>\n",
      "page_nr:  2\n",
      "scanning Site: https://www.brazzers.com/videos/models/3431/romi-rain/page/2, Response: <Response [200]>\n",
      "page_nr:  3\n",
      "scanning Site: https://www.brazzers.com/videos/models/3431/romi-rain/page/3, Response: <Response [200]>\n",
      "page_nr:  4\n",
      "scanning Site: https://www.brazzers.com/videos/models/3431/romi-rain/page/4, Response: <Response [200]>\n",
      "count of titles:  82\n"
     ]
    }
   ],
   "source": [
    "# Individually adjusted\n",
    "actual_ps = 'Romi Rain'\n",
    "chosen_model_brazz_site = ['https://www.brazzers.com/videos/models/3431/romi-rain/page/']\n",
    "max_page_len_of_chosen_model = [4]\n",
    "# from create_df_actual_ps import create_df_actual_ps\n",
    "chosen_model_df = create_df_actual_ps(actual_ps, chosen_model_brazz_site, max_page_len_of_chosen_model)"
   ]
  },
  {
   "cell_type": "code",
   "execution_count": 69,
   "metadata": {},
   "outputs": [],
   "source": [
    "df_curent_final = pd.read_csv('df_final_my_db_26_09_22.csv', index_col=[0])\n",
    "current_titles_in_df_curent_final = df_curent_final[(df_curent_final['PS1'] == actual_ps) |\n",
    "                                                    (df_curent_final['PS2'] == actual_ps) |\n",
    "                                                    (df_curent_final['PS3'] == actual_ps) |\n",
    "                                                    (df_curent_final['PS4'] == actual_ps) |\n",
    "                                                    (df_curent_final['PS5'] == actual_ps) |\n",
    "                                                    (df_curent_final['PS6'] == actual_ps) |\n",
    "                                                    (df_curent_final['PS7'] == actual_ps) |\n",
    "                                                    (df_curent_final['PS8'] == actual_ps) |\n",
    "                                                    (df_curent_final['PS9'] == actual_ps) |\n",
    "                                                    (df_curent_final['PS10'] == actual_ps)][['Title']]"
   ]
  },
  {
   "cell_type": "markdown",
   "metadata": {},
   "source": [
    "Getting infos about the titles"
   ]
  },
  {
   "cell_type": "code",
   "execution_count": 70,
   "metadata": {},
   "outputs": [
    {
     "name": "stdout",
     "output_type": "stream",
     "text": [
      "Count of df_current_final: 1831\n",
      "Current_titles in df_final of Romi Rain: 57\n",
      "Count of Romi Rain of braz_sides: 82\n",
      "==\n"
     ]
    }
   ],
   "source": [
    "print(f'Count of df_current_final: {len(df_curent_final)}')\n",
    "print(f'Current_titles in df_final of {actual_ps}: {len(current_titles_in_df_curent_final)}')\n",
    "print(f'Count of {actual_ps} of braz_sides: {len(chosen_model_df)}')\n",
    "print(f'==')"
   ]
  },
  {
   "cell_type": "code",
   "execution_count": 72,
   "metadata": {},
   "outputs": [
    {
     "data": {
      "text/plain": [
       "['best_of_brazzers_happy_halloween',\n",
       " 'the_last_dick_on_earth_remastered',\n",
       " 'spotting_her_ass',\n",
       " 'brazzibots_uprising_part_4',\n",
       " 'honey_its_not_what_you_think',\n",
       " 'xanders_world_tour_ep_3',\n",
       " 'queen_of_thrones_part_3_a_xxx_parody',\n",
       " 'queen_of_thrones_part_2_a_xxx_parody',\n",
       " 'good_wife_bad_wife',\n",
       " 'romi_rachel',\n",
       " 'punishable_behavior',\n",
       " 'power_bangers_a_xxx_parody_part_3',\n",
       " 'ghostbusters_xxx_parody_part_4',\n",
       " 'ghostbusters_xxx_parody_part_2',\n",
       " 'bibliotcaria_tetona',\n",
       " 'deadly_rain_part_four',\n",
       " 'deadly_rain_part_three',\n",
       " 'regalo_de_bodas_anticipado_para_romi',\n",
       " 'deadly_rain_part_two',\n",
       " 'deadly_rain_part_one',\n",
       " 'brazzers_house_orgy_finale',\n",
       " 'brazzers_house_behind_the_scenes',\n",
       " 'brazzers_house_sex_challenge',\n",
       " 'brazzers_house_episode_five',\n",
       " 'brazzers_house_episode_four',\n",
       " 'brazzers_house_episode_three',\n",
       " 'brazzers_house_episode_two',\n",
       " 'brazzers_house_episode_one',\n",
       " 'girl_fight',\n",
       " 'break_up_sex',\n",
       " 'kiss_my_ass_tat']"
      ]
     },
     "execution_count": 72,
     "metadata": {},
     "output_type": "execute_result"
    }
   ],
   "source": [
    "missing_titles = missing_titles_new(chosen_model_df)\n",
    "missing_titles[:]"
   ]
  },
  {
   "cell_type": "markdown",
   "metadata": {},
   "source": [
    "Specify the search"
   ]
  },
  {
   "cell_type": "code",
   "execution_count": 75,
   "metadata": {},
   "outputs": [
    {
     "data": {
      "text/plain": [
       "Site                                        Doctor Adventures\n",
       "PS1                                                 Romi Rain\n",
       "PS2                                                   No Name\n",
       "PS3                                                   No Name\n",
       "Title                                  rockn_roll_nurse_1080p\n",
       "PS4                                                   No Name\n",
       "PS5                                                   No Name\n",
       "PS6                                                   No Name\n",
       "PS7                                                   No Name\n",
       "PS8                                                   No Name\n",
       "PS9                                                   No Name\n",
       "PS10                                                  No Name\n",
       "Location                                          WERDERNAS2X\n",
       "Link        /Volumes/WERDERNAS2X/VIDEOS2X/BRAZZERS2/doctor...\n",
       "Name: 1749, dtype: object"
      ]
     },
     "execution_count": 75,
     "metadata": {},
     "output_type": "execute_result"
    }
   ],
   "source": [
    "search_string = 'nurse'\n",
    "df_curent_final.loc[search_titles(current_titles_in_df_curent_final, search_string).index[0].item()]"
   ]
  },
  {
   "cell_type": "markdown",
   "metadata": {},
   "source": [
    "# Holly Halston --> finished (temporary)"
   ]
  },
  {
   "cell_type": "code",
   "execution_count": 3,
   "metadata": {},
   "outputs": [
    {
     "name": "stdout",
     "output_type": "stream",
     "text": [
      "max.. 2\n",
      "page_nr:  1\n",
      "scanning Site: https://www.brazzers.com/videos/models/3681/holly-halston/page/1, Response: <Response [200]>\n",
      "page_nr:  2\n",
      "scanning Site: https://www.brazzers.com/videos/models/3681/holly-halston/page/2, Response: <Response [200]>\n",
      "count of titles:  31\n"
     ]
    }
   ],
   "source": [
    "# Individually adjusted\n",
    "actual_ps = 'Holly Halston'\n",
    "chosen_model_brazz_site = ['https://www.brazzers.com/videos/models/3681/holly-halston/page/']\n",
    "max_page_len_of_chosen_model = [2]\n",
    "# from create_df_actual_ps import create_df_actual_ps\n",
    "chosen_model_df = create_df_actual_ps(actual_ps, chosen_model_brazz_site, max_page_len_of_chosen_model)"
   ]
  },
  {
   "cell_type": "code",
   "execution_count": 8,
   "metadata": {},
   "outputs": [],
   "source": [
    "df_curent_final = pd.read_csv('df_final_my_db_30_09_22.csv', index_col=[0])\n",
    "current_titles_in_df_curent_final = df_curent_final[(df_curent_final['PS1'] == actual_ps) |\n",
    "                                                    (df_curent_final['PS2'] == actual_ps) |\n",
    "                                                    (df_curent_final['PS3'] == actual_ps) |\n",
    "                                                    (df_curent_final['PS4'] == actual_ps) |\n",
    "                                                    (df_curent_final['PS5'] == actual_ps) |\n",
    "                                                    (df_curent_final['PS6'] == actual_ps) |\n",
    "                                                    (df_curent_final['PS7'] == actual_ps) |\n",
    "                                                    (df_curent_final['PS8'] == actual_ps) |\n",
    "                                                    (df_curent_final['PS9'] == actual_ps) |\n",
    "                                                    (df_curent_final['PS10'] == actual_ps)][['Title']]"
   ]
  },
  {
   "cell_type": "markdown",
   "metadata": {},
   "source": [
    "Infos about the titles"
   ]
  },
  {
   "cell_type": "code",
   "execution_count": 9,
   "metadata": {},
   "outputs": [
    {
     "name": "stdout",
     "output_type": "stream",
     "text": [
      "Count of df_current_final: 1843\n",
      "Current_titles in df_final of Holly Halston: 30\n",
      "Count of Holly Halston of braz_sides: 31\n",
      "==\n"
     ]
    }
   ],
   "source": [
    "print(f'Count of df_current_final: {len(df_curent_final)}')\n",
    "print(f'Current_titles in df_final of {actual_ps}: {len(current_titles_in_df_curent_final)}')\n",
    "print(f'Count of {actual_ps} of braz_sides: {len(chosen_model_df)}')\n",
    "print(f'==')"
   ]
  },
  {
   "cell_type": "code",
   "execution_count": 10,
   "metadata": {},
   "outputs": [
    {
     "data": {
      "text/plain": [
       "['like_mother_dyke_daughter',\n",
       " 'fuck_you_pig',\n",
       " 'ass_aerobics_101',\n",
       " 'oily_hard_ass_fuck',\n",
       " 'bustin_out',\n",
       " 'busty_and_spectacular']"
      ]
     },
     "execution_count": 10,
     "metadata": {},
     "output_type": "execute_result"
    }
   ],
   "source": [
    "missing_titles = missing_titles_new(chosen_model_df)\n",
    "missing_titles[:]"
   ]
  },
  {
   "cell_type": "markdown",
   "metadata": {},
   "source": [
    "Specify the search"
   ]
  },
  {
   "cell_type": "code",
   "execution_count": 9,
   "metadata": {},
   "outputs": [
    {
     "data": {
      "text/plain": [
       "Site                                         Big Tits At Work\n",
       "PS1                                             Holly Halston\n",
       "PS2                                                   No Name\n",
       "PS3                                                   No Name\n",
       "Title                            ribbon_cunting_ceremony_720p\n",
       "PS4                                                   No Name\n",
       "PS5                                                   No Name\n",
       "PS6                                                   No Name\n",
       "PS7                                                   No Name\n",
       "PS8                                                   No Name\n",
       "PS9                                                   No Name\n",
       "PS10                                                  No Name\n",
       "Location                                           WERDERNASX\n",
       "Link        /Volumes/WERDERNASX/VIDEOSX/BRAZZERS/big_tits_...\n",
       "Name: 316, dtype: object"
      ]
     },
     "execution_count": 9,
     "metadata": {},
     "output_type": "execute_result"
    }
   ],
   "source": [
    "search_string = 'ribbon'\n",
    "df_curent_final.loc[search_titles(current_titles_in_df_curent_final, search_string).index[0].item()]"
   ]
  },
  {
   "cell_type": "markdown",
   "metadata": {},
   "source": [
    "# Nicolette Shea (awesome) --> finished"
   ]
  },
  {
   "cell_type": "code",
   "execution_count": 3,
   "metadata": {},
   "outputs": [
    {
     "name": "stdout",
     "output_type": "stream",
     "text": [
      "max.. 4\n",
      "page_nr:  1\n",
      "scanning Site: https://www.brazzers.com/videos/models/12837/nicolette-shea/page/1, Response: <Response [200]>\n",
      "page_nr:  2\n",
      "scanning Site: https://www.brazzers.com/videos/models/12837/nicolette-shea/page/2, Response: <Response [200]>\n",
      "page_nr:  3\n",
      "scanning Site: https://www.brazzers.com/videos/models/12837/nicolette-shea/page/3, Response: <Response [200]>\n",
      "page_nr:  4\n",
      "scanning Site: https://www.brazzers.com/videos/models/12837/nicolette-shea/page/4, Response: <Response [200]>\n",
      "count of titles:  79\n"
     ]
    }
   ],
   "source": [
    "# Individually adjusted\n",
    "actual_ps = 'Nicolette Shea'\n",
    "chosen_model_brazz_site = ['https://www.brazzers.com/videos/models/12837/nicolette-shea/page/']\n",
    "max_page_len_of_chosen_model = [4]\n",
    "# from create_df_actual_ps import create_df_actual_ps\n",
    "chosen_model_df = create_df_actual_ps(actual_ps, chosen_model_brazz_site, max_page_len_of_chosen_model)"
   ]
  },
  {
   "cell_type": "code",
   "execution_count": 39,
   "metadata": {},
   "outputs": [],
   "source": [
    "df_curent_final = pd.read_csv('df_final_my_db_30_09_22.csv', index_col=[0])\n",
    "current_titles_in_df_curent_final = df_curent_final[(df_curent_final['PS1'] == actual_ps) |\n",
    "                                                    (df_curent_final['PS2'] == actual_ps) |\n",
    "                                                    (df_curent_final['PS3'] == actual_ps) |\n",
    "                                                    (df_curent_final['PS4'] == actual_ps) |\n",
    "                                                    (df_curent_final['PS5'] == actual_ps) |\n",
    "                                                    (df_curent_final['PS6'] == actual_ps) |\n",
    "                                                    (df_curent_final['PS7'] == actual_ps) |\n",
    "                                                    (df_curent_final['PS8'] == actual_ps) |\n",
    "                                                    (df_curent_final['PS9'] == actual_ps) |\n",
    "                                                    (df_curent_final['PS10'] == actual_ps)][['Title']]"
   ]
  },
  {
   "cell_type": "markdown",
   "metadata": {},
   "source": [
    "Infos about the titles"
   ]
  },
  {
   "cell_type": "code",
   "execution_count": 40,
   "metadata": {},
   "outputs": [
    {
     "name": "stdout",
     "output_type": "stream",
     "text": [
      "Count of df_current_final: 1859\n",
      "Current_titles in df_final of Nicolette Shea: 60\n",
      "Count of Nicolette Shea of braz_sides: 79\n",
      "==\n"
     ]
    }
   ],
   "source": [
    "print(f'Count of df_current_final: {len(df_curent_final)}')\n",
    "print(f'Current_titles in df_final of {actual_ps}: {len(current_titles_in_df_curent_final)}')\n",
    "print(f'Count of {actual_ps} of braz_sides: {len(chosen_model_df)}')\n",
    "print(f'==')"
   ]
  },
  {
   "cell_type": "code",
   "execution_count": 41,
   "metadata": {},
   "outputs": [
    {
     "data": {
      "text/plain": [
       "['its_not_all_about_beauty',\n",
       " 'best_of_brazzers_summer_edition',\n",
       " 'best_of_brazzers_sneakiest_moments',\n",
       " 'put_your_body_into_it',\n",
       " 'harlots_of_hell',\n",
       " 'cuntceptual_art',\n",
       " 'piano_pussy_practice',\n",
       " 'brazzi_bots_part_4',\n",
       " 'brazzi_bots_part_2',\n",
       " 'nicolette_saves_the_world_part_1',\n",
       " 'brazzers_house_3_finale',\n",
       " 'brazzers_house_3_unseen_moments',\n",
       " 'brazzers_house_3_episode_4',\n",
       " 'brazzers_house_3_episode_3',\n",
       " 'brazzers_house_3_episode_2',\n",
       " 'insubordinate_sub',\n",
       " 'brazzers_house_3_episode_1',\n",
       " 'ms_nicolettes_academy_for_exceptional_women',\n",
       " 'showing_her_whos_boss']"
      ]
     },
     "execution_count": 41,
     "metadata": {},
     "output_type": "execute_result"
    }
   ],
   "source": [
    "missing_titles = missing_titles_new(chosen_model_df)\n",
    "missing_titles[:]"
   ]
  },
  {
   "cell_type": "markdown",
   "metadata": {},
   "source": [
    "Specify the search"
   ]
  },
  {
   "cell_type": "code",
   "execution_count": 31,
   "metadata": {},
   "outputs": [
    {
     "data": {
      "text/plain": [
       "Site                                           Brazzers Extra\n",
       "PS1                                            Nicolette Shea\n",
       "PS2                                                   No Name\n",
       "PS3                                                   No Name\n",
       "Title                                   brand_new_bimbo_1080p\n",
       "PS4                                                   No Name\n",
       "PS5                                                   No Name\n",
       "PS6                                                   No Name\n",
       "PS7                                                   No Name\n",
       "PS8                                                   No Name\n",
       "PS9                                                   No Name\n",
       "PS10                                                  No Name\n",
       "Location                                          WERDERNAS2X\n",
       "Link        /Volumes/WERDERNAS2X/VIDEOS2X/BRAZZERS2/brazze...\n",
       "Name: 1716, dtype: object"
      ]
     },
     "execution_count": 31,
     "metadata": {},
     "output_type": "execute_result"
    }
   ],
   "source": [
    "search_string = 'bimbo'\n",
    "df_curent_final.loc[search_titles(current_titles_in_df_curent_final, search_string).index[0].item()]"
   ]
  },
  {
   "cell_type": "code",
   "execution_count": 34,
   "metadata": {},
   "outputs": [
    {
     "data": {
      "text/plain": [
       "Site                                           Brazzers Extra\n",
       "PS1                                            Nicolette Shea\n",
       "PS2                                                   No Name\n",
       "PS3                                                   No Name\n",
       "Title                             1_800_phone_sex_line 5_720p\n",
       "PS4                                                   No Name\n",
       "PS5                                                   No Name\n",
       "PS6                                                   No Name\n",
       "PS7                                                   No Name\n",
       "PS8                                                   No Name\n",
       "PS9                                                   No Name\n",
       "PS10                                                  No Name\n",
       "Location                                          WERDERNAS2X\n",
       "Link        /Volumes/WERDERNAS2X/VIDEOS2X/BRAZZERS2/brazze...\n",
       "Name: 1715, dtype: object"
      ]
     },
     "execution_count": 34,
     "metadata": {},
     "output_type": "execute_result"
    }
   ],
   "source": [
    "df_curent_final.iloc[1715]"
   ]
  },
  {
   "cell_type": "markdown",
   "metadata": {},
   "source": [
    "# Jayden Jaymes (awesome) --> finished"
   ]
  },
  {
   "cell_type": "code",
   "execution_count": 3,
   "metadata": {},
   "outputs": [
    {
     "name": "stdout",
     "output_type": "stream",
     "text": [
      "max.. 2\n",
      "page_nr:  1\n",
      "scanning Site: https://www.brazzers.com/videos/models/4457/jayden-jaymes/page1, Response: <Response [200]>\n",
      "page_nr:  2\n",
      "scanning Site: https://www.brazzers.com/videos/models/4457/jayden-jaymes/page2, Response: <Response [200]>\n",
      "count of titles:  48\n"
     ]
    }
   ],
   "source": [
    "# Individually adjusted\n",
    "actual_ps = 'Jayden Jaymes'\n",
    "chosen_model_brazz_site = ['https://www.brazzers.com/videos/models/4457/jayden-jaymes/page']\n",
    "max_page_len_of_chosen_model = [2]\n",
    "# from create_df_actual_ps import create_df_actual_ps\n",
    "chosen_model_df = create_df_actual_ps(actual_ps, chosen_model_brazz_site, max_page_len_of_chosen_model)"
   ]
  },
  {
   "cell_type": "code",
   "execution_count": 9,
   "metadata": {},
   "outputs": [],
   "source": [
    "df_curent_final = pd.read_csv('df_final_my_db_01_10_22.csv', index_col=[0])\n",
    "current_titles_in_df_curent_final = df_curent_final[(df_curent_final['PS1'] == actual_ps) |\n",
    "                                                    (df_curent_final['PS2'] == actual_ps) |\n",
    "                                                    (df_curent_final['PS3'] == actual_ps) |\n",
    "                                                    (df_curent_final['PS4'] == actual_ps) |\n",
    "                                                    (df_curent_final['PS5'] == actual_ps) |\n",
    "                                                    (df_curent_final['PS6'] == actual_ps) |\n",
    "                                                    (df_curent_final['PS7'] == actual_ps) |\n",
    "                                                    (df_curent_final['PS8'] == actual_ps) |\n",
    "                                                    (df_curent_final['PS9'] == actual_ps) |\n",
    "                                                    (df_curent_final['PS10'] == actual_ps)][['Title']]"
   ]
  },
  {
   "cell_type": "markdown",
   "metadata": {},
   "source": [
    "Infos about the title"
   ]
  },
  {
   "cell_type": "code",
   "execution_count": 10,
   "metadata": {},
   "outputs": [
    {
     "name": "stdout",
     "output_type": "stream",
     "text": [
      "Count of df_current_final: 1861\n",
      "Current_titles in df_final of Jayden Jaymes: 26\n",
      "Count of Jayden Jaymes of braz_sides: 48\n",
      "==\n"
     ]
    }
   ],
   "source": [
    "print(f'Count of df_current_final: {len(df_curent_final)}')\n",
    "print(f'Current_titles in df_final of {actual_ps}: {len(current_titles_in_df_curent_final)}')\n",
    "print(f'Count of {actual_ps} of braz_sides: {len(chosen_model_df)}')\n",
    "print(f'==')"
   ]
  },
  {
   "cell_type": "code",
   "execution_count": 12,
   "metadata": {},
   "outputs": [
    {
     "data": {
      "text/plain": [
       "['deja_que_mis_tetas_te_recompencen',\n",
       " 'otra_verga_dura_en_la_oficina',\n",
       " 'pago_amistoso',\n",
       " 'big_twits_in_uniform_danny_d_comes_to_america',\n",
       " 'cheerlickers',\n",
       " 'deja_que_mis_tetas_te_recompencen',\n",
       " 'otra_verga_dura_en_la_oficina',\n",
       " 'pago_amistoso',\n",
       " 'big_twits_in_uniform_danny_d_comes_to_america',\n",
       " 'cheerlickers']"
      ]
     },
     "execution_count": 12,
     "metadata": {},
     "output_type": "execute_result"
    }
   ],
   "source": [
    "missing_titles = missing_titles_new(chosen_model_df)\n",
    "missing_titles[:]   "
   ]
  },
  {
   "cell_type": "markdown",
   "metadata": {},
   "source": [
    "Specify the search"
   ]
  },
  {
   "cell_type": "code",
   "execution_count": 1,
   "metadata": {},
   "outputs": [
    {
     "ename": "NameError",
     "evalue": "name 'df_curent_final' is not defined",
     "output_type": "error",
     "traceback": [
      "\u001b[0;31m---------------------------------------------------------------------------\u001b[0m",
      "\u001b[0;31mNameError\u001b[0m                                 Traceback (most recent call last)",
      "Cell \u001b[0;32mIn [1], line 2\u001b[0m\n\u001b[1;32m      1\u001b[0m search_string \u001b[38;5;241m=\u001b[39m \u001b[38;5;124m'\u001b[39m\u001b[38;5;124mdream\u001b[39m\u001b[38;5;124m'\u001b[39m\n\u001b[0;32m----> 2\u001b[0m \u001b[43mdf_curent_final\u001b[49m\u001b[38;5;241m.\u001b[39mloc[search_titles(current_titles_in_df_curent_final, search_string)\u001b[38;5;241m.\u001b[39mindex[\u001b[38;5;241m0\u001b[39m]\u001b[38;5;241m.\u001b[39mitem()]\n",
      "\u001b[0;31mNameError\u001b[0m: name 'df_curent_final' is not defined"
     ]
    }
   ],
   "source": [
    "search_string = 'dream'\n",
    "df_curent_final.loc[search_titles(current_titles_in_df_curent_final, search_string).index[0].item()]"
   ]
  },
  {
   "cell_type": "markdown",
   "metadata": {},
   "source": [
    "# Stella Cox (awesome)"
   ]
  },
  {
   "cell_type": "code",
   "execution_count": 6,
   "metadata": {},
   "outputs": [
    {
     "name": "stdout",
     "output_type": "stream",
     "text": [
      "max.. 1\n",
      "page_nr:  1\n",
      "scanning Site: https://www.brazzers.com/videos/models/6967/stella-cox/page/1, Response: <Response [200]>\n",
      "count of titles:  8\n"
     ]
    }
   ],
   "source": [
    "# Individually adjusted\n",
    "actual_ps = 'Stella Cox'\n",
    "chosen_model_brazz_site = ['https://www.brazzers.com/videos/models/6967/stella-cox/page/']\n",
    "max_page_len_of_chosen_model = [1]\n",
    "# from create_df_actual_ps import create_df_actual_ps\n",
    "chosen_model_df = create_df_actual_ps(actual_ps, chosen_model_brazz_site, max_page_len_of_chosen_model)"
   ]
  },
  {
   "cell_type": "code",
   "execution_count": 7,
   "metadata": {},
   "outputs": [],
   "source": [
    "df_curent_final = pd.read_csv('df_final_my_db_01_10_22.csv', index_col=[0])\n",
    "current_titles_in_df_curent_final = df_curent_final[(df_curent_final['PS1'] == actual_ps) |\n",
    "                                                    (df_curent_final['PS2'] == actual_ps) |\n",
    "                                                    (df_curent_final['PS3'] == actual_ps) |\n",
    "                                                    (df_curent_final['PS4'] == actual_ps) |\n",
    "                                                    (df_curent_final['PS5'] == actual_ps) |\n",
    "                                                    (df_curent_final['PS6'] == actual_ps) |\n",
    "                                                    (df_curent_final['PS7'] == actual_ps) |\n",
    "                                                    (df_curent_final['PS8'] == actual_ps) |\n",
    "                                                    (df_curent_final['PS9'] == actual_ps) |\n",
    "                                                    (df_curent_final['PS10'] == actual_ps)][['Title']]"
   ]
  },
  {
   "cell_type": "markdown",
   "metadata": {},
   "source": [
    "Infos about the titles"
   ]
  },
  {
   "cell_type": "code",
   "execution_count": 8,
   "metadata": {},
   "outputs": [
    {
     "name": "stdout",
     "output_type": "stream",
     "text": [
      "Count of df_current_final: 1861\n",
      "Current_titles in df_final of Stella Cox: 7\n",
      "Count of Stella Cox of braz_sides: 8\n",
      "==\n"
     ]
    }
   ],
   "source": [
    "print(f'Count of df_current_final: {len(df_curent_final)}')\n",
    "print(f'Current_titles in df_final of {actual_ps}: {len(current_titles_in_df_curent_final)}')\n",
    "print(f'Count of {actual_ps} of braz_sides: {len(chosen_model_df)}')\n",
    "print(f'==')"
   ]
  },
  {
   "cell_type": "code",
   "execution_count": 9,
   "metadata": {},
   "outputs": [
    {
     "data": {
      "text/plain": [
       "['mi_madrastra_la_controladora']"
      ]
     },
     "execution_count": 9,
     "metadata": {},
     "output_type": "execute_result"
    }
   ],
   "source": [
    "missing_titles = missing_titles_new(chosen_model_df)\n",
    "missing_titles[:] "
   ]
  },
  {
   "cell_type": "code",
   "execution_count": 5,
   "metadata": {},
   "outputs": [
    {
     "name": "stderr",
     "output_type": "stream",
     "text": [
      "100%|██████████| 4/4 [00:04<00:00,  1.01s/it]\n"
     ]
    }
   ],
   "source": [
    "import tqdm\n",
    "import time\n",
    "for i in tqdm.tqdm([1, 2, 14, 5]):\n",
    "    time.sleep(1)"
   ]
  },
  {
   "cell_type": "code",
   "execution_count": null,
   "metadata": {},
   "outputs": [],
   "source": []
  }
 ],
 "metadata": {
  "kernelspec": {
   "display_name": "Python 3.10.4 ('pyside2_dev')",
   "language": "python",
   "name": "python3"
  },
  "language_info": {
   "codemirror_mode": {
    "name": "ipython",
    "version": 3
   },
   "file_extension": ".py",
   "mimetype": "text/x-python",
   "name": "python",
   "nbconvert_exporter": "python",
   "pygments_lexer": "ipython3",
   "version": "3.10.6"
  },
  "orig_nbformat": 4,
  "vscode": {
   "interpreter": {
    "hash": "52867ee1f7e3b1f93523cdfe2d5d91084b6fa11775e78fca1f22649f7620b014"
   }
  }
 },
 "nbformat": 4,
 "nbformat_minor": 2
}
