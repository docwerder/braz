{
 "cells": [
  {
   "cell_type": "markdown",
   "metadata": {},
   "source": [
    "### Script for scanning the BRAZ-Site of the chosen PS and compare the titles with my bra_db\n"
   ]
  },
  {
   "cell_type": "code",
   "execution_count": 1,
   "metadata": {},
   "outputs": [],
   "source": [
    "import pandas as pd\n",
    "import math\n",
    "import sys\n",
    "# from IPy\n",
    "# thon.core.display import display, HTML\n",
    "\n",
    "#display(HTML(\"<style>.container {width:90% !important; }</style>\"))\n",
    "sys.path.append('/Users/joerg/repos/braz')\n",
    "from utilities_functions import scan_func\n",
    "from create_df_actual_ps import create_df_actual_ps\n",
    "# To run all commands within one cell:\n",
    "#from IPython.core.interactiveshell import InteractiveShell\n",
    "#InteractiveShel\n",
    "pd.set_option('display.max_rows', None)"
   ]
  },
  {
   "cell_type": "markdown",
   "metadata": {},
   "source": [
    "Define help-functions"
   ]
  },
  {
   "cell_type": "code",
   "execution_count": 2,
   "metadata": {},
   "outputs": [],
   "source": [
    "def search_titles(dataFrame, search_string):\n",
    "    mask = (dataFrame.applymap(lambda x: isinstance(x, str) and search_string in x)).any(1)\n",
    "    #print('mask: ', dataFrame[mask]['Title'])\n",
    "    return dataFrame[mask]#['Title']\n",
    "\n",
    "def missing_titles_new(chosen_model_df):\n",
    "    zz = 0\n",
    "    missing_titles = []\n",
    "    for single_title in chosen_model_df['Title']:\n",
    "        found_titles = search_titles(current_titles_in_df_curent_final, single_title)\n",
    "        #print('found_titles: ', found_titles)\n",
    "        if found_titles.empty:\n",
    "            missing_titles.append(single_title)\n",
    "        sttr = f\"nr: {zz}  Title: {single_title} DF empty: {found_titles.empty}\"\n",
    "        #print(sttr)\n",
    "        zz = zz+1\n",
    "    return missing_titles"
   ]
  },
  {
   "cell_type": "markdown",
   "metadata": {},
   "source": [
    "## List of TOP_PS\n"
   ]
  },
  {
   "cell_type": "code",
   "execution_count": 3,
   "metadata": {},
   "outputs": [
    {
     "name": "stdout",
     "output_type": "stream",
     "text": [
      "Quantity of my TOP PS:  58\n"
     ]
    }
   ],
   "source": [
    "top50_ps = ['Abbey Brooks', 'Abbie Cat', 'Alena Croft', 'Aletta Ocean', 'Alexis Ford', \n",
    "            'Angel Wicky', 'Angela White', 'Ava Addams', 'Bridgette B', 'Britney Shannon',\n",
    "            'Carmella Bing', 'Cathy Heaven', 'Chessie Kay', 'Christie Stevens', 'Claire Dames',  \n",
    "            'Corinna Blake', 'Dee Williams', 'Donna Bell', 'Ella Hughes', 'Emma Butt', 'Eva Karera', \n",
    "            'Eva Notty', 'Harmony Reigns', 'Holly Halston', 'Jasmine Jae', 'Jayden Jaymes', 'Jenna Presley',\n",
    "            'Jessica Moore', 'Julia Ann', 'Katie Kox', 'Kelly Divine', 'Kendra Lust', 'Kiara Mia',\n",
    "            'Krissy Lynn', 'Leigh Darby', 'Madison Ivy', 'Marsha May', 'Memphis Monroe', 'Nicolette Shea',\n",
    "            'Nikki Benz', 'Noelle Easton', 'Peta Jensen', 'Rebeca Linares', 'Rebecca More', 'Riley Evans', 'Roberta Gemma',\n",
    "            'Romi Rain', 'Sensual Jane', 'Shyla Stylez', 'Sienna West', 'Sophie Dee', 'Stella Cox', \n",
    "            'Syren De Mer', 'Tarra White', 'Tory Lane', 'Velicity Von', 'Veronica Avluv', 'Yasmin Scott']\n",
    "print('Quantity of my TOP PS: ', str(len(top50_ps)))"
   ]
  },
  {
   "cell_type": "markdown",
   "metadata": {},
   "source": [
    "dataframe for PS, which have been processed"
   ]
  },
  {
   "cell_type": "code",
   "execution_count": 4,
   "metadata": {},
   "outputs": [],
   "source": [
    "import pandas as pd\n",
    "df_ps_processed = pd.DataFrame()\n",
    "df_ps_processed[\"TOP_50PS\"] = list(top50_ps)\n",
    "ps_processed = ['Abbey Brooks', 'Abbie Cat', 'Alena Croft', 'Aletta Ocean', 'Alexis Ford', \n",
    "                'Angel Wicky', 'Angela White', 'Ava Addams', 'Bridgette B', 'Britney Shannon',\n",
    "                'Carmella Bing', 'Cathy Heaven', 'Holly Halston', 'Kendra Lust', 'Romi Rain', \n",
    "                'Nicolette Shea', 'Jayden Jaymes', 'Stella Cox', 'Christie Stevens', 'Claire Dames',\n",
    "                'Chessie Kay', 'Corinna Blake', 'Dee Williams', 'Donna Bell', 'Ella Hughes', 'Emma Butt',\n",
    "                'Eva Karera', 'Eva Notty', 'Harmony Reigns', 'Jasmine Jae', 'Jenna Presley', 'Jessica Moore',\n",
    "                'Julia Ann', 'Katie Kox', 'Kiara Mia', 'Kelly Divine', 'Krissy Lynn', 'Leigh Darby', \n",
    "                'Memphis Monroe', 'Nikki Benz', 'Noelle Easton']\n",
    "\n",
    "df_ps_processed['Processed'] = df_ps_processed[\"TOP_50PS\"].\\\n",
    "                            apply(lambda x: \"Yes\" if x in ps_processed else 'No')"
   ]
  },
  {
   "cell_type": "code",
   "execution_count": 65,
   "metadata": {},
   "outputs": [
    {
     "data": {
      "text/html": [
       "<div>\n",
       "<style scoped>\n",
       "    .dataframe tbody tr th:only-of-type {\n",
       "        vertical-align: middle;\n",
       "    }\n",
       "\n",
       "    .dataframe tbody tr th {\n",
       "        vertical-align: top;\n",
       "    }\n",
       "\n",
       "    .dataframe thead th {\n",
       "        text-align: right;\n",
       "    }\n",
       "</style>\n",
       "<table border=\"1\" class=\"dataframe\">\n",
       "  <thead>\n",
       "    <tr style=\"text-align: right;\">\n",
       "      <th></th>\n",
       "      <th>TOP_50PS</th>\n",
       "      <th>Processed</th>\n",
       "    </tr>\n",
       "  </thead>\n",
       "  <tbody>\n",
       "    <tr>\n",
       "      <th>0</th>\n",
       "      <td>Abbey Brooks</td>\n",
       "      <td>Yes</td>\n",
       "    </tr>\n",
       "    <tr>\n",
       "      <th>1</th>\n",
       "      <td>Abbie Cat</td>\n",
       "      <td>Yes</td>\n",
       "    </tr>\n",
       "    <tr>\n",
       "      <th>2</th>\n",
       "      <td>Alena Croft</td>\n",
       "      <td>Yes</td>\n",
       "    </tr>\n",
       "    <tr>\n",
       "      <th>3</th>\n",
       "      <td>Aletta Ocean</td>\n",
       "      <td>Yes</td>\n",
       "    </tr>\n",
       "    <tr>\n",
       "      <th>4</th>\n",
       "      <td>Alexis Ford</td>\n",
       "      <td>Yes</td>\n",
       "    </tr>\n",
       "    <tr>\n",
       "      <th>5</th>\n",
       "      <td>Angel Wicky</td>\n",
       "      <td>Yes</td>\n",
       "    </tr>\n",
       "    <tr>\n",
       "      <th>6</th>\n",
       "      <td>Angela White</td>\n",
       "      <td>Yes</td>\n",
       "    </tr>\n",
       "    <tr>\n",
       "      <th>7</th>\n",
       "      <td>Ava Addams</td>\n",
       "      <td>Yes</td>\n",
       "    </tr>\n",
       "    <tr>\n",
       "      <th>8</th>\n",
       "      <td>Bridgette B</td>\n",
       "      <td>Yes</td>\n",
       "    </tr>\n",
       "    <tr>\n",
       "      <th>9</th>\n",
       "      <td>Britney Shannon</td>\n",
       "      <td>Yes</td>\n",
       "    </tr>\n",
       "    <tr>\n",
       "      <th>10</th>\n",
       "      <td>Carmella Bing</td>\n",
       "      <td>Yes</td>\n",
       "    </tr>\n",
       "    <tr>\n",
       "      <th>11</th>\n",
       "      <td>Cathy Heaven</td>\n",
       "      <td>Yes</td>\n",
       "    </tr>\n",
       "    <tr>\n",
       "      <th>12</th>\n",
       "      <td>Chessie Kay</td>\n",
       "      <td>Yes</td>\n",
       "    </tr>\n",
       "    <tr>\n",
       "      <th>13</th>\n",
       "      <td>Christie Stevens</td>\n",
       "      <td>Yes</td>\n",
       "    </tr>\n",
       "    <tr>\n",
       "      <th>14</th>\n",
       "      <td>Claire Dames</td>\n",
       "      <td>Yes</td>\n",
       "    </tr>\n",
       "    <tr>\n",
       "      <th>15</th>\n",
       "      <td>Corinna Blake</td>\n",
       "      <td>Yes</td>\n",
       "    </tr>\n",
       "    <tr>\n",
       "      <th>16</th>\n",
       "      <td>Dee Williams</td>\n",
       "      <td>Yes</td>\n",
       "    </tr>\n",
       "    <tr>\n",
       "      <th>17</th>\n",
       "      <td>Donna Bell</td>\n",
       "      <td>Yes</td>\n",
       "    </tr>\n",
       "    <tr>\n",
       "      <th>18</th>\n",
       "      <td>Ella Hughes</td>\n",
       "      <td>Yes</td>\n",
       "    </tr>\n",
       "    <tr>\n",
       "      <th>19</th>\n",
       "      <td>Emma Butt</td>\n",
       "      <td>Yes</td>\n",
       "    </tr>\n",
       "    <tr>\n",
       "      <th>20</th>\n",
       "      <td>Eva Karera</td>\n",
       "      <td>Yes</td>\n",
       "    </tr>\n",
       "    <tr>\n",
       "      <th>21</th>\n",
       "      <td>Eva Notty</td>\n",
       "      <td>Yes</td>\n",
       "    </tr>\n",
       "    <tr>\n",
       "      <th>22</th>\n",
       "      <td>Harmony Reigns</td>\n",
       "      <td>Yes</td>\n",
       "    </tr>\n",
       "    <tr>\n",
       "      <th>23</th>\n",
       "      <td>Holly Halston</td>\n",
       "      <td>Yes</td>\n",
       "    </tr>\n",
       "    <tr>\n",
       "      <th>24</th>\n",
       "      <td>Jasmine Jae</td>\n",
       "      <td>Yes</td>\n",
       "    </tr>\n",
       "    <tr>\n",
       "      <th>25</th>\n",
       "      <td>Jayden Jaymes</td>\n",
       "      <td>Yes</td>\n",
       "    </tr>\n",
       "    <tr>\n",
       "      <th>26</th>\n",
       "      <td>Jenna Presley</td>\n",
       "      <td>Yes</td>\n",
       "    </tr>\n",
       "    <tr>\n",
       "      <th>27</th>\n",
       "      <td>Jessica Moore</td>\n",
       "      <td>Yes</td>\n",
       "    </tr>\n",
       "    <tr>\n",
       "      <th>28</th>\n",
       "      <td>Julia Ann</td>\n",
       "      <td>Yes</td>\n",
       "    </tr>\n",
       "    <tr>\n",
       "      <th>29</th>\n",
       "      <td>Katie Kox</td>\n",
       "      <td>Yes</td>\n",
       "    </tr>\n",
       "    <tr>\n",
       "      <th>30</th>\n",
       "      <td>Kelly Divine</td>\n",
       "      <td>Yes</td>\n",
       "    </tr>\n",
       "    <tr>\n",
       "      <th>31</th>\n",
       "      <td>Kendra Lust</td>\n",
       "      <td>Yes</td>\n",
       "    </tr>\n",
       "    <tr>\n",
       "      <th>32</th>\n",
       "      <td>Kiara Mia</td>\n",
       "      <td>Yes</td>\n",
       "    </tr>\n",
       "    <tr>\n",
       "      <th>33</th>\n",
       "      <td>Krissy Lynn</td>\n",
       "      <td>Yes</td>\n",
       "    </tr>\n",
       "    <tr>\n",
       "      <th>34</th>\n",
       "      <td>Leigh Darby</td>\n",
       "      <td>Yes</td>\n",
       "    </tr>\n",
       "    <tr>\n",
       "      <th>35</th>\n",
       "      <td>Madison Ivy</td>\n",
       "      <td>No</td>\n",
       "    </tr>\n",
       "    <tr>\n",
       "      <th>36</th>\n",
       "      <td>Marsha May</td>\n",
       "      <td>No</td>\n",
       "    </tr>\n",
       "    <tr>\n",
       "      <th>37</th>\n",
       "      <td>Memphis Monroe</td>\n",
       "      <td>Yes</td>\n",
       "    </tr>\n",
       "    <tr>\n",
       "      <th>38</th>\n",
       "      <td>Nicolette Shea</td>\n",
       "      <td>Yes</td>\n",
       "    </tr>\n",
       "    <tr>\n",
       "      <th>39</th>\n",
       "      <td>Nikki Benz</td>\n",
       "      <td>Yes</td>\n",
       "    </tr>\n",
       "    <tr>\n",
       "      <th>40</th>\n",
       "      <td>Noelle Easton</td>\n",
       "      <td>Yes</td>\n",
       "    </tr>\n",
       "    <tr>\n",
       "      <th>41</th>\n",
       "      <td>Peta Jensen</td>\n",
       "      <td>No</td>\n",
       "    </tr>\n",
       "    <tr>\n",
       "      <th>42</th>\n",
       "      <td>Rebeca Linares</td>\n",
       "      <td>No</td>\n",
       "    </tr>\n",
       "    <tr>\n",
       "      <th>43</th>\n",
       "      <td>Rebecca More</td>\n",
       "      <td>No</td>\n",
       "    </tr>\n",
       "    <tr>\n",
       "      <th>44</th>\n",
       "      <td>Riley Evans</td>\n",
       "      <td>No</td>\n",
       "    </tr>\n",
       "    <tr>\n",
       "      <th>45</th>\n",
       "      <td>Roberta Gemma</td>\n",
       "      <td>No</td>\n",
       "    </tr>\n",
       "    <tr>\n",
       "      <th>46</th>\n",
       "      <td>Romi Rain</td>\n",
       "      <td>Yes</td>\n",
       "    </tr>\n",
       "    <tr>\n",
       "      <th>47</th>\n",
       "      <td>Sensual Jane</td>\n",
       "      <td>No</td>\n",
       "    </tr>\n",
       "    <tr>\n",
       "      <th>48</th>\n",
       "      <td>Shyla Stylez</td>\n",
       "      <td>No</td>\n",
       "    </tr>\n",
       "    <tr>\n",
       "      <th>49</th>\n",
       "      <td>Sienna West</td>\n",
       "      <td>No</td>\n",
       "    </tr>\n",
       "    <tr>\n",
       "      <th>50</th>\n",
       "      <td>Sophie Dee</td>\n",
       "      <td>No</td>\n",
       "    </tr>\n",
       "    <tr>\n",
       "      <th>51</th>\n",
       "      <td>Stella Cox</td>\n",
       "      <td>Yes</td>\n",
       "    </tr>\n",
       "    <tr>\n",
       "      <th>52</th>\n",
       "      <td>Syren De Mer</td>\n",
       "      <td>No</td>\n",
       "    </tr>\n",
       "    <tr>\n",
       "      <th>53</th>\n",
       "      <td>Tarra White</td>\n",
       "      <td>No</td>\n",
       "    </tr>\n",
       "    <tr>\n",
       "      <th>54</th>\n",
       "      <td>Tory Lane</td>\n",
       "      <td>No</td>\n",
       "    </tr>\n",
       "    <tr>\n",
       "      <th>55</th>\n",
       "      <td>Velicity Von</td>\n",
       "      <td>No</td>\n",
       "    </tr>\n",
       "    <tr>\n",
       "      <th>56</th>\n",
       "      <td>Veronica Avluv</td>\n",
       "      <td>No</td>\n",
       "    </tr>\n",
       "    <tr>\n",
       "      <th>57</th>\n",
       "      <td>Yasmin Scott</td>\n",
       "      <td>No</td>\n",
       "    </tr>\n",
       "  </tbody>\n",
       "</table>\n",
       "</div>"
      ],
      "text/plain": [
       "            TOP_50PS Processed\n",
       "0       Abbey Brooks       Yes\n",
       "1          Abbie Cat       Yes\n",
       "2        Alena Croft       Yes\n",
       "3       Aletta Ocean       Yes\n",
       "4        Alexis Ford       Yes\n",
       "5        Angel Wicky       Yes\n",
       "6       Angela White       Yes\n",
       "7         Ava Addams       Yes\n",
       "8        Bridgette B       Yes\n",
       "9    Britney Shannon       Yes\n",
       "10     Carmella Bing       Yes\n",
       "11      Cathy Heaven       Yes\n",
       "12       Chessie Kay       Yes\n",
       "13  Christie Stevens       Yes\n",
       "14      Claire Dames       Yes\n",
       "15     Corinna Blake       Yes\n",
       "16      Dee Williams       Yes\n",
       "17        Donna Bell       Yes\n",
       "18       Ella Hughes       Yes\n",
       "19         Emma Butt       Yes\n",
       "20        Eva Karera       Yes\n",
       "21         Eva Notty       Yes\n",
       "22    Harmony Reigns       Yes\n",
       "23     Holly Halston       Yes\n",
       "24       Jasmine Jae       Yes\n",
       "25     Jayden Jaymes       Yes\n",
       "26     Jenna Presley       Yes\n",
       "27     Jessica Moore       Yes\n",
       "28         Julia Ann       Yes\n",
       "29         Katie Kox       Yes\n",
       "30      Kelly Divine       Yes\n",
       "31       Kendra Lust       Yes\n",
       "32         Kiara Mia       Yes\n",
       "33       Krissy Lynn       Yes\n",
       "34       Leigh Darby       Yes\n",
       "35       Madison Ivy        No\n",
       "36        Marsha May        No\n",
       "37    Memphis Monroe       Yes\n",
       "38    Nicolette Shea       Yes\n",
       "39        Nikki Benz       Yes\n",
       "40     Noelle Easton       Yes\n",
       "41       Peta Jensen        No\n",
       "42    Rebeca Linares        No\n",
       "43      Rebecca More        No\n",
       "44       Riley Evans        No\n",
       "45     Roberta Gemma        No\n",
       "46         Romi Rain       Yes\n",
       "47      Sensual Jane        No\n",
       "48      Shyla Stylez        No\n",
       "49       Sienna West        No\n",
       "50        Sophie Dee        No\n",
       "51        Stella Cox       Yes\n",
       "52      Syren De Mer        No\n",
       "53       Tarra White        No\n",
       "54         Tory Lane        No\n",
       "55      Velicity Von        No\n",
       "56    Veronica Avluv        No\n",
       "57      Yasmin Scott        No"
      ]
     },
     "execution_count": 65,
     "metadata": {},
     "output_type": "execute_result"
    }
   ],
   "source": [
    "df_ps_processed"
   ]
  },
  {
   "cell_type": "markdown",
   "metadata": {},
   "source": [
    "## Chosen_PS:\n"
   ]
  },
  {
   "cell_type": "markdown",
   "metadata": {},
   "source": [
    "## Abbey Brooks --> finished!\n"
   ]
  },
  {
   "cell_type": "markdown",
   "metadata": {},
   "source": [
    "## Abbie Cat --> finished!\n"
   ]
  },
  {
   "cell_type": "code",
   "execution_count": null,
   "metadata": {},
   "outputs": [],
   "source": [
    "\n",
    "chosen_model_abbie = ['https://www.brazzers.com/videos/models/1885/abbie-cat/page/']\n",
    "max_page_len_of_sites_ac = [1]"
   ]
  },
  {
   "cell_type": "markdown",
   "metadata": {},
   "source": [
    "### Scan the PS-Site\n"
   ]
  },
  {
   "cell_type": "code",
   "execution_count": null,
   "metadata": {},
   "outputs": [],
   "source": [
    "page_content_db = pd.DataFrame()\n",
    "page_number_db = {}\n",
    "page_content_tmp = {}\n",
    "page_columns = []\n",
    "ps1_db = pd.DataFrame()\n",
    "ps2_db = {}\n",
    "title_db = {}\n",
    "db_actual_site_name = pd.DataFrame()\n",
    "db_final_tmp = pd.DataFrame()\n",
    "db_actual_site_name_sliced = pd.DataFrame()\n",
    "\n",
    "# Determination of the maximum number of pages\n",
    "# for lf_root in db_sites[12:13]:\n",
    "#     db_page_tmp_2 = scan_func(lf_root)\n",
    "#     db_page_tmp_2 = [i for i in db_page_tmp if i.startswith('/videos/site/')]\n",
    "#         print('db_page_tmp: ', db_page_tmp_2)\n",
    "\n",
    "        \n",
    "        \n",
    "for root_site, number in zip(chosen_model_abbie_cat[:], max_page_len_of_sites_ac):\n",
    "    print('max..' , number)\n",
    "  \n",
    "\n",
    "    # max_page_number = math.ceil(int(number) / 24)\n",
    "       \n",
    "    for page_nr in range(1, int(number) + 1):\n",
    "        print('page_nr: ', page_nr)\n",
    "        actual_site = root_site + str(page_nr)\n",
    "        site_name = actual_site.split('/')[-5].replace('-', ' ').title()\n",
    "            \n",
    "        #print('site_name: ', site_name)\n",
    "        db_page_tmp = scan_func(actual_site)\n",
    "        #print('db_page_tmp: ', db_page_tmp)\n",
    "        db_page_video = [i for i in db_page_tmp if i.startswith('/video/')]\n",
    "        \n",
    "        db_page_ps = [i for i in db_page_tmp if i.startswith('/pornstar/')]\n",
    "        ps1 = [h.split('/')[-1].replace('-','_') for h in db_page_ps[::2]]\n",
    "        ps2 = [h.split('/')[-1].replace('-', '_') for h in db_page_ps[1::2]]\n",
    "        \n",
    "        title = [h.split('/')[-1].replace('-', '_') for h in db_page_video[::2]]\n",
    "        \n",
    "        site_tmp = [site_name]\n",
    "        \n",
    "        site = list(site_tmp) * 24\n",
    "        \n",
    "        \n",
    "        \n",
    "        ps1_db = pd.DataFrame(ps1)\n",
    "        ps2_db = pd.DataFrame(ps2)\n",
    "        title_db = pd.DataFrame(title)\n",
    "        site_db = pd.DataFrame(site)\n",
    "        #print('Site_db: ', site_db)\n",
    "        db_all_tmp = pd.concat([site_db, ps1_db, ps2_db, title_db], axis=1)\n",
    "        custom_cols = ['Site', 'PS1', 'PS2', 'Title']\n",
    "        #print('db_all_tmp: ', db_all_tmp)\n",
    "        db_all_tmp.columns = custom_cols\n",
    "        db_actual_site_name = pd.concat([db_actual_site_name, db_all_tmp])\n",
    "        #print('db_all_tmp: ', db_all_tmp)\n",
    "        #print('db_actual_site_name:\\n ', db_actual_site_name)\n",
    "\n",
    "    df_tmp = db_actual_site_name\n",
    "    #print('db_actual_site_name: ', db_actual_site_name)\n",
    "    \n",
    "df_ac_tmp = db_actual_site_name\n",
    "abbie_cat_df = df_ac_tmp[df_ac_tmp['PS1'].notna()]"
   ]
  },
  {
   "cell_type": "markdown",
   "metadata": {},
   "source": [
    "### Get the df of the scanned PS-site\n"
   ]
  },
  {
   "cell_type": "code",
   "execution_count": null,
   "metadata": {},
   "outputs": [],
   "source": [
    "abbie_cat_df"
   ]
  },
  {
   "cell_type": "markdown",
   "metadata": {},
   "source": [
    "### Import the (current) csv-file for comparison, which titles are already listed and which not\n",
    "\n",
    "### This has to be adjusted by hand!\n"
   ]
  },
  {
   "cell_type": "code",
   "execution_count": null,
   "metadata": {},
   "outputs": [],
   "source": [
    "df_cur_final = pd.read_csv('df_final_my_db_10_08_22.csv', index_col=[0])"
   ]
  },
  {
   "cell_type": "markdown",
   "metadata": {},
   "source": [
    "### Get the current titles of the chosen PS in the df_cur_final\n"
   ]
  },
  {
   "cell_type": "code",
   "execution_count": null,
   "metadata": {},
   "outputs": [],
   "source": [
    "chosen_ps = 'Abbie Cat'\n",
    "current_titles_in_df_cur_final = df_cur_final[df_cur_final['PS1'] == chosen_ps][['Title']]"
   ]
  },
  {
   "cell_type": "code",
   "execution_count": null,
   "metadata": {},
   "outputs": [],
   "source": [
    "current_titles_in_df_cur_final"
   ]
  },
  {
   "cell_type": "markdown",
   "metadata": {},
   "source": [
    "### Get the list of the titles from the chosen PS\n"
   ]
  },
  {
   "cell_type": "code",
   "execution_count": null,
   "metadata": {},
   "outputs": [],
   "source": [
    "abbie_cat_df['Title']"
   ]
  },
  {
   "cell_type": "markdown",
   "metadata": {},
   "source": [
    "### Define the search function to find the titles\n"
   ]
  },
  {
   "cell_type": "code",
   "execution_count": null,
   "metadata": {},
   "outputs": [],
   "source": [
    "def search(dataFrame, search_string):\n",
    "    mask = (dataFrame.applymap(lambda x: isinstance(x, str) and search_string in x)).any(1)\n",
    "    #print('mask: ', mask)\n",
    "    return dataFrame[mask]"
   ]
  },
  {
   "cell_type": "markdown",
   "metadata": {},
   "source": [
    "### The command below are made by hand, so see, which titles are inside the df_cur_final!\n"
   ]
  },
  {
   "cell_type": "code",
   "execution_count": null,
   "metadata": {},
   "outputs": [],
   "source": [
    "search(current_titles_in_df_cur_final, 'womens')"
   ]
  },
  {
   "cell_type": "markdown",
   "metadata": {},
   "source": [
    "---\n"
   ]
  },
  {
   "cell_type": "markdown",
   "metadata": {},
   "source": [
    "## Alena Croft --> finished\n"
   ]
  },
  {
   "cell_type": "code",
   "execution_count": null,
   "metadata": {},
   "outputs": [],
   "source": [
    "chosen_model_alena_croft = ['https://www.brazzers.com/videos/models/4005/alena-croft/page/']\n",
    "max_page_len_of_sites_alc = [2]"
   ]
  },
  {
   "cell_type": "code",
   "execution_count": null,
   "metadata": {},
   "outputs": [],
   "source": [
    "page_content_db = pd.DataFrame()\n",
    "page_number_db = {}\n",
    "page_content_tmp = {}\n",
    "page_columns = []\n",
    "ps1_db = pd.DataFrame()\n",
    "ps2_db = {}\n",
    "title_db = {}\n",
    "db_actual_site_name = pd.DataFrame()\n",
    "db_final_tmp = pd.DataFrame()\n",
    "db_actual_site_name_sliced = pd.DataFrame()\n",
    "\n",
    "# Determination of the maximum number of pages\n",
    "# for lf_root in db_sites[12:13]:\n",
    "#     db_page_tmp_2 = scan_func(lf_root)\n",
    "#     db_page_tmp_2 = [i for i in db_page_tmp if i.startswith('/videos/site/')]\n",
    "#         print('db_page_tmp: ', db_page_tmp_2)\n",
    "\n",
    "        \n",
    "        \n",
    "for root_site, number in zip(chosen_model_alena_croft[:], max_page_len_of_sites_alc):\n",
    "    print('max..' , number)\n",
    "  \n",
    "\n",
    "    # max_page_number = math.ceil(int(number) / 24)\n",
    "       \n",
    "    for page_nr in range(1, int(number) + 1):\n",
    "        print('page_nr: ', page_nr)\n",
    "        actual_site = root_site + str(page_nr)\n",
    "        site_name = actual_site.split('/')[-5].replace('-', ' ').title()\n",
    "            \n",
    "        #print('site_name: ', site_name)\n",
    "        db_page_tmp = scan_func(actual_site)\n",
    "        #print('db_page_tmp: ', db_page_tmp)\n",
    "        db_page_video = [i for i in db_page_tmp if i.startswith('/video/')]\n",
    "        \n",
    "        db_page_ps = [i for i in db_page_tmp if i.startswith('/pornstar/')]\n",
    "        ps1 = [h.split('/')[-1].replace('-','_') for h in db_page_ps[::2]]\n",
    "        ps2 = [h.split('/')[-1].replace('-', '_') for h in db_page_ps[1::2]]\n",
    "        \n",
    "        title = [h.split('/')[-1].replace('-', '_') for h in db_page_video[::2]]\n",
    "        \n",
    "        site_tmp = [site_name]\n",
    "        \n",
    "        site = list(site_tmp) * 24\n",
    "        \n",
    "        \n",
    "        \n",
    "        ps1_db = pd.DataFrame(ps1)\n",
    "        ps2_db = pd.DataFrame(ps2)\n",
    "        title_db = pd.DataFrame(title)\n",
    "        site_db = pd.DataFrame(site)\n",
    "        #print('Site_db: ', site_db)\n",
    "        db_all_tmp = pd.concat([site_db, ps1_db, ps2_db, title_db], axis=1)\n",
    "        custom_cols = ['Site', 'PS1', 'PS2', 'Title']\n",
    "        #print('db_all_tmp: ', db_all_tmp)\n",
    "        db_all_tmp.columns = custom_cols\n",
    "        db_actual_site_name = pd.concat([db_actual_site_name, db_all_tmp])\n",
    "        #print('db_all_tmp: ', db_all_tmp)\n",
    "        #print('db_actual_site_name:\\n ', db_actual_site_name)\n",
    "\n",
    "    df_tmp = db_actual_site_name\n",
    "    #print('db_actual_site_name: ', db_actual_site_name)\n",
    "    \n",
    "df_alc_tmp = db_actual_site_name\n",
    "alena_croft_df = df_alc_tmp[df_alc_tmp['PS1'].notna()]"
   ]
  },
  {
   "cell_type": "code",
   "execution_count": null,
   "metadata": {},
   "outputs": [],
   "source": [
    "alena_croft_df"
   ]
  },
  {
   "cell_type": "code",
   "execution_count": null,
   "metadata": {},
   "outputs": [],
   "source": [
    "df_cur_final = pd.read_csv('df_final_my_db_10_08_22.csv', index_col=[0])"
   ]
  },
  {
   "cell_type": "markdown",
   "metadata": {},
   "source": [
    "### Get the current titles of chosen PS within df_cur_final\n"
   ]
  },
  {
   "cell_type": "code",
   "execution_count": null,
   "metadata": {},
   "outputs": [],
   "source": [
    "chosen_ps = 'Alena Croft'\n",
    "current_titles_in_df_cur_final = df_cur_final[df_cur_final['PS1'] == chosen_ps][['Title']]"
   ]
  },
  {
   "cell_type": "code",
   "execution_count": null,
   "metadata": {},
   "outputs": [],
   "source": [
    "alena_croft_df"
   ]
  },
  {
   "cell_type": "code",
   "execution_count": null,
   "metadata": {},
   "outputs": [],
   "source": [
    "current_titles_in_df_cur_final"
   ]
  },
  {
   "cell_type": "markdown",
   "metadata": {},
   "source": [
    "### Try to loop through the complete title-list of the choosen ps and search for the titles within the df_cur_final\n"
   ]
  },
  {
   "cell_type": "code",
   "execution_count": null,
   "metadata": {},
   "outputs": [],
   "source": [
    "def search_titles(dataFrame, search_string):\n",
    "    mask = (dataFrame.applymap(lambda x: isinstance(x, str) and search_string in x)).any(1)\n",
    "    #print('mask: ', dataFrame[mask]['Title'])\n",
    "    return dataFrame[mask]['Title']"
   ]
  },
  {
   "cell_type": "code",
   "execution_count": null,
   "metadata": {},
   "outputs": [],
   "source": [
    "zz_db = []\n",
    "zz = 0\n",
    "missing_titles = []\n",
    "for single_title in alena_croft_df['Title']:\n",
    "    found_titles = search_titles(current_titles_in_df_cur_final, single_title)\n",
    "    if found_titles.empty:\n",
    "        missing_titles.append(single_title)\n",
    "    sttr = f\"nr: {zz}  Title: {single_title} DF empty: {found_titles.empty}\"\n",
    "    print(sttr)\n",
    "    \n",
    "    zz = zz+1"
   ]
  },
  {
   "cell_type": "code",
   "execution_count": null,
   "metadata": {},
   "outputs": [],
   "source": [
    "missing_titles"
   ]
  },
  {
   "cell_type": "code",
   "execution_count": null,
   "metadata": {},
   "outputs": [],
   "source": [
    "current_titles_in_df_cur_final"
   ]
  },
  {
   "cell_type": "code",
   "execution_count": null,
   "metadata": {},
   "outputs": [],
   "source": [
    "search(current_titles_in_df_cur_final, 'busy')"
   ]
  },
  {
   "cell_type": "markdown",
   "metadata": {},
   "source": [
    "---\n"
   ]
  },
  {
   "cell_type": "markdown",
   "metadata": {},
   "source": [
    "## Aletta Ocean --> finished (temporary)\n"
   ]
  },
  {
   "cell_type": "code",
   "execution_count": null,
   "metadata": {},
   "outputs": [],
   "source": [
    "actual_ps = 'Aletta Ocean'\n",
    "chosen_model_brazz_site = ['https://www.brazzers.com/videos/models/2167/aletta-ocean/page/']\n",
    "max_page_len_of_chosen_model = [2]"
   ]
  },
  {
   "cell_type": "code",
   "execution_count": null,
   "metadata": {},
   "outputs": [],
   "source": [
    "page_content_db = pd.DataFrame()\n",
    "page_number_db = {}\n",
    "page_content_tmp = {}\n",
    "page_columns = []\n",
    "ps1_db = pd.DataFrame()\n",
    "ps2_db = {}\n",
    "title_db = {}\n",
    "db_actual_site_name = pd.DataFrame()\n",
    "db_final_tmp = pd.DataFrame()\n",
    "db_actual_site_name_sliced = pd.DataFrame()\n",
    "\n",
    "       \n",
    "        \n",
    "for root_site, number in zip(chosen_model_brazz_site[:], max_page_len_of_chosen_model):\n",
    "    print('max..' , number)\n",
    "  \n",
    "    # max_page_number = math.ceil(int(number) / 24)\n",
    "       \n",
    "    for page_nr in range(1, int(number) + 1):\n",
    "        print('page_nr: ', page_nr)\n",
    "        actual_site = root_site + str(page_nr)\n",
    "        site_name = actual_site.split('/')[-5].replace('-', ' ').title()\n",
    "            \n",
    "        #print('site_name: ', site_name)\n",
    "        db_page_tmp = scan_func(actual_site)\n",
    "        #print('db_page_tmp: ', db_page_tmp)\n",
    "        db_page_video = [i for i in db_page_tmp if i.startswith('/video/')]\n",
    "        \n",
    "        db_page_ps = [i for i in db_page_tmp if i.startswith('/pornstar/')]\n",
    "        ps1 = [h.split('/')[-1].replace('-','_') for h in db_page_ps[::2]]\n",
    "        ps2 = [h.split('/')[-1].replace('-', '_') for h in db_page_ps[1::2]]\n",
    "        \n",
    "        title = [h.split('/')[-1].replace('-', '_') for h in db_page_video[::2]]\n",
    "        \n",
    "        site_tmp = [site_name]\n",
    "        \n",
    "        site = list(site_tmp) * 24\n",
    "                        \n",
    "        ps1_db = pd.DataFrame(ps1)\n",
    "        ps2_db = pd.DataFrame(ps2)\n",
    "        title_db = pd.DataFrame(title)\n",
    "        site_db = pd.DataFrame(site)\n",
    "        #print('Site_db: ', site_db)\n",
    "        db_all_tmp = pd.concat([site_db, ps1_db, ps2_db, title_db], axis=1)\n",
    "        custom_cols = ['Site', 'PS1', 'PS2', 'Title']\n",
    "        #print('db_all_tmp: ', db_all_tmp)\n",
    "        db_all_tmp.columns = custom_cols\n",
    "        db_actual_site_name = pd.concat([db_actual_site_name, db_all_tmp])\n",
    "        #print('db_all_tmp: ', db_all_tmp)\n",
    "        #print('db_actual_site_name:\\n ', db_actual_site_name)\n",
    "\n",
    "    df_tmp = db_actual_site_name\n",
    "    #print('db_actual_site_name: ', db_actual_site_name)\n",
    "    \n",
    "df_chosen_model_tmp = db_actual_site_name\n",
    "chosen_model_df = df_chosen_model_tmp[df_chosen_model_tmp['PS1'].notna()]"
   ]
  },
  {
   "cell_type": "code",
   "execution_count": null,
   "metadata": {},
   "outputs": [],
   "source": [
    "len(chosen_model_df)"
   ]
  },
  {
   "cell_type": "code",
   "execution_count": null,
   "metadata": {},
   "outputs": [],
   "source": [
    "df_curent_final = pd.read_csv('df_final_my_db_12_08_22.csv', index_col=[0])"
   ]
  },
  {
   "cell_type": "markdown",
   "metadata": {},
   "source": [
    "#### Get the current titles of the chosen PS within the df_current_final df\n"
   ]
  },
  {
   "cell_type": "code",
   "execution_count": null,
   "metadata": {},
   "outputs": [],
   "source": [
    "current_titles_in_df_curent_final = df_curent_final[df_curent_final['PS1'] == actual_ps][['Title']]"
   ]
  },
  {
   "cell_type": "code",
   "execution_count": null,
   "metadata": {},
   "outputs": [],
   "source": [
    "len(current_titles_in_df_curent_final)"
   ]
  },
  {
   "cell_type": "markdown",
   "metadata": {},
   "source": [
    "#### Try to loop through title_list of chosen PS to find missing titles..\n"
   ]
  },
  {
   "cell_type": "code",
   "execution_count": null,
   "metadata": {},
   "outputs": [],
   "source": [
    "def search_titles(dataFrame, search_string):\n",
    "    mask = (dataFrame.applymap(lambda x: isinstance(x, str) and search_string in x)).any(1)\n",
    "    #print('mask: ', dataFrame[mask]['Title'])\n",
    "    return dataFrame[mask]['Title']"
   ]
  },
  {
   "cell_type": "code",
   "execution_count": null,
   "metadata": {},
   "outputs": [],
   "source": [
    "zz = 0\n",
    "missing_titles = []\n",
    "for single_title in chosen_model_df['Title']:\n",
    "    found_titles = search_titles(current_titles_in_df_curent_final, single_title)\n",
    "    if found_titles.empty:\n",
    "        missing_titles.append(single_title)\n",
    "    sttr = f\"nr: {zz}  Title: {single_title} DF empty: {found_titles.empty}\"\n",
    "    #print(sttr)\n",
    "    zz = zz+1"
   ]
  },
  {
   "cell_type": "code",
   "execution_count": null,
   "metadata": {},
   "outputs": [],
   "source": [
    "missing_titles"
   ]
  },
  {
   "cell_type": "markdown",
   "metadata": {},
   "source": [
    "#### Specify the location of the missing titles.\n"
   ]
  },
  {
   "cell_type": "code",
   "execution_count": null,
   "metadata": {},
   "outputs": [],
   "source": [
    "search_string = 'car'\n",
    "search_titles(current_titles_in_df_curent_final, search_string)"
   ]
  },
  {
   "cell_type": "code",
   "execution_count": null,
   "metadata": {},
   "outputs": [],
   "source": [
    "search_titles(current_titles_in_df_curent_final, search_string).index[0].item()"
   ]
  },
  {
   "cell_type": "code",
   "execution_count": null,
   "metadata": {},
   "outputs": [],
   "source": [
    "df_curent_final.loc[search_titles(current_titles_in_df_curent_final, search_string).index[0].item()]"
   ]
  },
  {
   "cell_type": "markdown",
   "metadata": {},
   "source": [
    "## Alexis Ford --> finished (temporary)\n"
   ]
  },
  {
   "cell_type": "code",
   "execution_count": null,
   "metadata": {},
   "outputs": [],
   "source": [
    "actual_ps = 'Alexis Ford'\n",
    "chosen_model_brazz_site = ['https://www.brazzers.com/videos/models/1321/alexis-ford/page/']\n",
    "max_page_len_of_chosen_model = [1]"
   ]
  },
  {
   "cell_type": "code",
   "execution_count": null,
   "metadata": {},
   "outputs": [],
   "source": [
    "page_content_db = pd.DataFrame()\n",
    "page_number_db = {}\n",
    "page_content_tmp = {}\n",
    "page_columns = []\n",
    "ps1_db = pd.DataFrame()\n",
    "ps2_db = {}\n",
    "title_db = {}\n",
    "db_actual_site_name = pd.DataFrame()\n",
    "db_final_tmp = pd.DataFrame()\n",
    "db_actual_site_name_sliced = pd.DataFrame()\n",
    "\n",
    "       \n",
    "        \n",
    "for root_site, number in zip(chosen_model_brazz_site[:], max_page_len_of_chosen_model):\n",
    "    print('max..' , number)\n",
    "  \n",
    "    # max_page_number = math.ceil(int(number) / 24)\n",
    "       \n",
    "    for page_nr in range(1, int(number) + 1):\n",
    "        print('page_nr: ', page_nr)\n",
    "        actual_site = root_site + str(page_nr)\n",
    "        site_name = actual_site.split('/')[-5].replace('-', ' ').title()\n",
    "            \n",
    "        #print('site_name: ', site_name)\n",
    "        db_page_tmp = scan_func(actual_site)\n",
    "        #print('db_page_tmp: ', db_page_tmp)\n",
    "        db_page_video = [i for i in db_page_tmp if i.startswith('/video/')]\n",
    "        \n",
    "        db_page_ps = [i for i in db_page_tmp if i.startswith('/pornstar/')]\n",
    "        ps1 = [h.split('/')[-1].replace('-','_') for h in db_page_ps[::2]]\n",
    "        ps2 = [h.split('/')[-1].replace('-', '_') for h in db_page_ps[1::2]]\n",
    "        \n",
    "        title = [h.split('/')[-1].replace('-', '_') for h in db_page_video[::2]]\n",
    "        \n",
    "        site_tmp = [site_name]\n",
    "        \n",
    "        site = list(site_tmp) * 24\n",
    "                        \n",
    "        ps1_db = pd.DataFrame(ps1)\n",
    "        ps2_db = pd.DataFrame(ps2)\n",
    "        title_db = pd.DataFrame(title)\n",
    "        site_db = pd.DataFrame(site)\n",
    "        #print('Site_db: ', site_db)\n",
    "        db_all_tmp = pd.concat([site_db, ps1_db, ps2_db, title_db], axis=1)\n",
    "        custom_cols = ['Site', 'PS1', 'PS2', 'Title']\n",
    "        #print('db_all_tmp: ', db_all_tmp)\n",
    "        db_all_tmp.columns = custom_cols\n",
    "        db_actual_site_name = pd.concat([db_actual_site_name, db_all_tmp])\n",
    "        #print('db_all_tmp: ', db_all_tmp)\n",
    "        #print('db_actual_site_name:\\n ', db_actual_site_name)\n",
    "\n",
    "    df_tmp = db_actual_site_name\n",
    "    #print('db_actual_site_name: ', db_actual_site_name)\n",
    "    \n",
    "df_chosen_model_tmp = db_actual_site_name\n",
    "chosen_model_df = df_chosen_model_tmp[df_chosen_model_tmp['PS1'].notna()]\n",
    "\n",
    "print('count of titles: ', len(chosen_model_df))"
   ]
  },
  {
   "cell_type": "code",
   "execution_count": null,
   "metadata": {},
   "outputs": [],
   "source": [
    "def search_titles(dataFrame, search_string):\n",
    "    mask = (dataFrame.applymap(lambda x: isinstance(x, str) and search_string in x)).any(1)\n",
    "    #print('mask: ', dataFrame[mask]['Title'])\n",
    "    return dataFrame[mask]['Title']"
   ]
  },
  {
   "cell_type": "code",
   "execution_count": null,
   "metadata": {},
   "outputs": [],
   "source": [
    "df_curent_final = pd.read_csv('df_final_my_db_16_08_22.csv', index_col=[0])\n",
    "current_titles_in_df_curent_final = df_curent_final[df_curent_final['PS1'] == actual_ps][['Title']]"
   ]
  },
  {
   "cell_type": "code",
   "execution_count": null,
   "metadata": {},
   "outputs": [],
   "source": [
    "len(current_titles_in_df_curent_final)"
   ]
  },
  {
   "cell_type": "code",
   "execution_count": null,
   "metadata": {},
   "outputs": [],
   "source": [
    "current_titles_in_df_curent_final"
   ]
  },
  {
   "cell_type": "code",
   "execution_count": null,
   "metadata": {},
   "outputs": [],
   "source": [
    "zz = 0\n",
    "missing_titles = []\n",
    "for single_title in chosen_model_df['Title']:\n",
    "    found_titles = search_titles(current_titles_in_df_curent_final, single_title)\n",
    "    if found_titles.empty:\n",
    "        missing_titles.append(single_title)\n",
    "    sttr = f\"nr: {zz}  Title: {single_title} DF empty: {found_titles.empty}\"\n",
    "    #print(sttr)\n",
    "    zz = zz+1"
   ]
  },
  {
   "cell_type": "code",
   "execution_count": null,
   "metadata": {},
   "outputs": [],
   "source": [
    "missing_titles"
   ]
  },
  {
   "cell_type": "markdown",
   "metadata": {},
   "source": [
    "#### Specify the location of the search\n"
   ]
  },
  {
   "cell_type": "code",
   "execution_count": null,
   "metadata": {},
   "outputs": [],
   "source": [
    "search_string = 'cheering'\n",
    "search_titles(current_titles_in_df_curent_final, search_string)\n",
    "search_titles(current_titles_in_df_curent_final, search_string).index[0].item()\n",
    "df_curent_final.loc[search_titles(current_titles_in_df_curent_final, search_string).index[0].item()]"
   ]
  },
  {
   "cell_type": "code",
   "execution_count": null,
   "metadata": {},
   "outputs": [],
   "source": []
  },
  {
   "cell_type": "markdown",
   "metadata": {},
   "source": [
    "## Angel Wicky --> finished\n"
   ]
  },
  {
   "cell_type": "code",
   "execution_count": null,
   "metadata": {},
   "outputs": [],
   "source": [
    "actual_ps = 'Angel Wicky'\n",
    "chosen_model_brazz_site = ['https://www.brazzers.com/videos/models/15995/angel-wicky/page/']\n",
    "max_page_len_of_chosen_model = [1]"
   ]
  },
  {
   "cell_type": "code",
   "execution_count": null,
   "metadata": {},
   "outputs": [],
   "source": [
    "page_content_db = pd.DataFrame()\n",
    "page_number_db = {}\n",
    "page_content_tmp = {}\n",
    "page_columns = []\n",
    "ps1_db = pd.DataFrame()\n",
    "ps2_db = {}\n",
    "title_db = {}\n",
    "db_actual_site_name = pd.DataFrame()\n",
    "db_final_tmp = pd.DataFrame()\n",
    "db_actual_site_name_sliced = pd.DataFrame()\n",
    "\n",
    "       \n",
    "        \n",
    "for root_site, number in zip(chosen_model_brazz_site[:], max_page_len_of_chosen_model):\n",
    "    print('max..' , number)\n",
    "  \n",
    "    # max_page_number = math.ceil(int(number) / 24)\n",
    "       \n",
    "    for page_nr in range(1, int(number) + 1):\n",
    "        print('page_nr: ', page_nr)\n",
    "        actual_site = root_site + str(page_nr)\n",
    "        site_name = actual_site.split('/')[-5].replace('-', ' ').title()\n",
    "            \n",
    "        #print('site_name: ', site_name)\n",
    "        db_page_tmp = scan_func(actual_site)\n",
    "        #print('db_page_tmp: ', db_page_tmp)\n",
    "        db_page_video = [i for i in db_page_tmp if i.startswith('/video/')]\n",
    "        \n",
    "        db_page_ps = [i for i in db_page_tmp if i.startswith('/pornstar/')]\n",
    "        ps1 = [h.split('/')[-1].replace('-','_') for h in db_page_ps[::2]]\n",
    "        ps2 = [h.split('/')[-1].replace('-', '_') for h in db_page_ps[1::2]]\n",
    "        \n",
    "        title = [h.split('/')[-1].replace('-', '_') for h in db_page_video[::2]]\n",
    "        \n",
    "        site_tmp = [site_name]\n",
    "        \n",
    "        site = list(site_tmp) * 24\n",
    "                        \n",
    "        ps1_db = pd.DataFrame(ps1)\n",
    "        ps2_db = pd.DataFrame(ps2)\n",
    "        title_db = pd.DataFrame(title)\n",
    "        site_db = pd.DataFrame(site)\n",
    "        #print('Site_db: ', site_db)\n",
    "        db_all_tmp = pd.concat([site_db, ps1_db, ps2_db, title_db], axis=1)\n",
    "        custom_cols = ['Site', 'PS1', 'PS2', 'Title']\n",
    "        #print('db_all_tmp: ', db_all_tmp)\n",
    "        db_all_tmp.columns = custom_cols\n",
    "        db_actual_site_name = pd.concat([db_actual_site_name, db_all_tmp])\n",
    "        #print('db_all_tmp: ', db_all_tmp)\n",
    "        #print('db_actual_site_name:\\n ', db_actual_site_name)\n",
    "\n",
    "    df_tmp = db_actual_site_name\n",
    "    #print('db_actual_site_name: ', db_actual_site_name)\n",
    "    \n",
    "df_chosen_model_tmp = db_actual_site_name\n",
    "chosen_model_df = df_chosen_model_tmp[df_chosen_model_tmp['PS1'].notna()]\n",
    "\n",
    "print('count of titles: ', len(chosen_model_df))"
   ]
  },
  {
   "cell_type": "code",
   "execution_count": null,
   "metadata": {},
   "outputs": [],
   "source": [
    "def search_titles(dataFrame, search_string):\n",
    "    mask = (dataFrame.applymap(lambda x: isinstance(x, str) and search_string in x)).any(1)\n",
    "    #print('mask: ', dataFrame[mask]['Title'])\n",
    "    return dataFrame[mask]['Title']"
   ]
  },
  {
   "cell_type": "code",
   "execution_count": null,
   "metadata": {},
   "outputs": [],
   "source": [
    "df_curent_final = pd.read_csv('df_final_my_db_16_08_22.csv', index_col=[0])\n",
    "current_titles_in_df_curent_final = df_curent_final[df_curent_final['PS1'] == actual_ps][['Title']]"
   ]
  },
  {
   "cell_type": "code",
   "execution_count": null,
   "metadata": {},
   "outputs": [],
   "source": [
    "current_titles_in_df_curent_final"
   ]
  },
  {
   "cell_type": "code",
   "execution_count": null,
   "metadata": {},
   "outputs": [],
   "source": [
    "zz = 0\n",
    "missing_titles = []\n",
    "for single_title in chosen_model_df['Title']:\n",
    "    found_titles = search_titles(current_titles_in_df_curent_final, single_title)\n",
    "    if found_titles.empty:\n",
    "        missing_titles.append(single_title)\n",
    "    sttr = f\"nr: {zz}  Title: {single_title} DF empty: {found_titles.empty}\"\n",
    "    #print(sttr)\n",
    "    zz = zz+1"
   ]
  },
  {
   "cell_type": "code",
   "execution_count": null,
   "metadata": {},
   "outputs": [],
   "source": [
    "missing_titles"
   ]
  },
  {
   "cell_type": "markdown",
   "metadata": {},
   "source": [
    "#### Specify the search..\n"
   ]
  },
  {
   "cell_type": "code",
   "execution_count": null,
   "metadata": {},
   "outputs": [],
   "source": [
    "search_string = 'cum'\n",
    "search_titles(current_titles_in_df_curent_final, search_string)\n",
    "search_titles(current_titles_in_df_curent_final, search_string).index[0].item()\n",
    "df_curent_final.loc[search_titles(current_titles_in_df_curent_final, search_string).index[0].item()]"
   ]
  },
  {
   "cell_type": "markdown",
   "metadata": {},
   "source": [
    "## Angela White --> finished\n"
   ]
  },
  {
   "cell_type": "code",
   "execution_count": null,
   "metadata": {},
   "outputs": [],
   "source": [
    "# Individually adjusted\n",
    "actual_ps = 'Angela White'\n",
    "chosen_model_brazz_site = ['https://www.brazzers.com/videos/models/4685/angela-white/page/']\n",
    "max_page_len_of_chosen_model = [3]\n",
    "\n",
    "# Next function is automatically \n"
   ]
  },
  {
   "cell_type": "code",
   "execution_count": null,
   "metadata": {},
   "outputs": [],
   "source": [
    "from create_df_actual_ps import create_df_actual_ps"
   ]
  },
  {
   "cell_type": "code",
   "execution_count": null,
   "metadata": {},
   "outputs": [],
   "source": [
    "chosen_model_df = create_df_actual_ps(actual_ps, chosen_model_brazz_site, max_page_len_of_chosen_model)"
   ]
  },
  {
   "cell_type": "code",
   "execution_count": null,
   "metadata": {},
   "outputs": [],
   "source": [
    "def search_titles(dataFrame, search_string):\n",
    "    mask = (dataFrame.applymap(lambda x: isinstance(x, str) and search_string in x)).any(1)\n",
    "    #print('mask: ', dataFrame[mask]['Title'])\n",
    "    return dataFrame[mask]#['Title']"
   ]
  },
  {
   "cell_type": "markdown",
   "metadata": {},
   "source": [
    "Read the actual df of my_db\n"
   ]
  },
  {
   "cell_type": "code",
   "execution_count": null,
   "metadata": {},
   "outputs": [],
   "source": [
    "import pandas as pd\n",
    "df_curent_final = pd.read_csv('df_final_my_db_30_08_22.csv', index_col=[0])\n",
    "current_titles_in_df_curent_final = df_curent_final[(df_curent_final['PS1'] == actual_ps) |\n",
    "                                                    (df_curent_final['PS2'] == actual_ps) ][['Title']]\n"
   ]
  },
  {
   "cell_type": "code",
   "execution_count": null,
   "metadata": {},
   "outputs": [],
   "source": [
    "current_titles_in_df_curent_final"
   ]
  },
  {
   "cell_type": "markdown",
   "metadata": {},
   "source": [
    "Define function for missing titles\n"
   ]
  },
  {
   "cell_type": "code",
   "execution_count": null,
   "metadata": {},
   "outputs": [],
   "source": [
    "def missing_titles_new(chosen_model_df):\n",
    "    zz = 0\n",
    "    missing_titles = []\n",
    "    for single_title in chosen_model_df['Title']:\n",
    "        found_titles = search_titles(current_titles_in_df_curent_final, single_title)\n",
    "        #print('found_titles: ', found_titles)\n",
    "        if found_titles.empty:\n",
    "            missing_titles.append(single_title)\n",
    "        sttr = f\"nr: {zz}  Title: {single_title} DF empty: {found_titles.empty}\"\n",
    "        #print(sttr)\n",
    "        zz = zz+1\n",
    "    return missing_titles"
   ]
  },
  {
   "cell_type": "code",
   "execution_count": null,
   "metadata": {},
   "outputs": [],
   "source": [
    "missing_titles_new(chosen_model_df)"
   ]
  },
  {
   "cell_type": "code",
   "execution_count": null,
   "metadata": {},
   "outputs": [],
   "source": [
    "pd.set_option('display.max.rows', 500)\n",
    "chosen_model_df"
   ]
  },
  {
   "cell_type": "markdown",
   "metadata": {},
   "source": [
    "Specify the search\n"
   ]
  },
  {
   "cell_type": "code",
   "execution_count": null,
   "metadata": {},
   "outputs": [],
   "source": [
    "search_string = 'bay'\n",
    "# search_titles(current_titles_in_df_curent_final, search_string)\n",
    "# search_titles(current_titles_in_df_curent_final, search_string).index[0].item()\n",
    "df_curent_final.loc[search_titles(current_titles_in_df_curent_final, search_string).index[0].item()]"
   ]
  },
  {
   "cell_type": "code",
   "execution_count": null,
   "metadata": {},
   "outputs": [],
   "source": [
    "search_titles(current_titles_in_df_curent_final, search_string)#.index[0].item()"
   ]
  },
  {
   "cell_type": "code",
   "execution_count": null,
   "metadata": {},
   "outputs": [],
   "source": [
    "current_titles_in_df_curent_final"
   ]
  },
  {
   "cell_type": "code",
   "execution_count": null,
   "metadata": {},
   "outputs": [],
   "source": [
    "search_titles(current_titles_in_df_curent_final, search_string)"
   ]
  },
  {
   "cell_type": "markdown",
   "metadata": {},
   "source": [
    "# Ava Addams --> finished (temporary)\n"
   ]
  },
  {
   "cell_type": "code",
   "execution_count": null,
   "metadata": {},
   "outputs": [],
   "source": [
    "# Individually adjusted\n",
    "actual_ps = 'Ava Addams'\n",
    "chosen_model_brazz_site = ['https://www.brazzers.com/videos/models/1757/ava-addams/page/']\n",
    "max_page_len_of_chosen_model = [4]"
   ]
  },
  {
   "cell_type": "markdown",
   "metadata": {},
   "source": [
    "Get the df from the bra site for the actual ps\n"
   ]
  },
  {
   "cell_type": "code",
   "execution_count": null,
   "metadata": {},
   "outputs": [],
   "source": [
    "from create_df_actual_ps import create_df_actual_ps\n",
    "chosen_model_df = create_df_actual_ps(actual_ps, chosen_model_brazz_site, max_page_len_of_chosen_model)"
   ]
  },
  {
   "cell_type": "markdown",
   "metadata": {},
   "source": [
    "Define functions for help\n"
   ]
  },
  {
   "cell_type": "code",
   "execution_count": null,
   "metadata": {},
   "outputs": [],
   "source": [
    "def search_titles(dataFrame, search_string):\n",
    "    mask = (dataFrame.applymap(lambda x: isinstance(x, str) and search_string in x)).any(1)\n",
    "    #print('mask: ', dataFrame[mask]['Title'])\n",
    "    return dataFrame[mask]#['Title']"
   ]
  },
  {
   "cell_type": "markdown",
   "metadata": {},
   "source": [
    "Get the current titles of the df_final of the actual ps\n"
   ]
  },
  {
   "cell_type": "code",
   "execution_count": null,
   "metadata": {},
   "outputs": [],
   "source": [
    "import pandas as pd\n",
    "df_curent_final = pd.read_csv('df_final_my_db_15_09_22.csv', index_col=[0])\n",
    "current_titles_in_df_curent_final = df_curent_final[(df_curent_final['PS1'] == actual_ps) |\n",
    "                                                    (df_curent_final['PS2'] == actual_ps) |\n",
    "                                                    (df_curent_final['PS3'] == actual_ps) |\n",
    "                                                    (df_curent_final['PS4'] == actual_ps) |\n",
    "                                                    (df_curent_final['PS5'] == actual_ps) |\n",
    "                                                    (df_curent_final['PS6'] == actual_ps) |\n",
    "                                                    (df_curent_final['PS7'] == actual_ps) |\n",
    "                                                    (df_curent_final['PS8'] == actual_ps) |\n",
    "                                                    (df_curent_final['PS9'] == actual_ps) |\n",
    "                                                    (df_curent_final['PS10'] == actual_ps)][['Title']]"
   ]
  },
  {
   "cell_type": "code",
   "execution_count": null,
   "metadata": {},
   "outputs": [],
   "source": [
    "len(df_curent_final), len(current_titles_in_df_curent_final), len(chosen_model_df)"
   ]
  },
  {
   "cell_type": "code",
   "execution_count": null,
   "metadata": {},
   "outputs": [],
   "source": [
    "current_titles_in_df_curent_final.head()"
   ]
  },
  {
   "cell_type": "markdown",
   "metadata": {},
   "source": [
    "Define the missing titles...\n"
   ]
  },
  {
   "cell_type": "code",
   "execution_count": null,
   "metadata": {},
   "outputs": [],
   "source": [
    "def missing_titles_new(chosen_model_df):\n",
    "    zz = 0\n",
    "    missing_titles = []\n",
    "    for single_title in chosen_model_df['Title']:\n",
    "        found_titles = search_titles(current_titles_in_df_curent_final, single_title)\n",
    "        #print('found_titles: ', found_titles)\n",
    "        if found_titles.empty:\n",
    "            missing_titles.append(single_title)\n",
    "        sttr = f\"nr: {zz}  Title: {single_title} DF empty: {found_titles.empty}\"\n",
    "        #print(sttr)\n",
    "        zz = zz+1\n",
    "    return missing_titles"
   ]
  },
  {
   "cell_type": "code",
   "execution_count": null,
   "metadata": {},
   "outputs": [],
   "source": [
    "missing_titles = missing_titles_new(chosen_model_df)\n",
    "missing_titles[20:30]"
   ]
  },
  {
   "cell_type": "markdown",
   "metadata": {},
   "source": [
    "Specify the search\n"
   ]
  },
  {
   "cell_type": "code",
   "execution_count": null,
   "metadata": {},
   "outputs": [],
   "source": [
    "search_string = 'asshole'\n",
    "df_curent_final.loc[search_titles(current_titles_in_df_curent_final, search_string).index[0].item()]"
   ]
  },
  {
   "cell_type": "markdown",
   "metadata": {},
   "source": [
    "# Bridgette B --> finished (temporary)"
   ]
  },
  {
   "cell_type": "code",
   "execution_count": null,
   "metadata": {},
   "outputs": [],
   "source": [
    "# Individually adjusted\n",
    "actual_ps = 'Bridgette B'\n",
    "chosen_model_brazz_site = ['https://www.brazzers.com/videos/models/371/bridgette-b/page/']\n",
    "max_page_len_of_chosen_model = [5]"
   ]
  },
  {
   "cell_type": "markdown",
   "metadata": {},
   "source": [
    "Get df from braz site for the actual ps"
   ]
  },
  {
   "cell_type": "code",
   "execution_count": null,
   "metadata": {},
   "outputs": [],
   "source": [
    "from create_df_actual_ps import create_df_actual_ps\n",
    "chosen_model_df = create_df_actual_ps(actual_ps, chosen_model_brazz_site, max_page_len_of_chosen_model)"
   ]
  },
  {
   "cell_type": "markdown",
   "metadata": {},
   "source": [
    "Define function for help"
   ]
  },
  {
   "cell_type": "code",
   "execution_count": null,
   "metadata": {},
   "outputs": [],
   "source": [
    "# def search_titles(dataFrame, search_string):\n",
    "#     mask = (dataFrame.applymap(lambda x: isinstance(x, str) and search_string in x)).any(1)\n",
    "#     #print('mask: ', dataFrame[mask]['Title'])\n",
    "#     return dataFrame[mask]#['Title']"
   ]
  },
  {
   "cell_type": "code",
   "execution_count": null,
   "metadata": {},
   "outputs": [],
   "source": [
    "import pandas as pd\n",
    "df_curent_final = pd.read_csv('df_final_my_db_21_09_22.csv', index_col=[0])\n",
    "current_titles_in_df_curent_final = df_curent_final[(df_curent_final['PS1'] == actual_ps) |\n",
    "                                                    (df_curent_final['PS2'] == actual_ps) |\n",
    "                                                    (df_curent_final['PS3'] == actual_ps) |\n",
    "                                                    (df_curent_final['PS4'] == actual_ps) |\n",
    "                                                    (df_curent_final['PS5'] == actual_ps) |\n",
    "                                                    (df_curent_final['PS6'] == actual_ps) |\n",
    "                                                    (df_curent_final['PS7'] == actual_ps) |\n",
    "                                                    (df_curent_final['PS8'] == actual_ps) |\n",
    "                                                    (df_curent_final['PS9'] == actual_ps) |\n",
    "                                                    (df_curent_final['PS10'] == actual_ps)][['Title']]"
   ]
  },
  {
   "cell_type": "code",
   "execution_count": null,
   "metadata": {},
   "outputs": [],
   "source": [
    "len(df_curent_final), len(current_titles_in_df_curent_final), len(chosen_model_df)"
   ]
  },
  {
   "cell_type": "code",
   "execution_count": null,
   "metadata": {},
   "outputs": [],
   "source": [
    "current_titles_in_df_curent_final.head()"
   ]
  },
  {
   "cell_type": "markdown",
   "metadata": {},
   "source": [
    "Define the function for getting the missing titles."
   ]
  },
  {
   "cell_type": "code",
   "execution_count": null,
   "metadata": {},
   "outputs": [],
   "source": [
    "def missing_titles_new(chosen_model_df):\n",
    "    zz = 0\n",
    "    missing_titles = []\n",
    "    for single_title in chosen_model_df['Title']:\n",
    "        found_titles = search_titles(current_titles_in_df_curent_final, single_title)\n",
    "        #print('found_titles: ', found_titles)\n",
    "        if found_titles.empty:\n",
    "            missing_titles.append(single_title)\n",
    "        sttr = f\"nr: {zz}  Title: {single_title} DF empty: {found_titles.empty}\"\n",
    "        #print(sttr)\n",
    "        zz = zz+1\n",
    "    return missing_titles\n",
    "\n",
    "\n"
   ]
  },
  {
   "cell_type": "markdown",
   "metadata": {},
   "source": [
    "Get the list of missing titles."
   ]
  },
  {
   "cell_type": "code",
   "execution_count": null,
   "metadata": {},
   "outputs": [],
   "source": [
    "missing_titles = missing_titles_new(chosen_model_df)\n",
    "missing_titles[:]"
   ]
  },
  {
   "cell_type": "markdown",
   "metadata": {},
   "source": [
    "Specify the search ... look at special strings.."
   ]
  },
  {
   "cell_type": "code",
   "execution_count": null,
   "metadata": {},
   "outputs": [],
   "source": [
    "search_string = 'bonus'\n",
    "df_curent_final.loc[search_titles(current_titles_in_df_curent_final, search_string).index[0].item()]"
   ]
  },
  {
   "cell_type": "markdown",
   "metadata": {},
   "source": [
    "# Britney Shannon --> finished"
   ]
  },
  {
   "cell_type": "code",
   "execution_count": null,
   "metadata": {},
   "outputs": [],
   "source": [
    "# Individually adjusted\n",
    "actual_ps = 'Britney Shannon'\n",
    "chosen_model_brazz_site = ['https://www.brazzers.com/videos/models/26966/britney-shannon/page/']\n",
    "max_page_len_of_chosen_model = [1]\n",
    "# from create_df_actual_ps import create_df_actual_ps\n",
    "chosen_model_df = create_df_actual_ps(actual_ps, chosen_model_brazz_site, max_page_len_of_chosen_model)"
   ]
  },
  {
   "cell_type": "markdown",
   "metadata": {},
   "source": [
    "Import the df_final for getting the missing titles"
   ]
  },
  {
   "cell_type": "code",
   "execution_count": null,
   "metadata": {},
   "outputs": [],
   "source": [
    "df_curent_final = pd.read_csv('df_final_my_db_21_09_22.csv', index_col=[0])\n",
    "current_titles_in_df_curent_final = df_curent_final[(df_curent_final['PS1'] == actual_ps) |\n",
    "                                                    (df_curent_final['PS2'] == actual_ps) |\n",
    "                                                    (df_curent_final['PS3'] == actual_ps) |\n",
    "                                                    (df_curent_final['PS4'] == actual_ps) |\n",
    "                                                    (df_curent_final['PS5'] == actual_ps) |\n",
    "                                                    (df_curent_final['PS6'] == actual_ps) |\n",
    "                                                    (df_curent_final['PS7'] == actual_ps) |\n",
    "                                                    (df_curent_final['PS8'] == actual_ps) |\n",
    "                                                    (df_curent_final['PS9'] == actual_ps) |\n",
    "                                                    (df_curent_final['PS10'] == actual_ps)][['Title']]"
   ]
  },
  {
   "cell_type": "markdown",
   "metadata": {},
   "source": [
    "Get information about the counts of titles.."
   ]
  },
  {
   "cell_type": "code",
   "execution_count": null,
   "metadata": {},
   "outputs": [],
   "source": [
    "print(f'Count of df_current_final: {len(df_curent_final)}')\n",
    "print(f'Current_titles in df_final of {actual_ps}: {len(current_titles_in_df_curent_final)}')\n",
    "print(f'Count of {actual_ps} of braz_sides: {len(chosen_model_df)}')\n",
    "print(f'==')"
   ]
  },
  {
   "cell_type": "markdown",
   "metadata": {},
   "source": [
    "Getting list of missing titles"
   ]
  },
  {
   "cell_type": "code",
   "execution_count": null,
   "metadata": {},
   "outputs": [],
   "source": [
    "missing_titles = missing_titles_new(chosen_model_df)\n",
    "missing_titles[:]"
   ]
  },
  {
   "cell_type": "code",
   "execution_count": null,
   "metadata": {},
   "outputs": [],
   "source": [
    "current_titles_in_df_curent_final"
   ]
  },
  {
   "cell_type": "markdown",
   "metadata": {},
   "source": [
    "# Carmella Bing --> finished"
   ]
  },
  {
   "cell_type": "code",
   "execution_count": null,
   "metadata": {},
   "outputs": [],
   "source": [
    "# Individually adjusted\n",
    "actual_ps = 'Carmella Bing'\n",
    "chosen_model_brazz_site = ['https://www.brazzers.com/videos/models/2643/carmella-bing/page/']\n",
    "max_page_len_of_chosen_model = [2]\n",
    "# from create_df_actual_ps import create_df_actual_ps\n",
    "chosen_model_df = create_df_actual_ps(actual_ps, chosen_model_brazz_site, max_page_len_of_chosen_model)"
   ]
  },
  {
   "cell_type": "code",
   "execution_count": null,
   "metadata": {},
   "outputs": [],
   "source": [
    "df_curent_final = pd.read_csv('df_final_my_db_21_09_22.csv', index_col=[0])\n",
    "current_titles_in_df_curent_final = df_curent_final[(df_curent_final['PS1'] == actual_ps) |\n",
    "                                                    (df_curent_final['PS2'] == actual_ps) |\n",
    "                                                    (df_curent_final['PS3'] == actual_ps) |\n",
    "                                                    (df_curent_final['PS4'] == actual_ps) |\n",
    "                                                    (df_curent_final['PS5'] == actual_ps) |\n",
    "                                                    (df_curent_final['PS6'] == actual_ps) |\n",
    "                                                    (df_curent_final['PS7'] == actual_ps) |\n",
    "                                                    (df_curent_final['PS8'] == actual_ps) |\n",
    "                                                    (df_curent_final['PS9'] == actual_ps) |\n",
    "                                                    (df_curent_final['PS10'] == actual_ps)][['Title']]"
   ]
  },
  {
   "cell_type": "markdown",
   "metadata": {},
   "source": [
    "Getting information about the titles"
   ]
  },
  {
   "cell_type": "code",
   "execution_count": null,
   "metadata": {},
   "outputs": [],
   "source": [
    "print(f'Count of df_current_final: {len(df_curent_final)}')\n",
    "print(f'Current_titles in df_final of {actual_ps}: {len(current_titles_in_df_curent_final)}')\n",
    "print(f'Count of {actual_ps} of braz_sides: {len(chosen_model_df)}')\n",
    "print(f'==')"
   ]
  },
  {
   "cell_type": "markdown",
   "metadata": {},
   "source": [
    "Missing titles..."
   ]
  },
  {
   "cell_type": "code",
   "execution_count": null,
   "metadata": {},
   "outputs": [],
   "source": [
    "missing_titles = missing_titles_new(chosen_model_df)\n",
    "missing_titles[:]"
   ]
  },
  {
   "cell_type": "markdown",
   "metadata": {},
   "source": [
    "Specify the search..."
   ]
  },
  {
   "cell_type": "code",
   "execution_count": null,
   "metadata": {},
   "outputs": [],
   "source": [
    "search_string = 'job'\n",
    "df_curent_final.loc[search_titles(current_titles_in_df_curent_final, search_string).index[0].item()]"
   ]
  },
  {
   "cell_type": "markdown",
   "metadata": {},
   "source": [
    "# Cathy Heaven --> finished"
   ]
  },
  {
   "cell_type": "code",
   "execution_count": null,
   "metadata": {},
   "outputs": [],
   "source": [
    "# Individually adjusted\n",
    "actual_ps = 'Cathy Heaven'\n",
    "chosen_model_brazz_site = ['https://www.brazzers.com/videos/models/4769/cathy-heaven/page/']\n",
    "max_page_len_of_chosen_model = [1]\n",
    "# from create_df_actual_ps import create_df_actual_ps\n",
    "chosen_model_df = create_df_actual_ps(actual_ps, chosen_model_brazz_site, max_page_len_of_chosen_model)"
   ]
  },
  {
   "cell_type": "code",
   "execution_count": null,
   "metadata": {},
   "outputs": [],
   "source": [
    "df_curent_final = pd.read_csv('df_final_my_db_21_09_22.csv', index_col=[0])\n",
    "current_titles_in_df_curent_final = df_curent_final[(df_curent_final['PS1'] == actual_ps) |\n",
    "                                                    (df_curent_final['PS2'] == actual_ps) |\n",
    "                                                    (df_curent_final['PS3'] == actual_ps) |\n",
    "                                                    (df_curent_final['PS4'] == actual_ps) |\n",
    "                                                    (df_curent_final['PS5'] == actual_ps) |\n",
    "                                                    (df_curent_final['PS6'] == actual_ps) |\n",
    "                                                    (df_curent_final['PS7'] == actual_ps) |\n",
    "                                                    (df_curent_final['PS8'] == actual_ps) |\n",
    "                                                    (df_curent_final['PS9'] == actual_ps) |\n",
    "                                                    (df_curent_final['PS10'] == actual_ps)][['Title']]"
   ]
  },
  {
   "cell_type": "markdown",
   "metadata": {},
   "source": [
    "Getting infos about titles"
   ]
  },
  {
   "cell_type": "code",
   "execution_count": null,
   "metadata": {},
   "outputs": [],
   "source": [
    "print(f'Count of df_current_final: {len(df_curent_final)}')\n",
    "print(f'Current_titles in df_final of {actual_ps}: {len(current_titles_in_df_curent_final)}')\n",
    "print(f'Count of {actual_ps} of braz_sides: {len(chosen_model_df)}')\n",
    "print(f'==')"
   ]
  },
  {
   "cell_type": "code",
   "execution_count": null,
   "metadata": {},
   "outputs": [],
   "source": [
    "missing_titles = missing_titles_new(chosen_model_df)\n",
    "missing_titles[:]"
   ]
  },
  {
   "cell_type": "markdown",
   "metadata": {},
   "source": [
    "Specify the search"
   ]
  },
  {
   "cell_type": "code",
   "execution_count": null,
   "metadata": {},
   "outputs": [],
   "source": [
    "search_string = 'heavenly'\n",
    "df_curent_final.loc[search_titles(current_titles_in_df_curent_final, search_string).index[0].item()]"
   ]
  },
  {
   "cell_type": "code",
   "execution_count": null,
   "metadata": {},
   "outputs": [],
   "source": []
  },
  {
   "cell_type": "code",
   "execution_count": null,
   "metadata": {},
   "outputs": [],
   "source": [
    "current_titles_in_df_curent_final"
   ]
  },
  {
   "cell_type": "markdown",
   "metadata": {},
   "source": [
    "****"
   ]
  },
  {
   "cell_type": "markdown",
   "metadata": {},
   "source": [
    "# Kendra Lust --> finished (temporary)"
   ]
  },
  {
   "cell_type": "code",
   "execution_count": null,
   "metadata": {},
   "outputs": [],
   "source": [
    "# Individually adjusted\n",
    "actual_ps = 'Kendra Lust'\n",
    "chosen_model_brazz_site = ['https://www.brazzers.com/videos/models/2617/kendra-lust/']\n",
    "max_page_len_of_chosen_model = [3]\n",
    "# from create_df_actual_ps import create_df_actual_ps\n",
    "chosen_model_df = create_df_actual_ps(actual_ps, chosen_model_brazz_site, max_page_len_of_chosen_model)"
   ]
  },
  {
   "cell_type": "code",
   "execution_count": null,
   "metadata": {},
   "outputs": [],
   "source": [
    "df_curent_final = pd.read_csv('df_final_my_db_22_09_22.csv', index_col=[0])\n",
    "current_titles_in_df_curent_final = df_curent_final[(df_curent_final['PS1'] == actual_ps) |\n",
    "                                                    (df_curent_final['PS2'] == actual_ps) |\n",
    "                                                    (df_curent_final['PS3'] == actual_ps) |\n",
    "                                                    (df_curent_final['PS4'] == actual_ps) |\n",
    "                                                    (df_curent_final['PS5'] == actual_ps) |\n",
    "                                                    (df_curent_final['PS6'] == actual_ps) |\n",
    "                                                    (df_curent_final['PS7'] == actual_ps) |\n",
    "                                                    (df_curent_final['PS8'] == actual_ps) |\n",
    "                                                    (df_curent_final['PS9'] == actual_ps) |\n",
    "                                                    (df_curent_final['PS10'] == actual_ps)][['Title']]"
   ]
  },
  {
   "cell_type": "markdown",
   "metadata": {},
   "source": [
    "Getting infos of the titles"
   ]
  },
  {
   "cell_type": "code",
   "execution_count": null,
   "metadata": {},
   "outputs": [],
   "source": [
    "print(f'Count of df_current_final: {len(df_curent_final)}')\n",
    "print(f'Current_titles in df_final of {actual_ps}: {len(current_titles_in_df_curent_final)}')\n",
    "print(f'Count of {actual_ps} of braz_sides: {len(chosen_model_df)}')\n",
    "print(f'==')"
   ]
  },
  {
   "cell_type": "code",
   "execution_count": null,
   "metadata": {},
   "outputs": [],
   "source": [
    "missing_titles = missing_titles_new(chosen_model_df)\n",
    "missing_titles[:]"
   ]
  },
  {
   "cell_type": "markdown",
   "metadata": {},
   "source": [
    "Specify the search"
   ]
  },
  {
   "cell_type": "code",
   "execution_count": null,
   "metadata": {},
   "outputs": [],
   "source": [
    "search_string = 'garden'\n",
    "df_curent_final.loc[search_titles(current_titles_in_df_curent_final, search_string).index[0].item()]"
   ]
  },
  {
   "cell_type": "markdown",
   "metadata": {},
   "source": [
    "# Romi Rain --> finished (temporary)"
   ]
  },
  {
   "cell_type": "code",
   "execution_count": null,
   "metadata": {},
   "outputs": [],
   "source": [
    "# Individually adjusted\n",
    "actual_ps = 'Romi Rain'\n",
    "chosen_model_brazz_site = ['https://www.brazzers.com/videos/models/3431/romi-rain/page/']\n",
    "max_page_len_of_chosen_model = [4]\n",
    "# from create_df_actual_ps import create_df_actual_ps\n",
    "chosen_model_df = create_df_actual_ps(actual_ps, chosen_model_brazz_site, max_page_len_of_chosen_model)"
   ]
  },
  {
   "cell_type": "code",
   "execution_count": null,
   "metadata": {},
   "outputs": [],
   "source": [
    "df_curent_final = pd.read_csv('df_final_my_db_26_09_22.csv', index_col=[0])\n",
    "current_titles_in_df_curent_final = df_curent_final[(df_curent_final['PS1'] == actual_ps) |\n",
    "                                                    (df_curent_final['PS2'] == actual_ps) |\n",
    "                                                    (df_curent_final['PS3'] == actual_ps) |\n",
    "                                                    (df_curent_final['PS4'] == actual_ps) |\n",
    "                                                    (df_curent_final['PS5'] == actual_ps) |\n",
    "                                                    (df_curent_final['PS6'] == actual_ps) |\n",
    "                                                    (df_curent_final['PS7'] == actual_ps) |\n",
    "                                                    (df_curent_final['PS8'] == actual_ps) |\n",
    "                                                    (df_curent_final['PS9'] == actual_ps) |\n",
    "                                                    (df_curent_final['PS10'] == actual_ps)][['Title']]"
   ]
  },
  {
   "cell_type": "markdown",
   "metadata": {},
   "source": [
    "Getting infos about the titles"
   ]
  },
  {
   "cell_type": "code",
   "execution_count": null,
   "metadata": {},
   "outputs": [],
   "source": [
    "print(f'Count of df_current_final: {len(df_curent_final)}')\n",
    "print(f'Current_titles in df_final of {actual_ps}: {len(current_titles_in_df_curent_final)}')\n",
    "print(f'Count of {actual_ps} of braz_sides: {len(chosen_model_df)}')\n",
    "print(f'==')"
   ]
  },
  {
   "cell_type": "code",
   "execution_count": null,
   "metadata": {},
   "outputs": [],
   "source": [
    "missing_titles = missing_titles_new(chosen_model_df)\n",
    "missing_titles[:]"
   ]
  },
  {
   "cell_type": "markdown",
   "metadata": {},
   "source": [
    "Specify the search"
   ]
  },
  {
   "cell_type": "code",
   "execution_count": null,
   "metadata": {},
   "outputs": [],
   "source": [
    "search_string = 'nurse'\n",
    "df_curent_final.loc[search_titles(current_titles_in_df_curent_final, search_string).index[0].item()]"
   ]
  },
  {
   "cell_type": "markdown",
   "metadata": {},
   "source": [
    "# Holly Halston --> finished (temporary)"
   ]
  },
  {
   "cell_type": "code",
   "execution_count": null,
   "metadata": {},
   "outputs": [],
   "source": [
    "# Individually adjusted\n",
    "actual_ps = 'Holly Halston'\n",
    "chosen_model_brazz_site = ['https://www.brazzers.com/videos/models/3681/holly-halston/page/']\n",
    "max_page_len_of_chosen_model = [2]\n",
    "# from create_df_actual_ps import create_df_actual_ps\n",
    "chosen_model_df = create_df_actual_ps(actual_ps, chosen_model_brazz_site, max_page_len_of_chosen_model)"
   ]
  },
  {
   "cell_type": "code",
   "execution_count": null,
   "metadata": {},
   "outputs": [],
   "source": [
    "df_curent_final = pd.read_csv('df_final_my_db_30_09_22.csv', index_col=[0])\n",
    "current_titles_in_df_curent_final = df_curent_final[(df_curent_final['PS1'] == actual_ps) |\n",
    "                                                    (df_curent_final['PS2'] == actual_ps) |\n",
    "                                                    (df_curent_final['PS3'] == actual_ps) |\n",
    "                                                    (df_curent_final['PS4'] == actual_ps) |\n",
    "                                                    (df_curent_final['PS5'] == actual_ps) |\n",
    "                                                    (df_curent_final['PS6'] == actual_ps) |\n",
    "                                                    (df_curent_final['PS7'] == actual_ps) |\n",
    "                                                    (df_curent_final['PS8'] == actual_ps) |\n",
    "                                                    (df_curent_final['PS9'] == actual_ps) |\n",
    "                                                    (df_curent_final['PS10'] == actual_ps)][['Title']]"
   ]
  },
  {
   "cell_type": "markdown",
   "metadata": {},
   "source": [
    "Infos about the titles"
   ]
  },
  {
   "cell_type": "code",
   "execution_count": null,
   "metadata": {},
   "outputs": [],
   "source": [
    "print(f'Count of df_current_final: {len(df_curent_final)}')\n",
    "print(f'Current_titles in df_final of {actual_ps}: {len(current_titles_in_df_curent_final)}')\n",
    "print(f'Count of {actual_ps} of braz_sides: {len(chosen_model_df)}')\n",
    "print(f'==')"
   ]
  },
  {
   "cell_type": "code",
   "execution_count": null,
   "metadata": {},
   "outputs": [],
   "source": [
    "missing_titles = missing_titles_new(chosen_model_df)\n",
    "missing_titles[:]"
   ]
  },
  {
   "cell_type": "markdown",
   "metadata": {},
   "source": [
    "Specify the search"
   ]
  },
  {
   "cell_type": "code",
   "execution_count": null,
   "metadata": {},
   "outputs": [],
   "source": [
    "search_string = 'ribbon'\n",
    "df_curent_final.loc[search_titles(current_titles_in_df_curent_final, search_string).index[0].item()]"
   ]
  },
  {
   "cell_type": "markdown",
   "metadata": {},
   "source": [
    "# Nicolette Shea (awesome) --> finished"
   ]
  },
  {
   "cell_type": "code",
   "execution_count": null,
   "metadata": {},
   "outputs": [],
   "source": [
    "# Individually adjusted\n",
    "actual_ps = 'Nicolette Shea'\n",
    "chosen_model_brazz_site = ['https://www.brazzers.com/videos/models/12837/nicolette-shea/page/']\n",
    "max_page_len_of_chosen_model = [4]\n",
    "# from create_df_actual_ps import create_df_actual_ps\n",
    "chosen_model_df = create_df_actual_ps(actual_ps, chosen_model_brazz_site, max_page_len_of_chosen_model)"
   ]
  },
  {
   "cell_type": "code",
   "execution_count": null,
   "metadata": {},
   "outputs": [],
   "source": [
    "df_curent_final = pd.read_csv('df_final_my_db_30_09_22.csv', index_col=[0])\n",
    "current_titles_in_df_curent_final = df_curent_final[(df_curent_final['PS1'] == actual_ps) |\n",
    "                                                    (df_curent_final['PS2'] == actual_ps) |\n",
    "                                                    (df_curent_final['PS3'] == actual_ps) |\n",
    "                                                    (df_curent_final['PS4'] == actual_ps) |\n",
    "                                                    (df_curent_final['PS5'] == actual_ps) |\n",
    "                                                    (df_curent_final['PS6'] == actual_ps) |\n",
    "                                                    (df_curent_final['PS7'] == actual_ps) |\n",
    "                                                    (df_curent_final['PS8'] == actual_ps) |\n",
    "                                                    (df_curent_final['PS9'] == actual_ps) |\n",
    "                                                    (df_curent_final['PS10'] == actual_ps)][['Title']]"
   ]
  },
  {
   "cell_type": "markdown",
   "metadata": {},
   "source": [
    "Infos about the titles"
   ]
  },
  {
   "cell_type": "code",
   "execution_count": null,
   "metadata": {},
   "outputs": [],
   "source": [
    "print(f'Count of df_current_final: {len(df_curent_final)}')\n",
    "print(f'Current_titles in df_final of {actual_ps}: {len(current_titles_in_df_curent_final)}')\n",
    "print(f'Count of {actual_ps} of braz_sides: {len(chosen_model_df)}')\n",
    "print(f'==')"
   ]
  },
  {
   "cell_type": "code",
   "execution_count": null,
   "metadata": {},
   "outputs": [],
   "source": [
    "missing_titles = missing_titles_new(chosen_model_df)\n",
    "missing_titles[:]"
   ]
  },
  {
   "cell_type": "markdown",
   "metadata": {},
   "source": [
    "Specify the search"
   ]
  },
  {
   "cell_type": "code",
   "execution_count": null,
   "metadata": {},
   "outputs": [],
   "source": [
    "search_string = 'bimbo'\n",
    "df_curent_final.loc[search_titles(current_titles_in_df_curent_final, search_string).index[0].item()]"
   ]
  },
  {
   "cell_type": "code",
   "execution_count": null,
   "metadata": {},
   "outputs": [],
   "source": [
    "df_curent_final.iloc[1715]"
   ]
  },
  {
   "cell_type": "markdown",
   "metadata": {},
   "source": [
    "# Jayden Jaymes (awesome) --> finished"
   ]
  },
  {
   "cell_type": "code",
   "execution_count": null,
   "metadata": {},
   "outputs": [],
   "source": [
    "# Individually adjusted\n",
    "actual_ps = 'Jayden Jaymes'\n",
    "chosen_model_brazz_site = ['https://www.brazzers.com/videos/models/4457/jayden-jaymes/page']\n",
    "max_page_len_of_chosen_model = [2]\n",
    "# from create_df_actual_ps import create_df_actual_ps\n",
    "chosen_model_df = create_df_actual_ps(actual_ps, chosen_model_brazz_site, max_page_len_of_chosen_model)"
   ]
  },
  {
   "cell_type": "code",
   "execution_count": null,
   "metadata": {},
   "outputs": [],
   "source": [
    "df_curent_final = pd.read_csv('df_final_my_db_01_10_22.csv', index_col=[0])\n",
    "current_titles_in_df_curent_final = df_curent_final[(df_curent_final['PS1'] == actual_ps) |\n",
    "                                                    (df_curent_final['PS2'] == actual_ps) |\n",
    "                                                    (df_curent_final['PS3'] == actual_ps) |\n",
    "                                                    (df_curent_final['PS4'] == actual_ps) |\n",
    "                                                    (df_curent_final['PS5'] == actual_ps) |\n",
    "                                                    (df_curent_final['PS6'] == actual_ps) |\n",
    "                                                    (df_curent_final['PS7'] == actual_ps) |\n",
    "                                                    (df_curent_final['PS8'] == actual_ps) |\n",
    "                                                    (df_curent_final['PS9'] == actual_ps) |\n",
    "                                                    (df_curent_final['PS10'] == actual_ps)][['Title']]"
   ]
  },
  {
   "cell_type": "markdown",
   "metadata": {},
   "source": [
    "Infos about the title"
   ]
  },
  {
   "cell_type": "code",
   "execution_count": null,
   "metadata": {},
   "outputs": [],
   "source": [
    "print(f'Count of df_current_final: {len(df_curent_final)}')\n",
    "print(f'Current_titles in df_final of {actual_ps}: {len(current_titles_in_df_curent_final)}')\n",
    "print(f'Count of {actual_ps} of braz_sides: {len(chosen_model_df)}')\n",
    "print(f'==')"
   ]
  },
  {
   "cell_type": "code",
   "execution_count": null,
   "metadata": {},
   "outputs": [],
   "source": [
    "missing_titles = missing_titles_new(chosen_model_df)\n",
    "missing_titles[:]   "
   ]
  },
  {
   "cell_type": "markdown",
   "metadata": {},
   "source": [
    "Specify the search"
   ]
  },
  {
   "cell_type": "code",
   "execution_count": null,
   "metadata": {},
   "outputs": [],
   "source": [
    "search_string = 'dream'\n",
    "df_curent_final.loc[search_titles(current_titles_in_df_curent_final, search_string).index[0].item()]"
   ]
  },
  {
   "cell_type": "markdown",
   "metadata": {},
   "source": [
    "# Stella Cox (awesome)"
   ]
  },
  {
   "cell_type": "code",
   "execution_count": null,
   "metadata": {},
   "outputs": [],
   "source": [
    "# Individually adjusted\n",
    "actual_ps = 'Stella Cox'\n",
    "chosen_model_brazz_site = ['https://www.brazzers.com/videos/models/6967/stella-cox/page/']\n",
    "max_page_len_of_chosen_model = [1]\n",
    "# from create_df_actual_ps import create_df_actual_ps\n",
    "chosen_model_df = create_df_actual_ps(actual_ps, chosen_model_brazz_site, max_page_len_of_chosen_model)"
   ]
  },
  {
   "cell_type": "code",
   "execution_count": null,
   "metadata": {},
   "outputs": [],
   "source": [
    "df_curent_final = pd.read_csv('df_final_my_db_01_10_22.csv', index_col=[0])\n",
    "current_titles_in_df_curent_final = df_curent_final[(df_curent_final['PS1'] == actual_ps) |\n",
    "                                                    (df_curent_final['PS2'] == actual_ps) |\n",
    "                                                    (df_curent_final['PS3'] == actual_ps) |\n",
    "                                                    (df_curent_final['PS4'] == actual_ps) |\n",
    "                                                    (df_curent_final['PS5'] == actual_ps) |\n",
    "                                                    (df_curent_final['PS6'] == actual_ps) |\n",
    "                                                    (df_curent_final['PS7'] == actual_ps) |\n",
    "                                                    (df_curent_final['PS8'] == actual_ps) |\n",
    "                                                    (df_curent_final['PS9'] == actual_ps) |\n",
    "                                                    (df_curent_final['PS10'] == actual_ps)][['Title']]"
   ]
  },
  {
   "cell_type": "markdown",
   "metadata": {},
   "source": [
    "Infos about the titles"
   ]
  },
  {
   "cell_type": "code",
   "execution_count": null,
   "metadata": {},
   "outputs": [],
   "source": [
    "print(f'Count of df_current_final: {len(df_curent_final)}')\n",
    "print(f'Current_titles in df_final of {actual_ps}: {len(current_titles_in_df_curent_final)}')\n",
    "print(f'Count of {actual_ps} of braz_sides: {len(chosen_model_df)}')\n",
    "print(f'==')"
   ]
  },
  {
   "cell_type": "code",
   "execution_count": null,
   "metadata": {},
   "outputs": [],
   "source": [
    "missing_titles = missing_titles_new(chosen_model_df)\n",
    "missing_titles[:] "
   ]
  },
  {
   "cell_type": "code",
   "execution_count": null,
   "metadata": {},
   "outputs": [],
   "source": [
    "import tqdm\n",
    "import time\n",
    "for i in tqdm.tqdm([1, 2, 14, 5]):\n",
    "    time.sleep(1)"
   ]
  },
  {
   "cell_type": "markdown",
   "metadata": {},
   "source": [
    "# Chessie Kay"
   ]
  },
  {
   "cell_type": "code",
   "execution_count": null,
   "metadata": {},
   "outputs": [],
   "source": [
    "# Individually adjusted\n",
    "actual_ps = 'Chessie Kay'\n",
    "chosen_model_brazz_site = ['https://www.brazzers.com/videos/models/22928/chessie-kay/page']\n",
    "max_page_len_of_chosen_model = [1]\n",
    "# from create_df_actual_ps import create_df_actual_ps\n",
    "chosen_model_df = create_df_actual_ps(actual_ps, chosen_model_brazz_site, max_page_len_of_chosen_model)"
   ]
  },
  {
   "cell_type": "code",
   "execution_count": null,
   "metadata": {},
   "outputs": [],
   "source": [
    "df_curent_final = pd.read_csv('df_final_my_db_01_10_22.csv', index_col=[0])\n",
    "current_titles_in_df_curent_final = df_curent_final[(df_curent_final['PS1'] == actual_ps) |\n",
    "                                                    (df_curent_final['PS2'] == actual_ps) |\n",
    "                                                    (df_curent_final['PS3'] == actual_ps) |\n",
    "                                                    (df_curent_final['PS4'] == actual_ps) |\n",
    "                                                    (df_curent_final['PS5'] == actual_ps) |\n",
    "                                                    (df_curent_final['PS6'] == actual_ps) |\n",
    "                                                    (df_curent_final['PS7'] == actual_ps) |\n",
    "                                                    (df_curent_final['PS8'] == actual_ps) |\n",
    "                                                    (df_curent_final['PS9'] == actual_ps) |\n",
    "                                                    (df_curent_final['PS10'] == actual_ps)][['Title']]"
   ]
  },
  {
   "cell_type": "markdown",
   "metadata": {},
   "source": [
    "Infos about the titles"
   ]
  },
  {
   "cell_type": "code",
   "execution_count": null,
   "metadata": {},
   "outputs": [],
   "source": [
    "print(f'Count of df_current_final: {len(df_curent_final)}')\n",
    "print(f'Current_titles in df_final of {actual_ps}: {len(current_titles_in_df_curent_final)}')\n",
    "print(f'Count of {actual_ps} of braz_sides: {len(chosen_model_df)}')\n",
    "print(f'==')"
   ]
  },
  {
   "cell_type": "code",
   "execution_count": null,
   "metadata": {},
   "outputs": [],
   "source": [
    "missing_titles = missing_titles_new(chosen_model_df)\n",
    "missing_titles[:] "
   ]
  },
  {
   "cell_type": "markdown",
   "metadata": {},
   "source": [
    "# Christie Stevens --> finished"
   ]
  },
  {
   "cell_type": "code",
   "execution_count": null,
   "metadata": {},
   "outputs": [],
   "source": [
    "# Individually adjusted\n",
    "actual_ps = 'Christie Stevens'\n",
    "chosen_model_brazz_site = ['https://www.brazzers.com/videos/models/14187/christie-stevens/page']\n",
    "max_page_len_of_chosen_model = [1]\n",
    "# from create_df_actual_ps import create_df_actual_ps\n",
    "chosen_model_df = create_df_actual_ps(actual_ps, chosen_model_brazz_site, max_page_len_of_chosen_model)"
   ]
  },
  {
   "cell_type": "code",
   "execution_count": null,
   "metadata": {},
   "outputs": [],
   "source": [
    "df_curent_final = pd.read_csv('df_final_my_db_01_11_22.csv', index_col=[0])\n",
    "current_titles_in_df_curent_final = df_curent_final[(df_curent_final['PS1'] == actual_ps) |\n",
    "                                                    (df_curent_final['PS2'] == actual_ps) |\n",
    "                                                    (df_curent_final['PS3'] == actual_ps) |\n",
    "                                                    (df_curent_final['PS4'] == actual_ps) |\n",
    "                                                    (df_curent_final['PS5'] == actual_ps) |\n",
    "                                                    (df_curent_final['PS6'] == actual_ps) |\n",
    "                                                    (df_curent_final['PS7'] == actual_ps) |\n",
    "                                                    (df_curent_final['PS8'] == actual_ps) |\n",
    "                                                    (df_curent_final['PS9'] == actual_ps) |\n",
    "                                                    (df_curent_final['PS10'] == actual_ps)][['Title']]"
   ]
  },
  {
   "cell_type": "markdown",
   "metadata": {},
   "source": [
    "Infos about the titles"
   ]
  },
  {
   "cell_type": "code",
   "execution_count": null,
   "metadata": {},
   "outputs": [],
   "source": [
    "print(f'Count of df_current_final: {len(df_curent_final)}')\n",
    "print(f'Current_titles in df_final of {actual_ps}: {len(current_titles_in_df_curent_final)}')\n",
    "print(f'Count of {actual_ps} of braz_sides: {len(chosen_model_df)}')\n",
    "print(f'==')"
   ]
  },
  {
   "cell_type": "code",
   "execution_count": null,
   "metadata": {},
   "outputs": [],
   "source": [
    "missing_titles = missing_titles_new(chosen_model_df)\n",
    "missing_titles[:] "
   ]
  },
  {
   "cell_type": "code",
   "execution_count": null,
   "metadata": {},
   "outputs": [],
   "source": [
    "current_titles_in_df_curent_final"
   ]
  },
  {
   "cell_type": "code",
   "execution_count": null,
   "metadata": {},
   "outputs": [],
   "source": [
    "search_string = 'dewey'\n",
    "df_curent_final.loc[search_titles(current_titles_in_df_curent_final, search_string).index[0].item()]"
   ]
  },
  {
   "cell_type": "markdown",
   "metadata": {},
   "source": [
    "# Claire Dames --> finished"
   ]
  },
  {
   "cell_type": "code",
   "execution_count": null,
   "metadata": {},
   "outputs": [],
   "source": [
    "# Individually adjusted\n",
    "actual_ps = 'Claire Dames'\n",
    "chosen_model_brazz_site = ['https://www.brazzers.com/videos/models/7099/claire-dames/page']\n",
    "max_page_len_of_chosen_model = [1]\n",
    "# from create_df_actual_ps import create_df_actual_ps\n",
    "chosen_model_df = create_df_actual_ps(actual_ps, chosen_model_brazz_site, max_page_len_of_chosen_model)"
   ]
  },
  {
   "cell_type": "code",
   "execution_count": null,
   "metadata": {},
   "outputs": [],
   "source": [
    "df_curent_final = pd.read_csv('df_final_my_db_03_11_22.csv', index_col=[0])\n",
    "current_titles_in_df_curent_final = df_curent_final[(df_curent_final['PS1'] == actual_ps) |\n",
    "                                                    (df_curent_final['PS2'] == actual_ps) |\n",
    "                                                    (df_curent_final['PS3'] == actual_ps) |\n",
    "                                                    (df_curent_final['PS4'] == actual_ps) |\n",
    "                                                    (df_curent_final['PS5'] == actual_ps) |\n",
    "                                                    (df_curent_final['PS6'] == actual_ps) |\n",
    "                                                    (df_curent_final['PS7'] == actual_ps) |\n",
    "                                                    (df_curent_final['PS8'] == actual_ps) |\n",
    "                                                    (df_curent_final['PS9'] == actual_ps) |\n",
    "                                                    (df_curent_final['PS10'] == actual_ps)][['Title']]"
   ]
  },
  {
   "cell_type": "markdown",
   "metadata": {},
   "source": [
    "Infos about the titles"
   ]
  },
  {
   "cell_type": "code",
   "execution_count": null,
   "metadata": {},
   "outputs": [],
   "source": [
    "print(f'Count of df_current_final: {len(df_curent_final)}')\n",
    "print(f'Current_titles in df_final of {actual_ps}: {len(current_titles_in_df_curent_final)}')\n",
    "print(f'Count of {actual_ps} of braz_sides: {len(chosen_model_df)}')\n",
    "print(f'==')"
   ]
  },
  {
   "cell_type": "code",
   "execution_count": null,
   "metadata": {},
   "outputs": [],
   "source": [
    "missing_titles = missing_titles_new(chosen_model_df)\n",
    "missing_titles[:] "
   ]
  },
  {
   "cell_type": "markdown",
   "metadata": {},
   "source": [
    "Specify the search"
   ]
  },
  {
   "cell_type": "code",
   "execution_count": null,
   "metadata": {},
   "outputs": [],
   "source": [
    "search_string = 'dominator'\n",
    "df_curent_final.loc[search_titles(current_titles_in_df_curent_final, search_string).index[0].item()]"
   ]
  },
  {
   "cell_type": "markdown",
   "metadata": {},
   "source": [
    "# Chessie Kay --> finished"
   ]
  },
  {
   "cell_type": "code",
   "execution_count": null,
   "metadata": {},
   "outputs": [],
   "source": [
    "# Individually adjusted\n",
    "actual_ps = 'Chessie Kay'\n",
    "chosen_model_brazz_site = ['https://www.brazzers.com/videos/models/22928/chessie-kay/page']\n",
    "max_page_len_of_chosen_model = [1]\n",
    "# from create_df_actual_ps import create_df_actual_ps\n",
    "chosen_model_df = create_df_actual_ps(actual_ps, chosen_model_brazz_site, max_page_len_of_chosen_model)"
   ]
  },
  {
   "cell_type": "code",
   "execution_count": null,
   "metadata": {},
   "outputs": [],
   "source": [
    "df_curent_final = pd.read_csv('df_final_my_db_03_11_22.csv', index_col=[0])\n",
    "current_titles_in_df_curent_final = df_curent_final[(df_curent_final['PS1'] == actual_ps) |\n",
    "                                                    (df_curent_final['PS2'] == actual_ps) |\n",
    "                                                    (df_curent_final['PS3'] == actual_ps) |\n",
    "                                                    (df_curent_final['PS4'] == actual_ps) |\n",
    "                                                    (df_curent_final['PS5'] == actual_ps) |\n",
    "                                                    (df_curent_final['PS6'] == actual_ps) |\n",
    "                                                    (df_curent_final['PS7'] == actual_ps) |\n",
    "                                                    (df_curent_final['PS8'] == actual_ps) |\n",
    "                                                    (df_curent_final['PS9'] == actual_ps) |\n",
    "                                                    (df_curent_final['PS10'] == actual_ps)][['Title']]"
   ]
  },
  {
   "cell_type": "markdown",
   "metadata": {},
   "source": [
    "Infos about the titles"
   ]
  },
  {
   "cell_type": "code",
   "execution_count": null,
   "metadata": {},
   "outputs": [],
   "source": [
    "print(f'Count of df_current_final: {len(df_curent_final)}')\n",
    "print(f'Current_titles in df_final of {actual_ps}: {len(current_titles_in_df_curent_final)}')\n",
    "print(f'Count of {actual_ps} of braz_sides: {len(chosen_model_df)}')\n",
    "print(f'==')"
   ]
  },
  {
   "cell_type": "markdown",
   "metadata": {},
   "source": [
    "# Corinna Blake --> finished"
   ]
  },
  {
   "cell_type": "code",
   "execution_count": null,
   "metadata": {},
   "outputs": [],
   "source": [
    "# Individually adjusted\n",
    "actual_ps = 'Corinna Blake'\n",
    "chosen_model_brazz_site = ['https://www.brazzers.com/videos/models/2569/corinna-blake/page']\n",
    "max_page_len_of_chosen_model = [1]\n",
    "# from create_df_actual_ps import create_df_actual_ps\n",
    "chosen_model_df = create_df_actual_ps(actual_ps, chosen_model_brazz_site, max_page_len_of_chosen_model)"
   ]
  },
  {
   "cell_type": "code",
   "execution_count": null,
   "metadata": {},
   "outputs": [],
   "source": [
    "df_curent_final = pd.read_csv('df_final_my_db_03_11_22.csv', index_col=[0])\n",
    "current_titles_in_df_curent_final = df_curent_final[(df_curent_final['PS1'] == actual_ps) |\n",
    "                                                    (df_curent_final['PS2'] == actual_ps) |\n",
    "                                                    (df_curent_final['PS3'] == actual_ps) |\n",
    "                                                    (df_curent_final['PS4'] == actual_ps) |\n",
    "                                                    (df_curent_final['PS5'] == actual_ps) |\n",
    "                                                    (df_curent_final['PS6'] == actual_ps) |\n",
    "                                                    (df_curent_final['PS7'] == actual_ps) |\n",
    "                                                    (df_curent_final['PS8'] == actual_ps) |\n",
    "                                                    (df_curent_final['PS9'] == actual_ps) |\n",
    "                                                    (df_curent_final['PS10'] == actual_ps)][['Title']]"
   ]
  },
  {
   "cell_type": "markdown",
   "metadata": {},
   "source": [
    "Infos about the titles"
   ]
  },
  {
   "cell_type": "code",
   "execution_count": null,
   "metadata": {},
   "outputs": [],
   "source": [
    "print(f'Count of df_current_final: {len(df_curent_final)}')\n",
    "print(f'Current_titles in df_final of {actual_ps}: {len(current_titles_in_df_curent_final)}')\n",
    "print(f'Count of {actual_ps} of braz_sides: {len(chosen_model_df)}')\n",
    "print(f'==')"
   ]
  },
  {
   "cell_type": "code",
   "execution_count": null,
   "metadata": {},
   "outputs": [],
   "source": [
    "current_titles_in_df_curent_final"
   ]
  },
  {
   "cell_type": "markdown",
   "metadata": {},
   "source": [
    "# Dee Williams --> finished"
   ]
  },
  {
   "cell_type": "code",
   "execution_count": null,
   "metadata": {},
   "outputs": [],
   "source": [
    "# Individually adjusted\n",
    "actual_ps = 'Dee Williams'\n",
    "chosen_model_brazz_site = ['https://www.brazzers.com/videos/models/12823/dee-williams/page']\n",
    "max_page_len_of_chosen_model = [1]\n",
    "# from create_df_actual_ps import create_df_actual_ps\n",
    "chosen_model_df = create_df_actual_ps(actual_ps, chosen_model_brazz_site, max_page_len_of_chosen_model)"
   ]
  },
  {
   "cell_type": "code",
   "execution_count": null,
   "metadata": {},
   "outputs": [],
   "source": [
    "df_curent_final = pd.read_csv('df_final_my_db_03_11_22.csv', index_col=[0])\n",
    "current_titles_in_df_curent_final = df_curent_final[(df_curent_final['PS1'] == actual_ps) |\n",
    "                                                    (df_curent_final['PS2'] == actual_ps) |\n",
    "                                                    (df_curent_final['PS3'] == actual_ps) |\n",
    "                                                    (df_curent_final['PS4'] == actual_ps) |\n",
    "                                                    (df_curent_final['PS5'] == actual_ps) |\n",
    "                                                    (df_curent_final['PS6'] == actual_ps) |\n",
    "                                                    (df_curent_final['PS7'] == actual_ps) |\n",
    "                                                    (df_curent_final['PS8'] == actual_ps) |\n",
    "                                                    (df_curent_final['PS9'] == actual_ps) |\n",
    "                                                    (df_curent_final['PS10'] == actual_ps)][['Title']]"
   ]
  },
  {
   "cell_type": "markdown",
   "metadata": {},
   "source": [
    "Infos about the titles"
   ]
  },
  {
   "cell_type": "code",
   "execution_count": null,
   "metadata": {},
   "outputs": [],
   "source": [
    "print(f'Count of df_current_final: {len(df_curent_final)}')\n",
    "print(f'Current_titles in df_final of {actual_ps}: {len(current_titles_in_df_curent_final)}')\n",
    "print(f'Count of {actual_ps} of braz_sides: {len(chosen_model_df)}')\n",
    "print(f'==')"
   ]
  },
  {
   "cell_type": "code",
   "execution_count": null,
   "metadata": {},
   "outputs": [],
   "source": [
    "missing_titles = missing_titles_new(chosen_model_df)\n",
    "missing_titles[:] "
   ]
  },
  {
   "cell_type": "markdown",
   "metadata": {},
   "source": [
    "# Donna Bell --> finshed"
   ]
  },
  {
   "cell_type": "markdown",
   "metadata": {},
   "source": [
    "# Ella Hughes --> finished"
   ]
  },
  {
   "cell_type": "code",
   "execution_count": null,
   "metadata": {},
   "outputs": [],
   "source": [
    "# Individually adjusted\n",
    "actual_ps = 'Ella Hughes'\n",
    "chosen_model_brazz_site = ['https://www.brazzers.com/videos/models/26702/ella-hughes/page']\n",
    "max_page_len_of_chosen_model = [1]\n",
    "# from create_df_actual_ps import create_df_actual_ps\n",
    "chosen_model_df = create_df_actual_ps(actual_ps, chosen_model_brazz_site, max_page_len_of_chosen_model)"
   ]
  },
  {
   "cell_type": "code",
   "execution_count": null,
   "metadata": {},
   "outputs": [],
   "source": [
    "df_curent_final = pd.read_csv('df_final_my_db_07_11_22.csv', index_col=[0])\n",
    "current_titles_in_df_curent_final = df_curent_final[(df_curent_final['PS1'] == actual_ps) |\n",
    "                                                    (df_curent_final['PS2'] == actual_ps) |\n",
    "                                                    (df_curent_final['PS3'] == actual_ps) |\n",
    "                                                    (df_curent_final['PS4'] == actual_ps) |\n",
    "                                                    (df_curent_final['PS5'] == actual_ps) |\n",
    "                                                    (df_curent_final['PS6'] == actual_ps) |\n",
    "                                                    (df_curent_final['PS7'] == actual_ps) |\n",
    "                                                    (df_curent_final['PS8'] == actual_ps) |\n",
    "                                                    (df_curent_final['PS9'] == actual_ps) |\n",
    "                                                    (df_curent_final['PS10'] == actual_ps)][['Title']]"
   ]
  },
  {
   "cell_type": "markdown",
   "metadata": {},
   "source": [
    "Infos about the titles"
   ]
  },
  {
   "cell_type": "code",
   "execution_count": null,
   "metadata": {},
   "outputs": [],
   "source": [
    "print(f'Count of df_current_final: {len(df_curent_final)}')\n",
    "print(f'Current_titles in df_final of {actual_ps}: {len(current_titles_in_df_curent_final)}')\n",
    "print(f'Count of {actual_ps} of braz_sides: {len(chosen_model_df)}')\n",
    "print(f'==')"
   ]
  },
  {
   "cell_type": "code",
   "execution_count": null,
   "metadata": {},
   "outputs": [],
   "source": [
    "missing_titles = missing_titles_new(chosen_model_df)\n",
    "missing_titles[:] "
   ]
  },
  {
   "cell_type": "code",
   "execution_count": null,
   "metadata": {},
   "outputs": [],
   "source": [
    "current_titles_in_df_curent_final\n"
   ]
  },
  {
   "cell_type": "markdown",
   "metadata": {},
   "source": [
    "# Emma Butt --> finished"
   ]
  },
  {
   "cell_type": "code",
   "execution_count": null,
   "metadata": {},
   "outputs": [],
   "source": [
    "# Individually adjusted\n",
    "actual_ps = 'Emma Butt'\n",
    "chosen_model_brazz_site = ['https://www.brazzers.com/videos/models/38324/emma-butt/page']\n",
    "max_page_len_of_chosen_model = [1]\n",
    "# from create_df_actual_ps import create_df_actual_ps\n",
    "chosen_model_df = create_df_actual_ps(actual_ps, chosen_model_brazz_site, max_page_len_of_chosen_model)\n"
   ]
  },
  {
   "cell_type": "code",
   "execution_count": null,
   "metadata": {},
   "outputs": [],
   "source": [
    "df_curent_final = pd.read_csv('df_final_my_db_07_11_22.csv', index_col=[0])\n",
    "current_titles_in_df_curent_final = df_curent_final[(df_curent_final['PS1'] == actual_ps) |\n",
    "                                                    (df_curent_final['PS2'] == actual_ps) |\n",
    "                                                    (df_curent_final['PS3'] == actual_ps) |\n",
    "                                                    (df_curent_final['PS4'] == actual_ps) |\n",
    "                                                    (df_curent_final['PS5'] == actual_ps) |\n",
    "                                                    (df_curent_final['PS6'] == actual_ps) |\n",
    "                                                    (df_curent_final['PS7'] == actual_ps) |\n",
    "                                                    (df_curent_final['PS8'] == actual_ps) |\n",
    "                                                    (df_curent_final['PS9'] == actual_ps) |\n",
    "                                                    (df_curent_final['PS10'] == actual_ps)][['Title']]"
   ]
  },
  {
   "cell_type": "markdown",
   "metadata": {},
   "source": [
    "Infos about the titles"
   ]
  },
  {
   "cell_type": "code",
   "execution_count": null,
   "metadata": {},
   "outputs": [],
   "source": [
    "print(f'Count of df_current_final: {len(df_curent_final)}')\n",
    "print(f'Current_titles in df_final of {actual_ps}: {len(current_titles_in_df_curent_final)}')\n",
    "print(f'Count of {actual_ps} of braz_sides: {len(chosen_model_df)}')\n",
    "print(f'==')"
   ]
  },
  {
   "cell_type": "markdown",
   "metadata": {},
   "source": [
    "# Eva Karera --> finished"
   ]
  },
  {
   "cell_type": "code",
   "execution_count": null,
   "metadata": {},
   "outputs": [],
   "source": [
    "# Individually adjusted\n",
    "actual_ps = 'Eva Karera'\n",
    "chosen_model_brazz_site = ['https://www.brazzers.com/videos/models/3843/eva-karera/page']\n",
    "max_page_len_of_chosen_model = [1]\n",
    "# from create_df_actual_ps import create_df_actual_ps\n",
    "chosen_model_df = create_df_actual_ps(actual_ps, chosen_model_brazz_site, max_page_len_of_chosen_model)\n",
    "df_curent_final = pd.read_csv('df_final_my_db_08_11_22.csv', index_col=[0])\n",
    "current_titles_in_df_curent_final = df_curent_final[(df_curent_final['PS1'] == actual_ps) |\n",
    "                                                    (df_curent_final['PS2'] == actual_ps) |\n",
    "                                                    (df_curent_final['PS3'] == actual_ps) |\n",
    "                                                    (df_curent_final['PS4'] == actual_ps) |\n",
    "                                                    (df_curent_final['PS5'] == actual_ps) |\n",
    "                                                    (df_curent_final['PS6'] == actual_ps) |\n",
    "                                                    (df_curent_final['PS7'] == actual_ps) |\n",
    "                                                    (df_curent_final['PS8'] == actual_ps) |\n",
    "                                                    (df_curent_final['PS9'] == actual_ps) |\n",
    "                                                    (df_curent_final['PS10'] == actual_ps)][['Title']]\n",
    "\n",
    "print('== INFOS ABOUT THE TITLES: ==')\n",
    "print(f'Count of df_current_final: {len(df_curent_final)}')\n",
    "print(f'Current_titles in df_final of {actual_ps}: {len(current_titles_in_df_curent_final)}')\n",
    "print(f'Count of {actual_ps} of braz_sides: {len(chosen_model_df)}')\n",
    "print(f'==')"
   ]
  },
  {
   "cell_type": "code",
   "execution_count": null,
   "metadata": {},
   "outputs": [],
   "source": [
    "missing_titles = missing_titles_new(chosen_model_df)\n",
    "missing_titles[:]"
   ]
  },
  {
   "cell_type": "code",
   "execution_count": null,
   "metadata": {},
   "outputs": [],
   "source": []
  },
  {
   "cell_type": "code",
   "execution_count": null,
   "metadata": {},
   "outputs": [],
   "source": [
    "list(current_titles_in_df_curent_final['Title'])"
   ]
  },
  {
   "cell_type": "markdown",
   "metadata": {},
   "source": [
    "# Eva Notty -> finished"
   ]
  },
  {
   "cell_type": "code",
   "execution_count": null,
   "metadata": {},
   "outputs": [],
   "source": [
    "\n",
    "# Individually adjusted\n",
    "actual_ps = 'Eva Notty'\n",
    "chosen_model_brazz_site = ['https://www.brazzers.com/videos/models/7579/eva-notty/page/']\n",
    "max_page_len_of_chosen_model = [2]\n",
    "# from create_df_actual_ps import create_df_actual_ps\n",
    "chosen_model_df = create_df_actual_ps(actual_ps, chosen_model_brazz_site, max_page_len_of_chosen_model)\n",
    "df_curent_final = pd.read_csv('df_final_my_db_08_11_22.csv', index_col=[0])\n",
    "current_titles_in_df_curent_final = df_curent_final[(df_curent_final['PS1'] == actual_ps) |\n",
    "                                                    (df_curent_final['PS2'] == actual_ps) |\n",
    "                                                    (df_curent_final['PS3'] == actual_ps) |\n",
    "                                                    (df_curent_final['PS4'] == actual_ps) |\n",
    "                                                    (df_curent_final['PS5'] == actual_ps) |\n",
    "                                                    (df_curent_final['PS6'] == actual_ps) |\n",
    "                                                    (df_curent_final['PS7'] == actual_ps) |\n",
    "                                                    (df_curent_final['PS8'] == actual_ps) |\n",
    "                                                    (df_curent_final['PS9'] == actual_ps) |\n",
    "                                                    (df_curent_final['PS10'] == actual_ps)][['Title']]\n",
    "\n",
    "print('== INFOS ABOUT THE TITLES: ==')\n",
    "print(f'Count of df_current_final: {len(df_curent_final)}')\n",
    "print(f'Current_titles in df_final of {actual_ps}: {len(current_titles_in_df_curent_final)}')\n",
    "print(f'Count of {actual_ps} of braz_sides: {len(chosen_model_df)}')\n",
    "print(f'==')"
   ]
  },
  {
   "cell_type": "code",
   "execution_count": null,
   "metadata": {},
   "outputs": [],
   "source": [
    "missing_titles = missing_titles_new(chosen_model_df)\n",
    "missing_titles[:]"
   ]
  },
  {
   "cell_type": "code",
   "execution_count": null,
   "metadata": {},
   "outputs": [],
   "source": [
    "current_titles_in_df_curent_final"
   ]
  },
  {
   "cell_type": "code",
   "execution_count": null,
   "metadata": {},
   "outputs": [],
   "source": [
    "search(current_titles_in_df_curent_final, 'tital')"
   ]
  },
  {
   "cell_type": "code",
   "execution_count": null,
   "metadata": {},
   "outputs": [],
   "source": [
    "search_string = \"ti_tal\"\n",
    "df_curent_final.loc[search_titles(current_titles_in_df_curent_final, search_string).index[0].item()]"
   ]
  },
  {
   "cell_type": "markdown",
   "metadata": {},
   "source": [
    "# Harmony Reigns -> finished"
   ]
  },
  {
   "cell_type": "code",
   "execution_count": null,
   "metadata": {},
   "outputs": [],
   "source": [
    "\n",
    "# Individually adjusted\n",
    "actual_ps = 'Harmony Reigns'\n",
    "chosen_model_brazz_site = ['https://www.brazzers.com/videos/models/22629/harmony-reigns/page/']\n",
    "max_page_len_of_chosen_model = [1]\n",
    "# from create_df_actual_ps import create_df_actual_ps\n",
    "chosen_model_df = create_df_actual_ps(actual_ps, chosen_model_brazz_site, max_page_len_of_chosen_model)\n",
    "df_curent_final = pd.read_csv('df_final_my_db_08_11_22.csv', index_col=[0])\n",
    "current_titles_in_df_curent_final = df_curent_final[(df_curent_final['PS1'] == actual_ps) |\n",
    "                                                    (df_curent_final['PS2'] == actual_ps) |\n",
    "                                                    (df_curent_final['PS3'] == actual_ps) |\n",
    "                                                    (df_curent_final['PS4'] == actual_ps) |\n",
    "                                                    (df_curent_final['PS5'] == actual_ps) |\n",
    "                                                    (df_curent_final['PS6'] == actual_ps) |\n",
    "                                                    (df_curent_final['PS7'] == actual_ps) |\n",
    "                                                    (df_curent_final['PS8'] == actual_ps) |\n",
    "                                                    (df_curent_final['PS9'] == actual_ps) |\n",
    "                                                    (df_curent_final['PS10'] == actual_ps)][['Title']]\n",
    "\n",
    "print('== INFOS ABOUT THE TITLES: ==')\n",
    "print(f'Count of df_current_final: {len(df_curent_final)}')\n",
    "print(f'Current_titles in df_final of {actual_ps}: {len(current_titles_in_df_curent_final)}')\n",
    "print(f'Count of {actual_ps} of braz_sides: {len(chosen_model_df)}')\n",
    "print(f'==')"
   ]
  },
  {
   "cell_type": "markdown",
   "metadata": {},
   "source": [
    "# Jasmine Jae --> finished"
   ]
  },
  {
   "cell_type": "code",
   "execution_count": null,
   "metadata": {},
   "outputs": [],
   "source": [
    "\n",
    "# Individually adjusted\n",
    "actual_ps = 'Jasmine Jae'\n",
    "chosen_model_brazz_site = ['https://www.brazzers.com/videos/models/16357/jasmine-jae/page/']\n",
    "max_page_len_of_chosen_model = [2]\n",
    "# from create_df_actual_ps import create_df_actual_ps\n",
    "chosen_model_df = create_df_actual_ps(actual_ps, chosen_model_brazz_site, max_page_len_of_chosen_model)\n",
    "df_curent_final = pd.read_csv('df_final_my_db_09_11_22.csv', index_col=[0])\n",
    "current_titles_in_df_curent_final = df_curent_final[(df_curent_final['PS1'] == actual_ps) |\n",
    "                                                    (df_curent_final['PS2'] == actual_ps) |\n",
    "                                                    (df_curent_final['PS3'] == actual_ps) |\n",
    "                                                    (df_curent_final['PS4'] == actual_ps) |\n",
    "                                                    (df_curent_final['PS5'] == actual_ps) |\n",
    "                                                    (df_curent_final['PS6'] == actual_ps) |\n",
    "                                                    (df_curent_final['PS7'] == actual_ps) |\n",
    "                                                    (df_curent_final['PS8'] == actual_ps) |\n",
    "                                                    (df_curent_final['PS9'] == actual_ps) |\n",
    "                                                    (df_curent_final['PS10'] == actual_ps)][['Title']]\n",
    "\n",
    "print('== INFOS ABOUT THE TITLES: ==')\n",
    "print(f'Count of df_current_final: {len(df_curent_final)}')\n",
    "print(f'Current_titles in df_final of {actual_ps}: {len(current_titles_in_df_curent_final)}')\n",
    "print(f'Count of {actual_ps} of braz_sides: {len(chosen_model_df)}')\n",
    "print(f'==')"
   ]
  },
  {
   "cell_type": "code",
   "execution_count": null,
   "metadata": {},
   "outputs": [],
   "source": [
    "missing_titles = missing_titles_new(chosen_model_df)\n",
    "missing_titles[:]"
   ]
  },
  {
   "cell_type": "markdown",
   "metadata": {},
   "source": [
    "# Jenna Presley --> finished"
   ]
  },
  {
   "cell_type": "code",
   "execution_count": null,
   "metadata": {},
   "outputs": [],
   "source": [
    "# Individually adjusted\n",
    "actual_ps = 'Jenna Presley'\n",
    "chosen_model_brazz_site = ['https://www.brazzers.com/videos/models/4211/jenna-presley/page']\n",
    "max_page_len_of_chosen_model = [1]\n",
    "# from create_df_actual_ps import create_df_actual_ps\n",
    "chosen_model_df = create_df_actual_ps(actual_ps, chosen_model_brazz_site, max_page_len_of_chosen_model)\n",
    "df_curent_final = pd.read_csv('df_final_my_db_09_11_22.csv', index_col=[0])\n",
    "current_titles_in_df_curent_final = df_curent_final[(df_curent_final['PS1'] == actual_ps) |\n",
    "                                                    (df_curent_final['PS2'] == actual_ps) |\n",
    "                                                    (df_curent_final['PS3'] == actual_ps) |\n",
    "                                                    (df_curent_final['PS4'] == actual_ps) |\n",
    "                                                    (df_curent_final['PS5'] == actual_ps) |\n",
    "                                                    (df_curent_final['PS6'] == actual_ps) |\n",
    "                                                    (df_curent_final['PS7'] == actual_ps) |\n",
    "                                                    (df_curent_final['PS8'] == actual_ps) |\n",
    "                                                    (df_curent_final['PS9'] == actual_ps) |\n",
    "                                                    (df_curent_final['PS10'] == actual_ps)][['Title']]\n",
    "\n",
    "print('== INFOS ABOUT THE TITLES: ==')\n",
    "print(f'Count of df_current_final: {len(df_curent_final)}')\n",
    "print(f'Current_titles in df_final of {actual_ps}: {len(current_titles_in_df_curent_final)}')\n",
    "print(f'Count of {actual_ps} of braz_sides: {len(chosen_model_df)}')\n",
    "print(f'==')"
   ]
  },
  {
   "cell_type": "code",
   "execution_count": null,
   "metadata": {},
   "outputs": [],
   "source": [
    "missing_titles = missing_titles_new(chosen_model_df)\n",
    "missing_titles[:]"
   ]
  },
  {
   "cell_type": "code",
   "execution_count": null,
   "metadata": {},
   "outputs": [],
   "source": [
    "current_titles_in_df_curent_final"
   ]
  },
  {
   "cell_type": "markdown",
   "metadata": {},
   "source": [
    "# Jessica Moore --> finished"
   ]
  },
  {
   "cell_type": "code",
   "execution_count": null,
   "metadata": {},
   "outputs": [],
   "source": [
    "# Individually adjusted\n",
    "actual_ps = 'Jessica Moore'\n",
    "chosen_model_brazz_site = ['https://www.brazzers.com/videos/models/15695/jessica-moore/page']\n",
    "max_page_len_of_chosen_model = [1]\n",
    "# from create_df_actual_ps import create_df_actual_ps\n",
    "chosen_model_df = create_df_actual_ps(actual_ps, chosen_model_brazz_site, max_page_len_of_chosen_model)\n",
    "df_curent_final = pd.read_csv('df_final_my_db_09_11_22.csv', index_col=[0])\n",
    "current_titles_in_df_curent_final = df_curent_final[(df_curent_final['PS1'] == actual_ps) |\n",
    "                                                    (df_curent_final['PS2'] == actual_ps) |\n",
    "                                                    (df_curent_final['PS3'] == actual_ps) |\n",
    "                                                    (df_curent_final['PS4'] == actual_ps) |\n",
    "                                                    (df_curent_final['PS5'] == actual_ps) |\n",
    "                                                    (df_curent_final['PS6'] == actual_ps) |\n",
    "                                                    (df_curent_final['PS7'] == actual_ps) |\n",
    "                                                    (df_curent_final['PS8'] == actual_ps) |\n",
    "                                                    (df_curent_final['PS9'] == actual_ps) |\n",
    "                                                    (df_curent_final['PS10'] == actual_ps)][['Title']]\n",
    "\n",
    "print('== INFOS ABOUT THE TITLES: ==')\n",
    "print(f'Count of df_current_final: {len(df_curent_final)}')\n",
    "print(f'Current_titles in df_final of {actual_ps}: {len(current_titles_in_df_curent_final)}')\n",
    "print(f'Count of {actual_ps} of braz_sides: {len(chosen_model_df)}')\n",
    "print(f'==')"
   ]
  },
  {
   "cell_type": "code",
   "execution_count": null,
   "metadata": {},
   "outputs": [],
   "source": [
    "missing_titles = missing_titles_new(chosen_model_df)\n",
    "missing_titles[:]"
   ]
  },
  {
   "cell_type": "code",
   "execution_count": null,
   "metadata": {},
   "outputs": [],
   "source": [
    "current_titles_in_df_curent_final"
   ]
  },
  {
   "cell_type": "markdown",
   "metadata": {},
   "source": [
    "Specify the search"
   ]
  },
  {
   "cell_type": "code",
   "execution_count": null,
   "metadata": {},
   "outputs": [],
   "source": [
    "search_string = 'posterior'\n",
    "search_titles(current_titles_in_df_curent_final, search_string)\n",
    "search_titles(current_titles_in_df_curent_final, search_string).index[0].item()\n",
    "df_curent_final.loc[search_titles(current_titles_in_df_curent_final, search_string).index[0].item()]"
   ]
  },
  {
   "cell_type": "markdown",
   "metadata": {},
   "source": [
    "# Julia Ann --> finished"
   ]
  },
  {
   "cell_type": "code",
   "execution_count": null,
   "metadata": {},
   "outputs": [],
   "source": [
    "# Individually adjusted\n",
    "actual_ps = 'Julia Ann'\n",
    "chosen_model_brazz_site = ['https://www.brazzers.com/videos/models/1973/julia-ann/page/']\n",
    "max_page_len_of_chosen_model = [3]\n",
    "# from create_df_actual_ps import create_df_actual_ps\n",
    "chosen_model_df = create_df_actual_ps(actual_ps, chosen_model_brazz_site, max_page_len_of_chosen_model)\n",
    "df_curent_final = pd.read_csv('df_final_my_db_13_11_22.csv', index_col=[0])\n",
    "current_titles_in_df_curent_final = df_curent_final[(df_curent_final['PS1'] == actual_ps) |\n",
    "                                                    (df_curent_final['PS2'] == actual_ps) |\n",
    "                                                    (df_curent_final['PS3'] == actual_ps) |\n",
    "                                                    (df_curent_final['PS4'] == actual_ps) |\n",
    "                                                    (df_curent_final['PS5'] == actual_ps) |\n",
    "                                                    (df_curent_final['PS6'] == actual_ps) |\n",
    "                                                    (df_curent_final['PS7'] == actual_ps) |\n",
    "                                                    (df_curent_final['PS8'] == actual_ps) |\n",
    "                                                    (df_curent_final['PS9'] == actual_ps) |\n",
    "                                                    (df_curent_final['PS10'] == actual_ps)][['Title']]\n",
    "\n",
    "print('== INFOS ABOUT THE TITLES: ==')\n",
    "print(f'Count of df_current_final: {len(df_curent_final)}')\n",
    "print(f'Current_titles in df_final of {actual_ps}: {len(current_titles_in_df_curent_final)}')\n",
    "print(f'Count of {actual_ps} of braz_sides: {len(chosen_model_df)}')\n",
    "print(f'==')"
   ]
  },
  {
   "cell_type": "code",
   "execution_count": null,
   "metadata": {},
   "outputs": [],
   "source": [
    "missing_titles = missing_titles_new(chosen_model_df)\n",
    "missing_titles[:]"
   ]
  },
  {
   "cell_type": "code",
   "execution_count": null,
   "metadata": {},
   "outputs": [],
   "source": [
    "current_titles_in_df_curent_final"
   ]
  },
  {
   "cell_type": "markdown",
   "metadata": {},
   "source": [
    "Specify the search"
   ]
  },
  {
   "cell_type": "code",
   "execution_count": null,
   "metadata": {},
   "outputs": [],
   "source": [
    "search_string = 'routine'\n",
    "search_titles(current_titles_in_df_curent_final, search_string)\n",
    "search_titles(current_titles_in_df_curent_final, search_string).index[0].item()\n",
    "df_curent_final.loc[search_titles(current_titles_in_df_curent_final, search_string).index[0].item()]"
   ]
  },
  {
   "cell_type": "markdown",
   "metadata": {},
   "source": [
    "# Katie Kox --> finished"
   ]
  },
  {
   "cell_type": "code",
   "execution_count": null,
   "metadata": {},
   "outputs": [],
   "source": [
    "\n",
    "\n",
    "# Individually adjusted\n",
    "actual_ps = 'Katie Kox'\n",
    "chosen_model_brazz_site = ['https://www.brazzers.com/videos/models/11595/katie-kox/page/']\n",
    "max_page_len_of_chosen_model = [1]\n",
    "# from create_df_actual_ps import create_df_actual_ps\n",
    "chosen_model_df = create_df_actual_ps(actual_ps, chosen_model_brazz_site, max_page_len_of_chosen_model)\n",
    "df_curent_final = pd.read_csv('df_final_my_db_15_11_22.csv', index_col=[0])\n",
    "current_titles_in_df_curent_final = df_curent_final[(df_curent_final['PS1'] == actual_ps) |\n",
    "                                                    (df_curent_final['PS2'] == actual_ps) |\n",
    "                                                    (df_curent_final['PS3'] == actual_ps) |\n",
    "                                                    (df_curent_final['PS4'] == actual_ps) |\n",
    "                                                    (df_curent_final['PS5'] == actual_ps) |\n",
    "                                                    (df_curent_final['PS6'] == actual_ps) |\n",
    "                                                    (df_curent_final['PS7'] == actual_ps) |\n",
    "                                                    (df_curent_final['PS8'] == actual_ps) |\n",
    "                                                    (df_curent_final['PS9'] == actual_ps) |\n",
    "                                                    (df_curent_final['PS10'] == actual_ps)][['Title']]\n",
    "\n",
    "print('== INFOS ABOUT THE TITLES: ==')\n",
    "print(f'Count of df_current_final: {len(df_curent_final)}')\n",
    "print(f'Current_titles in df_final of {actual_ps}: {len(current_titles_in_df_curent_final)}')\n",
    "print(f'Count of {actual_ps} of braz_sides: {len(chosen_model_df)}')\n",
    "print(f'==')\n"
   ]
  },
  {
   "cell_type": "code",
   "execution_count": null,
   "metadata": {},
   "outputs": [],
   "source": [
    "missing_titles = missing_titles_new(chosen_model_df)\n",
    "missing_titles[:]"
   ]
  },
  {
   "cell_type": "markdown",
   "metadata": {},
   "source": [
    "# Kelly Devine --> finished"
   ]
  },
  {
   "cell_type": "code",
   "execution_count": null,
   "metadata": {},
   "outputs": [],
   "source": [
    "\n",
    "# Individually adjusted\n",
    "actual_ps = 'Kelly Divine'\n",
    "chosen_model_brazz_site = ['https://www.brazzers.com/videos/models/6993/kelly-divine/page/']\n",
    "max_page_len_of_chosen_model = [1]\n",
    "# from create_df_actual_ps import create_df_actual_ps\n",
    "chosen_model_df = create_df_actual_ps(actual_ps, chosen_model_brazz_site, max_page_len_of_chosen_model)\n",
    "df_curent_final = pd.read_csv('df_final_my_db_24_11_22.csv', index_col=[0])\n",
    "current_titles_in_df_curent_final = df_curent_final[(df_curent_final['PS1'] == actual_ps) |\n",
    "                                                    (df_curent_final['PS2'] == actual_ps) |\n",
    "                                                    (df_curent_final['PS3'] == actual_ps) |\n",
    "                                                    (df_curent_final['PS4'] == actual_ps) |\n",
    "                                                    (df_curent_final['PS5'] == actual_ps) |\n",
    "                                                    (df_curent_final['PS6'] == actual_ps) |\n",
    "                                                    (df_curent_final['PS7'] == actual_ps) |\n",
    "                                                    (df_curent_final['PS8'] == actual_ps) |\n",
    "                                                    (df_curent_final['PS9'] == actual_ps) |\n",
    "                                                    (df_curent_final['PS10'] == actual_ps)][['Title']]\n",
    "\n",
    "print('== INFOS ABOUT THE TITLES: ==')\n",
    "print(f'Count of df_current_final: {len(df_curent_final)}')\n",
    "print(f'Current_titles in df_final of {actual_ps}: {len(current_titles_in_df_curent_final)}')\n",
    "print(f'Count of {actual_ps} of braz_sides: {len(chosen_model_df)}')\n",
    "print(f'==')\n"
   ]
  },
  {
   "cell_type": "code",
   "execution_count": null,
   "metadata": {},
   "outputs": [],
   "source": [
    "missing_titles = missing_titles_new(chosen_model_df)\n",
    "missing_titles[:]"
   ]
  },
  {
   "cell_type": "markdown",
   "metadata": {},
   "source": [
    "Specify the search"
   ]
  },
  {
   "cell_type": "code",
   "execution_count": null,
   "metadata": {},
   "outputs": [],
   "source": [
    "search_string = 'big'\n",
    "search_titles(current_titles_in_df_curent_final, search_string)\n",
    "search_titles(current_titles_in_df_curent_final, search_string).index[0].item()\n",
    "df_curent_final.loc[search_titles(current_titles_in_df_curent_final, search_string).index[0].item()]"
   ]
  },
  {
   "cell_type": "markdown",
   "metadata": {},
   "source": [
    "# Kiara Mia --> finished"
   ]
  },
  {
   "cell_type": "code",
   "execution_count": null,
   "metadata": {},
   "outputs": [],
   "source": [
    "\n",
    "# Individually adjusted\n",
    "actual_ps = 'Kiara Mia'\n",
    "chosen_model_brazz_site = ['https://www.brazzers.com/videos/models/4313/kiara-mia/page/']\n",
    "max_page_len_of_chosen_model = [1]\n",
    "# from create_df_actual_ps import create_df_actual_ps\n",
    "chosen_model_df = create_df_actual_ps(actual_ps, chosen_model_brazz_site, max_page_len_of_chosen_model)\n",
    "df_curent_final = pd.read_csv('df_final_my_db_24_11_22.csv', index_col=[0])\n",
    "current_titles_in_df_curent_final = df_curent_final[(df_curent_final['PS1'] == actual_ps) |\n",
    "                                                    (df_curent_final['PS2'] == actual_ps) |\n",
    "                                                    (df_curent_final['PS3'] == actual_ps) |\n",
    "                                                    (df_curent_final['PS4'] == actual_ps) |\n",
    "                                                    (df_curent_final['PS5'] == actual_ps) |\n",
    "                                                    (df_curent_final['PS6'] == actual_ps) |\n",
    "                                                    (df_curent_final['PS7'] == actual_ps) |\n",
    "                                                    (df_curent_final['PS8'] == actual_ps) |\n",
    "                                                    (df_curent_final['PS9'] == actual_ps) |\n",
    "                                                    (df_curent_final['PS10'] == actual_ps)][['Title']]\n",
    "\n",
    "print('== INFOS ABOUT THE TITLES: ==')\n",
    "print(f'Count of df_current_final: {len(df_curent_final)}')\n",
    "print(f'Current_titles in df_final of {actual_ps}: {len(current_titles_in_df_curent_final)}')\n",
    "print(f'Count of {actual_ps} of braz_sides: {len(chosen_model_df)}')\n",
    "print(f'==')\n"
   ]
  },
  {
   "cell_type": "code",
   "execution_count": null,
   "metadata": {},
   "outputs": [],
   "source": [
    "missing_titles = missing_titles_new(chosen_model_df)\n",
    "missing_titles[:]"
   ]
  },
  {
   "cell_type": "markdown",
   "metadata": {},
   "source": [
    "# Krissy Lynn --> finished"
   ]
  },
  {
   "cell_type": "code",
   "execution_count": 86,
   "metadata": {},
   "outputs": [
    {
     "name": "stdout",
     "output_type": "stream",
     "text": [
      "max.. 3\n",
      "page_nr:  1\n",
      "scanning Site: https://www.brazzers.com/videos/models/987/krissy-lynn/page/1, Response: <Response [200]>\n",
      "page_nr:  2\n",
      "scanning Site: https://www.brazzers.com/videos/models/987/krissy-lynn/page/2, Response: <Response [200]>\n",
      "page_nr:  3\n",
      "scanning Site: https://www.brazzers.com/videos/models/987/krissy-lynn/page/3, Response: <Response [200]>\n",
      "count of titles:  69\n",
      "== INFOS ABOUT THE TITLES: ==\n",
      "Count of df_current_final: 1984\n",
      "Current_titles in df_final of Krissy Lynn: 64\n",
      "Count of Krissy Lynn of braz_sides: 69\n",
      "==\n"
     ]
    }
   ],
   "source": [
    "\n",
    "#% Individually adjusted\n",
    "actual_ps = 'Krissy Lynn'\n",
    "chosen_model_brazz_site = ['https://www.brazzers.com/videos/models/987/krissy-lynn/page/']\n",
    "max_page_len_of_chosen_model = [3]\n",
    "# from create_df_actual_ps import create_df_actual_ps\n",
    "chosen_model_df = create_df_actual_ps(actual_ps, chosen_model_brazz_site, max_page_len_of_chosen_model)\n",
    "df_curent_final = pd.read_csv('df_final_my_db_21_02_23.csv', index_col=[0])\n",
    "current_titles_in_df_curent_final = df_curent_final[(df_curent_final['PS1'] == actual_ps) |\n",
    "                                                    (df_curent_final['PS2'] == actual_ps) |\n",
    "                                                    (df_curent_final['PS3'] == actual_ps) |\n",
    "                                                    (df_curent_final['PS4'] == actual_ps) |\n",
    "                                                    (df_curent_final['PS5'] == actual_ps) |\n",
    "                                                    (df_curent_final['PS6'] == actual_ps) |\n",
    "                                                    (df_curent_final['PS7'] == actual_ps) |\n",
    "                                                    (df_curent_final['PS8'] == actual_ps) |\n",
    "                                                    (df_curent_final['PS9'] == actual_ps) |\n",
    "                                                    (df_curent_final['PS10'] == actual_ps)][['Title']]\n",
    "\n",
    "print('== INFOS ABOUT THE TITLES: ==')\n",
    "print(f'Count of df_current_final: {len(df_curent_final)}')\n",
    "print(f'Current_titles in df_final of {actual_ps}: {len(current_titles_in_df_curent_final)}')\n",
    "print(f'Count of {actual_ps} of braz_sides: {len(chosen_model_df)}')\n",
    "print(f'==')\n"
   ]
  },
  {
   "cell_type": "code",
   "execution_count": 82,
   "metadata": {},
   "outputs": [
    {
     "data": {
      "text/plain": [
       "['zz_finishing_school_of_fucking',\n",
       " 'the_shoplicker',\n",
       " 'get_her_juices_flowing',\n",
       " 'wax_on_wax_off',\n",
       " 'outing_the_outed',\n",
       " 'ultima_parada_culo_destrozado',\n",
       " 'cumming_together_for_christmas',\n",
       " 'give_in_to_the_pleasure']"
      ]
     },
     "execution_count": 82,
     "metadata": {},
     "output_type": "execute_result"
    }
   ],
   "source": [
    "missing_titles = missing_titles_new(chosen_model_df)\n",
    "missing_titles[:]"
   ]
  },
  {
   "cell_type": "markdown",
   "metadata": {},
   "source": [
    "Specify the search"
   ]
  },
  {
   "cell_type": "code",
   "execution_count": 78,
   "metadata": {},
   "outputs": [
    {
     "data": {
      "text/plain": [
       "Site                                       Big Tits At School\n",
       "PS1                                               Krissy Lynn\n",
       "PS2                                                   No Name\n",
       "PS3                                                   No Name\n",
       "Title                              old_school_correction_720p\n",
       "PS4                                                   No Name\n",
       "PS5                                                   No Name\n",
       "PS6                                                   No Name\n",
       "PS7                                                   No Name\n",
       "PS8                                                   No Name\n",
       "PS9                                                   No Name\n",
       "PS10                                                  No Name\n",
       "Location                                           WERDERNASX\n",
       "Link        /Volumes/WERDERNASX/VIDEOSX/BRAZZERS/big_tits_...\n",
       "Name: 183, dtype: object"
      ]
     },
     "execution_count": 78,
     "metadata": {},
     "output_type": "execute_result"
    }
   ],
   "source": [
    "search_string = 'you_a'\n",
    "search_titles(current_titles_in_df_curent_final, search_string)\n",
    "search_titles(current_titles_in_df_curent_final, search_string).index[0].item()\n",
    "df_curent_final.loc[search_titles(current_titles_in_df_curent_final, search_string).index[0].item()]"
   ]
  },
  {
   "cell_type": "markdown",
   "metadata": {},
   "source": [
    "# Leigh Darby --> finished"
   ]
  },
  {
   "cell_type": "code",
   "execution_count": 104,
   "metadata": {},
   "outputs": [
    {
     "name": "stdout",
     "output_type": "stream",
     "text": [
      "max.. 1\n",
      "page_nr:  1\n",
      "scanning Site: https://www.brazzers.com/videos/models/41789/leigh-darby/page/1, Response: <Response [200]>\n",
      "count of titles:  19\n",
      "== INFOS ABOUT THE TITLES: ==\n",
      "Count of df_current_final: 1987\n",
      "Current_titles in df_final of Leigh Darby: 19\n",
      "Count of Leigh Darby of braz_sides: 19\n",
      "==\n"
     ]
    }
   ],
   "source": [
    "\n",
    "#% Individually adjusted\n",
    "actual_ps = 'Leigh Darby'\n",
    "chosen_model_brazz_site = ['https://www.brazzers.com/videos/models/41789/leigh-darby/page/']\n",
    "max_page_len_of_chosen_model = [1]\n",
    "# from create_df_actual_ps import create_df_actual_ps\n",
    "chosen_model_df = create_df_actual_ps(actual_ps, chosen_model_brazz_site, max_page_len_of_chosen_model)\n",
    "df_curent_final = pd.read_csv('df_final_my_db_21_02_23.csv', index_col=[0])\n",
    "current_titles_in_df_curent_final = df_curent_final[(df_curent_final['PS1'] == actual_ps) |\n",
    "                                                    (df_curent_final['PS2'] == actual_ps) |\n",
    "                                                    (df_curent_final['PS3'] == actual_ps) |\n",
    "                                                    (df_curent_final['PS4'] == actual_ps) |\n",
    "                                                    (df_curent_final['PS5'] == actual_ps) |\n",
    "                                                    (df_curent_final['PS6'] == actual_ps) |\n",
    "                                                    (df_curent_final['PS7'] == actual_ps) |\n",
    "                                                    (df_curent_final['PS8'] == actual_ps) |\n",
    "                                                    (df_curent_final['PS9'] == actual_ps) |\n",
    "                                                    (df_curent_final['PS10'] == actual_ps)][['Title']]\n",
    "\n",
    "print('== INFOS ABOUT THE TITLES: ==')\n",
    "print(f'Count of df_current_final: {len(df_curent_final)}')\n",
    "print(f'Current_titles in df_final of {actual_ps}: {len(current_titles_in_df_curent_final)}')\n",
    "print(f'Count of {actual_ps} of braz_sides: {len(chosen_model_df)}')\n",
    "print(f'==')"
   ]
  },
  {
   "cell_type": "code",
   "execution_count": 105,
   "metadata": {},
   "outputs": [
    {
     "data": {
      "text/plain": [
       "['mi_madrastra_la_controladora',\n",
       " 'trio_con_la_puta_de_mi_madrastra',\n",
       " 'banging_for_moms_approval']"
      ]
     },
     "execution_count": 105,
     "metadata": {},
     "output_type": "execute_result"
    }
   ],
   "source": [
    "missing_titles = missing_titles_new(chosen_model_df)\n",
    "missing_titles[:]"
   ]
  },
  {
   "cell_type": "markdown",
   "metadata": {},
   "source": [
    "Specify the search"
   ]
  },
  {
   "cell_type": "code",
   "execution_count": 99,
   "metadata": {},
   "outputs": [
    {
     "data": {
      "text/plain": [
       "Site                                          Mommy Got Boobs\n",
       "PS1                                               Leigh Darby\n",
       "PS2                                                   No Name\n",
       "PS3                                                   No Name\n",
       "Title                              nocturnal_activities_1080p\n",
       "PS4                                                   No Name\n",
       "PS5                                                   No Name\n",
       "PS6                                                   No Name\n",
       "PS7                                                   No Name\n",
       "PS8                                                   No Name\n",
       "PS9                                                   No Name\n",
       "PS10                                                  No Name\n",
       "Location                                           WERDERNASX\n",
       "Link        /Volumes/WERDERNASX/VIDEOSX/BRAZZERS/mommy_got...\n",
       "Name: 1189, dtype: object"
      ]
     },
     "execution_count": 99,
     "metadata": {},
     "output_type": "execute_result"
    }
   ],
   "source": [
    "search_string = 'activities'\n",
    "search_titles(current_titles_in_df_curent_final, search_string)\n",
    "search_titles(current_titles_in_df_curent_final, search_string).index[0].item()\n",
    "df_curent_final.loc[search_titles(current_titles_in_df_curent_final, search_string).index[0].item()]"
   ]
  },
  {
   "cell_type": "markdown",
   "metadata": {},
   "source": [
    "# Madison Ivy --> shifting!"
   ]
  },
  {
   "cell_type": "code",
   "execution_count": 108,
   "metadata": {},
   "outputs": [
    {
     "name": "stdout",
     "output_type": "stream",
     "text": [
      "max.. 4\n",
      "page_nr:  1\n",
      "scanning Site: https://www.brazzers.com/videos/models/5313/madison-ivy/page/1, Response: <Response [200]>\n",
      "page_nr:  2\n",
      "scanning Site: https://www.brazzers.com/videos/models/5313/madison-ivy/page/2, Response: <Response [200]>\n",
      "page_nr:  3\n",
      "scanning Site: https://www.brazzers.com/videos/models/5313/madison-ivy/page/3, Response: <Response [200]>\n",
      "page_nr:  4\n",
      "scanning Site: https://www.brazzers.com/videos/models/5313/madison-ivy/page/4, Response: <Response [200]>\n",
      "count of titles:  92\n",
      "== INFOS ABOUT THE TITLES: ==\n",
      "Count of df_current_final: 1987\n",
      "Current_titles in df_final of Madison Ivy: 7\n",
      "Count of Madison Ivy of braz_sides: 92\n",
      "==\n"
     ]
    }
   ],
   "source": [
    "#% Individually adjusted\n",
    "actual_ps = 'Madison Ivy'\n",
    "chosen_model_brazz_site = ['https://www.brazzers.com/videos/models/5313/madison-ivy/page/']\n",
    "max_page_len_of_chosen_model = [4]\n",
    "# from create_df_actual_ps import create_df_actual_ps\n",
    "chosen_model_df = create_df_actual_ps(actual_ps, chosen_model_brazz_site, max_page_len_of_chosen_model)\n",
    "df_curent_final = pd.read_csv('df_final_my_db_21_02_23.csv', index_col=[0])\n",
    "current_titles_in_df_curent_final = df_curent_final[(df_curent_final['PS1'] == actual_ps) |\n",
    "                                                    (df_curent_final['PS2'] == actual_ps) |\n",
    "                                                    (df_curent_final['PS3'] == actual_ps) |\n",
    "                                                    (df_curent_final['PS4'] == actual_ps) |\n",
    "                                                    (df_curent_final['PS5'] == actual_ps) |\n",
    "                                                    (df_curent_final['PS6'] == actual_ps) |\n",
    "                                                    (df_curent_final['PS7'] == actual_ps) |\n",
    "                                                    (df_curent_final['PS8'] == actual_ps) |\n",
    "                                                    (df_curent_final['PS9'] == actual_ps) |\n",
    "                                                    (df_curent_final['PS10'] == actual_ps)][['Title']]\n",
    "\n",
    "print('== INFOS ABOUT THE TITLES: ==')\n",
    "print(f'Count of df_current_final: {len(df_curent_final)}')\n",
    "print(f'Current_titles in df_final of {actual_ps}: {len(current_titles_in_df_curent_final)}')\n",
    "print(f'Count of {actual_ps} of braz_sides: {len(chosen_model_df)}')\n",
    "print(f'==')"
   ]
  },
  {
   "cell_type": "markdown",
   "metadata": {},
   "source": [
    "# Marsha May --> not found"
   ]
  },
  {
   "cell_type": "markdown",
   "metadata": {},
   "source": [
    "# Memphis Monroe --> finished"
   ]
  },
  {
   "cell_type": "code",
   "execution_count": 7,
   "metadata": {},
   "outputs": [
    {
     "name": "stdout",
     "output_type": "stream",
     "text": [
      "max.. 1\n",
      "page_nr:  1\n",
      "scanning Site: https://www.brazzers.com/videos/models/6005/memphis-monroe/page/1, Response: <Response [200]>\n",
      "count of titles:  10\n",
      "== INFOS ABOUT THE TITLES: ==\n",
      "Count of df_current_final: 1995\n",
      "Current_titles in df_final of Memphis Monroe: 13\n",
      "Count of Memphis Monroe of braz_sides: 10\n",
      "==\n"
     ]
    }
   ],
   "source": [
    "#% Individually adjusted\n",
    "actual_ps = 'Memphis Monroe'\n",
    "chosen_model_brazz_site = ['https://www.brazzers.com/videos/models/6005/memphis-monroe/page/']\n",
    "max_page_len_of_chosen_model = [1]\n",
    "# from create_df_actual_ps import create_df_actual_ps\n",
    "chosen_model_df = create_df_actual_ps(actual_ps, chosen_model_brazz_site, max_page_len_of_chosen_model)\n",
    "df_curent_final = pd.read_csv('df_final_my_db_21_02_23.csv', index_col=[0])\n",
    "current_titles_in_df_curent_final = df_curent_final[(df_curent_final['PS1'] == actual_ps) |\n",
    "                                                    (df_curent_final['PS2'] == actual_ps) |\n",
    "                                                    (df_curent_final['PS3'] == actual_ps) |\n",
    "                                                    (df_curent_final['PS4'] == actual_ps) |\n",
    "                                                    (df_curent_final['PS5'] == actual_ps) |\n",
    "                                                    (df_curent_final['PS6'] == actual_ps) |\n",
    "                                                    (df_curent_final['PS7'] == actual_ps) |\n",
    "                                                    (df_curent_final['PS8'] == actual_ps) |\n",
    "                                                    (df_curent_final['PS9'] == actual_ps) |\n",
    "                                                    (df_curent_final['PS10'] == actual_ps)][['Title']]\n",
    "\n",
    "print('== INFOS ABOUT THE TITLES: ==')\n",
    "print(f'Count of df_current_final: {len(df_curent_final)}')\n",
    "print(f'Current_titles in df_final of {actual_ps}: {len(current_titles_in_df_curent_final)}')\n",
    "print(f'Count of {actual_ps} of braz_sides: {len(chosen_model_df)}')\n",
    "print(f'==')"
   ]
  },
  {
   "cell_type": "code",
   "execution_count": 8,
   "metadata": {},
   "outputs": [
    {
     "data": {
      "text/plain": [
       "[]"
      ]
     },
     "execution_count": 8,
     "metadata": {},
     "output_type": "execute_result"
    }
   ],
   "source": [
    "missing_titles = missing_titles_new(chosen_model_df)\n",
    "missing_titles[:]"
   ]
  },
  {
   "cell_type": "markdown",
   "metadata": {},
   "source": [
    "Specify the search"
   ]
  },
  {
   "cell_type": "code",
   "execution_count": 9,
   "metadata": {},
   "outputs": [
    {
     "data": {
      "text/plain": [
       "Site                                           Brazzers Vault\n",
       "PS1                                            Memphis Monroe\n",
       "PS2                                                   No Name\n",
       "PS3                                                   No Name\n",
       "Title                big_boobs_make_the_world_go_around_1080p\n",
       "PS4                                                   No Name\n",
       "PS5                                                   No Name\n",
       "PS6                                                   No Name\n",
       "PS7                                                   No Name\n",
       "PS8                                                   No Name\n",
       "PS9                                                   No Name\n",
       "PS10                                                  No Name\n",
       "Location                                           WERDERNASX\n",
       "Link        /Volumes/WERDERNASX/VIDEOSX/BRAZZERS/brazzers_...\n",
       "Name: 814, dtype: object"
      ]
     },
     "execution_count": 9,
     "metadata": {},
     "output_type": "execute_result"
    }
   ],
   "source": [
    "search_string = 'boob'\n",
    "search_titles(current_titles_in_df_curent_final, search_string)\n",
    "search_titles(current_titles_in_df_curent_final, search_string).index[0].item()\n",
    "df_curent_final.loc[search_titles(current_titles_in_df_curent_final, search_string).index[0].item()]"
   ]
  },
  {
   "cell_type": "markdown",
   "metadata": {},
   "source": [
    "# Nikki Benz --> finished"
   ]
  },
  {
   "cell_type": "code",
   "execution_count": 46,
   "metadata": {},
   "outputs": [
    {
     "name": "stdout",
     "output_type": "stream",
     "text": [
      "max.. 4\n",
      "page_nr:  1\n",
      "scanning Site: https://www.brazzers.com/videos/models/3251/nikki-benz/page/1, Response: <Response [200]>\n",
      "page_nr:  2\n",
      "scanning Site: https://www.brazzers.com/videos/models/3251/nikki-benz/page/2, Response: <Response [200]>\n",
      "page_nr:  3\n",
      "scanning Site: https://www.brazzers.com/videos/models/3251/nikki-benz/page/3, Response: <Response [200]>\n",
      "page_nr:  4\n",
      "scanning Site: https://www.brazzers.com/videos/models/3251/nikki-benz/page/4, Response: <Response [200]>\n",
      "count of titles:  73\n",
      "== INFOS ABOUT THE TITLES: ==\n",
      "Count of df_current_final: 2015\n",
      "Current_titles in df_final of Nikki Benz: 64\n",
      "Count of Nikki Benz of braz_sides: 73\n",
      "==\n"
     ]
    }
   ],
   "source": [
    "#% Individually adjusted\n",
    "actual_ps = 'Nikki Benz'\n",
    "chosen_model_brazz_site = ['https://www.brazzers.com/videos/models/3251/nikki-benz/page/']\n",
    "max_page_len_of_chosen_model = [4]\n",
    "# from create_df_actual_ps import create_df_actual_ps\n",
    "chosen_model_df = create_df_actual_ps(actual_ps, chosen_model_brazz_site, max_page_len_of_chosen_model)\n",
    "df_curent_final = pd.read_csv('df_final_my_db_21_02_23.csv', index_col=[0])\n",
    "current_titles_in_df_curent_final = df_curent_final[(df_curent_final['PS1'] == actual_ps) |\n",
    "                                                    (df_curent_final['PS2'] == actual_ps) |\n",
    "                                                    (df_curent_final['PS3'] == actual_ps) |\n",
    "                                                    (df_curent_final['PS4'] == actual_ps) |\n",
    "                                                    (df_curent_final['PS5'] == actual_ps) |\n",
    "                                                    (df_curent_final['PS6'] == actual_ps) |\n",
    "                                                    (df_curent_final['PS7'] == actual_ps) |\n",
    "                                                    (df_curent_final['PS8'] == actual_ps) |\n",
    "                                                    (df_curent_final['PS9'] == actual_ps) |\n",
    "                                                    (df_curent_final['PS10'] == actual_ps)][['Title']]\n",
    "\n",
    "print('== INFOS ABOUT THE TITLES: ==')\n",
    "print(f'Count of df_current_final: {len(df_curent_final)}')\n",
    "print(f'Current_titles in df_final of {actual_ps}: {len(current_titles_in_df_curent_final)}')\n",
    "print(f'Count of {actual_ps} of braz_sides: {len(chosen_model_df)}')\n",
    "print(f'==')"
   ]
  },
  {
   "cell_type": "code",
   "execution_count": 47,
   "metadata": {},
   "outputs": [
    {
     "data": {
      "text/plain": [
       "['ghostbusters_xxx_parody_part_2',\n",
       " 'disciplina_en_la_brigada_anti_vicio',\n",
       " 'cuarteto_en_la_oficina_vi',\n",
       " 'rompe_la_red_de_veras_esta_vez',\n",
       " 'brazzers_house_orgy_finale',\n",
       " 'brazzers_house_episode_five_bonus_part_2',\n",
       " 'brazzers_house_episode_five',\n",
       " 'brazzers_house_episode_three',\n",
       " 'brazzers_house_episode_two',\n",
       " 'brazzers_house_episode_one',\n",
       " 'vice_squad_discipline',\n",
       " 'can_you_get_me_off',\n",
       " 'war_wives_get_wet',\n",
       " 'brazzers_live_29_nightmare_on_ass_street',\n",
       " 'take_a_break_and_lick_my_clit']"
      ]
     },
     "execution_count": 47,
     "metadata": {},
     "output_type": "execute_result"
    }
   ],
   "source": [
    "missing_titles = missing_titles_new(chosen_model_df)\n",
    "missing_titles[:]"
   ]
  },
  {
   "cell_type": "markdown",
   "metadata": {},
   "source": [
    "Specify the search"
   ]
  },
  {
   "cell_type": "code",
   "execution_count": 43,
   "metadata": {},
   "outputs": [
    {
     "data": {
      "text/plain": [
       "'traffic_in_friction_480p'"
      ]
     },
     "execution_count": 43,
     "metadata": {},
     "output_type": "execute_result"
    }
   ],
   "source": [
    "search_string = 'traffic'\n",
    "# search_titles(current_titles_in_df_curent_final, search_string)\n",
    "# search_titles(current_titles_in_df_curent_final, search_string).index[0].item()\n",
    "df_curent_final.loc[search_titles(current_titles_in_df_curent_final, search_string).index[0].item()]['Title']"
   ]
  },
  {
   "cell_type": "markdown",
   "metadata": {},
   "source": [
    "# Noelle Easton --> finished"
   ]
  },
  {
   "cell_type": "code",
   "execution_count": 61,
   "metadata": {},
   "outputs": [
    {
     "name": "stdout",
     "output_type": "stream",
     "text": [
      "max.. 1\n",
      "page_nr:  1\n",
      "scanning Site: https://www.brazzers.com/videos/models/2957/noelle-easton/page1, Response: <Response [200]>\n",
      "count of titles:  15\n",
      "== INFOS ABOUT THE TITLES: ==\n",
      "Count of df_current_final: 2021\n",
      "Current_titles in df_final of Noelle Easton: 10\n",
      "Count of Noelle Easton of braz_sides: 15\n",
      "==\n"
     ]
    }
   ],
   "source": [
    "#% Individually adjusted\n",
    "actual_ps = 'Noelle Easton'\n",
    "chosen_model_brazz_site = ['https://www.brazzers.com/videos/models/2957/noelle-easton/page']\n",
    "max_page_len_of_chosen_model = [1]\n",
    "# from create_df_actual_ps import create_df_actual_ps\n",
    "chosen_model_df = create_df_actual_ps(actual_ps, chosen_model_brazz_site, max_page_len_of_chosen_model)\n",
    "df_curent_final = pd.read_csv('df_final_my_db_21_02_23.csv', index_col=[0])\n",
    "current_titles_in_df_curent_final = df_curent_final[(df_curent_final['PS1'] == actual_ps) |\n",
    "                                                    (df_curent_final['PS2'] == actual_ps) |\n",
    "                                                    (df_curent_final['PS3'] == actual_ps) |\n",
    "                                                    (df_curent_final['PS4'] == actual_ps) |\n",
    "                                                    (df_curent_final['PS5'] == actual_ps) |\n",
    "                                                    (df_curent_final['PS6'] == actual_ps) |\n",
    "                                                    (df_curent_final['PS7'] == actual_ps) |\n",
    "                                                    (df_curent_final['PS8'] == actual_ps) |\n",
    "                                                    (df_curent_final['PS9'] == actual_ps) |\n",
    "                                                    (df_curent_final['PS10'] == actual_ps)][['Title']]\n",
    "\n",
    "print('== INFOS ABOUT THE TITLES: ==')\n",
    "print(f'Count of df_current_final: {len(df_curent_final)}')\n",
    "print(f'Current_titles in df_final of {actual_ps}: {len(current_titles_in_df_curent_final)}')\n",
    "print(f'Count of {actual_ps} of braz_sides: {len(chosen_model_df)}')\n",
    "print(f'==')"
   ]
  },
  {
   "cell_type": "code",
   "execution_count": 62,
   "metadata": {},
   "outputs": [
    {
     "data": {
      "text/plain": [
       "['companeras_para_correr',\n",
       " 'una_voluptuosa_jugosa_clienta',\n",
       " 'noelle_y_su_fantasia',\n",
       " 'running_buddies',\n",
       " 'like_mother_dyke_daughter',\n",
       " 'my_two_new_lesbian_lovers']"
      ]
     },
     "execution_count": 62,
     "metadata": {},
     "output_type": "execute_result"
    }
   ],
   "source": [
    "missing_titles = missing_titles_new(chosen_model_df)\n",
    "missing_titles[:]"
   ]
  },
  {
   "cell_type": "markdown",
   "metadata": {},
   "source": [
    "Specify the search"
   ]
  },
  {
   "cell_type": "code",
   "execution_count": 58,
   "metadata": {},
   "outputs": [
    {
     "ename": "IndexError",
     "evalue": "index 0 is out of bounds for axis 0 with size 0",
     "output_type": "error",
     "traceback": [
      "\u001b[0;31m---------------------------------------------------------------------------\u001b[0m",
      "\u001b[0;31mIndexError\u001b[0m                                Traceback (most recent call last)",
      "Cell \u001b[0;32mIn [58], line 3\u001b[0m\n\u001b[1;32m      1\u001b[0m search_string \u001b[39m=\u001b[39m \u001b[39m'\u001b[39m\u001b[39mparty\u001b[39m\u001b[39m'\u001b[39m\n\u001b[1;32m      2\u001b[0m search_titles(current_titles_in_df_curent_final, search_string)\n\u001b[0;32m----> 3\u001b[0m search_titles(current_titles_in_df_curent_final, search_string)\u001b[39m.\u001b[39;49mindex[\u001b[39m0\u001b[39;49m]\u001b[39m.\u001b[39mitem()\n\u001b[1;32m      4\u001b[0m df_curent_final\u001b[39m.\u001b[39mloc[search_titles(current_titles_in_df_curent_final, search_string)\u001b[39m.\u001b[39mindex[\u001b[39m0\u001b[39m]\u001b[39m.\u001b[39mitem()]\n",
      "File \u001b[0;32m~/opt/anaconda3/envs/pyside2_dev/lib/python3.10/site-packages/pandas/core/indexes/base.py:5039\u001b[0m, in \u001b[0;36mIndex.__getitem__\u001b[0;34m(self, key)\u001b[0m\n\u001b[1;32m   5036\u001b[0m \u001b[39mif\u001b[39;00m is_integer(key) \u001b[39mor\u001b[39;00m is_float(key):\n\u001b[1;32m   5037\u001b[0m     \u001b[39m# GH#44051 exclude bool, which would return a 2d ndarray\u001b[39;00m\n\u001b[1;32m   5038\u001b[0m     key \u001b[39m=\u001b[39m com\u001b[39m.\u001b[39mcast_scalar_indexer(key, warn_float\u001b[39m=\u001b[39m\u001b[39mTrue\u001b[39;00m)\n\u001b[0;32m-> 5039\u001b[0m     \u001b[39mreturn\u001b[39;00m getitem(key)\n\u001b[1;32m   5041\u001b[0m \u001b[39mif\u001b[39;00m \u001b[39misinstance\u001b[39m(key, \u001b[39mslice\u001b[39m):\n\u001b[1;32m   5042\u001b[0m     \u001b[39m# This case is separated from the conditional above to avoid\u001b[39;00m\n\u001b[1;32m   5043\u001b[0m     \u001b[39m# pessimization com.is_bool_indexer and ndim checks.\u001b[39;00m\n\u001b[1;32m   5044\u001b[0m     result \u001b[39m=\u001b[39m getitem(key)\n",
      "\u001b[0;31mIndexError\u001b[0m: index 0 is out of bounds for axis 0 with size 0"
     ]
    }
   ],
   "source": [
    "search_string = 'party'\n",
    "search_titles(current_titles_in_df_curent_final, search_string)\n",
    "search_titles(current_titles_in_df_curent_final, search_string).index[0].item()\n",
    "df_curent_final.loc[search_titles(current_titles_in_df_curent_final, search_string).index[0].item()]"
   ]
  },
  {
   "cell_type": "markdown",
   "metadata": {},
   "source": [
    "# Peta Jensen"
   ]
  },
  {
   "cell_type": "code",
   "execution_count": 5,
   "metadata": {},
   "outputs": [
    {
     "name": "stdout",
     "output_type": "stream",
     "text": [
      "max.. 3\n",
      "page_nr:  1\n",
      "scanning Site: https://www.brazzers.com/videos/models/249/peta-jensen/page/1, Response: <Response [200]>\n",
      "page_nr:  2\n",
      "scanning Site: https://www.brazzers.com/videos/models/249/peta-jensen/page/2, Response: <Response [200]>\n",
      "page_nr:  3\n",
      "scanning Site: https://www.brazzers.com/videos/models/249/peta-jensen/page/3, Response: <Response [200]>\n",
      "count of titles:  68\n",
      "== INFOS ABOUT THE TITLES: ==\n",
      "Count of df_current_final: 2021\n",
      "Current_titles in df_final of Peta Jensen: 14\n",
      "Count of Peta Jensen of braz_sides: 68\n",
      "==\n"
     ]
    }
   ],
   "source": [
    "#% Individually adjusted\n",
    "actual_ps = 'Peta Jensen'\n",
    "chosen_model_brazz_site = ['https://www.brazzers.com/videos/models/249/peta-jensen/page/']\n",
    "max_page_len_of_chosen_model = [3]\n",
    "# from create_df_actual_ps import create_df_actual_ps\n",
    "chosen_model_df = create_df_actual_ps(actual_ps, chosen_model_brazz_site, max_page_len_of_chosen_model)\n",
    "df_curent_final = pd.read_csv('df_final_my_db_21_02_23.csv', index_col=[0])\n",
    "current_titles_in_df_curent_final = df_curent_final[(df_curent_final['PS1'] == actual_ps) |\n",
    "                                                    (df_curent_final['PS2'] == actual_ps) |\n",
    "                                                    (df_curent_final['PS3'] == actual_ps) |\n",
    "                                                    (df_curent_final['PS4'] == actual_ps) |\n",
    "                                                    (df_curent_final['PS5'] == actual_ps) |\n",
    "                                                    (df_curent_final['PS6'] == actual_ps) |\n",
    "                                                    (df_curent_final['PS7'] == actual_ps) |\n",
    "                                                    (df_curent_final['PS8'] == actual_ps) |\n",
    "                                                    (df_curent_final['PS9'] == actual_ps) |\n",
    "                                                    (df_curent_final['PS10'] == actual_ps)][['Title']]\n",
    "\n",
    "print('== INFOS ABOUT THE TITLES: ==')\n",
    "print(f'Count of df_current_final: {len(df_curent_final)}')\n",
    "print(f'Current_titles in df_final of {actual_ps}: {len(current_titles_in_df_curent_final)}')\n",
    "print(f'Count of {actual_ps} of braz_sides: {len(chosen_model_df)}')\n",
    "print(f'==')"
   ]
  },
  {
   "cell_type": "code",
   "execution_count": 6,
   "metadata": {},
   "outputs": [
    {
     "data": {
      "text/plain": [
       "['my_three_wives_remastered',\n",
       " 'my_two_wives_remastered',\n",
       " 'best_of_brazzers_peta_jensen',\n",
       " 'best_of_brazzers_nurse_appreciation_day',\n",
       " 'a_fuck_to_remember',\n",
       " 'game_night_shenanigans',\n",
       " 'the_final_exam',\n",
       " 'pass_the_peta',\n",
       " 'a_guilty_conscience',\n",
       " 'our_little_masquerade',\n",
       " 'petas_pool_time',\n",
       " 'yoga_for_perverts',\n",
       " 'massaging_peta',\n",
       " 'storm_of_kings_xxx_parody_behind_the_scenes',\n",
       " 'storm_of_kings_xxx_parody_part_4',\n",
       " 'storm_of_kings_xxx_parody_part_2',\n",
       " 'my_honey_wants_it_rough',\n",
       " 'to_catch_a_cheat',\n",
       " 'anything_he_desires',\n",
       " 'sibling_rivalry_2',\n",
       " 'one_wet_cheerleader',\n",
       " 'our_holiday_three_way',\n",
       " 'me_vengo_en_tu_casa',\n",
       " 'guerra_mundial_xxx_cuarta_parte',\n",
       " 'clinic_cooch',\n",
       " 'guerra_mundial_xxx_tercera_parte',\n",
       " 'deadly_rain_part_one',\n",
       " 'psicologa_coge_duro',\n",
       " 'mis_dos_esposas',\n",
       " 'when_wives_get_lonely',\n",
       " 'ensenandole_a_venirse',\n",
       " 'the_blindfold_massage',\n",
       " 'companeras_para_correr',\n",
       " 'juramento_de_lealtad_a_los_escotes',\n",
       " 'afuera_de_mi_habitacion',\n",
       " 'penetrando_a_la_senorita_jensen',\n",
       " 'liberando_el_estres_de_los_examenes',\n",
       " 'sweet_peta_pie',\n",
       " 'brazzers_heavenly_bodies',\n",
       " 'our_new_maid_part_three',\n",
       " 'close_encounters_of_the_big_kind',\n",
       " 'the_rough_shagging_shrink',\n",
       " 'deep_and_juicy_with_miss_jensen',\n",
       " 'rich_brats_of_beverly_hills_part_two',\n",
       " 'fuck_the_frustration_right_out_of_me',\n",
       " 'peta_pays_your_cock_a_visit',\n",
       " 'running_buddies',\n",
       " 'zz_vs_dp_the_final_fuck_off',\n",
       " 'teaching_her_how_to_cum',\n",
       " 'the_new_porno_order',\n",
       " 'brazzers_awards',\n",
       " 'breaking_in_miss_jensen',\n",
       " 'peta_pledges_her_cleavage_allegiance',\n",
       " 'i_cum_into_your_home',\n",
       " 'stay_the_fuck_outta_my_room']"
      ]
     },
     "execution_count": 6,
     "metadata": {},
     "output_type": "execute_result"
    }
   ],
   "source": [
    "missing_titles = missing_titles_new(chosen_model_df)\n",
    "missing_titles[:]"
   ]
  },
  {
   "cell_type": "markdown",
   "metadata": {},
   "source": [
    "specify the search"
   ]
  },
  {
   "cell_type": "code",
   "execution_count": 8,
   "metadata": {},
   "outputs": [
    {
     "ename": "IndexError",
     "evalue": "index 0 is out of bounds for axis 0 with size 0",
     "output_type": "error",
     "traceback": [
      "\u001b[0;31m---------------------------------------------------------------------------\u001b[0m",
      "\u001b[0;31mIndexError\u001b[0m                                Traceback (most recent call last)",
      "Cell \u001b[0;32mIn [8], line 3\u001b[0m\n\u001b[1;32m      1\u001b[0m search_string \u001b[39m=\u001b[39m \u001b[39m'\u001b[39m\u001b[39mgame_night\u001b[39m\u001b[39m'\u001b[39m\n\u001b[1;32m      2\u001b[0m search_titles(current_titles_in_df_curent_final, search_string)\n\u001b[0;32m----> 3\u001b[0m search_titles(current_titles_in_df_curent_final, search_string)\u001b[39m.\u001b[39;49mindex[\u001b[39m0\u001b[39;49m]\u001b[39m.\u001b[39mitem()\n\u001b[1;32m      4\u001b[0m df_curent_final\u001b[39m.\u001b[39mloc[search_titles(current_titles_in_df_curent_final, search_string)\u001b[39m.\u001b[39mindex[\u001b[39m0\u001b[39m]\u001b[39m.\u001b[39mitem()]\n",
      "File \u001b[0;32m~/opt/anaconda3/envs/pyside2_dev/lib/python3.10/site-packages/pandas/core/indexes/base.py:5039\u001b[0m, in \u001b[0;36mIndex.__getitem__\u001b[0;34m(self, key)\u001b[0m\n\u001b[1;32m   5036\u001b[0m \u001b[39mif\u001b[39;00m is_integer(key) \u001b[39mor\u001b[39;00m is_float(key):\n\u001b[1;32m   5037\u001b[0m     \u001b[39m# GH#44051 exclude bool, which would return a 2d ndarray\u001b[39;00m\n\u001b[1;32m   5038\u001b[0m     key \u001b[39m=\u001b[39m com\u001b[39m.\u001b[39mcast_scalar_indexer(key, warn_float\u001b[39m=\u001b[39m\u001b[39mTrue\u001b[39;00m)\n\u001b[0;32m-> 5039\u001b[0m     \u001b[39mreturn\u001b[39;00m getitem(key)\n\u001b[1;32m   5041\u001b[0m \u001b[39mif\u001b[39;00m \u001b[39misinstance\u001b[39m(key, \u001b[39mslice\u001b[39m):\n\u001b[1;32m   5042\u001b[0m     \u001b[39m# This case is separated from the conditional above to avoid\u001b[39;00m\n\u001b[1;32m   5043\u001b[0m     \u001b[39m# pessimization com.is_bool_indexer and ndim checks.\u001b[39;00m\n\u001b[1;32m   5044\u001b[0m     result \u001b[39m=\u001b[39m getitem(key)\n",
      "\u001b[0;31mIndexError\u001b[0m: index 0 is out of bounds for axis 0 with size 0"
     ]
    }
   ],
   "source": [
    "search_string = 'game_night'\n",
    "search_titles(current_titles_in_df_curent_final, search_string)\n",
    "search_titles(current_titles_in_df_curent_final, search_string).index[0].item()\n",
    "df_curent_final.loc[search_titles(current_titles_in_df_curent_final, search_string).index[0].item()]"
   ]
  },
  {
   "cell_type": "code",
   "execution_count": null,
   "metadata": {},
   "outputs": [],
   "source": []
  }
 ],
 "metadata": {
  "kernelspec": {
   "display_name": "Python 3.10.4 ('pyside2_dev')",
   "language": "python",
   "name": "python3"
  },
  "language_info": {
   "codemirror_mode": {
    "name": "ipython",
    "version": 3
   },
   "file_extension": ".py",
   "mimetype": "text/x-python",
   "name": "python",
   "nbconvert_exporter": "python",
   "pygments_lexer": "ipython3",
   "version": "3.10.6"
  },
  "orig_nbformat": 4,
  "vscode": {
   "interpreter": {
    "hash": "52867ee1f7e3b1f93523cdfe2d5d91084b6fa11775e78fca1f22649f7620b014"
   }
  }
 },
 "nbformat": 4,
 "nbformat_minor": 2
}
