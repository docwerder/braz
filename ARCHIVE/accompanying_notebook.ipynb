{
 "cells": [
  {
   "cell_type": "code",
   "execution_count": 1,
   "id": "d8747b9c",
   "metadata": {},
   "outputs": [],
   "source": [
    "import pandas as pd\n",
    "import qgrid"
   ]
  },
  {
   "cell_type": "code",
   "execution_count": 2,
   "id": "c5b0c8bb",
   "metadata": {},
   "outputs": [
    {
     "name": "stdout",
     "output_type": "stream",
     "text": [
      "Loading bra_final_py.csv ... \n"
     ]
    }
   ],
   "source": [
    "csv_file = \"bra_final_py.csv\"\n",
    "print(f\"Loading {csv_file} ... \")\n",
    "df = pd.read_csv(csv_file)"
   ]
  },
  {
   "cell_type": "code",
   "execution_count": 3,
   "id": "ccc55e8b-e551-4601-ace4-04f883888495",
   "metadata": {},
   "outputs": [],
   "source": [
    "qgrid_widget = qgrid.show_grid(df)"
   ]
  },
  {
   "cell_type": "code",
   "execution_count": 4,
   "id": "9ca0a5ad-2fb5-4d8e-988e-509f10cac09a",
   "metadata": {},
   "outputs": [
    {
     "data": {
      "application/vnd.jupyter.widget-view+json": {
       "model_id": "16db8dc1445f4cf6a7f833dbde1ba399",
       "version_major": 2,
       "version_minor": 0
      },
      "text/plain": [
       "QgridWidget(grid_options={'fullWidthRows': True, 'syncColumnCellResize': True, 'forceFitColumns': True, 'defau…"
      ]
     },
     "metadata": {},
     "output_type": "display_data"
    }
   ],
   "source": [
    "qgrid_widget"
   ]
  },
  {
   "cell_type": "code",
   "execution_count": 5,
   "id": "8b92e9c7",
   "metadata": {},
   "outputs": [
    {
     "data": {
      "text/plain": [
       "'/Users/joerg/repos/braz'"
      ]
     },
     "execution_count": 5,
     "metadata": {},
     "output_type": "execute_result"
    }
   ],
   "source": [
    "#df[df['Site'] == \"Big Wet Butts\"]\n",
    "%pwd"
   ]
  },
  {
   "cell_type": "code",
   "execution_count": 6,
   "id": "25e45734",
   "metadata": {},
   "outputs": [
    {
     "name": "stdout",
     "output_type": "stream",
     "text": [
      "      Unnamed: 0                   Site                 PS1              PS2  \\\n",
      "20            20         Baby Got Boobs       Jayden Jaymes       Nikki Benz   \n",
      "87            87  Big Butts Like It Big          Nikki Benz          No Name   \n",
      "110          110     Big Tits At School       Amy Anderssen       Nikki Benz   \n",
      "207          207     Big Tits At School          Nikki Benz          No Name   \n",
      "208          208     Big Tits At School          Nikki Benz     Rachel Starr   \n",
      "300          300       Big Tits At Work     Courtney Taylor   Summer Brielle   \n",
      "394          394       Big Tits At Work          Nikki Benz          No Name   \n",
      "395          395       Big Tits At Work          Nikki Benz          No Name   \n",
      "396          396       Big Tits At Work          Nikki Benz          No Name   \n",
      "397          397       Big Tits At Work          Nikki Benz        Nina Elle   \n",
      "446          446     Big Tits In Sports          Alanah Rae       Nikki Benz   \n",
      "481          481     Big Tits In Sports          Nikki Benz  Diamond Jackson   \n",
      "613          613          Big Wet Butts          Nikki Benz          No Name   \n",
      "614          614          Big Wet Butts          Nikki Benz          No Name   \n",
      "615          615          Big Wet Butts          Nikki Benz          No Name   \n",
      "616          616          Big Wet Butts          Nikki Benz          No Name   \n",
      "617          617          Big Wet Butts          Nikki Benz          No Name   \n",
      "676          676         Brazzers Extra          Ava Addams      Mia Malkova   \n",
      "709          709         Brazzers Extra           Eva Notty     Jada Stevens   \n",
      "781          781         Brazzers Extra          Nikki Benz          No Name   \n",
      "782          782         Brazzers Extra          Nikki Benz          No Name   \n",
      "836          836    Day With A Pornstar          Nikki Benz          No Name   \n",
      "840          840          Dirty Masseur        Alektra Blue       Nikki Benz   \n",
      "856          856          Dirty Masseur          Nikki Benz       Riley Reid   \n",
      "888          888      Doctor Adventures        Briana Banks       Nikki Benz   \n",
      "937          937      Doctor Adventures          Nikki Benz          No Name   \n",
      "938          938      Doctor Adventures          Nikki Benz       Nikki Sexx   \n",
      "1268        1268  Pornstars Like It Big        Alektra Blue       Nikki Benz   \n",
      "1282        1282  Pornstars Like It Big         Alexis Ford       Nikki Benz   \n",
      "1290        1290  Pornstars Like It Big  Angelina Valentine    Carmella Bing   \n",
      "1309        1309  Pornstars Like It Big       Courtney Cumz       Nikki Benz   \n",
      "1310        1310  Pornstars Like It Big         Delta White    Jayden Jaymes   \n",
      "1363        1363  Pornstars Like It Big            Lisa Ann       Nikki Benz   \n",
      "1383        1383  Pornstars Like It Big          Nikki Benz          No Name   \n",
      "1384        1384  Pornstars Like It Big          Nikki Benz          No Name   \n",
      "1385        1385  Pornstars Like It Big          Nikki Benz          No Name   \n",
      "1386        1386  Pornstars Like It Big          Nikki Benz          No Name   \n",
      "1387        1387  Pornstars Like It Big          Nikki Benz          No Name   \n",
      "1388        1388  Pornstars Like It Big          Nikki Benz          No Name   \n",
      "1389        1389  Pornstars Like It Big          Nikki Benz     Kortney Kane   \n",
      "1418        1418      Real Wife Stories           Alex Grey       Nikki Benz   \n",
      "1446        1446      Real Wife Stories       Britney Amber       Nikki Benz   \n",
      "1456        1456      Real Wife Stories             Devon X       Nikki Benz   \n",
      "1516        1516      Real Wife Stories      Nicole Aniston       Nikki Benz   \n",
      "\n",
      "                 PS3              PS4           PS5                PS6  \\\n",
      "20           No Name          No Name       No Name            No Name   \n",
      "87           No Name          No Name       No Name            No Name   \n",
      "110          No Name          No Name       No Name            No Name   \n",
      "207          No Name          No Name       No Name            No Name   \n",
      "208          No Name          No Name       No Name            No Name   \n",
      "300       Nikki Benz        Nina Elle       No Name            No Name   \n",
      "394          No Name          No Name       No Name            No Name   \n",
      "395          No Name          No Name       No Name            No Name   \n",
      "396          No Name          No Name       No Name            No Name   \n",
      "397   Summer Brielle  Courtney Taylor       No Name            No Name   \n",
      "446          No Name          No Name       No Name            No Name   \n",
      "481          No Name          No Name       No Name            No Name   \n",
      "613          No Name          No Name       No Name            No Name   \n",
      "614          No Name          No Name       No Name            No Name   \n",
      "615          No Name          No Name       No Name            No Name   \n",
      "616          No Name          No Name       No Name            No Name   \n",
      "617          No Name          No Name       No Name            No Name   \n",
      "676     Kortney Kane    Phoenix Marie  Rachel Roxxx  Monique Alexander   \n",
      "709       Nikki Benz        Romi Rain       No Name            No Name   \n",
      "781          No Name          No Name       No Name            No Name   \n",
      "782          No Name          No Name       No Name            No Name   \n",
      "836          No Name          No Name       No Name            No Name   \n",
      "840          No Name          No Name       No Name            No Name   \n",
      "856          No Name          No Name       No Name            No Name   \n",
      "888          No Name          No Name       No Name            No Name   \n",
      "937          No Name          No Name       No Name            No Name   \n",
      "938          No Name          No Name       No Name            No Name   \n",
      "1268         No Name          No Name       No Name            No Name   \n",
      "1282         No Name          No Name       No Name            No Name   \n",
      "1290      Nikki Benz          No Name       No Name            No Name   \n",
      "1309         No Name          No Name       No Name            No Name   \n",
      "1310      Nikki Benz          No Name       No Name            No Name   \n",
      "1363         No Name          No Name       No Name            No Name   \n",
      "1383         No Name          No Name       No Name            No Name   \n",
      "1384         No Name          No Name       No Name            No Name   \n",
      "1385         No Name          No Name       No Name            No Name   \n",
      "1386         No Name          No Name       No Name            No Name   \n",
      "1387         No Name          No Name       No Name            No Name   \n",
      "1388         No Name          No Name       No Name            No Name   \n",
      "1389         No Name          No Name       No Name            No Name   \n",
      "1418         No Name          No Name       No Name            No Name   \n",
      "1446         No Name          No Name       No Name            No Name   \n",
      "1456         No Name          No Name       No Name            No Name   \n",
      "1516         No Name          No Name       No Name            No Name   \n",
      "\n",
      "             PS7            PS8          PS9                PS10  \\\n",
      "20       No Name        No Name      No Name             No Name   \n",
      "87       No Name        No Name      No Name             No Name   \n",
      "110      No Name        No Name      No Name             No Name   \n",
      "207      No Name        No Name      No Name             No Name   \n",
      "208      No Name        No Name      No Name             No Name   \n",
      "300      No Name        No Name      No Name             No Name   \n",
      "394      No Name        No Name      No Name             No Name   \n",
      "395      No Name        No Name      No Name             No Name   \n",
      "396      No Name        No Name      No Name             No Name   \n",
      "397      No Name        No Name      No Name             No Name   \n",
      "446      No Name        No Name      No Name             No Name   \n",
      "481      No Name        No Name      No Name             No Name   \n",
      "613      No Name        No Name      No Name             No Name   \n",
      "614      No Name        No Name      No Name             No Name   \n",
      "615      No Name        No Name      No Name             No Name   \n",
      "616      No Name        No Name      No Name             No Name   \n",
      "617      No Name        No Name      No Name             No Name   \n",
      "676   Nikki Benz  Jayden Jaymes  Madison Ivy  Kagney Linn Karter   \n",
      "709      No Name        No Name      No Name             No Name   \n",
      "781      No Name        No Name      No Name             No Name   \n",
      "782      No Name        No Name      No Name             No Name   \n",
      "836      No Name        No Name      No Name             No Name   \n",
      "840      No Name        No Name      No Name             No Name   \n",
      "856      No Name        No Name      No Name             No Name   \n",
      "888      No Name        No Name      No Name             No Name   \n",
      "937      No Name        No Name      No Name             No Name   \n",
      "938      No Name        No Name      No Name             No Name   \n",
      "1268     No Name        No Name      No Name             No Name   \n",
      "1282     No Name        No Name      No Name             No Name   \n",
      "1290     No Name        No Name      No Name             No Name   \n",
      "1309     No Name        No Name      No Name             No Name   \n",
      "1310     No Name        No Name      No Name             No Name   \n",
      "1363     No Name        No Name      No Name             No Name   \n",
      "1383     No Name        No Name      No Name             No Name   \n",
      "1384     No Name        No Name      No Name             No Name   \n",
      "1385     No Name        No Name      No Name             No Name   \n",
      "1386     No Name        No Name      No Name             No Name   \n",
      "1387     No Name        No Name      No Name             No Name   \n",
      "1388     No Name        No Name      No Name             No Name   \n",
      "1389     No Name        No Name      No Name             No Name   \n",
      "1418     No Name        No Name      No Name             No Name   \n",
      "1446     No Name        No Name      No Name             No Name   \n",
      "1456     No Name        No Name      No Name             No Name   \n",
      "1516     No Name        No Name      No Name             No Name   \n",
      "\n",
      "                                                 Title    Location  \\\n",
      "20                                the_big_payback_480p  WERDERNASX   \n",
      "87                                    famous_anus_720p  WERDERNASX   \n",
      "110           school_sucks_and_so_do_my_teachers_1080p  WERDERNASX   \n",
      "207                    stretch_my_balloon_knot_asshole  WERDERNASX   \n",
      "208                              chemistry_lab_ia_720p  WERDERNASX   \n",
      "300                  office_4_play_blonde_edition_720p  WERDERNASX   \n",
      "394                           full_dis_clothe_her_720p  WERDERNASX   \n",
      "395                     ring_the_bell_for_service_720p  WERDERNASX   \n",
      "396                       zz_courthouse_part_two_1080p  WERDERNASX   \n",
      "397                              office_4_play_vi_720p  WERDERNASX   \n",
      "446   from_whip_lash_to_tit_lash_to_splish_splash_720p  WERDERNASX   \n",
      "481                          game_set_match_pussy_720p  WERDERNASX   \n",
      "613                         big_booty_dream_jeans_720p  WERDERNASX   \n",
      "614         break_the_internet_for_real_this_time_720p  WERDERNASX   \n",
      "615                                nikki_gets_wet_720p  WERDERNASX   \n",
      "616                            pantyhose_playtime_720p  WERDERNASX   \n",
      "617                        wet_butt_sex_red_latex_720p  WERDERNASX   \n",
      "676             bz_10th_anniversary_bts_interview_720p  WERDERNASX   \n",
      "709                                 halftime_show_720p  WERDERNASX   \n",
      "781             full_service_station_a_xxx_parody_720p  WERDERNASX   \n",
      "782                       nikkis_blind_taste_test_720p  WERDERNASX   \n",
      "836                                     niki_benz_720p  WERDERNASX   \n",
      "840                           horny_hosts_of_hell_720p  WERDERNASX   \n",
      "856                                   2_for_1_fun_720p  WERDERNASX   \n",
      "888                      dick_stuck_in_fleshlight_720p  WERDERNASX   \n",
      "937                       nurse_nikkis_house_call_720p  WERDERNASX   \n",
      "938                       mammograb_my_girlfriend_720p  WERDERNASX   \n",
      "1268                                     hang_low_720p  WERDERNASX   \n",
      "1282                     a_brazzers_new_years_eve_720p  WERDERNASX   \n",
      "1290                       the_royal_cock_of_1469_480p  WERDERNASX   \n",
      "1309                                 pump_fiction_720p  WERDERNASX   \n",
      "1310                            i_love_cock_balls_720p  WERDERNASX   \n",
      "1363                             reservoir_sluts_1080p  WERDERNASX   \n",
      "1383                           benz_mafia_part_1_1080p  WERDERNASX   \n",
      "1384                            benz_mafia_part_3_720p  WERDERNASX   \n",
      "1385                         cock_crazed_canadian_720p  WERDERNASX   \n",
      "1386                             to_catch_a_slut_1080p  WERDERNASX   \n",
      "1387                          traffic_in_friction_480p  WERDERNASX   \n",
      "1388                      zz_erection_2016_part_2_720p  WERDERNASX   \n",
      "1389                            benz_mafia_part_2_720p  WERDERNASX   \n",
      "1418                     full_divorce_court_press_720p  WERDERNASX   \n",
      "1446                            friday_im_in_love_720p  WERDERNASX   \n",
      "1456                        dreamy_milf_threesome_720p  WERDERNASX   \n",
      "1516                                one_last_shot_720p  WERDERNASX   \n",
      "\n",
      "                                                   Link  \n",
      "20    /Volumes/WERDERNASX/VIDEOSX/BRAZZERS/baby_got_...  \n",
      "87    /Volumes/WERDERNASX/VIDEOSX/BRAZZERS/big_butts...  \n",
      "110   /Volumes/WERDERNASX/VIDEOSX/BRAZZERS/big_tits_...  \n",
      "207   /Volumes/WERDERNASX/VIDEOSX/BRAZZERS/big_tits_...  \n",
      "208   /Volumes/WERDERNASX/VIDEOSX/BRAZZERS/big_tits_...  \n",
      "300   /Volumes/WERDERNASX/VIDEOSX/BRAZZERS/big_tits_...  \n",
      "394   /Volumes/WERDERNASX/VIDEOSX/BRAZZERS/big_tits_...  \n",
      "395   /Volumes/WERDERNASX/VIDEOSX/BRAZZERS/big_tits_...  \n",
      "396   /Volumes/WERDERNASX/VIDEOSX/BRAZZERS/big_tits_...  \n",
      "397   /Volumes/WERDERNASX/VIDEOSX/BRAZZERS/big_tits_...  \n",
      "446   /Volumes/WERDERNASX/VIDEOSX/BRAZZERS/big_tits_...  \n",
      "481   /Volumes/WERDERNASX/VIDEOSX/BRAZZERS/big_tits_...  \n",
      "613   /Volumes/WERDERNASX/VIDEOSX/BRAZZERS/big_wet_b...  \n",
      "614   /Volumes/WERDERNASX/VIDEOSX/BRAZZERS/big_wet_b...  \n",
      "615   /Volumes/WERDERNASX/VIDEOSX/BRAZZERS/big_wet_b...  \n",
      "616   /Volumes/WERDERNASX/VIDEOSX/BRAZZERS/big_wet_b...  \n",
      "617   /Volumes/WERDERNASX/VIDEOSX/BRAZZERS/big_wet_b...  \n",
      "676   /Volumes/WERDERNASX/VIDEOSX/BRAZZERS/brazzers_...  \n",
      "709   /Volumes/WERDERNASX/VIDEOSX/BRAZZERS/brazzers_...  \n",
      "781   /Volumes/WERDERNASX/VIDEOSX/BRAZZERS/brazzers_...  \n",
      "782   /Volumes/WERDERNASX/VIDEOSX/BRAZZERS/brazzers_...  \n",
      "836   /Volumes/WERDERNASX/VIDEOSX/BRAZZERS/day_with_...  \n",
      "840   /Volumes/WERDERNASX/VIDEOSX/BRAZZERS/dirty_mas...  \n",
      "856   /Volumes/WERDERNASX/VIDEOSX/BRAZZERS/dirty_mas...  \n",
      "888   /Volumes/WERDERNASX/VIDEOSX/BRAZZERS/doctor_ad...  \n",
      "937   /Volumes/WERDERNASX/VIDEOSX/BRAZZERS/doctor_ad...  \n",
      "938   /Volumes/WERDERNASX/VIDEOSX/BRAZZERS/doctor_ad...  \n",
      "1268  /Volumes/WERDERNASX/VIDEOSX/BRAZZERS/pornstars...  \n",
      "1282  /Volumes/WERDERNASX/VIDEOSX/BRAZZERS/pornstars...  \n",
      "1290  /Volumes/WERDERNASX/VIDEOSX/BRAZZERS/pornstars...  \n",
      "1309  /Volumes/WERDERNASX/VIDEOSX/BRAZZERS/pornstars...  \n",
      "1310  /Volumes/WERDERNASX/VIDEOSX/BRAZZERS/pornstars...  \n",
      "1363  /Volumes/WERDERNASX/VIDEOSX/BRAZZERS/pornstars...  \n",
      "1383  /Volumes/WERDERNASX/VIDEOSX/BRAZZERS/pornstars...  \n",
      "1384  /Volumes/WERDERNASX/VIDEOSX/BRAZZERS/pornstars...  \n",
      "1385  /Volumes/WERDERNASX/VIDEOSX/BRAZZERS/pornstars...  \n",
      "1386  /Volumes/WERDERNASX/VIDEOSX/BRAZZERS/pornstars...  \n",
      "1387  /Volumes/WERDERNASX/VIDEOSX/BRAZZERS/pornstars...  \n",
      "1388  /Volumes/WERDERNASX/VIDEOSX/BRAZZERS/pornstars...  \n",
      "1389  /Volumes/WERDERNASX/VIDEOSX/BRAZZERS/pornstars...  \n",
      "1418  /Volumes/WERDERNASX/VIDEOSX/BRAZZERS/real_wife...  \n",
      "1446  /Volumes/WERDERNASX/VIDEOSX/BRAZZERS/real_wife...  \n",
      "1456  /Volumes/WERDERNASX/VIDEOSX/BRAZZERS/real_wife...  \n",
      "1516  /Volumes/WERDERNASX/VIDEOSX/BRAZZERS/real_wife...  \n"
     ]
    }
   ],
   "source": [
    "ps_name = \"Nikki Benz\"\n",
    "#ps_selection = df[((df['PS1'] == \"Nikki Benz\") | (df['PS2'] == \"Nikki Benz\"))]\n",
    "ps_selection = df[((df['PS1'] == ps_name) | (df['PS2'] == ps_name) | (df['PS3'] == ps_name) | (df['PS4'] == ps_name) |\n",
    "                   (df['PS5'] == ps_name) | (df['PS6'] == ps_name) | (df['PS7'] == ps_name) | (df['PS8'] == ps_name) |\n",
    "                   (df['PS9'] == ps_name) | (df['PS10'] == ps_name))]\n",
    "print(pd.DataFrame(ps_selection))\n"
   ]
  },
  {
   "cell_type": "code",
   "execution_count": 7,
   "id": "dbd9a063",
   "metadata": {},
   "outputs": [
    {
     "ename": "NameError",
     "evalue": "name 'comboBox_site' is not defined",
     "output_type": "error",
     "traceback": [
      "\u001b[0;31m---------------------------------------------------------------------------\u001b[0m",
      "\u001b[0;31mNameError\u001b[0m                                 Traceback (most recent call last)",
      "Input \u001b[0;32mIn [7]\u001b[0m, in \u001b[0;36m<cell line: 1>\u001b[0;34m()\u001b[0m\n\u001b[0;32m----> 1\u001b[0m ps_1 \u001b[38;5;241m=\u001b[39m df[df[\u001b[38;5;124m'\u001b[39m\u001b[38;5;124mSite\u001b[39m\u001b[38;5;124m'\u001b[39m] \u001b[38;5;241m==\u001b[39m \u001b[43mcomboBox_site\u001b[49m\u001b[38;5;241m.\u001b[39mcurrentText()][\u001b[38;5;124m'\u001b[39m\u001b[38;5;124mPornstar 1\u001b[39m\u001b[38;5;124m'\u001b[39m]\n",
      "\u001b[0;31mNameError\u001b[0m: name 'comboBox_site' is not defined"
     ]
    }
   ],
   "source": [
    "ps_1 = df[df['Site'] == comboBox_site.currentText()]['Pornstar 1']"
   ]
  },
  {
   "cell_type": "code",
   "execution_count": null,
   "id": "58730fa0",
   "metadata": {},
   "outputs": [],
   "source": []
  }
 ],
 "metadata": {
  "kernelspec": {
   "display_name": "python38_jl30",
   "language": "python",
   "name": "python38_jl30"
  },
  "language_info": {
   "codemirror_mode": {
    "name": "ipython",
    "version": 3
   },
   "file_extension": ".py",
   "mimetype": "text/x-python",
   "name": "python",
   "nbconvert_exporter": "python",
   "pygments_lexer": "ipython3",
   "version": "3.10.4"
  }
 },
 "nbformat": 4,
 "nbformat_minor": 5
}
