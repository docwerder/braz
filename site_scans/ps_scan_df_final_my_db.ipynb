{
 "cells": [
  {
   "cell_type": "markdown",
   "id": "bec1f378",
   "metadata": {},
   "source": [
    "### Make ps_search of df_final and my_db"
   ]
  },
  {
   "cell_type": "code",
   "execution_count": 1,
   "id": "f269c8e6",
   "metadata": {},
   "outputs": [
    {
     "name": "stderr",
     "output_type": "stream",
     "text": [
      "/var/folders/z2/_gyyb63x4pv6zvl1bd53ryg00000gn/T/ipykernel_4452/3171925353.py:4: DeprecationWarning: Importing display from IPython.core.display is deprecated since IPython 7.14, please import from IPython display\n",
      "  from IPython.core.display import display, HTML\n"
     ]
    },
    {
     "data": {
      "text/html": [
       "<style>.container {width:90% !important; }</style>"
      ],
      "text/plain": [
       "<IPython.core.display.HTML object>"
      ]
     },
     "metadata": {},
     "output_type": "display_data"
    }
   ],
   "source": [
    "import pandas as pd\n",
    "import math\n",
    "import sys\n",
    "from IPython.core.display import display, HTML\n",
    "display(HTML(\"<style>.container {width:90% !important; }</style>\"))\n",
    "sys.path.append('/Users/joerg/repos/braz')\n",
    "from utilities_functions import scan_func\n",
    "# To run all commands within one cell:\n",
    "from IPython.core.interactiveshell import InteractiveShell\n",
    "InteractiveShell.ast_node_interactivity = \"all\"\n",
    "\n",
    "# default behaviour:\n",
    "# InteractiveShell.ast_node_interactivity = \"last_expr\""
   ]
  },
  {
   "cell_type": "code",
   "execution_count": 2,
   "id": "1733b5e2",
   "metadata": {},
   "outputs": [],
   "source": [
    "df_my_db = pd.read_csv('df_final_my_db_py_21_04_2022.csv', index_col=[0])\n",
    "df_final = pd.read_csv('df_final_inklusive_ms.csv', index_col=[0])"
   ]
  },
  {
   "cell_type": "markdown",
   "id": "426191bd",
   "metadata": {},
   "source": [
    "## PS-search at my_db"
   ]
  },
  {
   "cell_type": "code",
   "execution_count": 3,
   "id": "6648249f",
   "metadata": {},
   "outputs": [],
   "source": [
    "ps_name = 'Krissy Lynn'"
   ]
  },
  {
   "cell_type": "code",
   "execution_count": 4,
   "id": "78685f3a",
   "metadata": {},
   "outputs": [
    {
     "data": {
      "text/html": [
       "<div>\n",
       "<style scoped>\n",
       "    .dataframe tbody tr th:only-of-type {\n",
       "        vertical-align: middle;\n",
       "    }\n",
       "\n",
       "    .dataframe tbody tr th {\n",
       "        vertical-align: top;\n",
       "    }\n",
       "\n",
       "    .dataframe thead th {\n",
       "        text-align: right;\n",
       "    }\n",
       "</style>\n",
       "<table border=\"1\" class=\"dataframe\">\n",
       "  <thead>\n",
       "    <tr style=\"text-align: right;\">\n",
       "      <th></th>\n",
       "      <th>Site</th>\n",
       "      <th>PS1</th>\n",
       "      <th>PS2</th>\n",
       "      <th>PS3</th>\n",
       "      <th>PS4</th>\n",
       "      <th>PS5</th>\n",
       "      <th>PS6</th>\n",
       "      <th>PS7</th>\n",
       "      <th>PS8</th>\n",
       "      <th>PS9</th>\n",
       "      <th>PS10</th>\n",
       "      <th>Title</th>\n",
       "      <th>Location</th>\n",
       "      <th>Link</th>\n",
       "    </tr>\n",
       "  </thead>\n",
       "  <tbody>\n",
       "    <tr>\n",
       "      <th>0</th>\n",
       "      <td>Baby Got Boobs</td>\n",
       "      <td>Alexis Ford</td>\n",
       "      <td>No Name</td>\n",
       "      <td>No Name</td>\n",
       "      <td>No Name</td>\n",
       "      <td>No Name</td>\n",
       "      <td>No Name</td>\n",
       "      <td>No Name</td>\n",
       "      <td>No Name</td>\n",
       "      <td>No Name</td>\n",
       "      <td>No Name</td>\n",
       "      <td>happy_boob_day_720p</td>\n",
       "      <td>WERDERNASX</td>\n",
       "      <td>/Volumes/WERDERNASX/VIDEOSX/BRAZZERS/baby_got_...</td>\n",
       "    </tr>\n",
       "    <tr>\n",
       "      <th>1</th>\n",
       "      <td>Baby Got Boobs</td>\n",
       "      <td>Alexis Ford</td>\n",
       "      <td>No Name</td>\n",
       "      <td>No Name</td>\n",
       "      <td>No Name</td>\n",
       "      <td>No Name</td>\n",
       "      <td>No Name</td>\n",
       "      <td>No Name</td>\n",
       "      <td>No Name</td>\n",
       "      <td>No Name</td>\n",
       "      <td>No Name</td>\n",
       "      <td>make_it_up_to_my_dick_720p</td>\n",
       "      <td>WERDERNASX</td>\n",
       "      <td>/Volumes/WERDERNASX/VIDEOSX/BRAZZERS/baby_got_...</td>\n",
       "    </tr>\n",
       "    <tr>\n",
       "      <th>2</th>\n",
       "      <td>Baby Got Boobs</td>\n",
       "      <td>Alexis Ford</td>\n",
       "      <td>No Name</td>\n",
       "      <td>No Name</td>\n",
       "      <td>No Name</td>\n",
       "      <td>No Name</td>\n",
       "      <td>No Name</td>\n",
       "      <td>No Name</td>\n",
       "      <td>No Name</td>\n",
       "      <td>No Name</td>\n",
       "      <td>No Name</td>\n",
       "      <td>xxx_men_the_hellfire_club_720p</td>\n",
       "      <td>WERDERNASX</td>\n",
       "      <td>/Volumes/WERDERNASX/VIDEOSX/BRAZZERS/baby_got_...</td>\n",
       "    </tr>\n",
       "    <tr>\n",
       "      <th>3</th>\n",
       "      <td>Baby Got Boobs</td>\n",
       "      <td>Alexis May</td>\n",
       "      <td>No Name</td>\n",
       "      <td>No Name</td>\n",
       "      <td>No Name</td>\n",
       "      <td>No Name</td>\n",
       "      <td>No Name</td>\n",
       "      <td>No Name</td>\n",
       "      <td>No Name</td>\n",
       "      <td>No Name</td>\n",
       "      <td>No Name</td>\n",
       "      <td>video_store_whore_720p</td>\n",
       "      <td>WERDERNASX</td>\n",
       "      <td>/Volumes/WERDERNASX/VIDEOSX/BRAZZERS/baby_got_...</td>\n",
       "    </tr>\n",
       "    <tr>\n",
       "      <th>4</th>\n",
       "      <td>Baby Got Boobs</td>\n",
       "      <td>Allison Star</td>\n",
       "      <td>No Name</td>\n",
       "      <td>No Name</td>\n",
       "      <td>No Name</td>\n",
       "      <td>No Name</td>\n",
       "      <td>No Name</td>\n",
       "      <td>No Name</td>\n",
       "      <td>No Name</td>\n",
       "      <td>No Name</td>\n",
       "      <td>No Name</td>\n",
       "      <td>boobie_cun_testant_720p</td>\n",
       "      <td>WERDERNASX</td>\n",
       "      <td>/Volumes/WERDERNASX/VIDEOSX/BRAZZERS/baby_got_...</td>\n",
       "    </tr>\n",
       "    <tr>\n",
       "      <th>...</th>\n",
       "      <td>...</td>\n",
       "      <td>...</td>\n",
       "      <td>...</td>\n",
       "      <td>...</td>\n",
       "      <td>...</td>\n",
       "      <td>...</td>\n",
       "      <td>...</td>\n",
       "      <td>...</td>\n",
       "      <td>...</td>\n",
       "      <td>...</td>\n",
       "      <td>...</td>\n",
       "      <td>...</td>\n",
       "      <td>...</td>\n",
       "      <td>...</td>\n",
       "    </tr>\n",
       "    <tr>\n",
       "      <th>1709</th>\n",
       "      <td>Real Wife Stories</td>\n",
       "      <td>Dylan Ryder</td>\n",
       "      <td>No Name</td>\n",
       "      <td>No Name</td>\n",
       "      <td>No Name</td>\n",
       "      <td>No Name</td>\n",
       "      <td>No Name</td>\n",
       "      <td>No Name</td>\n",
       "      <td>No Name</td>\n",
       "      <td>No Name</td>\n",
       "      <td>No Name</td>\n",
       "      <td>happily_married_1080p</td>\n",
       "      <td>WERDERNAS2X</td>\n",
       "      <td>/Volumes/WERDERNAS2X/VIDEOS2X/BRAZZERS2/real_w...</td>\n",
       "    </tr>\n",
       "    <tr>\n",
       "      <th>1710</th>\n",
       "      <td>Real Wife Stories</td>\n",
       "      <td>Karmen Karma</td>\n",
       "      <td>No Name</td>\n",
       "      <td>No Name</td>\n",
       "      <td>No Name</td>\n",
       "      <td>No Name</td>\n",
       "      <td>No Name</td>\n",
       "      <td>No Name</td>\n",
       "      <td>No Name</td>\n",
       "      <td>No Name</td>\n",
       "      <td>No Name</td>\n",
       "      <td>in_lawful_infidelity_720p</td>\n",
       "      <td>WERDERNAS2X</td>\n",
       "      <td>/Volumes/WERDERNAS2X/VIDEOS2X/BRAZZERS2/real_w...</td>\n",
       "    </tr>\n",
       "    <tr>\n",
       "      <th>1711</th>\n",
       "      <td>Real Wife Stories</td>\n",
       "      <td>Lenina Crowne</td>\n",
       "      <td>No Name</td>\n",
       "      <td>No Name</td>\n",
       "      <td>No Name</td>\n",
       "      <td>No Name</td>\n",
       "      <td>No Name</td>\n",
       "      <td>No Name</td>\n",
       "      <td>No Name</td>\n",
       "      <td>No Name</td>\n",
       "      <td>No Name</td>\n",
       "      <td>upgrading_my_room_720p</td>\n",
       "      <td>WERDERNAS2X</td>\n",
       "      <td>/Volumes/WERDERNAS2X/VIDEOS2X/BRAZZERS2/real_w...</td>\n",
       "    </tr>\n",
       "    <tr>\n",
       "      <th>1712</th>\n",
       "      <td>Teens Like It Big</td>\n",
       "      <td>Alexis Monroe</td>\n",
       "      <td>No Name</td>\n",
       "      <td>No Name</td>\n",
       "      <td>No Name</td>\n",
       "      <td>No Name</td>\n",
       "      <td>No Name</td>\n",
       "      <td>No Name</td>\n",
       "      <td>No Name</td>\n",
       "      <td>No Name</td>\n",
       "      <td>No Name</td>\n",
       "      <td>american_slut_720p</td>\n",
       "      <td>WERDERNAS2X</td>\n",
       "      <td>/Volumes/WERDERNAS2X/VIDEOS2X/BRAZZERS2/teens_...</td>\n",
       "    </tr>\n",
       "    <tr>\n",
       "      <th>1713</th>\n",
       "      <td>Teens Like It Big</td>\n",
       "      <td>Karmen Karma</td>\n",
       "      <td>No Name</td>\n",
       "      <td>No Name</td>\n",
       "      <td>No Name</td>\n",
       "      <td>No Name</td>\n",
       "      <td>No Name</td>\n",
       "      <td>No Name</td>\n",
       "      <td>No Name</td>\n",
       "      <td>No Name</td>\n",
       "      <td>No Name</td>\n",
       "      <td>dont_forget_to_blow_your_server_720p</td>\n",
       "      <td>WERDERNAS2X</td>\n",
       "      <td>/Volumes/WERDERNAS2X/VIDEOS2X/BRAZZERS2/teens_...</td>\n",
       "    </tr>\n",
       "  </tbody>\n",
       "</table>\n",
       "<p>1714 rows × 14 columns</p>\n",
       "</div>"
      ],
      "text/plain": [
       "                   Site            PS1      PS2      PS3      PS4      PS5  \\\n",
       "0        Baby Got Boobs    Alexis Ford  No Name  No Name  No Name  No Name   \n",
       "1        Baby Got Boobs    Alexis Ford  No Name  No Name  No Name  No Name   \n",
       "2        Baby Got Boobs    Alexis Ford  No Name  No Name  No Name  No Name   \n",
       "3        Baby Got Boobs     Alexis May  No Name  No Name  No Name  No Name   \n",
       "4        Baby Got Boobs   Allison Star  No Name  No Name  No Name  No Name   \n",
       "...                 ...            ...      ...      ...      ...      ...   \n",
       "1709  Real Wife Stories    Dylan Ryder  No Name  No Name  No Name  No Name   \n",
       "1710  Real Wife Stories   Karmen Karma  No Name  No Name  No Name  No Name   \n",
       "1711  Real Wife Stories  Lenina Crowne  No Name  No Name  No Name  No Name   \n",
       "1712  Teens Like It Big  Alexis Monroe  No Name  No Name  No Name  No Name   \n",
       "1713  Teens Like It Big   Karmen Karma  No Name  No Name  No Name  No Name   \n",
       "\n",
       "          PS6      PS7      PS8      PS9     PS10  \\\n",
       "0     No Name  No Name  No Name  No Name  No Name   \n",
       "1     No Name  No Name  No Name  No Name  No Name   \n",
       "2     No Name  No Name  No Name  No Name  No Name   \n",
       "3     No Name  No Name  No Name  No Name  No Name   \n",
       "4     No Name  No Name  No Name  No Name  No Name   \n",
       "...       ...      ...      ...      ...      ...   \n",
       "1709  No Name  No Name  No Name  No Name  No Name   \n",
       "1710  No Name  No Name  No Name  No Name  No Name   \n",
       "1711  No Name  No Name  No Name  No Name  No Name   \n",
       "1712  No Name  No Name  No Name  No Name  No Name   \n",
       "1713  No Name  No Name  No Name  No Name  No Name   \n",
       "\n",
       "                                     Title     Location  \\\n",
       "0                      happy_boob_day_720p   WERDERNASX   \n",
       "1               make_it_up_to_my_dick_720p   WERDERNASX   \n",
       "2           xxx_men_the_hellfire_club_720p   WERDERNASX   \n",
       "3                   video_store_whore_720p   WERDERNASX   \n",
       "4                  boobie_cun_testant_720p   WERDERNASX   \n",
       "...                                    ...          ...   \n",
       "1709                 happily_married_1080p  WERDERNAS2X   \n",
       "1710             in_lawful_infidelity_720p  WERDERNAS2X   \n",
       "1711                upgrading_my_room_720p  WERDERNAS2X   \n",
       "1712                    american_slut_720p  WERDERNAS2X   \n",
       "1713  dont_forget_to_blow_your_server_720p  WERDERNAS2X   \n",
       "\n",
       "                                                   Link  \n",
       "0     /Volumes/WERDERNASX/VIDEOSX/BRAZZERS/baby_got_...  \n",
       "1     /Volumes/WERDERNASX/VIDEOSX/BRAZZERS/baby_got_...  \n",
       "2     /Volumes/WERDERNASX/VIDEOSX/BRAZZERS/baby_got_...  \n",
       "3     /Volumes/WERDERNASX/VIDEOSX/BRAZZERS/baby_got_...  \n",
       "4     /Volumes/WERDERNASX/VIDEOSX/BRAZZERS/baby_got_...  \n",
       "...                                                 ...  \n",
       "1709  /Volumes/WERDERNAS2X/VIDEOS2X/BRAZZERS2/real_w...  \n",
       "1710  /Volumes/WERDERNAS2X/VIDEOS2X/BRAZZERS2/real_w...  \n",
       "1711  /Volumes/WERDERNAS2X/VIDEOS2X/BRAZZERS2/real_w...  \n",
       "1712  /Volumes/WERDERNAS2X/VIDEOS2X/BRAZZERS2/teens_...  \n",
       "1713  /Volumes/WERDERNAS2X/VIDEOS2X/BRAZZERS2/teens_...  \n",
       "\n",
       "[1714 rows x 14 columns]"
      ]
     },
     "execution_count": 4,
     "metadata": {},
     "output_type": "execute_result"
    },
    {
     "data": {
      "text/plain": [
       "51"
      ]
     },
     "execution_count": 4,
     "metadata": {},
     "output_type": "execute_result"
    }
   ],
   "source": [
    "\n",
    "title_string = ''\n",
    "#df_my_db[df_my_db['PS1'].str.contains(ps_name) & df_my_db['Title'].str.contains(title_string)]\n",
    "# giving the numbers...\n",
    "\n",
    "# only as PS1\n",
    "#df_my_db[df_my_db['PS1'].str.contains(ps_name) | df_my_db['PS2'].str.contains(ps_name) & df_my_db['Title'].str.contains(title_string)]\n",
    "\n",
    "# Only as PS1 or PS2\n",
    "#df_my_db[df_my_db['PS1'].str.contains(ps_name) | df_my_db['PS2'].str.contains(ps_name) & df_my_db['Title'].str.contains(title_string)]\n",
    "\n",
    "#len(df_my_db[df_my_db['PS1'].str.contains(ps_name) | df_my_db['PS2'].str.contains(ps_name) & df_my_db['Title'].str.contains(title_string)])\n",
    "\n",
    "# Only as PS1, PS2 or PS3..\n",
    "#df_my_db[df_my_db['PS1'].str.contains(ps_name) | df_my_db['PS2'].str.contains(ps_name) | df_my_db['PS3'].str.contains(ps_name) & df_my_db['Title'].str.contains(title_string)]\n",
    "df_my_db[df_my_db['Title'].str.contains(title_string)]\n",
    "\n",
    "len(df_my_db[df_my_db['PS1'].str.contains(ps_name) | df_my_db['PS2'].str.contains(ps_name) | df_my_db['PS3'].str.contains(ps_name) & df_my_db['Title'].str.contains(title_string)])"
   ]
  },
  {
   "cell_type": "markdown",
   "id": "2b6d1716",
   "metadata": {},
   "source": [
    "#### extract the title-column only for the selected ps..."
   ]
  },
  {
   "cell_type": "code",
   "execution_count": 6,
   "id": "1e9addb5",
   "metadata": {},
   "outputs": [],
   "source": [
    "krissy_lynn_title_only_my_db = ['_'.join(x.split('_')[:-1]) for x in krissy_lynn_my_db['Title']]"
   ]
  },
  {
   "cell_type": "code",
   "execution_count": 8,
   "id": "5ae53ac7",
   "metadata": {},
   "outputs": [
    {
     "data": {
      "text/plain": [
       "51"
      ]
     },
     "execution_count": 8,
     "metadata": {},
     "output_type": "execute_result"
    }
   ],
   "source": [
    "len(krissy_lynn_title_only_my_db)"
   ]
  },
  {
   "cell_type": "markdown",
   "id": "18745283",
   "metadata": {},
   "source": [
    "# PS or title-search at df_final"
   ]
  },
  {
   "cell_type": "code",
   "execution_count": 6,
   "id": "6f6913b8",
   "metadata": {},
   "outputs": [
    {
     "data": {
      "text/html": [
       "<div><div id=1157b00b-61c2-45f9-be60-19cc3015bd91 style=\"display:none; background-color:#9D6CFF; color:white; width:200px; height:30px; padding-left:5px; border-radius:4px; flex-direction:row; justify-content:space-around; align-items:center;\" onmouseover=\"this.style.backgroundColor='#BA9BF8'\" onmouseout=\"this.style.backgroundColor='#9D6CFF'\" onclick=\"window.commands?.execute('create-mitosheet-from-dataframe-output');\">See Full Dataframe in Mito</div> <script> if (window.commands.hasCommand('create-mitosheet-from-dataframe-output')) document.getElementById('1157b00b-61c2-45f9-be60-19cc3015bd91').style.display = 'flex' </script> <table border=\"1\" class=\"dataframe\">\n",
       "  <thead>\n",
       "    <tr style=\"text-align: right;\">\n",
       "      <th></th>\n",
       "      <th>Site</th>\n",
       "      <th>PS1</th>\n",
       "      <th>PS2</th>\n",
       "      <th>Title</th>\n",
       "    </tr>\n",
       "  </thead>\n",
       "  <tbody>\n",
       "    <tr>\n",
       "      <th>2535</th>\n",
       "      <td>Big Tits At School</td>\n",
       "      <td>tasha_reign</td>\n",
       "      <td>katrina_jade</td>\n",
       "      <td>slut_colleges_queen_of_boobs</td>\n",
       "    </tr>\n",
       "    <tr>\n",
       "      <th>3949</th>\n",
       "      <td>Big Wet Butts</td>\n",
       "      <td>abella_danger</td>\n",
       "      <td>markus_dupree</td>\n",
       "      <td>queen_of_the_dick</td>\n",
       "    </tr>\n",
       "    <tr>\n",
       "      <th>6988</th>\n",
       "      <td>Milfs Like It Big</td>\n",
       "      <td>destiny_dixon</td>\n",
       "      <td>sean_lawless</td>\n",
       "      <td>destiny_queen_of_footjobs</td>\n",
       "    </tr>\n",
       "    <tr>\n",
       "      <th>9435</th>\n",
       "      <td>Zz Series</td>\n",
       "      <td>tina_kay</td>\n",
       "      <td>rebecca_more</td>\n",
       "      <td>queen_of_thrones_part_1_a_xxx_parody</td>\n",
       "    </tr>\n",
       "    <tr>\n",
       "      <th>9464</th>\n",
       "      <td>Zz Series</td>\n",
       "      <td>xander_corvus</td>\n",
       "      <td>bonnie_rotten</td>\n",
       "      <td>queen_of_thrones_part_2_a_xxx_parody</td>\n",
       "    </tr>\n",
       "    <tr>\n",
       "      <th>9467</th>\n",
       "      <td>Zz Series</td>\n",
       "      <td>rebecca_more</td>\n",
       "      <td>romi_rain</td>\n",
       "      <td>queen_of_thrones_part_4_a_xxx_parody</td>\n",
       "    </tr>\n",
       "    <tr>\n",
       "      <th>9478</th>\n",
       "      <td>Zz Series</td>\n",
       "      <td>romi_rain</td>\n",
       "      <td>bridgette_b</td>\n",
       "      <td>queen_of_thrones_part_3_a_xxx_parody</td>\n",
       "    </tr>\n",
       "    <tr>\n",
       "      <th>9503</th>\n",
       "      <td>Zz Series</td>\n",
       "      <td>asa_akira</td>\n",
       "      <td>lisa_ann</td>\n",
       "      <td>ep_3_the_queen_of_lust</td>\n",
       "    </tr>\n",
       "  </tbody>\n",
       "</table></div>"
      ],
      "text/plain": [
       "                    Site            PS1            PS2  \\\n",
       "2535  Big Tits At School    tasha_reign   katrina_jade   \n",
       "3949       Big Wet Butts  abella_danger  markus_dupree   \n",
       "6988   Milfs Like It Big  destiny_dixon   sean_lawless   \n",
       "9435           Zz Series       tina_kay   rebecca_more   \n",
       "9464           Zz Series  xander_corvus  bonnie_rotten   \n",
       "9467           Zz Series   rebecca_more      romi_rain   \n",
       "9478           Zz Series      romi_rain    bridgette_b   \n",
       "9503           Zz Series      asa_akira       lisa_ann   \n",
       "\n",
       "                                     Title  \n",
       "2535          slut_colleges_queen_of_boobs  \n",
       "3949                     queen_of_the_dick  \n",
       "6988             destiny_queen_of_footjobs  \n",
       "9435  queen_of_thrones_part_1_a_xxx_parody  \n",
       "9464  queen_of_thrones_part_2_a_xxx_parody  \n",
       "9467  queen_of_thrones_part_4_a_xxx_parody  \n",
       "9478  queen_of_thrones_part_3_a_xxx_parody  \n",
       "9503                ep_3_the_queen_of_lust  "
      ]
     },
     "execution_count": 6,
     "metadata": {},
     "output_type": "execute_result"
    }
   ],
   "source": [
    "title_string = \"queen_of\"\n",
    "df_final[df_final['Title'].str.contains(title_string)]\n",
    "#df_my_db[df_my_db['Title'].str.contains(title_string)]"
   ]
  },
  {
   "cell_type": "markdown",
   "id": "81a0fe4d",
   "metadata": {},
   "source": [
    "# PS or title-search at df_my_db"
   ]
  },
  {
   "cell_type": "code",
   "execution_count": 7,
   "id": "e44e6b4c",
   "metadata": {},
   "outputs": [
    {
     "data": {
      "text/html": [
       "<div><div id=9f6adab7-95f5-417b-9cce-3ab25acf511c style=\"display:none; background-color:#9D6CFF; color:white; width:200px; height:30px; padding-left:5px; border-radius:4px; flex-direction:row; justify-content:space-around; align-items:center;\" onmouseover=\"this.style.backgroundColor='#BA9BF8'\" onmouseout=\"this.style.backgroundColor='#9D6CFF'\" onclick=\"window.commands?.execute('create-mitosheet-from-dataframe-output');\">See Full Dataframe in Mito</div> <script> if (window.commands.hasCommand('create-mitosheet-from-dataframe-output')) document.getElementById('9f6adab7-95f5-417b-9cce-3ab25acf511c').style.display = 'flex' </script> <table border=\"1\" class=\"dataframe\">\n",
       "  <thead>\n",
       "    <tr style=\"text-align: right;\">\n",
       "      <th></th>\n",
       "      <th>Site</th>\n",
       "      <th>PS1</th>\n",
       "      <th>PS2</th>\n",
       "      <th>PS3</th>\n",
       "      <th>PS4</th>\n",
       "      <th>PS5</th>\n",
       "      <th>PS6</th>\n",
       "      <th>PS7</th>\n",
       "      <th>PS8</th>\n",
       "      <th>PS9</th>\n",
       "      <th>PS10</th>\n",
       "      <th>Title</th>\n",
       "      <th>Location</th>\n",
       "      <th>Link</th>\n",
       "    </tr>\n",
       "  </thead>\n",
       "  <tbody>\n",
       "  </tbody>\n",
       "</table></div>"
      ],
      "text/plain": [
       "Empty DataFrame\n",
       "Columns: [Site, PS1, PS2, PS3, PS4, PS5, PS6, PS7, PS8, PS9, PS10, Title, Location, Link]\n",
       "Index: []"
      ]
     },
     "execution_count": 7,
     "metadata": {},
     "output_type": "execute_result"
    }
   ],
   "source": [
    "title_string = \"queen_of\"\n",
    "df_my_db[df_my_db['Title'].str.contains(title_string)]"
   ]
  },
  {
   "cell_type": "code",
   "execution_count": 10,
   "id": "41a85250",
   "metadata": {},
   "outputs": [],
   "source": [
    "ps_name_final = \"krissy_lynn\""
   ]
  },
  {
   "cell_type": "code",
   "execution_count": 56,
   "id": "dd195860",
   "metadata": {},
   "outputs": [
    {
     "data": {
      "text/plain": [
       "68"
      ]
     },
     "execution_count": 56,
     "metadata": {},
     "output_type": "execute_result"
    }
   ],
   "source": [
    "# only as PS1\n",
    "title_string_final = ''\n",
    "krissy_lynn_df_final = df_final[df_final['PS1'].str.contains(ps_name_final) | df_final['PS2'].str.contains(ps_name_final) & df_final['Title'].str.contains(title_string_final)]\n",
    "len(df_final[df_final['PS1'].str.contains(ps_name_final) | df_final['PS2'].str.contains(ps_name_final) & df_final['Title'].str.contains(title_string_final)])"
   ]
  },
  {
   "cell_type": "markdown",
   "id": "feed9f64",
   "metadata": {},
   "source": [
    "#### extract the title-column for the selected ps in df_final ... slightly different algorithm compared to my_db"
   ]
  },
  {
   "cell_type": "code",
   "execution_count": 15,
   "id": "b1c00587",
   "metadata": {},
   "outputs": [],
   "source": [
    "krissy_lynn_title_only_df_final = [x for x in krissy_lynn_df_final['Title']]"
   ]
  },
  {
   "cell_type": "code",
   "execution_count": 2,
   "id": "19819269",
   "metadata": {},
   "outputs": [
    {
     "ename": "NameError",
     "evalue": "name 'krissy_lynn_title_only_df_final' is not defined",
     "output_type": "error",
     "traceback": [
      "\u001b[0;31m---------------------------------------------------------------------------\u001b[0m",
      "\u001b[0;31mNameError\u001b[0m                                 Traceback (most recent call last)",
      "\u001b[1;32m/Users/joerg/repos/braz/site_scans/ps_scan_df_final_my_db.ipynb Zelle 18\u001b[0m in \u001b[0;36m<cell line: 1>\u001b[0;34m()\u001b[0m\n\u001b[0;32m----> <a href='vscode-notebook-cell:/Users/joerg/repos/braz/site_scans/ps_scan_df_final_my_db.ipynb#X23sZmlsZQ%3D%3D?line=0'>1</a>\u001b[0m \u001b[39mlen\u001b[39m(krissy_lynn_title_only_df_final)\n",
      "\u001b[0;31mNameError\u001b[0m: name 'krissy_lynn_title_only_df_final' is not defined"
     ]
    }
   ],
   "source": [
    "len(krissy_lynn_title_only_df_final)"
   ]
  },
  {
   "cell_type": "markdown",
   "id": "c6c37e46",
   "metadata": {},
   "source": [
    "#### calculate which titles are missing..."
   ]
  },
  {
   "cell_type": "code",
   "execution_count": 3,
   "id": "5d264f79",
   "metadata": {},
   "outputs": [
    {
     "ename": "ModuleNotFoundError",
     "evalue": "No module named 'fuzzywuzzy'",
     "output_type": "error",
     "traceback": [
      "\u001b[0;31m---------------------------------------------------------------------------\u001b[0m",
      "\u001b[0;31mModuleNotFoundError\u001b[0m                       Traceback (most recent call last)",
      "\u001b[1;32m/Users/joerg/repos/braz/site_scans/ps_scan_df_final_my_db.ipynb Zelle 20\u001b[0m in \u001b[0;36m<cell line: 1>\u001b[0;34m()\u001b[0m\n\u001b[0;32m----> <a href='vscode-notebook-cell:/Users/joerg/repos/braz/site_scans/ps_scan_df_final_my_db.ipynb#X25sZmlsZQ%3D%3D?line=0'>1</a>\u001b[0m \u001b[39mfrom\u001b[39;00m \u001b[39mfuzzywuzzy\u001b[39;00m \u001b[39mimport\u001b[39;00m fuzz\n",
      "\u001b[0;31mModuleNotFoundError\u001b[0m: No module named 'fuzzywuzzy'"
     ]
    }
   ],
   "source": [
    "from fuzzywuzzy import fuzz"
   ]
  },
  {
   "cell_type": "code",
   "execution_count": 33,
   "id": "2c80dcf2",
   "metadata": {},
   "outputs": [
    {
     "name": "stdout",
     "output_type": "stream",
     "text": [
      "CPU times: user 143 ms, sys: 2.15 ms, total: 145 ms\n",
      "Wall time: 144 ms\n"
     ]
    }
   ],
   "source": [
    "%%time\n",
    "\n",
    "df_final_title = []\n",
    "my_db_title =[]\n",
    "index_df_final = []\n",
    "index_my_db = []\n",
    "fuzz_val = []\n",
    "\n",
    "for lf_f in krissy_lynn_title_only_df_final[:]:\n",
    "    for lf_m in krissy_lynn_title_only_my_db[:]:\n",
    "        val = fuzz.ratio(lf_f, lf_m)\n",
    "        if val > 90:\n",
    "            fuzz_val.append(val)\n",
    "            continue\n",
    "        df_final_title.append(lf_f)\n",
    "        index_df_final.append(krissy_lynn_title_only_df_final.index(lf_f))\n",
    "        my_db_title.append(lf_m)\n",
    "        index_my_db.append(krissy_lynn_title_only_my_db.index(lf_m))\n",
    "        #if val > 90:\n",
    "            #print('val: ', val)\n",
    "            \n",
    "            #print('lf_f: ', lf_f)\n",
    "            \n",
    "            \n",
    "            #print('lf_f_index: ', df_final_title_only.index(lf_f))\n",
    "            \n",
    "            #print('lf_m: ', lf_m)\n",
    "            \n",
    "            \n",
    "            #print('lf_m_index: ', my_db_title_only.index(lf_m))\n",
    "            \n",
    "            \n",
    "            #print('===')\n",
    "\n",
    "compare_db = {'df_final_title': df_final_title, 'index_df_final': index_df_final, 'my_db_title': my_db_title, 'index_my_db': index_my_db, 'fuzzy_value': fuzz_val}  \n",
    "#columns = ['df_final_title', 'index_df_final', 'my_db_title', 'index_my_db', 'fuzzy_value']\n",
    "#compare_db[columns]"
   ]
  },
  {
   "cell_type": "code",
   "execution_count": 36,
   "id": "9e79b162",
   "metadata": {},
   "outputs": [],
   "source": [
    "def common_elements(list1, list2):\n",
    "    \"\"\"\n",
    "    Return a list containing the elements which are in both list1 and list2\n",
    "\n",
    "    >>> common_elements([1,2,3,4,5,6], [3,5,7,9])\n",
    "    [3, 5]\n",
    "    >>> common_elements(['this','this','n','that'],['this','not','that','that'])\n",
    "    ['this', 'that']\n",
    "    \"\"\"\n",
    "    for element in list1:\n",
    "        if element in list2:\n",
    "            return list(element)"
   ]
  },
  {
   "cell_type": "code",
   "execution_count": 44,
   "id": "51f82471",
   "metadata": {},
   "outputs": [],
   "source": [
    "krissy_lynn = common_elements(list(krissy_lynn_title_only_df_final), list(krissy_lynn_title_only_my_db))"
   ]
  },
  {
   "cell_type": "code",
   "execution_count": 46,
   "id": "e9d6f923",
   "metadata": {},
   "outputs": [],
   "source": [
    "krissy_lynn = list(set(krissy_lynn_title_only_df_final).intersection(krissy_lynn_title_only_my_db))"
   ]
  },
  {
   "cell_type": "code",
   "execution_count": 49,
   "id": "f04c1989",
   "metadata": {},
   "outputs": [],
   "source": [
    "krissy_lynn_2 = set(krissy_lynn_title_only_df_final).difference(krissy_lynn_title_only_my_db)"
   ]
  },
  {
   "cell_type": "code",
   "execution_count": 1,
   "id": "d9e3e8fe",
   "metadata": {},
   "outputs": [],
   "source": [
    "#krissy_lynn_2"
   ]
  },
  {
   "cell_type": "code",
   "execution_count": 2,
   "id": "9e5fcfd5",
   "metadata": {},
   "outputs": [],
   "source": [
    "#compare_db"
   ]
  },
  {
   "cell_type": "code",
   "execution_count": 61,
   "id": "00988a01",
   "metadata": {},
   "outputs": [],
   "source": [
    "ps1 = 'nicolette_shea'"
   ]
  },
  {
   "cell_type": "code",
   "execution_count": 65,
   "id": "1433e76d",
   "metadata": {},
   "outputs": [],
   "source": [
    "ps2 = ps1.replace('_', ' ').title()"
   ]
  },
  {
   "cell_type": "code",
   "execution_count": 67,
   "id": "f3a2826e",
   "metadata": {},
   "outputs": [],
   "source": [
    "ps_name_try = \"Krissy Lynn\""
   ]
  },
  {
   "cell_type": "code",
   "execution_count": 69,
   "id": "0213a840",
   "metadata": {},
   "outputs": [
    {
     "data": {
      "text/plain": [
       "'krissy_lynn'"
      ]
     },
     "execution_count": 69,
     "metadata": {},
     "output_type": "execute_result"
    }
   ],
   "source": [
    "ps_name_try.lower().replace(' ', '_')"
   ]
  },
  {
   "cell_type": "code",
   "execution_count": 28,
   "id": "60fac956",
   "metadata": {},
   "outputs": [
    {
     "data": {
      "text/plain": [
       "'rowdy_armbar_goes_too_far'"
      ]
     },
     "execution_count": 28,
     "metadata": {},
     "output_type": "execute_result"
    }
   ],
   "source": [
    "krissy_lynn_title_only_df_final[0]"
   ]
  }
 ],
 "metadata": {
  "kernelspec": {
   "display_name": "python38_jl30",
   "language": "python",
   "name": "python38_jl30"
  },
  "language_info": {
   "codemirror_mode": {
    "name": "ipython",
    "version": 3
   },
   "file_extension": ".py",
   "mimetype": "text/x-python",
   "name": "python",
   "nbconvert_exporter": "python",
   "pygments_lexer": "ipython3",
   "version": "3.10.4"
  }
 },
 "nbformat": 4,
 "nbformat_minor": 5
}
