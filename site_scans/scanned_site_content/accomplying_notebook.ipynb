{
 "cells": [
  {
   "cell_type": "code",
   "execution_count": 3,
   "id": "6b7e8c2f-167a-45dc-a4b0-bff56721b612",
   "metadata": {},
   "outputs": [],
   "source": [
    "import pandas as ps\n",
    "import os"
   ]
  },
  {
   "cell_type": "code",
   "execution_count": 2,
   "id": "efd5bd55-9164-47ef-b9df-ebe792816206",
   "metadata": {},
   "outputs": [
    {
     "name": "stdout",
     "output_type": "stream",
     "text": [
      "Untitled.ipynb\n",
      "create_final_df_of_scanned_site.py\n",
      "db_asses_in_public_site_content.csv\n",
      "db_bbe_site_content.csv\n",
      "db_bblib_site_content.csv\n",
      "db_bgb_site_content.csv\n",
      "db_btas_site_content.csv\n",
      "db_btaw_site_content.csv\n",
      "db_btis_site_content.csv\n",
      "db_btiu_site_content.csv\n",
      "db_busty_and_real_site_content.csv\n",
      "db_bustyz_site_content.csv\n",
      "db_bwb_site_content.csv\n",
      "db_bzv_site_content.csv\n",
      "db_cfnm_site_content.csv\n",
      "db_da_site_content.csv\n",
      "db_dm_site_content.csv\n",
      "db_dwap_site_content.csv\n",
      "db_final_complete.csv\n",
      "db_hot_and_mean_site_content.csv\n",
      "db_hot_chicks_big_asses_site_content.csv\n",
      "db_jugfuckers_site_content.csv\n",
      "db_mgb_site_content.csv\n",
      "db_mic_site_content.csv\n",
      "db_mlib_site_content.csv\n",
      "db_plib_site_content.csv\n",
      "db_rws_site_content.csv\n",
      "db_sex_pro_site_content.csv\n",
      "db_sgs_site_content.csv\n",
      "db_tlib_site_content.csv\n",
      "db_zzseries_site_content.csv\n"
     ]
    }
   ],
   "source": [
    "db_tmp = pd.read_csv(complete_file_name, index_col=0)"
   ]
  },
  {
   "cell_type": "code",
   "execution_count": 5,
   "id": "32155c68-fc7a-4d34-9507-c7eb7083a61a",
   "metadata": {},
   "outputs": [],
   "source": [
    "df = pd.read_csv('db_final_complete.csv')"
   ]
  },
  {
   "cell_type": "code",
   "execution_count": 7,
   "id": "fecfd650-fb45-4ffc-aa30-e8a83ad04216",
   "metadata": {},
   "outputs": [
    {
     "data": {
      "text/plain": [
       "Index(['Unnamed: 0', 'Site', 'PS1', 'PS2', 'Title'], dtype='object')"
      ]
     },
     "execution_count": 7,
     "metadata": {},
     "output_type": "execute_result"
    }
   ],
   "source": [
    "df.columns"
   ]
  },
  {
   "cell_type": "code",
   "execution_count": 8,
   "id": "3872546d-6007-4fbd-be74-01f73e9dd1f3",
   "metadata": {},
   "outputs": [],
   "source": [
    "del df['Unnamed: 0']"
   ]
  },
  {
   "cell_type": "code",
   "execution_count": null,
   "id": "4c81a026-3a4c-4b3c-a7f6-f37d25d91abc",
   "metadata": {},
   "outputs": [],
   "source": [
    "## https://www.brazzers.com/videos/site/79/asses-in-public/sortby/views/page/ len = 14"
   ]
  },
  {
   "cell_type": "code",
   "execution_count": 12,
   "id": "584a074a-fd89-4d6e-8553-efd033b82490",
   "metadata": {},
   "outputs": [
    {
     "data": {
      "text/plain": [
       "14"
      ]
     },
     "execution_count": 12,
     "metadata": {},
     "output_type": "execute_result"
    }
   ],
   "source": [
    "len(df[df['Site'] == 'Asses In Public'])"
   ]
  },
  {
   "cell_type": "code",
   "execution_count": null,
   "id": "93896ad6-5a82-41cd-92fb-a6fb7b60a76c",
   "metadata": {},
   "outputs": [],
   "source": [
    "## https://www.brazzers.com/videos/site/75/big-tits-at-school/sortby/views/page/ len = 502"
   ]
  },
  {
   "cell_type": "code",
   "execution_count": 14,
   "id": "4bdece4a-ffed-49fb-a87e-7f4e0f73045c",
   "metadata": {},
   "outputs": [
    {
     "data": {
      "text/plain": [
       "501"
      ]
     },
     "execution_count": 14,
     "metadata": {},
     "output_type": "execute_result"
    }
   ],
   "source": [
    "len(df[df['Site'] == 'Big Tits At School'])"
   ]
  },
  {
   "cell_type": "code",
   "execution_count": 17,
   "id": "a14b9dd5-27fe-4ab0-a1ce-a6113bbde73e",
   "metadata": {},
   "outputs": [],
   "source": [
    "# df[df['Site'] == 'Big Tits At School']"
   ]
  },
  {
   "cell_type": "code",
   "execution_count": 16,
   "id": "ca1dded9-f2a1-49b8-b41e-7542f8f2a698",
   "metadata": {},
   "outputs": [
    {
     "data": {
      "text/plain": [
       "500"
      ]
     },
     "execution_count": 16,
     "metadata": {},
     "output_type": "execute_result"
    }
   ],
   "source": [
    "## https://www.brazzers.com/videos/site/81/real-wife-stories/sortby/views/page/ # len = 659"
   ]
  },
  {
   "cell_type": "code",
   "execution_count": 18,
   "id": "fefed001-0453-46ad-b09f-ed826fa30ea6",
   "metadata": {},
   "outputs": [
    {
     "data": {
      "text/plain": [
       "659"
      ]
     },
     "execution_count": 18,
     "metadata": {},
     "output_type": "execute_result"
    }
   ],
   "source": [
    "len(df[df['Site'] == 'Real Wife Stories'])"
   ]
  },
  {
   "cell_type": "code",
   "execution_count": 19,
   "id": "8d5ccf16-eb1d-4460-ac91-5823c38c7514",
   "metadata": {},
   "outputs": [],
   "source": [
    "# https://www.brazzers.com/videos/site/62/doctor-adventures/sortby/views/page/ len = 547"
   ]
  },
  {
   "cell_type": "code",
   "execution_count": 20,
   "id": "2dfc3a10-82a4-4440-9f00-531c26e7b79e",
   "metadata": {},
   "outputs": [
    {
     "data": {
      "text/plain": [
       "543"
      ]
     },
     "execution_count": 20,
     "metadata": {},
     "output_type": "execute_result"
    }
   ],
   "source": [
    "len(df[df['Site'] == 'Doctor Adventures'])"
   ]
  },
  {
   "cell_type": "code",
   "execution_count": 25,
   "id": "6ae43863-5970-45e8-9b90-0bdabfaee7cc",
   "metadata": {},
   "outputs": [],
   "source": [
    "# df[df['Site'] == 'Doctor Adventures']"
   ]
  },
  {
   "cell_type": "code",
   "execution_count": 22,
   "id": "38d2d855-31fb-4fb4-94ae-f99a9e9b7be5",
   "metadata": {},
   "outputs": [
    {
     "data": {
      "text/plain": [
       "542"
      ]
     },
     "execution_count": 22,
     "metadata": {},
     "output_type": "execute_result"
    }
   ],
   "source": [
    "5043-4501"
   ]
  },
  {
   "cell_type": "code",
   "execution_count": 26,
   "id": "894516eb-359b-4b89-8985-2dafa0f07baa",
   "metadata": {},
   "outputs": [],
   "source": [
    "# https://www.brazzers.com/videos/site/89/big-tits-in-uniform/sortby/views/page  len = 149"
   ]
  },
  {
   "cell_type": "code",
   "execution_count": 27,
   "id": "2292c558-dc42-4470-a60b-54cfc45ae38d",
   "metadata": {},
   "outputs": [
    {
     "data": {
      "text/plain": [
       "149"
      ]
     },
     "execution_count": 27,
     "metadata": {},
     "output_type": "execute_result"
    }
   ],
   "source": [
    "len(df[df['Site'] == 'Big Tits In Uniform'])"
   ]
  },
  {
   "cell_type": "code",
   "execution_count": 28,
   "id": "30363cc5-ba9d-4e5e-9748-88c7ce46c83f",
   "metadata": {},
   "outputs": [],
   "source": [
    "# https://www.brazzers.com/videos/site/65/big-wet-butts/sortby/views/page/ len = 580"
   ]
  },
  {
   "cell_type": "code",
   "execution_count": 29,
   "id": "0af18c15-b990-4e92-a94f-db44ed4921f5",
   "metadata": {},
   "outputs": [
    {
     "data": {
      "text/plain": [
       "578"
      ]
     },
     "execution_count": 29,
     "metadata": {},
     "output_type": "execute_result"
    }
   ],
   "source": [
    "len(df[df['Site'] == 'Big Wet Butts'])"
   ]
  },
  {
   "cell_type": "code",
   "execution_count": 30,
   "id": "5fa7783b-c517-4a5a-ba60-1f5eef5ac738",
   "metadata": {},
   "outputs": [],
   "source": [
    "# https://www.brazzers.com/videos/site/66/baby-got-boobs/sortby/views/page/ len = 530"
   ]
  },
  {
   "cell_type": "code",
   "execution_count": 31,
   "id": "4fbe0a03-fa1d-4aa4-8169-44533468f2c3",
   "metadata": {},
   "outputs": [
    {
     "data": {
      "text/plain": [
       "529"
      ]
     },
     "execution_count": 31,
     "metadata": {},
     "output_type": "execute_result"
    }
   ],
   "source": [
    "len(df[df['Site'] == 'Baby Got Boobs'])"
   ]
  },
  {
   "cell_type": "code",
   "execution_count": 32,
   "id": "12737a54-9701-409c-adf1-9d35e5f28d6c",
   "metadata": {},
   "outputs": [],
   "source": [
    "# https://www.brazzers.com/videos/site/67/mommy-got-boobs/sortby/views/page/ len = 573"
   ]
  },
  {
   "cell_type": "code",
   "execution_count": 33,
   "id": "4c0ee235-8cdf-48c4-8cca-ef36bbf25da7",
   "metadata": {},
   "outputs": [
    {
     "data": {
      "text/plain": [
       "570"
      ]
     },
     "execution_count": 33,
     "metadata": {},
     "output_type": "execute_result"
    }
   ],
   "source": [
    "len(df[df['Site'] == 'Mommy Got Boobs'])"
   ]
  },
  {
   "cell_type": "code",
   "execution_count": 34,
   "id": "bd4394c1-6073-417c-a076-21b7685d289b",
   "metadata": {},
   "outputs": [],
   "source": [
    "# https://www.brazzers.com/videos/site/71/big-tits-at-work/sortby/page/ len = 587"
   ]
  },
  {
   "cell_type": "code",
   "execution_count": 35,
   "id": "6910c1ef-5860-4039-aa52-f6187af19156",
   "metadata": {},
   "outputs": [
    {
     "data": {
      "text/plain": [
       "586"
      ]
     },
     "execution_count": 35,
     "metadata": {},
     "output_type": "execute_result"
    }
   ],
   "source": [
    "len(df[df['Site'] == 'Big Tits At Work'])"
   ]
  },
  {
   "cell_type": "code",
   "execution_count": null,
   "id": "32582f4f-c4a7-4e83-8572-378a8aaf0805",
   "metadata": {},
   "outputs": [],
   "source": []
  }
 ],
 "metadata": {
  "kernelspec": {
   "display_name": "Python 3",
   "language": "python",
   "name": "python3"
  },
  "language_info": {
   "codemirror_mode": {
    "name": "ipython",
    "version": 3
   },
   "file_extension": ".py",
   "mimetype": "text/x-python",
   "name": "python",
   "nbconvert_exporter": "python",
   "pygments_lexer": "ipython3",
   "version": "3.8.8"
  }
 },
 "nbformat": 4,
 "nbformat_minor": 5
}
