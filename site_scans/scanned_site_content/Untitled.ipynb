{
 "cells": [
  {
   "cell_type": "code",
   "execution_count": 1,
   "id": "9708c1b8-7d36-4b99-b7e5-e8da50e5cee1",
   "metadata": {},
   "outputs": [],
   "source": [
    "import IPython\n",
    "\n",
    "def display_source(code):\n",
    "    def _jupyterlab_repr_html_(self):\n",
    "        from pygments import highlight\n",
    "        from pygments.formatters import HtmlFormatter\n",
    "\n",
    "        fmt = HtmlFormatter()\n",
    "        style = \"<style>{}\\n{}</style>\".format(\n",
    "            fmt.get_style_defs(\".output_html\"), fmt.get_style_defs(\".jp-RenderedHTML\")\n",
    "        )\n",
    "        return style + highlight(self.data, self._get_lexer(), fmt)\n",
    "\n",
    "    # Replace _repr_html_ with our own version that adds the 'jp-RenderedHTML' class\n",
    "    # in addition to 'output_html'.\n",
    "    IPython.display.Code._repr_html_ = _jupyterlab_repr_html_\n",
    "    return IPython.display.Code(data=code, language=\"python3\")"
   ]
  },
  {
   "cell_type": "code",
   "execution_count": 2,
   "id": "2bf8cb02-2103-4194-8917-d5ce66a47cc9",
   "metadata": {},
   "outputs": [
    {
     "name": "stdout",
     "output_type": "stream",
     "text": [
      "hallo\n"
     ]
    }
   ],
   "source": [
    "print('hallo')"
   ]
  },
  {
   "cell_type": "code",
   "execution_count": 3,
   "id": "ed590cde-5723-47ee-b6c7-f4efd6ad192f",
   "metadata": {},
   "outputs": [
    {
     "data": {
      "text/plain": [
       "'8.1.1'"
      ]
     },
     "execution_count": 3,
     "metadata": {},
     "output_type": "execute_result"
    }
   ],
   "source": [
    "IPython.__version__"
   ]
  },
  {
   "cell_type": "code",
   "execution_count": null,
   "id": "e00c037a-0cce-48e3-bbf4-3d40cf9f0d8b",
   "metadata": {},
   "outputs": [],
   "source": [
    "print('hallo')"
   ]
  }
 ],
 "metadata": {
  "kernelspec": {
   "display_name": "Python 3",
   "language": "python",
   "name": "python3"
  },
  "language_info": {
   "codemirror_mode": {
    "name": "ipython",
    "version": 3
   },
   "file_extension": ".py",
   "mimetype": "text/x-python",
   "name": "python",
   "nbconvert_exporter": "python",
   "pygments_lexer": "ipython3",
   "version": "3.8.8"
  }
 },
 "nbformat": 4,
 "nbformat_minor": 5
}
