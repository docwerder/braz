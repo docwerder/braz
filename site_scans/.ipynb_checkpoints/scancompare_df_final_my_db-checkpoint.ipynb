{
 "cells": [
  {
   "cell_type": "markdown",
   "id": "ff9ec704-2877-458f-ac3d-0a6d21087f98",
   "metadata": {},
   "source": [
    "### Scan comparison between df_final and my_db"
   ]
  },
  {
   "cell_type": "code",
   "execution_count": 1,
   "id": "997f76f6",
   "metadata": {},
   "outputs": [
    {
     "data": {
      "text/html": [
       "<style>.container {width:90% !important; }</style>"
      ],
      "text/plain": [
       "<IPython.core.display.HTML object>"
      ]
     },
     "metadata": {},
     "output_type": "display_data"
    }
   ],
   "source": [
    "import pandas as pd\n",
    "import math\n",
    "import sys\n",
    "from IPython.core.display import display, HTML\n",
    "display(HTML(\"<style>.container {width:90% !important; }</style>\"))\n",
    "sys.path.append('/Users/joerg/repos/braz')\n",
    "from utilities_functions import scan_func\n",
    "# To run all commands within one cell:\n",
    "from IPython.core.interactiveshell import InteractiveShell\n",
    "InteractiveShell.ast_node_interactivity = \"all\"\n",
    "\n",
    "# default behaviour:\n",
    "# InteractiveShell.ast_node_interactivity = \"last_expr\""
   ]
  },
  {
   "cell_type": "markdown",
   "id": "f3dd2f99",
   "metadata": {},
   "source": [
    "chosen_sites = ['https://www.brazzers.com/videos/models/16357/jasmine-jae/page/']\n",
    "max_page_len_of_sites = [2]"
   ]
  },
  {
   "cell_type": "code",
   "execution_count": null,
   "id": "a40726d6-ac05-4a72-b908-3610cd55135c",
   "metadata": {},
   "outputs": [],
   "source": [
    "page_content_db = pd.DataFrame()\n",
    "page_number_db = {}\n",
    "page_content_tmp = {}\n",
    "page_columns = []\n",
    "ps1_db = pd.DataFrame()\n",
    "ps2_db = {}\n",
    "title_db = {}\n",
    "db_actual_site_name = pd.DataFrame()\n",
    "db_final_tmp = pd.DataFrame()\n",
    "db_actual_site_name_sliced = pd.DataFrame()\n",
    "\n",
    "# Determination of the maximum number of pages\n",
    "# for lf_root in db_sites[12:13]:\n",
    "#     db_page_tmp_2 = scan_func(lf_root)\n",
    "#     db_page_tmp_2 = [i for i in db_page_tmp if i.startswith('/videos/site/')]\n",
    "#         print('db_page_tmp: ', db_page_tmp_2)\n",
    "\n",
    "        \n",
    "        \n",
    "for root_site, number in zip(chosen_sites[:], max_page_len_of_sites):\n",
    "    print('max..' , number)\n",
    "  \n",
    "\n",
    "    # max_page_number = math.ceil(int(number) / 24)\n",
    "       \n",
    "    for page_nr in range(1, int(number) + 1):\n",
    "        print('page_nr: ', page_nr)\n",
    "        actual_site = root_site + str(page_nr)\n",
    "        site_name = actual_site.split('/')[-5].replace('-', ' ').title()\n",
    "            \n",
    "        print('site_name: ', site_name)\n",
    "        db_page_tmp = scan_func(actual_site)\n",
    "        #print('db_page_tmp: ', db_page_tmp)\n",
    "        db_page_video = [i for i in db_page_tmp if i.startswith('/video/')]\n",
    "        \n",
    "        db_page_ps = [i for i in db_page_tmp if i.startswith('/pornstar/')]\n",
    "        ps1 = [h.split('/')[-1].replace('-','_') for h in db_page_ps[::2]]\n",
    "        ps2 = [h.split('/')[-1].replace('-', '_') for h in db_page_ps[1::2]]\n",
    "        \n",
    "        title = [h.split('/')[-1].replace('-', '_') for h in db_page_video[::2]]\n",
    "        #print('title: ', title)\n",
    "        site_tmp = [site_name]\n",
    "        #print('site_tmp: ', site_name)\n",
    "        site = list(site_tmp) * 24\n",
    "        #print('site: ', site)\n",
    "        \n",
    "        \n",
    "        ps1_db = pd.DataFrame(ps1)\n",
    "        ps2_db = pd.DataFrame(ps2)\n",
    "        title_db = pd.DataFrame(title)\n",
    "        site_db = pd.DataFrame(site)\n",
    "        \n",
    "        db_all_tmp = pd.concat([site_db, ps1_db, ps2_db, title_db], axis=1)\n",
    "        custom_cols = ['Site', 'PS1', 'PS2', 'Title']\n",
    "        #print('db_all_tmp: ', db_all_tmp)\n",
    "        db_all_tmp.columns = custom_cols\n",
    "        db_actual_site_name = pd.concat([db_actual_site_name, db_all_tmp])\n",
    "        #print('db_all_tmp: ', db_all_tmp)\n",
    "        #print('db_actual_site_name:\\n ', db_actual_site_name)\n",
    "\n",
    "    df_tmp = db_actual_site_name\n",
    "    #print('df_tmp: ', db_actual_site_name)\n",
    "    \n",
    "df_1_tmp = db_actual_site_name"
   ]
  },
  {
   "cell_type": "code",
   "execution_count": null,
   "id": "dc9ef779-fee9-4201-83e6-a7b8757569b6",
   "metadata": {},
   "outputs": [],
   "source": [
    "df_old = df_1_tmp[df_1_tmp['PS1'].notna()]"
   ]
  },
  {
   "cell_type": "markdown",
   "id": "d2146800",
   "metadata": {},
   "source": [
    "***"
   ]
  },
  {
   "cell_type": "markdown",
   "id": "262ca457",
   "metadata": {},
   "source": [
    "### create the df_final..."
   ]
  },
  {
   "cell_type": "code",
   "execution_count": null,
   "id": "7748820a",
   "metadata": {},
   "outputs": [],
   "source": [
    "df_ms = pd.read_csv('df_missing_sites.csv', index_col=[0])\n",
    "# Delete the rows which contain NaN Cells in the column PS1\n",
    "df_ms = df_ms[df_ms['PS1'].notna()]\n",
    "\n",
    "df_f = pd.read_csv('final_df_11_04_2022.csv', index_col=[0])\n",
    "# Delete the rows which contain NaN Cells in the column PS1\n",
    "df_f = df_f[df_f['PS1'].notna()]\n",
    "\n",
    "df_final = pd.concat([df_ms, df_f])\n",
    "\n",
    "# Reset the index... \n",
    "df_final = df_final.reset_index()\n",
    "del df_final['index']\n",
    "\n",
    "df_final.to_csv('df_final_inklusive_ms.csv')"
   ]
  },
  {
   "cell_type": "markdown",
   "id": "141607c3",
   "metadata": {},
   "source": [
    "***"
   ]
  },
  {
   "cell_type": "markdown",
   "id": "1d264024",
   "metadata": {},
   "source": [
    "### Comparison of df_final and my_db..."
   ]
  },
  {
   "cell_type": "markdown",
   "id": "443f336d",
   "metadata": {},
   "source": [
    "Load the df_final"
   ]
  },
  {
   "cell_type": "code",
   "execution_count": 1,
   "id": "ec3a5194",
   "metadata": {},
   "outputs": [],
   "source": [
    "import pandas as pd\n",
    "df_final = pd.read_csv('df_final_inklusive_ms.csv', index_col=[0])"
   ]
  },
  {
   "cell_type": "markdown",
   "id": "f0cd24e7",
   "metadata": {},
   "source": [
    "Load my_db and slicing to a adequate format."
   ]
  },
  {
   "cell_type": "code",
   "execution_count": 3,
   "id": "e5fcf1dd",
   "metadata": {},
   "outputs": [],
   "source": [
    "df_my_db = pd.read_csv('df_final_my_db_py_19_04_2022.csv', index_col=[0])"
   ]
  },
  {
   "cell_type": "code",
   "execution_count": 4,
   "id": "6d07e48b",
   "metadata": {},
   "outputs": [],
   "source": [
    "# make the column \"Title\" comparable with the Title-column of df_final\n",
    "title_only = ['_'.join(x.split('_')[:-1]) for x in df_my_db['Title']]\n",
    "df_my_db['Title'] = title_only\n",
    "del df_my_db['Location']\n",
    "del df_my_db['Link']"
   ]
  },
  {
   "cell_type": "markdown",
   "id": "289aa155",
   "metadata": {},
   "source": [
    "Look, which titles of my_db are in the df_final.."
   ]
  },
  {
   "cell_type": "code",
   "execution_count": 5,
   "id": "dc3d1559",
   "metadata": {},
   "outputs": [],
   "source": [
    "df_final['available_in_my_db'] = 'no'"
   ]
  },
  {
   "cell_type": "code",
   "execution_count": null,
   "id": "ab017591",
   "metadata": {},
   "outputs": [],
   "source": [
    "# The code below cost a lot of time. How can I accelerate these two for-loops?\n",
    "# Trying at the bottom.... not yet????"
   ]
  },
  {
   "cell_type": "code",
   "execution_count": null,
   "id": "911ac45a",
   "metadata": {},
   "outputs": [],
   "source": [
    "%%time\n",
    "\n",
    "for index_df_final, row_df_final in df_final.iloc[:].iterrows():\n",
    "    for index_my_db, row_my_db in df_my_db.iterrows():\n",
    "        if row_my_db['Title'] == row_df_final['Title']:\n",
    "            df_final.loc[index_df_final, 'available_in_my_db'] = 'yes'\n",
    "\n",
    "#time_start = datetime.datetime.now()\n",
    "#print('time_start: ', time_start)\n"
   ]
  },
  {
   "cell_type": "code",
   "execution_count": null,
   "id": "0793558f",
   "metadata": {},
   "outputs": [],
   "source": []
  },
  {
   "cell_type": "markdown",
   "id": "046cad05",
   "metadata": {},
   "source": [
    "\n",
    "***"
   ]
  },
  {
   "cell_type": "markdown",
   "id": "bcae8650",
   "metadata": {},
   "source": [
    "## Another try: With fuzzywuzzy..."
   ]
  },
  {
   "cell_type": "code",
   "execution_count": null,
   "id": "7678c62d",
   "metadata": {},
   "outputs": [],
   "source": [
    "# Since the code at the upper cell cost so much time, I save this in a csv\n",
    "# df_final.to_csv('df_final_adjustment_my_db.csv')"
   ]
  },
  {
   "cell_type": "code",
   "execution_count": null,
   "id": "6099fc51",
   "metadata": {},
   "outputs": [],
   "source": [
    "# Reading my_db and df_final..\n",
    "# df_final_ad = pd.read_csv('df_final_adjustment_my_db.csv', index_col=[0])\n",
    "# --> this df_final_ad is the first result of the comparision between my_db and df_final\n",
    "# BUT: There are also missing titles...\n",
    "# Therefore another algorithm will be tried"
   ]
  },
  {
   "cell_type": "code",
   "execution_count": 5,
   "id": "f771cdc6",
   "metadata": {},
   "outputs": [],
   "source": [
    "df_my_db = pd.read_csv('df_final_my_db_py_19_04_2022.csv', index_col=[0])\n",
    "df_final = pd.read_csv('df_final_inklusive_ms.csv', index_col=[0])"
   ]
  },
  {
   "cell_type": "code",
   "execution_count": 6,
   "id": "9d0eb079",
   "metadata": {},
   "outputs": [],
   "source": [
    "my_db_title_only = ['_'.join(x.split('_')[:-1]) for x in df_my_db['Title']]\n",
    "df_final_title_only = [x for x in df_final['Title']]\n"
   ]
  },
  {
   "cell_type": "markdown",
   "id": "486374e9",
   "metadata": {},
   "source": [
    "Trying to calculate the fuzzy_value and writing this into a dataframe...."
   ]
  },
  {
   "cell_type": "code",
   "execution_count": 7,
   "id": "98f0540d",
   "metadata": {},
   "outputs": [
    {
     "name": "stderr",
     "output_type": "stream",
     "text": [
      "/Users/joerg/opt/anaconda3/envs/python38/lib/python3.8/site-packages/fuzzywuzzy/fuzz.py:11: UserWarning: Using slow pure-python SequenceMatcher. Install python-Levenshtein to remove this warning\n",
      "  warnings.warn('Using slow pure-python SequenceMatcher. Install python-Levenshtein to remove this warning')\n"
     ]
    }
   ],
   "source": [
    "from fuzzywuzzy import fuzz"
   ]
  },
  {
   "cell_type": "code",
   "execution_count": 8,
   "id": "83c27e9b",
   "metadata": {},
   "outputs": [
    {
     "name": "stdout",
     "output_type": "stream",
     "text": [
      "CPU times: user 9min 33s, sys: 4.46 s, total: 9min 38s\n",
      "Wall time: 9min 42s\n"
     ]
    }
   ],
   "source": [
    "%%time\n",
    "\n",
    "df_final_title = []\n",
    "my_db_title =[]\n",
    "index_df_final = []\n",
    "index_my_db = []\n",
    "fuzz_val = []\n",
    "\n",
    "for lf_f in df_final_title_only[:]:\n",
    "    for lf_m in my_db_title_only[:]:\n",
    "        val = fuzz.ratio(lf_f, lf_m)\n",
    "        if val > 90:\n",
    "            #print('val: ', val)\n",
    "            fuzz_val.append(val)\n",
    "            \n",
    "            #print('lf_f: ', lf_f)\n",
    "            df_final_title.append(lf_f)\n",
    "            \n",
    "            #print('lf_f_index: ', df_final_title_only.index(lf_f))\n",
    "            index_df_final.append(df_final_title_only.index(lf_f))\n",
    "            \n",
    "            #print('lf_m: ', lf_m)\n",
    "            my_db_title.append(lf_m)\n",
    "            \n",
    "            #print('lf_m_index: ', my_db_title_only.index(lf_m))\n",
    "            index_my_db.append(my_db_title_only.index(lf_m))\n",
    "            \n",
    "            #print('===')\n",
    "\n",
    "compare_db = {'df_final_title': df_final_title, 'index_df_final': index_df_final, 'my_db_title': my_db_title, 'index_my_db': index_my_db, 'fuzzy_value': fuzz_val}  \n",
    "#columns = ['df_final_title', 'index_df_final', 'my_db_title', 'index_my_db', 'fuzzy_value']\n",
    "#compare_db[columns]"
   ]
  },
  {
   "cell_type": "code",
   "execution_count": 9,
   "id": "ccbb020f",
   "metadata": {},
   "outputs": [],
   "source": [
    "compare_db = pd.DataFrame.from_dict(compare_db)"
   ]
  },
  {
   "cell_type": "code",
   "execution_count": 10,
   "id": "f6f19fca",
   "metadata": {},
   "outputs": [
    {
     "data": {
      "text/plain": [
       "1750"
      ]
     },
     "execution_count": 10,
     "metadata": {},
     "output_type": "execute_result"
    }
   ],
   "source": [
    "len(compare_db['fuzzy_value'])"
   ]
  },
  {
   "cell_type": "markdown",
   "id": "ec0a8fc2",
   "metadata": {},
   "source": [
    "Looking the Titles, for which the fuzzy_value is between 90 and 100     \n",
    "These Titles are at different names in my_db compared to the df_final     \n",
    "and need to be re-named!  \n",
    "The counts are 346  "
   ]
  },
  {
   "cell_type": "code",
   "execution_count": null,
   "id": "c1feb9ba",
   "metadata": {},
   "outputs": [],
   "source": [
    "#compare_db[compare_db['fuzzy_value'] !=100]"
   ]
  },
  {
   "cell_type": "markdown",
   "id": "3e6ee2b1",
   "metadata": {},
   "source": [
    "make a deepcopy of the 'original' compare_db..."
   ]
  },
  {
   "cell_type": "code",
   "execution_count": 11,
   "id": "06aeaeb7",
   "metadata": {},
   "outputs": [],
   "source": [
    "import copy\n",
    "compare_db_backup = copy.deepcopy(compare_db)"
   ]
  },
  {
   "cell_type": "code",
   "execution_count": 12,
   "id": "af3542e4",
   "metadata": {},
   "outputs": [],
   "source": [
    "compare_db['edited'] = 'no'"
   ]
  },
  {
   "cell_type": "code",
   "execution_count": null,
   "id": "8185ef53",
   "metadata": {},
   "outputs": [],
   "source": [
    "df_compare_db_14_04_22 = compare_db[compare_db['fuzzy_value'] != 100]"
   ]
  },
  {
   "cell_type": "code",
   "execution_count": null,
   "id": "601e3fa1",
   "metadata": {},
   "outputs": [],
   "source": [
    "# For sureness... This csv-file can be loaded and edited further...\n",
    "df_compare_db_14_04_22.to_csv('df_compare_db_14_04_22.csv')"
   ]
  },
  {
   "cell_type": "code",
   "execution_count": null,
   "id": "d5a3ec78",
   "metadata": {},
   "outputs": [],
   "source": [
    "compare_db = pd.read_csv('df_compare_db_14_04_22.csv', index_col=[0])"
   ]
  },
  {
   "cell_type": "code",
   "execution_count": 26,
   "id": "5f31c438",
   "metadata": {},
   "outputs": [
    {
     "data": {
      "text/html": [
       "<div><div id=16beb3d3-e341-4844-b2ad-deeeb7ba7843 style=\"display:none; background-color:#9D6CFF; color:white; width:200px; height:30px; padding-left:5px; border-radius:4px; flex-direction:row; justify-content:space-around; align-items:center;\" onmouseover=\"this.style.backgroundColor='#BA9BF8'\" onmouseout=\"this.style.backgroundColor='#9D6CFF'\" onclick=\"window.commands?.execute('create-mitosheet-from-dataframe-output');\">See Full Dataframe in Mito</div> <script> if (window.commands.hasCommand('create-mitosheet-from-dataframe-output')) document.getElementById('16beb3d3-e341-4844-b2ad-deeeb7ba7843').style.display = 'flex' </script> <table border=\"1\" class=\"dataframe\">\n",
       "  <thead>\n",
       "    <tr style=\"text-align: right;\">\n",
       "      <th></th>\n",
       "      <th>df_final_title</th>\n",
       "      <th>index_df_final</th>\n",
       "      <th>my_db_title</th>\n",
       "      <th>index_my_db</th>\n",
       "      <th>fuzzy_value</th>\n",
       "      <th>edited</th>\n",
       "    </tr>\n",
       "  </thead>\n",
       "  <tbody>\n",
       "    <tr>\n",
       "      <th>1507</th>\n",
       "      <td>benz_mafia_part_1</td>\n",
       "      <td>7802</td>\n",
       "      <td>benz_mafia_part_2</td>\n",
       "      <td>1389</td>\n",
       "      <td>94</td>\n",
       "      <td>no</td>\n",
       "    </tr>\n",
       "    <tr>\n",
       "      <th>1509</th>\n",
       "      <td>to_live_and_fuck_in_l_a_part_1</td>\n",
       "      <td>7813</td>\n",
       "      <td>to_live_and_fuck_in_l_a_part_2</td>\n",
       "      <td>1331</td>\n",
       "      <td>97</td>\n",
       "      <td>no</td>\n",
       "    </tr>\n",
       "    <tr>\n",
       "      <th>1510</th>\n",
       "      <td>to_live_and_fuck_in_l_a_part_1</td>\n",
       "      <td>7813</td>\n",
       "      <td>to_live_and_fuck_in_l_a_part_3</td>\n",
       "      <td>1332</td>\n",
       "      <td>97</td>\n",
       "      <td>no</td>\n",
       "    </tr>\n",
       "    <tr>\n",
       "      <th>1528</th>\n",
       "      <td>babes_in_black</td>\n",
       "      <td>7905</td>\n",
       "      <td>babes_in_black_2</td>\n",
       "      <td>498</td>\n",
       "      <td>93</td>\n",
       "      <td>no</td>\n",
       "    </tr>\n",
       "    <tr>\n",
       "      <th>1536</th>\n",
       "      <td>anatomy_of_a_sex_scene_3</td>\n",
       "      <td>7940</td>\n",
       "      <td>anatomy_of_a_sex_scene</td>\n",
       "      <td>1284</td>\n",
       "      <td>96</td>\n",
       "      <td>no</td>\n",
       "    </tr>\n",
       "    <tr>\n",
       "      <th>1549</th>\n",
       "      <td>i_am_not_a_robot_2</td>\n",
       "      <td>8023</td>\n",
       "      <td>i_am_not_a_robot</td>\n",
       "      <td>1360</td>\n",
       "      <td>94</td>\n",
       "      <td>no</td>\n",
       "    </tr>\n",
       "    <tr>\n",
       "      <th>1560</th>\n",
       "      <td>anatomy_of_a_sex_scene_2</td>\n",
       "      <td>8092</td>\n",
       "      <td>anatomy_of_a_sex_scene</td>\n",
       "      <td>1284</td>\n",
       "      <td>96</td>\n",
       "      <td>no</td>\n",
       "    </tr>\n",
       "    <tr>\n",
       "      <th>1569</th>\n",
       "      <td>moniques_secret_spa_part_3</td>\n",
       "      <td>8153</td>\n",
       "      <td>moniques_secret_spa_part_2</td>\n",
       "      <td>1495</td>\n",
       "      <td>96</td>\n",
       "      <td>no</td>\n",
       "    </tr>\n",
       "    <tr>\n",
       "      <th>1570</th>\n",
       "      <td>moniques_secret_spa_part_3</td>\n",
       "      <td>8153</td>\n",
       "      <td>moniques_secret_spa_part_1</td>\n",
       "      <td>1510</td>\n",
       "      <td>96</td>\n",
       "      <td>no</td>\n",
       "    </tr>\n",
       "    <tr>\n",
       "      <th>1576</th>\n",
       "      <td>moniques_secret_spa_part_2</td>\n",
       "      <td>8162</td>\n",
       "      <td>moniques_secret_spa_part_1</td>\n",
       "      <td>1510</td>\n",
       "      <td>96</td>\n",
       "      <td>no</td>\n",
       "    </tr>\n",
       "    <tr>\n",
       "      <th>1577</th>\n",
       "      <td>moniques_secret_spa_part_2</td>\n",
       "      <td>8162</td>\n",
       "      <td>moniques_secret_spa_part_3</td>\n",
       "      <td>1511</td>\n",
       "      <td>96</td>\n",
       "      <td>no</td>\n",
       "    </tr>\n",
       "    <tr>\n",
       "      <th>1579</th>\n",
       "      <td>sister_swap_part_1</td>\n",
       "      <td>8163</td>\n",
       "      <td>sister_swap_part_2</td>\n",
       "      <td>1541</td>\n",
       "      <td>94</td>\n",
       "      <td>no</td>\n",
       "    </tr>\n",
       "    <tr>\n",
       "      <th>1582</th>\n",
       "      <td>moniques_secret_spa_part_1</td>\n",
       "      <td>8170</td>\n",
       "      <td>moniques_secret_spa_part_2</td>\n",
       "      <td>1495</td>\n",
       "      <td>96</td>\n",
       "      <td>no</td>\n",
       "    </tr>\n",
       "    <tr>\n",
       "      <th>1584</th>\n",
       "      <td>moniques_secret_spa_part_1</td>\n",
       "      <td>8170</td>\n",
       "      <td>moniques_secret_spa_part_3</td>\n",
       "      <td>1511</td>\n",
       "      <td>96</td>\n",
       "      <td>no</td>\n",
       "    </tr>\n",
       "    <tr>\n",
       "      <th>1590</th>\n",
       "      <td>lost_on_vacation_san_diego_part_two</td>\n",
       "      <td>8186</td>\n",
       "      <td>lost_on_vacation_san_diego_part_one</td>\n",
       "      <td>1530</td>\n",
       "      <td>94</td>\n",
       "      <td>no</td>\n",
       "    </tr>\n",
       "    <tr>\n",
       "      <th>1594</th>\n",
       "      <td>sister_swap_part_2</td>\n",
       "      <td>8196</td>\n",
       "      <td>sister_swap_part_1</td>\n",
       "      <td>1489</td>\n",
       "      <td>94</td>\n",
       "      <td>no</td>\n",
       "    </tr>\n",
       "    <tr>\n",
       "      <th>1597</th>\n",
       "      <td>moniques_secret_spa_part_4</td>\n",
       "      <td>8204</td>\n",
       "      <td>moniques_secret_spa_part_2</td>\n",
       "      <td>1495</td>\n",
       "      <td>96</td>\n",
       "      <td>no</td>\n",
       "    </tr>\n",
       "    <tr>\n",
       "      <th>1598</th>\n",
       "      <td>moniques_secret_spa_part_4</td>\n",
       "      <td>8204</td>\n",
       "      <td>moniques_secret_spa_part_1</td>\n",
       "      <td>1510</td>\n",
       "      <td>96</td>\n",
       "      <td>no</td>\n",
       "    </tr>\n",
       "    <tr>\n",
       "      <th>1599</th>\n",
       "      <td>moniques_secret_spa_part_4</td>\n",
       "      <td>8204</td>\n",
       "      <td>moniques_secret_spa_part_3</td>\n",
       "      <td>1511</td>\n",
       "      <td>96</td>\n",
       "      <td>no</td>\n",
       "    </tr>\n",
       "    <tr>\n",
       "      <th>1603</th>\n",
       "      <td>double_timing_wife_part_2</td>\n",
       "      <td>8219</td>\n",
       "      <td>double_timing_wife_part_3</td>\n",
       "      <td>1437</td>\n",
       "      <td>96</td>\n",
       "      <td>no</td>\n",
       "    </tr>\n",
       "    <tr>\n",
       "      <th>1609</th>\n",
       "      <td>swingers_on_vacation_part_1</td>\n",
       "      <td>8234</td>\n",
       "      <td>swingers_on_vacation_part_2</td>\n",
       "      <td>1414</td>\n",
       "      <td>96</td>\n",
       "      <td>no</td>\n",
       "    </tr>\n",
       "    <tr>\n",
       "      <th>1615</th>\n",
       "      <td>banging_the_butler</td>\n",
       "      <td>8244</td>\n",
       "      <td>boning_the_butler</td>\n",
       "      <td>1466</td>\n",
       "      <td>91</td>\n",
       "      <td>no</td>\n",
       "    </tr>\n",
       "    <tr>\n",
       "      <th>1624</th>\n",
       "      <td>hungry_for_spring_breakers_part_1</td>\n",
       "      <td>8271</td>\n",
       "      <td>hungry_for_spring_breakers_part_2</td>\n",
       "      <td>1529</td>\n",
       "      <td>97</td>\n",
       "      <td>no</td>\n",
       "    </tr>\n",
       "    <tr>\n",
       "      <th>1627</th>\n",
       "      <td>sucking_the_sitter</td>\n",
       "      <td>8277</td>\n",
       "      <td>seducing_the_sitter</td>\n",
       "      <td>1439</td>\n",
       "      <td>92</td>\n",
       "      <td>no</td>\n",
       "    </tr>\n",
       "    <tr>\n",
       "      <th>1635</th>\n",
       "      <td>take_a_seat_on_my_dick_2</td>\n",
       "      <td>8314</td>\n",
       "      <td>take_a_seat_on_my_dick</td>\n",
       "      <td>1074</td>\n",
       "      <td>96</td>\n",
       "      <td>no</td>\n",
       "    </tr>\n",
       "    <tr>\n",
       "      <th>1637</th>\n",
       "      <td>hungry_for_spring_breakers_part_2</td>\n",
       "      <td>8315</td>\n",
       "      <td>hungry_for_spring_breakers_part_1</td>\n",
       "      <td>1528</td>\n",
       "      <td>97</td>\n",
       "      <td>no</td>\n",
       "    </tr>\n",
       "    <tr>\n",
       "      <th>1640</th>\n",
       "      <td>preppies_in_pantyhose_part_3</td>\n",
       "      <td>8316</td>\n",
       "      <td>preppies_in_pantyhose_part_2</td>\n",
       "      <td>1671</td>\n",
       "      <td>96</td>\n",
       "      <td>no</td>\n",
       "    </tr>\n",
       "    <tr>\n",
       "      <th>1641</th>\n",
       "      <td>preppies_in_pantyhose_part_3</td>\n",
       "      <td>8316</td>\n",
       "      <td>preppies_in_pantyhose_part_4</td>\n",
       "      <td>1675</td>\n",
       "      <td>96</td>\n",
       "      <td>no</td>\n",
       "    </tr>\n",
       "    <tr>\n",
       "      <th>1643</th>\n",
       "      <td>swingers_on_vacation_part_2</td>\n",
       "      <td>8317</td>\n",
       "      <td>swingers_on_vacation_part_1</td>\n",
       "      <td>1415</td>\n",
       "      <td>96</td>\n",
       "      <td>no</td>\n",
       "    </tr>\n",
       "    <tr>\n",
       "      <th>1646</th>\n",
       "      <td>lost_on_vacation_san_diego_part_one</td>\n",
       "      <td>8319</td>\n",
       "      <td>lost_on_vacation_san_diego_part_two</td>\n",
       "      <td>1531</td>\n",
       "      <td>94</td>\n",
       "      <td>no</td>\n",
       "    </tr>\n",
       "    <tr>\n",
       "      <th>1653</th>\n",
       "      <td>the_perfect_hostess</td>\n",
       "      <td>8348</td>\n",
       "      <td>the_perfect_host</td>\n",
       "      <td>691</td>\n",
       "      <td>91</td>\n",
       "      <td>no</td>\n",
       "    </tr>\n",
       "    <tr>\n",
       "      <th>1662</th>\n",
       "      <td>married_to_the_mob_part_two</td>\n",
       "      <td>8378</td>\n",
       "      <td>married_to_the_mob_part_one</td>\n",
       "      <td>1479</td>\n",
       "      <td>93</td>\n",
       "      <td>no</td>\n",
       "    </tr>\n",
       "    <tr>\n",
       "      <th>1666</th>\n",
       "      <td>married_to_the_mob_part_one</td>\n",
       "      <td>8388</td>\n",
       "      <td>married_to_the_mob_part_two</td>\n",
       "      <td>1480</td>\n",
       "      <td>93</td>\n",
       "      <td>no</td>\n",
       "    </tr>\n",
       "    <tr>\n",
       "      <th>1672</th>\n",
       "      <td>secret_wifeswap_weekend_part_one</td>\n",
       "      <td>8404</td>\n",
       "      <td>secret_wifeswap_weekend_part_two</td>\n",
       "      <td>1534</td>\n",
       "      <td>94</td>\n",
       "      <td>no</td>\n",
       "    </tr>\n",
       "    <tr>\n",
       "      <th>1677</th>\n",
       "      <td>boning_the_butler</td>\n",
       "      <td>8416</td>\n",
       "      <td>banging_the_butler</td>\n",
       "      <td>1524</td>\n",
       "      <td>91</td>\n",
       "      <td>no</td>\n",
       "    </tr>\n",
       "    <tr>\n",
       "      <th>1689</th>\n",
       "      <td>preppies_in_pantyhose_part_4</td>\n",
       "      <td>8539</td>\n",
       "      <td>preppies_in_pantyhose_part_3</td>\n",
       "      <td>1662</td>\n",
       "      <td>96</td>\n",
       "      <td>no</td>\n",
       "    </tr>\n",
       "    <tr>\n",
       "      <th>1690</th>\n",
       "      <td>preppies_in_pantyhose_part_4</td>\n",
       "      <td>8539</td>\n",
       "      <td>preppies_in_pantyhose_part_2</td>\n",
       "      <td>1671</td>\n",
       "      <td>96</td>\n",
       "      <td>no</td>\n",
       "    </tr>\n",
       "    <tr>\n",
       "      <th>1715</th>\n",
       "      <td>angelas_house_of_hedonism_part_3</td>\n",
       "      <td>8689</td>\n",
       "      <td>angelas_house_of_hedonism_part_1</td>\n",
       "      <td>1708</td>\n",
       "      <td>97</td>\n",
       "      <td>no</td>\n",
       "    </tr>\n",
       "    <tr>\n",
       "      <th>1740</th>\n",
       "      <td>all_roads_lead_to_sex_part_one</td>\n",
       "      <td>9116</td>\n",
       "      <td>all_roads_lead_to_sex_part_two</td>\n",
       "      <td>1199</td>\n",
       "      <td>93</td>\n",
       "      <td>no</td>\n",
       "    </tr>\n",
       "    <tr>\n",
       "      <th>1744</th>\n",
       "      <td>truth_or_bare</td>\n",
       "      <td>9373</td>\n",
       "      <td>truth_or_dare</td>\n",
       "      <td>1258</td>\n",
       "      <td>92</td>\n",
       "      <td>no</td>\n",
       "    </tr>\n",
       "    <tr>\n",
       "      <th>1745</th>\n",
       "      <td>these_boots_were_made_for_licking</td>\n",
       "      <td>9383</td>\n",
       "      <td>these_boots_were_made_for_fucking</td>\n",
       "      <td>1371</td>\n",
       "      <td>94</td>\n",
       "      <td>no</td>\n",
       "    </tr>\n",
       "    <tr>\n",
       "      <th>1746</th>\n",
       "      <td>zz_erection_2016_part_1</td>\n",
       "      <td>9447</td>\n",
       "      <td>zz_erection_2016_part_2</td>\n",
       "      <td>1388</td>\n",
       "      <td>96</td>\n",
       "      <td>no</td>\n",
       "    </tr>\n",
       "    <tr>\n",
       "      <th>1748</th>\n",
       "      <td>zz_erection_2016_part_4</td>\n",
       "      <td>9459</td>\n",
       "      <td>zz_erection_2016_part_2</td>\n",
       "      <td>1388</td>\n",
       "      <td>96</td>\n",
       "      <td>no</td>\n",
       "    </tr>\n",
       "    <tr>\n",
       "      <th>1749</th>\n",
       "      <td>zz_erection_2016_part_3</td>\n",
       "      <td>9484</td>\n",
       "      <td>zz_erection_2016_part_2</td>\n",
       "      <td>1388</td>\n",
       "      <td>96</td>\n",
       "      <td>no</td>\n",
       "    </tr>\n",
       "  </tbody>\n",
       "</table></div>"
      ],
      "text/plain": [
       "                           df_final_title  index_df_final  \\\n",
       "1507                    benz_mafia_part_1            7802   \n",
       "1509       to_live_and_fuck_in_l_a_part_1            7813   \n",
       "1510       to_live_and_fuck_in_l_a_part_1            7813   \n",
       "1528                       babes_in_black            7905   \n",
       "1536             anatomy_of_a_sex_scene_3            7940   \n",
       "1549                   i_am_not_a_robot_2            8023   \n",
       "1560             anatomy_of_a_sex_scene_2            8092   \n",
       "1569           moniques_secret_spa_part_3            8153   \n",
       "1570           moniques_secret_spa_part_3            8153   \n",
       "1576           moniques_secret_spa_part_2            8162   \n",
       "1577           moniques_secret_spa_part_2            8162   \n",
       "1579                   sister_swap_part_1            8163   \n",
       "1582           moniques_secret_spa_part_1            8170   \n",
       "1584           moniques_secret_spa_part_1            8170   \n",
       "1590  lost_on_vacation_san_diego_part_two            8186   \n",
       "1594                   sister_swap_part_2            8196   \n",
       "1597           moniques_secret_spa_part_4            8204   \n",
       "1598           moniques_secret_spa_part_4            8204   \n",
       "1599           moniques_secret_spa_part_4            8204   \n",
       "1603            double_timing_wife_part_2            8219   \n",
       "1609          swingers_on_vacation_part_1            8234   \n",
       "1615                   banging_the_butler            8244   \n",
       "1624    hungry_for_spring_breakers_part_1            8271   \n",
       "1627                   sucking_the_sitter            8277   \n",
       "1635             take_a_seat_on_my_dick_2            8314   \n",
       "1637    hungry_for_spring_breakers_part_2            8315   \n",
       "1640         preppies_in_pantyhose_part_3            8316   \n",
       "1641         preppies_in_pantyhose_part_3            8316   \n",
       "1643          swingers_on_vacation_part_2            8317   \n",
       "1646  lost_on_vacation_san_diego_part_one            8319   \n",
       "1653                  the_perfect_hostess            8348   \n",
       "1662          married_to_the_mob_part_two            8378   \n",
       "1666          married_to_the_mob_part_one            8388   \n",
       "1672     secret_wifeswap_weekend_part_one            8404   \n",
       "1677                    boning_the_butler            8416   \n",
       "1689         preppies_in_pantyhose_part_4            8539   \n",
       "1690         preppies_in_pantyhose_part_4            8539   \n",
       "1715     angelas_house_of_hedonism_part_3            8689   \n",
       "1740       all_roads_lead_to_sex_part_one            9116   \n",
       "1744                        truth_or_bare            9373   \n",
       "1745    these_boots_were_made_for_licking            9383   \n",
       "1746              zz_erection_2016_part_1            9447   \n",
       "1748              zz_erection_2016_part_4            9459   \n",
       "1749              zz_erection_2016_part_3            9484   \n",
       "\n",
       "                              my_db_title  index_my_db  fuzzy_value edited  \n",
       "1507                    benz_mafia_part_2         1389           94     no  \n",
       "1509       to_live_and_fuck_in_l_a_part_2         1331           97     no  \n",
       "1510       to_live_and_fuck_in_l_a_part_3         1332           97     no  \n",
       "1528                     babes_in_black_2          498           93     no  \n",
       "1536               anatomy_of_a_sex_scene         1284           96     no  \n",
       "1549                     i_am_not_a_robot         1360           94     no  \n",
       "1560               anatomy_of_a_sex_scene         1284           96     no  \n",
       "1569           moniques_secret_spa_part_2         1495           96     no  \n",
       "1570           moniques_secret_spa_part_1         1510           96     no  \n",
       "1576           moniques_secret_spa_part_1         1510           96     no  \n",
       "1577           moniques_secret_spa_part_3         1511           96     no  \n",
       "1579                   sister_swap_part_2         1541           94     no  \n",
       "1582           moniques_secret_spa_part_2         1495           96     no  \n",
       "1584           moniques_secret_spa_part_3         1511           96     no  \n",
       "1590  lost_on_vacation_san_diego_part_one         1530           94     no  \n",
       "1594                   sister_swap_part_1         1489           94     no  \n",
       "1597           moniques_secret_spa_part_2         1495           96     no  \n",
       "1598           moniques_secret_spa_part_1         1510           96     no  \n",
       "1599           moniques_secret_spa_part_3         1511           96     no  \n",
       "1603            double_timing_wife_part_3         1437           96     no  \n",
       "1609          swingers_on_vacation_part_2         1414           96     no  \n",
       "1615                    boning_the_butler         1466           91     no  \n",
       "1624    hungry_for_spring_breakers_part_2         1529           97     no  \n",
       "1627                  seducing_the_sitter         1439           92     no  \n",
       "1635               take_a_seat_on_my_dick         1074           96     no  \n",
       "1637    hungry_for_spring_breakers_part_1         1528           97     no  \n",
       "1640         preppies_in_pantyhose_part_2         1671           96     no  \n",
       "1641         preppies_in_pantyhose_part_4         1675           96     no  \n",
       "1643          swingers_on_vacation_part_1         1415           96     no  \n",
       "1646  lost_on_vacation_san_diego_part_two         1531           94     no  \n",
       "1653                     the_perfect_host          691           91     no  \n",
       "1662          married_to_the_mob_part_one         1479           93     no  \n",
       "1666          married_to_the_mob_part_two         1480           93     no  \n",
       "1672     secret_wifeswap_weekend_part_two         1534           94     no  \n",
       "1677                   banging_the_butler         1524           91     no  \n",
       "1689         preppies_in_pantyhose_part_3         1662           96     no  \n",
       "1690         preppies_in_pantyhose_part_2         1671           96     no  \n",
       "1715     angelas_house_of_hedonism_part_1         1708           97     no  \n",
       "1740       all_roads_lead_to_sex_part_two         1199           93     no  \n",
       "1744                        truth_or_dare         1258           92     no  \n",
       "1745    these_boots_were_made_for_fucking         1371           94     no  \n",
       "1746              zz_erection_2016_part_2         1388           96     no  \n",
       "1748              zz_erection_2016_part_2         1388           96     no  \n",
       "1749              zz_erection_2016_part_2         1388           96     no  "
      ]
     },
     "execution_count": 26,
     "metadata": {},
     "output_type": "execute_result"
    }
   ],
   "source": [
    "compare_db[compare_db['fuzzy_value'] != 100][199:300]"
   ]
  },
  {
   "cell_type": "markdown",
   "id": "af0e72e8",
   "metadata": {},
   "source": [
    "#### Look in `my_db`for Title and Site-Information..."
   ]
  },
  {
   "cell_type": "code",
   "execution_count": 30,
   "id": "d14b0f0f",
   "metadata": {},
   "outputs": [
    {
     "data": {
      "text/plain": [
       "(Site                                        Real Wife Stories\n",
       " PS1                                             Patty Michova\n",
       " PS2                                                   No Name\n",
       " PS3                                                   No Name\n",
       " PS4                                                   No Name\n",
       " PS5                                                   No Name\n",
       " PS6                                                   No Name\n",
       " PS7                                                   No Name\n",
       " PS8                                                   No Name\n",
       " PS9                                                   No Name\n",
       " PS10                                                  No Name\n",
       " Title                                 banging_the_butler_720p\n",
       " Location                                           WERDERNASX\n",
       " Link        /Volumes/WERDERNASX/VIDEOSX/BRAZZERS/real_wife...\n",
       " Name: 1524, dtype: object,\n",
       " Site     Teens Like It Big\n",
       " PS1               liv_wild\n",
       " PS2             keiran_lee\n",
       " Title        truth_or_bare\n",
       " Name: 9373, dtype: object)"
      ]
     },
     "execution_count": 30,
     "metadata": {},
     "output_type": "execute_result"
    }
   ],
   "source": [
    "df_my_db.iloc[1524], df_final.iloc[9373]"
   ]
  },
  {
   "cell_type": "code",
   "execution_count": 42,
   "id": "c2a619a2",
   "metadata": {},
   "outputs": [
    {
     "data": {
      "text/plain": [
       "Site       Big Tits At Work\n",
       "PS1            natasha_nice\n",
       "PS2                 tj_hart\n",
       "Title    personal_assistant\n",
       "Name: 3352, dtype: object"
      ]
     },
     "execution_count": 42,
     "metadata": {},
     "output_type": "execute_result"
    }
   ],
   "source": [
    "df_final.iloc[3352]"
   ]
  },
  {
   "cell_type": "code",
   "execution_count": null,
   "id": "769adaed",
   "metadata": {},
   "outputs": [],
   "source": [
    "compare_db[compare_db['fuzzy_value'] != 100][89:105].index.values"
   ]
  },
  {
   "cell_type": "code",
   "execution_count": null,
   "id": "39bc767e",
   "metadata": {},
   "outputs": [],
   "source": [
    "# get indices of the chosen area...\n",
    "indxs = compare_db[compare_db['fuzzy_value'] != 100][89:105].index.values"
   ]
  },
  {
   "cell_type": "markdown",
   "id": "d8e25821",
   "metadata": {},
   "source": [
    "Now, look at the indices and change the \"edited\" value by hand..."
   ]
  },
  {
   "cell_type": "code",
   "execution_count": null,
   "id": "46c0c03a",
   "metadata": {},
   "outputs": [],
   "source": [
    "# indxs is the list of the indices of the chosen area...\n",
    "compare_db.loc[indxs, 'edited'] = 'yes'\n",
    "#df_2.iloc[1439]# , 'PS2']"
   ]
  },
  {
   "cell_type": "markdown",
   "id": "5f6864bb",
   "metadata": {},
   "source": [
    "### Look in `my_db` for the Title and Site Information"
   ]
  },
  {
   "cell_type": "code",
   "execution_count": 18,
   "id": "40ad4c5a",
   "metadata": {},
   "outputs": [
    {
     "data": {
      "text/plain": [
       "Site                                           Brazzers Extra\n",
       "PS1                                              Angela White\n",
       "PS2                                                 Romi Rain\n",
       "PS3                                                   No Name\n",
       "PS4                                                   No Name\n",
       "PS5                                                   No Name\n",
       "PS6                                                   No Name\n",
       "PS7                                                   No Name\n",
       "PS8                                                   No Name\n",
       "PS9                                                   No Name\n",
       "PS10                                                  No Name\n",
       "Title                                        the_fucking_720p\n",
       "Location                                           WERDERNASX\n",
       "Link        /Volumes/WERDERNASX/VIDEOSX/BRAZZERS/brazzers_...\n",
       "Name: 666, dtype: object"
      ]
     },
     "execution_count": 18,
     "metadata": {},
     "output_type": "execute_result"
    }
   ],
   "source": []
  },
  {
   "cell_type": "code",
   "execution_count": null,
   "id": "db26c91b",
   "metadata": {},
   "outputs": [],
   "source": [
    "ps_str = \"\"\n",
    "title_string = 'moms_house_moms_rule'\n",
    "#df_2[df_2['PS1'].str.contains(substr)]\n",
    "df_my_db[df_my_db['PS1'].str.contains(ps_str) & df_my_db['Title'].str.contains(title_string)]"
   ]
  },
  {
   "cell_type": "code",
   "execution_count": null,
   "id": "a96938a6",
   "metadata": {},
   "outputs": [],
   "source": [
    "dont_touch_her_3"
   ]
  },
  {
   "cell_type": "markdown",
   "id": "fee1d8f5",
   "metadata": {},
   "source": [
    "### Look in `df_final` for Title..."
   ]
  },
  {
   "cell_type": "code",
   "execution_count": 3,
   "id": "04dbdfc1",
   "metadata": {},
   "outputs": [
    {
     "data": {
      "text/html": [
       "<div><div id=66b7c24c-4127-4993-9e5d-6b5267b10716 style=\"display:none; background-color:#9D6CFF; color:white; width:200px; height:30px; padding-left:5px; border-radius:4px; flex-direction:row; justify-content:space-around; align-items:center;\" onmouseover=\"this.style.backgroundColor='#BA9BF8'\" onmouseout=\"this.style.backgroundColor='#9D6CFF'\" onclick=\"window.commands?.execute('create-mitosheet-from-dataframe-output');\">See Full Dataframe in Mito</div> <script> if (window.commands.hasCommand('create-mitosheet-from-dataframe-output')) document.getElementById('66b7c24c-4127-4993-9e5d-6b5267b10716').style.display = 'flex' </script> <table border=\"1\" class=\"dataframe\">\n",
       "  <thead>\n",
       "    <tr style=\"text-align: right;\">\n",
       "      <th></th>\n",
       "      <th>Site</th>\n",
       "      <th>PS1</th>\n",
       "      <th>PS2</th>\n",
       "      <th>Title</th>\n",
       "    </tr>\n",
       "  </thead>\n",
       "  <tbody>\n",
       "    <tr>\n",
       "      <th>1048</th>\n",
       "      <td>Brazzers Exxtra</td>\n",
       "      <td>alexis_fawx</td>\n",
       "      <td>jewelz_blu</td>\n",
       "      <td>wanderlust_part_2</td>\n",
       "    </tr>\n",
       "    <tr>\n",
       "      <th>6116</th>\n",
       "      <td>Hot And Mean</td>\n",
       "      <td>alexis_fawx</td>\n",
       "      <td>kira_noir</td>\n",
       "      <td>wanderlust_part_1</td>\n",
       "    </tr>\n",
       "  </tbody>\n",
       "</table></div>"
      ],
      "text/plain": [
       "                 Site          PS1         PS2              Title\n",
       "1048  Brazzers Exxtra  alexis_fawx  jewelz_blu  wanderlust_part_2\n",
       "6116     Hot And Mean  alexis_fawx   kira_noir  wanderlust_part_1"
      ]
     },
     "execution_count": 3,
     "metadata": {},
     "output_type": "execute_result"
    }
   ],
   "source": [
    "ps_str = \"\"\n",
    "title_string = 'wanderlust'\n",
    "#df_2[df_2['PS1'].str.contains(substr)]\n",
    "df_final[df_final['PS1'].str.contains(ps_str) & df_final['Title'].str.contains(title_string)]"
   ]
  },
  {
   "cell_type": "code",
   "execution_count": null,
   "id": "17ab33cd",
   "metadata": {},
   "outputs": [],
   "source": []
  },
  {
   "cell_type": "code",
   "execution_count": null,
   "id": "136511b4",
   "metadata": {},
   "outputs": [],
   "source": [
    "len(df_final_ad[df_final_ad['available_in_my_db'] == 'yes'])"
   ]
  },
  {
   "cell_type": "code",
   "execution_count": null,
   "id": "91a05278",
   "metadata": {},
   "outputs": [],
   "source": []
  },
  {
   "cell_type": "code",
   "execution_count": null,
   "id": "eb1d481f",
   "metadata": {},
   "outputs": [],
   "source": []
  },
  {
   "cell_type": "code",
   "execution_count": null,
   "id": "98946603",
   "metadata": {},
   "outputs": [],
   "source": [
    "# Counting the Titles, which are in df_final AND in my_db...\n",
    "len_title_df_final = len(df_final_ad[df_final_ad['available_in_my_db'] == 'yes'])\n",
    "len_my_db = len(df_my_db['Title'])\n",
    "# There is a difference: len_df_my_db - len_title_df_final\n",
    "print('len_my_db: ', len_my_db)\n",
    "print('len_title_df_final: ', len_title_df_final)\n",
    "\n",
    "# Difference: \n",
    "diff = len_my_db - len_title_df_final\n",
    "print('diff: ', diff)"
   ]
  },
  {
   "cell_type": "code",
   "execution_count": null,
   "id": "ed7e6fd1",
   "metadata": {},
   "outputs": [],
   "source": [
    "len(df_final_ad[df_final_ad['available_in_my_db'] == 'yes'])"
   ]
  },
  {
   "cell_type": "markdown",
   "id": "c7c71e2f",
   "metadata": {},
   "source": [
    "Try another method...."
   ]
  },
  {
   "cell_type": "code",
   "execution_count": null,
   "id": "8dffda23",
   "metadata": {},
   "outputs": [],
   "source": [
    "from difflib import SequenceMatcher\n",
    "def similar(a, b):\n",
    "    return SequenceMatcher(None, a, b).ratio()"
   ]
  },
  {
   "cell_type": "code",
   "execution_count": null,
   "id": "78ff274d",
   "metadata": {},
   "outputs": [],
   "source": [
    "my_db_title_only[219:223]"
   ]
  },
  {
   "cell_type": "code",
   "execution_count": null,
   "id": "b731e155",
   "metadata": {},
   "outputs": [],
   "source": [
    "my_db_title_only = [x for x in df_my_db['Title']]\n",
    "df_final_title_only = ['_'.join(x.split('_')[:-1]) for x in df_final['Title']]\n"
   ]
  },
  {
   "cell_type": "code",
   "execution_count": null,
   "id": "6a541b6a",
   "metadata": {},
   "outputs": [],
   "source": [
    "%%time\n",
    "for i in range(1, 10):\n",
    "    print(i)"
   ]
  },
  {
   "cell_type": "code",
   "execution_count": null,
   "id": "b5be4ea8",
   "metadata": {},
   "outputs": [],
   "source": [
    "%lsmagic"
   ]
  },
  {
   "cell_type": "code",
   "execution_count": null,
   "id": "f012d2ec",
   "metadata": {},
   "outputs": [],
   "source": [
    "len(df_final_title_only), len(my_db_title_only)"
   ]
  },
  {
   "cell_type": "code",
   "execution_count": null,
   "id": "24fef207",
   "metadata": {},
   "outputs": [],
   "source": [
    "%%time\n",
    "\n",
    "df_final_title = []\n",
    "my_db_title =[]\n",
    "index_df_final = []\n",
    "index_my_db = []\n",
    "fuzz_val = []\n",
    "\n",
    "for lf_f in df_final_title_only[:]:\n",
    "    for lf_m in my_db_title_only[:]:\n",
    "        val = fuzz.ratio(lf_f, lf_m)\n",
    "        if val > 90:\n",
    "            #print('val: ', val)\n",
    "            fuzz_val.append(val)\n",
    "            \n",
    "            #print('lf_f: ', lf_f)\n",
    "            df_final_title.append(lf_f)\n",
    "            \n",
    "            #print('lf_f_index: ', df_final_title_only.index(lf_f))\n",
    "            index_df_final.append(df_final_title_only.index(lf_f))\n",
    "            \n",
    "            #print('lf_m: ', lf_m)\n",
    "            my_db_title.append(lf_m)\n",
    "            \n",
    "            #print('lf_m_index: ', my_db_title_only.index(lf_m))\n",
    "            index_my_db.append(my_db_title_only.index(lf_m))\n",
    "            \n",
    "            #print('===')\n",
    "\n",
    "compare_db = {'df_final_title': df_final_title, 'index_df_final': index_df_final, 'my_db_title': my_db_title, 'index_my_db': index_my_db, 'fuzzy_value': fuzz_val}  \n",
    "#columns = ['df_final_title', 'index_df_final', 'my_db_title', 'index_my_db', 'fuzzy_value']\n",
    "#compare_db[columns]"
   ]
  },
  {
   "cell_type": "code",
   "execution_count": null,
   "id": "c396fcdb",
   "metadata": {},
   "outputs": [],
   "source": [
    "compare_db = pd.DataFrame.from_dict(compare_db)"
   ]
  },
  {
   "cell_type": "code",
   "execution_count": null,
   "id": "81d2fbd0",
   "metadata": {},
   "outputs": [],
   "source": [
    "compare_db[compare_db['fuzzy_value'] != 100]"
   ]
  },
  {
   "cell_type": "code",
   "execution_count": null,
   "id": "a246f0ff",
   "metadata": {},
   "outputs": [],
   "source": [
    "from fuzzywuzzy import fuzz"
   ]
  },
  {
   "cell_type": "code",
   "execution_count": null,
   "id": "f1c5cb89",
   "metadata": {},
   "outputs": [],
   "source": [
    "fuzz.ratio(\"check out this example\", \"check out this exampel\")"
   ]
  },
  {
   "cell_type": "code",
   "execution_count": null,
   "id": "26c49366",
   "metadata": {},
   "outputs": [],
   "source": []
  },
  {
   "cell_type": "code",
   "execution_count": null,
   "id": "07d9b20c",
   "metadata": {},
   "outputs": [],
   "source": []
  },
  {
   "cell_type": "code",
   "execution_count": null,
   "id": "162477b7",
   "metadata": {},
   "outputs": [],
   "source": []
  },
  {
   "cell_type": "code",
   "execution_count": null,
   "id": "fb2a1184",
   "metadata": {},
   "outputs": [],
   "source": [
    "%%time\n",
    "\n",
    "match_value_list = []\n",
    "similar_indices = []\n",
    "match_val = []\n",
    "for index_df_final, row_df_final in df_final.iloc[197:3210].iterrows():\n",
    "    for index_my_db, row_my_db in df_my_db[775:780].iterrows():\n",
    "\n",
    "        match_val = similar(row_my_db['Title'], row_df_final['Title'])\n",
    "        match_value_list.append(match_val)\n",
    "        similar_indices.append(index_df_final)\n",
    "        \n",
    "        #if match_val >= 0.95:\n",
    "            \n",
    "#print('similar_indices: ', similar_indices)\n",
    "        #similar_value.append(similar(row_my_db['Title'], row_df_final['Title']))\n",
    "    #print('similar_vlaue: ', similar_value)\n",
    "        # if row_my_db['Title'] == row_df_final['Title']:\n",
    "         #    df_final.loc[index_df_final, 'available_in_my_db'] = 'yes'"
   ]
  },
  {
   "cell_type": "code",
   "execution_count": null,
   "id": "a1bd481d",
   "metadata": {},
   "outputs": [],
   "source": []
  },
  {
   "cell_type": "code",
   "execution_count": null,
   "id": "7c13df38",
   "metadata": {},
   "outputs": [],
   "source": [
    "df_findl"
   ]
  },
  {
   "cell_type": "code",
   "execution_count": null,
   "id": "00d5ef52",
   "metadata": {},
   "outputs": [],
   "source": [
    "from collections import Counter\n",
    "\n",
    "l = match_value_list\n",
    "Counter(l)#.most_common(1)"
   ]
  },
  {
   "cell_type": "code",
   "execution_count": null,
   "id": "e5409d1a",
   "metadata": {},
   "outputs": [],
   "source": [
    "max(match_value_list)"
   ]
  },
  {
   "cell_type": "code",
   "execution_count": null,
   "id": "f05712dd",
   "metadata": {},
   "outputs": [],
   "source": [
    "ps_str = \"\"\n",
    "substr_2 = 'shes_a_smooth_operator'\n",
    "#df_2[df_2['PS1'].str.contains(substr)]\n",
    "df_my_db[df_my_db['PS1'].str.contains(ps_str) & df_my_db['Title'].str.contains(substr_2)]"
   ]
  },
  {
   "cell_type": "code",
   "execution_count": null,
   "id": "b95529b2",
   "metadata": {},
   "outputs": [],
   "source": [
    "df_my_db[775:780]['Title']"
   ]
  },
  {
   "cell_type": "code",
   "execution_count": null,
   "id": "4b7fe128",
   "metadata": {},
   "outputs": [],
   "source": [
    "df_final.loc[[200, 628, 1290], 'Title']"
   ]
  },
  {
   "cell_type": "code",
   "execution_count": null,
   "id": "c26000fa",
   "metadata": {},
   "outputs": [],
   "source": []
  },
  {
   "cell_type": "code",
   "execution_count": null,
   "id": "5a23066b",
   "metadata": {},
   "outputs": [],
   "source": []
  },
  {
   "cell_type": "code",
   "execution_count": null,
   "id": "69f7cc0f",
   "metadata": {},
   "outputs": [],
   "source": []
  },
  {
   "cell_type": "markdown",
   "id": "62b2baca",
   "metadata": {},
   "source": [
    "Load my bra_db and compare this with the title-occurance within the df_final"
   ]
  },
  {
   "cell_type": "code",
   "execution_count": null,
   "id": "befa40d2",
   "metadata": {},
   "outputs": [],
   "source": []
  },
  {
   "cell_type": "code",
   "execution_count": null,
   "id": "a384cd7d",
   "metadata": {},
   "outputs": [],
   "source": []
  },
  {
   "cell_type": "code",
   "execution_count": null,
   "id": "2413c3de",
   "metadata": {},
   "outputs": [],
   "source": []
  },
  {
   "cell_type": "code",
   "execution_count": null,
   "id": "7b89178f",
   "metadata": {},
   "outputs": [],
   "source": []
  },
  {
   "cell_type": "code",
   "execution_count": null,
   "id": "6af6ae9c",
   "metadata": {},
   "outputs": [],
   "source": []
  },
  {
   "cell_type": "markdown",
   "id": "02c7f81b",
   "metadata": {},
   "source": [
    "### Load the special df of favourite PS... example: jasmine jae"
   ]
  },
  {
   "cell_type": "code",
   "execution_count": null,
   "id": "4ae27373",
   "metadata": {},
   "outputs": [],
   "source": [
    "df_jj = pd.read_csv('df_jj.csv', index_col=[0])\n"
   ]
  },
  {
   "cell_type": "code",
   "execution_count": null,
   "id": "6f357c45-9583-43bc-b39a-f6b9bbfd6590",
   "metadata": {},
   "outputs": [],
   "source": [
    "df_jj.tail()"
   ]
  },
  {
   "cell_type": "markdown",
   "id": "f191422d",
   "metadata": {},
   "source": [
    "Preparation: increase the column of df_jj for availability of the title within the df_final"
   ]
  },
  {
   "cell_type": "code",
   "execution_count": null,
   "id": "87ad5a5a-f449-4e2e-b790-41b5101fa48d",
   "metadata": {},
   "outputs": [],
   "source": [
    "df_jj['df_final_av'] = 'no'"
   ]
  },
  {
   "cell_type": "code",
   "execution_count": null,
   "id": "d623e881-6554-43e0-b712-131423346fa7",
   "metadata": {},
   "outputs": [],
   "source": [
    "# Look at the appearance of the titles in df_jj and df_f\n",
    "for index_jj, row_jj in df_jj.iterrows():\n",
    "    for index_df_f, row_df_f in df_final.iterrows():\n",
    "        if row_df_f['Title'] == row_jj['Title']:\n",
    "            df_jj.loc[index_jj, 'df_final_av'] = 'yes'\n",
    " "
   ]
  },
  {
   "cell_type": "code",
   "execution_count": null,
   "id": "fed4fb66-e9e3-4ede-892d-06fcfae66dd2",
   "metadata": {},
   "outputs": [],
   "source": [
    "df_jj"
   ]
  },
  {
   "cell_type": "code",
   "execution_count": null,
   "id": "3eef76ca-877d-4e2d-b442-d8bcad13fe43",
   "metadata": {},
   "outputs": [],
   "source": [
    "df_jj['df_final_av'].value_counts()"
   ]
  },
  {
   "cell_type": "code",
   "execution_count": null,
   "id": "f752e635-0d25-4bea-9f3d-ef8bab3977be",
   "metadata": {},
   "outputs": [],
   "source": [
    "df_final[df_final['Title']== 'four_hands_to_jerk_the_clerk']"
   ]
  },
  {
   "cell_type": "code",
   "execution_count": null,
   "id": "5802f938-4e26-42ab-8e22-4b781c2ffc72",
   "metadata": {},
   "outputs": [],
   "source": [
    "df_ms = pd.read_csv('df_missing_sites.csv', index_col=[0])"
   ]
  },
  {
   "cell_type": "code",
   "execution_count": null,
   "id": "4f4d3c9f-57cd-4a35-b7f1-c8a99a7d41d1",
   "metadata": {},
   "outputs": [],
   "source": [
    "for index_jj, row_jj in df_jj.iterrows():\n",
    "    for index_df_f, row_df_f in df_ms.iterrows():\n",
    "        if row_df_f['Title'] == row_jj['Title']:\n",
    "            df_jj.loc[index_jj, 'av_in_df_f'] = 'yes'"
   ]
  },
  {
   "cell_type": "markdown",
   "id": "c9350469",
   "metadata": {},
   "source": [
    "***"
   ]
  },
  {
   "cell_type": "markdown",
   "id": "a542d906",
   "metadata": {},
   "source": [
    "### Next step: Load my bra_db and compare this with the PS-occurance and with the complete database..."
   ]
  },
  {
   "cell_type": "code",
   "execution_count": null,
   "id": "3a40d06b",
   "metadata": {},
   "outputs": [],
   "source": [
    "df_my_db = pd.read_csv('df_final_my_db_py.csv', index_col=[0])\n",
    "df_final = pd.read_csv('df_final_inklusive_ms.csv', index_col=[0])"
   ]
  },
  {
   "cell_type": "code",
   "execution_count": null,
   "id": "32e7b96f",
   "metadata": {},
   "outputs": [],
   "source": [
    "title_only = ['_'.join(x.split('_')[:-1]) for x in df_my_db['Title']]"
   ]
  },
  {
   "cell_type": "code",
   "execution_count": null,
   "id": "6491c9fa",
   "metadata": {},
   "outputs": [],
   "source": [
    "df_my_db['Title'] = title_only"
   ]
  },
  {
   "cell_type": "code",
   "execution_count": null,
   "id": "72d163e8",
   "metadata": {},
   "outputs": [],
   "source": [
    "df_my_db_sliced = df_my_db\n"
   ]
  },
  {
   "cell_type": "code",
   "execution_count": null,
   "id": "3ca50ecc",
   "metadata": {},
   "outputs": [],
   "source": [
    "del df_my_db_sliced['Location']\n",
    "del df_my_db_sliced['Link'] "
   ]
  },
  {
   "cell_type": "code",
   "execution_count": null,
   "id": "0c0c1b88",
   "metadata": {},
   "outputs": [],
   "source": [
    "df_my_db"
   ]
  },
  {
   "cell_type": "markdown",
   "id": "86fce3c8",
   "metadata": {},
   "source": [
    "***"
   ]
  },
  {
   "cell_type": "markdown",
   "id": "8c053815",
   "metadata": {},
   "source": [
    "#### Look, which titles of my_db are in the final_df..."
   ]
  },
  {
   "cell_type": "code",
   "execution_count": null,
   "id": "811ad458",
   "metadata": {},
   "outputs": [],
   "source": [
    "df_final['available_in_my_db'] = 'no'"
   ]
  },
  {
   "cell_type": "code",
   "execution_count": null,
   "id": "2c759cc7",
   "metadata": {},
   "outputs": [],
   "source": [
    "for index_df_final, row_df_final in df_final.iloc[:].iterrows():\n",
    "    for index_my_db, row_my_db in df_my_db_sliced.iterrows():\n",
    "        if row_my_db['Title'] == row_df_final['Title']:\n",
    "            df_final.loc[index_df_final, 'available_in_my_db'] = 'yes'"
   ]
  },
  {
   "cell_type": "code",
   "execution_count": null,
   "id": "68afce7c",
   "metadata": {},
   "outputs": [],
   "source": [
    "len(df_final[df_final['available_in_my_db'] == 'yes'])"
   ]
  },
  {
   "cell_type": "code",
   "execution_count": null,
   "id": "2d53562a",
   "metadata": {},
   "outputs": [],
   "source": [
    "len(df_my_db_sliced)"
   ]
  },
  {
   "cell_type": "markdown",
   "id": "699c2567",
   "metadata": {},
   "source": [
    "***"
   ]
  },
  {
   "cell_type": "markdown",
   "id": "d2beb65b",
   "metadata": {},
   "source": [
    "The other way ...."
   ]
  },
  {
   "cell_type": "markdown",
   "id": "6707d368",
   "metadata": {},
   "source": [
    "#### Look, which titles of final_db are in my_db..."
   ]
  },
  {
   "cell_type": "code",
   "execution_count": null,
   "id": "cb56d1fe",
   "metadata": {},
   "outputs": [],
   "source": [
    "df_my_db_sliced['available_in_df_final'] = 'no'"
   ]
  },
  {
   "cell_type": "code",
   "execution_count": null,
   "id": "227ed0b0",
   "metadata": {},
   "outputs": [],
   "source": [
    "# This cost a lot of time. How can I accelerate these two for-loops?\n",
    "# Trying at the bottom....\n",
    "for index_my_db, row_my_db in df_my_db_sliced.iloc[:].iterrows():\n",
    "    for index_df_final, row_df_final in df_final.iterrows():\n",
    "        if row_df_final['Title'] == row_my_db['Title']:\n",
    "            df_my_db_sliced.loc[index_my_db, 'available_in_df_final'] = 'yes'"
   ]
  },
  {
   "cell_type": "markdown",
   "id": "6ee0a93d",
   "metadata": {},
   "source": [
    "***"
   ]
  },
  {
   "cell_type": "markdown",
   "id": "090d8f2f",
   "metadata": {},
   "source": [
    "There is a difference between titles within my_db and df_final, although I guess I have downloaded it."
   ]
  },
  {
   "cell_type": "code",
   "execution_count": null,
   "id": "c02d3c9e",
   "metadata": {},
   "outputs": [],
   "source": [
    "df_my_db_sliced[df_my_db_sliced['available_in_df_final'] == 'no']\n",
    "len(df_my_db_sliced[df_my_db_sliced['available_in_df_final'] == 'no'])"
   ]
  },
  {
   "cell_type": "markdown",
   "id": "88ba133b",
   "metadata": {},
   "source": [
    "looking for instance at jasmine jae...."
   ]
  },
  {
   "cell_type": "code",
   "execution_count": null,
   "id": "4e4b4229",
   "metadata": {},
   "outputs": [],
   "source": [
    "df_temp_1 = df_my_db_sliced[(df_my_db_sliced['PS1'] == 'Jasmine Jae') & (df_my_db_sliced['available_in_df_final'] == 'no')]"
   ]
  },
  {
   "cell_type": "code",
   "execution_count": null,
   "id": "5607ae73",
   "metadata": {},
   "outputs": [],
   "source": [
    "df_temp_2 = df_final[(df_final['PS1'] == 'jasmine_jae') & (df_final['available_in_my_db'] == 'no')]"
   ]
  },
  {
   "cell_type": "code",
   "execution_count": null,
   "id": "6dc30e34",
   "metadata": {},
   "outputs": [],
   "source": [
    "list_df_final = df_temp_2.loc[[2927, 3060, 7925, 7747, 8444], 'Title']"
   ]
  },
  {
   "cell_type": "code",
   "execution_count": null,
   "id": "812d219a",
   "metadata": {},
   "outputs": [],
   "source": [
    "list_my_db = df_temp_1.loc[[320, 321, 1326, 1327, 1468], 'Title']"
   ]
  },
  {
   "cell_type": "code",
   "execution_count": null,
   "id": "c8e23854",
   "metadata": {},
   "outputs": [],
   "source": [
    "df_temp_1"
   ]
  },
  {
   "cell_type": "code",
   "execution_count": null,
   "id": "20d7a699",
   "metadata": {},
   "outputs": [],
   "source": [
    "list_df_final"
   ]
  },
  {
   "cell_type": "code",
   "execution_count": null,
   "id": "8768fff2",
   "metadata": {},
   "outputs": [],
   "source": [
    "sim = []\n",
    "for li1, li2 in zip(list_df_final, list_my_db):\n",
    "    print(li2)\n",
    "    sim.append(similar(li1, li2))"
   ]
  },
  {
   "cell_type": "code",
   "execution_count": null,
   "id": "68aa4ac7",
   "metadata": {},
   "outputs": [],
   "source": [
    "sim"
   ]
  },
  {
   "cell_type": "code",
   "execution_count": null,
   "id": "f736d841",
   "metadata": {},
   "outputs": [],
   "source": [
    "list_my_db = df_temp_1.loc[[320, 321, 1326, 1327, 1468], 'Title']"
   ]
  },
  {
   "cell_type": "code",
   "execution_count": null,
   "id": "403aaead",
   "metadata": {},
   "outputs": [],
   "source": [
    "df_final.columns"
   ]
  },
  {
   "cell_type": "code",
   "execution_count": null,
   "id": "f2204d0a",
   "metadata": {},
   "outputs": [],
   "source": [
    "\n",
    "df_final['Title']"
   ]
  },
  {
   "cell_type": "code",
   "execution_count": null,
   "id": "526017d5",
   "metadata": {},
   "outputs": [],
   "source": []
  },
  {
   "cell_type": "markdown",
   "id": "c947549d",
   "metadata": {},
   "source": [
    "looking at index 1245... for instance."
   ]
  },
  {
   "cell_type": "code",
   "execution_count": null,
   "id": "ff2abd5e",
   "metadata": {},
   "outputs": [],
   "source": [
    "ps_str = \"\"\n",
    "substr_2 = 'the_dick_pic_trick'\n",
    "#df_2[df_2['PS1'].str.contains(substr)]\n",
    "df_my_db[df_my_db['PS1'].str.contains(ps_str) & df_my_db['Title'].str.contains(substr_2)]"
   ]
  },
  {
   "cell_type": "code",
   "execution_count": null,
   "id": "95bfaff1",
   "metadata": {},
   "outputs": [],
   "source": [
    "my_db_list_title_column = [x for x in df_my_db_sliced['Title']]\n",
    "df_final_title_column = [x for x in df_final['Title']]\n",
    "#for index_my_db, row_my_db in df_my_db_sliced.iloc[200:220].iterrows():\n",
    "#    print('row_my_db', row_my_db)"
   ]
  },
  {
   "cell_type": "code",
   "execution_count": null,
   "id": "f3339c06",
   "metadata": {},
   "outputs": [],
   "source": [
    "len(df_final_title_column)"
   ]
  },
  {
   "cell_type": "code",
   "execution_count": null,
   "id": "29cca679",
   "metadata": {},
   "outputs": [],
   "source": [
    "df_final_title_column[-10:]"
   ]
  },
  {
   "cell_type": "code",
   "execution_count": null,
   "id": "8778e52b",
   "metadata": {},
   "outputs": [],
   "source": [
    "list1 = ['little','blue','widget']\n",
    "list2 = ['there','is','a','little','blue','cup','on','the','table']\n",
    "\n",
    "list3 = set(list1) & set(list2)\n",
    "\n",
    "list4 = sorted(list3, key = lambda k : list1.index(k))"
   ]
  },
  {
   "cell_type": "code",
   "execution_count": null,
   "id": "8d34d8f8",
   "metadata": {},
   "outputs": [],
   "source": [
    "list4"
   ]
  },
  {
   "cell_type": "code",
   "execution_count": null,
   "id": "edce649e",
   "metadata": {},
   "outputs": [],
   "source": [
    "from difflib import SequenceMatcher\n",
    "def similar(a, b):\n",
    "    return SequenceMatcher(None, a, b).ratio()"
   ]
  },
  {
   "cell_type": "code",
   "execution_count": null,
   "id": "40a3240f",
   "metadata": {},
   "outputs": [],
   "source": [
    "similar(\"his_best_friend_s_bedding\",\"his_best_friends_bedding\")"
   ]
  },
  {
   "cell_type": "code",
   "execution_count": null,
   "id": "e18935ec",
   "metadata": {},
   "outputs": [],
   "source": [
    "for index_my_db, row_my_db in df_my_db_sliced.iloc[200:400].iterrows():\n",
    "    for index_df_final, row_df_final in df_final.iterrows():\n",
    "        if row_df_final['Title'] == row_my_db['Title']:\n",
    "            df_my_db_sliced.loc[index_my_db, 'available_in_df_final'] = 'yes'"
   ]
  },
  {
   "cell_type": "code",
   "execution_count": null,
   "id": "ebac9fc1",
   "metadata": {},
   "outputs": [],
   "source": [
    "from tqdm import tqdm"
   ]
  },
  {
   "cell_type": "code",
   "execution_count": null,
   "id": "371ca14b",
   "metadata": {},
   "outputs": [],
   "source": [
    "%%time\n",
    "\n",
    "for row in tqdm(my_df.values[:10]):\n",
    "    print('my_df.index[0]', my_df.row.index)\n",
    "    print('row[0]', row[0])\n",
    "    temp = row[0] + row[1]\n",
    "    temp = temp**2\n",
    "    "
   ]
  },
  {
   "cell_type": "code",
   "execution_count": null,
   "id": "5d6923e4",
   "metadata": {},
   "outputs": [],
   "source": [
    "import numpy as np\n",
    "my_df = pd.DataFrame({'col_a': range(1, 10000000), 'col_b': np.sqrt(range(1, 10000000))})"
   ]
  },
  {
   "cell_type": "code",
   "execution_count": 2,
   "id": "27d0f4dd",
   "metadata": {},
   "outputs": [
    {
     "data": {
      "text/html": [
       "<div><div id=90140403-d62b-4ddf-82e1-015f38954ab2 style=\"display:none; background-color:#9D6CFF; color:white; width:200px; height:30px; padding-left:5px; border-radius:4px; flex-direction:row; justify-content:space-around; align-items:center;\" onmouseover=\"this.style.backgroundColor='#BA9BF8'\" onmouseout=\"this.style.backgroundColor='#9D6CFF'\" onclick=\"window.commands?.execute('create-mitosheet-from-dataframe-output');\">See Full Dataframe in Mito</div> <script> if (window.commands.hasCommand('create-mitosheet-from-dataframe-output')) document.getElementById('90140403-d62b-4ddf-82e1-015f38954ab2').style.display = 'flex' </script> <table border=\"1\" class=\"dataframe\">\n",
       "  <thead>\n",
       "    <tr style=\"text-align: right;\">\n",
       "      <th></th>\n",
       "      <th>Site</th>\n",
       "      <th>PS1</th>\n",
       "      <th>PS2</th>\n",
       "      <th>Title</th>\n",
       "    </tr>\n",
       "  </thead>\n",
       "  <tbody>\n",
       "    <tr>\n",
       "      <th>0</th>\n",
       "      <td>Asses In Public</td>\n",
       "      <td>sunny_lane</td>\n",
       "      <td>talon</td>\n",
       "      <td>sex_on_a_sunny_day</td>\n",
       "    </tr>\n",
       "    <tr>\n",
       "      <th>1</th>\n",
       "      <td>Asses In Public</td>\n",
       "      <td>cassandra_calogera</td>\n",
       "      <td>joe</td>\n",
       "      <td>cassie_in_the_city</td>\n",
       "    </tr>\n",
       "    <tr>\n",
       "      <th>2</th>\n",
       "      <td>Asses In Public</td>\n",
       "      <td>lacey_du_valle</td>\n",
       "      <td>andrew_andretti</td>\n",
       "      <td>garage_sex</td>\n",
       "    </tr>\n",
       "    <tr>\n",
       "      <th>3</th>\n",
       "      <td>Asses In Public</td>\n",
       "      <td>tricia</td>\n",
       "      <td>seth_dickens</td>\n",
       "      <td>public_fun_with_tricia</td>\n",
       "    </tr>\n",
       "    <tr>\n",
       "      <th>4</th>\n",
       "      <td>Asses In Public</td>\n",
       "      <td>sheila_marie</td>\n",
       "      <td>tj_cummings</td>\n",
       "      <td>chillin_around_la</td>\n",
       "    </tr>\n",
       "    <tr>\n",
       "      <th>5</th>\n",
       "      <td>Asses In Public</td>\n",
       "      <td>mariah_milano</td>\n",
       "      <td>whitney_stevens</td>\n",
       "      <td>sex_in_la</td>\n",
       "    </tr>\n",
       "    <tr>\n",
       "      <th>6</th>\n",
       "      <td>Asses In Public</td>\n",
       "      <td>kelly_divine</td>\n",
       "      <td>andrew_andretti</td>\n",
       "      <td>the_great_outdoors</td>\n",
       "    </tr>\n",
       "    <tr>\n",
       "      <th>7</th>\n",
       "      <td>Asses In Public</td>\n",
       "      <td>camryn_kiss</td>\n",
       "      <td>dakota_brookes</td>\n",
       "      <td>looking_for_trouble</td>\n",
       "    </tr>\n",
       "    <tr>\n",
       "      <th>8</th>\n",
       "      <td>Asses In Public</td>\n",
       "      <td>marina_maywood</td>\n",
       "      <td>trevor_thompson</td>\n",
       "      <td>from_russia_with_lust</td>\n",
       "    </tr>\n",
       "    <tr>\n",
       "      <th>9</th>\n",
       "      <td>Asses In Public</td>\n",
       "      <td>claire_dames</td>\n",
       "      <td>kurt_lockwood</td>\n",
       "      <td>dames_outside</td>\n",
       "    </tr>\n",
       "    <tr>\n",
       "      <th>10</th>\n",
       "      <td>Asses In Public</td>\n",
       "      <td>luscious_lopez</td>\n",
       "      <td>andrew_andretti</td>\n",
       "      <td>booty_patrol</td>\n",
       "    </tr>\n",
       "    <tr>\n",
       "      <th>11</th>\n",
       "      <td>Asses In Public</td>\n",
       "      <td>britney_stevens</td>\n",
       "      <td>seth_dickens</td>\n",
       "      <td>fun_with_the_look_a_like</td>\n",
       "    </tr>\n",
       "    <tr>\n",
       "      <th>12</th>\n",
       "      <td>Asses In Public</td>\n",
       "      <td>nichole</td>\n",
       "      <td>seth_dickens</td>\n",
       "      <td>wild_outdoor_action</td>\n",
       "    </tr>\n",
       "    <tr>\n",
       "      <th>13</th>\n",
       "      <td>Asses In Public</td>\n",
       "      <td>alexa</td>\n",
       "      <td>rosario_stone</td>\n",
       "      <td>wild_boricuas</td>\n",
       "    </tr>\n",
       "    <tr>\n",
       "      <th>14</th>\n",
       "      <td>Busty Real</td>\n",
       "      <td>gianna_michaels</td>\n",
       "      <td>nik</td>\n",
       "      <td>gianna_hardcore</td>\n",
       "    </tr>\n",
       "    <tr>\n",
       "      <th>15</th>\n",
       "      <td>Busty Real</td>\n",
       "      <td>emilianna</td>\n",
       "      <td>alex_gonz</td>\n",
       "      <td>big_natural_round_boobs</td>\n",
       "    </tr>\n",
       "    <tr>\n",
       "      <th>16</th>\n",
       "      <td>Busty Real</td>\n",
       "      <td>havana_ginger</td>\n",
       "      <td>johnny_sins</td>\n",
       "      <td>busty_mulato_havana_ginger</td>\n",
       "    </tr>\n",
       "    <tr>\n",
       "      <th>17</th>\n",
       "      <td>Busty Real</td>\n",
       "      <td>rita_faltoyano</td>\n",
       "      <td>alex_gonz</td>\n",
       "      <td>she_wants_you</td>\n",
       "    </tr>\n",
       "    <tr>\n",
       "      <th>18</th>\n",
       "      <td>Busty Real</td>\n",
       "      <td>whitney_stevens</td>\n",
       "      <td>alex_gonz</td>\n",
       "      <td>whitneys_back</td>\n",
       "    </tr>\n",
       "    <tr>\n",
       "      <th>19</th>\n",
       "      <td>Busty Real</td>\n",
       "      <td>jada_fire</td>\n",
       "      <td>johnny_castle</td>\n",
       "      <td>jada_fires_pussy_is_on_fire</td>\n",
       "    </tr>\n",
       "    <tr>\n",
       "      <th>20</th>\n",
       "      <td>Busty Real</td>\n",
       "      <td>alexis_silver</td>\n",
       "      <td>vin_deacon</td>\n",
       "      <td>busty_alexis</td>\n",
       "    </tr>\n",
       "    <tr>\n",
       "      <th>21</th>\n",
       "      <td>Busty Real</td>\n",
       "      <td>brandy_dean</td>\n",
       "      <td>jordan_ash</td>\n",
       "      <td>busty_chick_brandy_dean</td>\n",
       "    </tr>\n",
       "    <tr>\n",
       "      <th>22</th>\n",
       "      <td>Busty Real</td>\n",
       "      <td>rucca_page</td>\n",
       "      <td>jeremy_holmes</td>\n",
       "      <td>busty_chick_rucca</td>\n",
       "    </tr>\n",
       "    <tr>\n",
       "      <th>23</th>\n",
       "      <td>Busty Real</td>\n",
       "      <td>kaylee_love_cox</td>\n",
       "      <td>jordan_ash</td>\n",
       "      <td>busty_teen_kayle_lov_kox</td>\n",
       "    </tr>\n",
       "    <tr>\n",
       "      <th>24</th>\n",
       "      <td>Cfnm</td>\n",
       "      <td>ariella_ferrera</td>\n",
       "      <td>jynx_maze</td>\n",
       "      <td>you_want_us_to_clean_your_dick</td>\n",
       "    </tr>\n",
       "    <tr>\n",
       "      <th>25</th>\n",
       "      <td>Cfnm</td>\n",
       "      <td>jada_stevens</td>\n",
       "      <td>maddy_o_reilly</td>\n",
       "      <td>locker_room_hijinks</td>\n",
       "    </tr>\n",
       "    <tr>\n",
       "      <th>26</th>\n",
       "      <td>Cfnm</td>\n",
       "      <td>tory_lane</td>\n",
       "      <td>rikki_six</td>\n",
       "      <td>peeping_nurse_learns_a_lesson</td>\n",
       "    </tr>\n",
       "    <tr>\n",
       "      <th>27</th>\n",
       "      <td>Cfnm</td>\n",
       "      <td>alektra_blue</td>\n",
       "      <td>monique_alexander</td>\n",
       "      <td>perving_out_on_the_perv</td>\n",
       "    </tr>\n",
       "    <tr>\n",
       "      <th>28</th>\n",
       "      <td>Cfnm</td>\n",
       "      <td>ava_addams</td>\n",
       "      <td>lisa_ann</td>\n",
       "      <td>ogling_in_the_office</td>\n",
       "    </tr>\n",
       "    <tr>\n",
       "      <th>29</th>\n",
       "      <td>Cfnm</td>\n",
       "      <td>remy_la_croix</td>\n",
       "      <td>jessy_jones</td>\n",
       "      <td>spying_on_the_sorority</td>\n",
       "    </tr>\n",
       "    <tr>\n",
       "      <th>...</th>\n",
       "      <td>...</td>\n",
       "      <td>...</td>\n",
       "      <td>...</td>\n",
       "      <td>...</td>\n",
       "    </tr>\n",
       "    <tr>\n",
       "      <th>9500</th>\n",
       "      <td>Zz Series</td>\n",
       "      <td>kagney_linn_karter</td>\n",
       "      <td>mark_ashley</td>\n",
       "      <td>ep_1_wet_traces_to_nowhere</td>\n",
       "    </tr>\n",
       "    <tr>\n",
       "      <th>9501</th>\n",
       "      <td>Zz Series</td>\n",
       "      <td>riley_reid</td>\n",
       "      <td>kissa_sins</td>\n",
       "      <td>sins_life_part_one</td>\n",
       "    </tr>\n",
       "    <tr>\n",
       "      <th>9502</th>\n",
       "      <td>Zz Series</td>\n",
       "      <td>dana_de_armond</td>\n",
       "      <td>keiran_lee</td>\n",
       "      <td>never_get_married_the_downward_spiral</td>\n",
       "    </tr>\n",
       "    <tr>\n",
       "      <th>9503</th>\n",
       "      <td>Zz Series</td>\n",
       "      <td>asa_akira</td>\n",
       "      <td>lisa_ann</td>\n",
       "      <td>ep_3_the_queen_of_lust</td>\n",
       "    </tr>\n",
       "    <tr>\n",
       "      <th>9504</th>\n",
       "      <td>Zz Series</td>\n",
       "      <td>kirsten_price</td>\n",
       "      <td>brandi_love</td>\n",
       "      <td>two_girls_one_cock</td>\n",
       "    </tr>\n",
       "    <tr>\n",
       "      <th>9505</th>\n",
       "      <td>Zz Series</td>\n",
       "      <td>asa_akira</td>\n",
       "      <td>jessica_jaymes</td>\n",
       "      <td>ep_1_an_inconvenient_truce</td>\n",
       "    </tr>\n",
       "    <tr>\n",
       "      <th>9506</th>\n",
       "      <td>Zz Series</td>\n",
       "      <td>aaliyah_hadid</td>\n",
       "      <td>johnny_sins</td>\n",
       "      <td>the_exxxceptions_episode_5</td>\n",
       "    </tr>\n",
       "    <tr>\n",
       "      <th>9507</th>\n",
       "      <td>Zz Series</td>\n",
       "      <td>aletta_ocean</td>\n",
       "      <td>barbie_white</td>\n",
       "      <td>ep_7_the_end_is_rear</td>\n",
       "    </tr>\n",
       "    <tr>\n",
       "      <th>9508</th>\n",
       "      <td>Zz Series</td>\n",
       "      <td>lou_charmelle</td>\n",
       "      <td>liza_del_sierra</td>\n",
       "      <td>ep_5_surprise_sur_le_bateau</td>\n",
       "    </tr>\n",
       "    <tr>\n",
       "      <th>9509</th>\n",
       "      <td>Zz Series</td>\n",
       "      <td>luna_star</td>\n",
       "      <td>angela_white</td>\n",
       "      <td>brazzi_bots_uprising_part_1</td>\n",
       "    </tr>\n",
       "    <tr>\n",
       "      <th>9510</th>\n",
       "      <td>Zz Series</td>\n",
       "      <td>diamond_foxxx</td>\n",
       "      <td>sabrina_maree</td>\n",
       "      <td>ep_2_tonight_we_feast</td>\n",
       "    </tr>\n",
       "    <tr>\n",
       "      <th>9511</th>\n",
       "      <td>Zz Series</td>\n",
       "      <td>cherie_deville</td>\n",
       "      <td>codi_vore</td>\n",
       "      <td>kinky_secrets_of_the_suburbs_part_4</td>\n",
       "    </tr>\n",
       "    <tr>\n",
       "      <th>9512</th>\n",
       "      <td>Zz Series</td>\n",
       "      <td>romi_rain</td>\n",
       "      <td>angela_white</td>\n",
       "      <td>brazzibots_uprising_part_4</td>\n",
       "    </tr>\n",
       "    <tr>\n",
       "      <th>9513</th>\n",
       "      <td>Zz Series</td>\n",
       "      <td>yuffie_yulan</td>\n",
       "      <td>keiran_lee</td>\n",
       "      <td>brit_on_brit_boning</td>\n",
       "    </tr>\n",
       "    <tr>\n",
       "      <th>9514</th>\n",
       "      <td>Zz Series</td>\n",
       "      <td>blue_angel</td>\n",
       "      <td>cindy_hope</td>\n",
       "      <td>ep_6_lez_be_friends</td>\n",
       "    </tr>\n",
       "    <tr>\n",
       "      <th>9515</th>\n",
       "      <td>Zz Series</td>\n",
       "      <td>sandra_romain</td>\n",
       "      <td>manuel_ferrara</td>\n",
       "      <td>ep_7_bon_voyage_keiran</td>\n",
       "    </tr>\n",
       "    <tr>\n",
       "      <th>9516</th>\n",
       "      <td>Zz Series</td>\n",
       "      <td>mona_azar</td>\n",
       "      <td>xander_corvus</td>\n",
       "      <td>blueprint_for_anal_part_1</td>\n",
       "    </tr>\n",
       "    <tr>\n",
       "      <th>9517</th>\n",
       "      <td>Zz Series</td>\n",
       "      <td>nicole_aniston</td>\n",
       "      <td>xander_corvus</td>\n",
       "      <td>brazzibots_uprising_part_2</td>\n",
       "    </tr>\n",
       "    <tr>\n",
       "      <th>9518</th>\n",
       "      <td>Zz Series</td>\n",
       "      <td>jacky_joy</td>\n",
       "      <td>keiran_lee</td>\n",
       "      <td>jacky_joys_joyride</td>\n",
       "    </tr>\n",
       "    <tr>\n",
       "      <th>9519</th>\n",
       "      <td>Zz Series</td>\n",
       "      <td>lily_lou</td>\n",
       "      <td>jax_slayher</td>\n",
       "      <td>kinky_secrets_of_the_suburbs_part_3</td>\n",
       "    </tr>\n",
       "    <tr>\n",
       "      <th>9520</th>\n",
       "      <td>Zz Series</td>\n",
       "      <td>cherie_deville</td>\n",
       "      <td>maya_farrell</td>\n",
       "      <td>kinky_secrets_of_the_suburbs_part_1</td>\n",
       "    </tr>\n",
       "    <tr>\n",
       "      <th>9521</th>\n",
       "      <td>Zz Series</td>\n",
       "      <td>nicki_hunter</td>\n",
       "      <td>keiran_lee</td>\n",
       "      <td>nicki_hunter_hungry_for_cock</td>\n",
       "    </tr>\n",
       "    <tr>\n",
       "      <th>9522</th>\n",
       "      <td>Zz Series</td>\n",
       "      <td>natasha_starr</td>\n",
       "      <td>keiran_lee</td>\n",
       "      <td>afterhours_fuck</td>\n",
       "    </tr>\n",
       "    <tr>\n",
       "      <th>9523</th>\n",
       "      <td>Zz Series</td>\n",
       "      <td>abby_cross</td>\n",
       "      <td>keiran_lee</td>\n",
       "      <td>dear_abby_suck_that_cock</td>\n",
       "    </tr>\n",
       "    <tr>\n",
       "      <th>9524</th>\n",
       "      <td>Zz Series</td>\n",
       "      <td>lulu_chu</td>\n",
       "      <td>mick_blue</td>\n",
       "      <td>kinky_secrets_of_the_suburbs_part_2</td>\n",
       "    </tr>\n",
       "    <tr>\n",
       "      <th>9525</th>\n",
       "      <td>Zz Series</td>\n",
       "      <td>riley_reid</td>\n",
       "      <td>mick_blue</td>\n",
       "      <td>brazzi_bots_part_1</td>\n",
       "    </tr>\n",
       "    <tr>\n",
       "      <th>9526</th>\n",
       "      <td>Zz Series</td>\n",
       "      <td>cali_carter</td>\n",
       "      <td>small_hands</td>\n",
       "      <td>brazzibots_uprising_part_3</td>\n",
       "    </tr>\n",
       "    <tr>\n",
       "      <th>9527</th>\n",
       "      <td>Zz Series</td>\n",
       "      <td>karma_rx</td>\n",
       "      <td>lela_star</td>\n",
       "      <td>brazzi_bots_part_4</td>\n",
       "    </tr>\n",
       "    <tr>\n",
       "      <th>9528</th>\n",
       "      <td>Zz Series</td>\n",
       "      <td>abigail_mac</td>\n",
       "      <td>nicolette_shea</td>\n",
       "      <td>brazzi_bots_part_2</td>\n",
       "    </tr>\n",
       "    <tr>\n",
       "      <th>9529</th>\n",
       "      <td>Zz Series</td>\n",
       "      <td>lela_star</td>\n",
       "      <td>xander_corvus</td>\n",
       "      <td>brazzi_bots_part_3</td>\n",
       "    </tr>\n",
       "  </tbody>\n",
       "</table></div>"
      ],
      "text/plain": [
       "                 Site                 PS1              PS2  \\\n",
       "0     Asses In Public          sunny_lane            talon   \n",
       "1     Asses In Public  cassandra_calogera              joe   \n",
       "2     Asses In Public      lacey_du_valle  andrew_andretti   \n",
       "3     Asses In Public              tricia     seth_dickens   \n",
       "4     Asses In Public        sheila_marie      tj_cummings   \n",
       "...               ...                 ...              ...   \n",
       "9525        Zz Series          riley_reid        mick_blue   \n",
       "9526        Zz Series         cali_carter      small_hands   \n",
       "9527        Zz Series            karma_rx        lela_star   \n",
       "9528        Zz Series         abigail_mac   nicolette_shea   \n",
       "9529        Zz Series           lela_star    xander_corvus   \n",
       "\n",
       "                           Title  \n",
       "0             sex_on_a_sunny_day  \n",
       "1             cassie_in_the_city  \n",
       "2                     garage_sex  \n",
       "3         public_fun_with_tricia  \n",
       "4              chillin_around_la  \n",
       "...                          ...  \n",
       "9525          brazzi_bots_part_1  \n",
       "9526  brazzibots_uprising_part_3  \n",
       "9527          brazzi_bots_part_4  \n",
       "9528          brazzi_bots_part_2  \n",
       "9529          brazzi_bots_part_3  \n",
       "\n",
       "[9530 rows x 4 columns]"
      ]
     },
     "execution_count": 2,
     "metadata": {},
     "output_type": "execute_result"
    }
   ],
   "source": [
    "df_final[df_final['']]"
   ]
  },
  {
   "cell_type": "code",
   "execution_count": null,
   "id": "16c8d70a",
   "metadata": {},
   "outputs": [],
   "source": [
    "my_df"
   ]
  },
  {
   "cell_type": "code",
   "execution_count": null,
   "id": "40bb8ee1",
   "metadata": {},
   "outputs": [],
   "source": [
    "234*12"
   ]
  },
  {
   "cell_type": "code",
   "execution_count": null,
   "id": "4b6f89f8",
   "metadata": {},
   "outputs": [],
   "source": [
    "29566-22943"
   ]
  },
  {
   "cell_type": "code",
   "execution_count": null,
   "id": "ac30e777",
   "metadata": {},
   "outputs": [],
   "source": []
  }
 ],
 "metadata": {
  "kernelspec": {
   "display_name": "python38",
   "language": "python",
   "name": "python38"
  },
  "language_info": {
   "codemirror_mode": {
    "name": "ipython",
    "version": 3
   },
   "file_extension": ".py",
   "mimetype": "text/x-python",
   "name": "python",
   "nbconvert_exporter": "python",
   "pygments_lexer": "ipython3",
   "version": "3.8.8"
  }
 },
 "nbformat": 4,
 "nbformat_minor": 5
}
