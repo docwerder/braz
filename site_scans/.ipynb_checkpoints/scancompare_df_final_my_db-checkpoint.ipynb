{
 "cells": [
  {
   "cell_type": "markdown",
   "id": "ff9ec704-2877-458f-ac3d-0a6d21087f98",
   "metadata": {},
   "source": [
    "### Scan comparison between df_final and my_db"
   ]
  },
  {
   "cell_type": "code",
   "execution_count": 1,
   "id": "997f76f6",
   "metadata": {},
   "outputs": [
    {
     "data": {
      "text/html": [
       "<style>.container {width:90% !important; }</style>"
      ],
      "text/plain": [
       "<IPython.core.display.HTML object>"
      ]
     },
     "metadata": {},
     "output_type": "display_data"
    }
   ],
   "source": [
    "import pandas as pd\n",
    "import math\n",
    "import sys\n",
    "from IPython.core.display import display, HTML\n",
    "display(HTML(\"<style>.container {width:90% !important; }</style>\"))\n",
    "sys.path.append('/Users/joerg/repos/braz')\n",
    "from utilities_functions import scan_func\n",
    "# To run all commands within one cell:\n",
    "from IPython.core.interactiveshell import InteractiveShell\n",
    "InteractiveShell.ast_node_interactivity = \"all\"\n",
    "\n",
    "# default behaviour:\n",
    "# InteractiveShell.ast_node_interactivity = \"last_expr\""
   ]
  },
  {
   "cell_type": "markdown",
   "id": "f3dd2f99",
   "metadata": {},
   "source": [
    "chosen_sites = ['https://www.brazzers.com/videos/models/16357/jasmine-jae/page/']\n",
    "max_page_len_of_sites = [2]"
   ]
  },
  {
   "cell_type": "code",
   "execution_count": null,
   "id": "a40726d6-ac05-4a72-b908-3610cd55135c",
   "metadata": {},
   "outputs": [],
   "source": [
    "page_content_db = pd.DataFrame()\n",
    "page_number_db = {}\n",
    "page_content_tmp = {}\n",
    "page_columns = []\n",
    "ps1_db = pd.DataFrame()\n",
    "ps2_db = {}\n",
    "title_db = {}\n",
    "db_actual_site_name = pd.DataFrame()\n",
    "db_final_tmp = pd.DataFrame()\n",
    "db_actual_site_name_sliced = pd.DataFrame()\n",
    "\n",
    "# Determination of the maximum number of pages\n",
    "# for lf_root in db_sites[12:13]:\n",
    "#     db_page_tmp_2 = scan_func(lf_root)\n",
    "#     db_page_tmp_2 = [i for i in db_page_tmp if i.startswith('/videos/site/')]\n",
    "#         print('db_page_tmp: ', db_page_tmp_2)\n",
    "\n",
    "        \n",
    "        \n",
    "for root_site, number in zip(chosen_sites[:], max_page_len_of_sites):\n",
    "    print('max..' , number)\n",
    "  \n",
    "\n",
    "    # max_page_number = math.ceil(int(number) / 24)\n",
    "       \n",
    "    for page_nr in range(1, int(number) + 1):\n",
    "        print('page_nr: ', page_nr)\n",
    "        actual_site = root_site + str(page_nr)\n",
    "        site_name = actual_site.split('/')[-5].replace('-', ' ').title()\n",
    "            \n",
    "        print('site_name: ', site_name)\n",
    "        db_page_tmp = scan_func(actual_site)\n",
    "        #print('db_page_tmp: ', db_page_tmp)\n",
    "        db_page_video = [i for i in db_page_tmp if i.startswith('/video/')]\n",
    "        \n",
    "        db_page_ps = [i for i in db_page_tmp if i.startswith('/pornstar/')]\n",
    "        ps1 = [h.split('/')[-1].replace('-','_') for h in db_page_ps[::2]]\n",
    "        ps2 = [h.split('/')[-1].replace('-', '_') for h in db_page_ps[1::2]]\n",
    "        \n",
    "        title = [h.split('/')[-1].replace('-', '_') for h in db_page_video[::2]]\n",
    "        #print('title: ', title)\n",
    "        site_tmp = [site_name]\n",
    "        #print('site_tmp: ', site_name)\n",
    "        site = list(site_tmp) * 24\n",
    "        #print('site: ', site)\n",
    "        \n",
    "        \n",
    "        ps1_db = pd.DataFrame(ps1)\n",
    "        ps2_db = pd.DataFrame(ps2)\n",
    "        title_db = pd.DataFrame(title)\n",
    "        site_db = pd.DataFrame(site)\n",
    "        \n",
    "        db_all_tmp = pd.concat([site_db, ps1_db, ps2_db, title_db], axis=1)\n",
    "        custom_cols = ['Site', 'PS1', 'PS2', 'Title']\n",
    "        #print('db_all_tmp: ', db_all_tmp)\n",
    "        db_all_tmp.columns = custom_cols\n",
    "        db_actual_site_name = pd.concat([db_actual_site_name, db_all_tmp])\n",
    "        #print('db_all_tmp: ', db_all_tmp)\n",
    "        #print('db_actual_site_name:\\n ', db_actual_site_name)\n",
    "\n",
    "    df_tmp = db_actual_site_name\n",
    "    #print('df_tmp: ', db_actual_site_name)\n",
    "    \n",
    "df_1_tmp = db_actual_site_name"
   ]
  },
  {
   "cell_type": "code",
   "execution_count": null,
   "id": "dc9ef779-fee9-4201-83e6-a7b8757569b6",
   "metadata": {},
   "outputs": [],
   "source": [
    "df_old = df_1_tmp[df_1_tmp['PS1'].notna()]"
   ]
  },
  {
   "cell_type": "markdown",
   "id": "d2146800",
   "metadata": {},
   "source": [
    "***"
   ]
  },
  {
   "cell_type": "markdown",
   "id": "262ca457",
   "metadata": {},
   "source": [
    "### create the df_final..."
   ]
  },
  {
   "cell_type": "code",
   "execution_count": null,
   "id": "7748820a",
   "metadata": {},
   "outputs": [],
   "source": [
    "df_ms = pd.read_csv('df_missing_sites.csv', index_col=[0])\n",
    "# Delete the rows which contain NaN Cells in the column PS1\n",
    "df_ms = df_ms[df_ms['PS1'].notna()]\n",
    "\n",
    "df_f = pd.read_csv('final_df_11_04_2022.csv', index_col=[0])\n",
    "# Delete the rows which contain NaN Cells in the column PS1\n",
    "df_f = df_f[df_f['PS1'].notna()]\n",
    "\n",
    "df_final = pd.concat([df_ms, df_f])\n",
    "\n",
    "# Reset the index... \n",
    "df_final = df_final.reset_index()\n",
    "del df_final['index']\n",
    "\n",
    "df_final.to_csv('df_final_inklusive_ms.csv')"
   ]
  },
  {
   "cell_type": "markdown",
   "id": "141607c3",
   "metadata": {},
   "source": [
    "***"
   ]
  },
  {
   "cell_type": "markdown",
   "id": "1d264024",
   "metadata": {},
   "source": [
    "### Comparison of df_final and my_db..."
   ]
  },
  {
   "cell_type": "markdown",
   "id": "443f336d",
   "metadata": {},
   "source": [
    "Load the df_final"
   ]
  },
  {
   "cell_type": "code",
   "execution_count": 2,
   "id": "ec3a5194",
   "metadata": {},
   "outputs": [],
   "source": [
    "import pandas as pd\n",
    "df_final = pd.read_csv('df_final_inklusive_ms.csv', index_col=[0])"
   ]
  },
  {
   "cell_type": "markdown",
   "id": "f0cd24e7",
   "metadata": {},
   "source": [
    "Load my_db and slicing to a adequate format."
   ]
  },
  {
   "cell_type": "code",
   "execution_count": 3,
   "id": "e5fcf1dd",
   "metadata": {},
   "outputs": [],
   "source": [
    "df_my_db = pd.read_csv('df_final_my_db_py_18_04_2022.csv', index_col=[0])"
   ]
  },
  {
   "cell_type": "code",
   "execution_count": 4,
   "id": "6d07e48b",
   "metadata": {},
   "outputs": [],
   "source": [
    "# make the column \"Title\" comparable with the Title-column of df_final\n",
    "title_only = ['_'.join(x.split('_')[:-1]) for x in df_my_db['Title']]\n",
    "df_my_db['Title'] = title_only\n",
    "del df_my_db['Location']\n",
    "del df_my_db['Link']"
   ]
  },
  {
   "cell_type": "markdown",
   "id": "289aa155",
   "metadata": {},
   "source": [
    "Look, which titles of my_db are in the df_final.."
   ]
  },
  {
   "cell_type": "code",
   "execution_count": 5,
   "id": "dc3d1559",
   "metadata": {},
   "outputs": [],
   "source": [
    "df_final['available_in_my_db'] = 'no'"
   ]
  },
  {
   "cell_type": "code",
   "execution_count": null,
   "id": "ab017591",
   "metadata": {},
   "outputs": [],
   "source": [
    "# The code below cost a lot of time. How can I accelerate these two for-loops?\n",
    "# Trying at the bottom.... not yet????"
   ]
  },
  {
   "cell_type": "code",
   "execution_count": null,
   "id": "911ac45a",
   "metadata": {},
   "outputs": [],
   "source": [
    "%%time\n",
    "\n",
    "for index_df_final, row_df_final in df_final.iloc[:].iterrows():\n",
    "    for index_my_db, row_my_db in df_my_db.iterrows():\n",
    "        if row_my_db['Title'] == row_df_final['Title']:\n",
    "            df_final.loc[index_df_final, 'available_in_my_db'] = 'yes'\n",
    "\n",
    "#time_start = datetime.datetime.now()\n",
    "#print('time_start: ', time_start)\n"
   ]
  },
  {
   "cell_type": "code",
   "execution_count": null,
   "id": "0793558f",
   "metadata": {},
   "outputs": [],
   "source": []
  },
  {
   "cell_type": "markdown",
   "id": "046cad05",
   "metadata": {},
   "source": [
    "\n",
    "***"
   ]
  },
  {
   "cell_type": "markdown",
   "id": "bcae8650",
   "metadata": {},
   "source": [
    "## Another try: With fuzzywuzzy..."
   ]
  },
  {
   "cell_type": "code",
   "execution_count": null,
   "id": "7678c62d",
   "metadata": {},
   "outputs": [],
   "source": [
    "# Since the code at the upper cell cost so much time, I save this in a csv\n",
    "# df_final.to_csv('df_final_adjustment_my_db.csv')"
   ]
  },
  {
   "cell_type": "code",
   "execution_count": null,
   "id": "6099fc51",
   "metadata": {},
   "outputs": [],
   "source": [
    "# Reading my_db and df_final..\n",
    "# df_final_ad = pd.read_csv('df_final_adjustment_my_db.csv', index_col=[0])\n",
    "# --> this df_final_ad is the first result of the comparision between my_db and df_final\n",
    "# BUT: There are also missing titles...\n",
    "# Therefore another algorithm will be tried"
   ]
  },
  {
   "cell_type": "code",
   "execution_count": 6,
   "id": "f771cdc6",
   "metadata": {},
   "outputs": [],
   "source": [
    "df_my_db = pd.read_csv('df_final_my_db_py_18_04_2022.csv', index_col=[0])\n",
    "df_final = pd.read_csv('df_final_inklusive_ms.csv', index_col=[0])"
   ]
  },
  {
   "cell_type": "code",
   "execution_count": 7,
   "id": "9d0eb079",
   "metadata": {},
   "outputs": [],
   "source": [
    "my_db_title_only = ['_'.join(x.split('_')[:-1]) for x in df_my_db['Title']]\n",
    "df_final_title_only = [x for x in df_final['Title']]\n"
   ]
  },
  {
   "cell_type": "markdown",
   "id": "486374e9",
   "metadata": {},
   "source": [
    "Trying to calculate the fuzzy_value and writing this into a dataframe...."
   ]
  },
  {
   "cell_type": "code",
   "execution_count": 8,
   "id": "98f0540d",
   "metadata": {},
   "outputs": [
    {
     "name": "stderr",
     "output_type": "stream",
     "text": [
      "/Users/joerg/opt/anaconda3/envs/python38/lib/python3.8/site-packages/fuzzywuzzy/fuzz.py:11: UserWarning: Using slow pure-python SequenceMatcher. Install python-Levenshtein to remove this warning\n",
      "  warnings.warn('Using slow pure-python SequenceMatcher. Install python-Levenshtein to remove this warning')\n"
     ]
    }
   ],
   "source": [
    "from fuzzywuzzy import fuzz"
   ]
  },
  {
   "cell_type": "code",
   "execution_count": 9,
   "id": "83c27e9b",
   "metadata": {},
   "outputs": [
    {
     "name": "stdout",
     "output_type": "stream",
     "text": [
      "CPU times: user 8min 56s, sys: 3.21 s, total: 8min 59s\n",
      "Wall time: 9min 1s\n"
     ]
    }
   ],
   "source": [
    "%%time\n",
    "\n",
    "df_final_title = []\n",
    "my_db_title =[]\n",
    "index_df_final = []\n",
    "index_my_db = []\n",
    "fuzz_val = []\n",
    "\n",
    "for lf_f in df_final_title_only[:]:\n",
    "    for lf_m in my_db_title_only[:]:\n",
    "        val = fuzz.ratio(lf_f, lf_m)\n",
    "        if val > 90:\n",
    "            #print('val: ', val)\n",
    "            fuzz_val.append(val)\n",
    "            \n",
    "            #print('lf_f: ', lf_f)\n",
    "            df_final_title.append(lf_f)\n",
    "            \n",
    "            #print('lf_f_index: ', df_final_title_only.index(lf_f))\n",
    "            index_df_final.append(df_final_title_only.index(lf_f))\n",
    "            \n",
    "            #print('lf_m: ', lf_m)\n",
    "            my_db_title.append(lf_m)\n",
    "            \n",
    "            #print('lf_m_index: ', my_db_title_only.index(lf_m))\n",
    "            index_my_db.append(my_db_title_only.index(lf_m))\n",
    "            \n",
    "            #print('===')\n",
    "\n",
    "compare_db = {'df_final_title': df_final_title, 'index_df_final': index_df_final, 'my_db_title': my_db_title, 'index_my_db': index_my_db, 'fuzzy_value': fuzz_val}  \n",
    "#columns = ['df_final_title', 'index_df_final', 'my_db_title', 'index_my_db', 'fuzzy_value']\n",
    "#compare_db[columns]"
   ]
  },
  {
   "cell_type": "code",
   "execution_count": 10,
   "id": "ccbb020f",
   "metadata": {},
   "outputs": [],
   "source": [
    "compare_db = pd.DataFrame.from_dict(compare_db)"
   ]
  },
  {
   "cell_type": "code",
   "execution_count": 11,
   "id": "f6f19fca",
   "metadata": {},
   "outputs": [
    {
     "data": {
      "text/plain": [
       "1749"
      ]
     },
     "execution_count": 11,
     "metadata": {},
     "output_type": "execute_result"
    }
   ],
   "source": [
    "len(compare_db['fuzzy_value'])"
   ]
  },
  {
   "cell_type": "markdown",
   "id": "ec0a8fc2",
   "metadata": {},
   "source": [
    "Looking the Titles, for which the fuzzy_value is between 90 and 100     \n",
    "These Titles are at different names in my_db compared to the df_final     \n",
    "and need to be re-named!  \n",
    "The counts are 346  "
   ]
  },
  {
   "cell_type": "code",
   "execution_count": null,
   "id": "c1feb9ba",
   "metadata": {},
   "outputs": [],
   "source": [
    "#compare_db[compare_db['fuzzy_value'] !=100]"
   ]
  },
  {
   "cell_type": "markdown",
   "id": "3e6ee2b1",
   "metadata": {},
   "source": [
    "make a deepcopy of the 'original' compare_db..."
   ]
  },
  {
   "cell_type": "code",
   "execution_count": 12,
   "id": "06aeaeb7",
   "metadata": {},
   "outputs": [],
   "source": [
    "import copy\n",
    "compare_db_backup = copy.deepcopy(compare_db)"
   ]
  },
  {
   "cell_type": "code",
   "execution_count": null,
   "id": "af3542e4",
   "metadata": {},
   "outputs": [],
   "source": [
    "compare_db['edited'] = 'no'"
   ]
  },
  {
   "cell_type": "code",
   "execution_count": null,
   "id": "8185ef53",
   "metadata": {},
   "outputs": [],
   "source": [
    "df_compare_db_14_04_22 = compare_db[compare_db['fuzzy_value'] != 100]"
   ]
  },
  {
   "cell_type": "code",
   "execution_count": null,
   "id": "601e3fa1",
   "metadata": {},
   "outputs": [],
   "source": [
    "# For sureness... This csv-file can be loaded and edited further...\n",
    "df_compare_db_14_04_22.to_csv('df_compare_db_14_04_22.csv')"
   ]
  },
  {
   "cell_type": "code",
   "execution_count": null,
   "id": "d5a3ec78",
   "metadata": {},
   "outputs": [],
   "source": [
    "compare_db = pd.read_csv('df_compare_db_14_04_22.csv', index_col=[0])"
   ]
  },
  {
   "cell_type": "code",
   "execution_count": 61,
   "id": "5f31c438",
   "metadata": {},
   "outputs": [
    {
     "data": {
      "text/html": [
       "<div><div id=77a6f1bc-5caa-4706-9d8a-440b74467888 style=\"display:none; background-color:#9D6CFF; color:white; width:200px; height:30px; padding-left:5px; border-radius:4px; flex-direction:row; justify-content:space-around; align-items:center;\" onmouseover=\"this.style.backgroundColor='#BA9BF8'\" onmouseout=\"this.style.backgroundColor='#9D6CFF'\" onclick=\"window.commands?.execute('create-mitosheet-from-dataframe-output');\">See Full Dataframe in Mito</div> <script> if (window.commands.hasCommand('create-mitosheet-from-dataframe-output')) document.getElementById('77a6f1bc-5caa-4706-9d8a-440b74467888').style.display = 'flex' </script> <table border=\"1\" class=\"dataframe\">\n",
       "  <thead>\n",
       "    <tr style=\"text-align: right;\">\n",
       "      <th></th>\n",
       "      <th>df_final_title</th>\n",
       "      <th>index_df_final</th>\n",
       "      <th>my_db_title</th>\n",
       "      <th>index_my_db</th>\n",
       "      <th>fuzzy_value</th>\n",
       "    </tr>\n",
       "  </thead>\n",
       "  <tbody>\n",
       "    <tr>\n",
       "      <th>1748</th>\n",
       "      <td>zz_erection_2016_part_3</td>\n",
       "      <td>9484</td>\n",
       "      <td>zz_erection_2016_part_2</td>\n",
       "      <td>1389</td>\n",
       "      <td>96</td>\n",
       "    </tr>\n",
       "  </tbody>\n",
       "</table></div>"
      ],
      "text/plain": [
       "               df_final_title  index_df_final              my_db_title  \\\n",
       "1748  zz_erection_2016_part_3            9484  zz_erection_2016_part_2   \n",
       "\n",
       "      index_my_db  fuzzy_value  \n",
       "1748         1389           96  "
      ]
     },
     "execution_count": 61,
     "metadata": {},
     "output_type": "execute_result"
    }
   ],
   "source": [
    "compare_db[compare_db['fuzzy_value'] != 100][249:260]"
   ]
  },
  {
   "cell_type": "markdown",
   "id": "af0e72e8",
   "metadata": {},
   "source": [
    "Look in `my_db`for Title and Site-Information..."
   ]
  },
  {
   "cell_type": "code",
   "execution_count": 60,
   "id": "d14b0f0f",
   "metadata": {},
   "outputs": [
    {
     "data": {
      "text/plain": [
       "(Site                                        Real Wife Stories\n",
       " PS1                                             Patty Michova\n",
       " PS2                                                   No Name\n",
       " PS3                                                   No Name\n",
       " PS4                                                   No Name\n",
       " PS5                                                   No Name\n",
       " PS6                                                   No Name\n",
       " PS7                                                   No Name\n",
       " PS8                                                   No Name\n",
       " PS9                                                   No Name\n",
       " PS10                                                  No Name\n",
       " Title                                  bangin_the_butler_720p\n",
       " Location                                           WERDERNASX\n",
       " Link        /Volumes/WERDERNASX/VIDEOSX/BRAZZERS/real_wife...\n",
       " Name: 1525, dtype: object,\n",
       " Site       Real Wife Stories\n",
       " PS1          adriana_chechik\n",
       " PS2              kendra_lust\n",
       " Title    our_sons_girlfriend\n",
       " Name: 8173, dtype: object)"
      ]
     },
     "execution_count": 60,
     "metadata": {},
     "output_type": "execute_result"
    }
   ],
   "source": [
    "df_my_db.iloc[1525], df_final.iloc[8173]"
   ]
  },
  {
   "cell_type": "code",
   "execution_count": 42,
   "id": "c2a619a2",
   "metadata": {},
   "outputs": [
    {
     "data": {
      "text/plain": [
       "Site       Big Tits At Work\n",
       "PS1            natasha_nice\n",
       "PS2                 tj_hart\n",
       "Title    personal_assistant\n",
       "Name: 3352, dtype: object"
      ]
     },
     "execution_count": 42,
     "metadata": {},
     "output_type": "execute_result"
    }
   ],
   "source": [
    "df_final.iloc[3352]"
   ]
  },
  {
   "cell_type": "code",
   "execution_count": null,
   "id": "769adaed",
   "metadata": {},
   "outputs": [],
   "source": [
    "compare_db[compare_db['fuzzy_value'] != 100][89:105].index.values"
   ]
  },
  {
   "cell_type": "code",
   "execution_count": null,
   "id": "39bc767e",
   "metadata": {},
   "outputs": [],
   "source": [
    "# get indices of the chosen area...\n",
    "indxs = compare_db[compare_db['fuzzy_value'] != 100][89:105].index.values"
   ]
  },
  {
   "cell_type": "markdown",
   "id": "d8e25821",
   "metadata": {},
   "source": [
    "Now, look at the indices and change the \"edited\" value by hand..."
   ]
  },
  {
   "cell_type": "code",
   "execution_count": null,
   "id": "46c0c03a",
   "metadata": {},
   "outputs": [],
   "source": [
    "# indxs is the list of the indices of the chosen area...\n",
    "compare_db.loc[indxs, 'edited'] = 'yes'\n",
    "#df_2.iloc[1439]# , 'PS2']"
   ]
  },
  {
   "cell_type": "markdown",
   "id": "5f6864bb",
   "metadata": {},
   "source": [
    "### Look in `my_db` for the Title and Site Information"
   ]
  },
  {
   "cell_type": "code",
   "execution_count": 18,
   "id": "40ad4c5a",
   "metadata": {},
   "outputs": [
    {
     "data": {
      "text/plain": [
       "Site                                           Brazzers Extra\n",
       "PS1                                              Angela White\n",
       "PS2                                                 Romi Rain\n",
       "PS3                                                   No Name\n",
       "PS4                                                   No Name\n",
       "PS5                                                   No Name\n",
       "PS6                                                   No Name\n",
       "PS7                                                   No Name\n",
       "PS8                                                   No Name\n",
       "PS9                                                   No Name\n",
       "PS10                                                  No Name\n",
       "Title                                        the_fucking_720p\n",
       "Location                                           WERDERNASX\n",
       "Link        /Volumes/WERDERNASX/VIDEOSX/BRAZZERS/brazzers_...\n",
       "Name: 666, dtype: object"
      ]
     },
     "execution_count": 18,
     "metadata": {},
     "output_type": "execute_result"
    }
   ],
   "source": []
  },
  {
   "cell_type": "code",
   "execution_count": null,
   "id": "db26c91b",
   "metadata": {},
   "outputs": [],
   "source": [
    "ps_str = \"\"\n",
    "title_string = 'moms_house_moms_rule'\n",
    "#df_2[df_2['PS1'].str.contains(substr)]\n",
    "df_my_db[df_my_db['PS1'].str.contains(ps_str) & df_my_db['Title'].str.contains(title_string)]"
   ]
  },
  {
   "cell_type": "code",
   "execution_count": null,
   "id": "a96938a6",
   "metadata": {},
   "outputs": [],
   "source": [
    "dont_touch_her_3"
   ]
  },
  {
   "cell_type": "markdown",
   "id": "fee1d8f5",
   "metadata": {},
   "source": [
    "### Look in `df_final` for Title..."
   ]
  },
  {
   "cell_type": "code",
   "execution_count": null,
   "id": "04dbdfc1",
   "metadata": {},
   "outputs": [],
   "source": [
    "ps_str = \"\"\n",
    "title_string = '1_800_phone_sex'\n",
    "#df_2[df_2['PS1'].str.contains(substr)]\n",
    "df_final[df_final['PS1'].str.contains(ps_str) & df_final['Title'].str.contains(title_string)]"
   ]
  },
  {
   "cell_type": "code",
   "execution_count": null,
   "id": "17ab33cd",
   "metadata": {},
   "outputs": [],
   "source": []
  },
  {
   "cell_type": "code",
   "execution_count": null,
   "id": "136511b4",
   "metadata": {},
   "outputs": [],
   "source": [
    "len(df_final_ad[df_final_ad['available_in_my_db'] == 'yes'])"
   ]
  },
  {
   "cell_type": "code",
   "execution_count": null,
   "id": "91a05278",
   "metadata": {},
   "outputs": [],
   "source": []
  },
  {
   "cell_type": "code",
   "execution_count": null,
   "id": "eb1d481f",
   "metadata": {},
   "outputs": [],
   "source": []
  },
  {
   "cell_type": "code",
   "execution_count": null,
   "id": "98946603",
   "metadata": {},
   "outputs": [],
   "source": [
    "# Counting the Titles, which are in df_final AND in my_db...\n",
    "len_title_df_final = len(df_final_ad[df_final_ad['available_in_my_db'] == 'yes'])\n",
    "len_my_db = len(df_my_db['Title'])\n",
    "# There is a difference: len_df_my_db - len_title_df_final\n",
    "print('len_my_db: ', len_my_db)\n",
    "print('len_title_df_final: ', len_title_df_final)\n",
    "\n",
    "# Difference: \n",
    "diff = len_my_db - len_title_df_final\n",
    "print('diff: ', diff)"
   ]
  },
  {
   "cell_type": "code",
   "execution_count": null,
   "id": "ed7e6fd1",
   "metadata": {},
   "outputs": [],
   "source": [
    "len(df_final_ad[df_final_ad['available_in_my_db'] == 'yes'])"
   ]
  },
  {
   "cell_type": "markdown",
   "id": "c7c71e2f",
   "metadata": {},
   "source": [
    "Try another method...."
   ]
  },
  {
   "cell_type": "code",
   "execution_count": null,
   "id": "8dffda23",
   "metadata": {},
   "outputs": [],
   "source": [
    "from difflib import SequenceMatcher\n",
    "def similar(a, b):\n",
    "    return SequenceMatcher(None, a, b).ratio()"
   ]
  },
  {
   "cell_type": "code",
   "execution_count": null,
   "id": "78ff274d",
   "metadata": {},
   "outputs": [],
   "source": [
    "my_db_title_only[219:223]"
   ]
  },
  {
   "cell_type": "code",
   "execution_count": null,
   "id": "b731e155",
   "metadata": {},
   "outputs": [],
   "source": [
    "my_db_title_only = [x for x in df_my_db['Title']]\n",
    "df_final_title_only = ['_'.join(x.split('_')[:-1]) for x in df_final['Title']]\n"
   ]
  },
  {
   "cell_type": "code",
   "execution_count": null,
   "id": "6a541b6a",
   "metadata": {},
   "outputs": [],
   "source": [
    "%%time\n",
    "for i in range(1, 10):\n",
    "    print(i)"
   ]
  },
  {
   "cell_type": "code",
   "execution_count": null,
   "id": "b5be4ea8",
   "metadata": {},
   "outputs": [],
   "source": [
    "%lsmagic"
   ]
  },
  {
   "cell_type": "code",
   "execution_count": null,
   "id": "f012d2ec",
   "metadata": {},
   "outputs": [],
   "source": [
    "len(df_final_title_only), len(my_db_title_only)"
   ]
  },
  {
   "cell_type": "code",
   "execution_count": null,
   "id": "24fef207",
   "metadata": {},
   "outputs": [],
   "source": [
    "%%time\n",
    "\n",
    "df_final_title = []\n",
    "my_db_title =[]\n",
    "index_df_final = []\n",
    "index_my_db = []\n",
    "fuzz_val = []\n",
    "\n",
    "for lf_f in df_final_title_only[:]:\n",
    "    for lf_m in my_db_title_only[:]:\n",
    "        val = fuzz.ratio(lf_f, lf_m)\n",
    "        if val > 90:\n",
    "            #print('val: ', val)\n",
    "            fuzz_val.append(val)\n",
    "            \n",
    "            #print('lf_f: ', lf_f)\n",
    "            df_final_title.append(lf_f)\n",
    "            \n",
    "            #print('lf_f_index: ', df_final_title_only.index(lf_f))\n",
    "            index_df_final.append(df_final_title_only.index(lf_f))\n",
    "            \n",
    "            #print('lf_m: ', lf_m)\n",
    "            my_db_title.append(lf_m)\n",
    "            \n",
    "            #print('lf_m_index: ', my_db_title_only.index(lf_m))\n",
    "            index_my_db.append(my_db_title_only.index(lf_m))\n",
    "            \n",
    "            #print('===')\n",
    "\n",
    "compare_db = {'df_final_title': df_final_title, 'index_df_final': index_df_final, 'my_db_title': my_db_title, 'index_my_db': index_my_db, 'fuzzy_value': fuzz_val}  \n",
    "#columns = ['df_final_title', 'index_df_final', 'my_db_title', 'index_my_db', 'fuzzy_value']\n",
    "#compare_db[columns]"
   ]
  },
  {
   "cell_type": "code",
   "execution_count": null,
   "id": "c396fcdb",
   "metadata": {},
   "outputs": [],
   "source": [
    "compare_db = pd.DataFrame.from_dict(compare_db)"
   ]
  },
  {
   "cell_type": "code",
   "execution_count": null,
   "id": "81d2fbd0",
   "metadata": {},
   "outputs": [],
   "source": [
    "compare_db[compare_db['fuzzy_value'] != 100]"
   ]
  },
  {
   "cell_type": "code",
   "execution_count": null,
   "id": "a246f0ff",
   "metadata": {},
   "outputs": [],
   "source": [
    "from fuzzywuzzy import fuzz"
   ]
  },
  {
   "cell_type": "code",
   "execution_count": null,
   "id": "f1c5cb89",
   "metadata": {},
   "outputs": [],
   "source": [
    "fuzz.ratio(\"check out this example\", \"check out this exampel\")"
   ]
  },
  {
   "cell_type": "code",
   "execution_count": null,
   "id": "26c49366",
   "metadata": {},
   "outputs": [],
   "source": []
  },
  {
   "cell_type": "code",
   "execution_count": null,
   "id": "07d9b20c",
   "metadata": {},
   "outputs": [],
   "source": []
  },
  {
   "cell_type": "code",
   "execution_count": null,
   "id": "162477b7",
   "metadata": {},
   "outputs": [],
   "source": []
  },
  {
   "cell_type": "code",
   "execution_count": null,
   "id": "fb2a1184",
   "metadata": {},
   "outputs": [],
   "source": [
    "%%time\n",
    "\n",
    "match_value_list = []\n",
    "similar_indices = []\n",
    "match_val = []\n",
    "for index_df_final, row_df_final in df_final.iloc[197:3210].iterrows():\n",
    "    for index_my_db, row_my_db in df_my_db[775:780].iterrows():\n",
    "\n",
    "        match_val = similar(row_my_db['Title'], row_df_final['Title'])\n",
    "        match_value_list.append(match_val)\n",
    "        similar_indices.append(index_df_final)\n",
    "        \n",
    "        #if match_val >= 0.95:\n",
    "            \n",
    "#print('similar_indices: ', similar_indices)\n",
    "        #similar_value.append(similar(row_my_db['Title'], row_df_final['Title']))\n",
    "    #print('similar_vlaue: ', similar_value)\n",
    "        # if row_my_db['Title'] == row_df_final['Title']:\n",
    "         #    df_final.loc[index_df_final, 'available_in_my_db'] = 'yes'"
   ]
  },
  {
   "cell_type": "code",
   "execution_count": null,
   "id": "a1bd481d",
   "metadata": {},
   "outputs": [],
   "source": []
  },
  {
   "cell_type": "code",
   "execution_count": null,
   "id": "7c13df38",
   "metadata": {},
   "outputs": [],
   "source": [
    "df_findl"
   ]
  },
  {
   "cell_type": "code",
   "execution_count": null,
   "id": "00d5ef52",
   "metadata": {},
   "outputs": [],
   "source": [
    "from collections import Counter\n",
    "\n",
    "l = match_value_list\n",
    "Counter(l)#.most_common(1)"
   ]
  },
  {
   "cell_type": "code",
   "execution_count": null,
   "id": "e5409d1a",
   "metadata": {},
   "outputs": [],
   "source": [
    "max(match_value_list)"
   ]
  },
  {
   "cell_type": "code",
   "execution_count": null,
   "id": "f05712dd",
   "metadata": {},
   "outputs": [],
   "source": [
    "ps_str = \"\"\n",
    "substr_2 = 'shes_a_smooth_operator'\n",
    "#df_2[df_2['PS1'].str.contains(substr)]\n",
    "df_my_db[df_my_db['PS1'].str.contains(ps_str) & df_my_db['Title'].str.contains(substr_2)]"
   ]
  },
  {
   "cell_type": "code",
   "execution_count": null,
   "id": "b95529b2",
   "metadata": {},
   "outputs": [],
   "source": [
    "df_my_db[775:780]['Title']"
   ]
  },
  {
   "cell_type": "code",
   "execution_count": null,
   "id": "4b7fe128",
   "metadata": {},
   "outputs": [],
   "source": [
    "df_final.loc[[200, 628, 1290], 'Title']"
   ]
  },
  {
   "cell_type": "code",
   "execution_count": null,
   "id": "c26000fa",
   "metadata": {},
   "outputs": [],
   "source": []
  },
  {
   "cell_type": "code",
   "execution_count": null,
   "id": "5a23066b",
   "metadata": {},
   "outputs": [],
   "source": []
  },
  {
   "cell_type": "code",
   "execution_count": null,
   "id": "69f7cc0f",
   "metadata": {},
   "outputs": [],
   "source": []
  },
  {
   "cell_type": "markdown",
   "id": "62b2baca",
   "metadata": {},
   "source": [
    "Load my bra_db and compare this with the title-occurance within the df_final"
   ]
  },
  {
   "cell_type": "code",
   "execution_count": null,
   "id": "befa40d2",
   "metadata": {},
   "outputs": [],
   "source": []
  },
  {
   "cell_type": "code",
   "execution_count": null,
   "id": "a384cd7d",
   "metadata": {},
   "outputs": [],
   "source": []
  },
  {
   "cell_type": "code",
   "execution_count": null,
   "id": "2413c3de",
   "metadata": {},
   "outputs": [],
   "source": []
  },
  {
   "cell_type": "code",
   "execution_count": null,
   "id": "7b89178f",
   "metadata": {},
   "outputs": [],
   "source": []
  },
  {
   "cell_type": "code",
   "execution_count": null,
   "id": "6af6ae9c",
   "metadata": {},
   "outputs": [],
   "source": []
  },
  {
   "cell_type": "markdown",
   "id": "02c7f81b",
   "metadata": {},
   "source": [
    "### Load the special df of favourite PS... example: jasmine jae"
   ]
  },
  {
   "cell_type": "code",
   "execution_count": null,
   "id": "4ae27373",
   "metadata": {},
   "outputs": [],
   "source": [
    "df_jj = pd.read_csv('df_jj.csv', index_col=[0])\n"
   ]
  },
  {
   "cell_type": "code",
   "execution_count": null,
   "id": "6f357c45-9583-43bc-b39a-f6b9bbfd6590",
   "metadata": {},
   "outputs": [],
   "source": [
    "df_jj.tail()"
   ]
  },
  {
   "cell_type": "markdown",
   "id": "f191422d",
   "metadata": {},
   "source": [
    "Preparation: increase the column of df_jj for availability of the title within the df_final"
   ]
  },
  {
   "cell_type": "code",
   "execution_count": null,
   "id": "87ad5a5a-f449-4e2e-b790-41b5101fa48d",
   "metadata": {},
   "outputs": [],
   "source": [
    "df_jj['df_final_av'] = 'no'"
   ]
  },
  {
   "cell_type": "code",
   "execution_count": null,
   "id": "d623e881-6554-43e0-b712-131423346fa7",
   "metadata": {},
   "outputs": [],
   "source": [
    "# Look at the appearance of the titles in df_jj and df_f\n",
    "for index_jj, row_jj in df_jj.iterrows():\n",
    "    for index_df_f, row_df_f in df_final.iterrows():\n",
    "        if row_df_f['Title'] == row_jj['Title']:\n",
    "            df_jj.loc[index_jj, 'df_final_av'] = 'yes'\n",
    " "
   ]
  },
  {
   "cell_type": "code",
   "execution_count": null,
   "id": "fed4fb66-e9e3-4ede-892d-06fcfae66dd2",
   "metadata": {},
   "outputs": [],
   "source": [
    "df_jj"
   ]
  },
  {
   "cell_type": "code",
   "execution_count": null,
   "id": "3eef76ca-877d-4e2d-b442-d8bcad13fe43",
   "metadata": {},
   "outputs": [],
   "source": [
    "df_jj['df_final_av'].value_counts()"
   ]
  },
  {
   "cell_type": "code",
   "execution_count": null,
   "id": "f752e635-0d25-4bea-9f3d-ef8bab3977be",
   "metadata": {},
   "outputs": [],
   "source": [
    "df_final[df_final['Title']== 'four_hands_to_jerk_the_clerk']"
   ]
  },
  {
   "cell_type": "code",
   "execution_count": null,
   "id": "5802f938-4e26-42ab-8e22-4b781c2ffc72",
   "metadata": {},
   "outputs": [],
   "source": [
    "df_ms = pd.read_csv('df_missing_sites.csv', index_col=[0])"
   ]
  },
  {
   "cell_type": "code",
   "execution_count": null,
   "id": "4f4d3c9f-57cd-4a35-b7f1-c8a99a7d41d1",
   "metadata": {},
   "outputs": [],
   "source": [
    "for index_jj, row_jj in df_jj.iterrows():\n",
    "    for index_df_f, row_df_f in df_ms.iterrows():\n",
    "        if row_df_f['Title'] == row_jj['Title']:\n",
    "            df_jj.loc[index_jj, 'av_in_df_f'] = 'yes'"
   ]
  },
  {
   "cell_type": "markdown",
   "id": "c9350469",
   "metadata": {},
   "source": [
    "***"
   ]
  },
  {
   "cell_type": "markdown",
   "id": "a542d906",
   "metadata": {},
   "source": [
    "### Next step: Load my bra_db and compare this with the PS-occurance and with the complete database..."
   ]
  },
  {
   "cell_type": "code",
   "execution_count": null,
   "id": "3a40d06b",
   "metadata": {},
   "outputs": [],
   "source": [
    "df_my_db = pd.read_csv('df_final_my_db_py.csv', index_col=[0])\n",
    "df_final = pd.read_csv('df_final_inklusive_ms.csv', index_col=[0])"
   ]
  },
  {
   "cell_type": "code",
   "execution_count": null,
   "id": "32e7b96f",
   "metadata": {},
   "outputs": [],
   "source": [
    "title_only = ['_'.join(x.split('_')[:-1]) for x in df_my_db['Title']]"
   ]
  },
  {
   "cell_type": "code",
   "execution_count": null,
   "id": "6491c9fa",
   "metadata": {},
   "outputs": [],
   "source": [
    "df_my_db['Title'] = title_only"
   ]
  },
  {
   "cell_type": "code",
   "execution_count": null,
   "id": "72d163e8",
   "metadata": {},
   "outputs": [],
   "source": [
    "df_my_db_sliced = df_my_db\n"
   ]
  },
  {
   "cell_type": "code",
   "execution_count": null,
   "id": "3ca50ecc",
   "metadata": {},
   "outputs": [],
   "source": [
    "del df_my_db_sliced['Location']\n",
    "del df_my_db_sliced['Link'] "
   ]
  },
  {
   "cell_type": "code",
   "execution_count": null,
   "id": "0c0c1b88",
   "metadata": {},
   "outputs": [],
   "source": [
    "df_my_db"
   ]
  },
  {
   "cell_type": "markdown",
   "id": "86fce3c8",
   "metadata": {},
   "source": [
    "***"
   ]
  },
  {
   "cell_type": "markdown",
   "id": "8c053815",
   "metadata": {},
   "source": [
    "#### Look, which titles of my_db are in the final_df..."
   ]
  },
  {
   "cell_type": "code",
   "execution_count": null,
   "id": "811ad458",
   "metadata": {},
   "outputs": [],
   "source": [
    "df_final['available_in_my_db'] = 'no'"
   ]
  },
  {
   "cell_type": "code",
   "execution_count": null,
   "id": "2c759cc7",
   "metadata": {},
   "outputs": [],
   "source": [
    "for index_df_final, row_df_final in df_final.iloc[:].iterrows():\n",
    "    for index_my_db, row_my_db in df_my_db_sliced.iterrows():\n",
    "        if row_my_db['Title'] == row_df_final['Title']:\n",
    "            df_final.loc[index_df_final, 'available_in_my_db'] = 'yes'"
   ]
  },
  {
   "cell_type": "code",
   "execution_count": null,
   "id": "68afce7c",
   "metadata": {},
   "outputs": [],
   "source": [
    "len(df_final[df_final['available_in_my_db'] == 'yes'])"
   ]
  },
  {
   "cell_type": "code",
   "execution_count": null,
   "id": "2d53562a",
   "metadata": {},
   "outputs": [],
   "source": [
    "len(df_my_db_sliced)"
   ]
  },
  {
   "cell_type": "markdown",
   "id": "699c2567",
   "metadata": {},
   "source": [
    "***"
   ]
  },
  {
   "cell_type": "markdown",
   "id": "d2beb65b",
   "metadata": {},
   "source": [
    "The other way ...."
   ]
  },
  {
   "cell_type": "markdown",
   "id": "6707d368",
   "metadata": {},
   "source": [
    "#### Look, which titles of final_db are in my_db..."
   ]
  },
  {
   "cell_type": "code",
   "execution_count": null,
   "id": "cb56d1fe",
   "metadata": {},
   "outputs": [],
   "source": [
    "df_my_db_sliced['available_in_df_final'] = 'no'"
   ]
  },
  {
   "cell_type": "code",
   "execution_count": null,
   "id": "227ed0b0",
   "metadata": {},
   "outputs": [],
   "source": [
    "# This cost a lot of time. How can I accelerate these two for-loops?\n",
    "# Trying at the bottom....\n",
    "for index_my_db, row_my_db in df_my_db_sliced.iloc[:].iterrows():\n",
    "    for index_df_final, row_df_final in df_final.iterrows():\n",
    "        if row_df_final['Title'] == row_my_db['Title']:\n",
    "            df_my_db_sliced.loc[index_my_db, 'available_in_df_final'] = 'yes'"
   ]
  },
  {
   "cell_type": "markdown",
   "id": "6ee0a93d",
   "metadata": {},
   "source": [
    "***"
   ]
  },
  {
   "cell_type": "markdown",
   "id": "090d8f2f",
   "metadata": {},
   "source": [
    "There is a difference between titles within my_db and df_final, although I guess I have downloaded it."
   ]
  },
  {
   "cell_type": "code",
   "execution_count": null,
   "id": "c02d3c9e",
   "metadata": {},
   "outputs": [],
   "source": [
    "df_my_db_sliced[df_my_db_sliced['available_in_df_final'] == 'no']\n",
    "len(df_my_db_sliced[df_my_db_sliced['available_in_df_final'] == 'no'])"
   ]
  },
  {
   "cell_type": "markdown",
   "id": "88ba133b",
   "metadata": {},
   "source": [
    "looking for instance at jasmine jae...."
   ]
  },
  {
   "cell_type": "code",
   "execution_count": null,
   "id": "4e4b4229",
   "metadata": {},
   "outputs": [],
   "source": [
    "df_temp_1 = df_my_db_sliced[(df_my_db_sliced['PS1'] == 'Jasmine Jae') & (df_my_db_sliced['available_in_df_final'] == 'no')]"
   ]
  },
  {
   "cell_type": "code",
   "execution_count": null,
   "id": "5607ae73",
   "metadata": {},
   "outputs": [],
   "source": [
    "df_temp_2 = df_final[(df_final['PS1'] == 'jasmine_jae') & (df_final['available_in_my_db'] == 'no')]"
   ]
  },
  {
   "cell_type": "code",
   "execution_count": null,
   "id": "6dc30e34",
   "metadata": {},
   "outputs": [],
   "source": [
    "list_df_final = df_temp_2.loc[[2927, 3060, 7925, 7747, 8444], 'Title']"
   ]
  },
  {
   "cell_type": "code",
   "execution_count": null,
   "id": "812d219a",
   "metadata": {},
   "outputs": [],
   "source": [
    "list_my_db = df_temp_1.loc[[320, 321, 1326, 1327, 1468], 'Title']"
   ]
  },
  {
   "cell_type": "code",
   "execution_count": null,
   "id": "c8e23854",
   "metadata": {},
   "outputs": [],
   "source": [
    "df_temp_1"
   ]
  },
  {
   "cell_type": "code",
   "execution_count": null,
   "id": "20d7a699",
   "metadata": {},
   "outputs": [],
   "source": [
    "list_df_final"
   ]
  },
  {
   "cell_type": "code",
   "execution_count": null,
   "id": "8768fff2",
   "metadata": {},
   "outputs": [],
   "source": [
    "sim = []\n",
    "for li1, li2 in zip(list_df_final, list_my_db):\n",
    "    print(li2)\n",
    "    sim.append(similar(li1, li2))"
   ]
  },
  {
   "cell_type": "code",
   "execution_count": null,
   "id": "68aa4ac7",
   "metadata": {},
   "outputs": [],
   "source": [
    "sim"
   ]
  },
  {
   "cell_type": "code",
   "execution_count": null,
   "id": "f736d841",
   "metadata": {},
   "outputs": [],
   "source": [
    "list_my_db = df_temp_1.loc[[320, 321, 1326, 1327, 1468], 'Title']"
   ]
  },
  {
   "cell_type": "code",
   "execution_count": null,
   "id": "403aaead",
   "metadata": {},
   "outputs": [],
   "source": [
    "df_final.columns"
   ]
  },
  {
   "cell_type": "code",
   "execution_count": null,
   "id": "f2204d0a",
   "metadata": {},
   "outputs": [],
   "source": [
    "\n",
    "df_final['Title']"
   ]
  },
  {
   "cell_type": "code",
   "execution_count": null,
   "id": "526017d5",
   "metadata": {},
   "outputs": [],
   "source": []
  },
  {
   "cell_type": "markdown",
   "id": "c947549d",
   "metadata": {},
   "source": [
    "looking at index 1245... for instance."
   ]
  },
  {
   "cell_type": "code",
   "execution_count": null,
   "id": "ff2abd5e",
   "metadata": {},
   "outputs": [],
   "source": [
    "ps_str = \"\"\n",
    "substr_2 = 'the_dick_pic_trick'\n",
    "#df_2[df_2['PS1'].str.contains(substr)]\n",
    "df_my_db[df_my_db['PS1'].str.contains(ps_str) & df_my_db['Title'].str.contains(substr_2)]"
   ]
  },
  {
   "cell_type": "code",
   "execution_count": null,
   "id": "95bfaff1",
   "metadata": {},
   "outputs": [],
   "source": [
    "my_db_list_title_column = [x for x in df_my_db_sliced['Title']]\n",
    "df_final_title_column = [x for x in df_final['Title']]\n",
    "#for index_my_db, row_my_db in df_my_db_sliced.iloc[200:220].iterrows():\n",
    "#    print('row_my_db', row_my_db)"
   ]
  },
  {
   "cell_type": "code",
   "execution_count": null,
   "id": "f3339c06",
   "metadata": {},
   "outputs": [],
   "source": [
    "len(df_final_title_column)"
   ]
  },
  {
   "cell_type": "code",
   "execution_count": null,
   "id": "29cca679",
   "metadata": {},
   "outputs": [],
   "source": [
    "df_final_title_column[-10:]"
   ]
  },
  {
   "cell_type": "code",
   "execution_count": null,
   "id": "8778e52b",
   "metadata": {},
   "outputs": [],
   "source": [
    "list1 = ['little','blue','widget']\n",
    "list2 = ['there','is','a','little','blue','cup','on','the','table']\n",
    "\n",
    "list3 = set(list1) & set(list2)\n",
    "\n",
    "list4 = sorted(list3, key = lambda k : list1.index(k))"
   ]
  },
  {
   "cell_type": "code",
   "execution_count": null,
   "id": "8d34d8f8",
   "metadata": {},
   "outputs": [],
   "source": [
    "list4"
   ]
  },
  {
   "cell_type": "code",
   "execution_count": null,
   "id": "edce649e",
   "metadata": {},
   "outputs": [],
   "source": [
    "from difflib import SequenceMatcher\n",
    "def similar(a, b):\n",
    "    return SequenceMatcher(None, a, b).ratio()"
   ]
  },
  {
   "cell_type": "code",
   "execution_count": null,
   "id": "40a3240f",
   "metadata": {},
   "outputs": [],
   "source": [
    "similar(\"his_best_friend_s_bedding\",\"his_best_friends_bedding\")"
   ]
  },
  {
   "cell_type": "code",
   "execution_count": null,
   "id": "e18935ec",
   "metadata": {},
   "outputs": [],
   "source": [
    "for index_my_db, row_my_db in df_my_db_sliced.iloc[200:400].iterrows():\n",
    "    for index_df_final, row_df_final in df_final.iterrows():\n",
    "        if row_df_final['Title'] == row_my_db['Title']:\n",
    "            df_my_db_sliced.loc[index_my_db, 'available_in_df_final'] = 'yes'"
   ]
  },
  {
   "cell_type": "code",
   "execution_count": null,
   "id": "ebac9fc1",
   "metadata": {},
   "outputs": [],
   "source": [
    "from tqdm import tqdm"
   ]
  },
  {
   "cell_type": "code",
   "execution_count": null,
   "id": "371ca14b",
   "metadata": {},
   "outputs": [],
   "source": [
    "%%time\n",
    "\n",
    "for row in tqdm(my_df.values[:10]):\n",
    "    print('my_df.index[0]', my_df.row.index)\n",
    "    print('row[0]', row[0])\n",
    "    temp = row[0] + row[1]\n",
    "    temp = temp**2\n",
    "    "
   ]
  },
  {
   "cell_type": "code",
   "execution_count": null,
   "id": "5d6923e4",
   "metadata": {},
   "outputs": [],
   "source": [
    "import numpy as np\n",
    "my_df = pd.DataFrame({'col_a': range(1, 10000000), 'col_b': np.sqrt(range(1, 10000000))})"
   ]
  },
  {
   "cell_type": "code",
   "execution_count": null,
   "id": "27d0f4dd",
   "metadata": {},
   "outputs": [],
   "source": [
    "my_df.values"
   ]
  },
  {
   "cell_type": "code",
   "execution_count": null,
   "id": "16c8d70a",
   "metadata": {},
   "outputs": [],
   "source": [
    "my_df"
   ]
  },
  {
   "cell_type": "code",
   "execution_count": null,
   "id": "40bb8ee1",
   "metadata": {},
   "outputs": [],
   "source": [
    "234*12"
   ]
  },
  {
   "cell_type": "code",
   "execution_count": null,
   "id": "4b6f89f8",
   "metadata": {},
   "outputs": [],
   "source": [
    "29566-22943"
   ]
  },
  {
   "cell_type": "code",
   "execution_count": null,
   "id": "ac30e777",
   "metadata": {},
   "outputs": [],
   "source": []
  }
 ],
 "metadata": {
  "kernelspec": {
   "display_name": "python38",
   "language": "python",
   "name": "python38"
  },
  "language_info": {
   "codemirror_mode": {
    "name": "ipython",
    "version": 3
   },
   "file_extension": ".py",
   "mimetype": "text/x-python",
   "name": "python",
   "nbconvert_exporter": "python",
   "pygments_lexer": "ipython3",
   "version": "3.8.8"
  }
 },
 "nbformat": 4,
 "nbformat_minor": 5
}
