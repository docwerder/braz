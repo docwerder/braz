{
 "cells": [
  {
   "cell_type": "code",
   "execution_count": 41,
   "id": "163d4313-11f0-49bb-a0bd-162722d69a28",
   "metadata": {},
   "outputs": [],
   "source": [
    "import pandas as pd\n",
    "import math"
   ]
  },
  {
   "cell_type": "code",
   "execution_count": 4,
   "id": "9f5c0684-49e8-4794-8734-f3b948a5f6d2",
   "metadata": {},
   "outputs": [],
   "source": [
    "db_sites = ['https://www.brazzers.com/videos/site/79/asses-in-public/sortby/views/page/',\n",
    "            'https://www.brazzers.com/videos/site/96/brazzers-exxtra/sortby/views/page/',\n",
    "            'https://www.brazzers.com/videos/site/82/big-butts-like-it-big/sortby/views/page/',\n",
    "            'https://www.brazzers.com/videos/site/66/baby-got-boobs/sortby/views/page/',\n",
    "            'https://www.brazzers.com/videos/site/75/big-tits-at-school/sortby/views/page/',\n",
    "            'https://www.brazzers.com/videos/site/71/big-tits-at-work/sortby/views/page/',\n",
    "            'https://www.brazzers.com/videos/site/83/big-tits-in-sports/sortby/views/page/',\n",
    "            'https://www.brazzers.com/videos/site/89/big-tits-in-uniform/sortby/views/page/',\n",
    "            'https://www.brazzers.com/videos/site/60/busty-real/sortby/views/page/', \n",
    "            'https://www.brazzers.com/videos/site/63/bustyz/sortby/views/page/',\n",
    "            'https://www.brazzers.com/videos/site/65/big-wet-butts/sortby/views/page/',\n",
    "            'https://www.brazzers.com/videos/site/84/brazzers-vault/sortby/views/page/',\n",
    "            'https://www.brazzers.com/videos/site/98/cfnm/sortby/views/page/',\n",
    "            'https://www.brazzers.com/videos/site/62/doctor-adventures/sortby/views/page/',\n",
    "            'https://www.brazzers.com/videos/site/94/dirty-masseur/sortby/views/page/',\n",
    "            'https://www.brazzers.com/videos/site/87/day-with-a-pornstar/views/page/',\n",
    "            'https://www.brazzers.com/videos/site/90/hot-and-mean/sortby/views/page/',\n",
    "            'https://www.brazzers.com/videos/site/64/hot-chicks-big-asses/sortby/views/page/',\n",
    "            'https://www.brazzers.com/videos/site/69/jug-fuckers/sortby/views/page/',\n",
    "            'https://www.brazzers.com/videos/site/67/mommy-got-boobs/sortby/views/page/',\n",
    "            'https://www.brazzers.com/videos/site/99/moms-in-control/sortby/views/page/',\n",
    "            'https://www.brazzers.com/videos/site/78/milfs-like-it-big/sortby/views/page/',\n",
    "            'https://www.brazzers.com/videos/site/77/pornstars-like-it-big/sortby/views/page/',\n",
    "            'https://www.brazzers.com/videos/site/81/real-wife-stories/sortby/views/page/',\n",
    "            'https://www.brazzers.com/videos/site/76/sex-pro-adventures/sortby/views/page/',\n",
    "            'https://www.brazzers.com/videos/site/95/shes-gonna-squirt/sortby/views/page/',\n",
    "            'https://www.brazzers.com/videos/site/80/teens-like-it-big/sortby/views/page/',\n",
    "            'https://www.brazzers.com/videos/site/92/zz-series/sortby/views/page/'\n",
    "            ]"
   ]
  },
  {
   "cell_type": "code",
   "execution_count": 45,
   "id": "6b8a9b36-37a2-4b79-9f05-c7481878b2d8",
   "metadata": {},
   "outputs": [
    {
     "ename": "TypeError",
     "evalue": "int() argument must be a string, a bytes-like object or a number, not 'list'",
     "output_type": "error",
     "traceback": [
      "\u001b[0;31m---------------------------------------------------------------------------\u001b[0m",
      "\u001b[0;31mTypeError\u001b[0m                                 Traceback (most recent call last)",
      "Input \u001b[0;32mIn [45]\u001b[0m, in \u001b[0;36m<cell line: 1>\u001b[0;34m()\u001b[0m\n\u001b[0;32m----> 1\u001b[0m math\u001b[38;5;241m.\u001b[39mceil(\u001b[38;5;28;43mint\u001b[39;49m\u001b[43m(\u001b[49m\u001b[43mlen_of_sites\u001b[49m\u001b[43m[\u001b[49m\u001b[38;5;241;43m8\u001b[39;49m\u001b[43m:\u001b[49m\u001b[38;5;241;43m10\u001b[39;49m\u001b[43m]\u001b[49m\u001b[43m)\u001b[49m \u001b[38;5;241m/\u001b[39m\u001b[38;5;241m24\u001b[39m)\n",
      "\u001b[0;31mTypeError\u001b[0m: int() argument must be a string, a bytes-like object or a number, not 'list'"
     ]
    }
   ],
   "source": [
    "math.ceil(int(len_of_sites[8:10]) /24)"
   ]
  },
  {
   "cell_type": "code",
   "execution_count": 48,
   "id": "5952b45f-6666-4aa5-ac84-e43318555b7c",
   "metadata": {},
   "outputs": [
    {
     "data": {
      "text/plain": [
       "['10', '21']"
      ]
     },
     "execution_count": 48,
     "metadata": {},
     "output_type": "execute_result"
    }
   ],
   "source": [
    "len_of_sites[8:10]"
   ]
  },
  {
   "cell_type": "code",
   "execution_count": 5,
   "id": "48c2bf41-adca-4744-85cc-760262576460",
   "metadata": {},
   "outputs": [],
   "source": [
    "len_of_sites = ['14', '1447', '338', '530', '502', '587', '212', '149', '10', '21', '580', '95', '13', '547',\n",
    "                '369', '196', '617', '10', '7', '573', '116', '574', '649', '659', '1', '46', '559', '119']"
   ]
  },
  {
   "cell_type": "code",
   "execution_count": 6,
   "id": "9ffca6c1-6025-4dec-914d-d2235316be87",
   "metadata": {},
   "outputs": [],
   "source": [
    "page_content_db = pd.DataFrame()\n",
    "page_number_db = {}\n",
    "page_content_tmp = {}\n",
    "page_columns = []\n",
    "ps1_db = pd.DataFrame()\n",
    "ps2_db = {}\n",
    "title_db = {}\n",
    "db_site_name = pd.DataFrame()"
   ]
  },
  {
   "cell_type": "code",
   "execution_count": 61,
   "id": "18321067-abbe-42d6-9d56-f2e303948b41",
   "metadata": {},
   "outputs": [
    {
     "name": "stdout",
     "output_type": "stream",
     "text": [
      "actual_site:  https://www.brazzers.com/videos/site/60/busty-real/sortby/views/page/1\n",
      "actual_site:  https://www.brazzers.com/videos/site/63/bustyz/sortby/views/page/1\n",
      "actual_site:  https://www.brazzers.com/videos/site/65/big-wet-butts/sortby/views/page/1\n",
      "actual_site:  https://www.brazzers.com/videos/site/65/big-wet-butts/sortby/views/page/2\n",
      "actual_site:  https://www.brazzers.com/videos/site/65/big-wet-butts/sortby/views/page/3\n",
      "actual_site:  https://www.brazzers.com/videos/site/65/big-wet-butts/sortby/views/page/4\n",
      "actual_site:  https://www.brazzers.com/videos/site/65/big-wet-butts/sortby/views/page/5\n",
      "actual_site:  https://www.brazzers.com/videos/site/65/big-wet-butts/sortby/views/page/6\n",
      "actual_site:  https://www.brazzers.com/videos/site/65/big-wet-butts/sortby/views/page/7\n",
      "actual_site:  https://www.brazzers.com/videos/site/65/big-wet-butts/sortby/views/page/8\n",
      "actual_site:  https://www.brazzers.com/videos/site/65/big-wet-butts/sortby/views/page/9\n",
      "actual_site:  https://www.brazzers.com/videos/site/65/big-wet-butts/sortby/views/page/10\n",
      "actual_site:  https://www.brazzers.com/videos/site/65/big-wet-butts/sortby/views/page/11\n",
      "actual_site:  https://www.brazzers.com/videos/site/65/big-wet-butts/sortby/views/page/12\n",
      "actual_site:  https://www.brazzers.com/videos/site/65/big-wet-butts/sortby/views/page/13\n",
      "actual_site:  https://www.brazzers.com/videos/site/65/big-wet-butts/sortby/views/page/14\n",
      "actual_site:  https://www.brazzers.com/videos/site/65/big-wet-butts/sortby/views/page/15\n",
      "actual_site:  https://www.brazzers.com/videos/site/65/big-wet-butts/sortby/views/page/16\n",
      "actual_site:  https://www.brazzers.com/videos/site/65/big-wet-butts/sortby/views/page/17\n",
      "actual_site:  https://www.brazzers.com/videos/site/65/big-wet-butts/sortby/views/page/18\n",
      "actual_site:  https://www.brazzers.com/videos/site/65/big-wet-butts/sortby/views/page/19\n",
      "actual_site:  https://www.brazzers.com/videos/site/65/big-wet-butts/sortby/views/page/20\n",
      "actual_site:  https://www.brazzers.com/videos/site/65/big-wet-butts/sortby/views/page/21\n",
      "actual_site:  https://www.brazzers.com/videos/site/65/big-wet-butts/sortby/views/page/22\n",
      "actual_site:  https://www.brazzers.com/videos/site/65/big-wet-butts/sortby/views/page/23\n",
      "actual_site:  https://www.brazzers.com/videos/site/65/big-wet-butts/sortby/views/page/24\n",
      "actual_site:  https://www.brazzers.com/videos/site/65/big-wet-butts/sortby/views/page/25\n",
      "actual_site:  https://www.brazzers.com/videos/site/84/brazzers-vault/sortby/views/page/1\n",
      "actual_site:  https://www.brazzers.com/videos/site/84/brazzers-vault/sortby/views/page/2\n",
      "actual_site:  https://www.brazzers.com/videos/site/84/brazzers-vault/sortby/views/page/3\n",
      "actual_site:  https://www.brazzers.com/videos/site/84/brazzers-vault/sortby/views/page/4\n",
      "actual_site:  https://www.brazzers.com/videos/site/98/cfnm/sortby/views/page/1\n"
     ]
    }
   ],
   "source": [
    "for site, number in zip(db_sites[8:13], len_of_sites[8:13]):\n",
    "    #print('site: ', site)\n",
    "    max_page_number = math.ceil(int(number) / 24)\n",
    "    #print('max_page_number: ', max_page_number)\n",
    "    \n",
    "    for page_nr in range(1, max_page_number+1):\n",
    "        actual_site = site + str(page_nr)\n",
    "        print('actual_site: ', actual_site)\n",
    "    \n",
    "    #for site_number in len_of_sites[8:10]:\n",
    "    #    tmp = range(1, int(site_number) + 1)          \n",
    "    #    for lx in tmp:\n",
    "    #        # print('lx: ', lx)\n",
    "    #        actual_site = site + str(lx)\n",
    "            \n"
   ]
  },
  {
   "cell_type": "code",
   "execution_count": 19,
   "id": "d554c911-92ed-4e0d-ba05-10c9c38f25bd",
   "metadata": {},
   "outputs": [],
   "source": [
    "x = range(int('6'))"
   ]
  },
  {
   "cell_type": "code",
   "execution_count": 20,
   "id": "1b534f6d-f137-4e4c-86b5-d490cf891996",
   "metadata": {},
   "outputs": [
    {
     "name": "stdout",
     "output_type": "stream",
     "text": [
      "0\n",
      "1\n",
      "2\n",
      "3\n",
      "4\n",
      "5\n"
     ]
    }
   ],
   "source": [
    "for gh in x:\n",
    "    print(gh)"
   ]
  },
  {
   "cell_type": "code",
   "execution_count": 54,
   "id": "983aec02-65d8-4138-bac7-09c8d6cb9748",
   "metadata": {},
   "outputs": [
    {
     "name": "stdout",
     "output_type": "stream",
     "text": [
      "site:  https://www.brazzers.com/videos/site/60/busty-real/sortby/views/page/\n",
      "number:  1\n",
      "site:  https://www.brazzers.com/videos/site/63/bustyz/sortby/views/page/\n",
      "number:  1\n",
      "site:  https://www.brazzers.com/videos/site/65/big-wet-butts/sortby/views/page/\n",
      "number:  25\n",
      "site:  https://www.brazzers.com/videos/site/84/brazzers-vault/sortby/views/page/\n",
      "number:  4\n"
     ]
    }
   ],
   "source": [
    "for site, number in zip(db_sites[8:12], len_of_sites[8:12]):\n",
    "    print('site: ', site)\n",
    "    max_page_number = math.ceil(int(number) / 24)\n",
    "    print('number: ', max_page_number)\n",
    "#    for site_number in len_of_sites[8:10]:\n",
    "#        tmp = range(1, int(site_number) + "
   ]
  },
  {
   "cell_type": "code",
   "execution_count": null,
   "id": "d822eb18-6b89-4236-89ea-50425f3fd4e0",
   "metadata": {},
   "outputs": [],
   "source": []
  }
 ],
 "metadata": {
  "kernelspec": {
   "display_name": "Python 3 (ipykernel)",
   "language": "python",
   "name": "python3"
  },
  "language_info": {
   "codemirror_mode": {
    "name": "ipython",
    "version": 3
   },
   "file_extension": ".py",
   "mimetype": "text/x-python",
   "name": "python",
   "nbconvert_exporter": "python",
   "pygments_lexer": "ipython3",
   "version": "3.8.12"
  }
 },
 "nbformat": 4,
 "nbformat_minor": 5
}
