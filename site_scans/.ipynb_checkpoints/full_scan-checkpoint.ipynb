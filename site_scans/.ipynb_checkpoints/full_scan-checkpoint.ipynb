{
 "cells": [
  {
   "cell_type": "code",
   "execution_count": 2,
   "id": "163d4313-11f0-49bb-a0bd-162722d69a28",
   "metadata": {},
   "outputs": [],
   "source": [
    "import pandas as pd\n",
    "import math\n",
    "import sys\n",
    "sys.path.append('/Users/joerg/repos/braz')\n",
    "from utilities_functions import scan_func"
   ]
  },
  {
   "cell_type": "code",
   "execution_count": 3,
   "id": "826037ba-6a08-4d65-8879-b778ae3a8263",
   "metadata": {},
   "outputs": [],
   "source": [
    "# To run all commands within one cell:\n",
    "from IPython.core.interactiveshell import InteractiveShell\n",
    "InteractiveShell.ast_node_interactivity = \"all\"\n",
    "\n",
    "# default behaviour:\n",
    "# InteractiveShell.ast_node_interactivity = \"last_expr\""
   ]
  },
  {
   "cell_type": "code",
   "execution_count": 4,
   "id": "9f5c0684-49e8-4794-8734-f3b948a5f6d2",
   "metadata": {},
   "outputs": [],
   "source": [
    "db_sites = ['https://www.brazzers.com/videos/site/79/asses-in-public/sortby/views/page/',\n",
    "            'https://www.brazzers.com/videos/site/96/brazzers-exxtra/sortby/views/page/',\n",
    "            'https://www.brazzers.com/videos/site/82/big-butts-like-it-big/sortby/views/page/',\n",
    "            'https://www.brazzers.com/videos/site/66/baby-got-boobs/sortby/views/page/',\n",
    "            'https://www.brazzers.com/videos/site/75/big-tits-at-school/sortby/views/page/',\n",
    "            'https://www.brazzers.com/videos/site/71/big-tits-at-work/sortby/views/page/',\n",
    "            'https://www.brazzers.com/videos/site/83/big-tits-in-sports/sortby/views/page/',\n",
    "            'https://www.brazzers.com/videos/site/89/big-tits-in-uniform/sortby/views/page/',\n",
    "            'https://www.brazzers.com/videos/site/60/busty-real/sortby/views/page/', \n",
    "            'https://www.brazzers.com/videos/site/65/big-wet-butts/sortby/views/page/',\n",
    "            'https://www.brazzers.com/videos/site/84/brazzers-vault/sortby/views/page/',\n",
    "            'https://www.brazzers.com/videos/site/98/cfnm/sortby/views/page/',\n",
    "            'https://www.brazzers.com/videos/site/62/doctor-adventures/sortby/views/page/',\n",
    "            'https://www.brazzers.com/videos/site/94/dirty-masseur/sortby/views/page/',\n",
    "            'https://www.brazzers.com/videos/site/87/day-with-a-pornstar/views/page/',\n",
    "            'https://www.brazzers.com/videos/site/90/hot-and-mean/sortby/views/page/',\n",
    "            'https://www.brazzers.com/videos/site/64/hot-chicks-big-asses/sortby/views/page/',\n",
    "            'https://www.brazzers.com/videos/site/69/jug-fuckers/sortby/views/page/',\n",
    "            'https://www.brazzers.com/videos/site/67/mommy-got-boobs/sortby/views/page/',\n",
    "            'https://www.brazzers.com/videos/site/99/moms-in-control/sortby/views/page/',\n",
    "            'https://www.brazzers.com/videos/site/78/milfs-like-it-big/sortby/views/page/',\n",
    "            'https://www.brazzers.com/videos/site/77/pornstars-like-it-big/sortby/views/page/',\n",
    "            'https://www.brazzers.com/videos/site/81/real-wife-stories/sortby/views/page/',\n",
    "            'https://www.brazzers.com/videos/site/76/sex-pro-adventures/sortby/views/page/',\n",
    "            'https://www.brazzers.com/videos/site/95/shes-gonna-squirt/sortby/views/page/',\n",
    "            'https://www.brazzers.com/videos/site/80/teens-like-it-big/sortby/views/page/',\n",
    "            'https://www.brazzers.com/videos/site/92/zz-series/sortby/views/page/'\n",
    "            ]"
   ]
  },
  {
   "cell_type": "code",
   "execution_count": 15,
   "id": "33679a10-ab71-436e-95d3-7a4ed92a52bf",
   "metadata": {},
   "outputs": [
    {
     "data": {
      "text/plain": [
       "27"
      ]
     },
     "execution_count": 15,
     "metadata": {},
     "output_type": "execute_result"
    }
   ],
   "source": [
    "len(db_sites)"
   ]
  },
  {
   "cell_type": "code",
   "execution_count": null,
   "id": "bfb65da5-a181-4e16-ba94-a678edb30045",
   "metadata": {},
   "outputs": [],
   "source": [
    "# 'https://www.brazzers.com/videos/site/63/bustyz/sortby/views/page/' len = 21 nach '10' und vor '580' rausgenommen!"
   ]
  },
  {
   "cell_type": "code",
   "execution_count": 16,
   "id": "7c4c912e-2e4d-4fa2-b7aa-4faf56799f60",
   "metadata": {},
   "outputs": [],
   "source": [
    "# Chose the destict sites for scanning\n",
    "\n",
    "indexes = [1, 2, 3, 4, 5, 6, 7, 9, 10, 12, 13, 14, 15, 18, 19, 20, 21, 22, 24, 25, 26]\n",
    "chosen_sites = [db_sites[x] for x in indexes]"
   ]
  },
  {
   "cell_type": "code",
   "execution_count": 17,
   "id": "725d9610-9908-4152-9314-ff0dff78ce63",
   "metadata": {},
   "outputs": [
    {
     "data": {
      "text/plain": [
       "['https://www.brazzers.com/videos/site/96/brazzers-exxtra/sortby/views/page/',\n",
       " 'https://www.brazzers.com/videos/site/82/big-butts-like-it-big/sortby/views/page/',\n",
       " 'https://www.brazzers.com/videos/site/66/baby-got-boobs/sortby/views/page/',\n",
       " 'https://www.brazzers.com/videos/site/75/big-tits-at-school/sortby/views/page/',\n",
       " 'https://www.brazzers.com/videos/site/71/big-tits-at-work/sortby/views/page/',\n",
       " 'https://www.brazzers.com/videos/site/83/big-tits-in-sports/sortby/views/page/',\n",
       " 'https://www.brazzers.com/videos/site/89/big-tits-in-uniform/sortby/views/page/',\n",
       " 'https://www.brazzers.com/videos/site/65/big-wet-butts/sortby/views/page/',\n",
       " 'https://www.brazzers.com/videos/site/84/brazzers-vault/sortby/views/page/',\n",
       " 'https://www.brazzers.com/videos/site/62/doctor-adventures/sortby/views/page/',\n",
       " 'https://www.brazzers.com/videos/site/94/dirty-masseur/sortby/views/page/',\n",
       " 'https://www.brazzers.com/videos/site/87/day-with-a-pornstar/views/page/',\n",
       " 'https://www.brazzers.com/videos/site/90/hot-and-mean/sortby/views/page/',\n",
       " 'https://www.brazzers.com/videos/site/67/mommy-got-boobs/sortby/views/page/',\n",
       " 'https://www.brazzers.com/videos/site/99/moms-in-control/sortby/views/page/',\n",
       " 'https://www.brazzers.com/videos/site/78/milfs-like-it-big/sortby/views/page/',\n",
       " 'https://www.brazzers.com/videos/site/77/pornstars-like-it-big/sortby/views/page/',\n",
       " 'https://www.brazzers.com/videos/site/81/real-wife-stories/sortby/views/page/',\n",
       " 'https://www.brazzers.com/videos/site/95/shes-gonna-squirt/sortby/views/page/',\n",
       " 'https://www.brazzers.com/videos/site/80/teens-like-it-big/sortby/views/page/',\n",
       " 'https://www.brazzers.com/videos/site/92/zz-series/sortby/views/page/']"
      ]
     },
     "execution_count": 17,
     "metadata": {},
     "output_type": "execute_result"
    }
   ],
   "source": [
    "chosen_sites"
   ]
  },
  {
   "cell_type": "code",
   "execution_count": 18,
   "id": "e0bfe1b9-e85a-428d-87d6-fb247a3f150e",
   "metadata": {},
   "outputs": [
    {
     "data": {
      "text/plain": [
       "21"
      ]
     },
     "execution_count": 18,
     "metadata": {},
     "output_type": "execute_result"
    }
   ],
   "source": [
    "len(chosen_sites)"
   ]
  },
  {
   "cell_type": "markdown",
   "id": "76bc363f-2390-495d-b4c5-c412a718b69a",
   "metadata": {},
   "source": [
    "***"
   ]
  },
  {
   "cell_type": "code",
   "execution_count": 19,
   "id": "2bef9a17-782a-42c7-abb6-e394b1cff3c0",
   "metadata": {},
   "outputs": [],
   "source": [
    "# Missing sites..\n",
    "missing_sites = ['https://www.brazzers.com/videos/site/79/asses-in-public/sortby/views/page/', 'https://www.brazzers.com/videos/site/60/busty-real/sortby/views/page/',\n",
    "                 'https://www.brazzers.com/videos/site/98/cfnm/sortby/views/page/', 'https://www.brazzers.com/videos/site/64/hot-chicks-big-asses/sortby/views/page/', 'https://www.brazzers.com/videos/site/69/jug-fuckers/sortby/views/page/',\n",
    "                 'https://www.brazzers.com/videos/site/76/sex-pro-adventures/sortby/views/page/', \n",
    "                ]"
   ]
  },
  {
   "cell_type": "code",
   "execution_count": 20,
   "id": "fcf0ea7c-6435-454d-94bc-614616a6111b",
   "metadata": {},
   "outputs": [
    {
     "data": {
      "text/plain": [
       "6"
      ]
     },
     "execution_count": 20,
     "metadata": {},
     "output_type": "execute_result"
    }
   ],
   "source": [
    "len(missing_sites)"
   ]
  },
  {
   "cell_type": "code",
   "execution_count": null,
   "id": "95760192-286c-45b1-9956-6912392d2ea7",
   "metadata": {},
   "outputs": [],
   "source": []
  },
  {
   "cell_type": "code",
   "execution_count": 32,
   "id": "644aa762-3364-4365-bf05-a96617654f2c",
   "metadata": {},
   "outputs": [
    {
     "name": "stdout",
     "output_type": "stream",
     "text": [
      "scanning Site: https://www.brazzers.com/videos/site/96/brazzers-exxtra/sortby/views/page/1, Response: <Response [200]>\n",
      "['/videos/site/96/brazzers-exxtra/sortby/views/page/2/', '/videos/site/96/brazzers-exxtra/sortby/views/page/3/', '/videos/site/96/brazzers-exxtra/sortby/views/page/4/', '/videos/site/96/brazzers-exxtra/sortby/views/page/5/', '/videos/site/96/brazzers-exxtra/sortby/views/page/2/', '/videos/site/96/brazzers-exxtra/sortby/views/page/62/']\n",
      "max_page_len_of_sites:  ['62']\n"
     ]
    }
   ],
   "source": [
    "# Determination of the maximum number of pages\n",
    "max_page_len_of_sites = list()\n",
    "\n",
    "for lf_root in chosen_sites[:1]:\n",
    "    db_page_tmp_2 = scan_func(lf_root + str(1))\n",
    "    #print(db_page_tmp_2)\n",
    "    tmp_var = [i for i in db_page_tmp_2 if i.startswith('/videos/site/')]\n",
    "    print(tmp_var)\n",
    "    max_page_number = tmp_var[-1].split('/')[-2]\n",
    "    \n",
    "    max_page_len_of_sites.append(max_page_number)\n",
    "\n",
    "print('max_page_len_of_sites: ', max_page_len_of_sites)"
   ]
  },
  {
   "cell_type": "code",
   "execution_count": null,
   "id": "1af66068-5c61-434e-be50-81afad83fb3a",
   "metadata": {},
   "outputs": [],
   "source": [
    "chosen_sites[1]"
   ]
  },
  {
   "cell_type": "code",
   "execution_count": null,
   "id": "bbb08ad5-c0b2-4869-a914-4242968715fd",
   "metadata": {},
   "outputs": [],
   "source": [
    "max_page_len_of_sites[1:3]"
   ]
  },
  {
   "cell_type": "code",
   "execution_count": null,
   "id": "147edbda-8f01-46cf-bb5b-73e83188395b",
   "metadata": {},
   "outputs": [],
   "source": [
    "# len_of_sites = ['14', '1447', '338', '530', '502', '587', '212', '149', '10', '580', '95', '13', '547',\n",
    "#                 '369', '196', '617', '10', '7', '573', '116', '574', '649', '659', '1', '46', '559', '119']"
   ]
  },
  {
   "cell_type": "code",
   "execution_count": null,
   "id": "62623cc3-9153-4a47-91cc-153de45a4633",
   "metadata": {},
   "outputs": [],
   "source": [
    "pd.set_option('display.max_rows', 1000)"
   ]
  },
  {
   "cell_type": "code",
   "execution_count": null,
   "id": "9ffca6c1-6025-4dec-914d-d2235316be87",
   "metadata": {},
   "outputs": [],
   "source": [
    "# page_content_db = pd.DataFrame()\n",
    "# page_number_db = {}\n",
    "# page_content_tmp = {}\n",
    "# page_columns = []\n",
    "# ps1_db = pd.DataFrame()\n",
    "# ps2_db = {}\n",
    "# title_db = {}\n",
    "# db_actual_site_name = pd.DataFrame()\n",
    "# db_actual_site_name_sliced = pd.DataFrame()"
   ]
  },
  {
   "cell_type": "code",
   "execution_count": null,
   "id": "18321067-abbe-42d6-9d56-f2e303948b41",
   "metadata": {},
   "outputs": [],
   "source": [
    "page_content_db = pd.DataFrame()\n",
    "page_number_db = {}\n",
    "page_content_tmp = {}\n",
    "page_columns = []\n",
    "ps1_db = pd.DataFrame()\n",
    "ps2_db = {}\n",
    "title_db = {}\n",
    "db_actual_site_name = pd.DataFrame()\n",
    "db_final_tmp = pd.DataFrame()\n",
    "db_actual_site_name_sliced = pd.DataFrame()\n",
    "\n",
    "# Determination of the maximum number of pages\n",
    "# for lf_root in db_sites[12:13]:\n",
    "#     db_page_tmp_2 = scan_func(lf_root)\n",
    "#     db_page_tmp_2 = [i for i in db_page_tmp if i.startswith('/videos/site/')]\n",
    "#         print('db_page_tmp: ', db_page_tmp_2)\n",
    "\n",
    "        \n",
    "        \n",
    "for root_site, number in zip(chosen_sites, max_page_len_of_sites):\n",
    "    print('max..' , number)\n",
    "  \n",
    "\n",
    "    # max_page_number = math.ceil(int(number) / 24)\n",
    "       \n",
    "    for page_nr in range(1, int(number) + 1):\n",
    "        # print('page_nr: ', page_nr)\n",
    "        actual_site = root_site + str(page_nr)\n",
    "        site_name = actual_site.split('/')[-5].replace('-', ' ').title()\n",
    "            \n",
    "        print('site_name: ', site_name)\n",
    "        db_page_tmp = scan_func(actual_site)\n",
    "        db_page_video = [i for i in db_page_tmp if i.startswith('/video/')]\n",
    "        \n",
    "        db_page_ps = [i for i in db_page_tmp if i.startswith('/pornstar/')]\n",
    "        ps1 = [h.split('/')[-1].replace('-','_') for h in db_page_ps[::2]]\n",
    "        ps2 = [h.split('/')[-1].replace('-', '_') for h in db_page_ps[1::2]]\n",
    "        \n",
    "        title = [h.split('/')[-1].replace('-', '_') for h in db_page_video[::2]]\n",
    "        #print('title: ', title)\n",
    "        site_tmp = [site_name]\n",
    "        #print('site_tmp: ', site_name)\n",
    "        site = list(site_tmp) * 24\n",
    "        #print('site: ', site)\n",
    "        \n",
    "        \n",
    "        ps1_db = pd.DataFrame(ps1)\n",
    "        ps2_db = pd.DataFrame(ps2)\n",
    "        title_db = pd.DataFrame(title)\n",
    "        site_db = pd.DataFrame(site)\n",
    "        \n",
    "        db_all_tmp = pd.concat([site_db, ps1_db, ps2_db, title_db], axis=1)\n",
    "        custom_cols = ['Site', 'PS1', 'PS2', 'Title']\n",
    "        #print('db_all_tmp: ', db_all_tmp)\n",
    "        db_all_tmp.columns = custom_cols\n",
    "        db_actual_site_name = pd.concat([db_actual_site_name, db_all_tmp])\n",
    "        #print('db_all_tmp: ', db_all_tmp)\n",
    "        #print('db_actual_site_name:\\n ', db_actual_site_name)\n",
    "\n",
    "    df_tmp = db_actual_site_name\n",
    "    #print('df_tmp: ', db_actual_site_name)\n",
    "    \n",
    "df_1_tmp = db_actual_site_name"
   ]
  },
  {
   "cell_type": "code",
   "execution_count": null,
   "id": "6ddb36a5-2b88-42c9-9b8d-908fc105b38a",
   "metadata": {},
   "outputs": [],
   "source": [
    "df = df_1_tmp.reset_index()\n",
    "del df['index']\n",
    "pd.set_option('display.max_rows', 1000)"
   ]
  },
  {
   "cell_type": "code",
   "execution_count": null,
   "id": "86d4da0c-73d5-4fde-be1c-73dacc4e4666",
   "metadata": {},
   "outputs": [],
   "source": [
    "df.to_csv('final_df_tmp.csv')"
   ]
  },
  {
   "cell_type": "code",
   "execution_count": null,
   "id": "00a5a30b-6f63-4263-b138-2ce219f3ae5d",
   "metadata": {},
   "outputs": [],
   "source": [
    "df.to_csv('final_df_tmp.csv')"
   ]
  },
  {
   "cell_type": "markdown",
   "id": "ea3f4ade-ad0e-459c-8a29-985801f3cb0f",
   "metadata": {},
   "source": [
    "***"
   ]
  },
  {
   "cell_type": "code",
   "execution_count": 23,
   "id": "68aae60d-23d6-407a-a19d-f399cfd206f8",
   "metadata": {},
   "outputs": [],
   "source": [
    "# If its necessary!\n",
    "df = pd.read_csv('final_df_tmp.csv', index_col=[0])"
   ]
  },
  {
   "cell_type": "code",
   "execution_count": 24,
   "id": "0d155869-40a0-486f-94f0-389012ccb654",
   "metadata": {},
   "outputs": [],
   "source": [
    "import copy\n",
    "df_2 = copy.deepcopy(df)"
   ]
  },
  {
   "cell_type": "code",
   "execution_count": 25,
   "id": "6c2f107e-e4d7-4b73-9afb-1e267605b31a",
   "metadata": {},
   "outputs": [],
   "source": [
    "# Take all cells at columns \"PS1\" which are not NaN!\n",
    "df_2 = df_2[df_2['PS1'].notna()]"
   ]
  },
  {
   "cell_type": "code",
   "execution_count": 26,
   "id": "99241798-d5b7-4f4c-8713-0efaed42d26e",
   "metadata": {},
   "outputs": [],
   "source": [
    "# Some rows contains NaN value at column 'PS2'...\n",
    "# df[df['PS2'].isna()]\n",
    "# IMPORTANT: Manipulate only df_2!!!\n",
    "df_2['PS2'] = df_2['PS2'].fillna('no_name')"
   ]
  },
  {
   "cell_type": "code",
   "execution_count": 27,
   "id": "c0db2e1b-9220-4192-8888-cba4f7d81a08",
   "metadata": {},
   "outputs": [
    {
     "data": {
      "text/plain": [
       "Site           Brazzers Exxtra\n",
       "PS1               charles_dera\n",
       "PS2                    no_name\n",
       "Title    creeping_in_her_crypt\n",
       "Name: 1439, dtype: object"
      ]
     },
     "execution_count": 27,
     "metadata": {},
     "output_type": "execute_result"
    }
   ],
   "source": [
    "# for example: to see whether the function are correct!\n",
    "df_2.iloc[1439]# , 'PS2']\n",
    "# df[(df['Site'] == 'Big Butts Like It Big') & (df['PS1'] == 'jasmine_black')].index.values.item()\n"
   ]
  },
  {
   "cell_type": "code",
   "execution_count": 28,
   "id": "b484d585-bcfb-4c47-9f97-35d40505ac4f",
   "metadata": {},
   "outputs": [
    {
     "data": {
      "text/html": [
       "<div><div id=ea7b8b47-b0a0-41b7-ae43-71eb7e808b00 style=\"display:none; background-color:#9D6CFF; color:white; width:200px; height:30px; padding-left:5px; border-radius:4px; flex-direction:row; justify-content:space-around; align-items:center;\" onmouseover=\"this.style.backgroundColor='#BA9BF8'\" onmouseout=\"this.style.backgroundColor='#9D6CFF'\" onclick=\"window.commands?.execute('create-mitosheet-from-dataframe-output');\">See Full Dataframe in Mito</div> <script> if (window.commands.hasCommand('create-mitosheet-from-dataframe-output')) document.getElementById('ea7b8b47-b0a0-41b7-ae43-71eb7e808b00').style.display = 'flex' </script> <table border=\"1\" class=\"dataframe\">\n",
       "  <thead>\n",
       "    <tr style=\"text-align: right;\">\n",
       "      <th></th>\n",
       "      <th>Site</th>\n",
       "      <th>PS1</th>\n",
       "      <th>PS2</th>\n",
       "      <th>Title</th>\n",
       "    </tr>\n",
       "  </thead>\n",
       "  <tbody>\n",
       "    <tr>\n",
       "      <th>9690</th>\n",
       "      <td>Zz Series</td>\n",
       "      <td>riley_reid</td>\n",
       "      <td>mick_blue</td>\n",
       "      <td>brazzi_bots_part_1</td>\n",
       "    </tr>\n",
       "    <tr>\n",
       "      <th>9691</th>\n",
       "      <td>Zz Series</td>\n",
       "      <td>lulu_chu</td>\n",
       "      <td>mick_blue</td>\n",
       "      <td>kinky_secrets_of_the_suburbs_part_2</td>\n",
       "    </tr>\n",
       "    <tr>\n",
       "      <th>9692</th>\n",
       "      <td>Zz Series</td>\n",
       "      <td>karma_rx</td>\n",
       "      <td>lela_star</td>\n",
       "      <td>brazzi_bots_part_4</td>\n",
       "    </tr>\n",
       "    <tr>\n",
       "      <th>9693</th>\n",
       "      <td>Zz Series</td>\n",
       "      <td>abigail_mac</td>\n",
       "      <td>nicolette_shea</td>\n",
       "      <td>brazzi_bots_part_2</td>\n",
       "    </tr>\n",
       "    <tr>\n",
       "      <th>9694</th>\n",
       "      <td>Zz Series</td>\n",
       "      <td>lela_star</td>\n",
       "      <td>xander_corvus</td>\n",
       "      <td>brazzi_bots_part_3</td>\n",
       "    </tr>\n",
       "  </tbody>\n",
       "</table></div>"
      ],
      "text/plain": [
       "           Site          PS1             PS2  \\\n",
       "9690  Zz Series   riley_reid       mick_blue   \n",
       "9691  Zz Series     lulu_chu       mick_blue   \n",
       "9692  Zz Series     karma_rx       lela_star   \n",
       "9693  Zz Series  abigail_mac  nicolette_shea   \n",
       "9694  Zz Series    lela_star   xander_corvus   \n",
       "\n",
       "                                    Title  \n",
       "9690                   brazzi_bots_part_1  \n",
       "9691  kinky_secrets_of_the_suburbs_part_2  \n",
       "9692                   brazzi_bots_part_4  \n",
       "9693                   brazzi_bots_part_2  \n",
       "9694                   brazzi_bots_part_3  "
      ]
     },
     "execution_count": 28,
     "metadata": {},
     "output_type": "execute_result"
    }
   ],
   "source": [
    "# Overview, whether the correct numbers of titles existent within the sites...\n",
    "df_2.tail()"
   ]
  },
  {
   "cell_type": "markdown",
   "id": "5e5ff5cc-4a31-41b5-bdb7-de18ebec345d",
   "metadata": {},
   "source": [
    "Delete the unwanted column \"Unnamed: 0\" by reading the df one time and then export this \n",
    "under another csv-file..."
   ]
  },
  {
   "cell_type": "code",
   "execution_count": 11,
   "id": "119edc9a-dadb-449c-a38a-07bdd1aab802",
   "metadata": {},
   "outputs": [],
   "source": [
    "df_2.to_csv('df_2_final.csv')"
   ]
  },
  {
   "cell_type": "code",
   "execution_count": 29,
   "id": "5627ebed-4b76-40c5-b6e0-fbf31cd7cdae",
   "metadata": {},
   "outputs": [
    {
     "data": {
      "text/html": [
       "<div><div id=3526fb36-9a71-4786-a58f-277fc469cfed style=\"display:none; background-color:#9D6CFF; color:white; width:200px; height:30px; padding-left:5px; border-radius:4px; flex-direction:row; justify-content:space-around; align-items:center;\" onmouseover=\"this.style.backgroundColor='#BA9BF8'\" onmouseout=\"this.style.backgroundColor='#9D6CFF'\" onclick=\"window.commands?.execute('create-mitosheet-from-dataframe-output');\">See Full Dataframe in Mito</div> <script> if (window.commands.hasCommand('create-mitosheet-from-dataframe-output')) document.getElementById('3526fb36-9a71-4786-a58f-277fc469cfed').style.display = 'flex' </script> <table border=\"1\" class=\"dataframe\">\n",
       "  <thead>\n",
       "    <tr style=\"text-align: right;\">\n",
       "      <th></th>\n",
       "      <th>Site</th>\n",
       "      <th>PS1</th>\n",
       "      <th>PS2</th>\n",
       "      <th>Title</th>\n",
       "    </tr>\n",
       "  </thead>\n",
       "  <tbody>\n",
       "    <tr>\n",
       "      <th>4195</th>\n",
       "      <td>Big Wet Butts</td>\n",
       "      <td>karma_rx</td>\n",
       "      <td>keiran_lee</td>\n",
       "      <td>two_cocks_on_fire</td>\n",
       "    </tr>\n",
       "    <tr>\n",
       "      <th>4196</th>\n",
       "      <td>Big Wet Butts</td>\n",
       "      <td>bridgette_b</td>\n",
       "      <td>manuel_ferrara</td>\n",
       "      <td>karmas_ass_is_served</td>\n",
       "    </tr>\n",
       "    <tr>\n",
       "      <th>4197</th>\n",
       "      <td>Big Wet Butts</td>\n",
       "      <td>kristina_rose</td>\n",
       "      <td>kelly_divine</td>\n",
       "      <td>b_for_big_butt</td>\n",
       "    </tr>\n",
       "    <tr>\n",
       "      <th>4198</th>\n",
       "      <td>Big Wet Butts</td>\n",
       "      <td>luna_star</td>\n",
       "      <td>mazee</td>\n",
       "      <td>the_spanksgiving_spectacular</td>\n",
       "    </tr>\n",
       "    <tr>\n",
       "      <th>4200</th>\n",
       "      <td>Big Wet Butts</td>\n",
       "      <td>daphne_rosen</td>\n",
       "      <td>james_deen</td>\n",
       "      <td>big_booty_hunter</td>\n",
       "    </tr>\n",
       "    <tr>\n",
       "      <th>4201</th>\n",
       "      <td>Big Wet Butts</td>\n",
       "      <td>mischa_brooks</td>\n",
       "      <td>van_wylde</td>\n",
       "      <td>all_about_mischas_big_butt</td>\n",
       "    </tr>\n",
       "    <tr>\n",
       "      <th>4202</th>\n",
       "      <td>Big Wet Butts</td>\n",
       "      <td>gia_derza</td>\n",
       "      <td>small_hands</td>\n",
       "      <td>gias_big_wet_butt</td>\n",
       "    </tr>\n",
       "  </tbody>\n",
       "</table></div>"
      ],
      "text/plain": [
       "               Site            PS1             PS2  \\\n",
       "4195  Big Wet Butts       karma_rx      keiran_lee   \n",
       "4196  Big Wet Butts    bridgette_b  manuel_ferrara   \n",
       "4197  Big Wet Butts  kristina_rose    kelly_divine   \n",
       "4198  Big Wet Butts      luna_star           mazee   \n",
       "4200  Big Wet Butts   daphne_rosen      james_deen   \n",
       "4201  Big Wet Butts  mischa_brooks       van_wylde   \n",
       "4202  Big Wet Butts      gia_derza     small_hands   \n",
       "\n",
       "                             Title  \n",
       "4195             two_cocks_on_fire  \n",
       "4196          karmas_ass_is_served  \n",
       "4197                b_for_big_butt  \n",
       "4198  the_spanksgiving_spectacular  \n",
       "4200              big_booty_hunter  \n",
       "4201    all_about_mischas_big_butt  \n",
       "4202             gias_big_wet_butt  "
      ]
     },
     "execution_count": 29,
     "metadata": {},
     "output_type": "execute_result"
    }
   ],
   "source": [
    "df_2.iloc[4100:4107,:]"
   ]
  },
  {
   "cell_type": "code",
   "execution_count": 32,
   "id": "20ee50fb-6903-42bd-9d63-5a5739cb6985",
   "metadata": {},
   "outputs": [],
   "source": [
    "df_3 = df_2.reset_index()\n",
    "del df_3['index']"
   ]
  },
  {
   "cell_type": "code",
   "execution_count": 33,
   "id": "570d2938-b0e8-4f2a-8f30-7b5fecce16b1",
   "metadata": {},
   "outputs": [
    {
     "data": {
      "text/html": [
       "<div><div id=00d75e2c-55c5-4f9a-af75-76a35840685d style=\"display:none; background-color:#9D6CFF; color:white; width:200px; height:30px; padding-left:5px; border-radius:4px; flex-direction:row; justify-content:space-around; align-items:center;\" onmouseover=\"this.style.backgroundColor='#BA9BF8'\" onmouseout=\"this.style.backgroundColor='#9D6CFF'\" onclick=\"window.commands?.execute('create-mitosheet-from-dataframe-output');\">See Full Dataframe in Mito</div> <script> if (window.commands.hasCommand('create-mitosheet-from-dataframe-output')) document.getElementById('00d75e2c-55c5-4f9a-af75-76a35840685d').style.display = 'flex' </script> <table border=\"1\" class=\"dataframe\">\n",
       "  <thead>\n",
       "    <tr style=\"text-align: right;\">\n",
       "      <th></th>\n",
       "      <th>Site</th>\n",
       "      <th>PS1</th>\n",
       "      <th>PS2</th>\n",
       "      <th>Title</th>\n",
       "    </tr>\n",
       "  </thead>\n",
       "  <tbody>\n",
       "    <tr>\n",
       "      <th>4100</th>\n",
       "      <td>Big Wet Butts</td>\n",
       "      <td>karma_rx</td>\n",
       "      <td>keiran_lee</td>\n",
       "      <td>two_cocks_on_fire</td>\n",
       "    </tr>\n",
       "    <tr>\n",
       "      <th>4101</th>\n",
       "      <td>Big Wet Butts</td>\n",
       "      <td>bridgette_b</td>\n",
       "      <td>manuel_ferrara</td>\n",
       "      <td>karmas_ass_is_served</td>\n",
       "    </tr>\n",
       "    <tr>\n",
       "      <th>4102</th>\n",
       "      <td>Big Wet Butts</td>\n",
       "      <td>kristina_rose</td>\n",
       "      <td>kelly_divine</td>\n",
       "      <td>b_for_big_butt</td>\n",
       "    </tr>\n",
       "    <tr>\n",
       "      <th>4103</th>\n",
       "      <td>Big Wet Butts</td>\n",
       "      <td>luna_star</td>\n",
       "      <td>mazee</td>\n",
       "      <td>the_spanksgiving_spectacular</td>\n",
       "    </tr>\n",
       "    <tr>\n",
       "      <th>4104</th>\n",
       "      <td>Big Wet Butts</td>\n",
       "      <td>daphne_rosen</td>\n",
       "      <td>james_deen</td>\n",
       "      <td>big_booty_hunter</td>\n",
       "    </tr>\n",
       "    <tr>\n",
       "      <th>4105</th>\n",
       "      <td>Big Wet Butts</td>\n",
       "      <td>mischa_brooks</td>\n",
       "      <td>van_wylde</td>\n",
       "      <td>all_about_mischas_big_butt</td>\n",
       "    </tr>\n",
       "    <tr>\n",
       "      <th>4106</th>\n",
       "      <td>Big Wet Butts</td>\n",
       "      <td>gia_derza</td>\n",
       "      <td>small_hands</td>\n",
       "      <td>gias_big_wet_butt</td>\n",
       "    </tr>\n",
       "  </tbody>\n",
       "</table></div>"
      ],
      "text/plain": [
       "               Site            PS1             PS2  \\\n",
       "4100  Big Wet Butts       karma_rx      keiran_lee   \n",
       "4101  Big Wet Butts    bridgette_b  manuel_ferrara   \n",
       "4102  Big Wet Butts  kristina_rose    kelly_divine   \n",
       "4103  Big Wet Butts      luna_star           mazee   \n",
       "4104  Big Wet Butts   daphne_rosen      james_deen   \n",
       "4105  Big Wet Butts  mischa_brooks       van_wylde   \n",
       "4106  Big Wet Butts      gia_derza     small_hands   \n",
       "\n",
       "                             Title  \n",
       "4100             two_cocks_on_fire  \n",
       "4101          karmas_ass_is_served  \n",
       "4102                b_for_big_butt  \n",
       "4103  the_spanksgiving_spectacular  \n",
       "4104              big_booty_hunter  \n",
       "4105    all_about_mischas_big_butt  \n",
       "4106             gias_big_wet_butt  "
      ]
     },
     "execution_count": 33,
     "metadata": {},
     "output_type": "execute_result"
    }
   ],
   "source": [
    "df_3.iloc[4100:4107,:]"
   ]
  },
  {
   "cell_type": "code",
   "execution_count": 34,
   "id": "220ab7e5-6ca1-4a47-a169-8c3a999296f2",
   "metadata": {},
   "outputs": [],
   "source": [
    "df_3.to_csv('df_3_final.csv')"
   ]
  },
  {
   "cell_type": "markdown",
   "id": "47782c39-679d-40b3-b702-d156e32ea40f",
   "metadata": {},
   "source": [
    "### Importing the temporary final df ..."
   ]
  },
  {
   "cell_type": "code",
   "execution_count": 9,
   "id": "f2a6f57c-24cd-48ee-9d92-1fd4cedb954b",
   "metadata": {},
   "outputs": [],
   "source": [
    "df = pd.read_csv('df_2_final.csv', index_col=[0])"
   ]
  },
  {
   "cell_type": "code",
   "execution_count": 10,
   "id": "abc5ceb4-4b72-4f46-bce9-dfa7cde41f01",
   "metadata": {},
   "outputs": [
    {
     "data": {
      "text/html": [
       "<div><div id=a6007d6b-aa80-4584-9316-39babedcfb71 style=\"display:none; background-color:#9D6CFF; color:white; width:200px; height:30px; padding-left:5px; border-radius:4px; flex-direction:row; justify-content:space-around; align-items:center;\" onmouseover=\"this.style.backgroundColor='#BA9BF8'\" onmouseout=\"this.style.backgroundColor='#9D6CFF'\" onclick=\"window.commands?.execute('create-mitosheet-from-dataframe-output');\">See Full Dataframe in Mito</div> <script> if (window.commands.hasCommand('create-mitosheet-from-dataframe-output')) document.getElementById('a6007d6b-aa80-4584-9316-39babedcfb71').style.display = 'flex' </script> <table border=\"1\" class=\"dataframe\">\n",
       "  <thead>\n",
       "    <tr style=\"text-align: right;\">\n",
       "      <th></th>\n",
       "      <th>Site</th>\n",
       "      <th>PS1</th>\n",
       "      <th>PS2</th>\n",
       "      <th>Title</th>\n",
       "    </tr>\n",
       "  </thead>\n",
       "  <tbody>\n",
       "    <tr>\n",
       "      <th>9690</th>\n",
       "      <td>Zz Series</td>\n",
       "      <td>riley_reid</td>\n",
       "      <td>mick_blue</td>\n",
       "      <td>brazzi_bots_part_1</td>\n",
       "    </tr>\n",
       "    <tr>\n",
       "      <th>9691</th>\n",
       "      <td>Zz Series</td>\n",
       "      <td>lulu_chu</td>\n",
       "      <td>mick_blue</td>\n",
       "      <td>kinky_secrets_of_the_suburbs_part_2</td>\n",
       "    </tr>\n",
       "    <tr>\n",
       "      <th>9692</th>\n",
       "      <td>Zz Series</td>\n",
       "      <td>karma_rx</td>\n",
       "      <td>lela_star</td>\n",
       "      <td>brazzi_bots_part_4</td>\n",
       "    </tr>\n",
       "    <tr>\n",
       "      <th>9693</th>\n",
       "      <td>Zz Series</td>\n",
       "      <td>abigail_mac</td>\n",
       "      <td>nicolette_shea</td>\n",
       "      <td>brazzi_bots_part_2</td>\n",
       "    </tr>\n",
       "    <tr>\n",
       "      <th>9694</th>\n",
       "      <td>Zz Series</td>\n",
       "      <td>lela_star</td>\n",
       "      <td>xander_corvus</td>\n",
       "      <td>brazzi_bots_part_3</td>\n",
       "    </tr>\n",
       "  </tbody>\n",
       "</table></div>"
      ],
      "text/plain": [
       "           Site          PS1             PS2  \\\n",
       "9690  Zz Series   riley_reid       mick_blue   \n",
       "9691  Zz Series     lulu_chu       mick_blue   \n",
       "9692  Zz Series     karma_rx       lela_star   \n",
       "9693  Zz Series  abigail_mac  nicolette_shea   \n",
       "9694  Zz Series    lela_star   xander_corvus   \n",
       "\n",
       "                                    Title  \n",
       "9690                   brazzi_bots_part_1  \n",
       "9691  kinky_secrets_of_the_suburbs_part_2  \n",
       "9692                   brazzi_bots_part_4  \n",
       "9693                   brazzi_bots_part_2  \n",
       "9694                   brazzi_bots_part_3  "
      ]
     },
     "execution_count": 10,
     "metadata": {},
     "output_type": "execute_result"
    }
   ],
   "source": [
    "df.tail()"
   ]
  },
  {
   "cell_type": "markdown",
   "id": "409217e6-9ed3-4063-a85c-08acf0781b91",
   "metadata": {},
   "source": [
    "# Search masks .. "
   ]
  },
  {
   "cell_type": "code",
   "execution_count": 4,
   "id": "555eaf6f-2208-4758-9bae-d68d355c0060",
   "metadata": {},
   "outputs": [],
   "source": [
    "def styling_specific_cell(x,row_idx,col_idx):\n",
    "    color = 'background-color: yellow; color: violet'\n",
    "    df_styler = pd.DataFrame('', index=x.index, columns=x.columns)\n",
    "    df_styler.iloc[row_idx, col_idx] = color\n",
    "    return df_styler"
   ]
  },
  {
   "cell_type": "code",
   "execution_count": 21,
   "id": "40e61ef8-25ff-4089-96bb-17c2b8116a5f",
   "metadata": {},
   "outputs": [
    {
     "data": {
      "text/html": [
       "<div><div id=989c1413-97d3-47ae-869f-8e6060d87bca style=\"display:none; background-color:#9D6CFF; color:white; width:200px; height:30px; padding-left:5px; border-radius:4px; flex-direction:row; justify-content:space-around; align-items:center;\" onmouseover=\"this.style.backgroundColor='#BA9BF8'\" onmouseout=\"this.style.backgroundColor='#9D6CFF'\" onclick=\"window.commands?.execute('create-mitosheet-from-dataframe-output');\">See Full Dataframe in Mito</div> <script> if (window.commands.hasCommand('create-mitosheet-from-dataframe-output')) document.getElementById('989c1413-97d3-47ae-869f-8e6060d87bca').style.display = 'flex' </script> <table border=\"1\" class=\"dataframe\">\n",
       "  <thead>\n",
       "    <tr style=\"text-align: right;\">\n",
       "      <th></th>\n",
       "      <th>Site</th>\n",
       "      <th>PS1</th>\n",
       "      <th>PS2</th>\n",
       "      <th>Title</th>\n",
       "    </tr>\n",
       "  </thead>\n",
       "  <tbody>\n",
       "    <tr>\n",
       "      <th>2106</th>\n",
       "      <td>Baby Got Boobs</td>\n",
       "      <td>carmella_bing</td>\n",
       "      <td>cj</td>\n",
       "      <td>everyones_favourite_visitor</td>\n",
       "    </tr>\n",
       "    <tr>\n",
       "      <th>2170</th>\n",
       "      <td>Baby Got Boobs</td>\n",
       "      <td>carmella_bing</td>\n",
       "      <td>andrew_andretti</td>\n",
       "      <td>a_day_with_carmella</td>\n",
       "    </tr>\n",
       "    <tr>\n",
       "      <th>2671</th>\n",
       "      <td>Big Tits At School</td>\n",
       "      <td>carmella_bing</td>\n",
       "      <td>sergio</td>\n",
       "      <td>the_big_distraction</td>\n",
       "    </tr>\n",
       "    <tr>\n",
       "      <th>2794</th>\n",
       "      <td>Big Tits At School</td>\n",
       "      <td>carmella_bing</td>\n",
       "      <td>john_west</td>\n",
       "      <td>miss_bings_anatomy</td>\n",
       "    </tr>\n",
       "    <tr>\n",
       "      <th>3128</th>\n",
       "      <td>Big Tits At Work</td>\n",
       "      <td>carmella_bing</td>\n",
       "      <td>holly_halston</td>\n",
       "      <td>truth_n_tits</td>\n",
       "    </tr>\n",
       "    <tr>\n",
       "      <th>3251</th>\n",
       "      <td>Big Tits At Work</td>\n",
       "      <td>carmella_bing</td>\n",
       "      <td>keiran_lee</td>\n",
       "      <td>city_beautification_tits</td>\n",
       "    </tr>\n",
       "    <tr>\n",
       "      <th>3295</th>\n",
       "      <td>Big Tits At Work</td>\n",
       "      <td>carmella_bing</td>\n",
       "      <td>joe_blow</td>\n",
       "      <td>new_opportunities</td>\n",
       "    </tr>\n",
       "    <tr>\n",
       "      <th>3552</th>\n",
       "      <td>Big Tits In Sports</td>\n",
       "      <td>carmella_bing</td>\n",
       "      <td>angelina_valentine</td>\n",
       "      <td>dodgeballs</td>\n",
       "    </tr>\n",
       "    <tr>\n",
       "      <th>3553</th>\n",
       "      <td>Big Tits In Sports</td>\n",
       "      <td>carmella_bing</td>\n",
       "      <td>holly_halston</td>\n",
       "      <td>sweep_your_big_cock_in_our_pussies</td>\n",
       "    </tr>\n",
       "    <tr>\n",
       "      <th>3717</th>\n",
       "      <td>Big Tits In Uniform</td>\n",
       "      <td>carmella_bing</td>\n",
       "      <td>johnny_sins</td>\n",
       "      <td>chefs_recipe_for_success</td>\n",
       "    </tr>\n",
       "    <tr>\n",
       "      <th>4216</th>\n",
       "      <td>Big Wet Butts</td>\n",
       "      <td>carmella_bing</td>\n",
       "      <td>scott_nails</td>\n",
       "      <td>big_butt_dive</td>\n",
       "    </tr>\n",
       "    <tr>\n",
       "      <th>4224</th>\n",
       "      <td>Big Wet Butts</td>\n",
       "      <td>carmella_bing</td>\n",
       "      <td>justin_magnum</td>\n",
       "      <td>happy_ass_day</td>\n",
       "    </tr>\n",
       "    <tr>\n",
       "      <th>4471</th>\n",
       "      <td>Brazzers Vault</td>\n",
       "      <td>carmella_bing</td>\n",
       "      <td>ralph_long</td>\n",
       "      <td>balls_of_steel</td>\n",
       "    </tr>\n",
       "    <tr>\n",
       "      <th>4990</th>\n",
       "      <td>Doctor Adventures</td>\n",
       "      <td>carmella_bing</td>\n",
       "      <td>demi_delia</td>\n",
       "      <td>whores_anatomy</td>\n",
       "    </tr>\n",
       "    <tr>\n",
       "      <th>4995</th>\n",
       "      <td>Doctor Adventures</td>\n",
       "      <td>carmella_bing</td>\n",
       "      <td>andrew_andretti</td>\n",
       "      <td>anti_vaginal_penetration_disorder</td>\n",
       "    </tr>\n",
       "    <tr>\n",
       "      <th>5680</th>\n",
       "      <td>87</td>\n",
       "      <td>carmella_bing</td>\n",
       "      <td>scott_nails</td>\n",
       "      <td>fun_times_in_california</td>\n",
       "    </tr>\n",
       "    <tr>\n",
       "      <th>7968</th>\n",
       "      <td>Pornstars Like It Big</td>\n",
       "      <td>carmella_bing</td>\n",
       "      <td>nikki_benz</td>\n",
       "      <td>the_royal_cock_of_1469</td>\n",
       "    </tr>\n",
       "    <tr>\n",
       "      <th>8125</th>\n",
       "      <td>Pornstars Like It Big</td>\n",
       "      <td>carmella_bing</td>\n",
       "      <td>johnny_sins</td>\n",
       "      <td>the_hunter</td>\n",
       "    </tr>\n",
       "  </tbody>\n",
       "</table></div>"
      ],
      "text/plain": [
       "                       Site            PS1                 PS2  \\\n",
       "2106         Baby Got Boobs  carmella_bing                  cj   \n",
       "2170         Baby Got Boobs  carmella_bing     andrew_andretti   \n",
       "2671     Big Tits At School  carmella_bing              sergio   \n",
       "2794     Big Tits At School  carmella_bing           john_west   \n",
       "3128       Big Tits At Work  carmella_bing       holly_halston   \n",
       "3251       Big Tits At Work  carmella_bing          keiran_lee   \n",
       "3295       Big Tits At Work  carmella_bing            joe_blow   \n",
       "3552     Big Tits In Sports  carmella_bing  angelina_valentine   \n",
       "3553     Big Tits In Sports  carmella_bing       holly_halston   \n",
       "3717    Big Tits In Uniform  carmella_bing         johnny_sins   \n",
       "4216          Big Wet Butts  carmella_bing         scott_nails   \n",
       "4224          Big Wet Butts  carmella_bing       justin_magnum   \n",
       "4471         Brazzers Vault  carmella_bing          ralph_long   \n",
       "4990      Doctor Adventures  carmella_bing          demi_delia   \n",
       "4995      Doctor Adventures  carmella_bing     andrew_andretti   \n",
       "5680                     87  carmella_bing         scott_nails   \n",
       "7968  Pornstars Like It Big  carmella_bing          nikki_benz   \n",
       "8125  Pornstars Like It Big  carmella_bing         johnny_sins   \n",
       "\n",
       "                                   Title  \n",
       "2106         everyones_favourite_visitor  \n",
       "2170                 a_day_with_carmella  \n",
       "2671                 the_big_distraction  \n",
       "2794                  miss_bings_anatomy  \n",
       "3128                        truth_n_tits  \n",
       "3251            city_beautification_tits  \n",
       "3295                   new_opportunities  \n",
       "3552                          dodgeballs  \n",
       "3553  sweep_your_big_cock_in_our_pussies  \n",
       "3717            chefs_recipe_for_success  \n",
       "4216                       big_butt_dive  \n",
       "4224                       happy_ass_day  \n",
       "4471                      balls_of_steel  \n",
       "4990                      whores_anatomy  \n",
       "4995   anti_vaginal_penetration_disorder  \n",
       "5680             fun_times_in_california  \n",
       "7968              the_royal_cock_of_1469  \n",
       "8125                          the_hunter  "
      ]
     },
     "execution_count": 21,
     "metadata": {},
     "output_type": "execute_result"
    },
    {
     "data": {
      "text/plain": [
       "18"
      ]
     },
     "execution_count": 21,
     "metadata": {},
     "output_type": "execute_result"
    }
   ],
   "source": [
    "# substr = \"kinky_secrets_of_the_suburbs_part_4\"\n",
    "substr = \"carmella_bing\"\n",
    "substr_2 = ''\n",
    "colored_s = colored(substr_2, 'red')\n",
    "#df_2[df_2['PS1'].str.contains(substr)]\n",
    "df[df['PS1'].str.contains(substr) & df['Title'].str.contains(substr_2)]\n",
    "\n",
    "len(df[df['PS1'].str.contains(substr) & df['Title'].str.contains(substr_2)])\n",
    "\n",
    "\n",
    "\n",
    "#df_2.style.applymap(highlight_cell('bimbo'))\n",
    "\n",
    "# len(df_2[df_2['PS1'].str.contains(substr)])"
   ]
  },
  {
   "cell_type": "code",
   "execution_count": 6,
   "id": "2035bb17-452c-4daf-abfe-d3ff4c98a8cc",
   "metadata": {},
   "outputs": [
    {
     "ename": "NameError",
     "evalue": "name 'colored_s' is not defined",
     "output_type": "error",
     "traceback": [
      "\u001b[0;31m---------------------------------------------------------------------------\u001b[0m",
      "\u001b[0;31mNameError\u001b[0m                                 Traceback (most recent call last)",
      "\u001b[0;32m<ipython-input-6-ef092e945ec2>\u001b[0m in \u001b[0;36m<module>\u001b[0;34m\u001b[0m\n\u001b[0;32m----> 1\u001b[0;31m \u001b[0mprint\u001b[0m\u001b[0;34m(\u001b[0m\u001b[0mcolored_s\u001b[0m\u001b[0;34m)\u001b[0m\u001b[0;34m\u001b[0m\u001b[0;34m\u001b[0m\u001b[0m\n\u001b[0m",
      "\u001b[0;31mNameError\u001b[0m: name 'colored_s' is not defined"
     ]
    }
   ],
   "source": [
    "print(colored_s)"
   ]
  },
  {
   "cell_type": "code",
   "execution_count": 7,
   "id": "7ef00185-5bc7-4956-92ec-7606168f2a48",
   "metadata": {},
   "outputs": [
    {
     "data": {
      "text/plain": [
       "'/Users/joerg/opt/anaconda3/envs/python38/bin/python'"
      ]
     },
     "execution_count": 7,
     "metadata": {},
     "output_type": "execute_result"
    }
   ],
   "source": [
    "import sys\n",
    "sys.executable"
   ]
  },
  {
   "cell_type": "code",
   "execution_count": 8,
   "id": "de5c0cf3-53bf-4e5b-a029-e5c707b62941",
   "metadata": {},
   "outputs": [
    {
     "ename": "NameError",
     "evalue": "name 'df_search' is not defined",
     "output_type": "error",
     "traceback": [
      "\u001b[0;31m---------------------------------------------------------------------------\u001b[0m",
      "\u001b[0;31mNameError\u001b[0m                                 Traceback (most recent call last)",
      "\u001b[0;32m<ipython-input-8-dd0a14756251>\u001b[0m in \u001b[0;36m<module>\u001b[0;34m\u001b[0m\n\u001b[0;32m----> 1\u001b[0;31m \u001b[0mdf_search\u001b[0m\u001b[0;34m.\u001b[0m\u001b[0miloc\u001b[0m\u001b[0;34m[\u001b[0m\u001b[0;36m250\u001b[0m\u001b[0;34m:\u001b[0m\u001b[0;36m260\u001b[0m\u001b[0;34m]\u001b[0m\u001b[0;34m\u001b[0m\u001b[0;34m\u001b[0m\u001b[0m\n\u001b[0m",
      "\u001b[0;31mNameError\u001b[0m: name 'df_search' is not defined"
     ]
    }
   ],
   "source": [
    "df_search.iloc[250:260]"
   ]
  },
  {
   "cell_type": "code",
   "execution_count": 28,
   "id": "49113e18-378e-4758-b8ec-af2d0ce33452",
   "metadata": {},
   "outputs": [],
   "source": [
    "idx_r = 251\n",
    "idx_c = 3\n",
    "df_search = df.style.apply(styling_specific_cell, row_idx = idx_r, col_idx = idx_c, axis = None)  # Axis set to None to work on entire dataframe"
   ]
  },
  {
   "cell_type": "code",
   "execution_count": 11,
   "id": "f3d6c27b-88aa-44c4-8c64-13de1d92bc4d",
   "metadata": {},
   "outputs": [
    {
     "name": "stdout",
     "output_type": "stream",
     "text": [
      "left \u001b[41m\u001b[37mfoot\u001b[0m right \u001b[41m\u001b[37mfoot\u001b[0m left \u001b[41m\u001b[37mfoot\u001b[0m right. \u001b[41m\u001b[37mfeet\u001b[0m in the day, \u001b[41m\u001b[37mfeet\u001b[0m at night.\n"
     ]
    }
   ],
   "source": [
    "from termcolor import colored\n",
    "from functools import reduce\n",
    "from itertools import chain\n",
    "\n",
    "text = 'left foot right foot left foot right. Feet in the day, feet at night.'\n",
    "l1 = ['foot','feet']\n",
    "\n",
    "print(reduce(lambda t, x: t.replace(*x), chain([text.lower()], ((t, colored(t,'white','on_red')) for t in l1)))) "
   ]
  },
  {
   "cell_type": "code",
   "execution_count": 12,
   "id": "6d53ffe3-a48f-4ccb-900f-ae2d5a671262",
   "metadata": {},
   "outputs": [
    {
     "name": "stdout",
     "output_type": "stream",
     "text": [
      "\u001b[31mhello\u001b[0m \u001b[32mworld\u001b[0m\n"
     ]
    }
   ],
   "source": [
    "print(colored('hello', 'red'), colored('world', 'green'))"
   ]
  },
  {
   "cell_type": "code",
   "execution_count": null,
   "id": "9eeebcfd-f5d8-4b0b-a776-9e68c34d0f44",
   "metadata": {},
   "outputs": [],
   "source": [
    "# Obosolete, because the values 'no_name' have been written \n",
    "# by the command: df_2['PS2'] = df_2['PS2'].fillna('no_name')!\n",
    "\n",
    "#jb = df[(df['Site'] == 'Big Butts Like It Big') & (df['PS1'] == 'jasmine_black')].index.values.item()\n",
    "jb_2 = df_2[(df_2['Site'] == 'Big Butts Like It Big') & (df_2['PS1'] == 'jasmine_black')].index.values.item()\n",
    "# df_2.at[jb, 'PS2'] = 'no_name'\n",
    "\n",
    "# ev = df[(df['Site'] == 'Big Butts Like It Big') & (df['PS1'] == 'erik_everhard')].index.values.item()\n",
    "# df_2.at[ev, 'PS2'] = 'bridgette_b'\n",
    "\n",
    "# jd = df[(df['Site'] == 'Big Butts Like It Big') & (df['PS1'] == 'james_deen') & (df['PS2'].isnull().values)].index.values.item()\n",
    "# df_2.at[jd, 'PS2'] = 'no_name'\n",
    "\n",
    "# js = df[(df['Site'] == 'Baby Got Boobs') & (df['PS1'] == 'johnny_sins') & (df['PS2'].isnull().values)].index.values.item()\n",
    "# df_2.at[js, 'PS2'] = 'no_name'\n",
    "\n",
    "# df_2_final = df_2.dropna()\n",
    "# #del df_2_final['Unnamed: 0']"
   ]
  },
  {
   "cell_type": "code",
   "execution_count": null,
   "id": "d911b5f3-ae2c-40ca-83be-f0b8454e3131",
   "metadata": {},
   "outputs": [],
   "source": [
    "#len(df[df['Site'] == 'Brazzers Exxtra'])\n",
    "df_2['Site'].value_counts()"
   ]
  },
  {
   "cell_type": "code",
   "execution_count": null,
   "id": "5e1c42d2-b486-4d40-96cb-a1b813b93814",
   "metadata": {},
   "outputs": [],
   "source": [
    "df[(df['Site'] == 'Baby Got Boobs') & (df['PS1'] == 'johnny_sins') & (df['PS2'].isnull().values)].index.values.item()"
   ]
  },
  {
   "cell_type": "code",
   "execution_count": null,
   "id": "50211ec9-10fc-4df4-81dc-5366896cbddf",
   "metadata": {},
   "outputs": [],
   "source": [
    "len(df_2_final)"
   ]
  },
  {
   "cell_type": "code",
   "execution_count": null,
   "id": "30805855-7392-4d20-8917-04c0a842b83a",
   "metadata": {},
   "outputs": [],
   "source": [
    "len(df_2_final[df_2_final['Site'] == \"Baby Got Boobs\"])"
   ]
  },
  {
   "cell_type": "code",
   "execution_count": null,
   "id": "a9d793c8-2f68-4e4e-ad1c-b478f4547a73",
   "metadata": {},
   "outputs": [],
   "source": [
    "df[(df['PS2'].isnull().values)]"
   ]
  },
  {
   "cell_type": "code",
   "execution_count": null,
   "id": "a73dd992-3f83-49fc-aa57-5454dfe13a75",
   "metadata": {},
   "outputs": [],
   "source": [
    "len(df_2_final)"
   ]
  },
  {
   "cell_type": "code",
   "execution_count": null,
   "id": "252db9fb-e32a-4f7b-9b2c-e96465af11bd",
   "metadata": {},
   "outputs": [],
   "source": [
    "df[(df['PS1'] == 'james_deen') & (df['PS2'].isnull().values)].index.values.item()"
   ]
  },
  {
   "cell_type": "code",
   "execution_count": null,
   "id": "f00df28a-191c-4fe9-9664-e5943763221a",
   "metadata": {},
   "outputs": [],
   "source": [
    "jd_tmp = df[(df['PS1'] == 'james_deen') & (df['PS2'] == 'no_name')].index.values.item()"
   ]
  },
  {
   "cell_type": "code",
   "execution_count": null,
   "id": "c776b38f-7f84-4564-9a02-b6a8cfa6a786",
   "metadata": {},
   "outputs": [],
   "source": [
    "df_final = df_2_final.reset_index(drop=True)"
   ]
  },
  {
   "cell_type": "code",
   "execution_count": null,
   "id": "8ea72d43-86ad-4b84-9b29-52bc4f0d30cb",
   "metadata": {},
   "outputs": [],
   "source": [
    "df_new = df_index_mono.dropna()"
   ]
  },
  {
   "cell_type": "code",
   "execution_count": null,
   "id": "54dc17c7-28d6-4104-a522-5b4293c73981",
   "metadata": {},
   "outputs": [],
   "source": [
    "df_new"
   ]
  },
  {
   "cell_type": "code",
   "execution_count": null,
   "id": "fe929ead-5f7a-4493-b46f-5cd82d9960df",
   "metadata": {},
   "outputs": [],
   "source": [
    "len(df_index_mono)"
   ]
  },
  {
   "cell_type": "code",
   "execution_count": null,
   "id": "34b21637-5d66-4282-a2f2-1e46c3caff46",
   "metadata": {},
   "outputs": [],
   "source": [
    "df_index_mono = df_index_mono.dropna()\n",
    "df_index_mono = df_index_mono.reset_index(drop=True)"
   ]
  },
  {
   "cell_type": "code",
   "execution_count": null,
   "id": "85987107-eb12-4c12-9dd9-ca45a8e05565",
   "metadata": {},
   "outputs": [],
   "source": [
    "df_index_mono"
   ]
  },
  {
   "cell_type": "code",
   "execution_count": null,
   "id": "b995c14c-f36d-40e2-b68c-7e3a129653c3",
   "metadata": {},
   "outputs": [],
   "source": [
    "len(df_final_sliced['Site'] == \"Big Butts Like It Big\")"
   ]
  },
  {
   "cell_type": "code",
   "execution_count": null,
   "id": "50c294b7-c548-4d40-b1d2-1258175f3bf3",
   "metadata": {},
   "outputs": [],
   "source": [
    "len(df_index_mono)"
   ]
  },
  {
   "cell_type": "code",
   "execution_count": null,
   "id": "5063f735-b878-427a-a9c2-900eca0ffc9d",
   "metadata": {},
   "outputs": [],
   "source": [
    "len(db_actual_site_name_sliced[db_actual_site_name_sliced['Site'] == 'Doctor Adventures'])"
   ]
  },
  {
   "cell_type": "code",
   "execution_count": null,
   "id": "a908fcf0-cd84-414d-bd9c-30c27e3387ed",
   "metadata": {},
   "outputs": [],
   "source": [
    "df = db_actual_site_name_sliced"
   ]
  },
  {
   "cell_type": "code",
   "execution_count": null,
   "id": "d554c911-92ed-4e0d-ba05-10c9c38f25bd",
   "metadata": {},
   "outputs": [],
   "source": [
    "db_actual_site_name_sliced['Site']"
   ]
  },
  {
   "cell_type": "code",
   "execution_count": null,
   "id": "983aec02-65d8-4138-bac7-09c8d6cb9748",
   "metadata": {},
   "outputs": [],
   "source": [
    "for site, number in zip(db_sites[8:12], len_of_sites[8:12]):\n",
    "    print('site: ', site)\n",
    "    max_page_number = math.ceil(int(number) / 24)\n",
    "    print('number: ', max_page_number)\n",
    "#    for site_number in len_of_sites[8:10]:\n",
    "#        tmp = range(1, int(site_number) + "
   ]
  },
  {
   "cell_type": "code",
   "execution_count": null,
   "id": "d822eb18-6b89-4236-89ea-50425f3fd4e0",
   "metadata": {},
   "outputs": [],
   "source": [
    "root_site"
   ]
  },
  {
   "cell_type": "code",
   "execution_count": 2,
   "id": "29556550-1267-4ef7-bc0b-1817df00336c",
   "metadata": {},
   "outputs": [
    {
     "data": {
      "text/plain": [
       "4809.6125"
      ]
     },
     "execution_count": 2,
     "metadata": {},
     "output_type": "execute_result"
    }
   ],
   "source": [
    "100*3847.69/80\n"
   ]
  },
  {
   "cell_type": "code",
   "execution_count": null,
   "id": "deaf45a7-4f3a-4e00-ad84-38b785d61291",
   "metadata": {},
   "outputs": [],
   "source": [
    "from bs4 import BeautifulSoup\n",
    "import requests\n",
    "db = []\n",
    "#url = 'https://www.brazzers.com/videos/site/62/doctor-adventures/sortby/views/page/'\n",
    "url = 'https://www.brazzers.com/videos/site/82/big-butts-like-it-big/sortby/views/page/'\n",
    "site_tmp = requests.get(url)\n",
    "\n",
    "soup_tmp = BeautifulSoup(site_tmp.content, 'html.parser')\n",
    "\n",
    "print(f'scanning Site: {url}, Response: {site_tmp}')\n",
    "\n",
    "data_site_page = soup_tmp.find_all('a')\n",
    "\n",
    "for lf in data_site_pageb:\n",
    "    db.append(lf.get('href'))\n"
   ]
  },
  {
   "cell_type": "markdown",
   "id": "4b817a99-b4af-4dfe-81fd-3138197127df",
   "metadata": {},
   "source": [
    "***"
   ]
  },
  {
   "cell_type": "markdown",
   "id": "a51c0786-f109-4a2e-8737-7a8dae0db1b4",
   "metadata": {},
   "source": [
    "### Now, the missing sites..."
   ]
  },
  {
   "cell_type": "code",
   "execution_count": 23,
   "id": "f63c9c9d-cd87-45d2-9c96-bfd5f8f01d7e",
   "metadata": {},
   "outputs": [
    {
     "data": {
      "text/plain": [
       "['https://www.brazzers.com/videos/site/79/asses-in-public/sortby/views/page/',\n",
       " 'https://www.brazzers.com/videos/site/60/busty-real/sortby/views/page/',\n",
       " 'https://www.brazzers.com/videos/site/98/cfnm/sortby/views/page/',\n",
       " 'https://www.brazzers.com/videos/site/64/hot-chicks-big-asses/sortby/views/page/',\n",
       " 'https://www.brazzers.com/videos/site/69/jug-fuckers/sortby/views/page/',\n",
       " 'https://www.brazzers.com/videos/site/76/sex-pro-adventures/sortby/views/page/']"
      ]
     },
     "execution_count": 23,
     "metadata": {},
     "output_type": "execute_result"
    }
   ],
   "source": [
    "missing_sites"
   ]
  },
  {
   "cell_type": "code",
   "execution_count": 34,
   "id": "07bd9f83-8584-4c0d-aac1-db7a921b1565",
   "metadata": {},
   "outputs": [
    {
     "name": "stdout",
     "output_type": "stream",
     "text": [
      "scanning Site: https://www.brazzers.com/videos/site/79/asses-in-public/sortby/views/page/1, Response: <Response [200]>\n",
      "[]\n",
      "scanning Site: https://www.brazzers.com/videos/site/60/busty-real/sortby/views/page/1, Response: <Response [200]>\n",
      "[]\n",
      "scanning Site: https://www.brazzers.com/videos/site/98/cfnm/sortby/views/page/1, Response: <Response [200]>\n",
      "[]\n",
      "scanning Site: https://www.brazzers.com/videos/site/64/hot-chicks-big-asses/sortby/views/page/1, Response: <Response [200]>\n",
      "[]\n",
      "scanning Site: https://www.brazzers.com/videos/site/69/jug-fuckers/sortby/views/page/1, Response: <Response [200]>\n",
      "[]\n",
      "scanning Site: https://www.brazzers.com/videos/site/76/sex-pro-adventures/sortby/views/page/1, Response: <Response [200]>\n",
      "[]\n"
     ]
    }
   ],
   "source": [
    "# Determination of the maximum number of pages\n",
    "max_page_len_of_missing_sites = [1, 1, 1, 1, 1, 1]\n",
    "\n",
    "for lf_root in missing_sites:\n",
    "    db_page_missing_sites_tmp_2 = scan_func(lf_root + str(1))\n",
    "    tmp_var = [i for i in db_page_missing_sites_tmp_2 if i.startswith('/videos/site/')]\n",
    "    print(tmp_var)\n",
    "    max_page_missing_sites_number = tmp_var[-1].split('/')[-2]\n",
    "    \n",
    "    #max_page_missing_sites_len_of_sites.append(max_page_missing_sites_number)\n",
    "\n",
    "#print('max_page_len_of_sites: ', max_page_missing_sites_len_of_sites)"
   ]
  },
  {
   "cell_type": "code",
   "execution_count": null,
   "id": "5f92a1fd-0c7f-4dc0-a2e9-7d188d72b6e9",
   "metadata": {},
   "outputs": [],
   "source": []
  },
  {
   "cell_type": "code",
   "execution_count": 42,
   "id": "3f3e355c-506e-4fc0-a5e5-e036db3d2486",
   "metadata": {},
   "outputs": [
    {
     "name": "stdout",
     "output_type": "stream",
     "text": [
      "max.. 1\n",
      "site_name:  Asses In Public\n",
      "scanning Site: https://www.brazzers.com/videos/site/79/asses-in-public/sortby/views/page/1, Response: <Response [200]>\n",
      "max.. 1\n",
      "site_name:  Busty Real\n",
      "scanning Site: https://www.brazzers.com/videos/site/60/busty-real/sortby/views/page/1, Response: <Response [200]>\n",
      "max.. 1\n",
      "site_name:  Cfnm\n",
      "scanning Site: https://www.brazzers.com/videos/site/98/cfnm/sortby/views/page/1, Response: <Response [200]>\n",
      "max.. 1\n",
      "site_name:  Hot Chicks Big Asses\n",
      "scanning Site: https://www.brazzers.com/videos/site/64/hot-chicks-big-asses/sortby/views/page/1, Response: <Response [200]>\n",
      "max.. 1\n",
      "site_name:  Jug Fuckers\n",
      "scanning Site: https://www.brazzers.com/videos/site/69/jug-fuckers/sortby/views/page/1, Response: <Response [200]>\n",
      "max.. 1\n",
      "site_name:  Sex Pro Adventures\n",
      "scanning Site: https://www.brazzers.com/videos/site/76/sex-pro-adventures/sortby/views/page/1, Response: <Response [200]>\n"
     ]
    }
   ],
   "source": [
    "page_content_db = pd.DataFrame()\n",
    "page_number_db = {}\n",
    "page_content_tmp = {}\n",
    "page_columns = []\n",
    "ps1_db = pd.DataFrame()\n",
    "ps2_db = {}\n",
    "title_db = {}\n",
    "db_actual_site_name_missing_sites = pd.DataFrame()\n",
    "db_final_tmp = pd.DataFrame()\n",
    "db_actual_site_name_sliced = pd.DataFrame()\n",
    "max_page_len_of_missing_sites = [1, 1, 1, 1, 1, 1]\n",
    "df_tmp_missing_sites = pd.DataFrame()\n",
    "# Determination of the maximum number of pages\n",
    "# for lf_root in db_sites[12:13]:\n",
    "#     db_page_tmp_2 = scan_func(lf_root)\n",
    "#     db_page_tmp_2 = [i for i in db_page_tmp if i.startswith('/videos/site/')]\n",
    "#         print('db_page_tmp: ', db_page_tmp_2)\n",
    "\n",
    "        \n",
    "        \n",
    "for root_site, number in zip(missing_sites, max_page_len_of_missing_sites):\n",
    "    print('max..' , number)\n",
    "  \n",
    "\n",
    "    # max_page_number = math.ceil(int(number) / 24)\n",
    "       \n",
    "    for page_nr in range(1, int(number) + 1):\n",
    "        # print('page_nr: ', page_nr)\n",
    "        actual_site = root_site + str(page_nr)\n",
    "        site_name = actual_site.split('/')[-5].replace('-', ' ').title()\n",
    "            \n",
    "        print('site_name: ', site_name)\n",
    "        db_page_tmp = scan_func(actual_site)\n",
    "        db_page_video = [i for i in db_page_tmp if i.startswith('/video/')]\n",
    "        \n",
    "        db_page_ps = [i for i in db_page_tmp if i.startswith('/pornstar/')]\n",
    "        ps1 = [h.split('/')[-1].replace('-','_') for h in db_page_ps[::2]]\n",
    "        ps2 = [h.split('/')[-1].replace('-', '_') for h in db_page_ps[1::2]]\n",
    "        \n",
    "        title = [h.split('/')[-1].replace('-', '_') for h in db_page_video[::2]]\n",
    "        #print('title: ', title)\n",
    "        site_tmp = [site_name]\n",
    "        #print('site_tmp: ', site_name)\n",
    "        site = list(site_tmp) * 24\n",
    "        #print('site: ', site)\n",
    "        \n",
    "        \n",
    "        ps1_db = pd.DataFrame(ps1)\n",
    "        ps2_db = pd.DataFrame(ps2)\n",
    "        title_db = pd.DataFrame(title)\n",
    "        site_db = pd.DataFrame(site)\n",
    "        \n",
    "        db_all_tmp = pd.concat([site_db, ps1_db, ps2_db, title_db], axis=1)\n",
    "        custom_cols = ['Site', 'PS1', 'PS2', 'Title']\n",
    "        #print('db_all_tmp: ', db_all_tmp)\n",
    "        db_all_tmp.columns = custom_cols\n",
    "        db_actual_site_name_missing_sites = pd.concat([db_actual_site_name, db_all_tmp])\n",
    "        #print('db_all_tmp: ', db_all_tmp)\n",
    "        #print('db_actual_site_name:\\n ', db_actual_site_name)\n",
    "\n",
    "    df_tmp = db_actual_site_name_missing_sites\n",
    "    #print('df_tmp: ', db_actual_site_name)\n",
    "    \n",
    "df_tmp_missing_sites = db_actual_site_name_missing_sites"
   ]
  },
  {
   "cell_type": "code",
   "execution_count": 43,
   "id": "19cc2d92-2427-425e-9664-ea8a30330a52",
   "metadata": {},
   "outputs": [
    {
     "data": {
      "text/html": [
       "<div><div id=a9de08c6-d04b-4567-a8b0-6c60358089ae style=\"display:none; background-color:#9D6CFF; color:white; width:200px; height:30px; padding-left:5px; border-radius:4px; flex-direction:row; justify-content:space-around; align-items:center;\" onmouseover=\"this.style.backgroundColor='#BA9BF8'\" onmouseout=\"this.style.backgroundColor='#9D6CFF'\" onclick=\"window.commands?.execute('create-mitosheet-from-dataframe-output');\">See Full Dataframe in Mito</div> <script> if (window.commands.hasCommand('create-mitosheet-from-dataframe-output')) document.getElementById('a9de08c6-d04b-4567-a8b0-6c60358089ae').style.display = 'flex' </script> <table border=\"1\" class=\"dataframe\">\n",
       "  <thead>\n",
       "    <tr style=\"text-align: right;\">\n",
       "      <th></th>\n",
       "      <th>Site</th>\n",
       "      <th>PS1</th>\n",
       "      <th>PS2</th>\n",
       "      <th>Title</th>\n",
       "    </tr>\n",
       "  </thead>\n",
       "  <tbody>\n",
       "    <tr>\n",
       "      <th>0</th>\n",
       "      <td>Asses In Public</td>\n",
       "      <td>sunny_lane</td>\n",
       "      <td>talon</td>\n",
       "      <td>sex_on_a_sunny_day</td>\n",
       "    </tr>\n",
       "    <tr>\n",
       "      <th>1</th>\n",
       "      <td>Asses In Public</td>\n",
       "      <td>cassandra_calogera</td>\n",
       "      <td>joe</td>\n",
       "      <td>cassie_in_the_city</td>\n",
       "    </tr>\n",
       "    <tr>\n",
       "      <th>2</th>\n",
       "      <td>Asses In Public</td>\n",
       "      <td>lacey_du_valle</td>\n",
       "      <td>andrew_andretti</td>\n",
       "      <td>garage_sex</td>\n",
       "    </tr>\n",
       "    <tr>\n",
       "      <th>3</th>\n",
       "      <td>Asses In Public</td>\n",
       "      <td>tricia</td>\n",
       "      <td>seth_dickens</td>\n",
       "      <td>public_fun_with_tricia</td>\n",
       "    </tr>\n",
       "    <tr>\n",
       "      <th>4</th>\n",
       "      <td>Asses In Public</td>\n",
       "      <td>sheila_marie</td>\n",
       "      <td>tj_cummings</td>\n",
       "      <td>chillin_around_la</td>\n",
       "    </tr>\n",
       "    <tr>\n",
       "      <th>5</th>\n",
       "      <td>Asses In Public</td>\n",
       "      <td>mariah_milano</td>\n",
       "      <td>whitney_stevens</td>\n",
       "      <td>sex_in_la</td>\n",
       "    </tr>\n",
       "    <tr>\n",
       "      <th>6</th>\n",
       "      <td>Asses In Public</td>\n",
       "      <td>kelly_divine</td>\n",
       "      <td>andrew_andretti</td>\n",
       "      <td>the_great_outdoors</td>\n",
       "    </tr>\n",
       "    <tr>\n",
       "      <th>7</th>\n",
       "      <td>Asses In Public</td>\n",
       "      <td>camryn_kiss</td>\n",
       "      <td>dakota_brookes</td>\n",
       "      <td>looking_for_trouble</td>\n",
       "    </tr>\n",
       "    <tr>\n",
       "      <th>8</th>\n",
       "      <td>Asses In Public</td>\n",
       "      <td>marina_maywood</td>\n",
       "      <td>trevor_thompson</td>\n",
       "      <td>from_russia_with_lust</td>\n",
       "    </tr>\n",
       "    <tr>\n",
       "      <th>9</th>\n",
       "      <td>Asses In Public</td>\n",
       "      <td>claire_dames</td>\n",
       "      <td>kurt_lockwood</td>\n",
       "      <td>dames_outside</td>\n",
       "    </tr>\n",
       "    <tr>\n",
       "      <th>10</th>\n",
       "      <td>Asses In Public</td>\n",
       "      <td>luscious_lopez</td>\n",
       "      <td>andrew_andretti</td>\n",
       "      <td>booty_patrol</td>\n",
       "    </tr>\n",
       "    <tr>\n",
       "      <th>11</th>\n",
       "      <td>Asses In Public</td>\n",
       "      <td>britney_stevens</td>\n",
       "      <td>seth_dickens</td>\n",
       "      <td>fun_with_the_look_a_like</td>\n",
       "    </tr>\n",
       "    <tr>\n",
       "      <th>12</th>\n",
       "      <td>Asses In Public</td>\n",
       "      <td>nichole</td>\n",
       "      <td>seth_dickens</td>\n",
       "      <td>wild_outdoor_action</td>\n",
       "    </tr>\n",
       "    <tr>\n",
       "      <th>13</th>\n",
       "      <td>Asses In Public</td>\n",
       "      <td>alexa</td>\n",
       "      <td>rosario_stone</td>\n",
       "      <td>wild_boricuas</td>\n",
       "    </tr>\n",
       "    <tr>\n",
       "      <th>14</th>\n",
       "      <td>Asses In Public</td>\n",
       "      <td>NaN</td>\n",
       "      <td>NaN</td>\n",
       "      <td>NaN</td>\n",
       "    </tr>\n",
       "    <tr>\n",
       "      <th>15</th>\n",
       "      <td>Asses In Public</td>\n",
       "      <td>NaN</td>\n",
       "      <td>NaN</td>\n",
       "      <td>NaN</td>\n",
       "    </tr>\n",
       "    <tr>\n",
       "      <th>16</th>\n",
       "      <td>Asses In Public</td>\n",
       "      <td>NaN</td>\n",
       "      <td>NaN</td>\n",
       "      <td>NaN</td>\n",
       "    </tr>\n",
       "    <tr>\n",
       "      <th>17</th>\n",
       "      <td>Asses In Public</td>\n",
       "      <td>NaN</td>\n",
       "      <td>NaN</td>\n",
       "      <td>NaN</td>\n",
       "    </tr>\n",
       "    <tr>\n",
       "      <th>18</th>\n",
       "      <td>Asses In Public</td>\n",
       "      <td>NaN</td>\n",
       "      <td>NaN</td>\n",
       "      <td>NaN</td>\n",
       "    </tr>\n",
       "    <tr>\n",
       "      <th>19</th>\n",
       "      <td>Asses In Public</td>\n",
       "      <td>NaN</td>\n",
       "      <td>NaN</td>\n",
       "      <td>NaN</td>\n",
       "    </tr>\n",
       "    <tr>\n",
       "      <th>20</th>\n",
       "      <td>Asses In Public</td>\n",
       "      <td>NaN</td>\n",
       "      <td>NaN</td>\n",
       "      <td>NaN</td>\n",
       "    </tr>\n",
       "    <tr>\n",
       "      <th>21</th>\n",
       "      <td>Asses In Public</td>\n",
       "      <td>NaN</td>\n",
       "      <td>NaN</td>\n",
       "      <td>NaN</td>\n",
       "    </tr>\n",
       "    <tr>\n",
       "      <th>22</th>\n",
       "      <td>Asses In Public</td>\n",
       "      <td>NaN</td>\n",
       "      <td>NaN</td>\n",
       "      <td>NaN</td>\n",
       "    </tr>\n",
       "    <tr>\n",
       "      <th>23</th>\n",
       "      <td>Asses In Public</td>\n",
       "      <td>NaN</td>\n",
       "      <td>NaN</td>\n",
       "      <td>NaN</td>\n",
       "    </tr>\n",
       "    <tr>\n",
       "      <th>0</th>\n",
       "      <td>Busty Real</td>\n",
       "      <td>gianna_michaels</td>\n",
       "      <td>nik</td>\n",
       "      <td>gianna_hardcore</td>\n",
       "    </tr>\n",
       "    <tr>\n",
       "      <th>1</th>\n",
       "      <td>Busty Real</td>\n",
       "      <td>emilianna</td>\n",
       "      <td>alex_gonz</td>\n",
       "      <td>big_natural_round_boobs</td>\n",
       "    </tr>\n",
       "    <tr>\n",
       "      <th>2</th>\n",
       "      <td>Busty Real</td>\n",
       "      <td>havana_ginger</td>\n",
       "      <td>johnny_sins</td>\n",
       "      <td>busty_mulato_havana_ginger</td>\n",
       "    </tr>\n",
       "    <tr>\n",
       "      <th>3</th>\n",
       "      <td>Busty Real</td>\n",
       "      <td>rita_faltoyano</td>\n",
       "      <td>alex_gonz</td>\n",
       "      <td>she_wants_you</td>\n",
       "    </tr>\n",
       "    <tr>\n",
       "      <th>4</th>\n",
       "      <td>Busty Real</td>\n",
       "      <td>whitney_stevens</td>\n",
       "      <td>alex_gonz</td>\n",
       "      <td>whitneys_back</td>\n",
       "    </tr>\n",
       "    <tr>\n",
       "      <th>5</th>\n",
       "      <td>Busty Real</td>\n",
       "      <td>jada_fire</td>\n",
       "      <td>johnny_castle</td>\n",
       "      <td>jada_fires_pussy_is_on_fire</td>\n",
       "    </tr>\n",
       "    <tr>\n",
       "      <th>...</th>\n",
       "      <td>...</td>\n",
       "      <td>...</td>\n",
       "      <td>...</td>\n",
       "      <td>...</td>\n",
       "    </tr>\n",
       "    <tr>\n",
       "      <th>18</th>\n",
       "      <td>Sex Pro Adventures</td>\n",
       "      <td>NaN</td>\n",
       "      <td>NaN</td>\n",
       "      <td>NaN</td>\n",
       "    </tr>\n",
       "    <tr>\n",
       "      <th>19</th>\n",
       "      <td>Sex Pro Adventures</td>\n",
       "      <td>NaN</td>\n",
       "      <td>NaN</td>\n",
       "      <td>NaN</td>\n",
       "    </tr>\n",
       "    <tr>\n",
       "      <th>20</th>\n",
       "      <td>Sex Pro Adventures</td>\n",
       "      <td>NaN</td>\n",
       "      <td>NaN</td>\n",
       "      <td>NaN</td>\n",
       "    </tr>\n",
       "    <tr>\n",
       "      <th>21</th>\n",
       "      <td>Sex Pro Adventures</td>\n",
       "      <td>NaN</td>\n",
       "      <td>NaN</td>\n",
       "      <td>NaN</td>\n",
       "    </tr>\n",
       "    <tr>\n",
       "      <th>22</th>\n",
       "      <td>Sex Pro Adventures</td>\n",
       "      <td>NaN</td>\n",
       "      <td>NaN</td>\n",
       "      <td>NaN</td>\n",
       "    </tr>\n",
       "    <tr>\n",
       "      <th>23</th>\n",
       "      <td>Sex Pro Adventures</td>\n",
       "      <td>NaN</td>\n",
       "      <td>NaN</td>\n",
       "      <td>NaN</td>\n",
       "    </tr>\n",
       "    <tr>\n",
       "      <th>0</th>\n",
       "      <td>Sex Pro Adventures</td>\n",
       "      <td>brooke_belle</td>\n",
       "      <td>kinzie_kenner</td>\n",
       "      <td>happily_ever_after</td>\n",
       "    </tr>\n",
       "    <tr>\n",
       "      <th>1</th>\n",
       "      <td>Sex Pro Adventures</td>\n",
       "      <td>NaN</td>\n",
       "      <td>NaN</td>\n",
       "      <td>NaN</td>\n",
       "    </tr>\n",
       "    <tr>\n",
       "      <th>2</th>\n",
       "      <td>Sex Pro Adventures</td>\n",
       "      <td>NaN</td>\n",
       "      <td>NaN</td>\n",
       "      <td>NaN</td>\n",
       "    </tr>\n",
       "    <tr>\n",
       "      <th>3</th>\n",
       "      <td>Sex Pro Adventures</td>\n",
       "      <td>NaN</td>\n",
       "      <td>NaN</td>\n",
       "      <td>NaN</td>\n",
       "    </tr>\n",
       "    <tr>\n",
       "      <th>4</th>\n",
       "      <td>Sex Pro Adventures</td>\n",
       "      <td>NaN</td>\n",
       "      <td>NaN</td>\n",
       "      <td>NaN</td>\n",
       "    </tr>\n",
       "    <tr>\n",
       "      <th>5</th>\n",
       "      <td>Sex Pro Adventures</td>\n",
       "      <td>NaN</td>\n",
       "      <td>NaN</td>\n",
       "      <td>NaN</td>\n",
       "    </tr>\n",
       "    <tr>\n",
       "      <th>6</th>\n",
       "      <td>Sex Pro Adventures</td>\n",
       "      <td>NaN</td>\n",
       "      <td>NaN</td>\n",
       "      <td>NaN</td>\n",
       "    </tr>\n",
       "    <tr>\n",
       "      <th>7</th>\n",
       "      <td>Sex Pro Adventures</td>\n",
       "      <td>NaN</td>\n",
       "      <td>NaN</td>\n",
       "      <td>NaN</td>\n",
       "    </tr>\n",
       "    <tr>\n",
       "      <th>8</th>\n",
       "      <td>Sex Pro Adventures</td>\n",
       "      <td>NaN</td>\n",
       "      <td>NaN</td>\n",
       "      <td>NaN</td>\n",
       "    </tr>\n",
       "    <tr>\n",
       "      <th>9</th>\n",
       "      <td>Sex Pro Adventures</td>\n",
       "      <td>NaN</td>\n",
       "      <td>NaN</td>\n",
       "      <td>NaN</td>\n",
       "    </tr>\n",
       "    <tr>\n",
       "      <th>10</th>\n",
       "      <td>Sex Pro Adventures</td>\n",
       "      <td>NaN</td>\n",
       "      <td>NaN</td>\n",
       "      <td>NaN</td>\n",
       "    </tr>\n",
       "    <tr>\n",
       "      <th>11</th>\n",
       "      <td>Sex Pro Adventures</td>\n",
       "      <td>NaN</td>\n",
       "      <td>NaN</td>\n",
       "      <td>NaN</td>\n",
       "    </tr>\n",
       "    <tr>\n",
       "      <th>12</th>\n",
       "      <td>Sex Pro Adventures</td>\n",
       "      <td>NaN</td>\n",
       "      <td>NaN</td>\n",
       "      <td>NaN</td>\n",
       "    </tr>\n",
       "    <tr>\n",
       "      <th>13</th>\n",
       "      <td>Sex Pro Adventures</td>\n",
       "      <td>NaN</td>\n",
       "      <td>NaN</td>\n",
       "      <td>NaN</td>\n",
       "    </tr>\n",
       "    <tr>\n",
       "      <th>14</th>\n",
       "      <td>Sex Pro Adventures</td>\n",
       "      <td>NaN</td>\n",
       "      <td>NaN</td>\n",
       "      <td>NaN</td>\n",
       "    </tr>\n",
       "    <tr>\n",
       "      <th>15</th>\n",
       "      <td>Sex Pro Adventures</td>\n",
       "      <td>NaN</td>\n",
       "      <td>NaN</td>\n",
       "      <td>NaN</td>\n",
       "    </tr>\n",
       "    <tr>\n",
       "      <th>16</th>\n",
       "      <td>Sex Pro Adventures</td>\n",
       "      <td>NaN</td>\n",
       "      <td>NaN</td>\n",
       "      <td>NaN</td>\n",
       "    </tr>\n",
       "    <tr>\n",
       "      <th>17</th>\n",
       "      <td>Sex Pro Adventures</td>\n",
       "      <td>NaN</td>\n",
       "      <td>NaN</td>\n",
       "      <td>NaN</td>\n",
       "    </tr>\n",
       "    <tr>\n",
       "      <th>18</th>\n",
       "      <td>Sex Pro Adventures</td>\n",
       "      <td>NaN</td>\n",
       "      <td>NaN</td>\n",
       "      <td>NaN</td>\n",
       "    </tr>\n",
       "    <tr>\n",
       "      <th>19</th>\n",
       "      <td>Sex Pro Adventures</td>\n",
       "      <td>NaN</td>\n",
       "      <td>NaN</td>\n",
       "      <td>NaN</td>\n",
       "    </tr>\n",
       "    <tr>\n",
       "      <th>20</th>\n",
       "      <td>Sex Pro Adventures</td>\n",
       "      <td>NaN</td>\n",
       "      <td>NaN</td>\n",
       "      <td>NaN</td>\n",
       "    </tr>\n",
       "    <tr>\n",
       "      <th>21</th>\n",
       "      <td>Sex Pro Adventures</td>\n",
       "      <td>NaN</td>\n",
       "      <td>NaN</td>\n",
       "      <td>NaN</td>\n",
       "    </tr>\n",
       "    <tr>\n",
       "      <th>22</th>\n",
       "      <td>Sex Pro Adventures</td>\n",
       "      <td>NaN</td>\n",
       "      <td>NaN</td>\n",
       "      <td>NaN</td>\n",
       "    </tr>\n",
       "    <tr>\n",
       "      <th>23</th>\n",
       "      <td>Sex Pro Adventures</td>\n",
       "      <td>NaN</td>\n",
       "      <td>NaN</td>\n",
       "      <td>NaN</td>\n",
       "    </tr>\n",
       "  </tbody>\n",
       "</table></div>"
      ],
      "text/plain": [
       "                  Site                 PS1              PS2  \\\n",
       "0      Asses In Public          sunny_lane            talon   \n",
       "1      Asses In Public  cassandra_calogera              joe   \n",
       "2      Asses In Public      lacey_du_valle  andrew_andretti   \n",
       "3      Asses In Public              tricia     seth_dickens   \n",
       "4      Asses In Public        sheila_marie      tj_cummings   \n",
       "..                 ...                 ...              ...   \n",
       "19  Sex Pro Adventures                 NaN              NaN   \n",
       "20  Sex Pro Adventures                 NaN              NaN   \n",
       "21  Sex Pro Adventures                 NaN              NaN   \n",
       "22  Sex Pro Adventures                 NaN              NaN   \n",
       "23  Sex Pro Adventures                 NaN              NaN   \n",
       "\n",
       "                     Title  \n",
       "0       sex_on_a_sunny_day  \n",
       "1       cassie_in_the_city  \n",
       "2               garage_sex  \n",
       "3   public_fun_with_tricia  \n",
       "4        chillin_around_la  \n",
       "..                     ...  \n",
       "19                     NaN  \n",
       "20                     NaN  \n",
       "21                     NaN  \n",
       "22                     NaN  \n",
       "23                     NaN  \n",
       "\n",
       "[168 rows x 4 columns]"
      ]
     },
     "execution_count": 43,
     "metadata": {},
     "output_type": "execute_result"
    }
   ],
   "source": [
    "df_tmp_missing_sites"
   ]
  },
  {
   "cell_type": "code",
   "execution_count": null,
   "id": "d645c2a8-cee0-4ee6-9321-cca0a626fc88",
   "metadata": {},
   "outputs": [],
   "source": []
  }
 ],
 "metadata": {
  "kernelspec": {
   "display_name": "Python 3",
   "language": "python",
   "name": "python3"
  },
  "language_info": {
   "codemirror_mode": {
    "name": "ipython",
    "version": 3
   },
   "file_extension": ".py",
   "mimetype": "text/x-python",
   "name": "python",
   "nbconvert_exporter": "python",
   "pygments_lexer": "ipython3",
   "version": "3.8.8"
  }
 },
 "nbformat": 4,
 "nbformat_minor": 5
}
