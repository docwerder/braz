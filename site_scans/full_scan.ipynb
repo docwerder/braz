{
 "cells": [
  {
   "cell_type": "code",
   "execution_count": 11,
   "id": "163d4313-11f0-49bb-a0bd-162722d69a28",
   "metadata": {},
   "outputs": [],
   "source": [
    "import pandas as pd"
   ]
  },
  {
   "cell_type": "code",
   "execution_count": 6,
   "id": "9f5c0684-49e8-4794-8734-f3b948a5f6d2",
   "metadata": {},
   "outputs": [],
   "source": [
    "db_sites = ['https://www.brazzers.com/videos/site/79/asses-in-public/sortby/views/page/',\n",
    "            'https://www.brazzers.com/videos/site/96/brazzers-exxtra/sortby/views/page/',\n",
    "            'https://www.brazzers.com/videos/site/82/big-butts-like-it-big/sortby/views/page/',\n",
    "            'https://www.brazzers.com/videos/site/66/baby-got-boobs/sortby/views/page/',\n",
    "            'https://www.brazzers.com/videos/site/75/big-tits-at-school/sortby/views/page/',\n",
    "            'https://www.brazzers.com/videos/site/71/big-tits-at-work/sortby/views/page/',\n",
    "            'https://www.brazzers.com/videos/site/83/big-tits-in-sports/sortby/views/page/',\n",
    "            'https://www.brazzers.com/videos/site/89/big-tits-in-uniform/sortby/views/page/',\n",
    "            'https://www.brazzers.com/videos/site/60/busty-real/sortby/views/page/', \n",
    "            'https://www.brazzers.com/videos/site/63/bustyz/sortby/views/page/',\n",
    "            'https://www.brazzers.com/videos/site/65/big-wet-butts/sortby/views/page/',\n",
    "            'https://www.brazzers.com/videos/site/84/brazzers-vault/sortby/views/page/',\n",
    "            'https://www.brazzers.com/videos/site/98/cfnm/sortby/views/page/',\n",
    "            'https://www.brazzers.com/videos/site/62/doctor-adventures/sortby/views/page/',\n",
    "            'https://www.brazzers.com/videos/site/94/dirty-masseur/sortby/views/page/',\n",
    "            'https://www.brazzers.com/videos/site/87/day-with-a-pornstar/views/page/',\n",
    "            'https://www.brazzers.com/videos/site/90/hot-and-mean/sortby/views/page/',\n",
    "            'https://www.brazzers.com/videos/site/64/hot-chicks-big-asses/sortby/views/page/',\n",
    "            'https://www.brazzers.com/videos/site/69/jug-fuckers/sortby/views/page/',\n",
    "            'https://www.brazzers.com/videos/site/67/mommy-got-boobs/sortby/views/page/',\n",
    "            'https://www.brazzers.com/videos/site/99/moms-in-control/sortby/views/page/',\n",
    "            'https://www.brazzers.com/videos/site/78/milfs-like-it-big/sortby/views/page/',\n",
    "            'https://www.brazzers.com/videos/site/77/pornstars-like-it-big/sortby/views/page/',\n",
    "            'https://www.brazzers.com/videos/site/81/real-wife-stories/sortby/views/page/',\n",
    "            'https://www.brazzers.com/videos/site/76/sex-pro-adventures/sortby/views/page/',\n",
    "            'https://www.brazzers.com/videos/site/95/shes-gonna-squirt/sortby/views/page/',\n",
    "            'https://www.brazzers.com/videos/site/80/teens-like-it-big/sortby/views/page/',\n",
    "            'https://www.brazzers.com/videos/site/92/zz-series/sortby/views/page/'\n",
    "            ]"
   ]
  },
  {
   "cell_type": "code",
   "execution_count": 9,
   "id": "48c2bf41-adca-4744-85cc-760262576460",
   "metadata": {},
   "outputs": [],
   "source": [
    "len_of_sites = ['14', '1447', '338', '530', '502', '587', '212', '149', '10', '21', '580', '95', '13', '547',\n",
    "                '369', '196', '617', '10', '7', '573', '116', '574', '649', '659', '1', '46', '559', '119']"
   ]
  },
  {
   "cell_type": "code",
   "execution_count": 12,
   "id": "9ffca6c1-6025-4dec-914d-d2235316be87",
   "metadata": {},
   "outputs": [],
   "source": [
    "page_content_db = pd.DataFrame()\n",
    "page_number_db = {}\n",
    "page_content_tmp = {}\n",
    "page_columns = []\n",
    "ps1_db = pd.DataFrame()\n",
    "ps2_db = {}\n",
    "title_db = {}\n",
    "db_site_name = pd.DataFrame()"
   ]
  },
  {
   "cell_type": "code",
   "execution_count": 16,
   "id": "18321067-abbe-42d6-9d56-f2e303948b41",
   "metadata": {},
   "outputs": [
    {
     "name": "stdout",
     "output_type": "stream",
     "text": [
      "actual_site:  https://www.brazzers.com/videos/site/79/asses-in-public/sortby/views/page/14\n",
      "actual_site:  https://www.brazzers.com/videos/site/79/asses-in-public/sortby/views/page/1447\n",
      "actual_site:  https://www.brazzers.com/videos/site/79/asses-in-public/sortby/views/page/338\n",
      "actual_site:  https://www.brazzers.com/videos/site/79/asses-in-public/sortby/views/page/530\n",
      "actual_site:  https://www.brazzers.com/videos/site/79/asses-in-public/sortby/views/page/502\n",
      "actual_site:  https://www.brazzers.com/videos/site/79/asses-in-public/sortby/views/page/587\n",
      "actual_site:  https://www.brazzers.com/videos/site/79/asses-in-public/sortby/views/page/212\n",
      "actual_site:  https://www.brazzers.com/videos/site/79/asses-in-public/sortby/views/page/149\n",
      "actual_site:  https://www.brazzers.com/videos/site/79/asses-in-public/sortby/views/page/10\n",
      "actual_site:  https://www.brazzers.com/videos/site/79/asses-in-public/sortby/views/page/21\n",
      "actual_site:  https://www.brazzers.com/videos/site/79/asses-in-public/sortby/views/page/580\n",
      "actual_site:  https://www.brazzers.com/videos/site/79/asses-in-public/sortby/views/page/95\n",
      "actual_site:  https://www.brazzers.com/videos/site/79/asses-in-public/sortby/views/page/13\n",
      "actual_site:  https://www.brazzers.com/videos/site/79/asses-in-public/sortby/views/page/547\n",
      "actual_site:  https://www.brazzers.com/videos/site/79/asses-in-public/sortby/views/page/369\n",
      "actual_site:  https://www.brazzers.com/videos/site/79/asses-in-public/sortby/views/page/196\n",
      "actual_site:  https://www.brazzers.com/videos/site/79/asses-in-public/sortby/views/page/617\n",
      "actual_site:  https://www.brazzers.com/videos/site/79/asses-in-public/sortby/views/page/10\n",
      "actual_site:  https://www.brazzers.com/videos/site/79/asses-in-public/sortby/views/page/7\n",
      "actual_site:  https://www.brazzers.com/videos/site/79/asses-in-public/sortby/views/page/573\n",
      "actual_site:  https://www.brazzers.com/videos/site/79/asses-in-public/sortby/views/page/116\n",
      "actual_site:  https://www.brazzers.com/videos/site/79/asses-in-public/sortby/views/page/574\n",
      "actual_site:  https://www.brazzers.com/videos/site/79/asses-in-public/sortby/views/page/649\n",
      "actual_site:  https://www.brazzers.com/videos/site/79/asses-in-public/sortby/views/page/659\n",
      "actual_site:  https://www.brazzers.com/videos/site/79/asses-in-public/sortby/views/page/1\n",
      "actual_site:  https://www.brazzers.com/videos/site/79/asses-in-public/sortby/views/page/46\n",
      "actual_site:  https://www.brazzers.com/videos/site/79/asses-in-public/sortby/views/page/559\n",
      "actual_site:  https://www.brazzers.com/videos/site/79/asses-in-public/sortby/views/page/119\n",
      "actual_site:  https://www.brazzers.com/videos/site/96/brazzers-exxtra/sortby/views/page/14\n",
      "actual_site:  https://www.brazzers.com/videos/site/96/brazzers-exxtra/sortby/views/page/1447\n",
      "actual_site:  https://www.brazzers.com/videos/site/96/brazzers-exxtra/sortby/views/page/338\n",
      "actual_site:  https://www.brazzers.com/videos/site/96/brazzers-exxtra/sortby/views/page/530\n",
      "actual_site:  https://www.brazzers.com/videos/site/96/brazzers-exxtra/sortby/views/page/502\n",
      "actual_site:  https://www.brazzers.com/videos/site/96/brazzers-exxtra/sortby/views/page/587\n",
      "actual_site:  https://www.brazzers.com/videos/site/96/brazzers-exxtra/sortby/views/page/212\n",
      "actual_site:  https://www.brazzers.com/videos/site/96/brazzers-exxtra/sortby/views/page/149\n",
      "actual_site:  https://www.brazzers.com/videos/site/96/brazzers-exxtra/sortby/views/page/10\n",
      "actual_site:  https://www.brazzers.com/videos/site/96/brazzers-exxtra/sortby/views/page/21\n",
      "actual_site:  https://www.brazzers.com/videos/site/96/brazzers-exxtra/sortby/views/page/580\n",
      "actual_site:  https://www.brazzers.com/videos/site/96/brazzers-exxtra/sortby/views/page/95\n",
      "actual_site:  https://www.brazzers.com/videos/site/96/brazzers-exxtra/sortby/views/page/13\n",
      "actual_site:  https://www.brazzers.com/videos/site/96/brazzers-exxtra/sortby/views/page/547\n",
      "actual_site:  https://www.brazzers.com/videos/site/96/brazzers-exxtra/sortby/views/page/369\n",
      "actual_site:  https://www.brazzers.com/videos/site/96/brazzers-exxtra/sortby/views/page/196\n",
      "actual_site:  https://www.brazzers.com/videos/site/96/brazzers-exxtra/sortby/views/page/617\n",
      "actual_site:  https://www.brazzers.com/videos/site/96/brazzers-exxtra/sortby/views/page/10\n",
      "actual_site:  https://www.brazzers.com/videos/site/96/brazzers-exxtra/sortby/views/page/7\n",
      "actual_site:  https://www.brazzers.com/videos/site/96/brazzers-exxtra/sortby/views/page/573\n",
      "actual_site:  https://www.brazzers.com/videos/site/96/brazzers-exxtra/sortby/views/page/116\n",
      "actual_site:  https://www.brazzers.com/videos/site/96/brazzers-exxtra/sortby/views/page/574\n",
      "actual_site:  https://www.brazzers.com/videos/site/96/brazzers-exxtra/sortby/views/page/649\n",
      "actual_site:  https://www.brazzers.com/videos/site/96/brazzers-exxtra/sortby/views/page/659\n",
      "actual_site:  https://www.brazzers.com/videos/site/96/brazzers-exxtra/sortby/views/page/1\n",
      "actual_site:  https://www.brazzers.com/videos/site/96/brazzers-exxtra/sortby/views/page/46\n",
      "actual_site:  https://www.brazzers.com/videos/site/96/brazzers-exxtra/sortby/views/page/559\n",
      "actual_site:  https://www.brazzers.com/videos/site/96/brazzers-exxtra/sortby/views/page/119\n"
     ]
    }
   ],
   "source": [
    "for site in db_sites[:2]:\n",
    "    for site_number in len_of_sites:\n",
    "        actual_site = site + site_number\n",
    "        print('actual_site: ', actual_site)"
   ]
  },
  {
   "cell_type": "code",
   "execution_count": null,
   "id": "d554c911-92ed-4e0d-ba05-10c9c38f25bd",
   "metadata": {},
   "outputs": [],
   "source": []
  }
 ],
 "metadata": {
  "kernelspec": {
   "display_name": "Python 3",
   "language": "python",
   "name": "python3"
  },
  "language_info": {
   "codemirror_mode": {
    "name": "ipython",
    "version": 3
   },
   "file_extension": ".py",
   "mimetype": "text/x-python",
   "name": "python",
   "nbconvert_exporter": "python",
   "pygments_lexer": "ipython3",
   "version": "3.8.8"
  }
 },
 "nbformat": 4,
 "nbformat_minor": 5
}
