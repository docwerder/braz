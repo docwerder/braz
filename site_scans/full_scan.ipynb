{
 "cells": [
  {
   "cell_type": "code",
   "execution_count": null,
   "id": "163d4313-11f0-49bb-a0bd-162722d69a28",
   "metadata": {},
   "outputs": [],
   "source": [
    "import pandas as pd\n",
    "import math\n",
    "import sys\n",
    "sys.path.append('/Users/joerg/repos/braz')\n",
    "from utilities_functions import scan_func"
   ]
  },
  {
   "cell_type": "code",
   "execution_count": null,
   "id": "9f5c0684-49e8-4794-8734-f3b948a5f6d2",
   "metadata": {},
   "outputs": [],
   "source": [
    "db_sites = ['https://www.brazzers.com/videos/site/79/asses-in-public/sortby/views/page/',\n",
    "            'https://www.brazzers.com/videos/site/96/brazzers-exxtra/sortby/views/page/',\n",
    "            'https://www.brazzers.com/videos/site/82/big-butts-like-it-big/sortby/views/page/',\n",
    "            'https://www.brazzers.com/videos/site/66/baby-got-boobs/sortby/views/page/',\n",
    "            'https://www.brazzers.com/videos/site/75/big-tits-at-school/sortby/views/page/',\n",
    "            'https://www.brazzers.com/videos/site/71/big-tits-at-work/sortby/views/page/',\n",
    "            'https://www.brazzers.com/videos/site/83/big-tits-in-sports/sortby/views/page/',\n",
    "            'https://www.brazzers.com/videos/site/89/big-tits-in-uniform/sortby/views/page/',\n",
    "            'https://www.brazzers.com/videos/site/60/busty-real/sortby/views/page/', \n",
    "            'https://www.brazzers.com/videos/site/65/big-wet-butts/sortby/views/page/',\n",
    "            'https://www.brazzers.com/videos/site/84/brazzers-vault/sortby/views/page/',\n",
    "            'https://www.brazzers.com/videos/site/98/cfnm/sortby/views/page/',\n",
    "            'https://www.brazzers.com/videos/site/62/doctor-adventures/sortby/views/page/',\n",
    "            'https://www.brazzers.com/videos/site/94/dirty-masseur/sortby/views/page/',\n",
    "            'https://www.brazzers.com/videos/site/87/day-with-a-pornstar/views/page/',\n",
    "            'https://www.brazzers.com/videos/site/90/hot-and-mean/sortby/views/page/',\n",
    "            'https://www.brazzers.com/videos/site/64/hot-chicks-big-asses/sortby/views/page/',\n",
    "            'https://www.brazzers.com/videos/site/69/jug-fuckers/sortby/views/page/',\n",
    "            'https://www.brazzers.com/videos/site/67/mommy-got-boobs/sortby/views/page/',\n",
    "            'https://www.brazzers.com/videos/site/99/moms-in-control/sortby/views/page/',\n",
    "            'https://www.brazzers.com/videos/site/78/milfs-like-it-big/sortby/views/page/',\n",
    "            'https://www.brazzers.com/videos/site/77/pornstars-like-it-big/sortby/views/page/',\n",
    "            'https://www.brazzers.com/videos/site/81/real-wife-stories/sortby/views/page/',\n",
    "            'https://www.brazzers.com/videos/site/76/sex-pro-adventures/sortby/views/page/',\n",
    "            'https://www.brazzers.com/videos/site/95/shes-gonna-squirt/sortby/views/page/',\n",
    "            'https://www.brazzers.com/videos/site/80/teens-like-it-big/sortby/views/page/',\n",
    "            'https://www.brazzers.com/videos/site/92/zz-series/sortby/views/page/'\n",
    "            ]"
   ]
  },
  {
   "cell_type": "code",
   "execution_count": null,
   "id": "bfb65da5-a181-4e16-ba94-a678edb30045",
   "metadata": {},
   "outputs": [],
   "source": [
    "# 'https://www.brazzers.com/videos/site/63/bustyz/sortby/views/page/' len = 21 nach '10' und vor '580' rausgenommen!"
   ]
  },
  {
   "cell_type": "code",
   "execution_count": null,
   "id": "7c4c912e-2e4d-4fa2-b7aa-4faf56799f60",
   "metadata": {},
   "outputs": [],
   "source": [
    "# Chose the destict sites for scanning\n",
    "\n",
    "indexes = [1, 2, 3, 4, 5, 6, 7, 9, 10, 12, 13, 14, 15, 18, 19, 20, 21, 22, 24, 25, 26]\n",
    "chosen_sites = [db_sites[x] for x in indexes]"
   ]
  },
  {
   "cell_type": "code",
   "execution_count": null,
   "id": "e0bfe1b9-e85a-428d-87d6-fb247a3f150e",
   "metadata": {},
   "outputs": [],
   "source": [
    "len(chosen_sites)"
   ]
  },
  {
   "cell_type": "code",
   "execution_count": null,
   "id": "644aa762-3364-4365-bf05-a96617654f2c",
   "metadata": {},
   "outputs": [],
   "source": [
    "# Determination of the maximum number of pages\n",
    "max_page_len_of_sites = list()\n",
    "\n",
    "for lf_root in chosen_sites:\n",
    "    db_page_tmp_2 = scan_func(lf_root + str(1))\n",
    "    tmp_var = [i for i in db_page_tmp_2 if i.startswith('/videos/site/')]\n",
    "    max_page_number = tmp_var[-1].split('/')[-2]\n",
    "    \n",
    "    max_page_len_of_sites.append(max_page_number)\n",
    "\n",
    "print('max_page_len_of_sites: ', max_page_len_of_sites)"
   ]
  },
  {
   "cell_type": "code",
   "execution_count": null,
   "id": "1af66068-5c61-434e-be50-81afad83fb3a",
   "metadata": {},
   "outputs": [],
   "source": [
    "chosen_sites[1]"
   ]
  },
  {
   "cell_type": "code",
   "execution_count": null,
   "id": "bbb08ad5-c0b2-4869-a914-4242968715fd",
   "metadata": {},
   "outputs": [],
   "source": [
    "max_page_len_of_sites[1:3]"
   ]
  },
  {
   "cell_type": "code",
   "execution_count": null,
   "id": "147edbda-8f01-46cf-bb5b-73e83188395b",
   "metadata": {},
   "outputs": [],
   "source": [
    "# len_of_sites = ['14', '1447', '338', '530', '502', '587', '212', '149', '10', '580', '95', '13', '547',\n",
    "#                 '369', '196', '617', '10', '7', '573', '116', '574', '649', '659', '1', '46', '559', '119']"
   ]
  },
  {
   "cell_type": "code",
   "execution_count": null,
   "id": "62623cc3-9153-4a47-91cc-153de45a4633",
   "metadata": {},
   "outputs": [],
   "source": [
    "pd.set_option('display.max_rows', 1000)"
   ]
  },
  {
   "cell_type": "code",
   "execution_count": null,
   "id": "9ffca6c1-6025-4dec-914d-d2235316be87",
   "metadata": {},
   "outputs": [],
   "source": [
    "# page_content_db = pd.DataFrame()\n",
    "# page_number_db = {}\n",
    "# page_content_tmp = {}\n",
    "# page_columns = []\n",
    "# ps1_db = pd.DataFrame()\n",
    "# ps2_db = {}\n",
    "# title_db = {}\n",
    "# db_actual_site_name = pd.DataFrame()\n",
    "# db_actual_site_name_sliced = pd.DataFrame()"
   ]
  },
  {
   "cell_type": "code",
   "execution_count": null,
   "id": "18321067-abbe-42d6-9d56-f2e303948b41",
   "metadata": {},
   "outputs": [],
   "source": [
    "page_content_db = pd.DataFrame()\n",
    "page_number_db = {}\n",
    "page_content_tmp = {}\n",
    "page_columns = []\n",
    "ps1_db = pd.DataFrame()\n",
    "ps2_db = {}\n",
    "title_db = {}\n",
    "db_actual_site_name = pd.DataFrame()\n",
    "db_final_tmp = pd.DataFrame()\n",
    "db_actual_site_name_sliced = pd.DataFrame()\n",
    "\n",
    "# Determination of the maximum number of pages\n",
    "# for lf_root in db_sites[12:13]:\n",
    "#     db_page_tmp_2 = scan_func(lf_root)\n",
    "#     db_page_tmp_2 = [i for i in db_page_tmp if i.startswith('/videos/site/')]\n",
    "#         print('db_page_tmp: ', db_page_tmp_2)\n",
    "\n",
    "        \n",
    "        \n",
    "for root_site, number in zip(chosen_sites, max_page_len_of_sites):\n",
    "    print('max..' , number)\n",
    "  \n",
    "\n",
    "    # max_page_number = math.ceil(int(number) / 24)\n",
    "       \n",
    "    for page_nr in range(1, int(number) + 1):\n",
    "        # print('page_nr: ', page_nr)\n",
    "        actual_site = root_site + str(page_nr)\n",
    "        site_name = actual_site.split('/')[-5].replace('-', ' ').title()\n",
    "            \n",
    "        print('site_name: ', site_name)\n",
    "        db_page_tmp = scan_func(actual_site)\n",
    "        db_page_video = [i for i in db_page_tmp if i.startswith('/video/')]\n",
    "        \n",
    "        db_page_ps = [i for i in db_page_tmp if i.startswith('/pornstar/')]\n",
    "        ps1 = [h.split('/')[-1].replace('-','_') for h in db_page_ps[::2]]\n",
    "        ps2 = [h.split('/')[-1].replace('-', '_') for h in db_page_ps[1::2]]\n",
    "        \n",
    "        title = [h.split('/')[-1].replace('-', '_') for h in db_page_video[::2]]\n",
    "        #print('title: ', title)\n",
    "        site_tmp = [site_name]\n",
    "        #print('site_tmp: ', site_name)\n",
    "        site = list(site_tmp) * 24\n",
    "        #print('site: ', site)\n",
    "        \n",
    "        \n",
    "        ps1_db = pd.DataFrame(ps1)\n",
    "        ps2_db = pd.DataFrame(ps2)\n",
    "        title_db = pd.DataFrame(title)\n",
    "        site_db = pd.DataFrame(site)\n",
    "        \n",
    "        db_all_tmp = pd.concat([site_db, ps1_db, ps2_db, title_db], axis=1)\n",
    "        custom_cols = ['Site', 'PS1', 'PS2', 'Title']\n",
    "        #print('db_all_tmp: ', db_all_tmp)\n",
    "        db_all_tmp.columns = custom_cols\n",
    "        db_actual_site_name = pd.concat([db_actual_site_name, db_all_tmp])\n",
    "        #print('db_all_tmp: ', db_all_tmp)\n",
    "        #print('db_actual_site_name:\\n ', db_actual_site_name)\n",
    "\n",
    "    df_tmp = db_actual_site_name\n",
    "    #print('df_tmp: ', db_actual_site_name)\n",
    "    \n",
    "df_1_tmp = db_actual_site_name"
   ]
  },
  {
   "cell_type": "code",
   "execution_count": null,
   "id": "6ddb36a5-2b88-42c9-9b8d-908fc105b38a",
   "metadata": {},
   "outputs": [],
   "source": [
    "df = df_1_tmp.reset_index()\n",
    "del df['index']\n",
    "pd.set_option('display.max_rows', 1000)"
   ]
  },
  {
   "cell_type": "code",
   "execution_count": null,
   "id": "86d4da0c-73d5-4fde-be1c-73dacc4e4666",
   "metadata": {},
   "outputs": [],
   "source": [
    "df.to_csv('final_df_tmp.csv')"
   ]
  },
  {
   "cell_type": "code",
   "execution_count": null,
   "id": "00a5a30b-6f63-4263-b138-2ce219f3ae5d",
   "metadata": {},
   "outputs": [],
   "source": [
    "df.to_csv('final_df_tmp.csv')"
   ]
  },
  {
   "cell_type": "markdown",
   "id": "ea3f4ade-ad0e-459c-8a29-985801f3cb0f",
   "metadata": {},
   "source": [
    "***"
   ]
  },
  {
   "cell_type": "code",
   "execution_count": 1,
   "id": "68aae60d-23d6-407a-a19d-f399cfd206f8",
   "metadata": {},
   "outputs": [],
   "source": [
    "# If its necessary!\n",
    "df = pd.read_csv('final_df_tmp.csv')"
   ]
  },
  {
   "cell_type": "code",
   "execution_count": 2,
   "id": "0d155869-40a0-486f-94f0-389012ccb654",
   "metadata": {},
   "outputs": [],
   "source": [
    "import copy\n",
    "df_2 = copy.deepcopy(df)"
   ]
  },
  {
   "cell_type": "code",
   "execution_count": 3,
   "id": "6c2f107e-e4d7-4b73-9afb-1e267605b31a",
   "metadata": {},
   "outputs": [],
   "source": [
    "# Take all cells at columns \"PS1\" which are not NaN!\n",
    "df_2 = df_2[df_2['PS1'].notna()]"
   ]
  },
  {
   "cell_type": "code",
   "execution_count": 4,
   "id": "99241798-d5b7-4f4c-8713-0efaed42d26e",
   "metadata": {},
   "outputs": [],
   "source": [
    "# Some rows contains NaN value at column 'PS2'...\n",
    "# df[df['PS2'].isna()]\n",
    "# IMPORTANT: Manipulate only df_2!!!\n",
    "df_2['PS2'] = df_2['PS2'].fillna('no_name')"
   ]
  },
  {
   "cell_type": "code",
   "execution_count": 5,
   "id": "c0db2e1b-9220-4192-8888-cba4f7d81a08",
   "metadata": {},
   "outputs": [
    {
     "data": {
      "text/plain": [
       "Unnamed: 0                     1439\n",
       "Site                Brazzers Exxtra\n",
       "PS1                    charles_dera\n",
       "PS2                         no_name\n",
       "Title         creeping_in_her_crypt\n",
       "Name: 1439, dtype: object"
      ]
     },
     "execution_count": 5,
     "metadata": {},
     "output_type": "execute_result"
    }
   ],
   "source": [
    "# for example: to see whether the function are correct!\n",
    "df_2.iloc[1439]# , 'PS2']\n",
    "# df[(df['Site'] == 'Big Butts Like It Big') & (df['PS1'] == 'jasmine_black')].index.values.item()\n"
   ]
  },
  {
   "cell_type": "code",
   "execution_count": 6,
   "id": "b484d585-bcfb-4c47-9f97-35d40505ac4f",
   "metadata": {},
   "outputs": [
    {
     "data": {
      "text/html": [
       "<div><div id=e77ffa8e-dc1a-4932-bb5c-f4aebd439e8c style=\"display:none; background-color:#9D6CFF; color:white; width:200px; height:30px; padding-left:5px; border-radius:4px; flex-direction:row; justify-content:space-around; align-items:center;\" onmouseover=\"this.style.backgroundColor='#BA9BF8'\" onmouseout=\"this.style.backgroundColor='#9D6CFF'\" onclick=\"window.commands?.execute('create-mitosheet-from-dataframe-output');\">See Full Dataframe in Mito</div> <script> if (window.commands.hasCommand('create-mitosheet-from-dataframe-output')) document.getElementById('e77ffa8e-dc1a-4932-bb5c-f4aebd439e8c').style.display = 'flex' </script> <table border=\"1\" class=\"dataframe\">\n",
       "  <thead>\n",
       "    <tr style=\"text-align: right;\">\n",
       "      <th></th>\n",
       "      <th>Unnamed: 0</th>\n",
       "      <th>Site</th>\n",
       "      <th>PS1</th>\n",
       "      <th>PS2</th>\n",
       "      <th>Title</th>\n",
       "    </tr>\n",
       "  </thead>\n",
       "  <tbody>\n",
       "    <tr>\n",
       "      <th>9690</th>\n",
       "      <td>9690</td>\n",
       "      <td>Zz Series</td>\n",
       "      <td>riley_reid</td>\n",
       "      <td>mick_blue</td>\n",
       "      <td>brazzi_bots_part_1</td>\n",
       "    </tr>\n",
       "    <tr>\n",
       "      <th>9691</th>\n",
       "      <td>9691</td>\n",
       "      <td>Zz Series</td>\n",
       "      <td>lulu_chu</td>\n",
       "      <td>mick_blue</td>\n",
       "      <td>kinky_secrets_of_the_suburbs_part_2</td>\n",
       "    </tr>\n",
       "    <tr>\n",
       "      <th>9692</th>\n",
       "      <td>9692</td>\n",
       "      <td>Zz Series</td>\n",
       "      <td>karma_rx</td>\n",
       "      <td>lela_star</td>\n",
       "      <td>brazzi_bots_part_4</td>\n",
       "    </tr>\n",
       "    <tr>\n",
       "      <th>9693</th>\n",
       "      <td>9693</td>\n",
       "      <td>Zz Series</td>\n",
       "      <td>abigail_mac</td>\n",
       "      <td>nicolette_shea</td>\n",
       "      <td>brazzi_bots_part_2</td>\n",
       "    </tr>\n",
       "    <tr>\n",
       "      <th>9694</th>\n",
       "      <td>9694</td>\n",
       "      <td>Zz Series</td>\n",
       "      <td>lela_star</td>\n",
       "      <td>xander_corvus</td>\n",
       "      <td>brazzi_bots_part_3</td>\n",
       "    </tr>\n",
       "  </tbody>\n",
       "</table></div>"
      ],
      "text/plain": [
       "      Unnamed: 0       Site          PS1             PS2  \\\n",
       "9690        9690  Zz Series   riley_reid       mick_blue   \n",
       "9691        9691  Zz Series     lulu_chu       mick_blue   \n",
       "9692        9692  Zz Series     karma_rx       lela_star   \n",
       "9693        9693  Zz Series  abigail_mac  nicolette_shea   \n",
       "9694        9694  Zz Series    lela_star   xander_corvus   \n",
       "\n",
       "                                    Title  \n",
       "9690                   brazzi_bots_part_1  \n",
       "9691  kinky_secrets_of_the_suburbs_part_2  \n",
       "9692                   brazzi_bots_part_4  \n",
       "9693                   brazzi_bots_part_2  \n",
       "9694                   brazzi_bots_part_3  "
      ]
     },
     "execution_count": 6,
     "metadata": {},
     "output_type": "execute_result"
    }
   ],
   "source": [
    "# Overview, whether the correct numbers of titles existent within the sites...\n",
    "df_2.tail()"
   ]
  },
  {
   "cell_type": "markdown",
   "id": "409217e6-9ed3-4063-a85c-08acf0781b91",
   "metadata": {},
   "source": [
    "### Search masks .. "
   ]
  },
  {
   "cell_type": "code",
   "execution_count": 9,
   "id": "40e61ef8-25ff-4089-96bb-17c2b8116a5f",
   "metadata": {},
   "outputs": [
    {
     "data": {
      "text/html": [
       "<div><div id=69902091-0223-400a-82a8-8e5b991cbb82 style=\"display:none; background-color:#9D6CFF; color:white; width:200px; height:30px; padding-left:5px; border-radius:4px; flex-direction:row; justify-content:space-around; align-items:center;\" onmouseover=\"this.style.backgroundColor='#BA9BF8'\" onmouseout=\"this.style.backgroundColor='#9D6CFF'\" onclick=\"window.commands?.execute('create-mitosheet-from-dataframe-output');\">See Full Dataframe in Mito</div> <script> if (window.commands.hasCommand('create-mitosheet-from-dataframe-output')) document.getElementById('69902091-0223-400a-82a8-8e5b991cbb82').style.display = 'flex' </script> <table border=\"1\" class=\"dataframe\">\n",
       "  <thead>\n",
       "    <tr style=\"text-align: right;\">\n",
       "      <th></th>\n",
       "      <th>Unnamed: 0</th>\n",
       "      <th>Site</th>\n",
       "      <th>PS1</th>\n",
       "      <th>PS2</th>\n",
       "      <th>Title</th>\n",
       "    </tr>\n",
       "  </thead>\n",
       "  <tbody>\n",
       "    <tr>\n",
       "      <th>2669</th>\n",
       "      <td>2669</td>\n",
       "      <td>Big Tits At School</td>\n",
       "      <td>dylan_ryder</td>\n",
       "      <td>sonny_hicks</td>\n",
       "      <td>dylan_rydes_sonny</td>\n",
       "    </tr>\n",
       "    <tr>\n",
       "      <th>3163</th>\n",
       "      <td>3163</td>\n",
       "      <td>Big Tits At Work</td>\n",
       "      <td>dylan_ryder</td>\n",
       "      <td>keiran_lee</td>\n",
       "      <td>full_page_spread_eagle</td>\n",
       "    </tr>\n",
       "    <tr>\n",
       "      <th>3762</th>\n",
       "      <td>3762</td>\n",
       "      <td>Big Tits In Uniform</td>\n",
       "      <td>dylan_ryder</td>\n",
       "      <td>keiran_lee</td>\n",
       "      <td>zippity_zappers</td>\n",
       "    </tr>\n",
       "    <tr>\n",
       "      <th>5633</th>\n",
       "      <td>5633</td>\n",
       "      <td>87</td>\n",
       "      <td>dylan_ryder</td>\n",
       "      <td>levi_cash</td>\n",
       "      <td>laid_in_the_everglades</td>\n",
       "    </tr>\n",
       "    <tr>\n",
       "      <th>6238</th>\n",
       "      <td>6238</td>\n",
       "      <td>Hot And Mean</td>\n",
       "      <td>dylan_ryder</td>\n",
       "      <td>tiffany_tyler</td>\n",
       "      <td>rob_this_bitch</td>\n",
       "    </tr>\n",
       "    <tr>\n",
       "      <th>6682</th>\n",
       "      <td>6682</td>\n",
       "      <td>Mommy Got Boobs</td>\n",
       "      <td>dylan_ryder</td>\n",
       "      <td>danny_mountain</td>\n",
       "      <td>the_coach_bone</td>\n",
       "    </tr>\n",
       "    <tr>\n",
       "      <th>6709</th>\n",
       "      <td>6709</td>\n",
       "      <td>Mommy Got Boobs</td>\n",
       "      <td>dylan_ryder</td>\n",
       "      <td>johnny_sins</td>\n",
       "      <td>if_you_cant_handle_the_heat_then_suck_on_my_tits</td>\n",
       "    </tr>\n",
       "    <tr>\n",
       "      <th>7384</th>\n",
       "      <td>7384</td>\n",
       "      <td>Milfs Like It Big</td>\n",
       "      <td>dylan_ryder</td>\n",
       "      <td>keiran_lee</td>\n",
       "      <td>how_to_trap_a_whore</td>\n",
       "    </tr>\n",
       "    <tr>\n",
       "      <th>7420</th>\n",
       "      <td>7420</td>\n",
       "      <td>Milfs Like It Big</td>\n",
       "      <td>dylan_ryder</td>\n",
       "      <td>abby_rode</td>\n",
       "      <td>two_cock_hungry_milfs_dining</td>\n",
       "    </tr>\n",
       "    <tr>\n",
       "      <th>7481</th>\n",
       "      <td>7481</td>\n",
       "      <td>Milfs Like It Big</td>\n",
       "      <td>dylan_ryder</td>\n",
       "      <td>shane_dizzle</td>\n",
       "      <td>video_store_incident</td>\n",
       "    </tr>\n",
       "    <tr>\n",
       "      <th>7958</th>\n",
       "      <td>7958</td>\n",
       "      <td>Pornstars Like It Big</td>\n",
       "      <td>dylan_ryder</td>\n",
       "      <td>johnny_sins</td>\n",
       "      <td>one_last_fuck</td>\n",
       "    </tr>\n",
       "    <tr>\n",
       "      <th>8681</th>\n",
       "      <td>8681</td>\n",
       "      <td>Real Wife Stories</td>\n",
       "      <td>dylan_ryder</td>\n",
       "      <td>charles_dera</td>\n",
       "      <td>happily_married</td>\n",
       "    </tr>\n",
       "  </tbody>\n",
       "</table></div>"
      ],
      "text/plain": [
       "      Unnamed: 0                   Site          PS1             PS2  \\\n",
       "2669        2669     Big Tits At School  dylan_ryder     sonny_hicks   \n",
       "3163        3163       Big Tits At Work  dylan_ryder      keiran_lee   \n",
       "3762        3762    Big Tits In Uniform  dylan_ryder      keiran_lee   \n",
       "5633        5633                     87  dylan_ryder       levi_cash   \n",
       "6238        6238           Hot And Mean  dylan_ryder   tiffany_tyler   \n",
       "6682        6682        Mommy Got Boobs  dylan_ryder  danny_mountain   \n",
       "6709        6709        Mommy Got Boobs  dylan_ryder     johnny_sins   \n",
       "7384        7384      Milfs Like It Big  dylan_ryder      keiran_lee   \n",
       "7420        7420      Milfs Like It Big  dylan_ryder       abby_rode   \n",
       "7481        7481      Milfs Like It Big  dylan_ryder    shane_dizzle   \n",
       "7958        7958  Pornstars Like It Big  dylan_ryder     johnny_sins   \n",
       "8681        8681      Real Wife Stories  dylan_ryder    charles_dera   \n",
       "\n",
       "                                                 Title  \n",
       "2669                                 dylan_rydes_sonny  \n",
       "3163                            full_page_spread_eagle  \n",
       "3762                                   zippity_zappers  \n",
       "5633                            laid_in_the_everglades  \n",
       "6238                                    rob_this_bitch  \n",
       "6682                                    the_coach_bone  \n",
       "6709  if_you_cant_handle_the_heat_then_suck_on_my_tits  \n",
       "7384                               how_to_trap_a_whore  \n",
       "7420                      two_cock_hungry_milfs_dining  \n",
       "7481                              video_store_incident  \n",
       "7958                                     one_last_fuck  \n",
       "8681                                   happily_married  "
      ]
     },
     "execution_count": 9,
     "metadata": {},
     "output_type": "execute_result"
    }
   ],
   "source": [
    "# substr = \"kinky_secrets_of_the_suburbs_part_4\"\n",
    "substr = \"dylan_ryder\"\n",
    "\n",
    "df_2[df_2['PS1'].str.contains(substr)]\n",
    "# len(df_2[df_2['PS1'].str.contains(substr)])"
   ]
  },
  {
   "cell_type": "code",
   "execution_count": 9,
   "id": "9eeebcfd-f5d8-4b0b-a776-9e68c34d0f44",
   "metadata": {},
   "outputs": [],
   "source": [
    "# Obosolete, because the values 'no_name' have been written \n",
    "# by the command: df_2['PS2'] = df_2['PS2'].fillna('no_name')!\n",
    "\n",
    "#jb = df[(df['Site'] == 'Big Butts Like It Big') & (df['PS1'] == 'jasmine_black')].index.values.item()\n",
    "jb_2 = df_2[(df_2['Site'] == 'Big Butts Like It Big') & (df_2['PS1'] == 'jasmine_black')].index.values.item()\n",
    "# df_2.at[jb, 'PS2'] = 'no_name'\n",
    "\n",
    "# ev = df[(df['Site'] == 'Big Butts Like It Big') & (df['PS1'] == 'erik_everhard')].index.values.item()\n",
    "# df_2.at[ev, 'PS2'] = 'bridgette_b'\n",
    "\n",
    "# jd = df[(df['Site'] == 'Big Butts Like It Big') & (df['PS1'] == 'james_deen') & (df['PS2'].isnull().values)].index.values.item()\n",
    "# df_2.at[jd, 'PS2'] = 'no_name'\n",
    "\n",
    "# js = df[(df['Site'] == 'Baby Got Boobs') & (df['PS1'] == 'johnny_sins') & (df['PS2'].isnull().values)].index.values.item()\n",
    "# df_2.at[js, 'PS2'] = 'no_name'\n",
    "\n",
    "# df_2_final = df_2.dropna()\n",
    "# #del df_2_final['Unnamed: 0']"
   ]
  },
  {
   "cell_type": "code",
   "execution_count": 11,
   "id": "d911b5f3-ae2c-40ca-83be-f0b8454e3131",
   "metadata": {},
   "outputs": [
    {
     "data": {
      "text/plain": [
       "Brazzers Exxtra          1451\n",
       "Real Wife Stories         659\n",
       "Pornstars Like It Big     650\n",
       "Hot And Mean              617\n",
       "Big Tits At Work          587\n",
       "Big Wet Butts             579\n",
       "Milfs Like It Big         574\n",
       "Mommy Got Boobs           572\n",
       "Teens Like It Big         559\n",
       "Doctor Adventures         546\n",
       "Baby Got Boobs            530\n",
       "Big Tits At School        502\n",
       "Dirty Masseur             369\n",
       "Big Butts Like It Big     338\n",
       "Big Tits In Sports        212\n",
       "87                        170\n",
       "Big Tits In Uniform       149\n",
       "Zz Series                 119\n",
       "Moms In Control           116\n",
       "Brazzers Vault             95\n",
       "Shes Gonna Squirt          46\n",
       "Name: Site, dtype: int64"
      ]
     },
     "execution_count": 11,
     "metadata": {},
     "output_type": "execute_result"
    }
   ],
   "source": [
    "#len(df[df['Site'] == 'Brazzers Exxtra'])\n",
    "df_2['Site'].value_counts()"
   ]
  },
  {
   "cell_type": "code",
   "execution_count": null,
   "id": "5e1c42d2-b486-4d40-96cb-a1b813b93814",
   "metadata": {},
   "outputs": [],
   "source": [
    "df[(df['Site'] == 'Baby Got Boobs') & (df['PS1'] == 'johnny_sins') & (df['PS2'].isnull().values)].index.values.item()"
   ]
  },
  {
   "cell_type": "code",
   "execution_count": null,
   "id": "50211ec9-10fc-4df4-81dc-5366896cbddf",
   "metadata": {},
   "outputs": [],
   "source": [
    "len(df_2_final)"
   ]
  },
  {
   "cell_type": "code",
   "execution_count": null,
   "id": "30805855-7392-4d20-8917-04c0a842b83a",
   "metadata": {},
   "outputs": [],
   "source": [
    "len(df_2_final[df_2_final['Site'] == \"Baby Got Boobs\"])"
   ]
  },
  {
   "cell_type": "code",
   "execution_count": null,
   "id": "a9d793c8-2f68-4e4e-ad1c-b478f4547a73",
   "metadata": {},
   "outputs": [],
   "source": [
    "df[(df['PS2'].isnull().values)]"
   ]
  },
  {
   "cell_type": "code",
   "execution_count": null,
   "id": "a73dd992-3f83-49fc-aa57-5454dfe13a75",
   "metadata": {},
   "outputs": [],
   "source": [
    "len(df_2_final)"
   ]
  },
  {
   "cell_type": "code",
   "execution_count": null,
   "id": "252db9fb-e32a-4f7b-9b2c-e96465af11bd",
   "metadata": {},
   "outputs": [],
   "source": [
    "df[(df['PS1'] == 'james_deen') & (df['PS2'].isnull().values)].index.values.item()"
   ]
  },
  {
   "cell_type": "code",
   "execution_count": null,
   "id": "f00df28a-191c-4fe9-9664-e5943763221a",
   "metadata": {},
   "outputs": [],
   "source": [
    "jd_tmp = df[(df['PS1'] == 'james_deen') & (df['PS2'] == 'no_name')].index.values.item()"
   ]
  },
  {
   "cell_type": "code",
   "execution_count": null,
   "id": "c776b38f-7f84-4564-9a02-b6a8cfa6a786",
   "metadata": {},
   "outputs": [],
   "source": [
    "df_final = df_2_final.reset_index(drop=True)"
   ]
  },
  {
   "cell_type": "code",
   "execution_count": null,
   "id": "8ea72d43-86ad-4b84-9b29-52bc4f0d30cb",
   "metadata": {},
   "outputs": [],
   "source": [
    "df_new = df_index_mono.dropna()"
   ]
  },
  {
   "cell_type": "code",
   "execution_count": null,
   "id": "54dc17c7-28d6-4104-a522-5b4293c73981",
   "metadata": {},
   "outputs": [],
   "source": [
    "df_new"
   ]
  },
  {
   "cell_type": "code",
   "execution_count": null,
   "id": "fe929ead-5f7a-4493-b46f-5cd82d9960df",
   "metadata": {},
   "outputs": [],
   "source": [
    "len(df_index_mono)"
   ]
  },
  {
   "cell_type": "code",
   "execution_count": null,
   "id": "34b21637-5d66-4282-a2f2-1e46c3caff46",
   "metadata": {},
   "outputs": [],
   "source": [
    "df_index_mono = df_index_mono.dropna()\n",
    "df_index_mono = df_index_mono.reset_index(drop=True)"
   ]
  },
  {
   "cell_type": "code",
   "execution_count": null,
   "id": "85987107-eb12-4c12-9dd9-ca45a8e05565",
   "metadata": {},
   "outputs": [],
   "source": [
    "df_index_mono"
   ]
  },
  {
   "cell_type": "code",
   "execution_count": null,
   "id": "b995c14c-f36d-40e2-b68c-7e3a129653c3",
   "metadata": {},
   "outputs": [],
   "source": [
    "len(df_final_sliced['Site'] == \"Big Butts Like It Big\")"
   ]
  },
  {
   "cell_type": "code",
   "execution_count": null,
   "id": "50c294b7-c548-4d40-b1d2-1258175f3bf3",
   "metadata": {},
   "outputs": [],
   "source": [
    "len(df_index_mono)"
   ]
  },
  {
   "cell_type": "code",
   "execution_count": null,
   "id": "5063f735-b878-427a-a9c2-900eca0ffc9d",
   "metadata": {},
   "outputs": [],
   "source": [
    "len(db_actual_site_name_sliced[db_actual_site_name_sliced['Site'] == 'Doctor Adventures'])"
   ]
  },
  {
   "cell_type": "code",
   "execution_count": null,
   "id": "a908fcf0-cd84-414d-bd9c-30c27e3387ed",
   "metadata": {},
   "outputs": [],
   "source": [
    "df = db_actual_site_name_sliced"
   ]
  },
  {
   "cell_type": "code",
   "execution_count": null,
   "id": "d554c911-92ed-4e0d-ba05-10c9c38f25bd",
   "metadata": {},
   "outputs": [],
   "source": [
    "db_actual_site_name_sliced['Site']"
   ]
  },
  {
   "cell_type": "code",
   "execution_count": null,
   "id": "983aec02-65d8-4138-bac7-09c8d6cb9748",
   "metadata": {},
   "outputs": [],
   "source": [
    "for site, number in zip(db_sites[8:12], len_of_sites[8:12]):\n",
    "    print('site: ', site)\n",
    "    max_page_number = math.ceil(int(number) / 24)\n",
    "    print('number: ', max_page_number)\n",
    "#    for site_number in len_of_sites[8:10]:\n",
    "#        tmp = range(1, int(site_number) + "
   ]
  },
  {
   "cell_type": "code",
   "execution_count": null,
   "id": "d822eb18-6b89-4236-89ea-50425f3fd4e0",
   "metadata": {},
   "outputs": [],
   "source": [
    "root_site"
   ]
  },
  {
   "cell_type": "code",
   "execution_count": null,
   "id": "deaf45a7-4f3a-4e00-ad84-38b785d61291",
   "metadata": {},
   "outputs": [],
   "source": [
    "from bs4 import BeautifulSoup\n",
    "import requests\n",
    "db = []\n",
    "#url = 'https://www.brazzers.com/videos/site/62/doctor-adventures/sortby/views/page/'\n",
    "url = 'https://www.brazzers.com/videos/site/82/big-butts-like-it-big/sortby/views/page/'\n",
    "site_tmp = requests.get(url)\n",
    "\n",
    "soup_tmp = BeautifulSoup(site_tmp.content, 'html.parser')\n",
    "\n",
    "print(f'scanning Site: {url}, Response: {site_tmp}')\n",
    "\n",
    "data_site_page = soup_tmp.find_all('a')\n",
    "\n",
    "for lf in data_site_page:\n",
    "    db.append(lf.get('href'))\n"
   ]
  }
 ],
 "metadata": {
  "kernelspec": {
   "display_name": "Python 3",
   "language": "python",
   "name": "python3"
  },
  "language_info": {
   "codemirror_mode": {
    "name": "ipython",
    "version": 3
   },
   "file_extension": ".py",
   "mimetype": "text/x-python",
   "name": "python",
   "nbconvert_exporter": "python",
   "pygments_lexer": "ipython3",
   "version": "3.8.8"
  }
 },
 "nbformat": 4,
 "nbformat_minor": 5
}
