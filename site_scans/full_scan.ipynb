{
 "cells": [
  {
   "cell_type": "code",
   "execution_count": 1,
   "id": "163d4313-11f0-49bb-a0bd-162722d69a28",
   "metadata": {},
   "outputs": [
    {
     "data": {
      "text/plain": [
       "'/Users/joerg/repos/braz/site_scans'"
      ]
     },
     "execution_count": 1,
     "metadata": {},
     "output_type": "execute_result"
    }
   ],
   "source": [
    "pwd"
   ]
  },
  {
   "cell_type": "code",
   "execution_count": null,
   "id": "9f5c0684-49e8-4794-8734-f3b948a5f6d2",
   "metadata": {},
   "outputs": [],
   "source": [
    "db_sites = ['https://www.brazzers.com/videos/site/75/big-tits-at-school/sortby/views/page', \n",
    "            https://www.brazzers.com/videos/site/81/real-wife-stories/sortby/views/page']"
   ]
  }
 ],
 "metadata": {
  "kernelspec": {
   "display_name": "Python 3",
   "language": "python",
   "name": "python3"
  },
  "language_info": {
   "codemirror_mode": {
    "name": "ipython",
    "version": 3
   },
   "file_extension": ".py",
   "mimetype": "text/x-python",
   "name": "python",
   "nbconvert_exporter": "python",
   "pygments_lexer": "ipython3",
   "version": "3.8.8"
  }
 },
 "nbformat": 4,
 "nbformat_minor": 5
}
