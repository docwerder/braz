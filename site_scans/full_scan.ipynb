{
 "cells": [
  {
   "cell_type": "code",
   "execution_count": 1,
   "id": "163d4313-11f0-49bb-a0bd-162722d69a28",
   "metadata": {},
   "outputs": [],
   "source": [
    "import pandas as pd\n",
    "import math\n",
    "import sys\n",
    "sys.path.append('/Users/joerg/repos/braz')\n",
    "from utilities_functions import scan_func"
   ]
  },
  {
   "cell_type": "code",
   "execution_count": 2,
   "id": "9f5c0684-49e8-4794-8734-f3b948a5f6d2",
   "metadata": {},
   "outputs": [],
   "source": [
    "db_sites = ['https://www.brazzers.com/videos/site/79/asses-in-public/sortby/views/page/',\n",
    "            'https://www.brazzers.com/videos/site/96/brazzers-exxtra/sortby/views/page/',\n",
    "            'https://www.brazzers.com/videos/site/82/big-butts-like-it-big/sortby/views/page/',\n",
    "            'https://www.brazzers.com/videos/site/66/baby-got-boobs/sortby/views/page/',\n",
    "            'https://www.brazzers.com/videos/site/75/big-tits-at-school/sortby/views/page/',\n",
    "            'https://www.brazzers.com/videos/site/71/big-tits-at-work/sortby/views/page/',\n",
    "            'https://www.brazzers.com/videos/site/83/big-tits-in-sports/sortby/views/page/',\n",
    "            'https://www.brazzers.com/videos/site/89/big-tits-in-uniform/sortby/views/page/',\n",
    "            'https://www.brazzers.com/videos/site/60/busty-real/sortby/views/page/', \n",
    "            'https://www.brazzers.com/videos/site/65/big-wet-butts/sortby/views/page/',\n",
    "            'https://www.brazzers.com/videos/site/84/brazzers-vault/sortby/views/page/',\n",
    "            'https://www.brazzers.com/videos/site/98/cfnm/sortby/views/page/',\n",
    "            'https://www.brazzers.com/videos/site/62/doctor-adventures/sortby/views/page/',\n",
    "            'https://www.brazzers.com/videos/site/94/dirty-masseur/sortby/views/page/',\n",
    "            'https://www.brazzers.com/videos/site/87/day-with-a-pornstar/views/page/',\n",
    "            'https://www.brazzers.com/videos/site/90/hot-and-mean/sortby/views/page/',\n",
    "            'https://www.brazzers.com/videos/site/64/hot-chicks-big-asses/sortby/views/page/',\n",
    "            'https://www.brazzers.com/videos/site/69/jug-fuckers/sortby/views/page/',\n",
    "            'https://www.brazzers.com/videos/site/67/mommy-got-boobs/sortby/views/page/',\n",
    "            'https://www.brazzers.com/videos/site/99/moms-in-control/sortby/views/page/',\n",
    "            'https://www.brazzers.com/videos/site/78/milfs-like-it-big/sortby/views/page/',\n",
    "            'https://www.brazzers.com/videos/site/77/pornstars-like-it-big/sortby/views/page/',\n",
    "            'https://www.brazzers.com/videos/site/81/real-wife-stories/sortby/views/page/',\n",
    "            'https://www.brazzers.com/videos/site/76/sex-pro-adventures/sortby/views/page/',\n",
    "            'https://www.brazzers.com/videos/site/95/shes-gonna-squirt/sortby/views/page/',\n",
    "            'https://www.brazzers.com/videos/site/80/teens-like-it-big/sortby/views/page/',\n",
    "            'https://www.brazzers.com/videos/site/92/zz-series/sortby/views/page/'\n",
    "            ]"
   ]
  },
  {
   "cell_type": "code",
   "execution_count": null,
   "id": "bfb65da5-a181-4e16-ba94-a678edb30045",
   "metadata": {},
   "outputs": [],
   "source": [
    "# 'https://www.brazzers.com/videos/site/63/bustyz/sortby/views/page/' len = 21 nach '10' und vor '580' rausgenommen!"
   ]
  },
  {
   "cell_type": "code",
   "execution_count": 3,
   "id": "7c4c912e-2e4d-4fa2-b7aa-4faf56799f60",
   "metadata": {},
   "outputs": [],
   "source": [
    "# Chose the destict sites for scanning\n",
    "\n",
    "indexes = [1, 2, 3, 4, 5, 6, 7, 9, 10, 12, 13, 14, 15, 18, 19, 20, 21, 22, 24, 25, 26]\n",
    "chosen_sites = [db_sites[x] for x in indexes]"
   ]
  },
  {
   "cell_type": "code",
   "execution_count": 4,
   "id": "e0bfe1b9-e85a-428d-87d6-fb247a3f150e",
   "metadata": {},
   "outputs": [
    {
     "data": {
      "text/plain": [
       "21"
      ]
     },
     "execution_count": 4,
     "metadata": {},
     "output_type": "execute_result"
    }
   ],
   "source": [
    "len(chosen_sites)"
   ]
  },
  {
   "cell_type": "code",
   "execution_count": 5,
   "id": "644aa762-3364-4365-bf05-a96617654f2c",
   "metadata": {},
   "outputs": [
    {
     "name": "stdout",
     "output_type": "stream",
     "text": [
      "scanning Site: https://www.brazzers.com/videos/site/96/brazzers-exxtra/sortby/views/page/1, Response: <Response [200]>\n",
      "scanning Site: https://www.brazzers.com/videos/site/82/big-butts-like-it-big/sortby/views/page/1, Response: <Response [200]>\n",
      "scanning Site: https://www.brazzers.com/videos/site/66/baby-got-boobs/sortby/views/page/1, Response: <Response [200]>\n",
      "scanning Site: https://www.brazzers.com/videos/site/75/big-tits-at-school/sortby/views/page/1, Response: <Response [200]>\n",
      "scanning Site: https://www.brazzers.com/videos/site/71/big-tits-at-work/sortby/views/page/1, Response: <Response [200]>\n",
      "scanning Site: https://www.brazzers.com/videos/site/83/big-tits-in-sports/sortby/views/page/1, Response: <Response [200]>\n",
      "scanning Site: https://www.brazzers.com/videos/site/89/big-tits-in-uniform/sortby/views/page/1, Response: <Response [200]>\n",
      "scanning Site: https://www.brazzers.com/videos/site/65/big-wet-butts/sortby/views/page/1, Response: <Response [200]>\n",
      "scanning Site: https://www.brazzers.com/videos/site/84/brazzers-vault/sortby/views/page/1, Response: <Response [200]>\n",
      "scanning Site: https://www.brazzers.com/videos/site/62/doctor-adventures/sortby/views/page/1, Response: <Response [200]>\n",
      "scanning Site: https://www.brazzers.com/videos/site/94/dirty-masseur/sortby/views/page/1, Response: <Response [200]>\n",
      "scanning Site: https://www.brazzers.com/videos/site/87/day-with-a-pornstar/views/page/1, Response: <Response [200]>\n",
      "scanning Site: https://www.brazzers.com/videos/site/90/hot-and-mean/sortby/views/page/1, Response: <Response [200]>\n",
      "scanning Site: https://www.brazzers.com/videos/site/67/mommy-got-boobs/sortby/views/page/1, Response: <Response [200]>\n",
      "scanning Site: https://www.brazzers.com/videos/site/99/moms-in-control/sortby/views/page/1, Response: <Response [200]>\n",
      "scanning Site: https://www.brazzers.com/videos/site/78/milfs-like-it-big/sortby/views/page/1, Response: <Response [200]>\n",
      "scanning Site: https://www.brazzers.com/videos/site/77/pornstars-like-it-big/sortby/views/page/1, Response: <Response [200]>\n",
      "scanning Site: https://www.brazzers.com/videos/site/81/real-wife-stories/sortby/views/page/1, Response: <Response [200]>\n",
      "scanning Site: https://www.brazzers.com/videos/site/95/shes-gonna-squirt/sortby/views/page/1, Response: <Response [200]>\n",
      "scanning Site: https://www.brazzers.com/videos/site/80/teens-like-it-big/sortby/views/page/1, Response: <Response [200]>\n",
      "scanning Site: https://www.brazzers.com/videos/site/92/zz-series/sortby/views/page/1, Response: <Response [200]>\n",
      "max_page_len_of_sites:  ['61', '15', '23', '21', '25', '9', '7', '25', '4', '23', '16', '9', '26', '24', '5', '24', '28', '28', '2', '24', '5']\n"
     ]
    }
   ],
   "source": [
    "# Determination of the maximum number of pages\n",
    "max_page_len_of_sites = list()\n",
    "\n",
    "for lf_root in chosen_sites:\n",
    "    db_page_tmp_2 = scan_func(lf_root + str(1))\n",
    "    tmp_var = [i for i in db_page_tmp_2 if i.startswith('/videos/site/')]\n",
    "    max_page_number = tmp_var[-1].split('/')[-2]\n",
    "    \n",
    "    max_page_len_of_sites.append(max_page_number)\n",
    "\n",
    "print('max_page_len_of_sites: ', max_page_len_of_sites)"
   ]
  },
  {
   "cell_type": "code",
   "execution_count": null,
   "id": "1af66068-5c61-434e-be50-81afad83fb3a",
   "metadata": {},
   "outputs": [],
   "source": [
    "chosen_sites[1]"
   ]
  },
  {
   "cell_type": "code",
   "execution_count": null,
   "id": "bbb08ad5-c0b2-4869-a914-4242968715fd",
   "metadata": {},
   "outputs": [],
   "source": [
    "max_page_len_of_sites[1]"
   ]
  },
  {
   "cell_type": "code",
   "execution_count": null,
   "id": "147edbda-8f01-46cf-bb5b-73e83188395b",
   "metadata": {},
   "outputs": [],
   "source": [
    "# len_of_sites = ['14', '1447', '338', '530', '502', '587', '212', '149', '10', '580', '95', '13', '547',\n",
    "#                 '369', '196', '617', '10', '7', '573', '116', '574', '649', '659', '1', '46', '559', '119']"
   ]
  },
  {
   "cell_type": "code",
   "execution_count": null,
   "id": "62623cc3-9153-4a47-91cc-153de45a4633",
   "metadata": {},
   "outputs": [],
   "source": [
    "pd.set_option('display.max_rows', 1000)"
   ]
  },
  {
   "cell_type": "code",
   "execution_count": null,
   "id": "9ffca6c1-6025-4dec-914d-d2235316be87",
   "metadata": {},
   "outputs": [],
   "source": [
    "page_content_db = pd.DataFrame()\n",
    "page_number_db = {}\n",
    "page_content_tmp = {}\n",
    "page_columns = []\n",
    "ps1_db = pd.DataFrame()\n",
    "ps2_db = {}\n",
    "title_db = {}\n",
    "db_actual_site_name = pd.DataFrame()\n",
    "db_actual_site_name_sliced = pd.DataFrame()"
   ]
  },
  {
   "cell_type": "code",
   "execution_count": 6,
   "id": "18321067-abbe-42d6-9d56-f2e303948b41",
   "metadata": {},
   "outputs": [
    {
     "name": "stdout",
     "output_type": "stream",
     "text": [
      "max.. 15\n",
      "scanning Site: https://www.brazzers.com/videos/site/82/big-butts-like-it-big/sortby/views/page/1, Response: <Response [200]>\n",
      "scanning Site: https://www.brazzers.com/videos/site/82/big-butts-like-it-big/sortby/views/page/2, Response: <Response [200]>\n",
      "scanning Site: https://www.brazzers.com/videos/site/82/big-butts-like-it-big/sortby/views/page/3, Response: <Response [200]>\n",
      "scanning Site: https://www.brazzers.com/videos/site/82/big-butts-like-it-big/sortby/views/page/4, Response: <Response [200]>\n",
      "scanning Site: https://www.brazzers.com/videos/site/82/big-butts-like-it-big/sortby/views/page/5, Response: <Response [200]>\n",
      "scanning Site: https://www.brazzers.com/videos/site/82/big-butts-like-it-big/sortby/views/page/6, Response: <Response [200]>\n",
      "scanning Site: https://www.brazzers.com/videos/site/82/big-butts-like-it-big/sortby/views/page/7, Response: <Response [200]>\n",
      "scanning Site: https://www.brazzers.com/videos/site/82/big-butts-like-it-big/sortby/views/page/8, Response: <Response [200]>\n",
      "scanning Site: https://www.brazzers.com/videos/site/82/big-butts-like-it-big/sortby/views/page/9, Response: <Response [200]>\n",
      "scanning Site: https://www.brazzers.com/videos/site/82/big-butts-like-it-big/sortby/views/page/10, Response: <Response [200]>\n",
      "scanning Site: https://www.brazzers.com/videos/site/82/big-butts-like-it-big/sortby/views/page/11, Response: <Response [200]>\n",
      "scanning Site: https://www.brazzers.com/videos/site/82/big-butts-like-it-big/sortby/views/page/12, Response: <Response [200]>\n",
      "scanning Site: https://www.brazzers.com/videos/site/82/big-butts-like-it-big/sortby/views/page/13, Response: <Response [200]>\n",
      "scanning Site: https://www.brazzers.com/videos/site/82/big-butts-like-it-big/sortby/views/page/14, Response: <Response [200]>\n",
      "scanning Site: https://www.brazzers.com/videos/site/82/big-butts-like-it-big/sortby/views/page/15, Response: <Response [200]>\n"
     ]
    }
   ],
   "source": [
    "page_content_db = pd.DataFrame()\n",
    "page_number_db = {}\n",
    "page_content_tmp = {}\n",
    "page_columns = []\n",
    "ps1_db = pd.DataFrame()\n",
    "ps2_db = {}\n",
    "title_db = {}\n",
    "db_actual_site_name = pd.DataFrame()\n",
    "db_final_tmp = pd.DataFrame()\n",
    "db_actual_site_name_sliced = pd.DataFrame()\n",
    "\n",
    "# Determination of the maximum number of pages\n",
    "# for lf_root in db_sites[12:13]:\n",
    "#     db_page_tmp_2 = scan_func(lf_root)\n",
    "#     db_page_tmp_2 = [i for i in db_page_tmp if i.startswith('/videos/site/')]\n",
    "#         print('db_page_tmp: ', db_page_tmp_2)\n",
    "\n",
    "        \n",
    "        \n",
    "for root_site, number in zip(chosen_sites[1:2], max_page_len_of_sites[1:2]):\n",
    "    print('max..' , number)\n",
    "  \n",
    "\n",
    "    # max_page_number = math.ceil(int(number) / 24)\n",
    "       \n",
    "    for page_nr in range(1, int(number) + 1):\n",
    "        # print('page_nr: ', page_nr)\n",
    "        actual_site = root_site + str(page_nr)\n",
    "        site_name = actual_site.split('/')[-5].replace('-', ' ').title()\n",
    "        db_page_tmp = scan_func(actual_site)\n",
    "        db_page_video = [i for i in db_page_tmp if i.startswith('/video/')]\n",
    "        \n",
    "        db_page_ps = [i for i in db_page_tmp if i.startswith('/pornstar/')]\n",
    "        ps1 = [h.split('/')[-1].replace('-','_') for h in db_page_ps[::2]]\n",
    "        ps2 = [h.split('/')[-1].replace('-', '_') for h in db_page_ps[1::2]]\n",
    "        \n",
    "        title = [h.split('/')[-1].replace('-', '_') for h in db_page_video[::2]]\n",
    "        #print('title: ', title)\n",
    "        site_tmp = [site_name]\n",
    "        #print('site_tmp: ', site_name)\n",
    "        site = list(site_tmp) * 24\n",
    "        #print('site: ', site)\n",
    "        \n",
    "        \n",
    "        ps1_db = pd.DataFrame(ps1)\n",
    "        ps2_db = pd.DataFrame(ps2)\n",
    "        title_db = pd.DataFrame(title)\n",
    "        site_db = pd.DataFrame(site)\n",
    "        \n",
    "        db_all_tmp = pd.concat([site_db, ps1_db, ps2_db, title_db], axis=1)\n",
    "        custom_cols = ['Site', 'PS1', 'PS2', 'Title']\n",
    "        #print('db_all_tmp: ', db_all_tmp)\n",
    "        db_all_tmp.columns = custom_cols\n",
    "        db_actual_site_name = pd.concat([db_actual_site_name, db_all_tmp])\n",
    "        #print('db_actual_site_name:\\n ', db_actual_site_name)\n",
    "\n",
    "df = db_actual_site_name\n",
    "        \n"
   ]
  },
  {
   "cell_type": "code",
   "execution_count": 7,
   "id": "1352931a-c29b-413b-b7a5-49403aac2a66",
   "metadata": {},
   "outputs": [],
   "source": [
    "pd.set_option('display.max_rows', 1000)"
   ]
  },
  {
   "cell_type": "code",
   "execution_count": 9,
   "id": "86d4da0c-73d5-4fde-be1c-73dacc4e4666",
   "metadata": {},
   "outputs": [],
   "source": [
    "df = df.reset_index(drop=True)"
   ]
  },
  {
   "cell_type": "code",
   "execution_count": 10,
   "id": "00a5a30b-6f63-4263-b138-2ce219f3ae5d",
   "metadata": {},
   "outputs": [],
   "source": [
    "df.to_csv('final_df_tmp.csv')"
   ]
  },
  {
   "cell_type": "markdown",
   "id": "ea3f4ade-ad0e-459c-8a29-985801f3cb0f",
   "metadata": {},
   "source": [
    "***"
   ]
  },
  {
   "cell_type": "code",
   "execution_count": 11,
   "id": "68aae60d-23d6-407a-a19d-f399cfd206f8",
   "metadata": {},
   "outputs": [],
   "source": [
    "# If its necessary!\n",
    "# df = pd.read_csv('final_df_tmp.csv)"
   ]
  },
  {
   "cell_type": "code",
   "execution_count": 32,
   "id": "9eeebcfd-f5d8-4b0b-a776-9e68c34d0f44",
   "metadata": {},
   "outputs": [
    {
     "ename": "ValueError",
     "evalue": "can only convert an array of size 1 to a Python scalar",
     "output_type": "error",
     "traceback": [
      "\u001b[0;31m---------------------------------------------------------------------------\u001b[0m",
      "\u001b[0;31mValueError\u001b[0m                                Traceback (most recent call last)",
      "\u001b[0;32m<ipython-input-32-199ba567ba38>\u001b[0m in \u001b[0;36m<module>\u001b[0;34m\u001b[0m\n\u001b[1;32m      6\u001b[0m \u001b[0mdf\u001b[0m\u001b[0;34m.\u001b[0m\u001b[0mat\u001b[0m\u001b[0;34m[\u001b[0m\u001b[0mev\u001b[0m\u001b[0;34m,\u001b[0m \u001b[0;34m'PS2'\u001b[0m\u001b[0;34m]\u001b[0m \u001b[0;34m=\u001b[0m \u001b[0;34m'bridgette_b'\u001b[0m\u001b[0;34m\u001b[0m\u001b[0;34m\u001b[0m\u001b[0m\n\u001b[1;32m      7\u001b[0m \u001b[0;34m\u001b[0m\u001b[0m\n\u001b[0;32m----> 8\u001b[0;31m \u001b[0mjd\u001b[0m \u001b[0;34m=\u001b[0m \u001b[0mdf\u001b[0m\u001b[0;34m[\u001b[0m\u001b[0;34m(\u001b[0m\u001b[0mdf\u001b[0m\u001b[0;34m[\u001b[0m\u001b[0;34m'PS1'\u001b[0m\u001b[0;34m]\u001b[0m \u001b[0;34m==\u001b[0m \u001b[0;34m'james_deen'\u001b[0m\u001b[0;34m)\u001b[0m \u001b[0;34m&\u001b[0m \u001b[0;34m(\u001b[0m\u001b[0mdf\u001b[0m\u001b[0;34m[\u001b[0m\u001b[0;34m'PS2'\u001b[0m\u001b[0;34m]\u001b[0m\u001b[0;34m.\u001b[0m\u001b[0misnull\u001b[0m\u001b[0;34m(\u001b[0m\u001b[0;34m)\u001b[0m\u001b[0;34m.\u001b[0m\u001b[0mvalues\u001b[0m\u001b[0;34m)\u001b[0m\u001b[0;34m]\u001b[0m\u001b[0;34m.\u001b[0m\u001b[0mindex\u001b[0m\u001b[0;34m.\u001b[0m\u001b[0mvalues\u001b[0m\u001b[0;34m.\u001b[0m\u001b[0mitem\u001b[0m\u001b[0;34m(\u001b[0m\u001b[0;34m)\u001b[0m\u001b[0;34m\u001b[0m\u001b[0;34m\u001b[0m\u001b[0m\n\u001b[0m\u001b[1;32m      9\u001b[0m \u001b[0mdf\u001b[0m\u001b[0;34m.\u001b[0m\u001b[0mat\u001b[0m\u001b[0;34m[\u001b[0m\u001b[0mjd\u001b[0m\u001b[0;34m,\u001b[0m \u001b[0;34m'PS2'\u001b[0m\u001b[0;34m]\u001b[0m \u001b[0;34m=\u001b[0m \u001b[0;34m'no_name'\u001b[0m\u001b[0;34m\u001b[0m\u001b[0;34m\u001b[0m\u001b[0m\n\u001b[1;32m     10\u001b[0m \u001b[0;31m#df_final = df.dropna()\u001b[0m\u001b[0;34m\u001b[0m\u001b[0;34m\u001b[0m\u001b[0;34m\u001b[0m\u001b[0m\n",
      "\u001b[0;31mValueError\u001b[0m: can only convert an array of size 1 to a Python scalar"
     ]
    }
   ],
   "source": [
    "df_2 = df\n",
    "jb = df[df['PS1'] == 'jasmine_black'].index.values.item()\n",
    "df.at[jb, 'PS2'] = 'no_name'\n",
    "\n",
    "ev = df[df['PS1'] == 'erik_everhard'].index.values.item()\n",
    "df.at[ev, 'PS2'] = 'bridgette_b'\n",
    "\n",
    "jd = df[(df['PS1'] == 'james_deen') & (df['PS2'].isnull().values)].index.values.item()\n",
    "df.at[jd, 'PS2'] = 'no_name'\n",
    "#df_final = df.dropna()"
   ]
  },
  {
   "cell_type": "code",
   "execution_count": 30,
   "id": "46304a0f-aed1-480a-bc11-28999f8f8189",
   "metadata": {},
   "outputs": [
    {
     "data": {
      "text/plain": [
       "Site      Big Butts Like It Big\n",
       "PS1               jasmine_black\n",
       "PS2                     no_name\n",
       "Title    european_interrogation\n",
       "Name: 263, dtype: object"
      ]
     },
     "execution_count": 30,
     "metadata": {},
     "output_type": "execute_result"
    }
   ],
   "source": [
    "df_2.loc[263]"
   ]
  },
  {
   "cell_type": "code",
   "execution_count": 33,
   "id": "f00df28a-191c-4fe9-9664-e5943763221a",
   "metadata": {},
   "outputs": [
    {
     "data": {
      "text/plain": [
       "Site     Big Butts Like It Big\n",
       "PS1                 james_deen\n",
       "PS2                    no_name\n",
       "Title      goodnight_ms_spades\n",
       "Name: 311, dtype: object"
      ]
     },
     "execution_count": 33,
     "metadata": {},
     "output_type": "execute_result"
    }
   ],
   "source": [
    "df_2.loc[311]"
   ]
  },
  {
   "cell_type": "code",
   "execution_count": null,
   "id": "3c19aec7-3810-4352-90ec-346e9dfd7bda",
   "metadata": {},
   "outputs": [],
   "source": [
    "jb"
   ]
  },
  {
   "cell_type": "code",
   "execution_count": null,
   "id": "e2bbc7df-36b3-4190-93eb-fc0373341f41",
   "metadata": {},
   "outputs": [],
   "source": [
    "df[(df['PS1'] == 'james_deen') & (df['PS2'].isnull().values)].index.values.item()"
   ]
  },
  {
   "cell_type": "code",
   "execution_count": null,
   "id": "2ab2dfd3-ccc7-441a-9778-d2e9d9e0855e",
   "metadata": {},
   "outputs": [],
   "source": [
    "df[(df['PS1'] == 'james_deen') & df['PS2'].isnull()]"
   ]
  },
  {
   "cell_type": "code",
   "execution_count": null,
   "id": "c78ac787-25b9-4fa8-8395-f77f72679083",
   "metadata": {},
   "outputs": [],
   "source": [
    "df[df['PS1'] == 'erik_everhard']"
   ]
  },
  {
   "cell_type": "code",
   "execution_count": null,
   "id": "b6395387-b30b-4d59-85be-6685d9ace445",
   "metadata": {},
   "outputs": [],
   "source": [
    "df['index'] = df.index"
   ]
  },
  {
   "cell_type": "code",
   "execution_count": null,
   "id": "9c963a23-cf28-488b-b2d2-11ae262e2c66",
   "metadata": {},
   "outputs": [],
   "source": [
    "del df['index']"
   ]
  },
  {
   "cell_type": "code",
   "execution_count": null,
   "id": "c776b38f-7f84-4564-9a02-b6a8cfa6a786",
   "metadata": {},
   "outputs": [],
   "source": [
    "df = df.reset_index(drop=True)"
   ]
  },
  {
   "cell_type": "code",
   "execution_count": null,
   "id": "3a79b98b-c1c8-4c4d-89d1-ceb495c860af",
   "metadata": {},
   "outputs": [],
   "source": [
    "df"
   ]
  },
  {
   "cell_type": "code",
   "execution_count": null,
   "id": "8ea72d43-86ad-4b84-9b29-52bc4f0d30cb",
   "metadata": {},
   "outputs": [],
   "source": [
    "df_new = df_index_mono.dropna()"
   ]
  },
  {
   "cell_type": "code",
   "execution_count": null,
   "id": "54dc17c7-28d6-4104-a522-5b4293c73981",
   "metadata": {},
   "outputs": [],
   "source": [
    "df_new"
   ]
  },
  {
   "cell_type": "code",
   "execution_count": null,
   "id": "fe929ead-5f7a-4493-b46f-5cd82d9960df",
   "metadata": {},
   "outputs": [],
   "source": [
    "len(df_index_mono)"
   ]
  },
  {
   "cell_type": "code",
   "execution_count": null,
   "id": "34b21637-5d66-4282-a2f2-1e46c3caff46",
   "metadata": {},
   "outputs": [],
   "source": [
    "df_index_mono = df_index_mono.dropna()\n",
    "df_index_mono = df_index_mono.reset_index(drop=True)"
   ]
  },
  {
   "cell_type": "code",
   "execution_count": null,
   "id": "85987107-eb12-4c12-9dd9-ca45a8e05565",
   "metadata": {},
   "outputs": [],
   "source": [
    "df_index_mono"
   ]
  },
  {
   "cell_type": "code",
   "execution_count": null,
   "id": "b995c14c-f36d-40e2-b68c-7e3a129653c3",
   "metadata": {},
   "outputs": [],
   "source": [
    "len(df_final_sliced['Site'] == \"Big Butts Like It Big\")"
   ]
  },
  {
   "cell_type": "code",
   "execution_count": null,
   "id": "50c294b7-c548-4d40-b1d2-1258175f3bf3",
   "metadata": {},
   "outputs": [],
   "source": [
    "len(df_index_mono)"
   ]
  },
  {
   "cell_type": "code",
   "execution_count": null,
   "id": "5063f735-b878-427a-a9c2-900eca0ffc9d",
   "metadata": {},
   "outputs": [],
   "source": [
    "len(db_actual_site_name_sliced[db_actual_site_name_sliced['Site'] == 'Doctor Adventures'])"
   ]
  },
  {
   "cell_type": "code",
   "execution_count": null,
   "id": "c167dc96-0253-4204-a39b-d87cd35f6cf7",
   "metadata": {},
   "outputs": [],
   "source": [
    "14*24"
   ]
  },
  {
   "cell_type": "code",
   "execution_count": null,
   "id": "a908fcf0-cd84-414d-bd9c-30c27e3387ed",
   "metadata": {},
   "outputs": [],
   "source": [
    "df = db_actual_site_name_sliced"
   ]
  },
  {
   "cell_type": "code",
   "execution_count": null,
   "id": "d554c911-92ed-4e0d-ba05-10c9c38f25bd",
   "metadata": {},
   "outputs": [],
   "source": [
    "db_actual_site_name_sliced['Site']"
   ]
  },
  {
   "cell_type": "code",
   "execution_count": null,
   "id": "1b534f6d-f137-4e4c-86b5-d490cf891996",
   "metadata": {},
   "outputs": [],
   "source": [
    "for gh in x:\n",
    "    print(gh)"
   ]
  },
  {
   "cell_type": "code",
   "execution_count": null,
   "id": "983aec02-65d8-4138-bac7-09c8d6cb9748",
   "metadata": {},
   "outputs": [],
   "source": [
    "for site, number in zip(db_sites[8:12], len_of_sites[8:12]):\n",
    "    print('site: ', site)\n",
    "    max_page_number = math.ceil(int(number) / 24)\n",
    "    print('number: ', max_page_number)\n",
    "#    for site_number in len_of_sites[8:10]:\n",
    "#        tmp = range(1, int(site_number) + "
   ]
  },
  {
   "cell_type": "code",
   "execution_count": null,
   "id": "d822eb18-6b89-4236-89ea-50425f3fd4e0",
   "metadata": {},
   "outputs": [],
   "source": [
    "root_site"
   ]
  },
  {
   "cell_type": "code",
   "execution_count": null,
   "id": "deaf45a7-4f3a-4e00-ad84-38b785d61291",
   "metadata": {},
   "outputs": [],
   "source": [
    "from bs4 import BeautifulSoup\n",
    "import requests\n",
    "db = []\n",
    "#url = 'https://www.brazzers.com/videos/site/62/doctor-adventures/sortby/views/page/'\n",
    "url = 'https://www.brazzers.com/videos/site/82/big-butts-like-it-big/sortby/views/page/'\n",
    "site_tmp = requests.get(url)\n",
    "\n",
    "soup_tmp = BeautifulSoup(site_tmp.content, 'html.parser')\n",
    "\n",
    "print(f'scanning Site: {url}, Response: {site_tmp}')\n",
    "\n",
    "data_site_page = soup_tmp.find_all('a')\n",
    "\n",
    "for lf in data_site_page:\n",
    "    db.append(lf.get('href'))\n"
   ]
  },
  {
   "cell_type": "code",
   "execution_count": null,
   "id": "5a3a9aad-041c-4061-9fd1-430ab275ee42",
   "metadata": {},
   "outputs": [],
   "source": [
    "db"
   ]
  },
  {
   "cell_type": "code",
   "execution_count": null,
   "id": "20adeb3b-e66b-4bfb-991c-918e10164bdf",
   "metadata": {},
   "outputs": [],
   "source": []
  }
 ],
 "metadata": {
  "kernelspec": {
   "display_name": "Python 3",
   "language": "python",
   "name": "python3"
  },
  "language_info": {
   "codemirror_mode": {
    "name": "ipython",
    "version": 3
   },
   "file_extension": ".py",
   "mimetype": "text/x-python",
   "name": "python",
   "nbconvert_exporter": "python",
   "pygments_lexer": "ipython3",
   "version": "3.8.8"
  }
 },
 "nbformat": 4,
 "nbformat_minor": 5
}
