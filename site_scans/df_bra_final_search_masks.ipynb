{
 "cells": [
  {
   "cell_type": "markdown",
   "id": "57139153-241d-4421-a05e-921f9f6e712b",
   "metadata": {
    "tags": []
   },
   "source": [
    "### Definition of the relevant modules"
   ]
  },
  {
   "cell_type": "code",
   "execution_count": 10,
   "id": "163d4313-11f0-49bb-a0bd-162722d69a28",
   "metadata": {},
   "outputs": [],
   "source": [
    "import pandas as pd\n",
    "import math\n",
    "import sys\n",
    "from termcolor import colored\n",
    "from functools import reduce\n",
    "from itertools import chain\n",
    "sys.path.append('/Users/joerg/repos/braz')\n",
    "from utilities_functions import scan_func\n",
    "# To run all commands within one cell:\n",
    "from IPython.core.interactiveshell import InteractiveShell\n",
    "InteractiveShell.ast_node_interactivity = \"all\"\n",
    "pd.set_option('display.max_rows', 1000)\n",
    "# default behaviour:\n",
    "# InteractiveShell.ast_node_interactivity = \"last_expr\""
   ]
  },
  {
   "cell_type": "markdown",
   "id": "ea3f4ade-ad0e-459c-8a29-985801f3cb0f",
   "metadata": {},
   "source": [
    "***"
   ]
  },
  {
   "cell_type": "markdown",
   "id": "b74cad6d-b2e9-48c8-91a7-6723629c506d",
   "metadata": {},
   "source": [
    "### Importing the temporary final df"
   ]
  },
  {
   "cell_type": "code",
   "execution_count": 8,
   "id": "fd86fc00-f48a-479a-8ec2-73aa52bfcb19",
   "metadata": {},
   "outputs": [],
   "source": [
    "df = pd.read_csv('df_edited_tmp.csv', index_col=[0])"
   ]
  },
  {
   "cell_type": "markdown",
   "id": "5e5ff5cc-4a31-41b5-bdb7-de18ebec345d",
   "metadata": {},
   "source": [
    "Delete the unwanted column \"Unnamed: 0\" by reading the df one time and then export this \n",
    "under another csv-file..."
   ]
  },
  {
   "cell_type": "markdown",
   "id": "409217e6-9ed3-4063-a85c-08acf0781b91",
   "metadata": {},
   "source": [
    "# Search masks .. "
   ]
  },
  {
   "cell_type": "code",
   "execution_count": null,
   "id": "555eaf6f-2208-4758-9bae-d68d355c0060",
   "metadata": {},
   "outputs": [],
   "source": [
    "def styling_specific_cell(x,row_idx,col_idx):\n",
    "    color = 'background-color: yellow; color: violet'\n",
    "    df_styler = pd.DataFrame('', index=x.index, columns=x.columns)\n",
    "    df_styler.iloc[row_idx, col_idx] = color\n",
    "    return df_styler"
   ]
  },
  {
   "cell_type": "code",
   "execution_count": null,
   "id": "13a3a391-80ac-49bf-81bb-beae547235cd",
   "metadata": {},
   "outputs": [],
   "source": [
    "df['Available'] = 'No'"
   ]
  },
  {
   "cell_type": "code",
   "execution_count": 11,
   "id": "40e61ef8-25ff-4089-96bb-17c2b8116a5f",
   "metadata": {},
   "outputs": [
    {
     "data": {
      "text/html": [
       "<div><div id=4d2ff7a3-5e45-4228-9006-fb3de2d93d08 style=\"display:none; background-color:#9D6CFF; color:white; width:200px; height:30px; padding-left:5px; border-radius:4px; flex-direction:row; justify-content:space-around; align-items:center;\" onmouseover=\"this.style.backgroundColor='#BA9BF8'\" onmouseout=\"this.style.backgroundColor='#9D6CFF'\" onclick=\"window.commands?.execute('create-mitosheet-from-dataframe-output');\">See Full Dataframe in Mito</div> <script> if (window.commands.hasCommand('create-mitosheet-from-dataframe-output')) document.getElementById('4d2ff7a3-5e45-4228-9006-fb3de2d93d08').style.display = 'flex' </script> <table border=\"1\" class=\"dataframe\">\n",
       "  <thead>\n",
       "    <tr style=\"text-align: right;\">\n",
       "      <th></th>\n",
       "      <th>Site</th>\n",
       "      <th>PS1</th>\n",
       "      <th>PS2</th>\n",
       "      <th>Title</th>\n",
       "    </tr>\n",
       "  </thead>\n",
       "  <tbody>\n",
       "    <tr>\n",
       "      <th>4011</th>\n",
       "      <td>Big Wet Butts</td>\n",
       "      <td>eva_angelina</td>\n",
       "      <td>rachel_starr</td>\n",
       "      <td>big_butt_extravaganza</td>\n",
       "    </tr>\n",
       "  </tbody>\n",
       "</table></div>"
      ],
      "text/plain": [
       "               Site           PS1           PS2                  Title\n",
       "4011  Big Wet Butts  eva_angelina  rachel_starr  big_butt_extravaganza"
      ]
     },
     "execution_count": 11,
     "metadata": {},
     "output_type": "execute_result"
    }
   ],
   "source": [
    "# substr = \"kinky_secrets_of_the_suburbs_part_4\"\n",
    "substr = \"\"\n",
    "# substr_2 = 'everyones_favourite_visitor'\n",
    "substr_2 = 'big_butt_extra'\n",
    "colored_s = colored(substr_2, 'red')\n",
    "df[df['PS1'].str.contains(substr) & df['Title'].str.contains(substr_2)]\n",
    "#df[df['PS1'].str.contains(substr) & df['Title'].str.contains(substr_2)].index.values.item()\n",
    "#len(df[df['PS1'].str.contains(substr) & df['Title'].str.contains(substr_2)])\n",
    "\n",
    "df\n",
    "\n",
    "#df_2.style.applymap(highlight_cell('bimbo'))\n",
    "\n",
    "# len(df_2[df_2['PS1'].str.contains(substr)])"
   ]
  },
  {
   "cell_type": "markdown",
   "id": "6a88ecb2-addd-4139-a867-8a62d780319d",
   "metadata": {},
   "source": [
    "#### next... select only the PS1"
   ]
  },
  {
   "cell_type": "code",
   "execution_count": 24,
   "id": "3d75c5fa-84f8-4628-8331-058470c49224",
   "metadata": {},
   "outputs": [
    {
     "data": {
      "text/html": [
       "<div><div id=b93861b0-6c42-4ce1-ae39-939fb07c8f90 style=\"display:none; background-color:#9D6CFF; color:white; width:200px; height:30px; padding-left:5px; border-radius:4px; flex-direction:row; justify-content:space-around; align-items:center;\" onmouseover=\"this.style.backgroundColor='#BA9BF8'\" onmouseout=\"this.style.backgroundColor='#9D6CFF'\" onclick=\"window.commands?.execute('create-mitosheet-from-dataframe-output');\">See Full Dataframe in Mito</div> <script> if (window.commands.hasCommand('create-mitosheet-from-dataframe-output')) document.getElementById('b93861b0-6c42-4ce1-ae39-939fb07c8f90').style.display = 'flex' </script> <table border=\"1\" class=\"dataframe\">\n",
       "  <thead>\n",
       "    <tr style=\"text-align: right;\">\n",
       "      <th></th>\n",
       "      <th>Site</th>\n",
       "      <th>PS1</th>\n",
       "      <th>PS2</th>\n",
       "      <th>Title</th>\n",
       "      <th>Available</th>\n",
       "    </tr>\n",
       "  </thead>\n",
       "  <tbody>\n",
       "    <tr>\n",
       "      <th>2612</th>\n",
       "      <td>Big Tits At School</td>\n",
       "      <td>dylan_ryder</td>\n",
       "      <td>sonny_hicks</td>\n",
       "      <td>dylan_rydes_sonny</td>\n",
       "      <td>Yes</td>\n",
       "    </tr>\n",
       "    <tr>\n",
       "      <th>3104</th>\n",
       "      <td>Big Tits At Work</td>\n",
       "      <td>dylan_ryder</td>\n",
       "      <td>keiran_lee</td>\n",
       "      <td>full_page_spread_eagle</td>\n",
       "      <td>No</td>\n",
       "    </tr>\n",
       "    <tr>\n",
       "      <th>3686</th>\n",
       "      <td>Big Tits In Uniform</td>\n",
       "      <td>dylan_ryder</td>\n",
       "      <td>keiran_lee</td>\n",
       "      <td>zippity_zappers</td>\n",
       "      <td>Yes</td>\n",
       "    </tr>\n",
       "    <tr>\n",
       "      <th>5469</th>\n",
       "      <td>87</td>\n",
       "      <td>dylan_ryder</td>\n",
       "      <td>levi_cash</td>\n",
       "      <td>laid_in_the_everglades</td>\n",
       "      <td>No</td>\n",
       "    </tr>\n",
       "    <tr>\n",
       "      <th>6054</th>\n",
       "      <td>Hot And Mean</td>\n",
       "      <td>dylan_ryder</td>\n",
       "      <td>tiffany_tyler</td>\n",
       "      <td>rob_this_bitch</td>\n",
       "      <td>No</td>\n",
       "    </tr>\n",
       "    <tr>\n",
       "      <th>6491</th>\n",
       "      <td>Mommy Got Boobs</td>\n",
       "      <td>dylan_ryder</td>\n",
       "      <td>danny_mountain</td>\n",
       "      <td>the_coach_bone</td>\n",
       "      <td>Yes</td>\n",
       "    </tr>\n",
       "    <tr>\n",
       "      <th>6518</th>\n",
       "      <td>Mommy Got Boobs</td>\n",
       "      <td>dylan_ryder</td>\n",
       "      <td>johnny_sins</td>\n",
       "      <td>if_you_cant_handle_the_heat_then_suck_on_my_tits</td>\n",
       "      <td>No</td>\n",
       "    </tr>\n",
       "    <tr>\n",
       "      <th>7185</th>\n",
       "      <td>Milfs Like It Big</td>\n",
       "      <td>dylan_ryder</td>\n",
       "      <td>keiran_lee</td>\n",
       "      <td>how_to_trap_a_whore</td>\n",
       "      <td>No</td>\n",
       "    </tr>\n",
       "    <tr>\n",
       "      <th>7221</th>\n",
       "      <td>Milfs Like It Big</td>\n",
       "      <td>dylan_ryder</td>\n",
       "      <td>abby_rode</td>\n",
       "      <td>two_cock_hungry_milfs_dining</td>\n",
       "      <td>No</td>\n",
       "    </tr>\n",
       "    <tr>\n",
       "      <th>7282</th>\n",
       "      <td>Milfs Like It Big</td>\n",
       "      <td>dylan_ryder</td>\n",
       "      <td>shane_dizzle</td>\n",
       "      <td>video_store_incident</td>\n",
       "      <td>No</td>\n",
       "    </tr>\n",
       "    <tr>\n",
       "      <th>7757</th>\n",
       "      <td>Pornstars Like It Big</td>\n",
       "      <td>dylan_ryder</td>\n",
       "      <td>johnny_sins</td>\n",
       "      <td>one_last_fuck</td>\n",
       "      <td>Yes</td>\n",
       "    </tr>\n",
       "    <tr>\n",
       "      <th>8458</th>\n",
       "      <td>Real Wife Stories</td>\n",
       "      <td>dylan_ryder</td>\n",
       "      <td>charles_dera</td>\n",
       "      <td>happily_married</td>\n",
       "      <td>Yes</td>\n",
       "    </tr>\n",
       "  </tbody>\n",
       "</table></div>"
      ],
      "text/plain": [
       "                       Site          PS1             PS2  \\\n",
       "2612     Big Tits At School  dylan_ryder     sonny_hicks   \n",
       "3104       Big Tits At Work  dylan_ryder      keiran_lee   \n",
       "3686    Big Tits In Uniform  dylan_ryder      keiran_lee   \n",
       "5469                     87  dylan_ryder       levi_cash   \n",
       "6054           Hot And Mean  dylan_ryder   tiffany_tyler   \n",
       "6491        Mommy Got Boobs  dylan_ryder  danny_mountain   \n",
       "6518        Mommy Got Boobs  dylan_ryder     johnny_sins   \n",
       "7185      Milfs Like It Big  dylan_ryder      keiran_lee   \n",
       "7221      Milfs Like It Big  dylan_ryder       abby_rode   \n",
       "7282      Milfs Like It Big  dylan_ryder    shane_dizzle   \n",
       "7757  Pornstars Like It Big  dylan_ryder     johnny_sins   \n",
       "8458      Real Wife Stories  dylan_ryder    charles_dera   \n",
       "\n",
       "                                                 Title Available  \n",
       "2612                                 dylan_rydes_sonny       Yes  \n",
       "3104                            full_page_spread_eagle        No  \n",
       "3686                                   zippity_zappers       Yes  \n",
       "5469                            laid_in_the_everglades        No  \n",
       "6054                                    rob_this_bitch        No  \n",
       "6491                                    the_coach_bone       Yes  \n",
       "6518  if_you_cant_handle_the_heat_then_suck_on_my_tits        No  \n",
       "7185                               how_to_trap_a_whore        No  \n",
       "7221                      two_cock_hungry_milfs_dining        No  \n",
       "7282                              video_store_incident        No  \n",
       "7757                                     one_last_fuck       Yes  \n",
       "8458                                   happily_married       Yes  "
      ]
     },
     "execution_count": 24,
     "metadata": {},
     "output_type": "execute_result"
    }
   ],
   "source": [
    "search_ps1_string = 'dylan_ryder'\n",
    "# substr_2 = 'everyones_favourite_visitor'\n",
    "# if only the PS1 is searched, then set the substr_2 to '' !\n",
    "search_title_string = ''\n",
    "\n",
    "df[df['PS1'].str.contains(search_ps1_string) & df['Title'].str.contains(search_title_string)]\n",
    "#print('len..: ', len(df[df['PS1'].str.contains(substr) & df['Title'].str.contains(substr_2)]))"
   ]
  },
  {
   "cell_type": "markdown",
   "id": "c6e272e9-1e3b-4854-8c4b-803f306f2442",
   "metadata": {},
   "source": [
    "evaluate the column number by hand... into the .at command!"
   ]
  },
  {
   "cell_type": "code",
   "execution_count": 23,
   "id": "be7dd1fd-a166-46fd-8a84-f97c781de80c",
   "metadata": {},
   "outputs": [],
   "source": [
    "df.at[8458,'Available'] = 'Yes'"
   ]
  },
  {
   "cell_type": "code",
   "execution_count": 25,
   "id": "3c40ddd7-1f44-4dc5-9b2a-62f0ec5928e8",
   "metadata": {},
   "outputs": [],
   "source": [
    "df.to_csv('df_edited_tmp.csv')"
   ]
  },
  {
   "cell_type": "markdown",
   "id": "eb73acc6-5e3b-4910-9f19-557074487f63",
   "metadata": {},
   "source": [
    "set the corresponding column \"available\" to \"yes\"!"
   ]
  },
  {
   "cell_type": "code",
   "execution_count": 35,
   "id": "29203e10-01a7-47f1-ae29-fd7a14c5e874",
   "metadata": {},
   "outputs": [],
   "source": [
    "df.at[3069,'Available'] = 'Yes'"
   ]
  },
  {
   "cell_type": "code",
   "execution_count": 33,
   "id": "c4408a28-8866-4307-b9d5-86fc191b35c6",
   "metadata": {},
   "outputs": [
    {
     "data": {
      "text/html": [
       "<div><div id=2357bc56-04c7-4c25-a02c-e6317a5a55a3 style=\"display:none; background-color:#9D6CFF; color:white; width:200px; height:30px; padding-left:5px; border-radius:4px; flex-direction:row; justify-content:space-around; align-items:center;\" onmouseover=\"this.style.backgroundColor='#BA9BF8'\" onmouseout=\"this.style.backgroundColor='#9D6CFF'\" onclick=\"window.commands?.execute('create-mitosheet-from-dataframe-output');\">See Full Dataframe in Mito</div> <script> if (window.commands.hasCommand('create-mitosheet-from-dataframe-output')) document.getElementById('2357bc56-04c7-4c25-a02c-e6317a5a55a3').style.display = 'flex' </script> <table border=\"1\" class=\"dataframe\">\n",
       "  <thead>\n",
       "    <tr style=\"text-align: right;\">\n",
       "      <th></th>\n",
       "      <th>Site</th>\n",
       "      <th>PS1</th>\n",
       "      <th>PS2</th>\n",
       "      <th>Title</th>\n",
       "      <th>Available</th>\n",
       "    </tr>\n",
       "  </thead>\n",
       "  <tbody>\n",
       "    <tr>\n",
       "      <th>4010</th>\n",
       "      <td>Big Wet Butts</td>\n",
       "      <td>lauren_phillips</td>\n",
       "      <td>ricky_johnson</td>\n",
       "      <td>soak_my_sundress</td>\n",
       "      <td>No</td>\n",
       "    </tr>\n",
       "    <tr>\n",
       "      <th>4011</th>\n",
       "      <td>Big Wet Butts</td>\n",
       "      <td>eva_angelina</td>\n",
       "      <td>rachel_starr</td>\n",
       "      <td>big_butt_extravaganza</td>\n",
       "      <td>Yes</td>\n",
       "    </tr>\n",
       "  </tbody>\n",
       "</table></div>"
      ],
      "text/plain": [
       "               Site              PS1            PS2                  Title  \\\n",
       "4010  Big Wet Butts  lauren_phillips  ricky_johnson       soak_my_sundress   \n",
       "4011  Big Wet Butts     eva_angelina   rachel_starr  big_butt_extravaganza   \n",
       "\n",
       "     Available  \n",
       "4010        No  \n",
       "4011       Yes  "
      ]
     },
     "execution_count": 33,
     "metadata": {},
     "output_type": "execute_result"
    }
   ],
   "source": [
    "df.iloc[4010:4012,:]"
   ]
  },
  {
   "cell_type": "code",
   "execution_count": 8,
   "id": "93a90f07-264b-457c-b291-2929cfcdee15",
   "metadata": {},
   "outputs": [
    {
     "ename": "NameError",
     "evalue": "name 'substr' is not defined",
     "output_type": "error",
     "traceback": [
      "\u001b[0;31m---------------------------------------------------------------------------\u001b[0m",
      "\u001b[0;31mNameError\u001b[0m                                 Traceback (most recent call last)",
      "\u001b[0;32m<ipython-input-8-34bae9949bda>\u001b[0m in \u001b[0;36m<module>\u001b[0;34m\u001b[0m\n\u001b[1;32m      1\u001b[0m \u001b[0;31m#df[df['PS1'].str.contains(substr) & df['Title'].str.contains(substr_2)]\u001b[0m\u001b[0;34m\u001b[0m\u001b[0;34m\u001b[0m\u001b[0;34m\u001b[0m\u001b[0m\n\u001b[1;32m      2\u001b[0m \u001b[0msubstr_3\u001b[0m \u001b[0;34m=\u001b[0m \u001b[0;34m'extra'\u001b[0m\u001b[0;34m\u001b[0m\u001b[0;34m\u001b[0m\u001b[0m\n\u001b[0;32m----> 3\u001b[0;31m \u001b[0mdf\u001b[0m\u001b[0;34m[\u001b[0m\u001b[0mdf\u001b[0m\u001b[0;34m[\u001b[0m\u001b[0;34m'PS1'\u001b[0m\u001b[0;34m]\u001b[0m\u001b[0;34m.\u001b[0m\u001b[0mstr\u001b[0m\u001b[0;34m.\u001b[0m\u001b[0mcontains\u001b[0m\u001b[0;34m(\u001b[0m\u001b[0msubstr\u001b[0m\u001b[0;34m)\u001b[0m \u001b[0;34m&\u001b[0m \u001b[0mdf\u001b[0m\u001b[0;34m[\u001b[0m\u001b[0;34m'Title'\u001b[0m\u001b[0;34m]\u001b[0m\u001b[0;34m.\u001b[0m\u001b[0mstr\u001b[0m\u001b[0;34m.\u001b[0m\u001b[0mcontains\u001b[0m\u001b[0;34m(\u001b[0m\u001b[0msubstr_3\u001b[0m\u001b[0;34m)\u001b[0m\u001b[0;34m]\u001b[0m\u001b[0;34m.\u001b[0m\u001b[0mindex\u001b[0m\u001b[0;34m.\u001b[0m\u001b[0mvalues\u001b[0m\u001b[0;34m.\u001b[0m\u001b[0mitem\u001b[0m\u001b[0;34m(\u001b[0m\u001b[0;34m)\u001b[0m\u001b[0;34m\u001b[0m\u001b[0;34m\u001b[0m\u001b[0m\n\u001b[0m",
      "\u001b[0;31mNameError\u001b[0m: name 'substr' is not defined"
     ]
    }
   ],
   "source": [
    "#df[df['PS1'].str.contains(substr) & df['Title'].str.contains(substr_2)]\n",
    "substr_3 = 'extra'\n",
    "df[df['PS1'].str.contains(substr) & df['Title'].str.contains(substr_3)].index.values.item()"
   ]
  },
  {
   "cell_type": "code",
   "execution_count": null,
   "id": "2035bb17-452c-4daf-abfe-d3ff4c98a8cc",
   "metadata": {},
   "outputs": [],
   "source": [
    "print(colored_s)"
   ]
  },
  {
   "cell_type": "code",
   "execution_count": null,
   "id": "7ef00185-5bc7-4956-92ec-7606168f2a48",
   "metadata": {},
   "outputs": [],
   "source": [
    "import sys\n",
    "sys.executable"
   ]
  },
  {
   "cell_type": "code",
   "execution_count": null,
   "id": "de5c0cf3-53bf-4e5b-a029-e5c707b62941",
   "metadata": {},
   "outputs": [],
   "source": [
    "df_search.iloc[250:260]"
   ]
  },
  {
   "cell_type": "code",
   "execution_count": null,
   "id": "49113e18-378e-4758-b8ec-af2d0ce33452",
   "metadata": {},
   "outputs": [],
   "source": [
    "idx_r = 251\n",
    "idx_c = 3\n",
    "df_search = df.style.apply(styling_specific_cell, row_idx = idx_r, col_idx = idx_c, axis = None)  # Axis set to None to work on entire dataframe"
   ]
  },
  {
   "cell_type": "code",
   "execution_count": null,
   "id": "f3d6c27b-88aa-44c4-8c64-13de1d92bc4d",
   "metadata": {},
   "outputs": [],
   "source": [
    "from termcolor import colored\n",
    "from functools import reduce\n",
    "from itertools import chain\n",
    "\n",
    "text = 'left foot right foot left foot right. Feet in the day, feet at night.'\n",
    "l1 = ['foot','feet']\n",
    "\n",
    "print(reduce(lambda t, x: t.replace(*x), chain([text.lower()], ((t, colored(t,'white','on_red')) for t in l1)))) "
   ]
  },
  {
   "cell_type": "code",
   "execution_count": null,
   "id": "6d53ffe3-a48f-4ccb-900f-ae2d5a671262",
   "metadata": {},
   "outputs": [],
   "source": [
    "print(colored('hello', 'red'), colored('world', 'green'))"
   ]
  },
  {
   "cell_type": "code",
   "execution_count": null,
   "id": "9eeebcfd-f5d8-4b0b-a776-9e68c34d0f44",
   "metadata": {},
   "outputs": [],
   "source": [
    "# Obosolete, because the values 'no_name' have been written \n",
    "# by the command: df_2['PS2'] = df_2['PS2'].fillna('no_name')!\n",
    "\n",
    "#jb = df[(df['Site'] == 'Big Butts Like It Big') & (df['PS1'] == 'jasmine_black')].index.values.item()\n",
    "jb_2 = df_2[(df_2['Site'] == 'Big Butts Like It Big') & (df_2['PS1'] == 'jasmine_black')].index.values.item()\n",
    "# df_2.at[jb, 'PS2'] = 'no_name'\n",
    "\n",
    "# ev = df[(df['Site'] == 'Big Butts Like It Big') & (df['PS1'] == 'erik_everhard')].index.values.item()\n",
    "# df_2.at[ev, 'PS2'] = 'bridgette_b'\n",
    "\n",
    "# jd = df[(df['Site'] == 'Big Butts Like It Big') & (df['PS1'] == 'james_deen') & (df['PS2'].isnull().values)].index.values.item()\n",
    "# df_2.at[jd, 'PS2'] = 'no_name'\n",
    "\n",
    "# js = df[(df['Site'] == 'Baby Got Boobs') & (df['PS1'] == 'johnny_sins') & (df['PS2'].isnull().values)].index.values.item()\n",
    "# df_2.at[js, 'PS2'] = 'no_name'\n",
    "\n",
    "# df_2_final = df_2.dropna()\n",
    "# #del df_2_final['Unnamed: 0']"
   ]
  },
  {
   "cell_type": "code",
   "execution_count": null,
   "id": "d911b5f3-ae2c-40ca-83be-f0b8454e3131",
   "metadata": {},
   "outputs": [],
   "source": [
    "#len(df[df['Site'] == 'Brazzers Exxtra'])\n",
    "df_2['Site'].value_counts()"
   ]
  },
  {
   "cell_type": "code",
   "execution_count": null,
   "id": "983aec02-65d8-4138-bac7-09c8d6cb9748",
   "metadata": {},
   "outputs": [],
   "source": [
    "for site, number in zip(db_sites[8:12], len_of_sites[8:12]):\n",
    "    print('site: ', site)\n",
    "    max_page_number = math.ceil(int(number) / 24)\n",
    "    print('number: ', max_page_number)\n",
    "#    for site_number in len_of_sites[8:10]:\n",
    "#        tmp = range(1, int(site_number) + "
   ]
  },
  {
   "cell_type": "code",
   "execution_count": null,
   "id": "d822eb18-6b89-4236-89ea-50425f3fd4e0",
   "metadata": {},
   "outputs": [],
   "source": [
    "root_site"
   ]
  },
  {
   "cell_type": "code",
   "execution_count": null,
   "id": "deaf45a7-4f3a-4e00-ad84-38b785d61291",
   "metadata": {},
   "outputs": [],
   "source": [
    "from bs4 import BeautifulSoup\n",
    "import requests\n",
    "db = []\n",
    "#url = 'https://www.brazzers.com/videos/site/62/doctor-adventures/sortby/views/page/'\n",
    "url = 'https://www.brazzers.com/videos/site/82/big-butts-like-it-big/sortby/views/page/'\n",
    "site_tmp = requests.get(url)\n",
    "\n",
    "soup_tmp = BeautifulSoup(site_tmp.content, 'html.parser')\n",
    "\n",
    "print(f'scanning Site: {url}, Response: {site_tmp}')\n",
    "\n",
    "data_site_page = soup_tmp.find_all('a')\n",
    "\n",
    "for lf in data_site_pageb:\n",
    "    db.append(lf.get('href'))\n"
   ]
  },
  {
   "cell_type": "code",
   "execution_count": 1,
   "id": "4f0aac7c-50a9-4f03-a642-375de2c947cd",
   "metadata": {},
   "outputs": [
    {
     "data": {
      "text/plain": [
       "722"
      ]
     },
     "execution_count": 1,
     "metadata": {},
     "output_type": "execute_result"
    }
   ],
   "source": [
    "368+183+171"
   ]
  },
  {
   "cell_type": "code",
   "execution_count": 6,
   "id": "3178dca0-1d45-4d35-a8bd-d163e4dc2cc6",
   "metadata": {},
   "outputs": [
    {
     "data": {
      "text/plain": [
       "12.983402489626556"
      ]
     },
     "execution_count": 6,
     "metadata": {},
     "output_type": "execute_result"
    }
   ],
   "source": [
    "9387/723"
   ]
  },
  {
   "cell_type": "code",
   "execution_count": 26,
   "id": "f7846ad0-882a-4b76-886f-0278e7fa23a3",
   "metadata": {},
   "outputs": [
    {
     "data": {
      "text/plain": [
       "1130"
      ]
     },
     "execution_count": 26,
     "metadata": {},
     "output_type": "execute_result"
    }
   ],
   "source": [
    "69+75+3+118+2+8+26+5+191+268+365"
   ]
  },
  {
   "cell_type": "code",
   "execution_count": null,
   "id": "f719424e-725b-4a16-a6b9-fbd0f9adba57",
   "metadata": {},
   "outputs": [],
   "source": []
  }
 ],
 "metadata": {
  "kernelspec": {
   "display_name": "Python 3",
   "language": "python",
   "name": "python3"
  },
  "language_info": {
   "codemirror_mode": {
    "name": "ipython",
    "version": 3
   },
   "file_extension": ".py",
   "mimetype": "text/x-python",
   "name": "python",
   "nbconvert_exporter": "python",
   "pygments_lexer": "ipython3",
   "version": "3.8.8"
  }
 },
 "nbformat": 4,
 "nbformat_minor": 5
}
