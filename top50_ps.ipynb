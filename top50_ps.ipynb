{
 "cells": [
  {
   "cell_type": "markdown",
   "id": "1fd29f44-c737-47c6-a27a-1694b6bfbb30",
   "metadata": {},
   "source": [
    "### Create df of my TOP PS!"
   ]
  },
  {
   "cell_type": "code",
   "execution_count": 2,
   "id": "14b36d9d-20b0-4110-ae89-0409feab50a7",
   "metadata": {},
   "outputs": [],
   "source": [
    "import pandas as pd\n",
    "from tabulate import tabulate\n",
    "pd.set_option('display.max_rows', None)"
   ]
  },
  {
   "cell_type": "markdown",
   "id": "695deb28-0270-4b9b-9382-15676936139d",
   "metadata": {},
   "source": [
    "#### Import the actual created csv-file .."
   ]
  },
  {
   "cell_type": "code",
   "execution_count": 25,
   "id": "fd5ad2a2-c946-43f7-8026-f6a25a03a0dd",
   "metadata": {},
   "outputs": [],
   "source": [
    "df = pd.read_csv('df_final_my_db_py_08_08_2022.csv', index_col=[0])"
   ]
  },
  {
   "cell_type": "markdown",
   "id": "2de0ace9-cc9c-4426-bc93-2b049310bac0",
   "metadata": {},
   "source": [
    "#### Extract the unique PSs for my TOP50"
   ]
  },
  {
   "cell_type": "code",
   "execution_count": 26,
   "id": "36b40209-d02c-4350-8440-987e9c43c6cb",
   "metadata": {},
   "outputs": [
    {
     "name": "stdout",
     "output_type": "stream",
     "text": [
      "Quantity of PS total:  410\n"
     ]
    }
   ],
   "source": [
    "ps_1 = list(df['PS1'])\n",
    "ps_2 = list(df['PS2'])\n",
    "ps_3 = list(df['PS3'])\n",
    "ps_4 = list(df['PS4'])\n",
    "ps_5 = list(df['PS5'])\n",
    "ps_6 = list(df['PS6'])\n",
    "ps_7 = list(df['PS7'])\n",
    "ps_8 = list(df['PS8'])\n",
    "ps_9 = list(df['PS9'])\n",
    "ps_10 = list(df['PS10'])\n",
    "\n",
    "ps_tmp =(ps_1 + ps_2 + ps_3 + ps_4 + ps_5 + ps_6 + ps_7 + ps_8 + ps_9 + ps_10)\n",
    "\n",
    "ps_tmp_2 = [i.strip(' ') for i in ps_tmp]\n",
    "ps_tmp_3 = set(ps_tmp_2)\n",
    "ps_tmp_4 = list(ps_tmp_3)\n",
    "ps_total = sorted(ps_tmp_4)\n",
    "print('Quantity of PS total: ', str(len(ps_total)))"
   ]
  },
  {
   "cell_type": "markdown",
   "id": "4f2e22b1-7e98-4ca3-85d6-f1c32d56771e",
   "metadata": {},
   "source": [
    "#### Create additional column to judge whether PS belongs to the TOP PS!"
   ]
  },
  {
   "cell_type": "code",
   "execution_count": 27,
   "id": "dea4650a-2d2a-466c-909e-cfe95c1882b0",
   "metadata": {},
   "outputs": [],
   "source": [
    "df_ps_total = pd.DataFrame(ps_total)\n",
    "df_ps_total.columns = ['PS']\n",
    "df_ps_total['TOP50'] = 'No'"
   ]
  },
  {
   "cell_type": "markdown",
   "id": "375be5f5-14be-419c-bf38-baf9a02ac01e",
   "metadata": {},
   "source": [
    "### Define search-Function on dataframe"
   ]
  },
  {
   "cell_type": "code",
   "execution_count": 28,
   "id": "7e661e41-fbd9-4fba-b6d1-85a37df9a687",
   "metadata": {},
   "outputs": [],
   "source": [
    "# VERY important function to search on dataframes\n",
    "def search(dataFrame, search_string):\n",
    "    mask = (dataFrame.applymap(lambda x: isinstance(x, str) and search_string in x)).any(1)\n",
    "    return dataFrame[mask]"
   ]
  },
  {
   "cell_type": "markdown",
   "id": "71b18977-5a18-4269-a6f3-5cb0d86c4c88",
   "metadata": {},
   "source": [
    "### Listing of my TOP PS!"
   ]
  },
  {
   "cell_type": "code",
   "execution_count": 29,
   "id": "5d83d297-c891-4cb8-8386-b985945972d2",
   "metadata": {},
   "outputs": [
    {
     "name": "stdout",
     "output_type": "stream",
     "text": [
      "Quantity of my TOP PS:  56\n"
     ]
    }
   ],
   "source": [
    "top50_ps = ['Abbey Brooks', 'Abbie Cat', 'Alena Croft', 'Aletta Ocean', 'Alexis Ford', \n",
    "            'Angel Wicky', 'Angela White', 'Ava Addams', 'Bridgette B', 'Britney Shannon',\n",
    "            'Carmella Bing', 'Cathy Heaven', 'Chessie Kay', 'Claire Dames',  'Corinna Blake',\n",
    "            'Dee Williams', 'Donna Bell', 'Ella Hughes', 'Emma Butt', 'Eva Karera', 'Eva Notty', \n",
    "            'Harmony Reigns', 'Holly Halston', 'Jasmine Jae', 'Jayden Jaymes', 'Jenna Presley',\n",
    "            'Jessica Moore', 'Julia Ann', 'Katie Kox', 'Kelly Divine', 'Kendra Lust', 'Kiara Mia',\n",
    "            'Krissy Lynn', 'Leigh Darby', 'Madison Ivy', 'Marsha May', 'Memphis Monroe', 'Nicolette Shea',\n",
    "            'Nikki Benz', 'Noelle Easton', 'Peta Jensen', 'Rebeca Linares', 'Rebecca More', 'Roberta Gemma',\n",
    "            'Romi Rain', 'Sensual Jane', 'Shyla Stylez', 'Sienna West', 'Sophie Dee', 'Stella Cox', \n",
    "            'Syren De Mer', 'Tarra White', 'Tory Lane', 'Velicity Von', 'Veronica Avluv', 'Yasmin Scott']\n",
    "print('Quantity of my TOP PS: ', str(len(top50_ps)))"
   ]
  },
  {
   "cell_type": "markdown",
   "id": "96b8271e-5cbc-421b-9f87-2cc563f6bcda",
   "metadata": {},
   "source": [
    "### Loop through the df_ps_total and notice the location of the Top_ps "
   ]
  },
  {
   "cell_type": "code",
   "execution_count": 30,
   "id": "85af1dd0-f7f0-4214-81e9-7801c8d5258a",
   "metadata": {},
   "outputs": [
    {
     "name": "stdout",
     "output_type": "stream",
     "text": [
      "PS  Abbey Brooks  found at postion:  1\n",
      "PS  Abbie Cat  found at postion:  2\n",
      "PS  Alena Croft  found at postion:  11\n",
      "PS  Aletta Ocean  found at postion:  13\n",
      "PS  Alexis Ford  found at postion:  20\n",
      "PS  Angel Wicky  found at postion:  38\n",
      "PS  Angela White  found at postion:  39\n",
      "PS  Ava Addams  found at postion:  59\n",
      "PS  Bridgette B  found at postion:  79\n",
      "PS  Britney Shannon  found at postion:  81\n",
      "PS  Carmella Bing  found at postion:  94\n",
      "PS  Cathy Heaven  found at postion:  97\n",
      "PS  Chessie Kay  found at postion:  103\n",
      "PS  Claire Dames  found at postion:  110\n",
      "PS  Corinna Blake  found at postion:  114\n",
      "PS  Dee Williams  found at postion:  126\n",
      "PS  Donna Bell  found at postion:  134\n",
      "PS  Ella Hughes  found at postion:  139\n",
      "PS  Emma Butt  found at postion:  142\n",
      "PS  Eva Karera  found at postion:  148\n",
      "PS  Eva Notty  found at postion:  149\n",
      "PS  Harmony Reigns  found at postion:  164\n",
      "PS  Holly Halston  found at postion:  168\n",
      "PS  Jasmine Jae  found at postion:  180\n",
      "PS  Jayden Jaymes  found at postion:  182\n",
      "PS  Jenna Presley  found at postion:  189\n",
      "PS  Jessica Moore  found at postion:  195\n",
      "PS  Julia Ann  found at postion:  208\n",
      "PS  Katie Kox  found at postion:  216\n",
      "PS  Kelly Divine  found at postion:  222\n",
      "PS  Kendra Lust  found at postion:  225\n",
      "PS  Kiara Mia  found at postion:  234\n",
      "PS  Krissy Lynn  found at postion:  242\n",
      "PS  Leigh Darby  found at postion:  255\n",
      "PS  Madison Ivy  found at postion:  279\n",
      "PS  Marsha May  found at postion:  284\n",
      "PS  Memphis Monroe  found at postion:  293\n",
      "PS  Nicolette Shea  found at postion:  306\n",
      "PS  Nikki Benz  found at postion:  308\n",
      "PS  Noelle Easton  found at postion:  314\n",
      "PS  Peta Jensen  found at postion:  320\n",
      "PS  Rebeca Linares  found at postion:  329\n",
      "PS  Rebecca More  found at postion:  330\n",
      "PS  Roberta Gemma  found at postion:  337\n",
      "PS  Romi Rain  found at postion:  338\n",
      "PS  Sensual Jane  found at postion:  352\n",
      "PS  Shyla Stylez  found at postion:  356\n",
      "PS  Sienna West  found at postion:  358\n",
      "PS  Sophie Dee  found at postion:  368\n",
      "PS  Stella Cox  found at postion:  371\n",
      "PS  Syren De Mer  found at postion:  378\n",
      "PS  Tarra White  found at postion:  383\n",
      "PS  Tory Lane  found at postion:  395\n",
      "PS  Velicity Von  found at postion:  398\n",
      "PS  Veronica Avluv  found at postion:  399\n",
      "PS  Yasmin Scott  found at postion:  406\n"
     ]
    }
   ],
   "source": [
    "for single_ps in top50_ps:\n",
    "    if single_ps in list(df_ps_total['PS']):\n",
    "        ps_index_position = (df_ps_total[df_ps_total['PS'] == single_ps]).index.item()\n",
    "        print('PS ', single_ps, ' found at postion: ', str(ps_index_position))\n",
    "        df_ps_total.loc[ps_index_position, 'TOP50'] = 'Yes'"
   ]
  },
  {
   "cell_type": "code",
   "execution_count": 9,
   "id": "f81f8401-9de0-4538-9348-6aceb9f9c584",
   "metadata": {},
   "outputs": [],
   "source": [
    "df_top_ps = df_ps_total[df_ps_total['TOP50'] == 'Yes']"
   ]
  },
  {
   "cell_type": "code",
   "execution_count": 10,
   "id": "38aac4e6-0107-49cc-80ef-2c8e90116a39",
   "metadata": {},
   "outputs": [],
   "source": [
    "df_top_ps_tmp = pd.DataFrame()\n",
    "for single_top_ps in df_top_ps['PS']:\n",
    "    #print(single_top_ps)\n",
    "    index_list_top_ps = df[(df['PS1'] == single_top_ps) | (df['PS2'] == single_top_ps) |\n",
    "                (df['PS3'] == single_top_ps) | (df['PS4'] == single_top_ps) |\n",
    "                (df['PS5'] == single_top_ps) | (df['PS6'] == single_top_ps) |\n",
    "                (df['PS7'] == single_top_ps) | (df['PS8'] == single_top_ps) |\n",
    "                (df['PS9'] == single_top_ps) | (df['PS10'] == single_top_ps)].index\n",
    "    df_tmp = df.loc[index_list_top_ps]\n",
    "    \n",
    "    df_top_ps_tmp = df_top_ps_tmp.append(df_tmp)\n",
    "    "
   ]
  },
  {
   "cell_type": "code",
   "execution_count": 23,
   "id": "cbb210da",
   "metadata": {},
   "outputs": [
    {
     "data": {
      "text/plain": [
       "924"
      ]
     },
     "execution_count": 23,
     "metadata": {},
     "output_type": "execute_result"
    }
   ],
   "source": [
    "len(df_top_ps_tmp)"
   ]
  },
  {
   "cell_type": "code",
   "execution_count": 24,
   "id": "4641d6e0",
   "metadata": {},
   "outputs": [],
   "source": [
    "df_top_ps_tmp.to_csv('df_top56_ps_tmp_08_08_22.csv')"
   ]
  },
  {
   "cell_type": "markdown",
   "id": "9b545f3f",
   "metadata": {},
   "source": [
    "#### Get the titles of the chosen PS"
   ]
  },
  {
   "cell_type": "code",
   "execution_count": 21,
   "id": "4a0ea6c3",
   "metadata": {},
   "outputs": [
    {
     "data": {
      "text/plain": [
       "52"
      ]
     },
     "execution_count": 21,
     "metadata": {},
     "output_type": "execute_result"
    }
   ],
   "source": [
    "chosen_ps = \"Ava Addams\"\n",
    "len(df_top_ps_tmp[(df_top_ps_tmp['PS1']==chosen_ps) | (df_top_ps_tmp['PS2']==chosen_ps) | \n",
    "                  (df_top_ps_tmp['PS3']==chosen_ps) | (df_top_ps_tmp['PS4']==chosen_ps) |\n",
    "                  (df_top_ps_tmp['PS5']==chosen_ps) | (df_top_ps_tmp['PS6']==chosen_ps) |\n",
    "                  (df_top_ps_tmp['PS7']==chosen_ps) | (df_top_ps_tmp['PS8']==chosen_ps) |\n",
    "                  (df_top_ps_tmp['PS9']==chosen_ps) | (df_top_ps_tmp['PS10']==chosen_ps)]['Title'])"
   ]
  },
  {
   "cell_type": "code",
   "execution_count": null,
   "id": "db2d06e6",
   "metadata": {},
   "outputs": [],
   "source": [
    "df_top_ps_tmp = df_top_ps_tmp.reset_index()\n",
    "del df_top_ps_tmp['index']\n"
   ]
  },
  {
   "cell_type": "code",
   "execution_count": null,
   "id": "bb8a4f65",
   "metadata": {},
   "outputs": [],
   "source": [
    "df_top_ps_tmp.to_csv('df_top56_ps_07_08_22.csv')\n"
   ]
  },
  {
   "cell_type": "code",
   "execution_count": null,
   "id": "2eb7e643",
   "metadata": {},
   "outputs": [],
   "source": [
    "df_top_ps = df_top_ps_tmp"
   ]
  },
  {
   "cell_type": "code",
   "execution_count": null,
   "id": "655d3d8d-e4e6-4ee1-b58f-06da861bd6a8",
   "metadata": {},
   "outputs": [],
   "source": [
    "df_top_ps[df_top_ps['PS1'] == 'Ava Addams'].index#.items()"
   ]
  },
  {
   "cell_type": "code",
   "execution_count": null,
   "id": "41b722af",
   "metadata": {},
   "outputs": [],
   "source": [
    "df_top_ps[df_top_ps['PS1'] == 'Bridgette B'].index#.items()"
   ]
  },
  {
   "cell_type": "code",
   "execution_count": null,
   "id": "b5bf55aa",
   "metadata": {},
   "outputs": [],
   "source": []
  },
  {
   "cell_type": "code",
   "execution_count": null,
   "id": "d761c978",
   "metadata": {},
   "outputs": [],
   "source": [
    "index_list = df_top_ps[(df_top_ps['PS1'] == single_top_ps) | (df_top_ps['PS2'] == single_top_ps) |\n",
    "                (df_top_ps['PS3'] == single_top_ps) | (df_top_ps['PS4'] == single_top_ps) |\n",
    "                (df_top_ps['PS5'] == single_top_ps) | (df_top_ps['PS6'] == single_top_ps) |\n",
    "                (df_top_ps['PS7'] == single_top_ps) | (df_top_ps['PS8'] == single_top_ps) |\n",
    "                (df_top_ps['PS9'] == single_top_ps) | (df_top_ps['PS10'] == single_top_ps)].index"
   ]
  },
  {
   "cell_type": "code",
   "execution_count": null,
   "id": "05d787f6",
   "metadata": {},
   "outputs": [],
   "source": [
    "print(index_list)"
   ]
  },
  {
   "cell_type": "code",
   "execution_count": null,
   "id": "0b836a69-fb59-498a-9353-1b2dd2856034",
   "metadata": {},
   "outputs": [],
   "source": [
    "index_list = df[(df['PS1'] == single_top_ps) | (df['PS2'] == single_top_ps) |\n",
    "                (df['PS3'] == single_top_ps) | (df['PS4'] == single_top_ps) |\n",
    "                (df['PS5'] == single_top_ps) | (df['PS6'] == single_top_ps) |\n",
    "                (df['PS7'] == single_top_ps) | (df['PS8'] == single_top_ps) |\n",
    "                (df['PS9'] == single_top_ps) | (df['PS10'] == single_top_ps)].index\n",
    "                "
   ]
  },
  {
   "cell_type": "code",
   "execution_count": null,
   "id": "6c513856",
   "metadata": {},
   "outputs": [],
   "source": [
    "print(index_list)\n",
    "\n"
   ]
  },
  {
   "cell_type": "code",
   "execution_count": null,
   "id": "b1f3ea37",
   "metadata": {},
   "outputs": [],
   "source": [
    "df_top_ps"
   ]
  },
  {
   "cell_type": "code",
   "execution_count": null,
   "id": "270cdb18",
   "metadata": {},
   "outputs": [],
   "source": []
  },
  {
   "cell_type": "code",
   "execution_count": null,
   "id": "4fd1a154",
   "metadata": {},
   "outputs": [],
   "source": []
  },
  {
   "cell_type": "code",
   "execution_count": null,
   "id": "9520040f",
   "metadata": {},
   "outputs": [],
   "source": []
  }
 ],
 "metadata": {
  "interpreter": {
   "hash": "dc05cbb8395f8c9d8e70ac9b57ce07793b2b23d5ca675dae38c2462aef602191"
  },
  "kernelspec": {
   "display_name": "python38",
   "language": "python",
   "name": "python3"
  },
  "language_info": {
   "codemirror_mode": {
    "name": "ipython",
    "version": 3
   },
   "file_extension": ".py",
   "mimetype": "text/x-python",
   "name": "python",
   "nbconvert_exporter": "python",
   "pygments_lexer": "ipython3",
   "version": "3.8.8"
  }
 },
 "nbformat": 4,
 "nbformat_minor": 5
}
