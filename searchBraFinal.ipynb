{
 "cells": [
  {
   "cell_type": "code",
   "execution_count": 1,
   "metadata": {},
   "outputs": [
    {
     "name": "stdout",
     "output_type": "stream",
     "text": [
      "Apple Script successfully executed!\n"
     ]
    }
   ],
   "source": [
    "import pandas as pd\n",
    "import os\n",
    "import glob\n",
    "import sys  \n",
    "sys.path.append('/Users/joerg/repos/development/utilities_functions')\n",
    "# SCRIPT_DIR = os.path.dirname(os.path.abspath(__file__)) # if file is a py-file\n",
    "SCRIPT_DIR = os.path.abspath('') # if file is a jupyter notebook file\n",
    "sys.path.append(os.path.dirname(SCRIPT_DIR))\n",
    "from tabulate import tabulate\n",
    "\n",
    "import numpy as np\n",
    "#import qgrid\n",
    "pd.set_option('display.max_columns', None)\n",
    "pd.set_option('display.max_rows', None)\n",
    "from mnt_functions import mnt_WERDERNAS\n",
    "from mnt_functions import mnt_WERDERNAS2\n",
    "from mnt_functions import mnt_WERDERNASX\n",
    "from mnt_functions import mnt_WERDERNAS2X\n",
    "mnt_WERDERNAS()\n",
    "mnt_WERDERNAS2()\n",
    "mnt_WERDERNASX()\n",
    "mnt_WERDERNAS2X()"
   ]
  },
  {
   "cell_type": "code",
   "execution_count": 2,
   "metadata": {},
   "outputs": [],
   "source": [
    "import pandas as pd\n",
    "def search_titles(dataFrame, search_string):\n",
    "    mask = (dataFrame.applymap(lambda x: isinstance(x, str) and search_string in x)).any(1)\n",
    "    #print('mask: ', dataFrame[mask]['Title'])\n",
    "    return dataFrame[mask]#['Title']\n",
    "dfFinal = pd.read_csv('df_final_02_03_23.csv')"
   ]
  },
  {
   "cell_type": "code",
   "execution_count": 3,
   "metadata": {},
   "outputs": [
    {
     "data": {
      "text/html": [
       "<div>\n",
       "<style scoped>\n",
       "    .dataframe tbody tr th:only-of-type {\n",
       "        vertical-align: middle;\n",
       "    }\n",
       "\n",
       "    .dataframe tbody tr th {\n",
       "        vertical-align: top;\n",
       "    }\n",
       "\n",
       "    .dataframe thead th {\n",
       "        text-align: right;\n",
       "    }\n",
       "</style>\n",
       "<table border=\"1\" class=\"dataframe\">\n",
       "  <thead>\n",
       "    <tr style=\"text-align: right;\">\n",
       "      <th></th>\n",
       "      <th>Unnamed: 0</th>\n",
       "      <th>Site</th>\n",
       "      <th>PS1</th>\n",
       "      <th>PS2</th>\n",
       "      <th>PS3</th>\n",
       "      <th>Title</th>\n",
       "      <th>PS4</th>\n",
       "      <th>PS5</th>\n",
       "      <th>PS6</th>\n",
       "      <th>PS7</th>\n",
       "      <th>PS8</th>\n",
       "      <th>PS9</th>\n",
       "      <th>PS10</th>\n",
       "      <th>Location</th>\n",
       "      <th>Link</th>\n",
       "    </tr>\n",
       "  </thead>\n",
       "  <tbody>\n",
       "    <tr>\n",
       "      <th>666</th>\n",
       "      <td>666</td>\n",
       "      <td>Brazzers Extra</td>\n",
       "      <td>Anna Bell Peaks</td>\n",
       "      <td>Felicity Feline</td>\n",
       "      <td>No Name</td>\n",
       "      <td>bloodthirsty_biker_babes_part_2_720p</td>\n",
       "      <td>No Name</td>\n",
       "      <td>No Name</td>\n",
       "      <td>No Name</td>\n",
       "      <td>No Name</td>\n",
       "      <td>No Name</td>\n",
       "      <td>No Name</td>\n",
       "      <td>No Name</td>\n",
       "      <td>WERDERNASX</td>\n",
       "      <td>/Volumes/WERDERNASX/VIDEOSX/BRAZZERS/brazzers_...</td>\n",
       "    </tr>\n",
       "    <tr>\n",
       "      <th>667</th>\n",
       "      <td>667</td>\n",
       "      <td>Brazzers Extra</td>\n",
       "      <td>Anna Bell Peaks</td>\n",
       "      <td>Felicity Feline</td>\n",
       "      <td>No Name</td>\n",
       "      <td>bloodthirsty_biker_babes_part_3_720p</td>\n",
       "      <td>No Name</td>\n",
       "      <td>No Name</td>\n",
       "      <td>No Name</td>\n",
       "      <td>No Name</td>\n",
       "      <td>No Name</td>\n",
       "      <td>No Name</td>\n",
       "      <td>No Name</td>\n",
       "      <td>WERDERNASX</td>\n",
       "      <td>/Volumes/WERDERNASX/VIDEOSX/BRAZZERS/brazzers_...</td>\n",
       "    </tr>\n",
       "    <tr>\n",
       "      <th>1012</th>\n",
       "      <td>1012</td>\n",
       "      <td>Milfs Like It Big</td>\n",
       "      <td>Eva Karera</td>\n",
       "      <td>No Name</td>\n",
       "      <td>No Name</td>\n",
       "      <td>biker_milfs_720p</td>\n",
       "      <td>No Name</td>\n",
       "      <td>No Name</td>\n",
       "      <td>No Name</td>\n",
       "      <td>No Name</td>\n",
       "      <td>No Name</td>\n",
       "      <td>No Name</td>\n",
       "      <td>No Name</td>\n",
       "      <td>WERDERNASX</td>\n",
       "      <td>/Volumes/WERDERNASX/VIDEOSX/BRAZZERS/milfs_lik...</td>\n",
       "    </tr>\n",
       "  </tbody>\n",
       "</table>\n",
       "</div>"
      ],
      "text/plain": [
       "      Unnamed: 0               Site              PS1              PS2  \\\n",
       "666          666     Brazzers Extra  Anna Bell Peaks  Felicity Feline   \n",
       "667          667     Brazzers Extra  Anna Bell Peaks  Felicity Feline   \n",
       "1012        1012  Milfs Like It Big       Eva Karera          No Name   \n",
       "\n",
       "          PS3                                 Title      PS4      PS5  \\\n",
       "666   No Name  bloodthirsty_biker_babes_part_2_720p  No Name  No Name   \n",
       "667   No Name  bloodthirsty_biker_babes_part_3_720p  No Name  No Name   \n",
       "1012  No Name                      biker_milfs_720p  No Name  No Name   \n",
       "\n",
       "          PS6      PS7      PS8      PS9     PS10    Location  \\\n",
       "666   No Name  No Name  No Name  No Name  No Name  WERDERNASX   \n",
       "667   No Name  No Name  No Name  No Name  No Name  WERDERNASX   \n",
       "1012  No Name  No Name  No Name  No Name  No Name  WERDERNASX   \n",
       "\n",
       "                                                   Link  \n",
       "666   /Volumes/WERDERNASX/VIDEOSX/BRAZZERS/brazzers_...  \n",
       "667   /Volumes/WERDERNASX/VIDEOSX/BRAZZERS/brazzers_...  \n",
       "1012  /Volumes/WERDERNASX/VIDEOSX/BRAZZERS/milfs_lik...  "
      ]
     },
     "execution_count": 3,
     "metadata": {},
     "output_type": "execute_result"
    }
   ],
   "source": [
    "search_string = 'biker'\n",
    "search_titles(dfFinal, search_string)"
   ]
  },
  {
   "cell_type": "code",
   "execution_count": null,
   "metadata": {},
   "outputs": [],
   "source": []
  }
 ],
 "metadata": {
  "kernelspec": {
   "display_name": "Python 3.8.8 ('dev_env')",
   "language": "python",
   "name": "python3"
  },
  "language_info": {
   "codemirror_mode": {
    "name": "ipython",
    "version": 3
   },
   "file_extension": ".py",
   "mimetype": "text/x-python",
   "name": "python",
   "nbconvert_exporter": "python",
   "pygments_lexer": "ipython3",
   "version": "3.8.8"
  },
  "orig_nbformat": 4,
  "vscode": {
   "interpreter": {
    "hash": "49b32e718d396453da74a87fcbdef4c593c9ec438ad1347297e2038d8db89ee5"
   }
  }
 },
 "nbformat": 4,
 "nbformat_minor": 2
}
