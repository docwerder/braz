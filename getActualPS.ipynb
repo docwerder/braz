{
 "cells": [
  {
   "cell_type": "code",
   "execution_count": 1,
   "metadata": {},
   "outputs": [],
   "source": [
    "%reload_ext autoreload"
   ]
  },
  {
   "cell_type": "code",
   "execution_count": 2,
   "metadata": {},
   "outputs": [],
   "source": [
    "%autoreload 2\n",
    "import pandas as pd\n",
    "from dfActualPS import dfActualPS\n",
    "# from dfActualPS import getMissingTitles\n",
    "# from create_df_actual_ps2 import createDfActualPS\n"
   ]
  },
  {
   "cell_type": "code",
   "execution_count": null,
   "metadata": {},
   "outputs": [],
   "source": [
    "actual_ps = 'Shyla Stylez'\n",
    "chosen_model_brazz_site = 'https://www.brazzers.com/videos/models/403/shyla-stylez/page'\n",
    "max_page_len_of_chosen_model = [2]\n",
    "csv_final = 'df_final_10_03_23.csv'\n"
   ]
  },
  {
   "attachments": {},
   "cell_type": "markdown",
   "metadata": {},
   "source": [
    "# Sienna West --> open"
   ]
  },
  {
   "cell_type": "code",
   "execution_count": 6,
   "metadata": {},
   "outputs": [],
   "source": [
    "actual_ps = 'Sienna West'\n",
    "chosen_model_brazz_site = 'https://www.brazzers.com/videos/models/555/sienna-west/page/'\n",
    "max_page_len_of_chosen_model = [2]\n",
    "csv_final = 'df_final_10_03_23.csv'\n",
    "df_class_ps_sw = dfActualPS(actual_ps, chosen_model_brazz_site, max_page_len_of_chosen_model, csv_final)\n",
    "\n"
   ]
  },
  {
   "cell_type": "code",
   "execution_count": 11,
   "metadata": {},
   "outputs": [
    {
     "name": "stdout",
     "output_type": "stream",
     "text": [
      "scanning Site: https://www.brazzers.com/videos/models/555/sienna-west/page/1, Response: <Response [200]>\n",
      "scanning Site: https://www.brazzers.com/videos/models/555/sienna-west/page/2, Response: <Response [200]>\n"
     ]
    },
    {
     "data": {
      "text/html": [
       "<div>\n",
       "<style scoped>\n",
       "    .dataframe tbody tr th:only-of-type {\n",
       "        vertical-align: middle;\n",
       "    }\n",
       "\n",
       "    .dataframe tbody tr th {\n",
       "        vertical-align: top;\n",
       "    }\n",
       "\n",
       "    .dataframe thead th {\n",
       "        text-align: right;\n",
       "    }\n",
       "</style>\n",
       "<table border=\"1\" class=\"dataframe\">\n",
       "  <thead>\n",
       "    <tr style=\"text-align: right;\">\n",
       "      <th></th>\n",
       "      <th>Site</th>\n",
       "      <th>PS1</th>\n",
       "      <th>PS2</th>\n",
       "      <th>Title</th>\n",
       "    </tr>\n",
       "  </thead>\n",
       "  <tbody>\n",
       "    <tr>\n",
       "      <th>0</th>\n",
       "      <td>Models</td>\n",
       "      <td>sienna_west</td>\n",
       "      <td>danny_mountain</td>\n",
       "      <td>graduation_lay</td>\n",
       "    </tr>\n",
       "    <tr>\n",
       "      <th>1</th>\n",
       "      <td>Models</td>\n",
       "      <td>sienna_west</td>\n",
       "      <td>james_deen</td>\n",
       "      <td>dinner_and_a_floozy</td>\n",
       "    </tr>\n",
       "    <tr>\n",
       "      <th>2</th>\n",
       "      <td>Models</td>\n",
       "      <td>sienna_west</td>\n",
       "      <td>ralph_long</td>\n",
       "      <td>the_damage_is_done</td>\n",
       "    </tr>\n",
       "    <tr>\n",
       "      <th>3</th>\n",
       "      <td>Models</td>\n",
       "      <td>sienna_west</td>\n",
       "      <td>keiran_lee</td>\n",
       "      <td>surviving</td>\n",
       "    </tr>\n",
       "    <tr>\n",
       "      <th>4</th>\n",
       "      <td>Models</td>\n",
       "      <td>sienna_west</td>\n",
       "      <td>johnny_sins</td>\n",
       "      <td>stop_crosswalk_tits</td>\n",
       "    </tr>\n",
       "    <tr>\n",
       "      <th>5</th>\n",
       "      <td>Models</td>\n",
       "      <td>sienna_west</td>\n",
       "      <td>keiran_lee</td>\n",
       "      <td>yoga_tta_big_dick</td>\n",
       "    </tr>\n",
       "    <tr>\n",
       "      <th>6</th>\n",
       "      <td>Models</td>\n",
       "      <td>sienna_west</td>\n",
       "      <td>scott_nails</td>\n",
       "      <td>time_for_a_closeup</td>\n",
       "    </tr>\n",
       "    <tr>\n",
       "      <th>7</th>\n",
       "      <td>Models</td>\n",
       "      <td>sienna_west</td>\n",
       "      <td>keiran_lee</td>\n",
       "      <td>sex_me_in_the_name_of_science</td>\n",
       "    </tr>\n",
       "    <tr>\n",
       "      <th>8</th>\n",
       "      <td>Models</td>\n",
       "      <td>sienna_west</td>\n",
       "      <td>ariella_ferrera</td>\n",
       "      <td>dick_rush</td>\n",
       "    </tr>\n",
       "    <tr>\n",
       "      <th>9</th>\n",
       "      <td>Models</td>\n",
       "      <td>sienna_west</td>\n",
       "      <td>dylan_riley</td>\n",
       "      <td>xxx_mas_break</td>\n",
       "    </tr>\n",
       "    <tr>\n",
       "      <th>10</th>\n",
       "      <td>Models</td>\n",
       "      <td>sienna_west</td>\n",
       "      <td>sara_stone</td>\n",
       "      <td>the_carpet_cleaner</td>\n",
       "    </tr>\n",
       "    <tr>\n",
       "      <th>11</th>\n",
       "      <td>Models</td>\n",
       "      <td>sienna_west</td>\n",
       "      <td>charles_dera</td>\n",
       "      <td>its_cock_hunting_season</td>\n",
       "    </tr>\n",
       "    <tr>\n",
       "      <th>12</th>\n",
       "      <td>Models</td>\n",
       "      <td>sienna_west</td>\n",
       "      <td>lisa_ann</td>\n",
       "      <td>soccer_moms_gone_wild</td>\n",
       "    </tr>\n",
       "    <tr>\n",
       "      <th>13</th>\n",
       "      <td>Models</td>\n",
       "      <td>sienna_west</td>\n",
       "      <td>danny_mountain</td>\n",
       "      <td>peeping_danny</td>\n",
       "    </tr>\n",
       "    <tr>\n",
       "      <th>14</th>\n",
       "      <td>Models</td>\n",
       "      <td>sienna_west</td>\n",
       "      <td>johnny_sins</td>\n",
       "      <td>deep_dark_secret</td>\n",
       "    </tr>\n",
       "    <tr>\n",
       "      <th>15</th>\n",
       "      <td>Models</td>\n",
       "      <td>sienna_west</td>\n",
       "      <td>johnny_sins</td>\n",
       "      <td>the_scout</td>\n",
       "    </tr>\n",
       "    <tr>\n",
       "      <th>16</th>\n",
       "      <td>Models</td>\n",
       "      <td>sienna_west</td>\n",
       "      <td>carmella_bing</td>\n",
       "      <td>an_uninvited_guest</td>\n",
       "    </tr>\n",
       "    <tr>\n",
       "      <th>17</th>\n",
       "      <td>Models</td>\n",
       "      <td>sienna_west</td>\n",
       "      <td>carmella_bing</td>\n",
       "      <td>orgy_at_siennas_house</td>\n",
       "    </tr>\n",
       "    <tr>\n",
       "      <th>18</th>\n",
       "      <td>Models</td>\n",
       "      <td>sienna_west</td>\n",
       "      <td>billy_glide</td>\n",
       "      <td>the_customer_is_always_right</td>\n",
       "    </tr>\n",
       "    <tr>\n",
       "      <th>19</th>\n",
       "      <td>Models</td>\n",
       "      <td>sienna_west</td>\n",
       "      <td>keiran_lee</td>\n",
       "      <td>sextra_curricular_xx_xcersices</td>\n",
       "    </tr>\n",
       "    <tr>\n",
       "      <th>20</th>\n",
       "      <td>Models</td>\n",
       "      <td>sienna_west</td>\n",
       "      <td>jordan_ash</td>\n",
       "      <td>wild_wild_west</td>\n",
       "    </tr>\n",
       "    <tr>\n",
       "      <th>21</th>\n",
       "      <td>Models</td>\n",
       "      <td>sienna_west</td>\n",
       "      <td>jordan_ash</td>\n",
       "      <td>thinking_out_loud</td>\n",
       "    </tr>\n",
       "    <tr>\n",
       "      <th>22</th>\n",
       "      <td>Models</td>\n",
       "      <td>sienna_west</td>\n",
       "      <td>scott_nails</td>\n",
       "      <td>house_swap_part_3</td>\n",
       "    </tr>\n",
       "    <tr>\n",
       "      <th>23</th>\n",
       "      <td>Models</td>\n",
       "      <td>sienna_west</td>\n",
       "      <td>rachel_roxxx</td>\n",
       "      <td>sharing_with_the_neighbor</td>\n",
       "    </tr>\n",
       "    <tr>\n",
       "      <th>0</th>\n",
       "      <td>Models</td>\n",
       "      <td>sienna_west</td>\n",
       "      <td>ramon_nomar</td>\n",
       "      <td>wet_dream</td>\n",
       "    </tr>\n",
       "    <tr>\n",
       "      <th>1</th>\n",
       "      <td>Models</td>\n",
       "      <td>sienna_west</td>\n",
       "      <td>austin_kincaid</td>\n",
       "      <td>big_dick_auction</td>\n",
       "    </tr>\n",
       "    <tr>\n",
       "      <th>2</th>\n",
       "      <td>Models</td>\n",
       "      <td>sienna_west</td>\n",
       "      <td>barry_scott</td>\n",
       "      <td>a_visit_from_mr_cockrin</td>\n",
       "    </tr>\n",
       "    <tr>\n",
       "      <th>3</th>\n",
       "      <td>Models</td>\n",
       "      <td>sienna_west</td>\n",
       "      <td>jack_lawrence</td>\n",
       "      <td>big_tit_persuasion</td>\n",
       "    </tr>\n",
       "    <tr>\n",
       "      <th>4</th>\n",
       "      <td>Models</td>\n",
       "      <td>sienna_west</td>\n",
       "      <td>johnny_sins</td>\n",
       "      <td>law_loop_hole</td>\n",
       "    </tr>\n",
       "    <tr>\n",
       "      <th>5</th>\n",
       "      <td>Models</td>\n",
       "      <td>sienna_west</td>\n",
       "      <td>mikey_butders</td>\n",
       "      <td>reunited_and_it_feels_so_good</td>\n",
       "    </tr>\n",
       "    <tr>\n",
       "      <th>6</th>\n",
       "      <td>Models</td>\n",
       "      <td>sienna_west</td>\n",
       "      <td>savannah_stern</td>\n",
       "      <td>schools_out</td>\n",
       "    </tr>\n",
       "    <tr>\n",
       "      <th>7</th>\n",
       "      <td>Models</td>\n",
       "      <td>sienna_west</td>\n",
       "      <td>phat_zane</td>\n",
       "      <td>long_awaited_package</td>\n",
       "    </tr>\n",
       "    <tr>\n",
       "      <th>8</th>\n",
       "      <td>Models</td>\n",
       "      <td>sienna_west</td>\n",
       "      <td>tj_cummings</td>\n",
       "      <td>wild_wild_west</td>\n",
       "    </tr>\n",
       "    <tr>\n",
       "      <th>9</th>\n",
       "      <td>Models</td>\n",
       "      <td>sienna_west</td>\n",
       "      <td>johnny_sins</td>\n",
       "      <td>big_tit_knock_out</td>\n",
       "    </tr>\n",
       "    <tr>\n",
       "      <th>10</th>\n",
       "      <td>Models</td>\n",
       "      <td>sienna_west</td>\n",
       "      <td>ava_lauren</td>\n",
       "      <td>desperate_housewives</td>\n",
       "    </tr>\n",
       "    <tr>\n",
       "      <th>11</th>\n",
       "      <td>Models</td>\n",
       "      <td>sienna_west</td>\n",
       "      <td>alex_gonz</td>\n",
       "      <td>extra_work</td>\n",
       "    </tr>\n",
       "    <tr>\n",
       "      <th>12</th>\n",
       "      <td>Models</td>\n",
       "      <td>sienna_west</td>\n",
       "      <td>mikey_butders</td>\n",
       "      <td>the_voyeur</td>\n",
       "    </tr>\n",
       "    <tr>\n",
       "      <th>13</th>\n",
       "      <td>Models</td>\n",
       "      <td>sienna_west</td>\n",
       "      <td>mikey_butders</td>\n",
       "      <td>better_than_a_scholarship</td>\n",
       "    </tr>\n",
       "  </tbody>\n",
       "</table>\n",
       "</div>"
      ],
      "text/plain": [
       "      Site          PS1              PS2                           Title\n",
       "0   Models  sienna_west   danny_mountain                  graduation_lay\n",
       "1   Models  sienna_west       james_deen             dinner_and_a_floozy\n",
       "2   Models  sienna_west       ralph_long              the_damage_is_done\n",
       "3   Models  sienna_west       keiran_lee                       surviving\n",
       "4   Models  sienna_west      johnny_sins             stop_crosswalk_tits\n",
       "5   Models  sienna_west       keiran_lee               yoga_tta_big_dick\n",
       "6   Models  sienna_west      scott_nails              time_for_a_closeup\n",
       "7   Models  sienna_west       keiran_lee   sex_me_in_the_name_of_science\n",
       "8   Models  sienna_west  ariella_ferrera                       dick_rush\n",
       "9   Models  sienna_west      dylan_riley                   xxx_mas_break\n",
       "10  Models  sienna_west       sara_stone              the_carpet_cleaner\n",
       "11  Models  sienna_west     charles_dera         its_cock_hunting_season\n",
       "12  Models  sienna_west         lisa_ann           soccer_moms_gone_wild\n",
       "13  Models  sienna_west   danny_mountain                   peeping_danny\n",
       "14  Models  sienna_west      johnny_sins                deep_dark_secret\n",
       "15  Models  sienna_west      johnny_sins                       the_scout\n",
       "16  Models  sienna_west    carmella_bing              an_uninvited_guest\n",
       "17  Models  sienna_west    carmella_bing           orgy_at_siennas_house\n",
       "18  Models  sienna_west      billy_glide    the_customer_is_always_right\n",
       "19  Models  sienna_west       keiran_lee  sextra_curricular_xx_xcersices\n",
       "20  Models  sienna_west       jordan_ash                  wild_wild_west\n",
       "21  Models  sienna_west       jordan_ash               thinking_out_loud\n",
       "22  Models  sienna_west      scott_nails               house_swap_part_3\n",
       "23  Models  sienna_west     rachel_roxxx       sharing_with_the_neighbor\n",
       "0   Models  sienna_west      ramon_nomar                       wet_dream\n",
       "1   Models  sienna_west   austin_kincaid                big_dick_auction\n",
       "2   Models  sienna_west      barry_scott         a_visit_from_mr_cockrin\n",
       "3   Models  sienna_west    jack_lawrence              big_tit_persuasion\n",
       "4   Models  sienna_west      johnny_sins                   law_loop_hole\n",
       "5   Models  sienna_west    mikey_butders   reunited_and_it_feels_so_good\n",
       "6   Models  sienna_west   savannah_stern                     schools_out\n",
       "7   Models  sienna_west        phat_zane            long_awaited_package\n",
       "8   Models  sienna_west      tj_cummings                  wild_wild_west\n",
       "9   Models  sienna_west      johnny_sins               big_tit_knock_out\n",
       "10  Models  sienna_west       ava_lauren            desperate_housewives\n",
       "11  Models  sienna_west        alex_gonz                      extra_work\n",
       "12  Models  sienna_west    mikey_butders                      the_voyeur\n",
       "13  Models  sienna_west    mikey_butders       better_than_a_scholarship"
      ]
     },
     "execution_count": 11,
     "metadata": {},
     "output_type": "execute_result"
    }
   ],
   "source": [
    "df_chosen_ps_sw = df_class_ps_sw.createDfActualPS()\n",
    "df_chosen_ps_sw"
   ]
  },
  {
   "cell_type": "code",
   "execution_count": 8,
   "metadata": {},
   "outputs": [
    {
     "name": "stdout",
     "output_type": "stream",
     "text": [
      "== INFOS ABOUT THE TITLES: ==\n",
      "Count of df_current_final: 2127\n",
      "Current_titles in df_final of Sienna West: 8\n",
      "Count of Sienna West of braz_sides: 38\n",
      "==\n"
     ]
    },
    {
     "data": {
      "text/html": [
       "<div>\n",
       "<style scoped>\n",
       "    .dataframe tbody tr th:only-of-type {\n",
       "        vertical-align: middle;\n",
       "    }\n",
       "\n",
       "    .dataframe tbody tr th {\n",
       "        vertical-align: top;\n",
       "    }\n",
       "\n",
       "    .dataframe thead th {\n",
       "        text-align: right;\n",
       "    }\n",
       "</style>\n",
       "<table border=\"1\" class=\"dataframe\">\n",
       "  <thead>\n",
       "    <tr style=\"text-align: right;\">\n",
       "      <th></th>\n",
       "      <th>Title</th>\n",
       "    </tr>\n",
       "  </thead>\n",
       "  <tbody>\n",
       "    <tr>\n",
       "      <th>148</th>\n",
       "      <td>xxx_mas_break_720p</td>\n",
       "    </tr>\n",
       "    <tr>\n",
       "      <th>162</th>\n",
       "      <td>long_live_brazzers_720p</td>\n",
       "    </tr>\n",
       "    <tr>\n",
       "      <th>815</th>\n",
       "      <td>how_to_handle_your_students_101_720p</td>\n",
       "    </tr>\n",
       "    <tr>\n",
       "      <th>817</th>\n",
       "      <td>tits_for_tits_wife_for_wife_480p</td>\n",
       "    </tr>\n",
       "    <tr>\n",
       "      <th>883</th>\n",
       "      <td>dick_rush_720p</td>\n",
       "    </tr>\n",
       "    <tr>\n",
       "      <th>1193</th>\n",
       "      <td>soccer_moms_gone_wild_480p</td>\n",
       "    </tr>\n",
       "    <tr>\n",
       "      <th>2045</th>\n",
       "      <td>orgy_at_siennas_house_480p</td>\n",
       "    </tr>\n",
       "    <tr>\n",
       "      <th>2088</th>\n",
       "      <td>an_uninvited_guest_480p</td>\n",
       "    </tr>\n",
       "  </tbody>\n",
       "</table>\n",
       "</div>"
      ],
      "text/plain": [
       "                                     Title\n",
       "148                     xxx_mas_break_720p\n",
       "162                long_live_brazzers_720p\n",
       "815   how_to_handle_your_students_101_720p\n",
       "817       tits_for_tits_wife_for_wife_480p\n",
       "883                         dick_rush_720p\n",
       "1193            soccer_moms_gone_wild_480p\n",
       "2045            orgy_at_siennas_house_480p\n",
       "2088               an_uninvited_guest_480p"
      ]
     },
     "execution_count": 8,
     "metadata": {},
     "output_type": "execute_result"
    }
   ],
   "source": [
    "df_actual_titles_sw = df_class_ps_sw.getTitlesInDfFinal()\n",
    "df_actual_titles_sw"
   ]
  },
  {
   "cell_type": "code",
   "execution_count": 10,
   "metadata": {},
   "outputs": [
    {
     "name": "stdout",
     "output_type": "stream",
     "text": [
      "Chosen PS:  Sienna West\n"
     ]
    },
    {
     "name": "stderr",
     "output_type": "stream",
     "text": [
      "/Users/joerg/repos/braz/dfActualPS.py:127: FutureWarning: In a future version of pandas all arguments of DataFrame.any and Series.any will be keyword-only.\n",
      "  mask = (self.titles_in_df_curent_final.applymap(lambda x: isinstance(x, str) and self.search_string in x)).any(1)\n"
     ]
    },
    {
     "data": {
      "text/plain": [
       "['graduation_lay',\n",
       " 'dinner_and_a_floozy',\n",
       " 'the_damage_is_done',\n",
       " 'surviving',\n",
       " 'stop_crosswalk_tits',\n",
       " 'yoga_tta_big_dick',\n",
       " 'time_for_a_closeup',\n",
       " 'sex_me_in_the_name_of_science',\n",
       " 'the_carpet_cleaner',\n",
       " 'its_cock_hunting_season',\n",
       " 'peeping_danny',\n",
       " 'deep_dark_secret',\n",
       " 'the_scout',\n",
       " 'the_customer_is_always_right',\n",
       " 'sextra_curricular_xx_xcersices',\n",
       " 'wild_wild_west',\n",
       " 'thinking_out_loud',\n",
       " 'house_swap_part_3',\n",
       " 'sharing_with_the_neighbor',\n",
       " 'wet_dream',\n",
       " 'big_dick_auction',\n",
       " 'a_visit_from_mr_cockrin',\n",
       " 'big_tit_persuasion',\n",
       " 'law_loop_hole',\n",
       " 'reunited_and_it_feels_so_good',\n",
       " 'schools_out',\n",
       " 'long_awaited_package',\n",
       " 'wild_wild_west',\n",
       " 'big_tit_knock_out',\n",
       " 'desperate_housewives',\n",
       " 'extra_work',\n",
       " 'the_voyeur',\n",
       " 'better_than_a_scholarship']"
      ]
     },
     "execution_count": 10,
     "metadata": {},
     "output_type": "execute_result"
    }
   ],
   "source": [
    "missing_titles_sw = df_class_ps_sw.getMissingTitles()\n",
    "missing_titles_sw"
   ]
  },
  {
   "attachments": {},
   "cell_type": "markdown",
   "metadata": {},
   "source": [
    "***"
   ]
  },
  {
   "attachments": {},
   "cell_type": "markdown",
   "metadata": {},
   "source": [
    "# Tarra White --> finished\n"
   ]
  },
  {
   "cell_type": "code",
   "execution_count": null,
   "metadata": {},
   "outputs": [],
   "source": [
    "actual_ps = 'Tarra White'\n",
    "chosen_model_brazz_site = 'https://www.brazzers.com/videos/models/8193/tarra-white/page/'\n",
    "max_page_len_of_chosen_model = [1]\n",
    "csv_final = 'df_final_10_03_23.csv'\n",
    "df_class_ps_tw = dfActualPS(actual_ps, chosen_model_brazz_site, max_page_len_of_chosen_model, csv_final)"
   ]
  },
  {
   "cell_type": "code",
   "execution_count": null,
   "metadata": {},
   "outputs": [],
   "source": [
    "df_chosen_ps_tw = df_class_ps_tw.createDfActualPS()\n",
    "df_chosen_ps_tw"
   ]
  },
  {
   "cell_type": "code",
   "execution_count": null,
   "metadata": {},
   "outputs": [],
   "source": [
    "df_actual_titles_tw = df_class_ps_tw.getTitlesInDfFinal()\n",
    "df_actual_titles_tw"
   ]
  },
  {
   "cell_type": "code",
   "execution_count": null,
   "metadata": {},
   "outputs": [],
   "source": [
    "missing_titles_tw = df_class_ps_tw.getMissingTitles()\n",
    "missing_titles_tw"
   ]
  },
  {
   "cell_type": "markdown",
   "metadata": {},
   "source": [
    "***"
   ]
  },
  {
   "attachments": {},
   "cell_type": "markdown",
   "metadata": {},
   "source": [
    "# Jillian Janson --> seems difficult?"
   ]
  },
  {
   "cell_type": "code",
   "execution_count": null,
   "metadata": {},
   "outputs": [],
   "source": [
    "actual_ps = 'Jillian Janson'\n",
    "chosen_model_brazz_site = 'https://www.brazzers.com/models/379/jillian-janson/page/'\n",
    "max_page_len_of_chosen_model = [1]\n",
    "csv_final = 'df_final_10_03_23.csv'\n",
    "df_class_ps_jj = dfActualPS(actual_ps, chosen_model_brazz_site, max_page_len_of_chosen_model, csv_final)"
   ]
  },
  {
   "cell_type": "code",
   "execution_count": null,
   "metadata": {},
   "outputs": [],
   "source": [
    "df_chosen_ps_jj = df_class_ps_jj.createDfActualPS()\n",
    "df_chosen_ps_jj"
   ]
  },
  {
   "cell_type": "code",
   "execution_count": null,
   "metadata": {},
   "outputs": [],
   "source": [
    "df_actual_titles_jj = df_class_ps_jj.getTitlesInDfFinal()\n",
    "df_actual_titles_jj"
   ]
  },
  {
   "attachments": {},
   "cell_type": "markdown",
   "metadata": {},
   "source": [
    "# Syren De Mer"
   ]
  },
  {
   "cell_type": "code",
   "execution_count": 38,
   "metadata": {},
   "outputs": [],
   "source": [
    "from dfActualPS import dfActualPS"
   ]
  },
  {
   "cell_type": "code",
   "execution_count": 40,
   "metadata": {},
   "outputs": [],
   "source": [
    "actual_ps = 'Syren De Mer'\n",
    "chosen_model_brazz_site = 'https://www.brazzers.com/videos/models/7487/syren-de-mer/page/'\n",
    "max_page_len_of_chosen_model = [2]\n",
    "csv_final = 'df_final_10_03_23.csv'\n",
    "df_class_ps_sdm = dfActualPS(actual_ps, chosen_model_brazz_site, max_page_len_of_chosen_model, csv_final)"
   ]
  },
  {
   "cell_type": "code",
   "execution_count": 41,
   "metadata": {},
   "outputs": [
    {
     "name": "stdout",
     "output_type": "stream",
     "text": [
      "scanning Site: https://www.brazzers.com/videos/models/7487/syren-de-mer/page/1, Response: <Response [200]>\n",
      "scanning Site: https://www.brazzers.com/videos/models/7487/syren-de-mer/page/2, Response: <Response [200]>\n"
     ]
    },
    {
     "data": {
      "text/html": [
       "<div>\n",
       "<style scoped>\n",
       "    .dataframe tbody tr th:only-of-type {\n",
       "        vertical-align: middle;\n",
       "    }\n",
       "\n",
       "    .dataframe tbody tr th {\n",
       "        vertical-align: top;\n",
       "    }\n",
       "\n",
       "    .dataframe thead th {\n",
       "        text-align: right;\n",
       "    }\n",
       "</style>\n",
       "<table border=\"1\" class=\"dataframe\">\n",
       "  <thead>\n",
       "    <tr style=\"text-align: right;\">\n",
       "      <th></th>\n",
       "      <th>Site</th>\n",
       "      <th>PS1</th>\n",
       "      <th>PS2</th>\n",
       "      <th>Title</th>\n",
       "    </tr>\n",
       "  </thead>\n",
       "  <tbody>\n",
       "    <tr>\n",
       "      <th>0</th>\n",
       "      <td>Models</td>\n",
       "      <td>syren_de_mer</td>\n",
       "      <td>jimmy_michaels</td>\n",
       "      <td>cum_on_my_waffles_honey</td>\n",
       "    </tr>\n",
       "    <tr>\n",
       "      <th>1</th>\n",
       "      <td>Models</td>\n",
       "      <td>syren_de_mer</td>\n",
       "      <td>jesse_pony</td>\n",
       "      <td>fucked_by_gamer_girl_and_stepmom</td>\n",
       "    </tr>\n",
       "    <tr>\n",
       "      <th>2</th>\n",
       "      <td>Models</td>\n",
       "      <td>kenzie_reeves</td>\n",
       "      <td>syren_de_mer</td>\n",
       "      <td>chastity_blanket</td>\n",
       "    </tr>\n",
       "    <tr>\n",
       "      <th>3</th>\n",
       "      <td>Models</td>\n",
       "      <td>syren_de_mer</td>\n",
       "      <td>scott_nails</td>\n",
       "      <td>big_ass_anal_for_a_heavy_load</td>\n",
       "    </tr>\n",
       "    <tr>\n",
       "      <th>4</th>\n",
       "      <td>Models</td>\n",
       "      <td>anya_olsen</td>\n",
       "      <td>sydney_cole</td>\n",
       "      <td>best_of_brazzers_sharing_stepsiblings</td>\n",
       "    </tr>\n",
       "    <tr>\n",
       "      <th>5</th>\n",
       "      <td>Models</td>\n",
       "      <td>syren_de_mer</td>\n",
       "      <td>xander_corvus</td>\n",
       "      <td>red_hot_boss_from_hell</td>\n",
       "    </tr>\n",
       "    <tr>\n",
       "      <th>6</th>\n",
       "      <td>Models</td>\n",
       "      <td>syren_de_mer</td>\n",
       "      <td>johnny_sins</td>\n",
       "      <td>resistance_band_boning</td>\n",
       "    </tr>\n",
       "    <tr>\n",
       "      <th>7</th>\n",
       "      <td>Models</td>\n",
       "      <td>syren_de_mer</td>\n",
       "      <td>xander_corvus</td>\n",
       "      <td>milf_surprise</td>\n",
       "    </tr>\n",
       "    <tr>\n",
       "      <th>8</th>\n",
       "      <td>Models</td>\n",
       "      <td>syren_de_mer</td>\n",
       "      <td>johnny_sins</td>\n",
       "      <td>mother_of_the_bride</td>\n",
       "    </tr>\n",
       "    <tr>\n",
       "      <th>9</th>\n",
       "      <td>Models</td>\n",
       "      <td>syren_de_mer</td>\n",
       "      <td>brad_knight</td>\n",
       "      <td>my_three_stepsons</td>\n",
       "    </tr>\n",
       "    <tr>\n",
       "      <th>10</th>\n",
       "      <td>Models</td>\n",
       "      <td>syren_de_mer</td>\n",
       "      <td>lucy_doll</td>\n",
       "      <td>her_first_footjob</td>\n",
       "    </tr>\n",
       "    <tr>\n",
       "      <th>11</th>\n",
       "      <td>Models</td>\n",
       "      <td>syren_de_mer</td>\n",
       "      <td>danny_d</td>\n",
       "      <td>my_big_butt_maid</td>\n",
       "    </tr>\n",
       "    <tr>\n",
       "      <th>12</th>\n",
       "      <td>Models</td>\n",
       "      <td>gianna_nicole</td>\n",
       "      <td>syren_de_mer</td>\n",
       "      <td>how_to_make_a_tart</td>\n",
       "    </tr>\n",
       "    <tr>\n",
       "      <th>13</th>\n",
       "      <td>Models</td>\n",
       "      <td>syren_de_mer</td>\n",
       "      <td>clover</td>\n",
       "      <td>airtight_in_the_bathtub</td>\n",
       "    </tr>\n",
       "    <tr>\n",
       "      <th>14</th>\n",
       "      <td>Models</td>\n",
       "      <td>syren_de_mer</td>\n",
       "      <td>manuel_ferrara</td>\n",
       "      <td>the_art_of_ass</td>\n",
       "    </tr>\n",
       "    <tr>\n",
       "      <th>15</th>\n",
       "      <td>Models</td>\n",
       "      <td>syren_de_mer</td>\n",
       "      <td>danny_d</td>\n",
       "      <td>the_hard_sell</td>\n",
       "    </tr>\n",
       "    <tr>\n",
       "      <th>16</th>\n",
       "      <td>Models</td>\n",
       "      <td>alura_tnt_jenson</td>\n",
       "      <td>syren_de_mer</td>\n",
       "      <td>try_my_milf_shake</td>\n",
       "    </tr>\n",
       "    <tr>\n",
       "      <th>17</th>\n",
       "      <td>Models</td>\n",
       "      <td>syren_de_mer</td>\n",
       "      <td>keira_kelly</td>\n",
       "      <td>watch_your_tongue_missy</td>\n",
       "    </tr>\n",
       "    <tr>\n",
       "      <th>18</th>\n",
       "      <td>Models</td>\n",
       "      <td>syren_de_mer</td>\n",
       "      <td>erik_everhard</td>\n",
       "      <td>fortune_telling_fuck</td>\n",
       "    </tr>\n",
       "    <tr>\n",
       "      <th>19</th>\n",
       "      <td>Models</td>\n",
       "      <td>syren_de_mer</td>\n",
       "      <td>ramon_nomar</td>\n",
       "      <td>the_xxx_files</td>\n",
       "    </tr>\n",
       "    <tr>\n",
       "      <th>20</th>\n",
       "      <td>Models</td>\n",
       "      <td>syren_de_mer</td>\n",
       "      <td>johnny_sins</td>\n",
       "      <td>youre_a_man_now_johnny</td>\n",
       "    </tr>\n",
       "    <tr>\n",
       "      <th>21</th>\n",
       "      <td>Models</td>\n",
       "      <td>syren_de_mer</td>\n",
       "      <td>james_deen</td>\n",
       "      <td>while_sons_away_mom_will_play</td>\n",
       "    </tr>\n",
       "    <tr>\n",
       "      <th>22</th>\n",
       "      <td>Models</td>\n",
       "      <td>syren_de_mer</td>\n",
       "      <td>keiran_lee</td>\n",
       "      <td>interventionzz_syren_de_mer</td>\n",
       "    </tr>\n",
       "    <tr>\n",
       "      <th>23</th>\n",
       "      <td>Models</td>\n",
       "      <td>syren_de_mer</td>\n",
       "      <td>ramon_nomar</td>\n",
       "      <td>under_syrens_spell</td>\n",
       "    </tr>\n",
       "    <tr>\n",
       "      <th>0</th>\n",
       "      <td>Models</td>\n",
       "      <td>syren_de_mer</td>\n",
       "      <td>tiffany_mynx</td>\n",
       "      <td>cunt_cern_mothers_of_america</td>\n",
       "    </tr>\n",
       "    <tr>\n",
       "      <th>1</th>\n",
       "      <td>Models</td>\n",
       "      <td>syren_de_mer</td>\n",
       "      <td>jordan_ash</td>\n",
       "      <td>spy_vs_syren</td>\n",
       "    </tr>\n",
       "  </tbody>\n",
       "</table>\n",
       "</div>"
      ],
      "text/plain": [
       "      Site               PS1             PS2  \\\n",
       "0   Models      syren_de_mer  jimmy_michaels   \n",
       "1   Models      syren_de_mer      jesse_pony   \n",
       "2   Models     kenzie_reeves    syren_de_mer   \n",
       "3   Models      syren_de_mer     scott_nails   \n",
       "4   Models        anya_olsen     sydney_cole   \n",
       "5   Models      syren_de_mer   xander_corvus   \n",
       "6   Models      syren_de_mer     johnny_sins   \n",
       "7   Models      syren_de_mer   xander_corvus   \n",
       "8   Models      syren_de_mer     johnny_sins   \n",
       "9   Models      syren_de_mer     brad_knight   \n",
       "10  Models      syren_de_mer       lucy_doll   \n",
       "11  Models      syren_de_mer         danny_d   \n",
       "12  Models     gianna_nicole    syren_de_mer   \n",
       "13  Models      syren_de_mer          clover   \n",
       "14  Models      syren_de_mer  manuel_ferrara   \n",
       "15  Models      syren_de_mer         danny_d   \n",
       "16  Models  alura_tnt_jenson    syren_de_mer   \n",
       "17  Models      syren_de_mer     keira_kelly   \n",
       "18  Models      syren_de_mer   erik_everhard   \n",
       "19  Models      syren_de_mer     ramon_nomar   \n",
       "20  Models      syren_de_mer     johnny_sins   \n",
       "21  Models      syren_de_mer      james_deen   \n",
       "22  Models      syren_de_mer      keiran_lee   \n",
       "23  Models      syren_de_mer     ramon_nomar   \n",
       "0   Models      syren_de_mer    tiffany_mynx   \n",
       "1   Models      syren_de_mer      jordan_ash   \n",
       "\n",
       "                                    Title  \n",
       "0                 cum_on_my_waffles_honey  \n",
       "1        fucked_by_gamer_girl_and_stepmom  \n",
       "2                        chastity_blanket  \n",
       "3           big_ass_anal_for_a_heavy_load  \n",
       "4   best_of_brazzers_sharing_stepsiblings  \n",
       "5                  red_hot_boss_from_hell  \n",
       "6                  resistance_band_boning  \n",
       "7                           milf_surprise  \n",
       "8                     mother_of_the_bride  \n",
       "9                       my_three_stepsons  \n",
       "10                      her_first_footjob  \n",
       "11                       my_big_butt_maid  \n",
       "12                     how_to_make_a_tart  \n",
       "13                airtight_in_the_bathtub  \n",
       "14                         the_art_of_ass  \n",
       "15                          the_hard_sell  \n",
       "16                      try_my_milf_shake  \n",
       "17                watch_your_tongue_missy  \n",
       "18                   fortune_telling_fuck  \n",
       "19                          the_xxx_files  \n",
       "20                 youre_a_man_now_johnny  \n",
       "21          while_sons_away_mom_will_play  \n",
       "22            interventionzz_syren_de_mer  \n",
       "23                     under_syrens_spell  \n",
       "0            cunt_cern_mothers_of_america  \n",
       "1                            spy_vs_syren  "
      ]
     },
     "execution_count": 41,
     "metadata": {},
     "output_type": "execute_result"
    }
   ],
   "source": [
    "df_chosen_ps_sdm = df_class_ps_sdm.createDfActualPS()\n",
    "df_chosen_ps_sdm"
   ]
  },
  {
   "cell_type": "code",
   "execution_count": 42,
   "metadata": {},
   "outputs": [
    {
     "name": "stdout",
     "output_type": "stream",
     "text": [
      "self.actual_ps:  Syren De Mer\n",
      "== INFOS ABOUT THE TITLES: ==\n",
      "Count of df_current_final: 2127\n",
      "Current_titles in df_final of Syren De Mer: 20\n",
      "Count of Syren De Mer of braz_sides: 26\n",
      "==\n"
     ]
    },
    {
     "data": {
      "text/html": [
       "<div>\n",
       "<style scoped>\n",
       "    .dataframe tbody tr th:only-of-type {\n",
       "        vertical-align: middle;\n",
       "    }\n",
       "\n",
       "    .dataframe tbody tr th {\n",
       "        vertical-align: top;\n",
       "    }\n",
       "\n",
       "    .dataframe thead th {\n",
       "        text-align: right;\n",
       "    }\n",
       "</style>\n",
       "<table border=\"1\" class=\"dataframe\">\n",
       "  <thead>\n",
       "    <tr style=\"text-align: right;\">\n",
       "      <th></th>\n",
       "      <th>Title</th>\n",
       "    </tr>\n",
       "  </thead>\n",
       "  <tbody>\n",
       "    <tr>\n",
       "      <th>95</th>\n",
       "      <td>big_ass_anal_for_a_heavy_load_720p</td>\n",
       "    </tr>\n",
       "    <tr>\n",
       "      <th>96</th>\n",
       "      <td>fortune_telling_fuck_720p</td>\n",
       "    </tr>\n",
       "    <tr>\n",
       "      <th>97</th>\n",
       "      <td>the_art_of_ass_720p</td>\n",
       "    </tr>\n",
       "    <tr>\n",
       "      <th>431</th>\n",
       "      <td>red_hot_boss_from_hell_720p</td>\n",
       "    </tr>\n",
       "    <tr>\n",
       "      <th>432</th>\n",
       "      <td>the_xxx_files_720p</td>\n",
       "    </tr>\n",
       "    <tr>\n",
       "      <th>553</th>\n",
       "      <td>try_my_milf_shake_720p</td>\n",
       "    </tr>\n",
       "    <tr>\n",
       "      <th>629</th>\n",
       "      <td>airtight_in_the_bathtub_720p</td>\n",
       "    </tr>\n",
       "    <tr>\n",
       "      <th>630</th>\n",
       "      <td>my_big_butt_maid_720p</td>\n",
       "    </tr>\n",
       "    <tr>\n",
       "      <th>631</th>\n",
       "      <td>under_syrens_spell_720p</td>\n",
       "    </tr>\n",
       "    <tr>\n",
       "      <th>800</th>\n",
       "      <td>resistance_band_boning_720p</td>\n",
       "    </tr>\n",
       "    <tr>\n",
       "      <th>1079</th>\n",
       "      <td>interventionzz_syren_de_mer_720p</td>\n",
       "    </tr>\n",
       "    <tr>\n",
       "      <th>1080</th>\n",
       "      <td>milfs_surprise_720p</td>\n",
       "    </tr>\n",
       "    <tr>\n",
       "      <th>1081</th>\n",
       "      <td>cunt_cern_mothers_of_america_720p</td>\n",
       "    </tr>\n",
       "    <tr>\n",
       "      <th>1214</th>\n",
       "      <td>mother_of_the_bride_720p</td>\n",
       "    </tr>\n",
       "    <tr>\n",
       "      <th>1215</th>\n",
       "      <td>my_three_stepsons_720p</td>\n",
       "    </tr>\n",
       "    <tr>\n",
       "      <th>1216</th>\n",
       "      <td>spy_vs_syren_720p</td>\n",
       "    </tr>\n",
       "    <tr>\n",
       "      <th>1217</th>\n",
       "      <td>the_hard_sell_720p</td>\n",
       "    </tr>\n",
       "    <tr>\n",
       "      <th>1218</th>\n",
       "      <td>while_sons_away_mom_will_play_720p</td>\n",
       "    </tr>\n",
       "    <tr>\n",
       "      <th>1854</th>\n",
       "      <td>how_to_make_a_tart_720p</td>\n",
       "    </tr>\n",
       "    <tr>\n",
       "      <th>1855</th>\n",
       "      <td>youre_a_man_now_johnny_720p</td>\n",
       "    </tr>\n",
       "  </tbody>\n",
       "</table>\n",
       "</div>"
      ],
      "text/plain": [
       "                                   Title\n",
       "95    big_ass_anal_for_a_heavy_load_720p\n",
       "96             fortune_telling_fuck_720p\n",
       "97                   the_art_of_ass_720p\n",
       "431          red_hot_boss_from_hell_720p\n",
       "432                   the_xxx_files_720p\n",
       "553               try_my_milf_shake_720p\n",
       "629         airtight_in_the_bathtub_720p\n",
       "630                my_big_butt_maid_720p\n",
       "631              under_syrens_spell_720p\n",
       "800          resistance_band_boning_720p\n",
       "1079    interventionzz_syren_de_mer_720p\n",
       "1080                 milfs_surprise_720p\n",
       "1081   cunt_cern_mothers_of_america_720p\n",
       "1214            mother_of_the_bride_720p\n",
       "1215              my_three_stepsons_720p\n",
       "1216                   spy_vs_syren_720p\n",
       "1217                  the_hard_sell_720p\n",
       "1218  while_sons_away_mom_will_play_720p\n",
       "1854             how_to_make_a_tart_720p\n",
       "1855         youre_a_man_now_johnny_720p"
      ]
     },
     "execution_count": 42,
     "metadata": {},
     "output_type": "execute_result"
    }
   ],
   "source": [
    "df_actual_titles_sdm = df_class_ps_sdm.getTitlesInDfFinal()\n",
    "df_actual_titles_sdm"
   ]
  },
  {
   "cell_type": "code",
   "execution_count": 44,
   "metadata": {},
   "outputs": [
    {
     "name": "stdout",
     "output_type": "stream",
     "text": [
      "Chosen PS:  Syren De Mer\n"
     ]
    },
    {
     "name": "stderr",
     "output_type": "stream",
     "text": [
      "/Users/joerg/repos/braz/dfActualPS.py:127: FutureWarning: In a future version of pandas all arguments of DataFrame.any and Series.any will be keyword-only.\n",
      "  mask = (self.titles_in_df_curent_final.applymap(lambda x: isinstance(x, str) and self.search_string in x)).any(1)\n"
     ]
    },
    {
     "data": {
      "text/plain": [
       "['cum_on_my_waffles_honey',\n",
       " 'fucked_by_gamer_girl_and_stepmom',\n",
       " 'chastity_blanket',\n",
       " 'best_of_brazzers_sharing_stepsiblings',\n",
       " 'milf_surprise',\n",
       " 'her_first_footjob',\n",
       " 'watch_your_tongue_missy']"
      ]
     },
     "execution_count": 44,
     "metadata": {},
     "output_type": "execute_result"
    }
   ],
   "source": [
    "missing_titles_sdm = df_class_ps_sdm.getMissingTitles()\n",
    "missing_titles_sdm"
   ]
  },
  {
   "cell_type": "code",
   "execution_count": 19,
   "metadata": {},
   "outputs": [],
   "source": [
    "dfinal = pd.read_csv('df_final_10_03_23.csv', index_col=[0])"
   ]
  },
  {
   "cell_type": "code",
   "execution_count": 43,
   "metadata": {},
   "outputs": [],
   "source": [
    "# dfinal[dfinal['PS1'].str.contains('Syren')]"
   ]
  },
  {
   "cell_type": "code",
   "execution_count": null,
   "metadata": {},
   "outputs": [],
   "source": [
    "from dfActualPS import dfActualPS"
   ]
  },
  {
   "cell_type": "code",
   "execution_count": null,
   "metadata": {},
   "outputs": [],
   "source": [
    "df_actual_titles_tw = df_class_ps_tw.getTitlesInDfFinal()\n",
    "df_actual_titles_tw"
   ]
  },
  {
   "attachments": {},
   "cell_type": "markdown",
   "metadata": {},
   "source": [
    "***"
   ]
  },
  {
   "attachments": {},
   "cell_type": "markdown",
   "metadata": {},
   "source": [
    "# Alicia Amira"
   ]
  },
  {
   "cell_type": "code",
   "execution_count": 46,
   "metadata": {},
   "outputs": [],
   "source": [
    "actual_ps = 'Alicia Amira'\n",
    "chosen_model_brazz_site = 'https://www.brazzers.com/videos/models/41413/alicia-amira/page/'\n",
    "max_page_len_of_chosen_model = [1]\n",
    "csv_final = 'df_final_12_03_23.csv'\n",
    "df_class_ps_aa = dfActualPS(actual_ps, chosen_model_brazz_site, max_page_len_of_chosen_model, csv_final)"
   ]
  },
  {
   "cell_type": "code",
   "execution_count": 48,
   "metadata": {},
   "outputs": [],
   "source": [
    "df_class_ps_aa = dfActualPS(actual_ps, chosen_model_brazz_site, max_page_len_of_chosen_model, csv_final)\n"
   ]
  },
  {
   "cell_type": "code",
   "execution_count": 49,
   "metadata": {},
   "outputs": [
    {
     "name": "stdout",
     "output_type": "stream",
     "text": [
      "scanning Site: https://www.brazzers.com/videos/models/41413/alicia-amira/page/1, Response: <Response [200]>\n"
     ]
    }
   ],
   "source": [
    "df_chosen_aa = df_class_ps_aa.createDfActualPS()"
   ]
  },
  {
   "cell_type": "code",
   "execution_count": 50,
   "metadata": {},
   "outputs": [
    {
     "data": {
      "text/html": [
       "<div>\n",
       "<style scoped>\n",
       "    .dataframe tbody tr th:only-of-type {\n",
       "        vertical-align: middle;\n",
       "    }\n",
       "\n",
       "    .dataframe tbody tr th {\n",
       "        vertical-align: top;\n",
       "    }\n",
       "\n",
       "    .dataframe thead th {\n",
       "        text-align: right;\n",
       "    }\n",
       "</style>\n",
       "<table border=\"1\" class=\"dataframe\">\n",
       "  <thead>\n",
       "    <tr style=\"text-align: right;\">\n",
       "      <th></th>\n",
       "      <th>Site</th>\n",
       "      <th>PS1</th>\n",
       "      <th>PS2</th>\n",
       "      <th>Title</th>\n",
       "    </tr>\n",
       "  </thead>\n",
       "  <tbody>\n",
       "    <tr>\n",
       "      <th>0</th>\n",
       "      <td>Models</td>\n",
       "      <td>alicia_amira</td>\n",
       "      <td>marc_rose</td>\n",
       "      <td>theres_a_porn_star_in_my_car</td>\n",
       "    </tr>\n",
       "    <tr>\n",
       "      <th>1</th>\n",
       "      <td>Models</td>\n",
       "      <td>alicia_amira</td>\n",
       "      <td>danny_d</td>\n",
       "      <td>life_assistant_doll</td>\n",
       "    </tr>\n",
       "  </tbody>\n",
       "</table>\n",
       "</div>"
      ],
      "text/plain": [
       "     Site           PS1        PS2                         Title\n",
       "0  Models  alicia_amira  marc_rose  theres_a_porn_star_in_my_car\n",
       "1  Models  alicia_amira    danny_d           life_assistant_doll"
      ]
     },
     "execution_count": 50,
     "metadata": {},
     "output_type": "execute_result"
    }
   ],
   "source": [
    "df_chosen_aa"
   ]
  },
  {
   "cell_type": "code",
   "execution_count": 51,
   "metadata": {},
   "outputs": [
    {
     "name": "stdout",
     "output_type": "stream",
     "text": [
      "Chosen PS:  Alicia Amira\n"
     ]
    },
    {
     "name": "stderr",
     "output_type": "stream",
     "text": [
      "/Users/joerg/repos/braz/dfActualPS.py:127: FutureWarning: In a future version of pandas all arguments of DataFrame.any and Series.any will be keyword-only.\n",
      "  mask = (self.titles_in_df_curent_final.applymap(lambda x: isinstance(x, str) and self.search_string in x)).any(1)\n"
     ]
    }
   ],
   "source": [
    "missing_titles_aa = df_class_ps_aa.getMissingTitles()"
   ]
  },
  {
   "cell_type": "code",
   "execution_count": 53,
   "metadata": {},
   "outputs": [
    {
     "name": "stdout",
     "output_type": "stream",
     "text": [
      "self.actual_ps:  Alicia Amira\n",
      "== INFOS ABOUT THE TITLES: ==\n",
      "Count of df_current_final: 2127\n",
      "Current_titles in df_final of Alicia Amira: 0\n",
      "Count of Alicia Amira of braz_sides: 2\n",
      "==\n"
     ]
    }
   ],
   "source": [
    "actual_title = df_class_ps_aa.getTitlesInDfFinal()"
   ]
  },
  {
   "cell_type": "code",
   "execution_count": null,
   "metadata": {},
   "outputs": [],
   "source": [
    "actual_title"
   ]
  },
  {
   "cell_type": "code",
   "execution_count": null,
   "metadata": {},
   "outputs": [],
   "source": [
    "actual_title = df_class_ps.compareWithDfFinal()\n",
    "actual_title"
   ]
  },
  {
   "cell_type": "code",
   "execution_count": null,
   "metadata": {},
   "outputs": [],
   "source": []
  },
  {
   "cell_type": "code",
   "execution_count": null,
   "metadata": {},
   "outputs": [],
   "source": [
    "df_chosen_ps = df_class_ps.createDfActualPS()"
   ]
  },
  {
   "cell_type": "code",
   "execution_count": null,
   "metadata": {},
   "outputs": [],
   "source": [
    "df_chosen_ps\n"
   ]
  },
  {
   "cell_type": "code",
   "execution_count": null,
   "metadata": {},
   "outputs": [],
   "source": [
    "df_class_ps.getMissingTitles()"
   ]
  },
  {
   "cell_type": "code",
   "execution_count": null,
   "metadata": {},
   "outputs": [],
   "source": [
    "df_class_ps.search_titles(df_ps_for_search, \"date\")\n",
    "pd.set_option('display.max_rows', None)\n",
    "pd.set_option('display.max_columns', 500)\n",
    "pd.set_option('display.width', 1000)"
   ]
  },
  {
   "cell_type": "code",
   "execution_count": null,
   "metadata": {},
   "outputs": [],
   "source": [
    "dfActualPS(actual_ps=\"Armani Black\", chosen_model_brazz_site=\"https://www.brazzers.com/videos/models/80821/armani-black/page/\", max_pagelength_of_ps=3, csv_final='df_final_10_03_23.csv')\n",
    "df_curent_final = pd.read_csv(\"df_final_10_03_23.csv\", index_col=[0])"
   ]
  },
  {
   "cell_type": "code",
   "execution_count": null,
   "metadata": {},
   "outputs": [],
   "source": [
    "df_current_final = pd.read_csv(\"df_final_10_03_23.csv\", index_col=[0])"
   ]
  },
  {
   "cell_type": "code",
   "execution_count": null,
   "metadata": {},
   "outputs": [],
   "source": [
    "titles_current_ps = df_class_ps.compareWithDfFinal()"
   ]
  },
  {
   "cell_type": "code",
   "execution_count": null,
   "metadata": {},
   "outputs": [],
   "source": [
    "df_class_ps.getMissingTitles"
   ]
  },
  {
   "cell_type": "code",
   "execution_count": null,
   "metadata": {},
   "outputs": [],
   "source": [
    "df_class_ps.search_titles(df_curent_final, \"bathing\")"
   ]
  },
  {
   "cell_type": "code",
   "execution_count": null,
   "metadata": {},
   "outputs": [],
   "source": []
  }
 ],
 "metadata": {
  "kernelspec": {
   "display_name": "dev_env",
   "language": "python",
   "name": "python3"
  },
  "language_info": {
   "codemirror_mode": {
    "name": "ipython",
    "version": 3
   },
   "file_extension": ".py",
   "mimetype": "text/x-python",
   "name": "python",
   "nbconvert_exporter": "python",
   "pygments_lexer": "ipython3",
   "version": "3.11.0"
  },
  "orig_nbformat": 4,
  "vscode": {
   "interpreter": {
    "hash": "49b32e718d396453da74a87fcbdef4c593c9ec438ad1347297e2038d8db89ee5"
   }
  }
 },
 "nbformat": 4,
 "nbformat_minor": 2
}
