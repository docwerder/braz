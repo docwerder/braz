{
 "cells": [
  {
   "cell_type": "code",
   "execution_count": 5,
   "metadata": {},
   "outputs": [],
   "source": [
    "%reload_ext autoreload\n"
   ]
  },
  {
   "cell_type": "code",
   "execution_count": null,
   "metadata": {},
   "outputs": [],
   "source": []
  },
  {
   "cell_type": "code",
   "execution_count": 34,
   "metadata": {},
   "outputs": [],
   "source": [
    "%autoreload 2\n",
    "import pandas as pd\n",
    "from dfActualPS import dfActualPS\n",
    "# from dfActualPS import getMissingTitles\n",
    "# from create_df_actual_ps2 import createDfActualPS\n"
   ]
  },
  {
   "cell_type": "code",
   "execution_count": 35,
   "metadata": {},
   "outputs": [],
   "source": [
    "actual_ps = 'Diamond Foxxx'\n",
    "chosen_model_brazz_site = 'https://www.brazzers.com/videos/models/43/diamond-foxxx/page/'\n",
    "max_page_len_of_chosen_model = [3]\n",
    "csv_final = 'df_final_09_03_23.csv'\n"
   ]
  },
  {
   "cell_type": "code",
   "execution_count": 36,
   "metadata": {},
   "outputs": [],
   "source": [
    "df_class_ps = dfActualPS(actual_ps, chosen_model_brazz_site, max_page_len_of_chosen_model, csv_final)\n"
   ]
  },
  {
   "cell_type": "code",
   "execution_count": 37,
   "metadata": {},
   "outputs": [
    {
     "name": "stdout",
     "output_type": "stream",
     "text": [
      "scanning Site: https://www.brazzers.com/videos/models/43/diamond-foxxx/page/1, Response: <Response [200]>\n",
      "scanning Site: https://www.brazzers.com/videos/models/43/diamond-foxxx/page/2, Response: <Response [200]>\n",
      "scanning Site: https://www.brazzers.com/videos/models/43/diamond-foxxx/page/3, Response: <Response [200]>\n",
      "count of titles:  53\n"
     ]
    }
   ],
   "source": [
    "df_ps = df_class_ps.createDfActualPS()"
   ]
  },
  {
   "cell_type": "code",
   "execution_count": 39,
   "metadata": {},
   "outputs": [
    {
     "name": "stdout",
     "output_type": "stream",
     "text": [
      "== INFOS ABOUT THE TITLES: ==\n",
      "Count of df_current_final: 2127\n",
      "Current_titles in df_final of Diamond Foxxx: 49\n",
      "Count of Diamond Foxxx of braz_sides: 53\n",
      "==\n"
     ]
    }
   ],
   "source": [
    "df_ps_for_search = df_class_ps.compareWithDfFinal()"
   ]
  },
  {
   "cell_type": "code",
   "execution_count": 40,
   "metadata": {},
   "outputs": [
    {
     "data": {
      "text/plain": [
       "['massaging_ms_foxxx',\n",
       " 'my_mom_fucked_my_girlfriend',\n",
       " 'my_dates_mom',\n",
       " 'lick_a_boss',\n",
       " 'vice_city_vacation_part_one',\n",
       " 'ep_2_tonight_we_feast']"
      ]
     },
     "execution_count": 40,
     "metadata": {},
     "output_type": "execute_result"
    }
   ],
   "source": [
    "df_class_ps.getMissingTitles()"
   ]
  },
  {
   "cell_type": "code",
   "execution_count": 42,
   "metadata": {},
   "outputs": [
    {
     "data": {
      "text/html": [
       "<div>\n",
       "<style scoped>\n",
       "    .dataframe tbody tr th:only-of-type {\n",
       "        vertical-align: middle;\n",
       "    }\n",
       "\n",
       "    .dataframe tbody tr th {\n",
       "        vertical-align: top;\n",
       "    }\n",
       "\n",
       "    .dataframe thead th {\n",
       "        text-align: right;\n",
       "    }\n",
       "</style>\n",
       "<table border=\"1\" class=\"dataframe\">\n",
       "  <thead>\n",
       "    <tr style=\"text-align: right;\">\n",
       "      <th></th>\n",
       "      <th>Title</th>\n",
       "    </tr>\n",
       "  </thead>\n",
       "  <tbody>\n",
       "  </tbody>\n",
       "</table>\n",
       "</div>"
      ],
      "text/plain": [
       "Empty DataFrame\n",
       "Columns: [Title]\n",
       "Index: []"
      ]
     },
     "execution_count": 42,
     "metadata": {},
     "output_type": "execute_result"
    }
   ],
   "source": [
    "df_class_ps.search_titles(df_ps_for_search, \"my_mom\")"
   ]
  },
  {
   "cell_type": "code",
   "execution_count": null,
   "metadata": {},
   "outputs": [],
   "source": [
    "dfActualPS(actual_ps=\"Diamond Foxxx\", chosen_model_brazz_site=\"https://www.brazzers.com/videos/models/43/diamond-foxxx/page/\", max_pagelength_of_ps=3, csv_final='df_final_08_03_23.csv')\n",
    "df_curent_final = pd.read_csv(\"df_final_08_03_23.csv\", index_col=[0])"
   ]
  },
  {
   "cell_type": "code",
   "execution_count": null,
   "metadata": {},
   "outputs": [],
   "source": [
    "chosen_model_df = createDfActualPS(actual_ps, chosen_model_brazz_site, max_page_len_of_chosen_model)\n",
    "\n",
    "df_curent_final = pd.read_csv('df_final_08_03_23.csv', index_col=[0])\n",
    "getMissingTitles(dataFrame=df_curent_final, chosen_model_df=chosen_model_df, search_string='tit')"
   ]
  }
 ],
 "metadata": {
  "kernelspec": {
   "display_name": "finance_dev",
   "language": "python",
   "name": "python3"
  },
  "language_info": {
   "codemirror_mode": {
    "name": "ipython",
    "version": 3
   },
   "file_extension": ".py",
   "mimetype": "text/x-python",
   "name": "python",
   "nbconvert_exporter": "python",
   "pygments_lexer": "ipython3",
   "version": "3.10.8"
  },
  "orig_nbformat": 4,
  "vscode": {
   "interpreter": {
    "hash": "3d1e73c501fed510c1dcef69e192ac62d4bd412a8e236737c810eb2297a3f772"
   }
  }
 },
 "nbformat": 4,
 "nbformat_minor": 2
}
