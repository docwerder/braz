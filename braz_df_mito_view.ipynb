{
 "cells": [
  {
   "cell_type": "code",
   "execution_count": 1,
   "id": "eccc0705",
   "metadata": {},
   "outputs": [
    {
     "data": {
      "text/html": [
       "<style>.container {width:90% !important; } </style>"
      ],
      "text/plain": [
       "<IPython.core.display.HTML object>"
      ]
     },
     "metadata": {},
     "output_type": "display_data"
    }
   ],
   "source": [
    "# Adjusting the code cells\n",
    "# Note: This is only valid for the current notebook!\n",
    "\n",
    "from IPython.core.display import display, HTML\n",
    "display(HTML(\"<style>.container {width:90% !important; } </style>\"))"
   ]
  },
  {
   "cell_type": "code",
   "execution_count": 1,
   "id": "86bdd4fc",
   "metadata": {},
   "outputs": [],
   "source": [
    "import pandas as pd\n",
    "import mitosheet"
   ]
  },
  {
   "cell_type": "code",
   "execution_count": 3,
   "id": "b6669557-6019-4dfe-9942-a8042a68b0f3",
   "metadata": {},
   "outputs": [
    {
     "ename": "NameError",
     "evalue": "name 'df_bra' is not defined",
     "output_type": "error",
     "traceback": [
      "\u001b[0;31m---------------------------------------------------\u001b[0m",
      "\u001b[0;31mNameError\u001b[0m         Traceback (most recent call last)",
      "\u001b[0;32m<ipython-input-3-4e263b2b0702>\u001b[0m in \u001b[0;36m<module>\u001b[0;34m\u001b[0m\n\u001b[0;32m----> 1\u001b[0;31m \u001b[0mmitosheet\u001b[0m\u001b[0;34m.\u001b[0m\u001b[0msheet\u001b[0m\u001b[0;34m(\u001b[0m\u001b[0mdf_bra\u001b[0m\u001b[0;34m)\u001b[0m\u001b[0;34m\u001b[0m\u001b[0;34m\u001b[0m\u001b[0m\n\u001b[0m",
      "\u001b[0;31mNameError\u001b[0m: name 'df_bra' is not defined"
     ]
    }
   ],
   "source": [
    "mitosheet.sheet(df_bra)"
   ]
  },
  {
   "cell_type": "code",
   "execution_count": null,
   "id": "dc60bcf6-1387-4b87-92e1-c1ffe7bd7213",
   "metadata": {},
   "outputs": [],
   "source": []
  },
  {
   "cell_type": "code",
   "execution_count": 4,
   "id": "1eeab6fb",
   "metadata": {},
   "outputs": [],
   "source": [
    "df_bra = pd.read_csv('brazzers_df_csv')"
   ]
  },
  {
   "cell_type": "code",
   "execution_count": null,
   "id": "28ebbb72",
   "metadata": {},
   "outputs": [],
   "source": [
    "df_bra"
   ]
  },
  {
   "cell_type": "code",
   "execution_count": 5,
   "id": "915e3659-5ef0-42f7-a4a4-566826a259de",
   "metadata": {},
   "outputs": [
    {
     "data": {
      "application/vnd.jupyter.widget-view+json": {
       "model_id": "c2b3a016e9cc4667911f36922024fd10",
       "version_major": 2,
       "version_minor": 0
      },
      "text/plain": [
       "MitoWidget(analysis_data_json='{\"analysisName\": \"UUID-cf0afa44-9c4c-4ff3-8178-07d2b2f2243a\", \"code\": {\"imports…"
      ]
     },
     "metadata": {},
     "output_type": "display_data"
    }
   ],
   "source": [
    "import mitosheet\n",
    "mitosheet.sheet(df_bra, view_df=True)"
   ]
  },
  {
   "cell_type": "code",
   "execution_count": null,
   "id": "8d2f2c40-47e3-472f-9ba2-7cddc95afd8d",
   "metadata": {},
   "outputs": [],
   "source": [
    "# MITO CODE START (DO NOT EDIT)\n",
    "\n",
    "from mitosheet import * # Import necessary functions from Mito\n",
    "register_analysis('UUID-cf0afa44-9c4c-4ff3-8178-07d2b2f2243a') # Let Mito know which analysis is being run\n",
    "\n",
    "# Pivoted df_bra into df2\n",
    "unused_columns = df_bra.columns.difference(set(['Pornstar 1']).union(set(['Site Name'])).union(set({'Site Name'})))\n",
    "tmp_df = df_bra.drop(unused_columns, axis=1)\n",
    "pivot_table = tmp_df.pivot_table(\n",
    "    index=['Pornstar 1'],\n",
    "    columns=['Site Name'],\n",
    "    values=['Site Name'],\n",
    "    aggfunc={'Site Name': ['count']}\n",
    ")\n",
    "\n",
    "# Flatten the column headers\n",
    "pivot_table.columns = [flatten_column_header(col) for col in pivot_table.columns.values]\n",
    "\n",
    "# Reset the column name and the indexes\n",
    "df2 = pivot_table.reset_index()\n",
    "\n",
    "  \n",
    "# MITO CODE END (DO NOT EDIT)"
   ]
  }
 ],
 "metadata": {
  "kernelspec": {
   "display_name": "python38",
   "language": "python",
   "name": "python38"
  },
  "language_info": {
   "codemirror_mode": {
    "name": "ipython",
    "version": 3
   },
   "file_extension": ".py",
   "mimetype": "text/x-python",
   "name": "python",
   "nbconvert_exporter": "python",
   "pygments_lexer": "ipython3",
   "version": "3.8.8"
  }
 },
 "nbformat": 4,
 "nbformat_minor": 5
}
