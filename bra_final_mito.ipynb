{
 "cells": [
  {
   "cell_type": "code",
   "execution_count": 1,
   "id": "f9f97e3a-7739-4649-a1d6-c666b848278d",
   "metadata": {},
   "outputs": [
    {
     "data": {
      "application/vnd.jupyter.widget-view+json": {
       "model_id": "9fbfcc4ddd934fb5a06dfdddaaabaed7",
       "version_major": 2,
       "version_minor": 0
      },
      "text/plain": [
       "MitoWidget(analysis_data_json='{\"analysisName\": \"UUID-e7063335-2326-4132-ade0-61df650649de\", \"code\": {\"imports…"
      ]
     },
     "metadata": {},
     "output_type": "display_data"
    }
   ],
   "source": [
    "mitosheet.sheet()"
   ]
  },
  {
   "cell_type": "code",
   "execution_count": 5,
   "id": "503b1497-aedf-4758-90d9-448a61338fd6",
   "metadata": {},
   "outputs": [],
   "source": [
    "# MITO CODE START (DO NOT EDIT)\n",
    "\n",
    "from mitosheet import * # Import necessary functions from Mito\n",
    "register_analysis('UUID-e7063335-2326-4132-ade0-61df650649de') # Let Mito know which analysis is being run\n",
    "\n",
    "# Imported /Users/joerg/OneDrive/repos/bra_gui/bra_final.csv\n",
    "import pandas as pd\n",
    "bra_final_csv = pd.read_csv(r'/Users/joerg/OneDrive/repos/bra_gui/bra_final.csv')\n",
    "\n",
    "# Pivoted bra_final_csv into df2\n",
    "unused_columns = bra_final_csv.columns.difference(set(['Site']).union(set([])).union(set({'PS1'})))\n",
    "tmp_df = bra_final_csv.drop(unused_columns, axis=1)\n",
    "pivot_table = tmp_df.pivot_table(\n",
    "    index=['Site'],\n",
    "    values=['PS1'],\n",
    "    aggfunc={'PS1': ['count']}\n",
    ")\n",
    "\n",
    "# Flatten the column headers\n",
    "pivot_table.columns = [flatten_column_header(col) for col in pivot_table.columns.values]\n",
    "\n",
    "# Reset the column name and the indexes\n",
    "df2 = pivot_table.reset_index()\n",
    "\n",
    "  \n",
    "# MITO CODE END (DO NOT EDIT)"
   ]
  },
  {
   "cell_type": "code",
   "execution_count": 8,
   "id": "711cedfb-14fd-491f-9a31-5368e2f77dcf",
   "metadata": {},
   "outputs": [
    {
     "data": {
      "text/plain": [
       "1592"
      ]
     },
     "execution_count": 8,
     "metadata": {},
     "output_type": "execute_result"
    }
   ],
   "source": [
    "df2['PS1 count'].sum()"
   ]
  },
  {
   "cell_type": "code",
   "execution_count": null,
   "id": "2da7bf07-86ce-42f0-b009-cb5ec8cf7cce",
   "metadata": {},
   "outputs": [],
   "source": []
  }
 ],
 "metadata": {
  "kernelspec": {
   "display_name": "python38",
   "language": "python",
   "name": "python38"
  },
  "language_info": {
   "codemirror_mode": {
    "name": "ipython",
    "version": 3
   },
   "file_extension": ".py",
   "mimetype": "text/x-python",
   "name": "python",
   "nbconvert_exporter": "python",
   "pygments_lexer": "ipython3",
   "version": "3.8.8"
  }
 },
 "nbformat": 4,
 "nbformat_minor": 5
}
